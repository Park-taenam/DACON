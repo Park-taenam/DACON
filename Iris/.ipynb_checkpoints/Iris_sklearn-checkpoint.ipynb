{
 "cells": [
  {
   "cell_type": "markdown",
   "metadata": {
    "ExecuteTime": {
     "end_time": "2021-12-21T08:54:25.078844Z",
     "start_time": "2021-12-21T08:54:25.067846Z"
    }
   },
   "source": [
    "# Iris\n",
    "- 학습 데이터가 적을 때 활용되는 K-fold를 사용\n",
    "- 2가지 방식의 모델(Multi-layer perceptron과 LinearRegression)으로 수행"
   ]
  },
  {
   "cell_type": "code",
   "execution_count": 3,
   "metadata": {
    "ExecuteTime": {
     "end_time": "2021-12-21T08:56:28.752163Z",
     "start_time": "2021-12-21T08:56:28.749157Z"
    }
   },
   "outputs": [],
   "source": [
    "import os\n",
    "import pandas as pd\n",
    "import numpy as np\n",
    "\n",
    "# Multi-layer perceptron 모델 구성\n",
    "from sklearn.neural_network import MLPRegressor\n",
    "\n",
    "# LinearRegression 모델 구성\n",
    "from sklearn.linear_model import LinearRegression\n",
    "\n",
    "# K-fold\n",
    "from sklearn.model_selection import KFold"
   ]
  },
  {
   "cell_type": "markdown",
   "metadata": {},
   "source": [
    "# Data"
   ]
  },
  {
   "cell_type": "code",
   "execution_count": 4,
   "metadata": {
    "ExecuteTime": {
     "end_time": "2021-12-21T08:56:31.734333Z",
     "start_time": "2021-12-21T08:56:31.730297Z"
    },
    "scrolled": true
   },
   "outputs": [
    {
     "name": "stdout",
     "output_type": "stream",
     "text": [
      "Current Working Directory:  C:\\Users\\User\\Desktop\\workspace\\DACON\\Iris\n"
     ]
    }
   ],
   "source": [
    "cwd = os.getcwd()\n",
    "print('Current Working Directory: ', cwd)"
   ]
  },
  {
   "cell_type": "code",
   "execution_count": 6,
   "metadata": {
    "ExecuteTime": {
     "end_time": "2021-12-21T08:56:42.462836Z",
     "start_time": "2021-12-21T08:56:42.449703Z"
    }
   },
   "outputs": [],
   "source": [
    "iris_path = os.path.join(cwd, 'data', 'iris_train.csv')\n",
    "train_df = pd.read_csv(iris_path)"
   ]
  },
  {
   "cell_type": "code",
   "execution_count": 7,
   "metadata": {
    "ExecuteTime": {
     "end_time": "2021-12-21T08:56:49.697916Z",
     "start_time": "2021-12-21T08:56:49.674882Z"
    }
   },
   "outputs": [
    {
     "data": {
      "text/html": [
       "<div>\n",
       "<style scoped>\n",
       "    .dataframe tbody tr th:only-of-type {\n",
       "        vertical-align: middle;\n",
       "    }\n",
       "\n",
       "    .dataframe tbody tr th {\n",
       "        vertical-align: top;\n",
       "    }\n",
       "\n",
       "    .dataframe thead th {\n",
       "        text-align: right;\n",
       "    }\n",
       "</style>\n",
       "<table border=\"1\" class=\"dataframe\">\n",
       "  <thead>\n",
       "    <tr style=\"text-align: right;\">\n",
       "      <th></th>\n",
       "      <th>id</th>\n",
       "      <th>species</th>\n",
       "      <th>sepal length (cm)</th>\n",
       "      <th>petal length (cm)</th>\n",
       "      <th>sepal width (cm)</th>\n",
       "      <th>petal width (cm)</th>\n",
       "    </tr>\n",
       "  </thead>\n",
       "  <tbody>\n",
       "    <tr>\n",
       "      <th>0</th>\n",
       "      <td>0</td>\n",
       "      <td>setosa</td>\n",
       "      <td>4.4</td>\n",
       "      <td>1.4</td>\n",
       "      <td>2.9</td>\n",
       "      <td>0.2</td>\n",
       "    </tr>\n",
       "    <tr>\n",
       "      <th>1</th>\n",
       "      <td>1</td>\n",
       "      <td>versicolor</td>\n",
       "      <td>6.4</td>\n",
       "      <td>4.5</td>\n",
       "      <td>3.2</td>\n",
       "      <td>1.5</td>\n",
       "    </tr>\n",
       "    <tr>\n",
       "      <th>2</th>\n",
       "      <td>2</td>\n",
       "      <td>virginica</td>\n",
       "      <td>6.2</td>\n",
       "      <td>4.8</td>\n",
       "      <td>2.8</td>\n",
       "      <td>1.8</td>\n",
       "    </tr>\n",
       "    <tr>\n",
       "      <th>3</th>\n",
       "      <td>3</td>\n",
       "      <td>virginica</td>\n",
       "      <td>7.2</td>\n",
       "      <td>6.1</td>\n",
       "      <td>3.6</td>\n",
       "      <td>2.5</td>\n",
       "    </tr>\n",
       "    <tr>\n",
       "      <th>4</th>\n",
       "      <td>4</td>\n",
       "      <td>setosa</td>\n",
       "      <td>4.9</td>\n",
       "      <td>1.4</td>\n",
       "      <td>3.0</td>\n",
       "      <td>0.2</td>\n",
       "    </tr>\n",
       "  </tbody>\n",
       "</table>\n",
       "</div>"
      ],
      "text/plain": [
       "   id     species  sepal length (cm)  petal length (cm)  sepal width (cm)  \\\n",
       "0   0      setosa                4.4                1.4               2.9   \n",
       "1   1  versicolor                6.4                4.5               3.2   \n",
       "2   2   virginica                6.2                4.8               2.8   \n",
       "3   3   virginica                7.2                6.1               3.6   \n",
       "4   4      setosa                4.9                1.4               3.0   \n",
       "\n",
       "   petal width (cm)  \n",
       "0               0.2  \n",
       "1               1.5  \n",
       "2               1.8  \n",
       "3               2.5  \n",
       "4               0.2  "
      ]
     },
     "execution_count": 7,
     "metadata": {},
     "output_type": "execute_result"
    }
   ],
   "source": [
    "train_df.head()"
   ]
  },
  {
   "cell_type": "code",
   "execution_count": 8,
   "metadata": {
    "ExecuteTime": {
     "end_time": "2021-12-21T08:57:25.790813Z",
     "start_time": "2021-12-21T08:57:25.779825Z"
    }
   },
   "outputs": [],
   "source": [
    "# 문자형 0,1,2로 변경\n",
    "# One-hot encoding 하는게 더 성능 좋을 듯\n",
    "train_df['species'] = train_df['species'].map({'setosa':0, 'versicolor': 1, 'virginica': 2})\n",
    "\n",
    "X, Y = train_df.iloc[:,1:4] , train_df.iloc[:, 4:]"
   ]
  },
  {
   "cell_type": "markdown",
   "metadata": {},
   "source": [
    "# K-fold\n",
    "- 데이터 양이 적다 생각하여 K-fold 기법을 고려\n",
    "- K-fold란 학습 데이터를 K개로 분할하여 K-1 개로 학습하고 나머지 갯수로 평가하는 방법"
   ]
  },
  {
   "cell_type": "code",
   "execution_count": 10,
   "metadata": {
    "ExecuteTime": {
     "end_time": "2021-12-21T08:59:28.449729Z",
     "start_time": "2021-12-21T08:59:28.441244Z"
    }
   },
   "outputs": [
    {
     "data": {
      "text/html": [
       "<img src=\"https://upload.wikimedia.org/wikipedia/commons/thumb/b/b5/K-fold_cross_validation_EN.svg/521px-K-fold_cross_validation_EN.svg.png\"/>"
      ],
      "text/plain": [
       "<IPython.core.display.Image object>"
      ]
     },
     "execution_count": 10,
     "metadata": {},
     "output_type": "execute_result"
    }
   ],
   "source": [
    "from IPython.display import Image\n",
    "Image(url='https://upload.wikimedia.org/wikipedia/commons/thumb/b/b5/K-fold_cross_validation_EN.svg/521px-K-fold_cross_validation_EN.svg.png')"
   ]
  },
  {
   "cell_type": "code",
   "execution_count": 11,
   "metadata": {
    "ExecuteTime": {
     "end_time": "2021-12-21T09:00:10.414879Z",
     "start_time": "2021-12-21T09:00:10.372877Z"
    }
   },
   "outputs": [],
   "source": [
    "def MAE(true, pred):\n",
    "    score = np.mean(np.abs(true-pred))\n",
    "    return score\n",
    "\n",
    "\n",
    "model_arr = []\n",
    "MAE_error_record = []\n",
    "\n",
    "split_count = 5 # 5개로 분할\n",
    "\n",
    "kf = KFold(n_splits= split_count)\n",
    "kf.get_n_splits(X)\n",
    "\n",
    "for train_index, test_index in kf.split(X):\n",
    "\n",
    "    x_train, x_test = X.values[train_index], X.values[test_index]\n",
    "    y_train, y_test = Y.values[train_index], Y.values[test_index]\n",
    "    \n",
    "    # multi-layer perceptron model. 으로 해봤을때 성능 확인\n",
    "    # created_model = MLPRegressor().fit(x_train, y_train)\n",
    "\n",
    "    # LinearRegression 으로 확인\n",
    "    created_model = LinearRegression().fit(x_train, y_train)\n",
    "    \n",
    "    pred = created_model.predict(x_test)\n",
    "    \n",
    "    MAE_error_record.append(MAE(y_test, pred))\n",
    "        \n",
    "    model_arr.append(created_model)"
   ]
  },
  {
   "cell_type": "code",
   "execution_count": 12,
   "metadata": {
    "ExecuteTime": {
     "end_time": "2021-12-21T09:00:11.545463Z",
     "start_time": "2021-12-21T09:00:11.539469Z"
    }
   },
   "outputs": [
    {
     "name": "stdout",
     "output_type": "stream",
     "text": [
      "[LinearRegression(), LinearRegression(), LinearRegression(), LinearRegression(), LinearRegression()]\n",
      "[0.1980414907582519, 0.18687865136313336, 0.19352196334840513, 0.2173408938069676, 0.18507301564446058]\n"
     ]
    }
   ],
   "source": [
    "print(model_arr)\n",
    "print(MAE_error_record)"
   ]
  },
  {
   "cell_type": "code",
   "execution_count": 14,
   "metadata": {
    "ExecuteTime": {
     "end_time": "2021-12-21T09:00:21.836876Z",
     "start_time": "2021-12-21T09:00:21.829870Z"
    }
   },
   "outputs": [
    {
     "name": "stdout",
     "output_type": "stream",
     "text": [
      "Find model Num :  4 \n"
     ]
    }
   ],
   "source": [
    "# K-fold의 분류 수 만큼, 모델을 생성 한 뒤 모델 중 가장 MSE Error 값이 낮은 모델을 선정\n",
    "find_model_num = np.where(MAE_error_record == np.min(MAE_error_record))[0][0]\n",
    "print(f\"Find model Num :  {find_model_num} \")\n",
    "\n",
    "final_model = model_arr[find_model_num]"
   ]
  },
  {
   "cell_type": "code",
   "execution_count": null,
   "metadata": {},
   "outputs": [],
   "source": [
    "total_result = np.zeros_like(y_result)\n",
    "\n",
    "for each_model in model_arr:\n",
    "    \n",
    "    each_result = each_model.predict(x_result)\n",
    "    \n",
    "    total_result += each_result\n",
    "    \n",
    "total_result /= split_cou"
   ]
  },
  {
   "cell_type": "code",
   "execution_count": 16,
   "metadata": {
    "ExecuteTime": {
     "end_time": "2021-12-21T09:01:36.324042Z",
     "start_time": "2021-12-21T09:01:36.301752Z"
    }
   },
   "outputs": [],
   "source": [
    "# test 결과 값 추정\n",
    "\n",
    "test_path = os.path.join(cwd, 'data', 'iris_test.csv')\n",
    "result_df = pd.read_csv(test_path)\n",
    "result_df['species'] = result_df['species'].map({'setosa':0, 'versicolor': 1, 'virginica': 2})\n",
    "\n",
    "x_result = result_df.iloc[:,1:4]\n",
    "\n",
    "y_result = final_model.predict(x_result)"
   ]
  },
  {
   "cell_type": "code",
   "execution_count": 18,
   "metadata": {
    "ExecuteTime": {
     "end_time": "2021-12-21T09:02:26.536565Z",
     "start_time": "2021-12-21T09:02:26.525035Z"
    }
   },
   "outputs": [],
   "source": [
    "submission_path = os.path.join(cwd, 'data', 'sample_submission.csv')\n",
    "submission = pd.read_csv(submission_path)\n",
    "submission['sepal width (cm)'] = y_result[:,0]\n",
    "submission['petal width (cm)'] = y_result[:,1]"
   ]
  },
  {
   "cell_type": "code",
   "execution_count": 19,
   "metadata": {
    "ExecuteTime": {
     "end_time": "2021-12-21T09:02:29.436534Z",
     "start_time": "2021-12-21T09:02:29.423528Z"
    }
   },
   "outputs": [
    {
     "data": {
      "text/html": [
       "<div>\n",
       "<style scoped>\n",
       "    .dataframe tbody tr th:only-of-type {\n",
       "        vertical-align: middle;\n",
       "    }\n",
       "\n",
       "    .dataframe tbody tr th {\n",
       "        vertical-align: top;\n",
       "    }\n",
       "\n",
       "    .dataframe thead th {\n",
       "        text-align: right;\n",
       "    }\n",
       "</style>\n",
       "<table border=\"1\" class=\"dataframe\">\n",
       "  <thead>\n",
       "    <tr style=\"text-align: right;\">\n",
       "      <th></th>\n",
       "      <th>id</th>\n",
       "      <th>sepal width (cm)</th>\n",
       "      <th>petal width (cm)</th>\n",
       "    </tr>\n",
       "  </thead>\n",
       "  <tbody>\n",
       "    <tr>\n",
       "      <th>0</th>\n",
       "      <td>0</td>\n",
       "      <td>3.417809</td>\n",
       "      <td>0.270480</td>\n",
       "    </tr>\n",
       "    <tr>\n",
       "      <th>1</th>\n",
       "      <td>1</td>\n",
       "      <td>3.673326</td>\n",
       "      <td>0.193732</td>\n",
       "    </tr>\n",
       "    <tr>\n",
       "      <th>2</th>\n",
       "      <td>2</td>\n",
       "      <td>3.438741</td>\n",
       "      <td>0.214456</td>\n",
       "    </tr>\n",
       "    <tr>\n",
       "      <th>3</th>\n",
       "      <td>3</td>\n",
       "      <td>3.162292</td>\n",
       "      <td>0.347227</td>\n",
       "    </tr>\n",
       "    <tr>\n",
       "      <th>4</th>\n",
       "      <td>4</td>\n",
       "      <td>2.858291</td>\n",
       "      <td>1.779679</td>\n",
       "    </tr>\n",
       "    <tr>\n",
       "      <th>...</th>\n",
       "      <td>...</td>\n",
       "      <td>...</td>\n",
       "      <td>...</td>\n",
       "    </tr>\n",
       "    <tr>\n",
       "      <th>70</th>\n",
       "      <td>70</td>\n",
       "      <td>2.898277</td>\n",
       "      <td>1.249416</td>\n",
       "    </tr>\n",
       "    <tr>\n",
       "      <th>71</th>\n",
       "      <td>71</td>\n",
       "      <td>2.990503</td>\n",
       "      <td>0.199879</td>\n",
       "    </tr>\n",
       "    <tr>\n",
       "      <th>72</th>\n",
       "      <td>72</td>\n",
       "      <td>2.715916</td>\n",
       "      <td>2.008955</td>\n",
       "    </tr>\n",
       "    <tr>\n",
       "      <th>73</th>\n",
       "      <td>73</td>\n",
       "      <td>2.885645</td>\n",
       "      <td>0.979658</td>\n",
       "    </tr>\n",
       "    <tr>\n",
       "      <th>74</th>\n",
       "      <td>74</td>\n",
       "      <td>2.680277</td>\n",
       "      <td>1.876667</td>\n",
       "    </tr>\n",
       "  </tbody>\n",
       "</table>\n",
       "<p>75 rows × 3 columns</p>\n",
       "</div>"
      ],
      "text/plain": [
       "    id  sepal width (cm)  petal width (cm)\n",
       "0    0          3.417809          0.270480\n",
       "1    1          3.673326          0.193732\n",
       "2    2          3.438741          0.214456\n",
       "3    3          3.162292          0.347227\n",
       "4    4          2.858291          1.779679\n",
       "..  ..               ...               ...\n",
       "70  70          2.898277          1.249416\n",
       "71  71          2.990503          0.199879\n",
       "72  72          2.715916          2.008955\n",
       "73  73          2.885645          0.979658\n",
       "74  74          2.680277          1.876667\n",
       "\n",
       "[75 rows x 3 columns]"
      ]
     },
     "execution_count": 19,
     "metadata": {},
     "output_type": "execute_result"
    }
   ],
   "source": [
    "submission"
   ]
  },
  {
   "cell_type": "code",
   "execution_count": 22,
   "metadata": {
    "ExecuteTime": {
     "end_time": "2021-12-21T09:03:18.773315Z",
     "start_time": "2021-12-21T09:03:18.763321Z"
    }
   },
   "outputs": [],
   "source": [
    "submission.to_csv(\"kfold_submission.csv\", index=False)"
   ]
  },
  {
   "cell_type": "markdown",
   "metadata": {
    "ExecuteTime": {
     "end_time": "2021-12-21T09:04:53.919016Z",
     "start_time": "2021-12-21T09:04:53.911014Z"
    }
   },
   "source": [
    "추가, 본 코드에서는 MAE 값이 가장 작은 모델을 선정하였지만.\n",
    "\n",
    "모든 모델의 predict 값을 낸 뒤 평균을 내는 방법도 있습니다."
   ]
  },
  {
   "cell_type": "code",
   "execution_count": 24,
   "metadata": {
    "ExecuteTime": {
     "end_time": "2021-12-21T09:04:58.964700Z",
     "start_time": "2021-12-21T09:04:58.950695Z"
    }
   },
   "outputs": [],
   "source": [
    "total_result = np.zeros_like(y_result)\n",
    "\n",
    "for each_model in model_arr:\n",
    "    \n",
    "    each_result = each_model.predict(x_result)\n",
    "    \n",
    "    total_result += each_result\n",
    "    \n",
    "total_result /= split_count"
   ]
  },
  {
   "cell_type": "code",
   "execution_count": 26,
   "metadata": {
    "ExecuteTime": {
     "end_time": "2021-12-21T09:05:31.964300Z",
     "start_time": "2021-12-21T09:05:31.957342Z"
    }
   },
   "outputs": [],
   "source": [
    "submission_path = os.path.join(cwd, 'data', 'sample_submission.csv')\n",
    "submission2 = pd.read_csv(submission_path)\n",
    "submission2['sepal width (cm)'] = y_result[:,0]\n",
    "submission2['petal width (cm)'] = y_result[:,1]\n",
    "\n",
    "# submission2.to_csv(\"result2.csv\", index=False)"
   ]
  }
 ],
 "metadata": {
  "hide_input": false,
  "kernelspec": {
   "display_name": "Python 3",
   "language": "python",
   "name": "python3"
  },
  "language_info": {
   "codemirror_mode": {
    "name": "ipython",
    "version": 3
   },
   "file_extension": ".py",
   "mimetype": "text/x-python",
   "name": "python",
   "nbconvert_exporter": "python",
   "pygments_lexer": "ipython3",
   "version": "3.8.3"
  },
  "toc": {
   "base_numbering": 1,
   "nav_menu": {},
   "number_sections": true,
   "sideBar": true,
   "skip_h1_title": false,
   "title_cell": "Table of Contents",
   "title_sidebar": "Contents",
   "toc_cell": false,
   "toc_position": {},
   "toc_section_display": true,
   "toc_window_display": false
  },
  "varInspector": {
   "cols": {
    "lenName": 16,
    "lenType": 16,
    "lenVar": 40
   },
   "kernels_config": {
    "python": {
     "delete_cmd_postfix": "",
     "delete_cmd_prefix": "del ",
     "library": "var_list.py",
     "varRefreshCmd": "print(var_dic_list())"
    },
    "r": {
     "delete_cmd_postfix": ") ",
     "delete_cmd_prefix": "rm(",
     "library": "var_list.r",
     "varRefreshCmd": "cat(var_dic_list()) "
    }
   },
   "types_to_exclude": [
    "module",
    "function",
    "builtin_function_or_method",
    "instance",
    "_Feature"
   ],
   "window_display": false
  }
 },
 "nbformat": 4,
 "nbformat_minor": 4
}
