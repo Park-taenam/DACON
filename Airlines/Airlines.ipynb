{
 "cells": [
  {
   "cell_type": "markdown",
   "metadata": {},
   "source": [
    "# Airlines\n",
    "\n",
    "> 대회 안내\n",
    "- target : 0 or 1 -> 분류\n",
    "\n",
    "> 평가 산식\n",
    "- Accuracy"
   ]
  },
  {
   "cell_type": "code",
   "execution_count": 97,
   "metadata": {
    "ExecuteTime": {
     "end_time": "2022-02-09T08:23:50.354558Z",
     "start_time": "2022-02-09T08:23:50.338514Z"
    }
   },
   "outputs": [],
   "source": [
    "import pandas as pd\n",
    "import numpy as np\n",
    "import matplotlib\n",
    "import matplotlib.pyplot as plt\n",
    "import seaborn as sns\n",
    "\n",
    "from scipy import stats\n",
    "\n",
    "import warnings\n",
    "warnings.filterwarnings('ignore')\n",
    "\n",
    "%matplotlib inline\n",
    "matplotlib.rc('figure', facecolor='w', edgecolor='w')"
   ]
  },
  {
   "cell_type": "markdown",
   "metadata": {},
   "source": [
    "# Data\n",
    "\n",
    "> Null\n",
    "- Null 값은 없음"
   ]
  },
  {
   "cell_type": "code",
   "execution_count": 2,
   "metadata": {
    "ExecuteTime": {
     "end_time": "2022-02-09T06:29:03.528341Z",
     "start_time": "2022-02-09T06:29:03.467208Z"
    }
   },
   "outputs": [],
   "source": [
    "df_train = pd.read_csv('./data/train.csv')\n",
    "df_test = pd.read_csv('./data/test.csv')"
   ]
  },
  {
   "cell_type": "code",
   "execution_count": 3,
   "metadata": {
    "ExecuteTime": {
     "end_time": "2022-02-09T06:29:03.544216Z",
     "start_time": "2022-02-09T06:29:03.530208Z"
    }
   },
   "outputs": [],
   "source": [
    "# id 행 제거\n",
    "df_train.drop('id', axis=1, inplace=True)\n",
    "df_test.drop('id', axis=1, inplace=True)"
   ]
  },
  {
   "cell_type": "code",
   "execution_count": 4,
   "metadata": {
    "ExecuteTime": {
     "end_time": "2022-02-09T06:29:03.559212Z",
     "start_time": "2022-02-09T06:29:03.546211Z"
    }
   },
   "outputs": [
    {
     "name": "stdout",
     "output_type": "stream",
     "text": [
      "train's shape : (3000, 23)\n",
      "test's shape : (2000, 22)\n"
     ]
    }
   ],
   "source": [
    "print(\"train's shape : {}\".format(df_train.shape))\n",
    "print(\"test's shape : {}\".format(df_test.shape))"
   ]
  },
  {
   "cell_type": "code",
   "execution_count": 5,
   "metadata": {
    "ExecuteTime": {
     "end_time": "2022-02-09T06:29:03.606380Z",
     "start_time": "2022-02-09T06:29:03.564216Z"
    }
   },
   "outputs": [
    {
     "name": "stdout",
     "output_type": "stream",
     "text": [
      "<class 'pandas.core.frame.DataFrame'>\n",
      "RangeIndex: 3000 entries, 0 to 2999\n",
      "Data columns (total 23 columns):\n",
      " #   Column                             Non-Null Count  Dtype  \n",
      "---  ------                             --------------  -----  \n",
      " 0   Gender                             3000 non-null   object \n",
      " 1   Customer Type                      3000 non-null   object \n",
      " 2   Age                                3000 non-null   int64  \n",
      " 3   Type of Travel                     3000 non-null   object \n",
      " 4   Class                              3000 non-null   object \n",
      " 5   Flight Distance                    3000 non-null   int64  \n",
      " 6   Seat comfort                       3000 non-null   int64  \n",
      " 7   Departure/Arrival time convenient  3000 non-null   int64  \n",
      " 8   Food and drink                     3000 non-null   int64  \n",
      " 9   Gate location                      3000 non-null   int64  \n",
      " 10  Inflight wifi service              3000 non-null   int64  \n",
      " 11  Inflight entertainment             3000 non-null   int64  \n",
      " 12  Online support                     3000 non-null   int64  \n",
      " 13  Ease of Online booking             3000 non-null   int64  \n",
      " 14  On-board service                   3000 non-null   int64  \n",
      " 15  Leg room service                   3000 non-null   int64  \n",
      " 16  Baggage handling                   3000 non-null   int64  \n",
      " 17  Checkin service                    3000 non-null   int64  \n",
      " 18  Cleanliness                        3000 non-null   int64  \n",
      " 19  Online boarding                    3000 non-null   int64  \n",
      " 20  Departure Delay in Minutes         3000 non-null   int64  \n",
      " 21  Arrival Delay in Minutes           3000 non-null   float64\n",
      " 22  target                             3000 non-null   int64  \n",
      "dtypes: float64(1), int64(18), object(4)\n",
      "memory usage: 539.2+ KB\n"
     ]
    }
   ],
   "source": [
    "df_train.info()"
   ]
  },
  {
   "cell_type": "code",
   "execution_count": 6,
   "metadata": {
    "ExecuteTime": {
     "end_time": "2022-02-09T06:29:03.654210Z",
     "start_time": "2022-02-09T06:29:03.612264Z"
    }
   },
   "outputs": [
    {
     "data": {
      "text/html": [
       "<div>\n",
       "<style scoped>\n",
       "    .dataframe tbody tr th:only-of-type {\n",
       "        vertical-align: middle;\n",
       "    }\n",
       "\n",
       "    .dataframe tbody tr th {\n",
       "        vertical-align: top;\n",
       "    }\n",
       "\n",
       "    .dataframe thead th {\n",
       "        text-align: right;\n",
       "    }\n",
       "</style>\n",
       "<table border=\"1\" class=\"dataframe\">\n",
       "  <thead>\n",
       "    <tr style=\"text-align: right;\">\n",
       "      <th></th>\n",
       "      <th>Gender</th>\n",
       "      <th>Customer Type</th>\n",
       "      <th>Age</th>\n",
       "      <th>Type of Travel</th>\n",
       "      <th>Class</th>\n",
       "      <th>Flight Distance</th>\n",
       "      <th>Seat comfort</th>\n",
       "      <th>Departure/Arrival time convenient</th>\n",
       "      <th>Food and drink</th>\n",
       "      <th>Gate location</th>\n",
       "      <th>...</th>\n",
       "      <th>Ease of Online booking</th>\n",
       "      <th>On-board service</th>\n",
       "      <th>Leg room service</th>\n",
       "      <th>Baggage handling</th>\n",
       "      <th>Checkin service</th>\n",
       "      <th>Cleanliness</th>\n",
       "      <th>Online boarding</th>\n",
       "      <th>Departure Delay in Minutes</th>\n",
       "      <th>Arrival Delay in Minutes</th>\n",
       "      <th>target</th>\n",
       "    </tr>\n",
       "  </thead>\n",
       "  <tbody>\n",
       "    <tr>\n",
       "      <th>0</th>\n",
       "      <td>Female</td>\n",
       "      <td>disloyal Customer</td>\n",
       "      <td>22</td>\n",
       "      <td>Business travel</td>\n",
       "      <td>Eco</td>\n",
       "      <td>1599</td>\n",
       "      <td>3</td>\n",
       "      <td>0</td>\n",
       "      <td>3</td>\n",
       "      <td>3</td>\n",
       "      <td>...</td>\n",
       "      <td>4</td>\n",
       "      <td>5</td>\n",
       "      <td>4</td>\n",
       "      <td>4</td>\n",
       "      <td>4</td>\n",
       "      <td>5</td>\n",
       "      <td>4</td>\n",
       "      <td>0</td>\n",
       "      <td>0.0</td>\n",
       "      <td>0</td>\n",
       "    </tr>\n",
       "    <tr>\n",
       "      <th>1</th>\n",
       "      <td>Female</td>\n",
       "      <td>Loyal Customer</td>\n",
       "      <td>37</td>\n",
       "      <td>Business travel</td>\n",
       "      <td>Business</td>\n",
       "      <td>2810</td>\n",
       "      <td>2</td>\n",
       "      <td>4</td>\n",
       "      <td>4</td>\n",
       "      <td>4</td>\n",
       "      <td>...</td>\n",
       "      <td>5</td>\n",
       "      <td>5</td>\n",
       "      <td>4</td>\n",
       "      <td>2</td>\n",
       "      <td>1</td>\n",
       "      <td>5</td>\n",
       "      <td>2</td>\n",
       "      <td>18</td>\n",
       "      <td>18.0</td>\n",
       "      <td>0</td>\n",
       "    </tr>\n",
       "    <tr>\n",
       "      <th>2</th>\n",
       "      <td>Male</td>\n",
       "      <td>Loyal Customer</td>\n",
       "      <td>46</td>\n",
       "      <td>Business travel</td>\n",
       "      <td>Business</td>\n",
       "      <td>2622</td>\n",
       "      <td>1</td>\n",
       "      <td>1</td>\n",
       "      <td>1</td>\n",
       "      <td>1</td>\n",
       "      <td>...</td>\n",
       "      <td>4</td>\n",
       "      <td>4</td>\n",
       "      <td>4</td>\n",
       "      <td>4</td>\n",
       "      <td>5</td>\n",
       "      <td>4</td>\n",
       "      <td>3</td>\n",
       "      <td>0</td>\n",
       "      <td>0.0</td>\n",
       "      <td>1</td>\n",
       "    </tr>\n",
       "    <tr>\n",
       "      <th>3</th>\n",
       "      <td>Female</td>\n",
       "      <td>disloyal Customer</td>\n",
       "      <td>24</td>\n",
       "      <td>Business travel</td>\n",
       "      <td>Eco</td>\n",
       "      <td>2348</td>\n",
       "      <td>3</td>\n",
       "      <td>3</td>\n",
       "      <td>3</td>\n",
       "      <td>3</td>\n",
       "      <td>...</td>\n",
       "      <td>3</td>\n",
       "      <td>2</td>\n",
       "      <td>4</td>\n",
       "      <td>5</td>\n",
       "      <td>3</td>\n",
       "      <td>4</td>\n",
       "      <td>3</td>\n",
       "      <td>10</td>\n",
       "      <td>2.0</td>\n",
       "      <td>0</td>\n",
       "    </tr>\n",
       "    <tr>\n",
       "      <th>4</th>\n",
       "      <td>Female</td>\n",
       "      <td>Loyal Customer</td>\n",
       "      <td>58</td>\n",
       "      <td>Business travel</td>\n",
       "      <td>Business</td>\n",
       "      <td>105</td>\n",
       "      <td>3</td>\n",
       "      <td>3</td>\n",
       "      <td>3</td>\n",
       "      <td>3</td>\n",
       "      <td>...</td>\n",
       "      <td>4</td>\n",
       "      <td>4</td>\n",
       "      <td>4</td>\n",
       "      <td>4</td>\n",
       "      <td>4</td>\n",
       "      <td>4</td>\n",
       "      <td>5</td>\n",
       "      <td>0</td>\n",
       "      <td>0.0</td>\n",
       "      <td>1</td>\n",
       "    </tr>\n",
       "  </tbody>\n",
       "</table>\n",
       "<p>5 rows × 23 columns</p>\n",
       "</div>"
      ],
      "text/plain": [
       "   Gender      Customer Type  Age   Type of Travel     Class  Flight Distance  \\\n",
       "0  Female  disloyal Customer   22  Business travel       Eco             1599   \n",
       "1  Female     Loyal Customer   37  Business travel  Business             2810   \n",
       "2    Male     Loyal Customer   46  Business travel  Business             2622   \n",
       "3  Female  disloyal Customer   24  Business travel       Eco             2348   \n",
       "4  Female     Loyal Customer   58  Business travel  Business              105   \n",
       "\n",
       "   Seat comfort  Departure/Arrival time convenient  Food and drink  \\\n",
       "0             3                                  0               3   \n",
       "1             2                                  4               4   \n",
       "2             1                                  1               1   \n",
       "3             3                                  3               3   \n",
       "4             3                                  3               3   \n",
       "\n",
       "   Gate location  ...  Ease of Online booking  On-board service  \\\n",
       "0              3  ...                       4                 5   \n",
       "1              4  ...                       5                 5   \n",
       "2              1  ...                       4                 4   \n",
       "3              3  ...                       3                 2   \n",
       "4              3  ...                       4                 4   \n",
       "\n",
       "   Leg room service  Baggage handling  Checkin service  Cleanliness  \\\n",
       "0                 4                 4                4            5   \n",
       "1                 4                 2                1            5   \n",
       "2                 4                 4                5            4   \n",
       "3                 4                 5                3            4   \n",
       "4                 4                 4                4            4   \n",
       "\n",
       "   Online boarding  Departure Delay in Minutes  Arrival Delay in Minutes  \\\n",
       "0                4                           0                       0.0   \n",
       "1                2                          18                      18.0   \n",
       "2                3                           0                       0.0   \n",
       "3                3                          10                       2.0   \n",
       "4                5                           0                       0.0   \n",
       "\n",
       "   target  \n",
       "0       0  \n",
       "1       0  \n",
       "2       1  \n",
       "3       0  \n",
       "4       1  \n",
       "\n",
       "[5 rows x 23 columns]"
      ]
     },
     "execution_count": 6,
     "metadata": {},
     "output_type": "execute_result"
    }
   ],
   "source": [
    "df_train.head()"
   ]
  },
  {
   "cell_type": "markdown",
   "metadata": {},
   "source": [
    "# EDA"
   ]
  },
  {
   "cell_type": "code",
   "execution_count": 14,
   "metadata": {
    "ExecuteTime": {
     "end_time": "2022-02-09T06:34:04.371259Z",
     "start_time": "2022-02-09T06:34:04.359228Z"
    }
   },
   "outputs": [
    {
     "data": {
      "text/plain": [
       "Index(['Gender', 'Customer Type', 'Age', 'Type of Travel', 'Class',\n",
       "       'Flight Distance', 'Seat comfort', 'Departure/Arrival time convenient',\n",
       "       'Food and drink', 'Gate location', 'Inflight wifi service',\n",
       "       'Inflight entertainment', 'Online support', 'Ease of Online booking',\n",
       "       'On-board service', 'Leg room service', 'Baggage handling',\n",
       "       'Checkin service', 'Cleanliness', 'Online boarding',\n",
       "       'Departure Delay in Minutes', 'Arrival Delay in Minutes', 'target'],\n",
       "      dtype='object')"
      ]
     },
     "execution_count": 14,
     "metadata": {},
     "output_type": "execute_result"
    }
   ],
   "source": [
    "df_train.columns"
   ]
  },
  {
   "cell_type": "markdown",
   "metadata": {},
   "source": [
    "## Target"
   ]
  },
  {
   "cell_type": "code",
   "execution_count": 64,
   "metadata": {
    "ExecuteTime": {
     "end_time": "2022-02-09T07:02:09.251064Z",
     "start_time": "2022-02-09T07:02:09.227827Z"
    }
   },
   "outputs": [
    {
     "data": {
      "text/plain": [
       "1    1668\n",
       "0    1332\n",
       "Name: target, dtype: int64"
      ]
     },
     "execution_count": 64,
     "metadata": {},
     "output_type": "execute_result"
    }
   ],
   "source": [
    "df_train['target'].value_counts()"
   ]
  },
  {
   "cell_type": "markdown",
   "metadata": {},
   "source": [
    "## 범주형 & 이산형"
   ]
  },
  {
   "cell_type": "code",
   "execution_count": 38,
   "metadata": {
    "ExecuteTime": {
     "end_time": "2022-02-09T06:48:47.550677Z",
     "start_time": "2022-02-09T06:48:47.535884Z"
    }
   },
   "outputs": [],
   "source": [
    "def discrete_feat(feature):\n",
    "    print('value count : \\n{}\\n'.format(df_train[feature].value_counts().sort_index()))\n",
    "    print('그룹별 만족(target) value count : \\n{}\\n'.format(df_train['target'].groupby(df_train[feature]).sum().sort_index()))\n",
    "    print('그룹별 만족(target) 비율 : \\n{}\\n'.format(df_train['target'].groupby(df_train[feature]).mean().sort_index()))"
   ]
  },
  {
   "cell_type": "markdown",
   "metadata": {
    "ExecuteTime": {
     "end_time": "2022-02-08T14:52:53.722697Z",
     "start_time": "2022-02-08T14:52:53.703317Z"
    }
   },
   "source": [
    "### Gender\n",
    "\n",
    "> 성별 : Male / Female\n",
    "- 남자, 여자 수는 비슷함\n",
    "- 만족비율은 여자가 더 높음"
   ]
  },
  {
   "cell_type": "code",
   "execution_count": 39,
   "metadata": {
    "ExecuteTime": {
     "end_time": "2022-02-09T06:48:48.218802Z",
     "start_time": "2022-02-09T06:48:48.185118Z"
    }
   },
   "outputs": [
    {
     "name": "stdout",
     "output_type": "stream",
     "text": [
      "value count : \n",
      "Female    1498\n",
      "Male      1502\n",
      "Name: Gender, dtype: int64\n",
      "\n",
      "그룹별 만족(target) value count : \n",
      "Gender\n",
      "Female    1007\n",
      "Male       661\n",
      "Name: target, dtype: int64\n",
      "\n",
      "그룹별 만족(target) 비율 : \n",
      "Gender\n",
      "Female    0.67223\n",
      "Male      0.44008\n",
      "Name: target, dtype: float64\n",
      "\n"
     ]
    }
   ],
   "source": [
    "discrete_feat('Gender')"
   ]
  },
  {
   "cell_type": "markdown",
   "metadata": {},
   "source": [
    "### Customer Type"
   ]
  },
  {
   "cell_type": "code",
   "execution_count": 40,
   "metadata": {
    "ExecuteTime": {
     "end_time": "2022-02-09T06:48:48.529209Z",
     "start_time": "2022-02-09T06:48:48.505682Z"
    }
   },
   "outputs": [
    {
     "name": "stdout",
     "output_type": "stream",
     "text": [
      "value count : \n",
      "Loyal Customer       2489\n",
      "disloyal Customer     511\n",
      "Name: Customer Type, dtype: int64\n",
      "\n",
      "그룹별 만족(target) value count : \n",
      "Customer Type\n",
      "Loyal Customer       1536\n",
      "disloyal Customer     132\n",
      "Name: target, dtype: int64\n",
      "\n",
      "그룹별 만족(target) 비율 : \n",
      "Customer Type\n",
      "Loyal Customer       0.617115\n",
      "disloyal Customer    0.258317\n",
      "Name: target, dtype: float64\n",
      "\n"
     ]
    }
   ],
   "source": [
    "discrete_feat('Customer Type')"
   ]
  },
  {
   "cell_type": "markdown",
   "metadata": {},
   "source": [
    "### Type of Travel"
   ]
  },
  {
   "cell_type": "code",
   "execution_count": 41,
   "metadata": {
    "ExecuteTime": {
     "end_time": "2022-02-09T06:48:48.825260Z",
     "start_time": "2022-02-09T06:48:48.801613Z"
    }
   },
   "outputs": [
    {
     "name": "stdout",
     "output_type": "stream",
     "text": [
      "value count : \n",
      "Business travel    2053\n",
      "Personal Travel     947\n",
      "Name: Type of Travel, dtype: int64\n",
      "\n",
      "그룹별 만족(target) value count : \n",
      "Type of Travel\n",
      "Business travel    1234\n",
      "Personal Travel     434\n",
      "Name: target, dtype: int64\n",
      "\n",
      "그룹별 만족(target) 비율 : \n",
      "Type of Travel\n",
      "Business travel    0.601072\n",
      "Personal Travel    0.458289\n",
      "Name: target, dtype: float64\n",
      "\n"
     ]
    }
   ],
   "source": [
    "discrete_feat('Type of Travel')"
   ]
  },
  {
   "cell_type": "markdown",
   "metadata": {},
   "source": [
    "### Class"
   ]
  },
  {
   "cell_type": "code",
   "execution_count": 42,
   "metadata": {
    "ExecuteTime": {
     "end_time": "2022-02-09T06:48:49.133451Z",
     "start_time": "2022-02-09T06:48:49.108564Z"
    }
   },
   "outputs": [
    {
     "name": "stdout",
     "output_type": "stream",
     "text": [
      "value count : \n",
      "Business    1434\n",
      "Eco         1337\n",
      "Eco Plus     229\n",
      "Name: Class, dtype: int64\n",
      "\n",
      "그룹별 만족(target) value count : \n",
      "Class\n",
      "Business    1021\n",
      "Eco          546\n",
      "Eco Plus     101\n",
      "Name: target, dtype: int64\n",
      "\n",
      "그룹별 만족(target) 비율 : \n",
      "Class\n",
      "Business    0.711994\n",
      "Eco         0.408377\n",
      "Eco Plus    0.441048\n",
      "Name: target, dtype: float64\n",
      "\n"
     ]
    }
   ],
   "source": [
    "discrete_feat('Class')"
   ]
  },
  {
   "cell_type": "markdown",
   "metadata": {},
   "source": [
    "### Flight Distance\n",
    "\n",
    "> 비행 거리\n",
    "- 짧은 거리 간 사람들이 대부분 많족함\n",
    "- 오히려 먼 거리 간 사람들한테 항공사 측면에서 잘해준 듯"
   ]
  },
  {
   "cell_type": "code",
   "execution_count": 44,
   "metadata": {
    "ExecuteTime": {
     "end_time": "2022-02-09T06:48:49.599333Z",
     "start_time": "2022-02-09T06:48:49.582667Z"
    }
   },
   "outputs": [
    {
     "name": "stdout",
     "output_type": "stream",
     "text": [
      "value count : \n",
      "0    106\n",
      "1    476\n",
      "2    655\n",
      "3    680\n",
      "4    651\n",
      "5    432\n",
      "Name: Seat comfort, dtype: int64\n",
      "\n",
      "그룹별 만족(target) value count : \n",
      "Seat comfort\n",
      "0    105\n",
      "1    205\n",
      "2    229\n",
      "3    269\n",
      "4    430\n",
      "5    430\n",
      "Name: target, dtype: int64\n",
      "\n",
      "그룹별 만족(target) 비율 : \n",
      "Seat comfort\n",
      "0    0.990566\n",
      "1    0.430672\n",
      "2    0.349618\n",
      "3    0.395588\n",
      "4    0.660522\n",
      "5    0.995370\n",
      "Name: target, dtype: float64\n",
      "\n"
     ]
    }
   ],
   "source": [
    "discrete_feat('Seat comfort')"
   ]
  },
  {
   "cell_type": "markdown",
   "metadata": {
    "ExecuteTime": {
     "end_time": "2022-02-09T06:49:20.370388Z",
     "start_time": "2022-02-09T06:49:20.352450Z"
    }
   },
   "source": [
    "### Departure/Arrival time convenient\n",
    "\n",
    "> 출발/도착 시간 편의성\n",
    "- 모든 class가 비슷함 -> target 예측하는데 큰 영향 없을 듯 -> 피쳐 삭제"
   ]
  },
  {
   "cell_type": "code",
   "execution_count": 46,
   "metadata": {
    "ExecuteTime": {
     "end_time": "2022-02-09T06:49:28.782551Z",
     "start_time": "2022-02-09T06:49:28.759280Z"
    }
   },
   "outputs": [
    {
     "name": "stdout",
     "output_type": "stream",
     "text": [
      "value count : \n",
      "0    154\n",
      "1    453\n",
      "2    533\n",
      "3    562\n",
      "4    666\n",
      "5    632\n",
      "Name: Departure/Arrival time convenient, dtype: int64\n",
      "\n",
      "그룹별 만족(target) value count : \n",
      "Departure/Arrival time convenient\n",
      "0     90\n",
      "1    265\n",
      "2    278\n",
      "3    314\n",
      "4    372\n",
      "5    349\n",
      "Name: target, dtype: int64\n",
      "\n",
      "그룹별 만족(target) 비율 : \n",
      "Departure/Arrival time convenient\n",
      "0    0.584416\n",
      "1    0.584989\n",
      "2    0.521576\n",
      "3    0.558719\n",
      "4    0.558559\n",
      "5    0.552215\n",
      "Name: target, dtype: float64\n",
      "\n"
     ]
    }
   ],
   "source": [
    "discrete_feat('Departure/Arrival time convenient')"
   ]
  },
  {
   "cell_type": "markdown",
   "metadata": {},
   "source": [
    "### Food and drink"
   ]
  },
  {
   "cell_type": "code",
   "execution_count": 47,
   "metadata": {
    "ExecuteTime": {
     "end_time": "2022-02-09T06:50:38.305441Z",
     "start_time": "2022-02-09T06:50:38.277313Z"
    }
   },
   "outputs": [
    {
     "name": "stdout",
     "output_type": "stream",
     "text": [
      "value count : \n",
      "0    129\n",
      "1    474\n",
      "2    618\n",
      "3    674\n",
      "4    634\n",
      "5    471\n",
      "Name: Food and drink, dtype: int64\n",
      "\n",
      "그룹별 만족(target) value count : \n",
      "Food and drink\n",
      "0    107\n",
      "1    237\n",
      "2    264\n",
      "3    288\n",
      "4    385\n",
      "5    387\n",
      "Name: target, dtype: int64\n",
      "\n",
      "그룹별 만족(target) 비율 : \n",
      "Food and drink\n",
      "0    0.829457\n",
      "1    0.500000\n",
      "2    0.427184\n",
      "3    0.427300\n",
      "4    0.607256\n",
      "5    0.821656\n",
      "Name: target, dtype: float64\n",
      "\n"
     ]
    }
   ],
   "source": [
    "discrete_feat('Food and drink')"
   ]
  },
  {
   "cell_type": "markdown",
   "metadata": {},
   "source": [
    "### Gate location"
   ]
  },
  {
   "cell_type": "code",
   "execution_count": 48,
   "metadata": {
    "ExecuteTime": {
     "end_time": "2022-02-09T06:51:11.227130Z",
     "start_time": "2022-02-09T06:51:11.201010Z"
    }
   },
   "outputs": [
    {
     "name": "stdout",
     "output_type": "stream",
     "text": [
      "value count : \n",
      "1    494\n",
      "2    558\n",
      "3    801\n",
      "4    698\n",
      "5    449\n",
      "Name: Gate location, dtype: int64\n",
      "\n",
      "그룹별 만족(target) value count : \n",
      "Gate location\n",
      "1    302\n",
      "2    332\n",
      "3    364\n",
      "4    370\n",
      "5    300\n",
      "Name: target, dtype: int64\n",
      "\n",
      "그룹별 만족(target) 비율 : \n",
      "Gate location\n",
      "1    0.611336\n",
      "2    0.594982\n",
      "3    0.454432\n",
      "4    0.530086\n",
      "5    0.668151\n",
      "Name: target, dtype: float64\n",
      "\n"
     ]
    }
   ],
   "source": [
    "discrete_feat('Gate location')"
   ]
  },
  {
   "cell_type": "markdown",
   "metadata": {},
   "source": [
    "### Inflight wifi service"
   ]
  },
  {
   "cell_type": "code",
   "execution_count": 49,
   "metadata": {
    "ExecuteTime": {
     "end_time": "2022-02-09T06:51:44.356898Z",
     "start_time": "2022-02-09T06:51:44.326995Z"
    }
   },
   "outputs": [
    {
     "name": "stdout",
     "output_type": "stream",
     "text": [
      "value count : \n",
      "0      2\n",
      "1    334\n",
      "2    643\n",
      "3    603\n",
      "4    740\n",
      "5    678\n",
      "Name: Inflight wifi service, dtype: int64\n",
      "\n",
      "그룹별 만족(target) value count : \n",
      "Inflight wifi service\n",
      "0      0\n",
      "1     91\n",
      "2    330\n",
      "3    291\n",
      "4    489\n",
      "5    467\n",
      "Name: target, dtype: int64\n",
      "\n",
      "그룹별 만족(target) 비율 : \n",
      "Inflight wifi service\n",
      "0    0.000000\n",
      "1    0.272455\n",
      "2    0.513219\n",
      "3    0.482587\n",
      "4    0.660811\n",
      "5    0.688791\n",
      "Name: target, dtype: float64\n",
      "\n"
     ]
    }
   ],
   "source": [
    "discrete_feat('Inflight wifi service')"
   ]
  },
  {
   "cell_type": "markdown",
   "metadata": {},
   "source": [
    "### Inflight entertainment\n",
    "\n",
    "> 비행 중 엔터테인먼트\n",
    "- 0점이 만족도가 높음 -> 만족도에 영향이 없거나 대충 적었을 수도 있고"
   ]
  },
  {
   "cell_type": "code",
   "execution_count": 51,
   "metadata": {
    "ExecuteTime": {
     "end_time": "2022-02-09T06:54:53.412826Z",
     "start_time": "2022-02-09T06:54:53.380448Z"
    }
   },
   "outputs": [
    {
     "name": "stdout",
     "output_type": "stream",
     "text": [
      "value count : \n",
      "0     73\n",
      "1    283\n",
      "2    451\n",
      "3    564\n",
      "4    965\n",
      "5    664\n",
      "Name: Inflight entertainment, dtype: int64\n",
      "\n",
      "그룹별 만족(target) value count : \n",
      "Inflight entertainment\n",
      "0     55\n",
      "1     63\n",
      "2     65\n",
      "3    125\n",
      "4    722\n",
      "5    638\n",
      "Name: target, dtype: int64\n",
      "\n",
      "그룹별 만족(target) 비율 : \n",
      "Inflight entertainment\n",
      "0    0.753425\n",
      "1    0.222615\n",
      "2    0.144124\n",
      "3    0.221631\n",
      "4    0.748187\n",
      "5    0.960843\n",
      "Name: target, dtype: float64\n",
      "\n"
     ]
    }
   ],
   "source": [
    "discrete_feat('Inflight entertainment')"
   ]
  },
  {
   "cell_type": "markdown",
   "metadata": {},
   "source": [
    "### Online support"
   ]
  },
  {
   "cell_type": "code",
   "execution_count": 52,
   "metadata": {
    "ExecuteTime": {
     "end_time": "2022-02-09T06:55:52.900872Z",
     "start_time": "2022-02-09T06:55:52.876279Z"
    }
   },
   "outputs": [
    {
     "name": "stdout",
     "output_type": "stream",
     "text": [
      "value count : \n",
      "1     347\n",
      "2     371\n",
      "3     491\n",
      "4    1002\n",
      "5     789\n",
      "Name: Online support, dtype: int64\n",
      "\n",
      "그룹별 만족(target) value count : \n",
      "Online support\n",
      "1    100\n",
      "2    102\n",
      "3    139\n",
      "4    705\n",
      "5    622\n",
      "Name: target, dtype: int64\n",
      "\n",
      "그룹별 만족(target) 비율 : \n",
      "Online support\n",
      "1    0.288184\n",
      "2    0.274933\n",
      "3    0.283096\n",
      "4    0.703593\n",
      "5    0.788340\n",
      "Name: target, dtype: float64\n",
      "\n"
     ]
    }
   ],
   "source": [
    "discrete_feat('Online support')"
   ]
  },
  {
   "cell_type": "markdown",
   "metadata": {},
   "source": [
    "### Ease of Online booking"
   ]
  },
  {
   "cell_type": "code",
   "execution_count": 53,
   "metadata": {
    "ExecuteTime": {
     "end_time": "2022-02-09T06:57:13.584142Z",
     "start_time": "2022-02-09T06:57:13.557212Z"
    }
   },
   "outputs": [
    {
     "name": "stdout",
     "output_type": "stream",
     "text": [
      "value count : \n",
      "0      1\n",
      "1    308\n",
      "2    450\n",
      "3    496\n",
      "4    957\n",
      "5    788\n",
      "Name: Ease of Online booking, dtype: int64\n",
      "\n",
      "그룹별 만족(target) value count : \n",
      "Ease of Online booking\n",
      "0      0\n",
      "1     54\n",
      "2    127\n",
      "3    180\n",
      "4    696\n",
      "5    611\n",
      "Name: target, dtype: int64\n",
      "\n",
      "그룹별 만족(target) 비율 : \n",
      "Ease of Online booking\n",
      "0    0.000000\n",
      "1    0.175325\n",
      "2    0.282222\n",
      "3    0.362903\n",
      "4    0.727273\n",
      "5    0.775381\n",
      "Name: target, dtype: float64\n",
      "\n"
     ]
    }
   ],
   "source": [
    "discrete_feat('Ease of Online booking')"
   ]
  },
  {
   "cell_type": "markdown",
   "metadata": {},
   "source": [
    "### On-board service"
   ]
  },
  {
   "cell_type": "code",
   "execution_count": 55,
   "metadata": {
    "ExecuteTime": {
     "end_time": "2022-02-09T06:57:53.556124Z",
     "start_time": "2022-02-09T06:57:53.526371Z"
    }
   },
   "outputs": [
    {
     "name": "stdout",
     "output_type": "stream",
     "text": [
      "value count : \n",
      "1    317\n",
      "2    374\n",
      "3    580\n",
      "4    959\n",
      "5    770\n",
      "Name: On-board service, dtype: int64\n",
      "\n",
      "그룹별 만족(target) value count : \n",
      "On-board service\n",
      "1     88\n",
      "2    124\n",
      "3    240\n",
      "4    615\n",
      "5    601\n",
      "Name: target, dtype: int64\n",
      "\n",
      "그룹별 만족(target) 비율 : \n",
      "On-board service\n",
      "1    0.277603\n",
      "2    0.331551\n",
      "3    0.413793\n",
      "4    0.641293\n",
      "5    0.780519\n",
      "Name: target, dtype: float64\n",
      "\n"
     ]
    }
   ],
   "source": [
    "discrete_feat('On-board service')"
   ]
  },
  {
   "cell_type": "markdown",
   "metadata": {},
   "source": [
    "### Leg room service"
   ]
  },
  {
   "cell_type": "code",
   "execution_count": 56,
   "metadata": {
    "ExecuteTime": {
     "end_time": "2022-02-09T06:58:17.327487Z",
     "start_time": "2022-02-09T06:58:17.300181Z"
    }
   },
   "outputs": [
    {
     "name": "stdout",
     "output_type": "stream",
     "text": [
      "value count : \n",
      "0     11\n",
      "1    254\n",
      "2    510\n",
      "3    518\n",
      "4    908\n",
      "5    799\n",
      "Name: Leg room service, dtype: int64\n",
      "\n",
      "그룹별 만족(target) value count : \n",
      "Leg room service\n",
      "0      9\n",
      "1     70\n",
      "2    201\n",
      "3    183\n",
      "4    633\n",
      "5    572\n",
      "Name: target, dtype: int64\n",
      "\n",
      "그룹별 만족(target) 비율 : \n",
      "Leg room service\n",
      "0    0.818182\n",
      "1    0.275591\n",
      "2    0.394118\n",
      "3    0.353282\n",
      "4    0.697137\n",
      "5    0.715895\n",
      "Name: target, dtype: float64\n",
      "\n"
     ]
    }
   ],
   "source": [
    "discrete_feat('Leg room service')"
   ]
  },
  {
   "cell_type": "markdown",
   "metadata": {},
   "source": [
    "### Baggage handling"
   ]
  },
  {
   "cell_type": "code",
   "execution_count": 57,
   "metadata": {
    "ExecuteTime": {
     "end_time": "2022-02-09T06:58:55.266463Z",
     "start_time": "2022-02-09T06:58:55.238659Z"
    }
   },
   "outputs": [
    {
     "name": "stdout",
     "output_type": "stream",
     "text": [
      "value count : \n",
      "1     182\n",
      "2     290\n",
      "3     553\n",
      "4    1110\n",
      "5     865\n",
      "Name: Baggage handling, dtype: int64\n",
      "\n",
      "그룹별 만족(target) value count : \n",
      "Baggage handling\n",
      "1     76\n",
      "2    131\n",
      "3    186\n",
      "4    652\n",
      "5    623\n",
      "Name: target, dtype: int64\n",
      "\n",
      "그룹별 만족(target) 비율 : \n",
      "Baggage handling\n",
      "1    0.417582\n",
      "2    0.451724\n",
      "3    0.336347\n",
      "4    0.587387\n",
      "5    0.720231\n",
      "Name: target, dtype: float64\n",
      "\n"
     ]
    }
   ],
   "source": [
    "discrete_feat('Baggage handling')"
   ]
  },
  {
   "cell_type": "markdown",
   "metadata": {},
   "source": [
    "### Checkin service"
   ]
  },
  {
   "cell_type": "code",
   "execution_count": 58,
   "metadata": {
    "ExecuteTime": {
     "end_time": "2022-02-09T06:59:13.406554Z",
     "start_time": "2022-02-09T06:59:13.378868Z"
    }
   },
   "outputs": [
    {
     "name": "stdout",
     "output_type": "stream",
     "text": [
      "value count : \n",
      "1    334\n",
      "2    367\n",
      "3    809\n",
      "4    835\n",
      "5    655\n",
      "Name: Checkin service, dtype: int64\n",
      "\n",
      "그룹별 만족(target) value count : \n",
      "Checkin service\n",
      "1    124\n",
      "2    119\n",
      "3    452\n",
      "4    495\n",
      "5    478\n",
      "Name: target, dtype: int64\n",
      "\n",
      "그룹별 만족(target) 비율 : \n",
      "Checkin service\n",
      "1    0.371257\n",
      "2    0.324251\n",
      "3    0.558714\n",
      "4    0.592814\n",
      "5    0.729771\n",
      "Name: target, dtype: float64\n",
      "\n"
     ]
    }
   ],
   "source": [
    "discrete_feat('Checkin service')"
   ]
  },
  {
   "cell_type": "markdown",
   "metadata": {},
   "source": [
    "### Cleanliness"
   ]
  },
  {
   "cell_type": "code",
   "execution_count": 59,
   "metadata": {
    "ExecuteTime": {
     "end_time": "2022-02-09T06:59:32.955920Z",
     "start_time": "2022-02-09T06:59:32.934725Z"
    }
   },
   "outputs": [
    {
     "name": "stdout",
     "output_type": "stream",
     "text": [
      "value count : \n",
      "1     191\n",
      "2     295\n",
      "3     510\n",
      "4    1145\n",
      "5     859\n",
      "Name: Cleanliness, dtype: int64\n",
      "\n",
      "그룹별 만족(target) value count : \n",
      "Cleanliness\n",
      "1     92\n",
      "2    112\n",
      "3    172\n",
      "4    666\n",
      "5    626\n",
      "Name: target, dtype: int64\n",
      "\n",
      "그룹별 만족(target) 비율 : \n",
      "Cleanliness\n",
      "1    0.481675\n",
      "2    0.379661\n",
      "3    0.337255\n",
      "4    0.581659\n",
      "5    0.728754\n",
      "Name: target, dtype: float64\n",
      "\n"
     ]
    }
   ],
   "source": [
    "discrete_feat('Cleanliness')"
   ]
  },
  {
   "cell_type": "markdown",
   "metadata": {},
   "source": [
    "### Online boarding"
   ]
  },
  {
   "cell_type": "code",
   "execution_count": 60,
   "metadata": {
    "ExecuteTime": {
     "end_time": "2022-02-09T07:00:00.297394Z",
     "start_time": "2022-02-09T07:00:00.275694Z"
    }
   },
   "outputs": [
    {
     "name": "stdout",
     "output_type": "stream",
     "text": [
      "value count : \n",
      "0      1\n",
      "1    356\n",
      "2    414\n",
      "3    710\n",
      "4    840\n",
      "5    679\n",
      "Name: Online boarding, dtype: int64\n",
      "\n",
      "그룹별 만족(target) value count : \n",
      "Online boarding\n",
      "0      0\n",
      "1     95\n",
      "2    112\n",
      "3    395\n",
      "4    558\n",
      "5    508\n",
      "Name: target, dtype: int64\n",
      "\n",
      "그룹별 만족(target) 비율 : \n",
      "Online boarding\n",
      "0    0.000000\n",
      "1    0.266854\n",
      "2    0.270531\n",
      "3    0.556338\n",
      "4    0.664286\n",
      "5    0.748159\n",
      "Name: target, dtype: float64\n",
      "\n"
     ]
    }
   ],
   "source": [
    "discrete_feat('Online boarding')"
   ]
  },
  {
   "cell_type": "markdown",
   "metadata": {},
   "source": [
    "## 연속형"
   ]
  },
  {
   "cell_type": "markdown",
   "metadata": {},
   "source": [
    "### Age"
   ]
  },
  {
   "cell_type": "code",
   "execution_count": 61,
   "metadata": {
    "ExecuteTime": {
     "end_time": "2022-02-09T07:01:32.085076Z",
     "start_time": "2022-02-09T07:01:32.052953Z"
    }
   },
   "outputs": [
    {
     "data": {
      "text/plain": [
       "count    3000.000000\n",
       "mean       39.203000\n",
       "std        15.108802\n",
       "min         7.000000\n",
       "25%        27.000000\n",
       "50%        39.000000\n",
       "75%        51.000000\n",
       "max        80.000000\n",
       "Name: Age, dtype: float64"
      ]
     },
     "execution_count": 61,
     "metadata": {},
     "output_type": "execute_result"
    }
   ],
   "source": [
    "df_train['Age'].describe()"
   ]
  },
  {
   "cell_type": "code",
   "execution_count": 66,
   "metadata": {
    "ExecuteTime": {
     "end_time": "2022-02-09T07:11:19.734938Z",
     "start_time": "2022-02-09T07:11:19.723128Z"
    }
   },
   "outputs": [],
   "source": [
    "def age_categorize(age):\n",
    "    age = (age // 10) * 10\n",
    "    return age"
   ]
  },
  {
   "cell_type": "code",
   "execution_count": 68,
   "metadata": {
    "ExecuteTime": {
     "end_time": "2022-02-09T07:12:49.101745Z",
     "start_time": "2022-02-09T07:12:49.089746Z"
    }
   },
   "outputs": [],
   "source": [
    "# 나이대별로 카테고리화\n",
    "Age_category = df_train['Age'].apply(age_categorize)\n",
    "df_train['Age_cat'] = Age_category.astype('category')"
   ]
  },
  {
   "cell_type": "code",
   "execution_count": 86,
   "metadata": {
    "ExecuteTime": {
     "end_time": "2022-02-09T08:00:25.381974Z",
     "start_time": "2022-02-09T08:00:25.228738Z"
    }
   },
   "outputs": [
    {
     "data": {
      "image/png": "[encoded data removed]",
      "text/plain": [
       "<Figure size 864x576 with 1 Axes>"
      ]
     },
     "metadata": {},
     "output_type": "display_data"
    }
   ],
   "source": [
    "# 나이대 count plot\n",
    "plt.figure(figsize=(12,8))\n",
    "sns.countplot(y='Age_cat', data=df_train)\n",
    "plt.show()"
   ]
  },
  {
   "cell_type": "code",
   "execution_count": 93,
   "metadata": {
    "ExecuteTime": {
     "end_time": "2022-02-09T08:19:18.695630Z",
     "start_time": "2022-02-09T08:19:18.667283Z"
    }
   },
   "outputs": [
    {
     "data": {
      "text/html": [
       "<div>\n",
       "<style scoped>\n",
       "    .dataframe tbody tr th:only-of-type {\n",
       "        vertical-align: middle;\n",
       "    }\n",
       "\n",
       "    .dataframe tbody tr th {\n",
       "        vertical-align: top;\n",
       "    }\n",
       "\n",
       "    .dataframe thead th {\n",
       "        text-align: right;\n",
       "    }\n",
       "</style>\n",
       "<table border=\"1\" class=\"dataframe\">\n",
       "  <thead>\n",
       "    <tr style=\"text-align: right;\">\n",
       "      <th></th>\n",
       "      <th>target</th>\n",
       "    </tr>\n",
       "    <tr>\n",
       "      <th>Age_cat</th>\n",
       "      <th></th>\n",
       "    </tr>\n",
       "  </thead>\n",
       "  <tbody>\n",
       "    <tr>\n",
       "      <th>0</th>\n",
       "      <td>0.464286</td>\n",
       "    </tr>\n",
       "    <tr>\n",
       "      <th>10</th>\n",
       "      <td>0.449580</td>\n",
       "    </tr>\n",
       "    <tr>\n",
       "      <th>20</th>\n",
       "      <td>0.459322</td>\n",
       "    </tr>\n",
       "    <tr>\n",
       "      <th>30</th>\n",
       "      <td>0.539200</td>\n",
       "    </tr>\n",
       "    <tr>\n",
       "      <th>40</th>\n",
       "      <td>0.643399</td>\n",
       "    </tr>\n",
       "    <tr>\n",
       "      <th>50</th>\n",
       "      <td>0.648551</td>\n",
       "    </tr>\n",
       "    <tr>\n",
       "      <th>60</th>\n",
       "      <td>0.520325</td>\n",
       "    </tr>\n",
       "    <tr>\n",
       "      <th>70</th>\n",
       "      <td>0.500000</td>\n",
       "    </tr>\n",
       "    <tr>\n",
       "      <th>80</th>\n",
       "      <td>0.500000</td>\n",
       "    </tr>\n",
       "  </tbody>\n",
       "</table>\n",
       "</div>"
      ],
      "text/plain": [
       "           target\n",
       "Age_cat          \n",
       "0        0.464286\n",
       "10       0.449580\n",
       "20       0.459322\n",
       "30       0.539200\n",
       "40       0.643399\n",
       "50       0.648551\n",
       "60       0.520325\n",
       "70       0.500000\n",
       "80       0.500000"
      ]
     },
     "execution_count": 93,
     "metadata": {},
     "output_type": "execute_result"
    }
   ],
   "source": [
    "# 나이대별 만족도 비율\n",
    "mean_by_age_cat = df_train['target'].groupby(df_train['Age_cat']).mean()\n",
    "pd.DataFrame(mean_by_age_cat)"
   ]
  },
  {
   "cell_type": "code",
   "execution_count": 92,
   "metadata": {
    "ExecuteTime": {
     "end_time": "2022-02-09T08:17:52.326077Z",
     "start_time": "2022-02-09T08:17:52.177637Z"
    }
   },
   "outputs": [
    {
     "data": {
      "image/png": "[encoded data removed]",
      "text/plain": [
       "<Figure size 864x576 with 1 Axes>"
      ]
     },
     "metadata": {},
     "output_type": "display_data"
    }
   ],
   "source": [
    "plt.figure(figsize=(12,8))\n",
    "mean_by_age_cat.plot.bar(color='red')\n",
    "plt.show()"
   ]
  },
  {
   "cell_type": "markdown",
   "metadata": {
    "ExecuteTime": {
     "end_time": "2022-02-09T08:20:15.549351Z",
     "start_time": "2022-02-09T08:20:15.530357Z"
    }
   },
   "source": [
    "### Flight distance\n",
    "\n",
    "> 비행거리\n",
    "- 어떻게 해야 한 눈에 보일까아아아아아아"
   ]
  },
  {
   "cell_type": "code",
   "execution_count": 95,
   "metadata": {
    "ExecuteTime": {
     "end_time": "2022-02-09T08:20:35.432457Z",
     "start_time": "2022-02-09T08:20:35.408631Z"
    }
   },
   "outputs": [
    {
     "data": {
      "text/plain": [
       "count    3000.000000\n",
       "mean     1983.079333\n",
       "std      1028.109117\n",
       "min        52.000000\n",
       "25%      1348.250000\n",
       "50%      1937.000000\n",
       "75%      2547.250000\n",
       "max      6882.000000\n",
       "Name: Flight Distance, dtype: float64"
      ]
     },
     "execution_count": 95,
     "metadata": {},
     "output_type": "execute_result"
    }
   ],
   "source": [
    "df_train['Flight Distance'].describe()"
   ]
  },
  {
   "cell_type": "code",
   "execution_count": 101,
   "metadata": {
    "ExecuteTime": {
     "end_time": "2022-02-09T08:24:57.761481Z",
     "start_time": "2022-02-09T08:24:57.481270Z"
    }
   },
   "outputs": [
    {
     "data": {
      "image/png": "[encoded data removed]",
      "text/plain": [
       "<Figure size 1152x576 with 2 Axes>"
      ]
     },
     "metadata": {},
     "output_type": "display_data"
    }
   ],
   "source": [
    "plt.figure(figsize=(16,8))\n",
    "\n",
    "plt.subplot(1,2,1)\n",
    "plt.boxplot(df_train['Flight Distance'])\n",
    "\n",
    "plt.subplot(1,2,2)\n",
    "sns.distplot(df_train['Flight Distance'], color='b',fit=stats.norm)\n",
    "plt.show()"
   ]
  },
  {
   "cell_type": "code",
   "execution_count": 102,
   "metadata": {
    "ExecuteTime": {
     "end_time": "2022-02-09T08:35:13.127119Z",
     "start_time": "2022-02-09T08:35:12.794538Z"
    }
   },
   "outputs": [
    {
     "data": {
      "image/png": "[encoded data removed]",
      "text/plain": [
       "<Figure size 1152x576 with 2 Axes>"
      ]
     },
     "metadata": {},
     "output_type": "display_data"
    }
   ],
   "source": [
    "# 만족한 사람들 - 비행 거리\n",
    "plt.figure(figsize=(16,8))\n",
    "\n",
    "plt.subplot(1,2,1)\n",
    "plt.boxplot(df_train[df_train['target'] == 1]['Flight Distance'])\n",
    "\n",
    "plt.subplot(1,2,2)\n",
    "sns.distplot(df_train[df_train['target'] == 1]['Flight Distance'], color='b',fit=stats.norm)\n",
    "plt.show()"
   ]
  },
  {
   "cell_type": "code",
   "execution_count": 103,
   "metadata": {
    "ExecuteTime": {
     "end_time": "2022-02-09T08:36:13.498506Z",
     "start_time": "2022-02-09T08:36:13.174474Z"
    }
   },
   "outputs": [
    {
     "data": {
      "image/png": "[encoded data removed]",
      "text/plain": [
       "<Figure size 1152x576 with 2 Axes>"
      ]
     },
     "metadata": {},
     "output_type": "display_data"
    }
   ],
   "source": [
    "# 만족안한 사람들 - 비행 거리\n",
    "plt.figure(figsize=(16,8))\n",
    "\n",
    "plt.subplot(1,2,1)\n",
    "plt.boxplot(df_train[df_train['target'] == 0]['Flight Distance'])\n",
    "\n",
    "plt.subplot(1,2,2)\n",
    "sns.distplot(df_train[df_train['target'] == 0]['Flight Distance'], color='b',fit=stats.norm)\n",
    "plt.show()"
   ]
  },
  {
   "cell_type": "markdown",
   "metadata": {},
   "source": [
    "### Departure Delay in Minutes"
   ]
  },
  {
   "cell_type": "code",
   "execution_count": null,
   "metadata": {},
   "outputs": [],
   "source": []
  },
  {
   "cell_type": "code",
   "execution_count": null,
   "metadata": {},
   "outputs": [],
   "source": [
    "plt.figure(figsize=(16,8))\n",
    "\n",
    "plt.subplot(1,2,1)\n",
    "plt.boxplot(df_train['Flight Distance'])\n",
    "\n",
    "plt.subplot(1,2,2)\n",
    "sns.distplot(df_train['Flight Distance'], color='b',fit=stats.norm)\n",
    "plt.show()"
   ]
  },
  {
   "cell_type": "markdown",
   "metadata": {},
   "source": [
    "### Arrival Delay in Minutes"
   ]
  },
  {
   "cell_type": "code",
   "execution_count": null,
   "metadata": {},
   "outputs": [],
   "source": []
  }
 ],
 "metadata": {
  "hide_input": false,
  "kernelspec": {
   "display_name": "Python 3",
   "language": "python",
   "name": "python3"
  },
  "language_info": {
   "codemirror_mode": {
    "name": "ipython",
    "version": 3
   },
   "file_extension": ".py",
   "mimetype": "text/x-python",
   "name": "python",
   "nbconvert_exporter": "python",
   "pygments_lexer": "ipython3",
   "version": "3.8.3"
  },
  "toc": {
   "base_numbering": 1,
   "nav_menu": {},
   "number_sections": true,
   "sideBar": true,
   "skip_h1_title": false,
   "title_cell": "Table of Contents",
   "title_sidebar": "Contents",
   "toc_cell": false,
   "toc_position": {
    "height": "calc(100% - 180px)",
    "left": "10px",
    "top": "150px",
    "width": "371.484px"
   },
   "toc_section_display": true,
   "toc_window_display": true
  },
  "varInspector": {
   "cols": {
    "lenName": 16,
    "lenType": 16,
    "lenVar": 40
   },
   "kernels_config": {
    "python": {
     "delete_cmd_postfix": "",
     "delete_cmd_prefix": "del ",
     "library": "var_list.py",
     "varRefreshCmd": "print(var_dic_list())"
    },
    "r": {
     "delete_cmd_postfix": ") ",
     "delete_cmd_prefix": "rm(",
     "library": "var_list.r",
     "varRefreshCmd": "cat(var_dic_list()) "
    }
   },
   "types_to_exclude": [
    "module",
    "function",
    "builtin_function_or_method",
    "instance",
    "_Feature"
   ],
   "window_display": false
  }
 },
 "nbformat": 4,
 "nbformat_minor": 4
}
