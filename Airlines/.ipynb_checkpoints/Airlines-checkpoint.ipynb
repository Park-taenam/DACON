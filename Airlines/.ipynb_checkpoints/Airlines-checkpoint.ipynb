{
 "cells": [
  {
   "cell_type": "markdown",
   "metadata": {},
   "source": [
    "# Airlines\n",
    "\n",
    "> 대회 안내\n",
    "- target : 0 or 1 -> 분류\n",
    "\n",
    "> 평가 산식\n",
    "- Accuracy"
   ]
  },
  {
   "cell_type": "code",
   "execution_count": 1,
   "metadata": {
    "ExecuteTime": {
     "end_time": "2022-02-10T13:51:38.498544Z",
     "start_time": "2022-02-10T13:51:36.990632Z"
    }
   },
   "outputs": [],
   "source": [
    "import pandas as pd\n",
    "import numpy as np\n",
    "import matplotlib\n",
    "import matplotlib.pyplot as plt\n",
    "import seaborn as sns\n",
    "\n",
    "from scipy import stats\n",
    "\n",
    "import warnings\n",
    "warnings.filterwarnings('ignore')\n",
    "\n",
    "%matplotlib inline\n",
    "matplotlib.rc('figure', facecolor='w', edgecolor='w')"
   ]
  },
  {
   "cell_type": "markdown",
   "metadata": {},
   "source": [
    "# Data\n",
    "\n",
    "> Null\n",
    "- Null 값은 없음"
   ]
  },
  {
   "cell_type": "code",
   "execution_count": 2,
   "metadata": {
    "ExecuteTime": {
     "end_time": "2022-02-10T13:51:38.543519Z",
     "start_time": "2022-02-10T13:51:38.500518Z"
    }
   },
   "outputs": [],
   "source": [
    "df_train = pd.read_csv('./data/train.csv')\n",
    "df_test = pd.read_csv('./data/test.csv')"
   ]
  },
  {
   "cell_type": "code",
   "execution_count": 3,
   "metadata": {
    "ExecuteTime": {
     "end_time": "2022-02-10T13:51:38.558521Z",
     "start_time": "2022-02-10T13:51:38.545519Z"
    }
   },
   "outputs": [],
   "source": [
    "# id 행 제거\n",
    "df_train.drop('id', axis=1, inplace=True)\n",
    "df_test.drop('id', axis=1, inplace=True)"
   ]
  },
  {
   "cell_type": "code",
   "execution_count": 4,
   "metadata": {
    "ExecuteTime": {
     "end_time": "2022-02-10T13:51:38.574521Z",
     "start_time": "2022-02-10T13:51:38.562530Z"
    }
   },
   "outputs": [
    {
     "name": "stdout",
     "output_type": "stream",
     "text": [
      "train's shape : (3000, 23)\n",
      "test's shape : (2000, 22)\n"
     ]
    }
   ],
   "source": [
    "print(\"train's shape : {}\".format(df_train.shape))\n",
    "print(\"test's shape : {}\".format(df_test.shape))"
   ]
  },
  {
   "cell_type": "code",
   "execution_count": 5,
   "metadata": {
    "ExecuteTime": {
     "end_time": "2022-02-10T13:51:38.604726Z",
     "start_time": "2022-02-10T13:51:38.577524Z"
    }
   },
   "outputs": [
    {
     "name": "stdout",
     "output_type": "stream",
     "text": [
      "<class 'pandas.core.frame.DataFrame'>\n",
      "RangeIndex: 3000 entries, 0 to 2999\n",
      "Data columns (total 23 columns):\n",
      " #   Column                             Non-Null Count  Dtype  \n",
      "---  ------                             --------------  -----  \n",
      " 0   Gender                             3000 non-null   object \n",
      " 1   Customer Type                      3000 non-null   object \n",
      " 2   Age                                3000 non-null   int64  \n",
      " 3   Type of Travel                     3000 non-null   object \n",
      " 4   Class                              3000 non-null   object \n",
      " 5   Flight Distance                    3000 non-null   int64  \n",
      " 6   Seat comfort                       3000 non-null   int64  \n",
      " 7   Departure/Arrival time convenient  3000 non-null   int64  \n",
      " 8   Food and drink                     3000 non-null   int64  \n",
      " 9   Gate location                      3000 non-null   int64  \n",
      " 10  Inflight wifi service              3000 non-null   int64  \n",
      " 11  Inflight entertainment             3000 non-null   int64  \n",
      " 12  Online support                     3000 non-null   int64  \n",
      " 13  Ease of Online booking             3000 non-null   int64  \n",
      " 14  On-board service                   3000 non-null   int64  \n",
      " 15  Leg room service                   3000 non-null   int64  \n",
      " 16  Baggage handling                   3000 non-null   int64  \n",
      " 17  Checkin service                    3000 non-null   int64  \n",
      " 18  Cleanliness                        3000 non-null   int64  \n",
      " 19  Online boarding                    3000 non-null   int64  \n",
      " 20  Departure Delay in Minutes         3000 non-null   int64  \n",
      " 21  Arrival Delay in Minutes           3000 non-null   float64\n",
      " 22  target                             3000 non-null   int64  \n",
      "dtypes: float64(1), int64(18), object(4)\n",
      "memory usage: 539.2+ KB\n"
     ]
    }
   ],
   "source": [
    "df_train.info()"
   ]
  },
  {
   "cell_type": "code",
   "execution_count": 6,
   "metadata": {
    "ExecuteTime": {
     "end_time": "2022-02-10T13:51:38.666819Z",
     "start_time": "2022-02-10T13:51:38.607742Z"
    }
   },
   "outputs": [
    {
     "data": {
      "text/html": [
       "<div>\n",
       "<style scoped>\n",
       "    .dataframe tbody tr th:only-of-type {\n",
       "        vertical-align: middle;\n",
       "    }\n",
       "\n",
       "    .dataframe tbody tr th {\n",
       "        vertical-align: top;\n",
       "    }\n",
       "\n",
       "    .dataframe thead th {\n",
       "        text-align: right;\n",
       "    }\n",
       "</style>\n",
       "<table border=\"1\" class=\"dataframe\">\n",
       "  <thead>\n",
       "    <tr style=\"text-align: right;\">\n",
       "      <th></th>\n",
       "      <th>Gender</th>\n",
       "      <th>Customer Type</th>\n",
       "      <th>Age</th>\n",
       "      <th>Type of Travel</th>\n",
       "      <th>Class</th>\n",
       "      <th>Flight Distance</th>\n",
       "      <th>Seat comfort</th>\n",
       "      <th>Departure/Arrival time convenient</th>\n",
       "      <th>Food and drink</th>\n",
       "      <th>Gate location</th>\n",
       "      <th>...</th>\n",
       "      <th>Ease of Online booking</th>\n",
       "      <th>On-board service</th>\n",
       "      <th>Leg room service</th>\n",
       "      <th>Baggage handling</th>\n",
       "      <th>Checkin service</th>\n",
       "      <th>Cleanliness</th>\n",
       "      <th>Online boarding</th>\n",
       "      <th>Departure Delay in Minutes</th>\n",
       "      <th>Arrival Delay in Minutes</th>\n",
       "      <th>target</th>\n",
       "    </tr>\n",
       "  </thead>\n",
       "  <tbody>\n",
       "    <tr>\n",
       "      <th>0</th>\n",
       "      <td>Female</td>\n",
       "      <td>disloyal Customer</td>\n",
       "      <td>22</td>\n",
       "      <td>Business travel</td>\n",
       "      <td>Eco</td>\n",
       "      <td>1599</td>\n",
       "      <td>3</td>\n",
       "      <td>0</td>\n",
       "      <td>3</td>\n",
       "      <td>3</td>\n",
       "      <td>...</td>\n",
       "      <td>4</td>\n",
       "      <td>5</td>\n",
       "      <td>4</td>\n",
       "      <td>4</td>\n",
       "      <td>4</td>\n",
       "      <td>5</td>\n",
       "      <td>4</td>\n",
       "      <td>0</td>\n",
       "      <td>0.0</td>\n",
       "      <td>0</td>\n",
       "    </tr>\n",
       "    <tr>\n",
       "      <th>1</th>\n",
       "      <td>Female</td>\n",
       "      <td>Loyal Customer</td>\n",
       "      <td>37</td>\n",
       "      <td>Business travel</td>\n",
       "      <td>Business</td>\n",
       "      <td>2810</td>\n",
       "      <td>2</td>\n",
       "      <td>4</td>\n",
       "      <td>4</td>\n",
       "      <td>4</td>\n",
       "      <td>...</td>\n",
       "      <td>5</td>\n",
       "      <td>5</td>\n",
       "      <td>4</td>\n",
       "      <td>2</td>\n",
       "      <td>1</td>\n",
       "      <td>5</td>\n",
       "      <td>2</td>\n",
       "      <td>18</td>\n",
       "      <td>18.0</td>\n",
       "      <td>0</td>\n",
       "    </tr>\n",
       "    <tr>\n",
       "      <th>2</th>\n",
       "      <td>Male</td>\n",
       "      <td>Loyal Customer</td>\n",
       "      <td>46</td>\n",
       "      <td>Business travel</td>\n",
       "      <td>Business</td>\n",
       "      <td>2622</td>\n",
       "      <td>1</td>\n",
       "      <td>1</td>\n",
       "      <td>1</td>\n",
       "      <td>1</td>\n",
       "      <td>...</td>\n",
       "      <td>4</td>\n",
       "      <td>4</td>\n",
       "      <td>4</td>\n",
       "      <td>4</td>\n",
       "      <td>5</td>\n",
       "      <td>4</td>\n",
       "      <td>3</td>\n",
       "      <td>0</td>\n",
       "      <td>0.0</td>\n",
       "      <td>1</td>\n",
       "    </tr>\n",
       "    <tr>\n",
       "      <th>3</th>\n",
       "      <td>Female</td>\n",
       "      <td>disloyal Customer</td>\n",
       "      <td>24</td>\n",
       "      <td>Business travel</td>\n",
       "      <td>Eco</td>\n",
       "      <td>2348</td>\n",
       "      <td>3</td>\n",
       "      <td>3</td>\n",
       "      <td>3</td>\n",
       "      <td>3</td>\n",
       "      <td>...</td>\n",
       "      <td>3</td>\n",
       "      <td>2</td>\n",
       "      <td>4</td>\n",
       "      <td>5</td>\n",
       "      <td>3</td>\n",
       "      <td>4</td>\n",
       "      <td>3</td>\n",
       "      <td>10</td>\n",
       "      <td>2.0</td>\n",
       "      <td>0</td>\n",
       "    </tr>\n",
       "    <tr>\n",
       "      <th>4</th>\n",
       "      <td>Female</td>\n",
       "      <td>Loyal Customer</td>\n",
       "      <td>58</td>\n",
       "      <td>Business travel</td>\n",
       "      <td>Business</td>\n",
       "      <td>105</td>\n",
       "      <td>3</td>\n",
       "      <td>3</td>\n",
       "      <td>3</td>\n",
       "      <td>3</td>\n",
       "      <td>...</td>\n",
       "      <td>4</td>\n",
       "      <td>4</td>\n",
       "      <td>4</td>\n",
       "      <td>4</td>\n",
       "      <td>4</td>\n",
       "      <td>4</td>\n",
       "      <td>5</td>\n",
       "      <td>0</td>\n",
       "      <td>0.0</td>\n",
       "      <td>1</td>\n",
       "    </tr>\n",
       "  </tbody>\n",
       "</table>\n",
       "<p>5 rows × 23 columns</p>\n",
       "</div>"
      ],
      "text/plain": [
       "   Gender      Customer Type  Age   Type of Travel     Class  Flight Distance  \\\n",
       "0  Female  disloyal Customer   22  Business travel       Eco             1599   \n",
       "1  Female     Loyal Customer   37  Business travel  Business             2810   \n",
       "2    Male     Loyal Customer   46  Business travel  Business             2622   \n",
       "3  Female  disloyal Customer   24  Business travel       Eco             2348   \n",
       "4  Female     Loyal Customer   58  Business travel  Business              105   \n",
       "\n",
       "   Seat comfort  Departure/Arrival time convenient  Food and drink  \\\n",
       "0             3                                  0               3   \n",
       "1             2                                  4               4   \n",
       "2             1                                  1               1   \n",
       "3             3                                  3               3   \n",
       "4             3                                  3               3   \n",
       "\n",
       "   Gate location  ...  Ease of Online booking  On-board service  \\\n",
       "0              3  ...                       4                 5   \n",
       "1              4  ...                       5                 5   \n",
       "2              1  ...                       4                 4   \n",
       "3              3  ...                       3                 2   \n",
       "4              3  ...                       4                 4   \n",
       "\n",
       "   Leg room service  Baggage handling  Checkin service  Cleanliness  \\\n",
       "0                 4                 4                4            5   \n",
       "1                 4                 2                1            5   \n",
       "2                 4                 4                5            4   \n",
       "3                 4                 5                3            4   \n",
       "4                 4                 4                4            4   \n",
       "\n",
       "   Online boarding  Departure Delay in Minutes  Arrival Delay in Minutes  \\\n",
       "0                4                           0                       0.0   \n",
       "1                2                          18                      18.0   \n",
       "2                3                           0                       0.0   \n",
       "3                3                          10                       2.0   \n",
       "4                5                           0                       0.0   \n",
       "\n",
       "   target  \n",
       "0       0  \n",
       "1       0  \n",
       "2       1  \n",
       "3       0  \n",
       "4       1  \n",
       "\n",
       "[5 rows x 23 columns]"
      ]
     },
     "execution_count": 6,
     "metadata": {},
     "output_type": "execute_result"
    }
   ],
   "source": [
    "df_train.head()"
   ]
  },
  {
   "cell_type": "markdown",
   "metadata": {},
   "source": [
    "# EDA"
   ]
  },
  {
   "cell_type": "code",
   "execution_count": 7,
   "metadata": {
    "ExecuteTime": {
     "end_time": "2022-02-10T13:51:38.682831Z",
     "start_time": "2022-02-10T13:51:38.669834Z"
    }
   },
   "outputs": [
    {
     "data": {
      "text/plain": [
       "Index(['Gender', 'Customer Type', 'Age', 'Type of Travel', 'Class',\n",
       "       'Flight Distance', 'Seat comfort', 'Departure/Arrival time convenient',\n",
       "       'Food and drink', 'Gate location', 'Inflight wifi service',\n",
       "       'Inflight entertainment', 'Online support', 'Ease of Online booking',\n",
       "       'On-board service', 'Leg room service', 'Baggage handling',\n",
       "       'Checkin service', 'Cleanliness', 'Online boarding',\n",
       "       'Departure Delay in Minutes', 'Arrival Delay in Minutes', 'target'],\n",
       "      dtype='object')"
      ]
     },
     "execution_count": 7,
     "metadata": {},
     "output_type": "execute_result"
    }
   ],
   "source": [
    "df_train.columns"
   ]
  },
  {
   "cell_type": "markdown",
   "metadata": {},
   "source": [
    "## Target"
   ]
  },
  {
   "cell_type": "code",
   "execution_count": 8,
   "metadata": {
    "ExecuteTime": {
     "end_time": "2022-02-10T13:51:38.698211Z",
     "start_time": "2022-02-10T13:51:38.686819Z"
    }
   },
   "outputs": [
    {
     "data": {
      "text/plain": [
       "1    1668\n",
       "0    1332\n",
       "Name: target, dtype: int64"
      ]
     },
     "execution_count": 8,
     "metadata": {},
     "output_type": "execute_result"
    }
   ],
   "source": [
    "df_train['target'].value_counts()"
   ]
  },
  {
   "cell_type": "markdown",
   "metadata": {},
   "source": [
    "## 범주형 & 이산형"
   ]
  },
  {
   "cell_type": "code",
   "execution_count": 9,
   "metadata": {
    "ExecuteTime": {
     "end_time": "2022-02-10T13:51:38.713765Z",
     "start_time": "2022-02-10T13:51:38.702825Z"
    }
   },
   "outputs": [],
   "source": [
    "def discrete_feat(feature):\n",
    "    print('value count : \\n{}\\n'.format(df_train[feature].value_counts().sort_index()))\n",
    "    print('그룹별 만족(target) value count : \\n{}\\n'.format(df_train['target'].groupby(df_train[feature]).sum().sort_index()))\n",
    "    print('그룹별 만족(target) 비율 : \\n{}\\n'.format(df_train['target'].groupby(df_train[feature]).mean().sort_index()))"
   ]
  },
  {
   "cell_type": "markdown",
   "metadata": {
    "ExecuteTime": {
     "end_time": "2022-02-08T14:52:53.722697Z",
     "start_time": "2022-02-08T14:52:53.703317Z"
    }
   },
   "source": [
    "### Gender\n",
    "\n",
    "> 성별 : Male / Female\n",
    "- 남자, 여자 수는 비슷함\n",
    "- 만족비율은 여자가 더 높음"
   ]
  },
  {
   "cell_type": "code",
   "execution_count": 10,
   "metadata": {
    "ExecuteTime": {
     "end_time": "2022-02-10T13:51:38.745938Z",
     "start_time": "2022-02-10T13:51:38.715760Z"
    }
   },
   "outputs": [
    {
     "name": "stdout",
     "output_type": "stream",
     "text": [
      "value count : \n",
      "Female    1498\n",
      "Male      1502\n",
      "Name: Gender, dtype: int64\n",
      "\n",
      "그룹별 만족(target) value count : \n",
      "Gender\n",
      "Female    1007\n",
      "Male       661\n",
      "Name: target, dtype: int64\n",
      "\n",
      "그룹별 만족(target) 비율 : \n",
      "Gender\n",
      "Female    0.67223\n",
      "Male      0.44008\n",
      "Name: target, dtype: float64\n",
      "\n"
     ]
    }
   ],
   "source": [
    "discrete_feat('Gender')"
   ]
  },
  {
   "cell_type": "markdown",
   "metadata": {},
   "source": [
    "### Customer Type"
   ]
  },
  {
   "cell_type": "code",
   "execution_count": 11,
   "metadata": {
    "ExecuteTime": {
     "end_time": "2022-02-10T13:51:38.776831Z",
     "start_time": "2022-02-10T13:51:38.752409Z"
    }
   },
   "outputs": [
    {
     "name": "stdout",
     "output_type": "stream",
     "text": [
      "value count : \n",
      "Loyal Customer       2489\n",
      "disloyal Customer     511\n",
      "Name: Customer Type, dtype: int64\n",
      "\n",
      "그룹별 만족(target) value count : \n",
      "Customer Type\n",
      "Loyal Customer       1536\n",
      "disloyal Customer     132\n",
      "Name: target, dtype: int64\n",
      "\n",
      "그룹별 만족(target) 비율 : \n",
      "Customer Type\n",
      "Loyal Customer       0.617115\n",
      "disloyal Customer    0.258317\n",
      "Name: target, dtype: float64\n",
      "\n"
     ]
    }
   ],
   "source": [
    "discrete_feat('Customer Type')"
   ]
  },
  {
   "cell_type": "markdown",
   "metadata": {},
   "source": [
    "### Type of Travel"
   ]
  },
  {
   "cell_type": "code",
   "execution_count": 12,
   "metadata": {
    "ExecuteTime": {
     "end_time": "2022-02-10T13:51:38.821478Z",
     "start_time": "2022-02-10T13:51:38.779828Z"
    }
   },
   "outputs": [
    {
     "name": "stdout",
     "output_type": "stream",
     "text": [
      "value count : \n",
      "Business travel    2053\n",
      "Personal Travel     947\n",
      "Name: Type of Travel, dtype: int64\n",
      "\n",
      "그룹별 만족(target) value count : \n",
      "Type of Travel\n",
      "Business travel    1234\n",
      "Personal Travel     434\n",
      "Name: target, dtype: int64\n",
      "\n",
      "그룹별 만족(target) 비율 : \n",
      "Type of Travel\n",
      "Business travel    0.601072\n",
      "Personal Travel    0.458289\n",
      "Name: target, dtype: float64\n",
      "\n"
     ]
    }
   ],
   "source": [
    "discrete_feat('Type of Travel')"
   ]
  },
  {
   "cell_type": "markdown",
   "metadata": {},
   "source": [
    "### Class"
   ]
  },
  {
   "cell_type": "code",
   "execution_count": 13,
   "metadata": {
    "ExecuteTime": {
     "end_time": "2022-02-10T13:51:38.852970Z",
     "start_time": "2022-02-10T13:51:38.823828Z"
    }
   },
   "outputs": [
    {
     "name": "stdout",
     "output_type": "stream",
     "text": [
      "value count : \n",
      "Business    1434\n",
      "Eco         1337\n",
      "Eco Plus     229\n",
      "Name: Class, dtype: int64\n",
      "\n",
      "그룹별 만족(target) value count : \n",
      "Class\n",
      "Business    1021\n",
      "Eco          546\n",
      "Eco Plus     101\n",
      "Name: target, dtype: int64\n",
      "\n",
      "그룹별 만족(target) 비율 : \n",
      "Class\n",
      "Business    0.711994\n",
      "Eco         0.408377\n",
      "Eco Plus    0.441048\n",
      "Name: target, dtype: float64\n",
      "\n"
     ]
    }
   ],
   "source": [
    "discrete_feat('Class')"
   ]
  },
  {
   "cell_type": "markdown",
   "metadata": {},
   "source": [
    "### Flight Distance\n",
    "\n",
    "> 비행 거리\n",
    "- 짧은 거리 간 사람들이 대부분 많족함\n",
    "- 오히려 먼 거리 간 사람들한테 항공사 측면에서 잘해준 듯"
   ]
  },
  {
   "cell_type": "code",
   "execution_count": 14,
   "metadata": {
    "ExecuteTime": {
     "end_time": "2022-02-10T13:51:38.883993Z",
     "start_time": "2022-02-10T13:51:38.854786Z"
    }
   },
   "outputs": [
    {
     "name": "stdout",
     "output_type": "stream",
     "text": [
      "value count : \n",
      "0    106\n",
      "1    476\n",
      "2    655\n",
      "3    680\n",
      "4    651\n",
      "5    432\n",
      "Name: Seat comfort, dtype: int64\n",
      "\n",
      "그룹별 만족(target) value count : \n",
      "Seat comfort\n",
      "0    105\n",
      "1    205\n",
      "2    229\n",
      "3    269\n",
      "4    430\n",
      "5    430\n",
      "Name: target, dtype: int64\n",
      "\n",
      "그룹별 만족(target) 비율 : \n",
      "Seat comfort\n",
      "0    0.990566\n",
      "1    0.430672\n",
      "2    0.349618\n",
      "3    0.395588\n",
      "4    0.660522\n",
      "5    0.995370\n",
      "Name: target, dtype: float64\n",
      "\n"
     ]
    }
   ],
   "source": [
    "discrete_feat('Seat comfort')"
   ]
  },
  {
   "cell_type": "markdown",
   "metadata": {
    "ExecuteTime": {
     "end_time": "2022-02-09T06:49:20.370388Z",
     "start_time": "2022-02-09T06:49:20.352450Z"
    }
   },
   "source": [
    "### Departure/Arrival time convenient\n",
    "\n",
    "> 출발/도착 시간 편의성\n",
    "- 모든 class가 비슷함 -> target 예측하는데 큰 영향 없을 듯 -> 피쳐 삭제"
   ]
  },
  {
   "cell_type": "code",
   "execution_count": 15,
   "metadata": {
    "ExecuteTime": {
     "end_time": "2022-02-10T13:51:38.914525Z",
     "start_time": "2022-02-10T13:51:38.885995Z"
    }
   },
   "outputs": [
    {
     "name": "stdout",
     "output_type": "stream",
     "text": [
      "value count : \n",
      "0    154\n",
      "1    453\n",
      "2    533\n",
      "3    562\n",
      "4    666\n",
      "5    632\n",
      "Name: Departure/Arrival time convenient, dtype: int64\n",
      "\n",
      "그룹별 만족(target) value count : \n",
      "Departure/Arrival time convenient\n",
      "0     90\n",
      "1    265\n",
      "2    278\n",
      "3    314\n",
      "4    372\n",
      "5    349\n",
      "Name: target, dtype: int64\n",
      "\n",
      "그룹별 만족(target) 비율 : \n",
      "Departure/Arrival time convenient\n",
      "0    0.584416\n",
      "1    0.584989\n",
      "2    0.521576\n",
      "3    0.558719\n",
      "4    0.558559\n",
      "5    0.552215\n",
      "Name: target, dtype: float64\n",
      "\n"
     ]
    }
   ],
   "source": [
    "discrete_feat('Departure/Arrival time convenient')"
   ]
  },
  {
   "cell_type": "markdown",
   "metadata": {},
   "source": [
    "### Food and drink"
   ]
  },
  {
   "cell_type": "code",
   "execution_count": 16,
   "metadata": {
    "ExecuteTime": {
     "end_time": "2022-02-10T13:51:38.930529Z",
     "start_time": "2022-02-10T13:51:38.917528Z"
    }
   },
   "outputs": [
    {
     "name": "stdout",
     "output_type": "stream",
     "text": [
      "value count : \n",
      "0    129\n",
      "1    474\n",
      "2    618\n",
      "3    674\n",
      "4    634\n",
      "5    471\n",
      "Name: Food and drink, dtype: int64\n",
      "\n",
      "그룹별 만족(target) value count : \n",
      "Food and drink\n",
      "0    107\n",
      "1    237\n",
      "2    264\n",
      "3    288\n",
      "4    385\n",
      "5    387\n",
      "Name: target, dtype: int64\n",
      "\n",
      "그룹별 만족(target) 비율 : \n",
      "Food and drink\n",
      "0    0.829457\n",
      "1    0.500000\n",
      "2    0.427184\n",
      "3    0.427300\n",
      "4    0.607256\n",
      "5    0.821656\n",
      "Name: target, dtype: float64\n",
      "\n"
     ]
    }
   ],
   "source": [
    "discrete_feat('Food and drink')"
   ]
  },
  {
   "cell_type": "markdown",
   "metadata": {},
   "source": [
    "### Gate location"
   ]
  },
  {
   "cell_type": "code",
   "execution_count": 17,
   "metadata": {
    "ExecuteTime": {
     "end_time": "2022-02-10T13:51:38.961608Z",
     "start_time": "2022-02-10T13:51:38.934537Z"
    }
   },
   "outputs": [
    {
     "name": "stdout",
     "output_type": "stream",
     "text": [
      "value count : \n",
      "1    494\n",
      "2    558\n",
      "3    801\n",
      "4    698\n",
      "5    449\n",
      "Name: Gate location, dtype: int64\n",
      "\n",
      "그룹별 만족(target) value count : \n",
      "Gate location\n",
      "1    302\n",
      "2    332\n",
      "3    364\n",
      "4    370\n",
      "5    300\n",
      "Name: target, dtype: int64\n",
      "\n",
      "그룹별 만족(target) 비율 : \n",
      "Gate location\n",
      "1    0.611336\n",
      "2    0.594982\n",
      "3    0.454432\n",
      "4    0.530086\n",
      "5    0.668151\n",
      "Name: target, dtype: float64\n",
      "\n"
     ]
    }
   ],
   "source": [
    "discrete_feat('Gate location')"
   ]
  },
  {
   "cell_type": "markdown",
   "metadata": {},
   "source": [
    "### Inflight wifi service"
   ]
  },
  {
   "cell_type": "code",
   "execution_count": 18,
   "metadata": {
    "ExecuteTime": {
     "end_time": "2022-02-10T13:51:38.991809Z",
     "start_time": "2022-02-10T13:51:38.965965Z"
    }
   },
   "outputs": [
    {
     "name": "stdout",
     "output_type": "stream",
     "text": [
      "value count : \n",
      "0      2\n",
      "1    334\n",
      "2    643\n",
      "3    603\n",
      "4    740\n",
      "5    678\n",
      "Name: Inflight wifi service, dtype: int64\n",
      "\n",
      "그룹별 만족(target) value count : \n",
      "Inflight wifi service\n",
      "0      0\n",
      "1     91\n",
      "2    330\n",
      "3    291\n",
      "4    489\n",
      "5    467\n",
      "Name: target, dtype: int64\n",
      "\n",
      "그룹별 만족(target) 비율 : \n",
      "Inflight wifi service\n",
      "0    0.000000\n",
      "1    0.272455\n",
      "2    0.513219\n",
      "3    0.482587\n",
      "4    0.660811\n",
      "5    0.688791\n",
      "Name: target, dtype: float64\n",
      "\n"
     ]
    }
   ],
   "source": [
    "discrete_feat('Inflight wifi service')"
   ]
  },
  {
   "cell_type": "markdown",
   "metadata": {},
   "source": [
    "### Inflight entertainment\n",
    "\n",
    "> 비행 중 엔터테인먼트\n",
    "- 0점이 만족도가 높음 -> 만족도에 영향이 없거나 대충 적었을 수도 있고"
   ]
  },
  {
   "cell_type": "code",
   "execution_count": 19,
   "metadata": {
    "ExecuteTime": {
     "end_time": "2022-02-10T13:51:39.024101Z",
     "start_time": "2022-02-10T13:51:38.994869Z"
    }
   },
   "outputs": [
    {
     "name": "stdout",
     "output_type": "stream",
     "text": [
      "value count : \n",
      "0     73\n",
      "1    283\n",
      "2    451\n",
      "3    564\n",
      "4    965\n",
      "5    664\n",
      "Name: Inflight entertainment, dtype: int64\n",
      "\n",
      "그룹별 만족(target) value count : \n",
      "Inflight entertainment\n",
      "0     55\n",
      "1     63\n",
      "2     65\n",
      "3    125\n",
      "4    722\n",
      "5    638\n",
      "Name: target, dtype: int64\n",
      "\n",
      "그룹별 만족(target) 비율 : \n",
      "Inflight entertainment\n",
      "0    0.753425\n",
      "1    0.222615\n",
      "2    0.144124\n",
      "3    0.221631\n",
      "4    0.748187\n",
      "5    0.960843\n",
      "Name: target, dtype: float64\n",
      "\n"
     ]
    }
   ],
   "source": [
    "discrete_feat('Inflight entertainment')"
   ]
  },
  {
   "cell_type": "markdown",
   "metadata": {},
   "source": [
    "### Online support"
   ]
  },
  {
   "cell_type": "code",
   "execution_count": 20,
   "metadata": {
    "ExecuteTime": {
     "end_time": "2022-02-10T13:51:39.055723Z",
     "start_time": "2022-02-10T13:51:39.026624Z"
    }
   },
   "outputs": [
    {
     "name": "stdout",
     "output_type": "stream",
     "text": [
      "value count : \n",
      "1     347\n",
      "2     371\n",
      "3     491\n",
      "4    1002\n",
      "5     789\n",
      "Name: Online support, dtype: int64\n",
      "\n",
      "그룹별 만족(target) value count : \n",
      "Online support\n",
      "1    100\n",
      "2    102\n",
      "3    139\n",
      "4    705\n",
      "5    622\n",
      "Name: target, dtype: int64\n",
      "\n",
      "그룹별 만족(target) 비율 : \n",
      "Online support\n",
      "1    0.288184\n",
      "2    0.274933\n",
      "3    0.283096\n",
      "4    0.703593\n",
      "5    0.788340\n",
      "Name: target, dtype: float64\n",
      "\n"
     ]
    }
   ],
   "source": [
    "discrete_feat('Online support')"
   ]
  },
  {
   "cell_type": "markdown",
   "metadata": {},
   "source": [
    "### Ease of Online booking"
   ]
  },
  {
   "cell_type": "code",
   "execution_count": 21,
   "metadata": {
    "ExecuteTime": {
     "end_time": "2022-02-10T13:51:39.086545Z",
     "start_time": "2022-02-10T13:51:39.058657Z"
    }
   },
   "outputs": [
    {
     "name": "stdout",
     "output_type": "stream",
     "text": [
      "value count : \n",
      "0      1\n",
      "1    308\n",
      "2    450\n",
      "3    496\n",
      "4    957\n",
      "5    788\n",
      "Name: Ease of Online booking, dtype: int64\n",
      "\n",
      "그룹별 만족(target) value count : \n",
      "Ease of Online booking\n",
      "0      0\n",
      "1     54\n",
      "2    127\n",
      "3    180\n",
      "4    696\n",
      "5    611\n",
      "Name: target, dtype: int64\n",
      "\n",
      "그룹별 만족(target) 비율 : \n",
      "Ease of Online booking\n",
      "0    0.000000\n",
      "1    0.175325\n",
      "2    0.282222\n",
      "3    0.362903\n",
      "4    0.727273\n",
      "5    0.775381\n",
      "Name: target, dtype: float64\n",
      "\n"
     ]
    }
   ],
   "source": [
    "discrete_feat('Ease of Online booking')"
   ]
  },
  {
   "cell_type": "markdown",
   "metadata": {},
   "source": [
    "### On-board service"
   ]
  },
  {
   "cell_type": "code",
   "execution_count": 22,
   "metadata": {
    "ExecuteTime": {
     "end_time": "2022-02-10T13:51:39.117949Z",
     "start_time": "2022-02-10T13:51:39.088545Z"
    }
   },
   "outputs": [
    {
     "name": "stdout",
     "output_type": "stream",
     "text": [
      "value count : \n",
      "1    317\n",
      "2    374\n",
      "3    580\n",
      "4    959\n",
      "5    770\n",
      "Name: On-board service, dtype: int64\n",
      "\n",
      "그룹별 만족(target) value count : \n",
      "On-board service\n",
      "1     88\n",
      "2    124\n",
      "3    240\n",
      "4    615\n",
      "5    601\n",
      "Name: target, dtype: int64\n",
      "\n",
      "그룹별 만족(target) 비율 : \n",
      "On-board service\n",
      "1    0.277603\n",
      "2    0.331551\n",
      "3    0.413793\n",
      "4    0.641293\n",
      "5    0.780519\n",
      "Name: target, dtype: float64\n",
      "\n"
     ]
    }
   ],
   "source": [
    "discrete_feat('On-board service')"
   ]
  },
  {
   "cell_type": "markdown",
   "metadata": {},
   "source": [
    "### Leg room service"
   ]
  },
  {
   "cell_type": "code",
   "execution_count": 23,
   "metadata": {
    "ExecuteTime": {
     "end_time": "2022-02-10T13:51:39.149223Z",
     "start_time": "2022-02-10T13:51:39.122990Z"
    }
   },
   "outputs": [
    {
     "name": "stdout",
     "output_type": "stream",
     "text": [
      "value count : \n",
      "0     11\n",
      "1    254\n",
      "2    510\n",
      "3    518\n",
      "4    908\n",
      "5    799\n",
      "Name: Leg room service, dtype: int64\n",
      "\n",
      "그룹별 만족(target) value count : \n",
      "Leg room service\n",
      "0      9\n",
      "1     70\n",
      "2    201\n",
      "3    183\n",
      "4    633\n",
      "5    572\n",
      "Name: target, dtype: int64\n",
      "\n",
      "그룹별 만족(target) 비율 : \n",
      "Leg room service\n",
      "0    0.818182\n",
      "1    0.275591\n",
      "2    0.394118\n",
      "3    0.353282\n",
      "4    0.697137\n",
      "5    0.715895\n",
      "Name: target, dtype: float64\n",
      "\n"
     ]
    }
   ],
   "source": [
    "discrete_feat('Leg room service')"
   ]
  },
  {
   "cell_type": "markdown",
   "metadata": {},
   "source": [
    "### Baggage handling"
   ]
  },
  {
   "cell_type": "code",
   "execution_count": 24,
   "metadata": {
    "ExecuteTime": {
     "end_time": "2022-02-10T13:51:39.180879Z",
     "start_time": "2022-02-10T13:51:39.152218Z"
    }
   },
   "outputs": [
    {
     "name": "stdout",
     "output_type": "stream",
     "text": [
      "value count : \n",
      "1     182\n",
      "2     290\n",
      "3     553\n",
      "4    1110\n",
      "5     865\n",
      "Name: Baggage handling, dtype: int64\n",
      "\n",
      "그룹별 만족(target) value count : \n",
      "Baggage handling\n",
      "1     76\n",
      "2    131\n",
      "3    186\n",
      "4    652\n",
      "5    623\n",
      "Name: target, dtype: int64\n",
      "\n",
      "그룹별 만족(target) 비율 : \n",
      "Baggage handling\n",
      "1    0.417582\n",
      "2    0.451724\n",
      "3    0.336347\n",
      "4    0.587387\n",
      "5    0.720231\n",
      "Name: target, dtype: float64\n",
      "\n"
     ]
    }
   ],
   "source": [
    "discrete_feat('Baggage handling')"
   ]
  },
  {
   "cell_type": "markdown",
   "metadata": {},
   "source": [
    "### Checkin service"
   ]
  },
  {
   "cell_type": "code",
   "execution_count": 25,
   "metadata": {
    "ExecuteTime": {
     "end_time": "2022-02-10T13:51:39.212832Z",
     "start_time": "2022-02-10T13:51:39.185614Z"
    }
   },
   "outputs": [
    {
     "name": "stdout",
     "output_type": "stream",
     "text": [
      "value count : \n",
      "1    334\n",
      "2    367\n",
      "3    809\n",
      "4    835\n",
      "5    655\n",
      "Name: Checkin service, dtype: int64\n",
      "\n",
      "그룹별 만족(target) value count : \n",
      "Checkin service\n",
      "1    124\n",
      "2    119\n",
      "3    452\n",
      "4    495\n",
      "5    478\n",
      "Name: target, dtype: int64\n",
      "\n",
      "그룹별 만족(target) 비율 : \n",
      "Checkin service\n",
      "1    0.371257\n",
      "2    0.324251\n",
      "3    0.558714\n",
      "4    0.592814\n",
      "5    0.729771\n",
      "Name: target, dtype: float64\n",
      "\n"
     ]
    }
   ],
   "source": [
    "discrete_feat('Checkin service')"
   ]
  },
  {
   "cell_type": "markdown",
   "metadata": {},
   "source": [
    "### Cleanliness"
   ]
  },
  {
   "cell_type": "code",
   "execution_count": 26,
   "metadata": {
    "ExecuteTime": {
     "end_time": "2022-02-10T13:51:39.242747Z",
     "start_time": "2022-02-10T13:51:39.216616Z"
    }
   },
   "outputs": [
    {
     "name": "stdout",
     "output_type": "stream",
     "text": [
      "value count : \n",
      "1     191\n",
      "2     295\n",
      "3     510\n",
      "4    1145\n",
      "5     859\n",
      "Name: Cleanliness, dtype: int64\n",
      "\n",
      "그룹별 만족(target) value count : \n",
      "Cleanliness\n",
      "1     92\n",
      "2    112\n",
      "3    172\n",
      "4    666\n",
      "5    626\n",
      "Name: target, dtype: int64\n",
      "\n",
      "그룹별 만족(target) 비율 : \n",
      "Cleanliness\n",
      "1    0.481675\n",
      "2    0.379661\n",
      "3    0.337255\n",
      "4    0.581659\n",
      "5    0.728754\n",
      "Name: target, dtype: float64\n",
      "\n"
     ]
    }
   ],
   "source": [
    "discrete_feat('Cleanliness')"
   ]
  },
  {
   "cell_type": "markdown",
   "metadata": {},
   "source": [
    "### Online boarding"
   ]
  },
  {
   "cell_type": "code",
   "execution_count": 27,
   "metadata": {
    "ExecuteTime": {
     "end_time": "2022-02-10T13:51:39.272790Z",
     "start_time": "2022-02-10T13:51:39.245614Z"
    }
   },
   "outputs": [
    {
     "name": "stdout",
     "output_type": "stream",
     "text": [
      "value count : \n",
      "0      1\n",
      "1    356\n",
      "2    414\n",
      "3    710\n",
      "4    840\n",
      "5    679\n",
      "Name: Online boarding, dtype: int64\n",
      "\n",
      "그룹별 만족(target) value count : \n",
      "Online boarding\n",
      "0      0\n",
      "1     95\n",
      "2    112\n",
      "3    395\n",
      "4    558\n",
      "5    508\n",
      "Name: target, dtype: int64\n",
      "\n",
      "그룹별 만족(target) 비율 : \n",
      "Online boarding\n",
      "0    0.000000\n",
      "1    0.266854\n",
      "2    0.270531\n",
      "3    0.556338\n",
      "4    0.664286\n",
      "5    0.748159\n",
      "Name: target, dtype: float64\n",
      "\n"
     ]
    }
   ],
   "source": [
    "discrete_feat('Online boarding')"
   ]
  },
  {
   "cell_type": "markdown",
   "metadata": {},
   "source": [
    "## 연속형"
   ]
  },
  {
   "cell_type": "markdown",
   "metadata": {},
   "source": [
    "### Age"
   ]
  },
  {
   "cell_type": "code",
   "execution_count": 28,
   "metadata": {
    "ExecuteTime": {
     "end_time": "2022-02-10T13:51:39.288647Z",
     "start_time": "2022-02-10T13:51:39.274645Z"
    }
   },
   "outputs": [
    {
     "data": {
      "text/plain": [
       "count    3000.000000\n",
       "mean       39.203000\n",
       "std        15.108802\n",
       "min         7.000000\n",
       "25%        27.000000\n",
       "50%        39.000000\n",
       "75%        51.000000\n",
       "max        80.000000\n",
       "Name: Age, dtype: float64"
      ]
     },
     "execution_count": 28,
     "metadata": {},
     "output_type": "execute_result"
    }
   ],
   "source": [
    "df_train['Age'].describe()"
   ]
  },
  {
   "cell_type": "code",
   "execution_count": 29,
   "metadata": {
    "ExecuteTime": {
     "end_time": "2022-02-10T13:51:39.304382Z",
     "start_time": "2022-02-10T13:51:39.290649Z"
    }
   },
   "outputs": [],
   "source": [
    "def age_categorize(age):\n",
    "    age = (age // 10) * 10\n",
    "    return age"
   ]
  },
  {
   "cell_type": "code",
   "execution_count": 30,
   "metadata": {
    "ExecuteTime": {
     "end_time": "2022-02-10T13:51:39.320086Z",
     "start_time": "2022-02-10T13:51:39.305975Z"
    }
   },
   "outputs": [],
   "source": [
    "# 나이대별로 카테고리화\n",
    "Age_category = df_train['Age'].apply(age_categorize)\n",
    "df_train['Age_cat'] = Age_category.astype('category')"
   ]
  },
  {
   "cell_type": "code",
   "execution_count": 31,
   "metadata": {
    "ExecuteTime": {
     "end_time": "2022-02-10T13:51:39.555659Z",
     "start_time": "2022-02-10T13:51:39.321941Z"
    }
   },
   "outputs": [
    {
     "data": {
      "image/png": "[encoded data removed]",
      "text/plain": [
       "<Figure size 864x576 with 1 Axes>"
      ]
     },
     "metadata": {},
     "output_type": "display_data"
    }
   ],
   "source": [
    "# 나이대 count plot\n",
    "plt.figure(figsize=(12,8))\n",
    "sns.countplot(y='Age_cat', data=df_train)\n",
    "plt.show()"
   ]
  },
  {
   "cell_type": "code",
   "execution_count": 32,
   "metadata": {
    "ExecuteTime": {
     "end_time": "2022-02-10T13:51:39.587550Z",
     "start_time": "2022-02-10T13:51:39.558438Z"
    }
   },
   "outputs": [
    {
     "data": {
      "text/html": [
       "<div>\n",
       "<style scoped>\n",
       "    .dataframe tbody tr th:only-of-type {\n",
       "        vertical-align: middle;\n",
       "    }\n",
       "\n",
       "    .dataframe tbody tr th {\n",
       "        vertical-align: top;\n",
       "    }\n",
       "\n",
       "    .dataframe thead th {\n",
       "        text-align: right;\n",
       "    }\n",
       "</style>\n",
       "<table border=\"1\" class=\"dataframe\">\n",
       "  <thead>\n",
       "    <tr style=\"text-align: right;\">\n",
       "      <th></th>\n",
       "      <th>target</th>\n",
       "    </tr>\n",
       "    <tr>\n",
       "      <th>Age_cat</th>\n",
       "      <th></th>\n",
       "    </tr>\n",
       "  </thead>\n",
       "  <tbody>\n",
       "    <tr>\n",
       "      <th>0</th>\n",
       "      <td>0.464286</td>\n",
       "    </tr>\n",
       "    <tr>\n",
       "      <th>10</th>\n",
       "      <td>0.449580</td>\n",
       "    </tr>\n",
       "    <tr>\n",
       "      <th>20</th>\n",
       "      <td>0.459322</td>\n",
       "    </tr>\n",
       "    <tr>\n",
       "      <th>30</th>\n",
       "      <td>0.539200</td>\n",
       "    </tr>\n",
       "    <tr>\n",
       "      <th>40</th>\n",
       "      <td>0.643399</td>\n",
       "    </tr>\n",
       "    <tr>\n",
       "      <th>50</th>\n",
       "      <td>0.648551</td>\n",
       "    </tr>\n",
       "    <tr>\n",
       "      <th>60</th>\n",
       "      <td>0.520325</td>\n",
       "    </tr>\n",
       "    <tr>\n",
       "      <th>70</th>\n",
       "      <td>0.500000</td>\n",
       "    </tr>\n",
       "    <tr>\n",
       "      <th>80</th>\n",
       "      <td>0.500000</td>\n",
       "    </tr>\n",
       "  </tbody>\n",
       "</table>\n",
       "</div>"
      ],
      "text/plain": [
       "           target\n",
       "Age_cat          \n",
       "0        0.464286\n",
       "10       0.449580\n",
       "20       0.459322\n",
       "30       0.539200\n",
       "40       0.643399\n",
       "50       0.648551\n",
       "60       0.520325\n",
       "70       0.500000\n",
       "80       0.500000"
      ]
     },
     "execution_count": 32,
     "metadata": {},
     "output_type": "execute_result"
    }
   ],
   "source": [
    "# 나이대별 만족도 비율\n",
    "mean_by_age_cat = df_train['target'].groupby(df_train['Age_cat']).mean()\n",
    "pd.DataFrame(mean_by_age_cat)"
   ]
  },
  {
   "cell_type": "code",
   "execution_count": 33,
   "metadata": {
    "ExecuteTime": {
     "end_time": "2022-02-10T13:51:39.769901Z",
     "start_time": "2022-02-10T13:51:39.590438Z"
    }
   },
   "outputs": [
    {
     "data": {
      "image/png": "[encoded data removed]",
      "text/plain": [
       "<Figure size 864x576 with 1 Axes>"
      ]
     },
     "metadata": {},
     "output_type": "display_data"
    }
   ],
   "source": [
    "plt.figure(figsize=(12,8))\n",
    "mean_by_age_cat.plot.bar(color='red')\n",
    "plt.show()"
   ]
  },
  {
   "cell_type": "code",
   "execution_count": 34,
   "metadata": {
    "ExecuteTime": {
     "end_time": "2022-02-10T13:51:39.785458Z",
     "start_time": "2022-02-10T13:51:39.773777Z"
    }
   },
   "outputs": [],
   "source": [
    "# 아래에서 다시 추가\n",
    "df_train.drop(['Age_cat'], axis=1, inplace=True)"
   ]
  },
  {
   "cell_type": "markdown",
   "metadata": {
    "ExecuteTime": {
     "end_time": "2022-02-09T08:20:15.549351Z",
     "start_time": "2022-02-09T08:20:15.530357Z"
    }
   },
   "source": [
    "### Flight distance\n",
    "\n",
    "> 비행거리\n",
    "- 어떻게 해야 한 눈에 보일까아아아아아아"
   ]
  },
  {
   "cell_type": "code",
   "execution_count": 35,
   "metadata": {
    "ExecuteTime": {
     "end_time": "2022-02-10T13:51:39.817548Z",
     "start_time": "2022-02-10T13:51:39.792487Z"
    }
   },
   "outputs": [
    {
     "data": {
      "text/plain": [
       "count    3000.000000\n",
       "mean     1983.079333\n",
       "std      1028.109117\n",
       "min        52.000000\n",
       "25%      1348.250000\n",
       "50%      1937.000000\n",
       "75%      2547.250000\n",
       "max      6882.000000\n",
       "Name: Flight Distance, dtype: float64"
      ]
     },
     "execution_count": 35,
     "metadata": {},
     "output_type": "execute_result"
    }
   ],
   "source": [
    "df_train['Flight Distance'].describe()"
   ]
  },
  {
   "cell_type": "code",
   "execution_count": 36,
   "metadata": {
    "ExecuteTime": {
     "end_time": "2022-02-10T13:51:40.172854Z",
     "start_time": "2022-02-10T13:51:39.821537Z"
    }
   },
   "outputs": [
    {
     "data": {
      "image/png": "[encoded data removed]",
      "text/plain": [
       "<Figure size 1152x576 with 2 Axes>"
      ]
     },
     "metadata": {},
     "output_type": "display_data"
    }
   ],
   "source": [
    "plt.figure(figsize=(16,8))\n",
    "\n",
    "plt.subplot(1,2,1)\n",
    "plt.boxplot(df_train['Flight Distance'])\n",
    "\n",
    "plt.subplot(1,2,2)\n",
    "sns.distplot(df_train['Flight Distance'], color='b',fit=stats.norm)\n",
    "plt.show()"
   ]
  },
  {
   "cell_type": "code",
   "execution_count": 37,
   "metadata": {
    "ExecuteTime": {
     "end_time": "2022-02-10T13:51:40.466758Z",
     "start_time": "2022-02-10T13:51:40.174838Z"
    }
   },
   "outputs": [
    {
     "data": {
      "image/png": "[encoded data removed]",
      "text/plain": [
       "<Figure size 1152x576 with 2 Axes>"
      ]
     },
     "metadata": {},
     "output_type": "display_data"
    }
   ],
   "source": [
    "# 만족한 사람들 - 비행 거리\n",
    "plt.figure(figsize=(16,8))\n",
    "\n",
    "plt.subplot(1,2,1)\n",
    "plt.boxplot(df_train[df_train['target'] == 1]['Flight Distance'])\n",
    "\n",
    "plt.subplot(1,2,2)\n",
    "sns.distplot(df_train[df_train['target'] == 1]['Flight Distance'], color='b',fit=stats.norm)\n",
    "plt.show()"
   ]
  },
  {
   "cell_type": "code",
   "execution_count": 38,
   "metadata": {
    "ExecuteTime": {
     "end_time": "2022-02-10T13:51:40.820464Z",
     "start_time": "2022-02-10T13:51:40.468773Z"
    }
   },
   "outputs": [
    {
     "data": {
      "image/png": "[encoded data removed]",
      "text/plain": [
       "<Figure size 1152x576 with 2 Axes>"
      ]
     },
     "metadata": {},
     "output_type": "display_data"
    }
   ],
   "source": [
    "# 만족안한 사람들 - 비행 거리\n",
    "plt.figure(figsize=(16,8))\n",
    "\n",
    "plt.subplot(1,2,1)\n",
    "plt.boxplot(df_train[df_train['target'] == 0]['Flight Distance'])\n",
    "\n",
    "plt.subplot(1,2,2)\n",
    "sns.distplot(df_train[df_train['target'] == 0]['Flight Distance'], color='b',fit=stats.norm)\n",
    "plt.show()"
   ]
  },
  {
   "cell_type": "markdown",
   "metadata": {},
   "source": [
    "### Departure Delay in Minutes"
   ]
  },
  {
   "cell_type": "code",
   "execution_count": 39,
   "metadata": {
    "ExecuteTime": {
     "end_time": "2022-02-10T13:51:40.850797Z",
     "start_time": "2022-02-10T13:51:40.824456Z"
    }
   },
   "outputs": [
    {
     "data": {
      "text/plain": [
       "count    3000.000000\n",
       "mean       15.634333\n",
       "std        45.083228\n",
       "min         0.000000\n",
       "25%         0.000000\n",
       "50%         0.000000\n",
       "75%        12.000000\n",
       "max      1128.000000\n",
       "Name: Departure Delay in Minutes, dtype: float64"
      ]
     },
     "execution_count": 39,
     "metadata": {},
     "output_type": "execute_result"
    }
   ],
   "source": [
    "df_train['Departure Delay in Minutes'].describe()"
   ]
  },
  {
   "cell_type": "code",
   "execution_count": 40,
   "metadata": {
    "ExecuteTime": {
     "end_time": "2022-02-10T13:51:40.866513Z",
     "start_time": "2022-02-10T13:51:40.855541Z"
    }
   },
   "outputs": [
    {
     "data": {
      "text/plain": [
       "1295"
      ]
     },
     "execution_count": 40,
     "metadata": {},
     "output_type": "execute_result"
    }
   ],
   "source": [
    "# 출발 딜레이가 있었던 사람 수\n",
    "(df_train['Departure Delay in Minutes']!=0).sum()"
   ]
  },
  {
   "cell_type": "code",
   "execution_count": 41,
   "metadata": {
    "ExecuteTime": {
     "end_time": "2022-02-10T13:51:40.881511Z",
     "start_time": "2022-02-10T13:51:40.869521Z"
    }
   },
   "outputs": [
    {
     "data": {
      "text/plain": [
       "632"
      ]
     },
     "execution_count": 41,
     "metadata": {},
     "output_type": "execute_result"
    }
   ],
   "source": [
    "# 출발 딜레이 있는 사람 중 불만족인 사람 수\n",
    "((df_train['Departure Delay in Minutes']!=0)&(df_train['target']==0)).sum()"
   ]
  },
  {
   "cell_type": "code",
   "execution_count": 42,
   "metadata": {
    "ExecuteTime": {
     "end_time": "2022-02-10T13:51:41.035095Z",
     "start_time": "2022-02-10T13:51:40.884444Z"
    }
   },
   "outputs": [
    {
     "data": {
      "image/png": "[encoded data removed]",
      "text/plain": [
       "<Figure size 576x576 with 1 Axes>"
      ]
     },
     "metadata": {},
     "output_type": "display_data"
    }
   ],
   "source": [
    "plt.figure(figsize=(8,8))\n",
    "plt.scatter(x=df_train['Departure Delay in Minutes'], y=df_train['target'])\n",
    "plt.show()"
   ]
  },
  {
   "cell_type": "code",
   "execution_count": 43,
   "metadata": {
    "ExecuteTime": {
     "end_time": "2022-02-10T13:51:41.066553Z",
     "start_time": "2022-02-10T13:51:41.036995Z"
    }
   },
   "outputs": [
    {
     "data": {
      "text/html": [
       "<div>\n",
       "<style scoped>\n",
       "    .dataframe tbody tr th:only-of-type {\n",
       "        vertical-align: middle;\n",
       "    }\n",
       "\n",
       "    .dataframe tbody tr th {\n",
       "        vertical-align: top;\n",
       "    }\n",
       "\n",
       "    .dataframe thead th {\n",
       "        text-align: right;\n",
       "    }\n",
       "</style>\n",
       "<table border=\"1\" class=\"dataframe\">\n",
       "  <thead>\n",
       "    <tr style=\"text-align: right;\">\n",
       "      <th></th>\n",
       "      <th>Gender</th>\n",
       "      <th>Customer Type</th>\n",
       "      <th>Age</th>\n",
       "      <th>Type of Travel</th>\n",
       "      <th>Class</th>\n",
       "      <th>Flight Distance</th>\n",
       "      <th>Seat comfort</th>\n",
       "      <th>Departure/Arrival time convenient</th>\n",
       "      <th>Food and drink</th>\n",
       "      <th>Gate location</th>\n",
       "      <th>...</th>\n",
       "      <th>Ease of Online booking</th>\n",
       "      <th>On-board service</th>\n",
       "      <th>Leg room service</th>\n",
       "      <th>Baggage handling</th>\n",
       "      <th>Checkin service</th>\n",
       "      <th>Cleanliness</th>\n",
       "      <th>Online boarding</th>\n",
       "      <th>Departure Delay in Minutes</th>\n",
       "      <th>Arrival Delay in Minutes</th>\n",
       "      <th>target</th>\n",
       "    </tr>\n",
       "  </thead>\n",
       "  <tbody>\n",
       "    <tr>\n",
       "      <th>1842</th>\n",
       "      <td>Female</td>\n",
       "      <td>disloyal Customer</td>\n",
       "      <td>39</td>\n",
       "      <td>Business travel</td>\n",
       "      <td>Eco</td>\n",
       "      <td>2431</td>\n",
       "      <td>3</td>\n",
       "      <td>3</td>\n",
       "      <td>3</td>\n",
       "      <td>3</td>\n",
       "      <td>...</td>\n",
       "      <td>5</td>\n",
       "      <td>3</td>\n",
       "      <td>1</td>\n",
       "      <td>5</td>\n",
       "      <td>4</td>\n",
       "      <td>1</td>\n",
       "      <td>4</td>\n",
       "      <td>652</td>\n",
       "      <td>638.0</td>\n",
       "      <td>0</td>\n",
       "    </tr>\n",
       "    <tr>\n",
       "      <th>2349</th>\n",
       "      <td>Male</td>\n",
       "      <td>Loyal Customer</td>\n",
       "      <td>8</td>\n",
       "      <td>Personal Travel</td>\n",
       "      <td>Eco</td>\n",
       "      <td>3017</td>\n",
       "      <td>2</td>\n",
       "      <td>5</td>\n",
       "      <td>2</td>\n",
       "      <td>2</td>\n",
       "      <td>...</td>\n",
       "      <td>4</td>\n",
       "      <td>4</td>\n",
       "      <td>3</td>\n",
       "      <td>5</td>\n",
       "      <td>1</td>\n",
       "      <td>3</td>\n",
       "      <td>1</td>\n",
       "      <td>1128</td>\n",
       "      <td>1115.0</td>\n",
       "      <td>0</td>\n",
       "    </tr>\n",
       "  </tbody>\n",
       "</table>\n",
       "<p>2 rows × 23 columns</p>\n",
       "</div>"
      ],
      "text/plain": [
       "      Gender      Customer Type  Age   Type of Travel Class  Flight Distance  \\\n",
       "1842  Female  disloyal Customer   39  Business travel   Eco             2431   \n",
       "2349    Male     Loyal Customer    8  Personal Travel   Eco             3017   \n",
       "\n",
       "      Seat comfort  Departure/Arrival time convenient  Food and drink  \\\n",
       "1842             3                                  3               3   \n",
       "2349             2                                  5               2   \n",
       "\n",
       "      Gate location  ...  Ease of Online booking  On-board service  \\\n",
       "1842              3  ...                       5                 3   \n",
       "2349              2  ...                       4                 4   \n",
       "\n",
       "      Leg room service  Baggage handling  Checkin service  Cleanliness  \\\n",
       "1842                 1                 5                4            1   \n",
       "2349                 3                 5                1            3   \n",
       "\n",
       "      Online boarding  Departure Delay in Minutes  Arrival Delay in Minutes  \\\n",
       "1842                4                         652                     638.0   \n",
       "2349                1                        1128                    1115.0   \n",
       "\n",
       "      target  \n",
       "1842       0  \n",
       "2349       0  \n",
       "\n",
       "[2 rows x 23 columns]"
      ]
     },
     "execution_count": 43,
     "metadata": {},
     "output_type": "execute_result"
    }
   ],
   "source": [
    "df_train[df_train['Departure Delay in Minutes']>=600]"
   ]
  },
  {
   "cell_type": "code",
   "execution_count": 44,
   "metadata": {
    "ExecuteTime": {
     "end_time": "2022-02-10T13:51:41.082557Z",
     "start_time": "2022-02-10T13:51:41.068555Z"
    }
   },
   "outputs": [
    {
     "data": {
      "text/plain": [
       "(array([592], dtype=int64),)"
      ]
     },
     "execution_count": 44,
     "metadata": {},
     "output_type": "execute_result"
    }
   ],
   "source": [
    "# 만족한 사람들 중 딜레이된 시간이 가장 긴 사람\n",
    "np.where(df_train['Departure Delay in Minutes'] == 435)"
   ]
  },
  {
   "cell_type": "markdown",
   "metadata": {},
   "source": [
    "### Arrival Delay in Minutes\n",
    "\n",
    "> 도착 지연"
   ]
  },
  {
   "cell_type": "code",
   "execution_count": 45,
   "metadata": {
    "ExecuteTime": {
     "end_time": "2022-02-10T13:51:41.097661Z",
     "start_time": "2022-02-10T13:51:41.085665Z"
    }
   },
   "outputs": [
    {
     "data": {
      "text/plain": [
       "count    3000.000000\n",
       "mean       15.922000\n",
       "std        45.203411\n",
       "min         0.000000\n",
       "25%         0.000000\n",
       "50%         0.000000\n",
       "75%        13.000000\n",
       "max      1115.000000\n",
       "Name: Arrival Delay in Minutes, dtype: float64"
      ]
     },
     "execution_count": 45,
     "metadata": {},
     "output_type": "execute_result"
    }
   ],
   "source": [
    "df_train['Arrival Delay in Minutes'].describe()"
   ]
  },
  {
   "cell_type": "code",
   "execution_count": 46,
   "metadata": {
    "ExecuteTime": {
     "end_time": "2022-02-10T13:51:41.112668Z",
     "start_time": "2022-02-10T13:51:41.099698Z"
    }
   },
   "outputs": [
    {
     "name": "stdout",
     "output_type": "stream",
     "text": [
      "289\n",
      "333\n"
     ]
    }
   ],
   "source": [
    "print(((df_train['Departure Delay in Minutes']!=0) & (df_train['Arrival Delay in Minutes']==0)).sum())\n",
    "print(((df_train['Departure Delay in Minutes']==0) & (df_train['Arrival Delay in Minutes']!=0)).sum())"
   ]
  },
  {
   "cell_type": "code",
   "execution_count": 47,
   "metadata": {
    "ExecuteTime": {
     "end_time": "2022-02-10T13:51:41.235779Z",
     "start_time": "2022-02-10T13:51:41.116662Z"
    }
   },
   "outputs": [
    {
     "data": {
      "text/html": [
       "<div>\n",
       "<style scoped>\n",
       "    .dataframe tbody tr th:only-of-type {\n",
       "        vertical-align: middle;\n",
       "    }\n",
       "\n",
       "    .dataframe tbody tr th {\n",
       "        vertical-align: top;\n",
       "    }\n",
       "\n",
       "    .dataframe thead th {\n",
       "        text-align: right;\n",
       "    }\n",
       "</style>\n",
       "<table border=\"1\" class=\"dataframe\">\n",
       "  <thead>\n",
       "    <tr style=\"text-align: right;\">\n",
       "      <th></th>\n",
       "      <th>Gender</th>\n",
       "      <th>Customer Type</th>\n",
       "      <th>Age</th>\n",
       "      <th>Type of Travel</th>\n",
       "      <th>Class</th>\n",
       "      <th>Flight Distance</th>\n",
       "      <th>Seat comfort</th>\n",
       "      <th>Departure/Arrival time convenient</th>\n",
       "      <th>Food and drink</th>\n",
       "      <th>Gate location</th>\n",
       "      <th>...</th>\n",
       "      <th>Ease of Online booking</th>\n",
       "      <th>On-board service</th>\n",
       "      <th>Leg room service</th>\n",
       "      <th>Baggage handling</th>\n",
       "      <th>Checkin service</th>\n",
       "      <th>Cleanliness</th>\n",
       "      <th>Online boarding</th>\n",
       "      <th>Departure Delay in Minutes</th>\n",
       "      <th>Arrival Delay in Minutes</th>\n",
       "      <th>target</th>\n",
       "    </tr>\n",
       "  </thead>\n",
       "  <tbody>\n",
       "    <tr>\n",
       "      <th>11</th>\n",
       "      <td>Female</td>\n",
       "      <td>disloyal Customer</td>\n",
       "      <td>32</td>\n",
       "      <td>Business travel</td>\n",
       "      <td>Business</td>\n",
       "      <td>1561</td>\n",
       "      <td>1</td>\n",
       "      <td>1</td>\n",
       "      <td>1</td>\n",
       "      <td>1</td>\n",
       "      <td>...</td>\n",
       "      <td>1</td>\n",
       "      <td>3</td>\n",
       "      <td>3</td>\n",
       "      <td>5</td>\n",
       "      <td>5</td>\n",
       "      <td>5</td>\n",
       "      <td>1</td>\n",
       "      <td>7</td>\n",
       "      <td>0.0</td>\n",
       "      <td>0</td>\n",
       "    </tr>\n",
       "    <tr>\n",
       "      <th>27</th>\n",
       "      <td>Female</td>\n",
       "      <td>Loyal Customer</td>\n",
       "      <td>40</td>\n",
       "      <td>Business travel</td>\n",
       "      <td>Business</td>\n",
       "      <td>3790</td>\n",
       "      <td>0</td>\n",
       "      <td>5</td>\n",
       "      <td>0</td>\n",
       "      <td>2</td>\n",
       "      <td>...</td>\n",
       "      <td>1</td>\n",
       "      <td>1</td>\n",
       "      <td>1</td>\n",
       "      <td>1</td>\n",
       "      <td>4</td>\n",
       "      <td>1</td>\n",
       "      <td>3</td>\n",
       "      <td>11</td>\n",
       "      <td>0.0</td>\n",
       "      <td>1</td>\n",
       "    </tr>\n",
       "    <tr>\n",
       "      <th>29</th>\n",
       "      <td>Female</td>\n",
       "      <td>Loyal Customer</td>\n",
       "      <td>33</td>\n",
       "      <td>Business travel</td>\n",
       "      <td>Business</td>\n",
       "      <td>3213</td>\n",
       "      <td>2</td>\n",
       "      <td>2</td>\n",
       "      <td>3</td>\n",
       "      <td>2</td>\n",
       "      <td>...</td>\n",
       "      <td>5</td>\n",
       "      <td>5</td>\n",
       "      <td>5</td>\n",
       "      <td>5</td>\n",
       "      <td>5</td>\n",
       "      <td>5</td>\n",
       "      <td>5</td>\n",
       "      <td>4</td>\n",
       "      <td>0.0</td>\n",
       "      <td>1</td>\n",
       "    </tr>\n",
       "    <tr>\n",
       "      <th>34</th>\n",
       "      <td>Male</td>\n",
       "      <td>disloyal Customer</td>\n",
       "      <td>29</td>\n",
       "      <td>Business travel</td>\n",
       "      <td>Business</td>\n",
       "      <td>3839</td>\n",
       "      <td>1</td>\n",
       "      <td>2</td>\n",
       "      <td>2</td>\n",
       "      <td>5</td>\n",
       "      <td>...</td>\n",
       "      <td>2</td>\n",
       "      <td>4</td>\n",
       "      <td>3</td>\n",
       "      <td>4</td>\n",
       "      <td>4</td>\n",
       "      <td>5</td>\n",
       "      <td>2</td>\n",
       "      <td>15</td>\n",
       "      <td>0.0</td>\n",
       "      <td>0</td>\n",
       "    </tr>\n",
       "    <tr>\n",
       "      <th>45</th>\n",
       "      <td>Female</td>\n",
       "      <td>Loyal Customer</td>\n",
       "      <td>63</td>\n",
       "      <td>Personal Travel</td>\n",
       "      <td>Eco Plus</td>\n",
       "      <td>524</td>\n",
       "      <td>5</td>\n",
       "      <td>5</td>\n",
       "      <td>5</td>\n",
       "      <td>5</td>\n",
       "      <td>...</td>\n",
       "      <td>3</td>\n",
       "      <td>3</td>\n",
       "      <td>5</td>\n",
       "      <td>3</td>\n",
       "      <td>4</td>\n",
       "      <td>3</td>\n",
       "      <td>4</td>\n",
       "      <td>9</td>\n",
       "      <td>0.0</td>\n",
       "      <td>1</td>\n",
       "    </tr>\n",
       "    <tr>\n",
       "      <th>...</th>\n",
       "      <td>...</td>\n",
       "      <td>...</td>\n",
       "      <td>...</td>\n",
       "      <td>...</td>\n",
       "      <td>...</td>\n",
       "      <td>...</td>\n",
       "      <td>...</td>\n",
       "      <td>...</td>\n",
       "      <td>...</td>\n",
       "      <td>...</td>\n",
       "      <td>...</td>\n",
       "      <td>...</td>\n",
       "      <td>...</td>\n",
       "      <td>...</td>\n",
       "      <td>...</td>\n",
       "      <td>...</td>\n",
       "      <td>...</td>\n",
       "      <td>...</td>\n",
       "      <td>...</td>\n",
       "      <td>...</td>\n",
       "      <td>...</td>\n",
       "    </tr>\n",
       "    <tr>\n",
       "      <th>2949</th>\n",
       "      <td>Male</td>\n",
       "      <td>Loyal Customer</td>\n",
       "      <td>56</td>\n",
       "      <td>Personal Travel</td>\n",
       "      <td>Eco</td>\n",
       "      <td>1569</td>\n",
       "      <td>1</td>\n",
       "      <td>3</td>\n",
       "      <td>1</td>\n",
       "      <td>2</td>\n",
       "      <td>...</td>\n",
       "      <td>3</td>\n",
       "      <td>1</td>\n",
       "      <td>1</td>\n",
       "      <td>3</td>\n",
       "      <td>5</td>\n",
       "      <td>5</td>\n",
       "      <td>3</td>\n",
       "      <td>4</td>\n",
       "      <td>0.0</td>\n",
       "      <td>0</td>\n",
       "    </tr>\n",
       "    <tr>\n",
       "      <th>2960</th>\n",
       "      <td>Male</td>\n",
       "      <td>Loyal Customer</td>\n",
       "      <td>33</td>\n",
       "      <td>Personal Travel</td>\n",
       "      <td>Eco</td>\n",
       "      <td>3665</td>\n",
       "      <td>4</td>\n",
       "      <td>4</td>\n",
       "      <td>4</td>\n",
       "      <td>4</td>\n",
       "      <td>...</td>\n",
       "      <td>3</td>\n",
       "      <td>1</td>\n",
       "      <td>4</td>\n",
       "      <td>5</td>\n",
       "      <td>5</td>\n",
       "      <td>4</td>\n",
       "      <td>3</td>\n",
       "      <td>1</td>\n",
       "      <td>0.0</td>\n",
       "      <td>1</td>\n",
       "    </tr>\n",
       "    <tr>\n",
       "      <th>2965</th>\n",
       "      <td>Female</td>\n",
       "      <td>Loyal Customer</td>\n",
       "      <td>40</td>\n",
       "      <td>Business travel</td>\n",
       "      <td>Business</td>\n",
       "      <td>1666</td>\n",
       "      <td>2</td>\n",
       "      <td>2</td>\n",
       "      <td>2</td>\n",
       "      <td>2</td>\n",
       "      <td>...</td>\n",
       "      <td>4</td>\n",
       "      <td>4</td>\n",
       "      <td>4</td>\n",
       "      <td>4</td>\n",
       "      <td>3</td>\n",
       "      <td>4</td>\n",
       "      <td>4</td>\n",
       "      <td>15</td>\n",
       "      <td>0.0</td>\n",
       "      <td>1</td>\n",
       "    </tr>\n",
       "    <tr>\n",
       "      <th>2971</th>\n",
       "      <td>Female</td>\n",
       "      <td>Loyal Customer</td>\n",
       "      <td>35</td>\n",
       "      <td>Business travel</td>\n",
       "      <td>Eco Plus</td>\n",
       "      <td>1929</td>\n",
       "      <td>3</td>\n",
       "      <td>4</td>\n",
       "      <td>4</td>\n",
       "      <td>4</td>\n",
       "      <td>...</td>\n",
       "      <td>3</td>\n",
       "      <td>1</td>\n",
       "      <td>1</td>\n",
       "      <td>3</td>\n",
       "      <td>1</td>\n",
       "      <td>3</td>\n",
       "      <td>3</td>\n",
       "      <td>5</td>\n",
       "      <td>0.0</td>\n",
       "      <td>0</td>\n",
       "    </tr>\n",
       "    <tr>\n",
       "      <th>2991</th>\n",
       "      <td>Male</td>\n",
       "      <td>Loyal Customer</td>\n",
       "      <td>57</td>\n",
       "      <td>Business travel</td>\n",
       "      <td>Eco</td>\n",
       "      <td>2148</td>\n",
       "      <td>2</td>\n",
       "      <td>3</td>\n",
       "      <td>3</td>\n",
       "      <td>3</td>\n",
       "      <td>...</td>\n",
       "      <td>2</td>\n",
       "      <td>3</td>\n",
       "      <td>1</td>\n",
       "      <td>4</td>\n",
       "      <td>2</td>\n",
       "      <td>3</td>\n",
       "      <td>2</td>\n",
       "      <td>13</td>\n",
       "      <td>0.0</td>\n",
       "      <td>0</td>\n",
       "    </tr>\n",
       "  </tbody>\n",
       "</table>\n",
       "<p>289 rows × 23 columns</p>\n",
       "</div>"
      ],
      "text/plain": [
       "      Gender      Customer Type  Age   Type of Travel     Class  \\\n",
       "11    Female  disloyal Customer   32  Business travel  Business   \n",
       "27    Female     Loyal Customer   40  Business travel  Business   \n",
       "29    Female     Loyal Customer   33  Business travel  Business   \n",
       "34      Male  disloyal Customer   29  Business travel  Business   \n",
       "45    Female     Loyal Customer   63  Personal Travel  Eco Plus   \n",
       "...      ...                ...  ...              ...       ...   \n",
       "2949    Male     Loyal Customer   56  Personal Travel       Eco   \n",
       "2960    Male     Loyal Customer   33  Personal Travel       Eco   \n",
       "2965  Female     Loyal Customer   40  Business travel  Business   \n",
       "2971  Female     Loyal Customer   35  Business travel  Eco Plus   \n",
       "2991    Male     Loyal Customer   57  Business travel       Eco   \n",
       "\n",
       "      Flight Distance  Seat comfort  Departure/Arrival time convenient  \\\n",
       "11               1561             1                                  1   \n",
       "27               3790             0                                  5   \n",
       "29               3213             2                                  2   \n",
       "34               3839             1                                  2   \n",
       "45                524             5                                  5   \n",
       "...               ...           ...                                ...   \n",
       "2949             1569             1                                  3   \n",
       "2960             3665             4                                  4   \n",
       "2965             1666             2                                  2   \n",
       "2971             1929             3                                  4   \n",
       "2991             2148             2                                  3   \n",
       "\n",
       "      Food and drink  Gate location  ...  Ease of Online booking  \\\n",
       "11                 1              1  ...                       1   \n",
       "27                 0              2  ...                       1   \n",
       "29                 3              2  ...                       5   \n",
       "34                 2              5  ...                       2   \n",
       "45                 5              5  ...                       3   \n",
       "...              ...            ...  ...                     ...   \n",
       "2949               1              2  ...                       3   \n",
       "2960               4              4  ...                       3   \n",
       "2965               2              2  ...                       4   \n",
       "2971               4              4  ...                       3   \n",
       "2991               3              3  ...                       2   \n",
       "\n",
       "      On-board service  Leg room service  Baggage handling  Checkin service  \\\n",
       "11                   3                 3                 5                5   \n",
       "27                   1                 1                 1                4   \n",
       "29                   5                 5                 5                5   \n",
       "34                   4                 3                 4                4   \n",
       "45                   3                 5                 3                4   \n",
       "...                ...               ...               ...              ...   \n",
       "2949                 1                 1                 3                5   \n",
       "2960                 1                 4                 5                5   \n",
       "2965                 4                 4                 4                3   \n",
       "2971                 1                 1                 3                1   \n",
       "2991                 3                 1                 4                2   \n",
       "\n",
       "      Cleanliness  Online boarding  Departure Delay in Minutes  \\\n",
       "11              5                1                           7   \n",
       "27              1                3                          11   \n",
       "29              5                5                           4   \n",
       "34              5                2                          15   \n",
       "45              3                4                           9   \n",
       "...           ...              ...                         ...   \n",
       "2949            5                3                           4   \n",
       "2960            4                3                           1   \n",
       "2965            4                4                          15   \n",
       "2971            3                3                           5   \n",
       "2991            3                2                          13   \n",
       "\n",
       "      Arrival Delay in Minutes  target  \n",
       "11                         0.0       0  \n",
       "27                         0.0       1  \n",
       "29                         0.0       1  \n",
       "34                         0.0       0  \n",
       "45                         0.0       1  \n",
       "...                        ...     ...  \n",
       "2949                       0.0       0  \n",
       "2960                       0.0       1  \n",
       "2965                       0.0       1  \n",
       "2971                       0.0       0  \n",
       "2991                       0.0       0  \n",
       "\n",
       "[289 rows x 23 columns]"
      ]
     },
     "execution_count": 47,
     "metadata": {},
     "output_type": "execute_result"
    }
   ],
   "source": [
    "df_train[(df_train['Departure Delay in Minutes']!=0) & (df_train['Arrival Delay in Minutes']==0)]"
   ]
  },
  {
   "cell_type": "code",
   "execution_count": 48,
   "metadata": {
    "ExecuteTime": {
     "end_time": "2022-02-10T13:51:41.281780Z",
     "start_time": "2022-02-10T13:51:41.237606Z"
    }
   },
   "outputs": [
    {
     "data": {
      "text/html": [
       "<div>\n",
       "<style scoped>\n",
       "    .dataframe tbody tr th:only-of-type {\n",
       "        vertical-align: middle;\n",
       "    }\n",
       "\n",
       "    .dataframe tbody tr th {\n",
       "        vertical-align: top;\n",
       "    }\n",
       "\n",
       "    .dataframe thead th {\n",
       "        text-align: right;\n",
       "    }\n",
       "</style>\n",
       "<table border=\"1\" class=\"dataframe\">\n",
       "  <thead>\n",
       "    <tr style=\"text-align: right;\">\n",
       "      <th></th>\n",
       "      <th>Gender</th>\n",
       "      <th>Customer Type</th>\n",
       "      <th>Age</th>\n",
       "      <th>Type of Travel</th>\n",
       "      <th>Class</th>\n",
       "      <th>Flight Distance</th>\n",
       "      <th>Seat comfort</th>\n",
       "      <th>Departure/Arrival time convenient</th>\n",
       "      <th>Food and drink</th>\n",
       "      <th>Gate location</th>\n",
       "      <th>...</th>\n",
       "      <th>Ease of Online booking</th>\n",
       "      <th>On-board service</th>\n",
       "      <th>Leg room service</th>\n",
       "      <th>Baggage handling</th>\n",
       "      <th>Checkin service</th>\n",
       "      <th>Cleanliness</th>\n",
       "      <th>Online boarding</th>\n",
       "      <th>Departure Delay in Minutes</th>\n",
       "      <th>Arrival Delay in Minutes</th>\n",
       "      <th>target</th>\n",
       "    </tr>\n",
       "  </thead>\n",
       "  <tbody>\n",
       "    <tr>\n",
       "      <th>19</th>\n",
       "      <td>Male</td>\n",
       "      <td>disloyal Customer</td>\n",
       "      <td>26</td>\n",
       "      <td>Business travel</td>\n",
       "      <td>Business</td>\n",
       "      <td>2924</td>\n",
       "      <td>0</td>\n",
       "      <td>0</td>\n",
       "      <td>0</td>\n",
       "      <td>2</td>\n",
       "      <td>...</td>\n",
       "      <td>1</td>\n",
       "      <td>5</td>\n",
       "      <td>5</td>\n",
       "      <td>4</td>\n",
       "      <td>5</td>\n",
       "      <td>4</td>\n",
       "      <td>1</td>\n",
       "      <td>0</td>\n",
       "      <td>2.0</td>\n",
       "      <td>1</td>\n",
       "    </tr>\n",
       "    <tr>\n",
       "      <th>38</th>\n",
       "      <td>Female</td>\n",
       "      <td>Loyal Customer</td>\n",
       "      <td>58</td>\n",
       "      <td>Personal Travel</td>\n",
       "      <td>Eco</td>\n",
       "      <td>666</td>\n",
       "      <td>5</td>\n",
       "      <td>2</td>\n",
       "      <td>4</td>\n",
       "      <td>4</td>\n",
       "      <td>...</td>\n",
       "      <td>4</td>\n",
       "      <td>4</td>\n",
       "      <td>4</td>\n",
       "      <td>4</td>\n",
       "      <td>2</td>\n",
       "      <td>4</td>\n",
       "      <td>1</td>\n",
       "      <td>0</td>\n",
       "      <td>7.0</td>\n",
       "      <td>1</td>\n",
       "    </tr>\n",
       "    <tr>\n",
       "      <th>44</th>\n",
       "      <td>Male</td>\n",
       "      <td>Loyal Customer</td>\n",
       "      <td>33</td>\n",
       "      <td>Personal Travel</td>\n",
       "      <td>Eco</td>\n",
       "      <td>1636</td>\n",
       "      <td>2</td>\n",
       "      <td>5</td>\n",
       "      <td>2</td>\n",
       "      <td>3</td>\n",
       "      <td>...</td>\n",
       "      <td>1</td>\n",
       "      <td>3</td>\n",
       "      <td>5</td>\n",
       "      <td>4</td>\n",
       "      <td>4</td>\n",
       "      <td>4</td>\n",
       "      <td>1</td>\n",
       "      <td>0</td>\n",
       "      <td>3.0</td>\n",
       "      <td>0</td>\n",
       "    </tr>\n",
       "    <tr>\n",
       "      <th>58</th>\n",
       "      <td>Female</td>\n",
       "      <td>Loyal Customer</td>\n",
       "      <td>52</td>\n",
       "      <td>Business travel</td>\n",
       "      <td>Business</td>\n",
       "      <td>3681</td>\n",
       "      <td>3</td>\n",
       "      <td>3</td>\n",
       "      <td>3</td>\n",
       "      <td>3</td>\n",
       "      <td>...</td>\n",
       "      <td>4</td>\n",
       "      <td>4</td>\n",
       "      <td>4</td>\n",
       "      <td>4</td>\n",
       "      <td>4</td>\n",
       "      <td>4</td>\n",
       "      <td>5</td>\n",
       "      <td>0</td>\n",
       "      <td>2.0</td>\n",
       "      <td>1</td>\n",
       "    </tr>\n",
       "    <tr>\n",
       "      <th>61</th>\n",
       "      <td>Male</td>\n",
       "      <td>Loyal Customer</td>\n",
       "      <td>55</td>\n",
       "      <td>Business travel</td>\n",
       "      <td>Business</td>\n",
       "      <td>674</td>\n",
       "      <td>1</td>\n",
       "      <td>2</td>\n",
       "      <td>2</td>\n",
       "      <td>2</td>\n",
       "      <td>...</td>\n",
       "      <td>1</td>\n",
       "      <td>1</td>\n",
       "      <td>1</td>\n",
       "      <td>1</td>\n",
       "      <td>1</td>\n",
       "      <td>1</td>\n",
       "      <td>3</td>\n",
       "      <td>0</td>\n",
       "      <td>1.0</td>\n",
       "      <td>0</td>\n",
       "    </tr>\n",
       "    <tr>\n",
       "      <th>...</th>\n",
       "      <td>...</td>\n",
       "      <td>...</td>\n",
       "      <td>...</td>\n",
       "      <td>...</td>\n",
       "      <td>...</td>\n",
       "      <td>...</td>\n",
       "      <td>...</td>\n",
       "      <td>...</td>\n",
       "      <td>...</td>\n",
       "      <td>...</td>\n",
       "      <td>...</td>\n",
       "      <td>...</td>\n",
       "      <td>...</td>\n",
       "      <td>...</td>\n",
       "      <td>...</td>\n",
       "      <td>...</td>\n",
       "      <td>...</td>\n",
       "      <td>...</td>\n",
       "      <td>...</td>\n",
       "      <td>...</td>\n",
       "      <td>...</td>\n",
       "    </tr>\n",
       "    <tr>\n",
       "      <th>2963</th>\n",
       "      <td>Male</td>\n",
       "      <td>Loyal Customer</td>\n",
       "      <td>41</td>\n",
       "      <td>Business travel</td>\n",
       "      <td>Business</td>\n",
       "      <td>304</td>\n",
       "      <td>4</td>\n",
       "      <td>4</td>\n",
       "      <td>4</td>\n",
       "      <td>4</td>\n",
       "      <td>...</td>\n",
       "      <td>4</td>\n",
       "      <td>4</td>\n",
       "      <td>4</td>\n",
       "      <td>4</td>\n",
       "      <td>5</td>\n",
       "      <td>4</td>\n",
       "      <td>3</td>\n",
       "      <td>0</td>\n",
       "      <td>9.0</td>\n",
       "      <td>1</td>\n",
       "    </tr>\n",
       "    <tr>\n",
       "      <th>2974</th>\n",
       "      <td>Female</td>\n",
       "      <td>Loyal Customer</td>\n",
       "      <td>34</td>\n",
       "      <td>Personal Travel</td>\n",
       "      <td>Eco</td>\n",
       "      <td>1370</td>\n",
       "      <td>2</td>\n",
       "      <td>2</td>\n",
       "      <td>2</td>\n",
       "      <td>2</td>\n",
       "      <td>...</td>\n",
       "      <td>5</td>\n",
       "      <td>5</td>\n",
       "      <td>5</td>\n",
       "      <td>5</td>\n",
       "      <td>5</td>\n",
       "      <td>5</td>\n",
       "      <td>4</td>\n",
       "      <td>0</td>\n",
       "      <td>1.0</td>\n",
       "      <td>1</td>\n",
       "    </tr>\n",
       "    <tr>\n",
       "      <th>2980</th>\n",
       "      <td>Male</td>\n",
       "      <td>Loyal Customer</td>\n",
       "      <td>20</td>\n",
       "      <td>Personal Travel</td>\n",
       "      <td>Eco</td>\n",
       "      <td>2767</td>\n",
       "      <td>3</td>\n",
       "      <td>4</td>\n",
       "      <td>3</td>\n",
       "      <td>3</td>\n",
       "      <td>...</td>\n",
       "      <td>2</td>\n",
       "      <td>3</td>\n",
       "      <td>2</td>\n",
       "      <td>4</td>\n",
       "      <td>3</td>\n",
       "      <td>5</td>\n",
       "      <td>2</td>\n",
       "      <td>0</td>\n",
       "      <td>1.0</td>\n",
       "      <td>0</td>\n",
       "    </tr>\n",
       "    <tr>\n",
       "      <th>2994</th>\n",
       "      <td>Female</td>\n",
       "      <td>Loyal Customer</td>\n",
       "      <td>59</td>\n",
       "      <td>Business travel</td>\n",
       "      <td>Eco Plus</td>\n",
       "      <td>682</td>\n",
       "      <td>4</td>\n",
       "      <td>1</td>\n",
       "      <td>1</td>\n",
       "      <td>1</td>\n",
       "      <td>...</td>\n",
       "      <td>4</td>\n",
       "      <td>4</td>\n",
       "      <td>4</td>\n",
       "      <td>4</td>\n",
       "      <td>2</td>\n",
       "      <td>4</td>\n",
       "      <td>2</td>\n",
       "      <td>0</td>\n",
       "      <td>1.0</td>\n",
       "      <td>1</td>\n",
       "    </tr>\n",
       "    <tr>\n",
       "      <th>2998</th>\n",
       "      <td>Female</td>\n",
       "      <td>disloyal Customer</td>\n",
       "      <td>33</td>\n",
       "      <td>Business travel</td>\n",
       "      <td>Business</td>\n",
       "      <td>2158</td>\n",
       "      <td>2</td>\n",
       "      <td>2</td>\n",
       "      <td>2</td>\n",
       "      <td>5</td>\n",
       "      <td>...</td>\n",
       "      <td>4</td>\n",
       "      <td>5</td>\n",
       "      <td>2</td>\n",
       "      <td>5</td>\n",
       "      <td>5</td>\n",
       "      <td>5</td>\n",
       "      <td>4</td>\n",
       "      <td>0</td>\n",
       "      <td>3.0</td>\n",
       "      <td>0</td>\n",
       "    </tr>\n",
       "  </tbody>\n",
       "</table>\n",
       "<p>333 rows × 23 columns</p>\n",
       "</div>"
      ],
      "text/plain": [
       "      Gender      Customer Type  Age   Type of Travel     Class  \\\n",
       "19      Male  disloyal Customer   26  Business travel  Business   \n",
       "38    Female     Loyal Customer   58  Personal Travel       Eco   \n",
       "44      Male     Loyal Customer   33  Personal Travel       Eco   \n",
       "58    Female     Loyal Customer   52  Business travel  Business   \n",
       "61      Male     Loyal Customer   55  Business travel  Business   \n",
       "...      ...                ...  ...              ...       ...   \n",
       "2963    Male     Loyal Customer   41  Business travel  Business   \n",
       "2974  Female     Loyal Customer   34  Personal Travel       Eco   \n",
       "2980    Male     Loyal Customer   20  Personal Travel       Eco   \n",
       "2994  Female     Loyal Customer   59  Business travel  Eco Plus   \n",
       "2998  Female  disloyal Customer   33  Business travel  Business   \n",
       "\n",
       "      Flight Distance  Seat comfort  Departure/Arrival time convenient  \\\n",
       "19               2924             0                                  0   \n",
       "38                666             5                                  2   \n",
       "44               1636             2                                  5   \n",
       "58               3681             3                                  3   \n",
       "61                674             1                                  2   \n",
       "...               ...           ...                                ...   \n",
       "2963              304             4                                  4   \n",
       "2974             1370             2                                  2   \n",
       "2980             2767             3                                  4   \n",
       "2994              682             4                                  1   \n",
       "2998             2158             2                                  2   \n",
       "\n",
       "      Food and drink  Gate location  ...  Ease of Online booking  \\\n",
       "19                 0              2  ...                       1   \n",
       "38                 4              4  ...                       4   \n",
       "44                 2              3  ...                       1   \n",
       "58                 3              3  ...                       4   \n",
       "61                 2              2  ...                       1   \n",
       "...              ...            ...  ...                     ...   \n",
       "2963               4              4  ...                       4   \n",
       "2974               2              2  ...                       5   \n",
       "2980               3              3  ...                       2   \n",
       "2994               1              1  ...                       4   \n",
       "2998               2              5  ...                       4   \n",
       "\n",
       "      On-board service  Leg room service  Baggage handling  Checkin service  \\\n",
       "19                   5                 5                 4                5   \n",
       "38                   4                 4                 4                2   \n",
       "44                   3                 5                 4                4   \n",
       "58                   4                 4                 4                4   \n",
       "61                   1                 1                 1                1   \n",
       "...                ...               ...               ...              ...   \n",
       "2963                 4                 4                 4                5   \n",
       "2974                 5                 5                 5                5   \n",
       "2980                 3                 2                 4                3   \n",
       "2994                 4                 4                 4                2   \n",
       "2998                 5                 2                 5                5   \n",
       "\n",
       "      Cleanliness  Online boarding  Departure Delay in Minutes  \\\n",
       "19              4                1                           0   \n",
       "38              4                1                           0   \n",
       "44              4                1                           0   \n",
       "58              4                5                           0   \n",
       "61              1                3                           0   \n",
       "...           ...              ...                         ...   \n",
       "2963            4                3                           0   \n",
       "2974            5                4                           0   \n",
       "2980            5                2                           0   \n",
       "2994            4                2                           0   \n",
       "2998            5                4                           0   \n",
       "\n",
       "      Arrival Delay in Minutes  target  \n",
       "19                         2.0       1  \n",
       "38                         7.0       1  \n",
       "44                         3.0       0  \n",
       "58                         2.0       1  \n",
       "61                         1.0       0  \n",
       "...                        ...     ...  \n",
       "2963                       9.0       1  \n",
       "2974                       1.0       1  \n",
       "2980                       1.0       0  \n",
       "2994                       1.0       1  \n",
       "2998                       3.0       0  \n",
       "\n",
       "[333 rows x 23 columns]"
      ]
     },
     "execution_count": 48,
     "metadata": {},
     "output_type": "execute_result"
    }
   ],
   "source": [
    "df_train[(df_train['Departure Delay in Minutes']==0) & (df_train['Arrival Delay in Minutes']!=0)]"
   ]
  },
  {
   "cell_type": "markdown",
   "metadata": {},
   "source": [
    "## Correlation"
   ]
  },
  {
   "cell_type": "code",
   "execution_count": 49,
   "metadata": {
    "ExecuteTime": {
     "end_time": "2022-02-10T13:51:41.945590Z",
     "start_time": "2022-02-10T13:51:41.283608Z"
    }
   },
   "outputs": [],
   "source": [
    "from sklearn.preprocessing import LabelEncoder\n",
    "\n",
    "categorical_feat = list(df_train.dtypes[df_train.dtypes=='object'].index)\n",
    "\n",
    "corr_df = df_train.copy()\n",
    "corr_df[categorical_feat] = corr_df[categorical_feat].astype(str).apply(LabelEncoder().fit_transform)"
   ]
  },
  {
   "cell_type": "code",
   "execution_count": 50,
   "metadata": {
    "ExecuteTime": {
     "end_time": "2022-02-10T13:51:43.209468Z",
     "start_time": "2022-02-10T13:51:41.949607Z"
    }
   },
   "outputs": [
    {
     "data": {
      "image/png": "[encoded data removed]",
      "text/plain": [
       "<Figure size 1008x504 with 2 Axes>"
      ]
     },
     "metadata": {},
     "output_type": "display_data"
    }
   ],
   "source": [
    "# 상관관계 분석도\n",
    "plt.figure(figsize=(14,7))\n",
    "\n",
    "heat_table = corr_df.corr()\n",
    "mask = np.zeros_like(heat_table)\n",
    "mask[np.triu_indices_from(mask)] = True\n",
    "\n",
    "heatmap_ax = sns.heatmap(heat_table, annot=True, mask=mask, cmap='coolwarm')\n",
    "heatmap_ax.set_xticklabels(heatmap_ax.get_xticklabels(), fontsize=15, rotation=45)\n",
    "heatmap_ax.set_yticklabels(heatmap_ax.get_yticklabels(), fontsize=15)\n",
    "plt.title(\"correlation between features\", fontsize=40)\n",
    "\n",
    "plt.show()"
   ]
  },
  {
   "cell_type": "code",
   "execution_count": 51,
   "metadata": {
    "ExecuteTime": {
     "end_time": "2022-02-10T13:51:43.490060Z",
     "start_time": "2022-02-10T13:51:43.211463Z"
    }
   },
   "outputs": [
    {
     "name": "stdout",
     "output_type": "stream",
     "text": [
      "Gender와의 상관관계 >= 0.4\n",
      "Gender    1.0\n",
      "Name: Gender, dtype: float64 \n",
      "\n",
      "Customer Type와의 상관관계 >= 0.4\n",
      "Customer Type    1.0\n",
      "Name: Customer Type, dtype: float64 \n",
      "\n",
      "Age와의 상관관계 >= 0.4\n",
      "Age    1.0\n",
      "Name: Age, dtype: float64 \n",
      "\n",
      "Type of Travel와의 상관관계 >= 0.4\n",
      "Type of Travel    1.000000\n",
      "Class             0.488932\n",
      "Name: Type of Travel, dtype: float64 \n",
      "\n",
      "Class와의 상관관계 >= 0.4\n",
      "Type of Travel    0.488932\n",
      "Class             1.000000\n",
      "Name: Class, dtype: float64 \n",
      "\n",
      "Flight Distance와의 상관관계 >= 0.4\n",
      "Flight Distance    1.0\n",
      "Name: Flight Distance, dtype: float64 \n",
      "\n",
      "Seat comfort와의 상관관계 >= 0.4\n",
      "Seat comfort                         1.000000\n",
      "Departure/Arrival time convenient    0.440134\n",
      "Food and drink                       0.726269\n",
      "Gate location                        0.415367\n",
      "Inflight entertainment               0.425375\n",
      "Name: Seat comfort, dtype: float64 \n",
      "\n",
      "Departure/Arrival time convenient와의 상관관계 >= 0.4\n",
      "Seat comfort                         0.440134\n",
      "Departure/Arrival time convenient    1.000000\n",
      "Food and drink                       0.517608\n",
      "Gate location                        0.524651\n",
      "Name: Departure/Arrival time convenient, dtype: float64 \n",
      "\n",
      "Food and drink와의 상관관계 >= 0.4\n",
      "Seat comfort                         0.726269\n",
      "Departure/Arrival time convenient    0.517608\n",
      "Food and drink                       1.000000\n",
      "Gate location                        0.518372\n",
      "Name: Food and drink, dtype: float64 \n",
      "\n",
      "Gate location와의 상관관계 >= 0.4\n",
      "Seat comfort                         0.415367\n",
      "Departure/Arrival time convenient    0.524651\n",
      "Food and drink                       0.518372\n",
      "Gate location                        1.000000\n",
      "Name: Gate location, dtype: float64 \n",
      "\n",
      "Inflight wifi service와의 상관관계 >= 0.4\n",
      "Inflight wifi service     1.000000\n",
      "Online support            0.563290\n",
      "Ease of Online booking    0.602040\n",
      "Online boarding           0.632049\n",
      "Name: Inflight wifi service, dtype: float64 \n",
      "\n",
      "Inflight entertainment와의 상관관계 >= 0.4\n",
      "Seat comfort              0.425375\n",
      "Inflight entertainment    1.000000\n",
      "Online support            0.424481\n",
      "target                    0.522935\n",
      "Name: Inflight entertainment, dtype: float64 \n",
      "\n",
      "Online support와의 상관관계 >= 0.4\n",
      "Inflight wifi service     0.563290\n",
      "Inflight entertainment    0.424481\n",
      "Online support            1.000000\n",
      "Ease of Online booking    0.620806\n",
      "Online boarding           0.675139\n",
      "target                    0.411944\n",
      "Name: Online support, dtype: float64 \n",
      "\n",
      "Ease of Online booking와의 상관관계 >= 0.4\n",
      "Inflight wifi service     0.602040\n",
      "Online support            0.620806\n",
      "Ease of Online booking    1.000000\n",
      "On-board service          0.422444\n",
      "Online boarding           0.684511\n",
      "target                    0.447784\n",
      "Name: Ease of Online booking, dtype: float64 \n",
      "\n",
      "On-board service와의 상관관계 >= 0.4\n",
      "Ease of Online booking    0.422444\n",
      "On-board service          1.000000\n",
      "Leg room service          0.417319\n",
      "Baggage handling          0.550716\n",
      "Cleanliness               0.534195\n",
      "Name: On-board service, dtype: float64 \n",
      "\n",
      "Leg room service와의 상관관계 >= 0.4\n",
      "On-board service    0.417319\n",
      "Leg room service    1.000000\n",
      "Baggage handling    0.428541\n",
      "Cleanliness         0.405153\n",
      "Name: Leg room service, dtype: float64 \n",
      "\n",
      "Baggage handling와의 상관관계 >= 0.4\n",
      "On-board service    0.550716\n",
      "Leg room service    0.428541\n",
      "Baggage handling    1.000000\n",
      "Cleanliness         0.614301\n",
      "Name: Baggage handling, dtype: float64 \n",
      "\n",
      "Checkin service와의 상관관계 >= 0.4\n",
      "Checkin service    1.0\n",
      "Name: Checkin service, dtype: float64 \n",
      "\n",
      "Cleanliness와의 상관관계 >= 0.4\n",
      "On-board service    0.534195\n",
      "Leg room service    0.405153\n",
      "Baggage handling    0.614301\n",
      "Cleanliness         1.000000\n",
      "Name: Cleanliness, dtype: float64 \n",
      "\n",
      "Online boarding와의 상관관계 >= 0.4\n",
      "Inflight wifi service     0.632049\n",
      "Online support            0.675139\n",
      "Ease of Online booking    0.684511\n",
      "Online boarding           1.000000\n",
      "Name: Online boarding, dtype: float64 \n",
      "\n",
      "Departure Delay in Minutes와의 상관관계 >= 0.4\n",
      "Departure Delay in Minutes    1.000000\n",
      "Arrival Delay in Minutes      0.976873\n",
      "Name: Departure Delay in Minutes, dtype: float64 \n",
      "\n",
      "Arrival Delay in Minutes와의 상관관계 >= 0.4\n",
      "Departure Delay in Minutes    0.976873\n",
      "Arrival Delay in Minutes      1.000000\n",
      "Name: Arrival Delay in Minutes, dtype: float64 \n",
      "\n",
      "target와의 상관관계 >= 0.4\n",
      "Inflight entertainment    0.522935\n",
      "Online support            0.411944\n",
      "Ease of Online booking    0.447784\n",
      "target                    1.000000\n",
      "Name: target, dtype: float64 \n",
      "\n"
     ]
    }
   ],
   "source": [
    "features = corr_df.columns\n",
    "\n",
    "for feat in features:\n",
    "    print('{}와의 상관관계 >= 0.4'.format(feat))\n",
    "    print(corr_df.corr()[feat][corr_df.corr()[feat]>=0.4], '\\n')"
   ]
  },
  {
   "cell_type": "markdown",
   "metadata": {},
   "source": [
    "# Feature Engineering"
   ]
  },
  {
   "cell_type": "markdown",
   "metadata": {},
   "source": [
    "## Age to category"
   ]
  },
  {
   "cell_type": "code",
   "execution_count": 52,
   "metadata": {
    "ExecuteTime": {
     "end_time": "2022-02-10T13:51:43.505923Z",
     "start_time": "2022-02-10T13:51:43.492751Z"
    }
   },
   "outputs": [],
   "source": [
    "def age_categorize(age):\n",
    "    age = (age // 10) * 10\n",
    "    return age"
   ]
  },
  {
   "cell_type": "code",
   "execution_count": 53,
   "metadata": {
    "ExecuteTime": {
     "end_time": "2022-02-10T13:51:43.521510Z",
     "start_time": "2022-02-10T13:51:43.507750Z"
    }
   },
   "outputs": [],
   "source": [
    "# 나이대별로 카테고리화\n",
    "df_train['Age_cat'] = df_train['Age'].apply(age_categorize).astype('category')\n",
    "df_test['Age_cat'] = df_test['Age'].apply(age_categorize).astype('category')"
   ]
  },
  {
   "cell_type": "markdown",
   "metadata": {},
   "source": [
    "## 출발 지연 & 도착 지연\n",
    "\n",
    "> 출발 지연 & 도착 지연\n",
    "- 출발 지연이 있으면 도착 지연이 있을거라 생각했지만 긴 시간동안 출발지연이 된 경우만 해당하고, 사소하게 딜레이 된 것은 한 쪽이 0일 수 있음.\n",
    "- 그래서 두 피쳐의 평균만 사용하겠음"
   ]
  },
  {
   "cell_type": "code",
   "execution_count": 54,
   "metadata": {
    "ExecuteTime": {
     "end_time": "2022-02-10T13:51:43.537527Z",
     "start_time": "2022-02-10T13:51:43.524509Z"
    }
   },
   "outputs": [],
   "source": [
    "df_train['Delay'] = (df_train['Departure Delay in Minutes'] + df_train['Arrival Delay in Minutes'])/2\n",
    "df_test['Delay'] = (df_test['Departure Delay in Minutes'] + df_test['Arrival Delay in Minutes'])/2"
   ]
  },
  {
   "cell_type": "code",
   "execution_count": 55,
   "metadata": {
    "ExecuteTime": {
     "end_time": "2022-02-10T13:51:43.553525Z",
     "start_time": "2022-02-10T13:51:43.540523Z"
    }
   },
   "outputs": [],
   "source": [
    "df_train.drop(['Departure Delay in Minutes','Arrival Delay in Minutes'], axis=1, inplace=True)\n",
    "df_test.drop(['Departure Delay in Minutes','Arrival Delay in Minutes'], axis=1, inplace=True)"
   ]
  },
  {
   "cell_type": "code",
   "execution_count": 56,
   "metadata": {
    "ExecuteTime": {
     "end_time": "2022-02-10T13:51:43.740999Z",
     "start_time": "2022-02-10T13:51:43.556525Z"
    }
   },
   "outputs": [
    {
     "data": {
      "image/png": "[encoded data removed]",
      "text/plain": [
       "<Figure size 288x288 with 1 Axes>"
      ]
     },
     "metadata": {},
     "output_type": "display_data"
    }
   ],
   "source": [
    "# 좌측에 치우쳐짐\n",
    "plt.figure(figsize=(4,4))\n",
    "sns.kdeplot(df_train['Delay'])\n",
    "plt.show()"
   ]
  },
  {
   "cell_type": "code",
   "execution_count": 57,
   "metadata": {
    "ExecuteTime": {
     "end_time": "2022-02-10T13:51:43.757395Z",
     "start_time": "2022-02-10T13:51:43.743785Z"
    }
   },
   "outputs": [],
   "source": [
    "df_train['Delay'] = np.log1p(df_train['Delay'])\n",
    "df_test['Delay'] = np.log1p(df_test['Delay'])"
   ]
  },
  {
   "cell_type": "markdown",
   "metadata": {},
   "source": [
    "## One-hot encoding"
   ]
  },
  {
   "cell_type": "code",
   "execution_count": 58,
   "metadata": {
    "ExecuteTime": {
     "end_time": "2022-02-10T13:51:43.771765Z",
     "start_time": "2022-02-10T13:51:43.760403Z"
    }
   },
   "outputs": [],
   "source": [
    "dummy_feat = list(df_train.dtypes[df_train.dtypes=='object'].index)"
   ]
  },
  {
   "cell_type": "code",
   "execution_count": 59,
   "metadata": {
    "ExecuteTime": {
     "end_time": "2022-02-10T13:51:43.802888Z",
     "start_time": "2022-02-10T13:51:43.774769Z"
    }
   },
   "outputs": [],
   "source": [
    "df_train = pd.get_dummies(df_train, columns = dummy_feat)\n",
    "df_test = pd.get_dummies(df_test, columns = dummy_feat)"
   ]
  },
  {
   "cell_type": "markdown",
   "metadata": {
    "ExecuteTime": {
     "end_time": "2022-02-10T13:47:48.651850Z",
     "start_time": "2022-02-10T13:47:48.632326Z"
    }
   },
   "source": [
    "## Feature drop\n",
    "\n",
    "> 피쳐 제거\n",
    "- id - 학습에 관련없음 -> 앞에서 삭제함\n",
    "- Food and drink - Seat comfort와의 다중 공선성과 많은 결측치\n",
    "- Departure/Arrival time convenient - 많은 결측치 및 target과의 낮은 상관계수"
   ]
  },
  {
   "cell_type": "code",
   "execution_count": 60,
   "metadata": {
    "ExecuteTime": {
     "end_time": "2022-02-10T13:51:43.833510Z",
     "start_time": "2022-02-10T13:51:43.805892Z"
    }
   },
   "outputs": [],
   "source": [
    "df_train.drop(['Food and drink', 'Departure/Arrival time convenient'], axis=1, inplace=True)\n",
    "df_test.drop(['Food and drink', 'Departure/Arrival time convenient'], axis=1, inplace=True)"
   ]
  },
  {
   "cell_type": "markdown",
   "metadata": {},
   "source": [
    "# Modeling\n",
    "\n",
    "> 평가산식\n",
    "- 정확도 : accuracy"
   ]
  },
  {
   "cell_type": "code",
   "execution_count": 61,
   "metadata": {
    "ExecuteTime": {
     "end_time": "2022-02-10T13:51:43.864694Z",
     "start_time": "2022-02-10T13:51:43.836379Z"
    }
   },
   "outputs": [],
   "source": [
    "X = df_train.drop('target', axis=1).values\n",
    "y = df_train['target'].values\n",
    "\n",
    "X_sub = df_test.values"
   ]
  },
  {
   "cell_type": "code",
   "execution_count": 62,
   "metadata": {
    "ExecuteTime": {
     "end_time": "2022-02-10T13:51:47.264634Z",
     "start_time": "2022-02-10T13:51:43.866682Z"
    }
   },
   "outputs": [
    {
     "data": {
      "text/html": [
       "<style  type=\"text/css\" >\n",
       "    #T_96b610c8_8a78_11ec_a65b_d83bbf4e560frow44_col1 {\n",
       "            background-color:  lightgreen;\n",
       "        }</style><table id=\"T_96b610c8_8a78_11ec_a65b_d83bbf4e560f\" ><thead>    <tr>        <th class=\"blank level0\" ></th>        <th class=\"col_heading level0 col0\" >Description</th>        <th class=\"col_heading level0 col1\" >Value</th>    </tr></thead><tbody>\n",
       "                <tr>\n",
       "                        <th id=\"T_96b610c8_8a78_11ec_a65b_d83bbf4e560flevel0_row0\" class=\"row_heading level0 row0\" >0</th>\n",
       "                        <td id=\"T_96b610c8_8a78_11ec_a65b_d83bbf4e560frow0_col0\" class=\"data row0 col0\" >session_id</td>\n",
       "                        <td id=\"T_96b610c8_8a78_11ec_a65b_d83bbf4e560frow0_col1\" class=\"data row0 col1\" >20201809</td>\n",
       "            </tr>\n",
       "            <tr>\n",
       "                        <th id=\"T_96b610c8_8a78_11ec_a65b_d83bbf4e560flevel0_row1\" class=\"row_heading level0 row1\" >1</th>\n",
       "                        <td id=\"T_96b610c8_8a78_11ec_a65b_d83bbf4e560frow1_col0\" class=\"data row1 col0\" >Target</td>\n",
       "                        <td id=\"T_96b610c8_8a78_11ec_a65b_d83bbf4e560frow1_col1\" class=\"data row1 col1\" >target</td>\n",
       "            </tr>\n",
       "            <tr>\n",
       "                        <th id=\"T_96b610c8_8a78_11ec_a65b_d83bbf4e560flevel0_row2\" class=\"row_heading level0 row2\" >2</th>\n",
       "                        <td id=\"T_96b610c8_8a78_11ec_a65b_d83bbf4e560frow2_col0\" class=\"data row2 col0\" >Target Type</td>\n",
       "                        <td id=\"T_96b610c8_8a78_11ec_a65b_d83bbf4e560frow2_col1\" class=\"data row2 col1\" >Binary</td>\n",
       "            </tr>\n",
       "            <tr>\n",
       "                        <th id=\"T_96b610c8_8a78_11ec_a65b_d83bbf4e560flevel0_row3\" class=\"row_heading level0 row3\" >3</th>\n",
       "                        <td id=\"T_96b610c8_8a78_11ec_a65b_d83bbf4e560frow3_col0\" class=\"data row3 col0\" >Label Encoded</td>\n",
       "                        <td id=\"T_96b610c8_8a78_11ec_a65b_d83bbf4e560frow3_col1\" class=\"data row3 col1\" >None</td>\n",
       "            </tr>\n",
       "            <tr>\n",
       "                        <th id=\"T_96b610c8_8a78_11ec_a65b_d83bbf4e560flevel0_row4\" class=\"row_heading level0 row4\" >4</th>\n",
       "                        <td id=\"T_96b610c8_8a78_11ec_a65b_d83bbf4e560frow4_col0\" class=\"data row4 col0\" >Original Data</td>\n",
       "                        <td id=\"T_96b610c8_8a78_11ec_a65b_d83bbf4e560frow4_col1\" class=\"data row4 col1\" >(3000, 26)</td>\n",
       "            </tr>\n",
       "            <tr>\n",
       "                        <th id=\"T_96b610c8_8a78_11ec_a65b_d83bbf4e560flevel0_row5\" class=\"row_heading level0 row5\" >5</th>\n",
       "                        <td id=\"T_96b610c8_8a78_11ec_a65b_d83bbf4e560frow5_col0\" class=\"data row5 col0\" >Missing Values</td>\n",
       "                        <td id=\"T_96b610c8_8a78_11ec_a65b_d83bbf4e560frow5_col1\" class=\"data row5 col1\" >False</td>\n",
       "            </tr>\n",
       "            <tr>\n",
       "                        <th id=\"T_96b610c8_8a78_11ec_a65b_d83bbf4e560flevel0_row6\" class=\"row_heading level0 row6\" >6</th>\n",
       "                        <td id=\"T_96b610c8_8a78_11ec_a65b_d83bbf4e560frow6_col0\" class=\"data row6 col0\" >Numeric Features</td>\n",
       "                        <td id=\"T_96b610c8_8a78_11ec_a65b_d83bbf4e560frow6_col1\" class=\"data row6 col1\" >12</td>\n",
       "            </tr>\n",
       "            <tr>\n",
       "                        <th id=\"T_96b610c8_8a78_11ec_a65b_d83bbf4e560flevel0_row7\" class=\"row_heading level0 row7\" >7</th>\n",
       "                        <td id=\"T_96b610c8_8a78_11ec_a65b_d83bbf4e560frow7_col0\" class=\"data row7 col0\" >Categorical Features</td>\n",
       "                        <td id=\"T_96b610c8_8a78_11ec_a65b_d83bbf4e560frow7_col1\" class=\"data row7 col1\" >13</td>\n",
       "            </tr>\n",
       "            <tr>\n",
       "                        <th id=\"T_96b610c8_8a78_11ec_a65b_d83bbf4e560flevel0_row8\" class=\"row_heading level0 row8\" >8</th>\n",
       "                        <td id=\"T_96b610c8_8a78_11ec_a65b_d83bbf4e560frow8_col0\" class=\"data row8 col0\" >Ordinal Features</td>\n",
       "                        <td id=\"T_96b610c8_8a78_11ec_a65b_d83bbf4e560frow8_col1\" class=\"data row8 col1\" >False</td>\n",
       "            </tr>\n",
       "            <tr>\n",
       "                        <th id=\"T_96b610c8_8a78_11ec_a65b_d83bbf4e560flevel0_row9\" class=\"row_heading level0 row9\" >9</th>\n",
       "                        <td id=\"T_96b610c8_8a78_11ec_a65b_d83bbf4e560frow9_col0\" class=\"data row9 col0\" >High Cardinality Features</td>\n",
       "                        <td id=\"T_96b610c8_8a78_11ec_a65b_d83bbf4e560frow9_col1\" class=\"data row9 col1\" >False</td>\n",
       "            </tr>\n",
       "            <tr>\n",
       "                        <th id=\"T_96b610c8_8a78_11ec_a65b_d83bbf4e560flevel0_row10\" class=\"row_heading level0 row10\" >10</th>\n",
       "                        <td id=\"T_96b610c8_8a78_11ec_a65b_d83bbf4e560frow10_col0\" class=\"data row10 col0\" >High Cardinality Method</td>\n",
       "                        <td id=\"T_96b610c8_8a78_11ec_a65b_d83bbf4e560frow10_col1\" class=\"data row10 col1\" >None</td>\n",
       "            </tr>\n",
       "            <tr>\n",
       "                        <th id=\"T_96b610c8_8a78_11ec_a65b_d83bbf4e560flevel0_row11\" class=\"row_heading level0 row11\" >11</th>\n",
       "                        <td id=\"T_96b610c8_8a78_11ec_a65b_d83bbf4e560frow11_col0\" class=\"data row11 col0\" >Transformed Train Set</td>\n",
       "                        <td id=\"T_96b610c8_8a78_11ec_a65b_d83bbf4e560frow11_col1\" class=\"data row11 col1\" >(2099, 83)</td>\n",
       "            </tr>\n",
       "            <tr>\n",
       "                        <th id=\"T_96b610c8_8a78_11ec_a65b_d83bbf4e560flevel0_row12\" class=\"row_heading level0 row12\" >12</th>\n",
       "                        <td id=\"T_96b610c8_8a78_11ec_a65b_d83bbf4e560frow12_col0\" class=\"data row12 col0\" >Transformed Test Set</td>\n",
       "                        <td id=\"T_96b610c8_8a78_11ec_a65b_d83bbf4e560frow12_col1\" class=\"data row12 col1\" >(901, 83)</td>\n",
       "            </tr>\n",
       "            <tr>\n",
       "                        <th id=\"T_96b610c8_8a78_11ec_a65b_d83bbf4e560flevel0_row13\" class=\"row_heading level0 row13\" >13</th>\n",
       "                        <td id=\"T_96b610c8_8a78_11ec_a65b_d83bbf4e560frow13_col0\" class=\"data row13 col0\" >Shuffle Train-Test</td>\n",
       "                        <td id=\"T_96b610c8_8a78_11ec_a65b_d83bbf4e560frow13_col1\" class=\"data row13 col1\" >True</td>\n",
       "            </tr>\n",
       "            <tr>\n",
       "                        <th id=\"T_96b610c8_8a78_11ec_a65b_d83bbf4e560flevel0_row14\" class=\"row_heading level0 row14\" >14</th>\n",
       "                        <td id=\"T_96b610c8_8a78_11ec_a65b_d83bbf4e560frow14_col0\" class=\"data row14 col0\" >Stratify Train-Test</td>\n",
       "                        <td id=\"T_96b610c8_8a78_11ec_a65b_d83bbf4e560frow14_col1\" class=\"data row14 col1\" >False</td>\n",
       "            </tr>\n",
       "            <tr>\n",
       "                        <th id=\"T_96b610c8_8a78_11ec_a65b_d83bbf4e560flevel0_row15\" class=\"row_heading level0 row15\" >15</th>\n",
       "                        <td id=\"T_96b610c8_8a78_11ec_a65b_d83bbf4e560frow15_col0\" class=\"data row15 col0\" >Fold Generator</td>\n",
       "                        <td id=\"T_96b610c8_8a78_11ec_a65b_d83bbf4e560frow15_col1\" class=\"data row15 col1\" >StratifiedKFold</td>\n",
       "            </tr>\n",
       "            <tr>\n",
       "                        <th id=\"T_96b610c8_8a78_11ec_a65b_d83bbf4e560flevel0_row16\" class=\"row_heading level0 row16\" >16</th>\n",
       "                        <td id=\"T_96b610c8_8a78_11ec_a65b_d83bbf4e560frow16_col0\" class=\"data row16 col0\" >Fold Number</td>\n",
       "                        <td id=\"T_96b610c8_8a78_11ec_a65b_d83bbf4e560frow16_col1\" class=\"data row16 col1\" >10</td>\n",
       "            </tr>\n",
       "            <tr>\n",
       "                        <th id=\"T_96b610c8_8a78_11ec_a65b_d83bbf4e560flevel0_row17\" class=\"row_heading level0 row17\" >17</th>\n",
       "                        <td id=\"T_96b610c8_8a78_11ec_a65b_d83bbf4e560frow17_col0\" class=\"data row17 col0\" >CPU Jobs</td>\n",
       "                        <td id=\"T_96b610c8_8a78_11ec_a65b_d83bbf4e560frow17_col1\" class=\"data row17 col1\" >7</td>\n",
       "            </tr>\n",
       "            <tr>\n",
       "                        <th id=\"T_96b610c8_8a78_11ec_a65b_d83bbf4e560flevel0_row18\" class=\"row_heading level0 row18\" >18</th>\n",
       "                        <td id=\"T_96b610c8_8a78_11ec_a65b_d83bbf4e560frow18_col0\" class=\"data row18 col0\" >Use GPU</td>\n",
       "                        <td id=\"T_96b610c8_8a78_11ec_a65b_d83bbf4e560frow18_col1\" class=\"data row18 col1\" >False</td>\n",
       "            </tr>\n",
       "            <tr>\n",
       "                        <th id=\"T_96b610c8_8a78_11ec_a65b_d83bbf4e560flevel0_row19\" class=\"row_heading level0 row19\" >19</th>\n",
       "                        <td id=\"T_96b610c8_8a78_11ec_a65b_d83bbf4e560frow19_col0\" class=\"data row19 col0\" >Log Experiment</td>\n",
       "                        <td id=\"T_96b610c8_8a78_11ec_a65b_d83bbf4e560frow19_col1\" class=\"data row19 col1\" >False</td>\n",
       "            </tr>\n",
       "            <tr>\n",
       "                        <th id=\"T_96b610c8_8a78_11ec_a65b_d83bbf4e560flevel0_row20\" class=\"row_heading level0 row20\" >20</th>\n",
       "                        <td id=\"T_96b610c8_8a78_11ec_a65b_d83bbf4e560frow20_col0\" class=\"data row20 col0\" >Experiment Name</td>\n",
       "                        <td id=\"T_96b610c8_8a78_11ec_a65b_d83bbf4e560frow20_col1\" class=\"data row20 col1\" >clf-default-name</td>\n",
       "            </tr>\n",
       "            <tr>\n",
       "                        <th id=\"T_96b610c8_8a78_11ec_a65b_d83bbf4e560flevel0_row21\" class=\"row_heading level0 row21\" >21</th>\n",
       "                        <td id=\"T_96b610c8_8a78_11ec_a65b_d83bbf4e560frow21_col0\" class=\"data row21 col0\" >USI</td>\n",
       "                        <td id=\"T_96b610c8_8a78_11ec_a65b_d83bbf4e560frow21_col1\" class=\"data row21 col1\" >2c70</td>\n",
       "            </tr>\n",
       "            <tr>\n",
       "                        <th id=\"T_96b610c8_8a78_11ec_a65b_d83bbf4e560flevel0_row22\" class=\"row_heading level0 row22\" >22</th>\n",
       "                        <td id=\"T_96b610c8_8a78_11ec_a65b_d83bbf4e560frow22_col0\" class=\"data row22 col0\" >Imputation Type</td>\n",
       "                        <td id=\"T_96b610c8_8a78_11ec_a65b_d83bbf4e560frow22_col1\" class=\"data row22 col1\" >simple</td>\n",
       "            </tr>\n",
       "            <tr>\n",
       "                        <th id=\"T_96b610c8_8a78_11ec_a65b_d83bbf4e560flevel0_row23\" class=\"row_heading level0 row23\" >23</th>\n",
       "                        <td id=\"T_96b610c8_8a78_11ec_a65b_d83bbf4e560frow23_col0\" class=\"data row23 col0\" >Iterative Imputation Iteration</td>\n",
       "                        <td id=\"T_96b610c8_8a78_11ec_a65b_d83bbf4e560frow23_col1\" class=\"data row23 col1\" >None</td>\n",
       "            </tr>\n",
       "            <tr>\n",
       "                        <th id=\"T_96b610c8_8a78_11ec_a65b_d83bbf4e560flevel0_row24\" class=\"row_heading level0 row24\" >24</th>\n",
       "                        <td id=\"T_96b610c8_8a78_11ec_a65b_d83bbf4e560frow24_col0\" class=\"data row24 col0\" >Numeric Imputer</td>\n",
       "                        <td id=\"T_96b610c8_8a78_11ec_a65b_d83bbf4e560frow24_col1\" class=\"data row24 col1\" >mean</td>\n",
       "            </tr>\n",
       "            <tr>\n",
       "                        <th id=\"T_96b610c8_8a78_11ec_a65b_d83bbf4e560flevel0_row25\" class=\"row_heading level0 row25\" >25</th>\n",
       "                        <td id=\"T_96b610c8_8a78_11ec_a65b_d83bbf4e560frow25_col0\" class=\"data row25 col0\" >Iterative Imputation Numeric Model</td>\n",
       "                        <td id=\"T_96b610c8_8a78_11ec_a65b_d83bbf4e560frow25_col1\" class=\"data row25 col1\" >None</td>\n",
       "            </tr>\n",
       "            <tr>\n",
       "                        <th id=\"T_96b610c8_8a78_11ec_a65b_d83bbf4e560flevel0_row26\" class=\"row_heading level0 row26\" >26</th>\n",
       "                        <td id=\"T_96b610c8_8a78_11ec_a65b_d83bbf4e560frow26_col0\" class=\"data row26 col0\" >Categorical Imputer</td>\n",
       "                        <td id=\"T_96b610c8_8a78_11ec_a65b_d83bbf4e560frow26_col1\" class=\"data row26 col1\" >constant</td>\n",
       "            </tr>\n",
       "            <tr>\n",
       "                        <th id=\"T_96b610c8_8a78_11ec_a65b_d83bbf4e560flevel0_row27\" class=\"row_heading level0 row27\" >27</th>\n",
       "                        <td id=\"T_96b610c8_8a78_11ec_a65b_d83bbf4e560frow27_col0\" class=\"data row27 col0\" >Iterative Imputation Categorical Model</td>\n",
       "                        <td id=\"T_96b610c8_8a78_11ec_a65b_d83bbf4e560frow27_col1\" class=\"data row27 col1\" >None</td>\n",
       "            </tr>\n",
       "            <tr>\n",
       "                        <th id=\"T_96b610c8_8a78_11ec_a65b_d83bbf4e560flevel0_row28\" class=\"row_heading level0 row28\" >28</th>\n",
       "                        <td id=\"T_96b610c8_8a78_11ec_a65b_d83bbf4e560frow28_col0\" class=\"data row28 col0\" >Unknown Categoricals Handling</td>\n",
       "                        <td id=\"T_96b610c8_8a78_11ec_a65b_d83bbf4e560frow28_col1\" class=\"data row28 col1\" >least_frequent</td>\n",
       "            </tr>\n",
       "            <tr>\n",
       "                        <th id=\"T_96b610c8_8a78_11ec_a65b_d83bbf4e560flevel0_row29\" class=\"row_heading level0 row29\" >29</th>\n",
       "                        <td id=\"T_96b610c8_8a78_11ec_a65b_d83bbf4e560frow29_col0\" class=\"data row29 col0\" >Normalize</td>\n",
       "                        <td id=\"T_96b610c8_8a78_11ec_a65b_d83bbf4e560frow29_col1\" class=\"data row29 col1\" >False</td>\n",
       "            </tr>\n",
       "            <tr>\n",
       "                        <th id=\"T_96b610c8_8a78_11ec_a65b_d83bbf4e560flevel0_row30\" class=\"row_heading level0 row30\" >30</th>\n",
       "                        <td id=\"T_96b610c8_8a78_11ec_a65b_d83bbf4e560frow30_col0\" class=\"data row30 col0\" >Normalize Method</td>\n",
       "                        <td id=\"T_96b610c8_8a78_11ec_a65b_d83bbf4e560frow30_col1\" class=\"data row30 col1\" >None</td>\n",
       "            </tr>\n",
       "            <tr>\n",
       "                        <th id=\"T_96b610c8_8a78_11ec_a65b_d83bbf4e560flevel0_row31\" class=\"row_heading level0 row31\" >31</th>\n",
       "                        <td id=\"T_96b610c8_8a78_11ec_a65b_d83bbf4e560frow31_col0\" class=\"data row31 col0\" >Transformation</td>\n",
       "                        <td id=\"T_96b610c8_8a78_11ec_a65b_d83bbf4e560frow31_col1\" class=\"data row31 col1\" >False</td>\n",
       "            </tr>\n",
       "            <tr>\n",
       "                        <th id=\"T_96b610c8_8a78_11ec_a65b_d83bbf4e560flevel0_row32\" class=\"row_heading level0 row32\" >32</th>\n",
       "                        <td id=\"T_96b610c8_8a78_11ec_a65b_d83bbf4e560frow32_col0\" class=\"data row32 col0\" >Transformation Method</td>\n",
       "                        <td id=\"T_96b610c8_8a78_11ec_a65b_d83bbf4e560frow32_col1\" class=\"data row32 col1\" >None</td>\n",
       "            </tr>\n",
       "            <tr>\n",
       "                        <th id=\"T_96b610c8_8a78_11ec_a65b_d83bbf4e560flevel0_row33\" class=\"row_heading level0 row33\" >33</th>\n",
       "                        <td id=\"T_96b610c8_8a78_11ec_a65b_d83bbf4e560frow33_col0\" class=\"data row33 col0\" >PCA</td>\n",
       "                        <td id=\"T_96b610c8_8a78_11ec_a65b_d83bbf4e560frow33_col1\" class=\"data row33 col1\" >False</td>\n",
       "            </tr>\n",
       "            <tr>\n",
       "                        <th id=\"T_96b610c8_8a78_11ec_a65b_d83bbf4e560flevel0_row34\" class=\"row_heading level0 row34\" >34</th>\n",
       "                        <td id=\"T_96b610c8_8a78_11ec_a65b_d83bbf4e560frow34_col0\" class=\"data row34 col0\" >PCA Method</td>\n",
       "                        <td id=\"T_96b610c8_8a78_11ec_a65b_d83bbf4e560frow34_col1\" class=\"data row34 col1\" >None</td>\n",
       "            </tr>\n",
       "            <tr>\n",
       "                        <th id=\"T_96b610c8_8a78_11ec_a65b_d83bbf4e560flevel0_row35\" class=\"row_heading level0 row35\" >35</th>\n",
       "                        <td id=\"T_96b610c8_8a78_11ec_a65b_d83bbf4e560frow35_col0\" class=\"data row35 col0\" >PCA Components</td>\n",
       "                        <td id=\"T_96b610c8_8a78_11ec_a65b_d83bbf4e560frow35_col1\" class=\"data row35 col1\" >None</td>\n",
       "            </tr>\n",
       "            <tr>\n",
       "                        <th id=\"T_96b610c8_8a78_11ec_a65b_d83bbf4e560flevel0_row36\" class=\"row_heading level0 row36\" >36</th>\n",
       "                        <td id=\"T_96b610c8_8a78_11ec_a65b_d83bbf4e560frow36_col0\" class=\"data row36 col0\" >Ignore Low Variance</td>\n",
       "                        <td id=\"T_96b610c8_8a78_11ec_a65b_d83bbf4e560frow36_col1\" class=\"data row36 col1\" >False</td>\n",
       "            </tr>\n",
       "            <tr>\n",
       "                        <th id=\"T_96b610c8_8a78_11ec_a65b_d83bbf4e560flevel0_row37\" class=\"row_heading level0 row37\" >37</th>\n",
       "                        <td id=\"T_96b610c8_8a78_11ec_a65b_d83bbf4e560frow37_col0\" class=\"data row37 col0\" >Combine Rare Levels</td>\n",
       "                        <td id=\"T_96b610c8_8a78_11ec_a65b_d83bbf4e560frow37_col1\" class=\"data row37 col1\" >False</td>\n",
       "            </tr>\n",
       "            <tr>\n",
       "                        <th id=\"T_96b610c8_8a78_11ec_a65b_d83bbf4e560flevel0_row38\" class=\"row_heading level0 row38\" >38</th>\n",
       "                        <td id=\"T_96b610c8_8a78_11ec_a65b_d83bbf4e560frow38_col0\" class=\"data row38 col0\" >Rare Level Threshold</td>\n",
       "                        <td id=\"T_96b610c8_8a78_11ec_a65b_d83bbf4e560frow38_col1\" class=\"data row38 col1\" >None</td>\n",
       "            </tr>\n",
       "            <tr>\n",
       "                        <th id=\"T_96b610c8_8a78_11ec_a65b_d83bbf4e560flevel0_row39\" class=\"row_heading level0 row39\" >39</th>\n",
       "                        <td id=\"T_96b610c8_8a78_11ec_a65b_d83bbf4e560frow39_col0\" class=\"data row39 col0\" >Numeric Binning</td>\n",
       "                        <td id=\"T_96b610c8_8a78_11ec_a65b_d83bbf4e560frow39_col1\" class=\"data row39 col1\" >False</td>\n",
       "            </tr>\n",
       "            <tr>\n",
       "                        <th id=\"T_96b610c8_8a78_11ec_a65b_d83bbf4e560flevel0_row40\" class=\"row_heading level0 row40\" >40</th>\n",
       "                        <td id=\"T_96b610c8_8a78_11ec_a65b_d83bbf4e560frow40_col0\" class=\"data row40 col0\" >Remove Outliers</td>\n",
       "                        <td id=\"T_96b610c8_8a78_11ec_a65b_d83bbf4e560frow40_col1\" class=\"data row40 col1\" >False</td>\n",
       "            </tr>\n",
       "            <tr>\n",
       "                        <th id=\"T_96b610c8_8a78_11ec_a65b_d83bbf4e560flevel0_row41\" class=\"row_heading level0 row41\" >41</th>\n",
       "                        <td id=\"T_96b610c8_8a78_11ec_a65b_d83bbf4e560frow41_col0\" class=\"data row41 col0\" >Outliers Threshold</td>\n",
       "                        <td id=\"T_96b610c8_8a78_11ec_a65b_d83bbf4e560frow41_col1\" class=\"data row41 col1\" >None</td>\n",
       "            </tr>\n",
       "            <tr>\n",
       "                        <th id=\"T_96b610c8_8a78_11ec_a65b_d83bbf4e560flevel0_row42\" class=\"row_heading level0 row42\" >42</th>\n",
       "                        <td id=\"T_96b610c8_8a78_11ec_a65b_d83bbf4e560frow42_col0\" class=\"data row42 col0\" >Remove Multicollinearity</td>\n",
       "                        <td id=\"T_96b610c8_8a78_11ec_a65b_d83bbf4e560frow42_col1\" class=\"data row42 col1\" >False</td>\n",
       "            </tr>\n",
       "            <tr>\n",
       "                        <th id=\"T_96b610c8_8a78_11ec_a65b_d83bbf4e560flevel0_row43\" class=\"row_heading level0 row43\" >43</th>\n",
       "                        <td id=\"T_96b610c8_8a78_11ec_a65b_d83bbf4e560frow43_col0\" class=\"data row43 col0\" >Multicollinearity Threshold</td>\n",
       "                        <td id=\"T_96b610c8_8a78_11ec_a65b_d83bbf4e560frow43_col1\" class=\"data row43 col1\" >None</td>\n",
       "            </tr>\n",
       "            <tr>\n",
       "                        <th id=\"T_96b610c8_8a78_11ec_a65b_d83bbf4e560flevel0_row44\" class=\"row_heading level0 row44\" >44</th>\n",
       "                        <td id=\"T_96b610c8_8a78_11ec_a65b_d83bbf4e560frow44_col0\" class=\"data row44 col0\" >Remove Perfect Collinearity</td>\n",
       "                        <td id=\"T_96b610c8_8a78_11ec_a65b_d83bbf4e560frow44_col1\" class=\"data row44 col1\" >True</td>\n",
       "            </tr>\n",
       "            <tr>\n",
       "                        <th id=\"T_96b610c8_8a78_11ec_a65b_d83bbf4e560flevel0_row45\" class=\"row_heading level0 row45\" >45</th>\n",
       "                        <td id=\"T_96b610c8_8a78_11ec_a65b_d83bbf4e560frow45_col0\" class=\"data row45 col0\" >Clustering</td>\n",
       "                        <td id=\"T_96b610c8_8a78_11ec_a65b_d83bbf4e560frow45_col1\" class=\"data row45 col1\" >False</td>\n",
       "            </tr>\n",
       "            <tr>\n",
       "                        <th id=\"T_96b610c8_8a78_11ec_a65b_d83bbf4e560flevel0_row46\" class=\"row_heading level0 row46\" >46</th>\n",
       "                        <td id=\"T_96b610c8_8a78_11ec_a65b_d83bbf4e560frow46_col0\" class=\"data row46 col0\" >Clustering Iteration</td>\n",
       "                        <td id=\"T_96b610c8_8a78_11ec_a65b_d83bbf4e560frow46_col1\" class=\"data row46 col1\" >None</td>\n",
       "            </tr>\n",
       "            <tr>\n",
       "                        <th id=\"T_96b610c8_8a78_11ec_a65b_d83bbf4e560flevel0_row47\" class=\"row_heading level0 row47\" >47</th>\n",
       "                        <td id=\"T_96b610c8_8a78_11ec_a65b_d83bbf4e560frow47_col0\" class=\"data row47 col0\" >Polynomial Features</td>\n",
       "                        <td id=\"T_96b610c8_8a78_11ec_a65b_d83bbf4e560frow47_col1\" class=\"data row47 col1\" >False</td>\n",
       "            </tr>\n",
       "            <tr>\n",
       "                        <th id=\"T_96b610c8_8a78_11ec_a65b_d83bbf4e560flevel0_row48\" class=\"row_heading level0 row48\" >48</th>\n",
       "                        <td id=\"T_96b610c8_8a78_11ec_a65b_d83bbf4e560frow48_col0\" class=\"data row48 col0\" >Polynomial Degree</td>\n",
       "                        <td id=\"T_96b610c8_8a78_11ec_a65b_d83bbf4e560frow48_col1\" class=\"data row48 col1\" >None</td>\n",
       "            </tr>\n",
       "            <tr>\n",
       "                        <th id=\"T_96b610c8_8a78_11ec_a65b_d83bbf4e560flevel0_row49\" class=\"row_heading level0 row49\" >49</th>\n",
       "                        <td id=\"T_96b610c8_8a78_11ec_a65b_d83bbf4e560frow49_col0\" class=\"data row49 col0\" >Trignometry Features</td>\n",
       "                        <td id=\"T_96b610c8_8a78_11ec_a65b_d83bbf4e560frow49_col1\" class=\"data row49 col1\" >False</td>\n",
       "            </tr>\n",
       "            <tr>\n",
       "                        <th id=\"T_96b610c8_8a78_11ec_a65b_d83bbf4e560flevel0_row50\" class=\"row_heading level0 row50\" >50</th>\n",
       "                        <td id=\"T_96b610c8_8a78_11ec_a65b_d83bbf4e560frow50_col0\" class=\"data row50 col0\" >Polynomial Threshold</td>\n",
       "                        <td id=\"T_96b610c8_8a78_11ec_a65b_d83bbf4e560frow50_col1\" class=\"data row50 col1\" >None</td>\n",
       "            </tr>\n",
       "            <tr>\n",
       "                        <th id=\"T_96b610c8_8a78_11ec_a65b_d83bbf4e560flevel0_row51\" class=\"row_heading level0 row51\" >51</th>\n",
       "                        <td id=\"T_96b610c8_8a78_11ec_a65b_d83bbf4e560frow51_col0\" class=\"data row51 col0\" >Group Features</td>\n",
       "                        <td id=\"T_96b610c8_8a78_11ec_a65b_d83bbf4e560frow51_col1\" class=\"data row51 col1\" >False</td>\n",
       "            </tr>\n",
       "            <tr>\n",
       "                        <th id=\"T_96b610c8_8a78_11ec_a65b_d83bbf4e560flevel0_row52\" class=\"row_heading level0 row52\" >52</th>\n",
       "                        <td id=\"T_96b610c8_8a78_11ec_a65b_d83bbf4e560frow52_col0\" class=\"data row52 col0\" >Feature Selection</td>\n",
       "                        <td id=\"T_96b610c8_8a78_11ec_a65b_d83bbf4e560frow52_col1\" class=\"data row52 col1\" >False</td>\n",
       "            </tr>\n",
       "            <tr>\n",
       "                        <th id=\"T_96b610c8_8a78_11ec_a65b_d83bbf4e560flevel0_row53\" class=\"row_heading level0 row53\" >53</th>\n",
       "                        <td id=\"T_96b610c8_8a78_11ec_a65b_d83bbf4e560frow53_col0\" class=\"data row53 col0\" >Feature Selection Method</td>\n",
       "                        <td id=\"T_96b610c8_8a78_11ec_a65b_d83bbf4e560frow53_col1\" class=\"data row53 col1\" >classic</td>\n",
       "            </tr>\n",
       "            <tr>\n",
       "                        <th id=\"T_96b610c8_8a78_11ec_a65b_d83bbf4e560flevel0_row54\" class=\"row_heading level0 row54\" >54</th>\n",
       "                        <td id=\"T_96b610c8_8a78_11ec_a65b_d83bbf4e560frow54_col0\" class=\"data row54 col0\" >Features Selection Threshold</td>\n",
       "                        <td id=\"T_96b610c8_8a78_11ec_a65b_d83bbf4e560frow54_col1\" class=\"data row54 col1\" >None</td>\n",
       "            </tr>\n",
       "            <tr>\n",
       "                        <th id=\"T_96b610c8_8a78_11ec_a65b_d83bbf4e560flevel0_row55\" class=\"row_heading level0 row55\" >55</th>\n",
       "                        <td id=\"T_96b610c8_8a78_11ec_a65b_d83bbf4e560frow55_col0\" class=\"data row55 col0\" >Feature Interaction</td>\n",
       "                        <td id=\"T_96b610c8_8a78_11ec_a65b_d83bbf4e560frow55_col1\" class=\"data row55 col1\" >False</td>\n",
       "            </tr>\n",
       "            <tr>\n",
       "                        <th id=\"T_96b610c8_8a78_11ec_a65b_d83bbf4e560flevel0_row56\" class=\"row_heading level0 row56\" >56</th>\n",
       "                        <td id=\"T_96b610c8_8a78_11ec_a65b_d83bbf4e560frow56_col0\" class=\"data row56 col0\" >Feature Ratio</td>\n",
       "                        <td id=\"T_96b610c8_8a78_11ec_a65b_d83bbf4e560frow56_col1\" class=\"data row56 col1\" >False</td>\n",
       "            </tr>\n",
       "            <tr>\n",
       "                        <th id=\"T_96b610c8_8a78_11ec_a65b_d83bbf4e560flevel0_row57\" class=\"row_heading level0 row57\" >57</th>\n",
       "                        <td id=\"T_96b610c8_8a78_11ec_a65b_d83bbf4e560frow57_col0\" class=\"data row57 col0\" >Interaction Threshold</td>\n",
       "                        <td id=\"T_96b610c8_8a78_11ec_a65b_d83bbf4e560frow57_col1\" class=\"data row57 col1\" >None</td>\n",
       "            </tr>\n",
       "            <tr>\n",
       "                        <th id=\"T_96b610c8_8a78_11ec_a65b_d83bbf4e560flevel0_row58\" class=\"row_heading level0 row58\" >58</th>\n",
       "                        <td id=\"T_96b610c8_8a78_11ec_a65b_d83bbf4e560frow58_col0\" class=\"data row58 col0\" >Fix Imbalance</td>\n",
       "                        <td id=\"T_96b610c8_8a78_11ec_a65b_d83bbf4e560frow58_col1\" class=\"data row58 col1\" >False</td>\n",
       "            </tr>\n",
       "            <tr>\n",
       "                        <th id=\"T_96b610c8_8a78_11ec_a65b_d83bbf4e560flevel0_row59\" class=\"row_heading level0 row59\" >59</th>\n",
       "                        <td id=\"T_96b610c8_8a78_11ec_a65b_d83bbf4e560frow59_col0\" class=\"data row59 col0\" >Fix Imbalance Method</td>\n",
       "                        <td id=\"T_96b610c8_8a78_11ec_a65b_d83bbf4e560frow59_col1\" class=\"data row59 col1\" >SMOTE</td>\n",
       "            </tr>\n",
       "    </tbody></table>"
      ],
      "text/plain": [
       "<pandas.io.formats.style.Styler at 0x2a9584b67c0>"
      ]
     },
     "metadata": {},
     "output_type": "display_data"
    }
   ],
   "source": [
    "from pycaret.classification import *\n",
    "\n",
    "clf1 = setup(data = df_train,\n",
    "             silent = True,\n",
    "             target = 'target',\n",
    "             session_id = 20201809,\n",
    "             n_jobs = 7)"
   ]
  },
  {
   "cell_type": "code",
   "execution_count": 63,
   "metadata": {
    "ExecuteTime": {
     "end_time": "2022-02-10T13:52:13.615607Z",
     "start_time": "2022-02-10T13:51:47.266635Z"
    }
   },
   "outputs": [
    {
     "data": {
      "text/html": [
       "<style  type=\"text/css\" >\n",
       "    #T_a683c9d6_8a78_11ec_8254_d83bbf4e560f th {\n",
       "          text-align: left;\n",
       "    }    #T_a683c9d6_8a78_11ec_8254_d83bbf4e560frow0_col0 {\n",
       "            text-align:  left;\n",
       "            text-align:  left;\n",
       "        }    #T_a683c9d6_8a78_11ec_8254_d83bbf4e560frow0_col1 {\n",
       "            text-align:  left;\n",
       "            text-align:  left;\n",
       "            background-color:  yellow;\n",
       "        }    #T_a683c9d6_8a78_11ec_8254_d83bbf4e560frow0_col2 {\n",
       "            text-align:  left;\n",
       "            text-align:  left;\n",
       "            : ;\n",
       "        }    #T_a683c9d6_8a78_11ec_8254_d83bbf4e560frow0_col3 {\n",
       "            text-align:  left;\n",
       "            text-align:  left;\n",
       "            : ;\n",
       "        }    #T_a683c9d6_8a78_11ec_8254_d83bbf4e560frow0_col4 {\n",
       "            text-align:  left;\n",
       "            text-align:  left;\n",
       "            background-color:  yellow;\n",
       "        }    #T_a683c9d6_8a78_11ec_8254_d83bbf4e560frow0_col5 {\n",
       "            text-align:  left;\n",
       "            text-align:  left;\n",
       "            background-color:  yellow;\n",
       "        }    #T_a683c9d6_8a78_11ec_8254_d83bbf4e560frow0_col6 {\n",
       "            text-align:  left;\n",
       "            text-align:  left;\n",
       "            background-color:  yellow;\n",
       "        }    #T_a683c9d6_8a78_11ec_8254_d83bbf4e560frow0_col7 {\n",
       "            text-align:  left;\n",
       "            text-align:  left;\n",
       "            background-color:  yellow;\n",
       "        }    #T_a683c9d6_8a78_11ec_8254_d83bbf4e560frow0_col8 {\n",
       "            text-align:  left;\n",
       "            text-align:  left;\n",
       "            : ;\n",
       "            background-color:  lightgrey;\n",
       "        }    #T_a683c9d6_8a78_11ec_8254_d83bbf4e560frow1_col0 {\n",
       "            text-align:  left;\n",
       "            text-align:  left;\n",
       "        }    #T_a683c9d6_8a78_11ec_8254_d83bbf4e560frow1_col1 {\n",
       "            text-align:  left;\n",
       "            text-align:  left;\n",
       "            : ;\n",
       "        }    #T_a683c9d6_8a78_11ec_8254_d83bbf4e560frow1_col2 {\n",
       "            text-align:  left;\n",
       "            text-align:  left;\n",
       "            background-color:  yellow;\n",
       "        }    #T_a683c9d6_8a78_11ec_8254_d83bbf4e560frow1_col3 {\n",
       "            text-align:  left;\n",
       "            text-align:  left;\n",
       "            : ;\n",
       "        }    #T_a683c9d6_8a78_11ec_8254_d83bbf4e560frow1_col4 {\n",
       "            text-align:  left;\n",
       "            text-align:  left;\n",
       "            : ;\n",
       "        }    #T_a683c9d6_8a78_11ec_8254_d83bbf4e560frow1_col5 {\n",
       "            text-align:  left;\n",
       "            text-align:  left;\n",
       "            : ;\n",
       "        }    #T_a683c9d6_8a78_11ec_8254_d83bbf4e560frow1_col6 {\n",
       "            text-align:  left;\n",
       "            text-align:  left;\n",
       "            : ;\n",
       "        }    #T_a683c9d6_8a78_11ec_8254_d83bbf4e560frow1_col7 {\n",
       "            text-align:  left;\n",
       "            text-align:  left;\n",
       "            : ;\n",
       "        }    #T_a683c9d6_8a78_11ec_8254_d83bbf4e560frow1_col8 {\n",
       "            text-align:  left;\n",
       "            text-align:  left;\n",
       "            : ;\n",
       "            background-color:  lightgrey;\n",
       "        }    #T_a683c9d6_8a78_11ec_8254_d83bbf4e560frow2_col0 {\n",
       "            text-align:  left;\n",
       "            text-align:  left;\n",
       "        }    #T_a683c9d6_8a78_11ec_8254_d83bbf4e560frow2_col1 {\n",
       "            text-align:  left;\n",
       "            text-align:  left;\n",
       "            : ;\n",
       "        }    #T_a683c9d6_8a78_11ec_8254_d83bbf4e560frow2_col2 {\n",
       "            text-align:  left;\n",
       "            text-align:  left;\n",
       "            : ;\n",
       "        }    #T_a683c9d6_8a78_11ec_8254_d83bbf4e560frow2_col3 {\n",
       "            text-align:  left;\n",
       "            text-align:  left;\n",
       "            : ;\n",
       "        }    #T_a683c9d6_8a78_11ec_8254_d83bbf4e560frow2_col4 {\n",
       "            text-align:  left;\n",
       "            text-align:  left;\n",
       "            : ;\n",
       "        }    #T_a683c9d6_8a78_11ec_8254_d83bbf4e560frow2_col5 {\n",
       "            text-align:  left;\n",
       "            text-align:  left;\n",
       "            : ;\n",
       "        }    #T_a683c9d6_8a78_11ec_8254_d83bbf4e560frow2_col6 {\n",
       "            text-align:  left;\n",
       "            text-align:  left;\n",
       "            : ;\n",
       "        }    #T_a683c9d6_8a78_11ec_8254_d83bbf4e560frow2_col7 {\n",
       "            text-align:  left;\n",
       "            text-align:  left;\n",
       "            : ;\n",
       "        }    #T_a683c9d6_8a78_11ec_8254_d83bbf4e560frow2_col8 {\n",
       "            text-align:  left;\n",
       "            text-align:  left;\n",
       "            : ;\n",
       "            background-color:  lightgrey;\n",
       "        }    #T_a683c9d6_8a78_11ec_8254_d83bbf4e560frow3_col0 {\n",
       "            text-align:  left;\n",
       "            text-align:  left;\n",
       "        }    #T_a683c9d6_8a78_11ec_8254_d83bbf4e560frow3_col1 {\n",
       "            text-align:  left;\n",
       "            text-align:  left;\n",
       "            : ;\n",
       "        }    #T_a683c9d6_8a78_11ec_8254_d83bbf4e560frow3_col2 {\n",
       "            text-align:  left;\n",
       "            text-align:  left;\n",
       "            : ;\n",
       "        }    #T_a683c9d6_8a78_11ec_8254_d83bbf4e560frow3_col3 {\n",
       "            text-align:  left;\n",
       "            text-align:  left;\n",
       "            : ;\n",
       "        }    #T_a683c9d6_8a78_11ec_8254_d83bbf4e560frow3_col4 {\n",
       "            text-align:  left;\n",
       "            text-align:  left;\n",
       "            : ;\n",
       "        }    #T_a683c9d6_8a78_11ec_8254_d83bbf4e560frow3_col5 {\n",
       "            text-align:  left;\n",
       "            text-align:  left;\n",
       "            : ;\n",
       "        }    #T_a683c9d6_8a78_11ec_8254_d83bbf4e560frow3_col6 {\n",
       "            text-align:  left;\n",
       "            text-align:  left;\n",
       "            : ;\n",
       "        }    #T_a683c9d6_8a78_11ec_8254_d83bbf4e560frow3_col7 {\n",
       "            text-align:  left;\n",
       "            text-align:  left;\n",
       "            : ;\n",
       "        }    #T_a683c9d6_8a78_11ec_8254_d83bbf4e560frow3_col8 {\n",
       "            text-align:  left;\n",
       "            text-align:  left;\n",
       "            : ;\n",
       "            background-color:  lightgrey;\n",
       "        }    #T_a683c9d6_8a78_11ec_8254_d83bbf4e560frow4_col0 {\n",
       "            text-align:  left;\n",
       "            text-align:  left;\n",
       "        }    #T_a683c9d6_8a78_11ec_8254_d83bbf4e560frow4_col1 {\n",
       "            text-align:  left;\n",
       "            text-align:  left;\n",
       "            : ;\n",
       "        }    #T_a683c9d6_8a78_11ec_8254_d83bbf4e560frow4_col2 {\n",
       "            text-align:  left;\n",
       "            text-align:  left;\n",
       "            : ;\n",
       "        }    #T_a683c9d6_8a78_11ec_8254_d83bbf4e560frow4_col3 {\n",
       "            text-align:  left;\n",
       "            text-align:  left;\n",
       "            : ;\n",
       "        }    #T_a683c9d6_8a78_11ec_8254_d83bbf4e560frow4_col4 {\n",
       "            text-align:  left;\n",
       "            text-align:  left;\n",
       "            : ;\n",
       "        }    #T_a683c9d6_8a78_11ec_8254_d83bbf4e560frow4_col5 {\n",
       "            text-align:  left;\n",
       "            text-align:  left;\n",
       "            : ;\n",
       "        }    #T_a683c9d6_8a78_11ec_8254_d83bbf4e560frow4_col6 {\n",
       "            text-align:  left;\n",
       "            text-align:  left;\n",
       "            : ;\n",
       "        }    #T_a683c9d6_8a78_11ec_8254_d83bbf4e560frow4_col7 {\n",
       "            text-align:  left;\n",
       "            text-align:  left;\n",
       "            : ;\n",
       "        }    #T_a683c9d6_8a78_11ec_8254_d83bbf4e560frow4_col8 {\n",
       "            text-align:  left;\n",
       "            text-align:  left;\n",
       "            : ;\n",
       "            background-color:  lightgrey;\n",
       "        }    #T_a683c9d6_8a78_11ec_8254_d83bbf4e560frow5_col0 {\n",
       "            text-align:  left;\n",
       "            text-align:  left;\n",
       "        }    #T_a683c9d6_8a78_11ec_8254_d83bbf4e560frow5_col1 {\n",
       "            text-align:  left;\n",
       "            text-align:  left;\n",
       "            : ;\n",
       "        }    #T_a683c9d6_8a78_11ec_8254_d83bbf4e560frow5_col2 {\n",
       "            text-align:  left;\n",
       "            text-align:  left;\n",
       "            : ;\n",
       "        }    #T_a683c9d6_8a78_11ec_8254_d83bbf4e560frow5_col3 {\n",
       "            text-align:  left;\n",
       "            text-align:  left;\n",
       "            : ;\n",
       "        }    #T_a683c9d6_8a78_11ec_8254_d83bbf4e560frow5_col4 {\n",
       "            text-align:  left;\n",
       "            text-align:  left;\n",
       "            : ;\n",
       "        }    #T_a683c9d6_8a78_11ec_8254_d83bbf4e560frow5_col5 {\n",
       "            text-align:  left;\n",
       "            text-align:  left;\n",
       "            : ;\n",
       "        }    #T_a683c9d6_8a78_11ec_8254_d83bbf4e560frow5_col6 {\n",
       "            text-align:  left;\n",
       "            text-align:  left;\n",
       "            : ;\n",
       "        }    #T_a683c9d6_8a78_11ec_8254_d83bbf4e560frow5_col7 {\n",
       "            text-align:  left;\n",
       "            text-align:  left;\n",
       "            : ;\n",
       "        }    #T_a683c9d6_8a78_11ec_8254_d83bbf4e560frow5_col8 {\n",
       "            text-align:  left;\n",
       "            text-align:  left;\n",
       "            : ;\n",
       "            background-color:  lightgrey;\n",
       "        }    #T_a683c9d6_8a78_11ec_8254_d83bbf4e560frow6_col0 {\n",
       "            text-align:  left;\n",
       "            text-align:  left;\n",
       "        }    #T_a683c9d6_8a78_11ec_8254_d83bbf4e560frow6_col1 {\n",
       "            text-align:  left;\n",
       "            text-align:  left;\n",
       "            : ;\n",
       "        }    #T_a683c9d6_8a78_11ec_8254_d83bbf4e560frow6_col2 {\n",
       "            text-align:  left;\n",
       "            text-align:  left;\n",
       "            : ;\n",
       "        }    #T_a683c9d6_8a78_11ec_8254_d83bbf4e560frow6_col3 {\n",
       "            text-align:  left;\n",
       "            text-align:  left;\n",
       "            : ;\n",
       "        }    #T_a683c9d6_8a78_11ec_8254_d83bbf4e560frow6_col4 {\n",
       "            text-align:  left;\n",
       "            text-align:  left;\n",
       "            : ;\n",
       "        }    #T_a683c9d6_8a78_11ec_8254_d83bbf4e560frow6_col5 {\n",
       "            text-align:  left;\n",
       "            text-align:  left;\n",
       "            : ;\n",
       "        }    #T_a683c9d6_8a78_11ec_8254_d83bbf4e560frow6_col6 {\n",
       "            text-align:  left;\n",
       "            text-align:  left;\n",
       "            : ;\n",
       "        }    #T_a683c9d6_8a78_11ec_8254_d83bbf4e560frow6_col7 {\n",
       "            text-align:  left;\n",
       "            text-align:  left;\n",
       "            : ;\n",
       "        }    #T_a683c9d6_8a78_11ec_8254_d83bbf4e560frow6_col8 {\n",
       "            text-align:  left;\n",
       "            text-align:  left;\n",
       "            : ;\n",
       "            background-color:  lightgrey;\n",
       "        }    #T_a683c9d6_8a78_11ec_8254_d83bbf4e560frow7_col0 {\n",
       "            text-align:  left;\n",
       "            text-align:  left;\n",
       "        }    #T_a683c9d6_8a78_11ec_8254_d83bbf4e560frow7_col1 {\n",
       "            text-align:  left;\n",
       "            text-align:  left;\n",
       "            : ;\n",
       "        }    #T_a683c9d6_8a78_11ec_8254_d83bbf4e560frow7_col2 {\n",
       "            text-align:  left;\n",
       "            text-align:  left;\n",
       "            : ;\n",
       "        }    #T_a683c9d6_8a78_11ec_8254_d83bbf4e560frow7_col3 {\n",
       "            text-align:  left;\n",
       "            text-align:  left;\n",
       "            : ;\n",
       "        }    #T_a683c9d6_8a78_11ec_8254_d83bbf4e560frow7_col4 {\n",
       "            text-align:  left;\n",
       "            text-align:  left;\n",
       "            : ;\n",
       "        }    #T_a683c9d6_8a78_11ec_8254_d83bbf4e560frow7_col5 {\n",
       "            text-align:  left;\n",
       "            text-align:  left;\n",
       "            : ;\n",
       "        }    #T_a683c9d6_8a78_11ec_8254_d83bbf4e560frow7_col6 {\n",
       "            text-align:  left;\n",
       "            text-align:  left;\n",
       "            : ;\n",
       "        }    #T_a683c9d6_8a78_11ec_8254_d83bbf4e560frow7_col7 {\n",
       "            text-align:  left;\n",
       "            text-align:  left;\n",
       "            : ;\n",
       "        }    #T_a683c9d6_8a78_11ec_8254_d83bbf4e560frow7_col8 {\n",
       "            text-align:  left;\n",
       "            text-align:  left;\n",
       "            : ;\n",
       "            background-color:  lightgrey;\n",
       "        }    #T_a683c9d6_8a78_11ec_8254_d83bbf4e560frow8_col0 {\n",
       "            text-align:  left;\n",
       "            text-align:  left;\n",
       "        }    #T_a683c9d6_8a78_11ec_8254_d83bbf4e560frow8_col1 {\n",
       "            text-align:  left;\n",
       "            text-align:  left;\n",
       "            : ;\n",
       "        }    #T_a683c9d6_8a78_11ec_8254_d83bbf4e560frow8_col2 {\n",
       "            text-align:  left;\n",
       "            text-align:  left;\n",
       "            : ;\n",
       "        }    #T_a683c9d6_8a78_11ec_8254_d83bbf4e560frow8_col3 {\n",
       "            text-align:  left;\n",
       "            text-align:  left;\n",
       "            : ;\n",
       "        }    #T_a683c9d6_8a78_11ec_8254_d83bbf4e560frow8_col4 {\n",
       "            text-align:  left;\n",
       "            text-align:  left;\n",
       "            : ;\n",
       "        }    #T_a683c9d6_8a78_11ec_8254_d83bbf4e560frow8_col5 {\n",
       "            text-align:  left;\n",
       "            text-align:  left;\n",
       "            : ;\n",
       "        }    #T_a683c9d6_8a78_11ec_8254_d83bbf4e560frow8_col6 {\n",
       "            text-align:  left;\n",
       "            text-align:  left;\n",
       "            : ;\n",
       "        }    #T_a683c9d6_8a78_11ec_8254_d83bbf4e560frow8_col7 {\n",
       "            text-align:  left;\n",
       "            text-align:  left;\n",
       "            : ;\n",
       "        }    #T_a683c9d6_8a78_11ec_8254_d83bbf4e560frow8_col8 {\n",
       "            text-align:  left;\n",
       "            text-align:  left;\n",
       "            : ;\n",
       "            background-color:  lightgrey;\n",
       "        }    #T_a683c9d6_8a78_11ec_8254_d83bbf4e560frow9_col0 {\n",
       "            text-align:  left;\n",
       "            text-align:  left;\n",
       "        }    #T_a683c9d6_8a78_11ec_8254_d83bbf4e560frow9_col1 {\n",
       "            text-align:  left;\n",
       "            text-align:  left;\n",
       "            : ;\n",
       "        }    #T_a683c9d6_8a78_11ec_8254_d83bbf4e560frow9_col2 {\n",
       "            text-align:  left;\n",
       "            text-align:  left;\n",
       "            : ;\n",
       "        }    #T_a683c9d6_8a78_11ec_8254_d83bbf4e560frow9_col3 {\n",
       "            text-align:  left;\n",
       "            text-align:  left;\n",
       "            : ;\n",
       "        }    #T_a683c9d6_8a78_11ec_8254_d83bbf4e560frow9_col4 {\n",
       "            text-align:  left;\n",
       "            text-align:  left;\n",
       "            : ;\n",
       "        }    #T_a683c9d6_8a78_11ec_8254_d83bbf4e560frow9_col5 {\n",
       "            text-align:  left;\n",
       "            text-align:  left;\n",
       "            : ;\n",
       "        }    #T_a683c9d6_8a78_11ec_8254_d83bbf4e560frow9_col6 {\n",
       "            text-align:  left;\n",
       "            text-align:  left;\n",
       "            : ;\n",
       "        }    #T_a683c9d6_8a78_11ec_8254_d83bbf4e560frow9_col7 {\n",
       "            text-align:  left;\n",
       "            text-align:  left;\n",
       "            : ;\n",
       "        }    #T_a683c9d6_8a78_11ec_8254_d83bbf4e560frow9_col8 {\n",
       "            text-align:  left;\n",
       "            text-align:  left;\n",
       "            : ;\n",
       "            background-color:  lightgrey;\n",
       "        }    #T_a683c9d6_8a78_11ec_8254_d83bbf4e560frow10_col0 {\n",
       "            text-align:  left;\n",
       "            text-align:  left;\n",
       "        }    #T_a683c9d6_8a78_11ec_8254_d83bbf4e560frow10_col1 {\n",
       "            text-align:  left;\n",
       "            text-align:  left;\n",
       "            : ;\n",
       "        }    #T_a683c9d6_8a78_11ec_8254_d83bbf4e560frow10_col2 {\n",
       "            text-align:  left;\n",
       "            text-align:  left;\n",
       "            : ;\n",
       "        }    #T_a683c9d6_8a78_11ec_8254_d83bbf4e560frow10_col3 {\n",
       "            text-align:  left;\n",
       "            text-align:  left;\n",
       "            : ;\n",
       "        }    #T_a683c9d6_8a78_11ec_8254_d83bbf4e560frow10_col4 {\n",
       "            text-align:  left;\n",
       "            text-align:  left;\n",
       "            : ;\n",
       "        }    #T_a683c9d6_8a78_11ec_8254_d83bbf4e560frow10_col5 {\n",
       "            text-align:  left;\n",
       "            text-align:  left;\n",
       "            : ;\n",
       "        }    #T_a683c9d6_8a78_11ec_8254_d83bbf4e560frow10_col6 {\n",
       "            text-align:  left;\n",
       "            text-align:  left;\n",
       "            : ;\n",
       "        }    #T_a683c9d6_8a78_11ec_8254_d83bbf4e560frow10_col7 {\n",
       "            text-align:  left;\n",
       "            text-align:  left;\n",
       "            : ;\n",
       "        }    #T_a683c9d6_8a78_11ec_8254_d83bbf4e560frow10_col8 {\n",
       "            text-align:  left;\n",
       "            text-align:  left;\n",
       "            : ;\n",
       "            background-color:  lightgrey;\n",
       "        }    #T_a683c9d6_8a78_11ec_8254_d83bbf4e560frow11_col0 {\n",
       "            text-align:  left;\n",
       "            text-align:  left;\n",
       "        }    #T_a683c9d6_8a78_11ec_8254_d83bbf4e560frow11_col1 {\n",
       "            text-align:  left;\n",
       "            text-align:  left;\n",
       "            : ;\n",
       "        }    #T_a683c9d6_8a78_11ec_8254_d83bbf4e560frow11_col2 {\n",
       "            text-align:  left;\n",
       "            text-align:  left;\n",
       "            : ;\n",
       "        }    #T_a683c9d6_8a78_11ec_8254_d83bbf4e560frow11_col3 {\n",
       "            text-align:  left;\n",
       "            text-align:  left;\n",
       "            : ;\n",
       "        }    #T_a683c9d6_8a78_11ec_8254_d83bbf4e560frow11_col4 {\n",
       "            text-align:  left;\n",
       "            text-align:  left;\n",
       "            : ;\n",
       "        }    #T_a683c9d6_8a78_11ec_8254_d83bbf4e560frow11_col5 {\n",
       "            text-align:  left;\n",
       "            text-align:  left;\n",
       "            : ;\n",
       "        }    #T_a683c9d6_8a78_11ec_8254_d83bbf4e560frow11_col6 {\n",
       "            text-align:  left;\n",
       "            text-align:  left;\n",
       "            : ;\n",
       "        }    #T_a683c9d6_8a78_11ec_8254_d83bbf4e560frow11_col7 {\n",
       "            text-align:  left;\n",
       "            text-align:  left;\n",
       "            : ;\n",
       "        }    #T_a683c9d6_8a78_11ec_8254_d83bbf4e560frow11_col8 {\n",
       "            text-align:  left;\n",
       "            text-align:  left;\n",
       "            : ;\n",
       "            background-color:  lightgrey;\n",
       "        }    #T_a683c9d6_8a78_11ec_8254_d83bbf4e560frow12_col0 {\n",
       "            text-align:  left;\n",
       "            text-align:  left;\n",
       "        }    #T_a683c9d6_8a78_11ec_8254_d83bbf4e560frow12_col1 {\n",
       "            text-align:  left;\n",
       "            text-align:  left;\n",
       "            : ;\n",
       "        }    #T_a683c9d6_8a78_11ec_8254_d83bbf4e560frow12_col2 {\n",
       "            text-align:  left;\n",
       "            text-align:  left;\n",
       "            : ;\n",
       "        }    #T_a683c9d6_8a78_11ec_8254_d83bbf4e560frow12_col3 {\n",
       "            text-align:  left;\n",
       "            text-align:  left;\n",
       "            : ;\n",
       "        }    #T_a683c9d6_8a78_11ec_8254_d83bbf4e560frow12_col4 {\n",
       "            text-align:  left;\n",
       "            text-align:  left;\n",
       "            : ;\n",
       "        }    #T_a683c9d6_8a78_11ec_8254_d83bbf4e560frow12_col5 {\n",
       "            text-align:  left;\n",
       "            text-align:  left;\n",
       "            : ;\n",
       "        }    #T_a683c9d6_8a78_11ec_8254_d83bbf4e560frow12_col6 {\n",
       "            text-align:  left;\n",
       "            text-align:  left;\n",
       "            : ;\n",
       "        }    #T_a683c9d6_8a78_11ec_8254_d83bbf4e560frow12_col7 {\n",
       "            text-align:  left;\n",
       "            text-align:  left;\n",
       "            : ;\n",
       "        }    #T_a683c9d6_8a78_11ec_8254_d83bbf4e560frow12_col8 {\n",
       "            text-align:  left;\n",
       "            text-align:  left;\n",
       "            : ;\n",
       "            background-color:  lightgrey;\n",
       "        }    #T_a683c9d6_8a78_11ec_8254_d83bbf4e560frow13_col0 {\n",
       "            text-align:  left;\n",
       "            text-align:  left;\n",
       "        }    #T_a683c9d6_8a78_11ec_8254_d83bbf4e560frow13_col1 {\n",
       "            text-align:  left;\n",
       "            text-align:  left;\n",
       "            : ;\n",
       "        }    #T_a683c9d6_8a78_11ec_8254_d83bbf4e560frow13_col2 {\n",
       "            text-align:  left;\n",
       "            text-align:  left;\n",
       "            : ;\n",
       "        }    #T_a683c9d6_8a78_11ec_8254_d83bbf4e560frow13_col3 {\n",
       "            text-align:  left;\n",
       "            text-align:  left;\n",
       "            background-color:  yellow;\n",
       "        }    #T_a683c9d6_8a78_11ec_8254_d83bbf4e560frow13_col4 {\n",
       "            text-align:  left;\n",
       "            text-align:  left;\n",
       "            : ;\n",
       "        }    #T_a683c9d6_8a78_11ec_8254_d83bbf4e560frow13_col5 {\n",
       "            text-align:  left;\n",
       "            text-align:  left;\n",
       "            : ;\n",
       "        }    #T_a683c9d6_8a78_11ec_8254_d83bbf4e560frow13_col6 {\n",
       "            text-align:  left;\n",
       "            text-align:  left;\n",
       "            : ;\n",
       "        }    #T_a683c9d6_8a78_11ec_8254_d83bbf4e560frow13_col7 {\n",
       "            text-align:  left;\n",
       "            text-align:  left;\n",
       "            : ;\n",
       "        }    #T_a683c9d6_8a78_11ec_8254_d83bbf4e560frow13_col8 {\n",
       "            text-align:  left;\n",
       "            text-align:  left;\n",
       "            background-color:  yellow;\n",
       "            background-color:  lightgrey;\n",
       "        }    #T_a683c9d6_8a78_11ec_8254_d83bbf4e560frow14_col0 {\n",
       "            text-align:  left;\n",
       "            text-align:  left;\n",
       "        }    #T_a683c9d6_8a78_11ec_8254_d83bbf4e560frow14_col1 {\n",
       "            text-align:  left;\n",
       "            text-align:  left;\n",
       "            : ;\n",
       "        }    #T_a683c9d6_8a78_11ec_8254_d83bbf4e560frow14_col2 {\n",
       "            text-align:  left;\n",
       "            text-align:  left;\n",
       "            : ;\n",
       "        }    #T_a683c9d6_8a78_11ec_8254_d83bbf4e560frow14_col3 {\n",
       "            text-align:  left;\n",
       "            text-align:  left;\n",
       "            : ;\n",
       "        }    #T_a683c9d6_8a78_11ec_8254_d83bbf4e560frow14_col4 {\n",
       "            text-align:  left;\n",
       "            text-align:  left;\n",
       "            : ;\n",
       "        }    #T_a683c9d6_8a78_11ec_8254_d83bbf4e560frow14_col5 {\n",
       "            text-align:  left;\n",
       "            text-align:  left;\n",
       "            : ;\n",
       "        }    #T_a683c9d6_8a78_11ec_8254_d83bbf4e560frow14_col6 {\n",
       "            text-align:  left;\n",
       "            text-align:  left;\n",
       "            : ;\n",
       "        }    #T_a683c9d6_8a78_11ec_8254_d83bbf4e560frow14_col7 {\n",
       "            text-align:  left;\n",
       "            text-align:  left;\n",
       "            : ;\n",
       "        }    #T_a683c9d6_8a78_11ec_8254_d83bbf4e560frow14_col8 {\n",
       "            text-align:  left;\n",
       "            text-align:  left;\n",
       "            : ;\n",
       "            background-color:  lightgrey;\n",
       "        }</style><table id=\"T_a683c9d6_8a78_11ec_8254_d83bbf4e560f\" ><thead>    <tr>        <th class=\"blank level0\" ></th>        <th class=\"col_heading level0 col0\" >Model</th>        <th class=\"col_heading level0 col1\" >Accuracy</th>        <th class=\"col_heading level0 col2\" >AUC</th>        <th class=\"col_heading level0 col3\" >Recall</th>        <th class=\"col_heading level0 col4\" >Prec.</th>        <th class=\"col_heading level0 col5\" >F1</th>        <th class=\"col_heading level0 col6\" >Kappa</th>        <th class=\"col_heading level0 col7\" >MCC</th>        <th class=\"col_heading level0 col8\" >TT (Sec)</th>    </tr></thead><tbody>\n",
       "                <tr>\n",
       "                        <th id=\"T_a683c9d6_8a78_11ec_8254_d83bbf4e560flevel0_row0\" class=\"row_heading level0 row0\" >lightgbm</th>\n",
       "                        <td id=\"T_a683c9d6_8a78_11ec_8254_d83bbf4e560frow0_col0\" class=\"data row0 col0\" >Light Gradient Boosting Machine</td>\n",
       "                        <td id=\"T_a683c9d6_8a78_11ec_8254_d83bbf4e560frow0_col1\" class=\"data row0 col1\" >0.9343</td>\n",
       "                        <td id=\"T_a683c9d6_8a78_11ec_8254_d83bbf4e560frow0_col2\" class=\"data row0 col2\" >0.9805</td>\n",
       "                        <td id=\"T_a683c9d6_8a78_11ec_8254_d83bbf4e560frow0_col3\" class=\"data row0 col3\" >0.9479</td>\n",
       "                        <td id=\"T_a683c9d6_8a78_11ec_8254_d83bbf4e560frow0_col4\" class=\"data row0 col4\" >0.9374</td>\n",
       "                        <td id=\"T_a683c9d6_8a78_11ec_8254_d83bbf4e560frow0_col5\" class=\"data row0 col5\" >0.9423</td>\n",
       "                        <td id=\"T_a683c9d6_8a78_11ec_8254_d83bbf4e560frow0_col6\" class=\"data row0 col6\" >0.8659</td>\n",
       "                        <td id=\"T_a683c9d6_8a78_11ec_8254_d83bbf4e560frow0_col7\" class=\"data row0 col7\" >0.8667</td>\n",
       "                        <td id=\"T_a683c9d6_8a78_11ec_8254_d83bbf4e560frow0_col8\" class=\"data row0 col8\" >0.1800</td>\n",
       "            </tr>\n",
       "            <tr>\n",
       "                        <th id=\"T_a683c9d6_8a78_11ec_8254_d83bbf4e560flevel0_row1\" class=\"row_heading level0 row1\" >xgboost</th>\n",
       "                        <td id=\"T_a683c9d6_8a78_11ec_8254_d83bbf4e560frow1_col0\" class=\"data row1 col0\" >Extreme Gradient Boosting</td>\n",
       "                        <td id=\"T_a683c9d6_8a78_11ec_8254_d83bbf4e560frow1_col1\" class=\"data row1 col1\" >0.9285</td>\n",
       "                        <td id=\"T_a683c9d6_8a78_11ec_8254_d83bbf4e560frow1_col2\" class=\"data row1 col2\" >0.9806</td>\n",
       "                        <td id=\"T_a683c9d6_8a78_11ec_8254_d83bbf4e560frow1_col3\" class=\"data row1 col3\" >0.9420</td>\n",
       "                        <td id=\"T_a683c9d6_8a78_11ec_8254_d83bbf4e560frow1_col4\" class=\"data row1 col4\" >0.9330</td>\n",
       "                        <td id=\"T_a683c9d6_8a78_11ec_8254_d83bbf4e560frow1_col5\" class=\"data row1 col5\" >0.9373</td>\n",
       "                        <td id=\"T_a683c9d6_8a78_11ec_8254_d83bbf4e560frow1_col6\" class=\"data row1 col6\" >0.8543</td>\n",
       "                        <td id=\"T_a683c9d6_8a78_11ec_8254_d83bbf4e560frow1_col7\" class=\"data row1 col7\" >0.8548</td>\n",
       "                        <td id=\"T_a683c9d6_8a78_11ec_8254_d83bbf4e560frow1_col8\" class=\"data row1 col8\" >0.3470</td>\n",
       "            </tr>\n",
       "            <tr>\n",
       "                        <th id=\"T_a683c9d6_8a78_11ec_8254_d83bbf4e560flevel0_row2\" class=\"row_heading level0 row2\" >gbc</th>\n",
       "                        <td id=\"T_a683c9d6_8a78_11ec_8254_d83bbf4e560frow2_col0\" class=\"data row2 col0\" >Gradient Boosting Classifier</td>\n",
       "                        <td id=\"T_a683c9d6_8a78_11ec_8254_d83bbf4e560frow2_col1\" class=\"data row2 col1\" >0.9247</td>\n",
       "                        <td id=\"T_a683c9d6_8a78_11ec_8254_d83bbf4e560frow2_col2\" class=\"data row2 col2\" >0.9756</td>\n",
       "                        <td id=\"T_a683c9d6_8a78_11ec_8254_d83bbf4e560frow2_col3\" class=\"data row2 col3\" >0.9336</td>\n",
       "                        <td id=\"T_a683c9d6_8a78_11ec_8254_d83bbf4e560frow2_col4\" class=\"data row2 col4\" >0.9339</td>\n",
       "                        <td id=\"T_a683c9d6_8a78_11ec_8254_d83bbf4e560frow2_col5\" class=\"data row2 col5\" >0.9335</td>\n",
       "                        <td id=\"T_a683c9d6_8a78_11ec_8254_d83bbf4e560frow2_col6\" class=\"data row2 col6\" >0.8468</td>\n",
       "                        <td id=\"T_a683c9d6_8a78_11ec_8254_d83bbf4e560frow2_col7\" class=\"data row2 col7\" >0.8474</td>\n",
       "                        <td id=\"T_a683c9d6_8a78_11ec_8254_d83bbf4e560frow2_col8\" class=\"data row2 col8\" >0.1490</td>\n",
       "            </tr>\n",
       "            <tr>\n",
       "                        <th id=\"T_a683c9d6_8a78_11ec_8254_d83bbf4e560flevel0_row3\" class=\"row_heading level0 row3\" >et</th>\n",
       "                        <td id=\"T_a683c9d6_8a78_11ec_8254_d83bbf4e560frow3_col0\" class=\"data row3 col0\" >Extra Trees Classifier</td>\n",
       "                        <td id=\"T_a683c9d6_8a78_11ec_8254_d83bbf4e560frow3_col1\" class=\"data row3 col1\" >0.9152</td>\n",
       "                        <td id=\"T_a683c9d6_8a78_11ec_8254_d83bbf4e560frow3_col2\" class=\"data row3 col2\" >0.9741</td>\n",
       "                        <td id=\"T_a683c9d6_8a78_11ec_8254_d83bbf4e560frow3_col3\" class=\"data row3 col3\" >0.9293</td>\n",
       "                        <td id=\"T_a683c9d6_8a78_11ec_8254_d83bbf4e560frow3_col4\" class=\"data row3 col4\" >0.9220</td>\n",
       "                        <td id=\"T_a683c9d6_8a78_11ec_8254_d83bbf4e560frow3_col5\" class=\"data row3 col5\" >0.9254</td>\n",
       "                        <td id=\"T_a683c9d6_8a78_11ec_8254_d83bbf4e560frow3_col6\" class=\"data row3 col6\" >0.8271</td>\n",
       "                        <td id=\"T_a683c9d6_8a78_11ec_8254_d83bbf4e560frow3_col7\" class=\"data row3 col7\" >0.8277</td>\n",
       "                        <td id=\"T_a683c9d6_8a78_11ec_8254_d83bbf4e560frow3_col8\" class=\"data row3 col8\" >0.1160</td>\n",
       "            </tr>\n",
       "            <tr>\n",
       "                        <th id=\"T_a683c9d6_8a78_11ec_8254_d83bbf4e560flevel0_row4\" class=\"row_heading level0 row4\" >rf</th>\n",
       "                        <td id=\"T_a683c9d6_8a78_11ec_8254_d83bbf4e560frow4_col0\" class=\"data row4 col0\" >Random Forest Classifier</td>\n",
       "                        <td id=\"T_a683c9d6_8a78_11ec_8254_d83bbf4e560frow4_col1\" class=\"data row4 col1\" >0.9133</td>\n",
       "                        <td id=\"T_a683c9d6_8a78_11ec_8254_d83bbf4e560frow4_col2\" class=\"data row4 col2\" >0.9706</td>\n",
       "                        <td id=\"T_a683c9d6_8a78_11ec_8254_d83bbf4e560frow4_col3\" class=\"data row4 col3\" >0.9294</td>\n",
       "                        <td id=\"T_a683c9d6_8a78_11ec_8254_d83bbf4e560frow4_col4\" class=\"data row4 col4\" >0.9195</td>\n",
       "                        <td id=\"T_a683c9d6_8a78_11ec_8254_d83bbf4e560frow4_col5\" class=\"data row4 col5\" >0.9239</td>\n",
       "                        <td id=\"T_a683c9d6_8a78_11ec_8254_d83bbf4e560frow4_col6\" class=\"data row4 col6\" >0.8231</td>\n",
       "                        <td id=\"T_a683c9d6_8a78_11ec_8254_d83bbf4e560frow4_col7\" class=\"data row4 col7\" >0.8243</td>\n",
       "                        <td id=\"T_a683c9d6_8a78_11ec_8254_d83bbf4e560frow4_col8\" class=\"data row4 col8\" >0.1260</td>\n",
       "            </tr>\n",
       "            <tr>\n",
       "                        <th id=\"T_a683c9d6_8a78_11ec_8254_d83bbf4e560flevel0_row5\" class=\"row_heading level0 row5\" >lr</th>\n",
       "                        <td id=\"T_a683c9d6_8a78_11ec_8254_d83bbf4e560frow5_col0\" class=\"data row5 col0\" >Logistic Regression</td>\n",
       "                        <td id=\"T_a683c9d6_8a78_11ec_8254_d83bbf4e560frow5_col1\" class=\"data row5 col1\" >0.8938</td>\n",
       "                        <td id=\"T_a683c9d6_8a78_11ec_8254_d83bbf4e560frow5_col2\" class=\"data row5 col2\" >0.9580</td>\n",
       "                        <td id=\"T_a683c9d6_8a78_11ec_8254_d83bbf4e560frow5_col3\" class=\"data row5 col3\" >0.8999</td>\n",
       "                        <td id=\"T_a683c9d6_8a78_11ec_8254_d83bbf4e560frow5_col4\" class=\"data row5 col4\" >0.9119</td>\n",
       "                        <td id=\"T_a683c9d6_8a78_11ec_8254_d83bbf4e560frow5_col5\" class=\"data row5 col5\" >0.9054</td>\n",
       "                        <td id=\"T_a683c9d6_8a78_11ec_8254_d83bbf4e560frow5_col6\" class=\"data row5 col6\" >0.7842</td>\n",
       "                        <td id=\"T_a683c9d6_8a78_11ec_8254_d83bbf4e560frow5_col7\" class=\"data row5 col7\" >0.7854</td>\n",
       "                        <td id=\"T_a683c9d6_8a78_11ec_8254_d83bbf4e560frow5_col8\" class=\"data row5 col8\" >0.9530</td>\n",
       "            </tr>\n",
       "            <tr>\n",
       "                        <th id=\"T_a683c9d6_8a78_11ec_8254_d83bbf4e560flevel0_row6\" class=\"row_heading level0 row6\" >ridge</th>\n",
       "                        <td id=\"T_a683c9d6_8a78_11ec_8254_d83bbf4e560frow6_col0\" class=\"data row6 col0\" >Ridge Classifier</td>\n",
       "                        <td id=\"T_a683c9d6_8a78_11ec_8254_d83bbf4e560frow6_col1\" class=\"data row6 col1\" >0.8914</td>\n",
       "                        <td id=\"T_a683c9d6_8a78_11ec_8254_d83bbf4e560frow6_col2\" class=\"data row6 col2\" >0.0000</td>\n",
       "                        <td id=\"T_a683c9d6_8a78_11ec_8254_d83bbf4e560frow6_col3\" class=\"data row6 col3\" >0.8999</td>\n",
       "                        <td id=\"T_a683c9d6_8a78_11ec_8254_d83bbf4e560frow6_col4\" class=\"data row6 col4\" >0.9079</td>\n",
       "                        <td id=\"T_a683c9d6_8a78_11ec_8254_d83bbf4e560frow6_col5\" class=\"data row6 col5\" >0.9036</td>\n",
       "                        <td id=\"T_a683c9d6_8a78_11ec_8254_d83bbf4e560frow6_col6\" class=\"data row6 col6\" >0.7792</td>\n",
       "                        <td id=\"T_a683c9d6_8a78_11ec_8254_d83bbf4e560frow6_col7\" class=\"data row6 col7\" >0.7799</td>\n",
       "                        <td id=\"T_a683c9d6_8a78_11ec_8254_d83bbf4e560frow6_col8\" class=\"data row6 col8\" >0.0140</td>\n",
       "            </tr>\n",
       "            <tr>\n",
       "                        <th id=\"T_a683c9d6_8a78_11ec_8254_d83bbf4e560flevel0_row7\" class=\"row_heading level0 row7\" >ada</th>\n",
       "                        <td id=\"T_a683c9d6_8a78_11ec_8254_d83bbf4e560frow7_col0\" class=\"data row7 col0\" >Ada Boost Classifier</td>\n",
       "                        <td id=\"T_a683c9d6_8a78_11ec_8254_d83bbf4e560frow7_col1\" class=\"data row7 col1\" >0.8914</td>\n",
       "                        <td id=\"T_a683c9d6_8a78_11ec_8254_d83bbf4e560frow7_col2\" class=\"data row7 col2\" >0.9572</td>\n",
       "                        <td id=\"T_a683c9d6_8a78_11ec_8254_d83bbf4e560frow7_col3\" class=\"data row7 col3\" >0.8982</td>\n",
       "                        <td id=\"T_a683c9d6_8a78_11ec_8254_d83bbf4e560frow7_col4\" class=\"data row7 col4\" >0.9092</td>\n",
       "                        <td id=\"T_a683c9d6_8a78_11ec_8254_d83bbf4e560frow7_col5\" class=\"data row7 col5\" >0.9032</td>\n",
       "                        <td id=\"T_a683c9d6_8a78_11ec_8254_d83bbf4e560frow7_col6\" class=\"data row7 col6\" >0.7794</td>\n",
       "                        <td id=\"T_a683c9d6_8a78_11ec_8254_d83bbf4e560frow7_col7\" class=\"data row7 col7\" >0.7805</td>\n",
       "                        <td id=\"T_a683c9d6_8a78_11ec_8254_d83bbf4e560frow7_col8\" class=\"data row7 col8\" >0.0670</td>\n",
       "            </tr>\n",
       "            <tr>\n",
       "                        <th id=\"T_a683c9d6_8a78_11ec_8254_d83bbf4e560flevel0_row8\" class=\"row_heading level0 row8\" >lda</th>\n",
       "                        <td id=\"T_a683c9d6_8a78_11ec_8254_d83bbf4e560frow8_col0\" class=\"data row8 col0\" >Linear Discriminant Analysis</td>\n",
       "                        <td id=\"T_a683c9d6_8a78_11ec_8254_d83bbf4e560frow8_col1\" class=\"data row8 col1\" >0.8914</td>\n",
       "                        <td id=\"T_a683c9d6_8a78_11ec_8254_d83bbf4e560frow8_col2\" class=\"data row8 col2\" >0.9575</td>\n",
       "                        <td id=\"T_a683c9d6_8a78_11ec_8254_d83bbf4e560frow8_col3\" class=\"data row8 col3\" >0.8999</td>\n",
       "                        <td id=\"T_a683c9d6_8a78_11ec_8254_d83bbf4e560frow8_col4\" class=\"data row8 col4\" >0.9079</td>\n",
       "                        <td id=\"T_a683c9d6_8a78_11ec_8254_d83bbf4e560frow8_col5\" class=\"data row8 col5\" >0.9036</td>\n",
       "                        <td id=\"T_a683c9d6_8a78_11ec_8254_d83bbf4e560frow8_col6\" class=\"data row8 col6\" >0.7792</td>\n",
       "                        <td id=\"T_a683c9d6_8a78_11ec_8254_d83bbf4e560frow8_col7\" class=\"data row8 col7\" >0.7799</td>\n",
       "                        <td id=\"T_a683c9d6_8a78_11ec_8254_d83bbf4e560frow8_col8\" class=\"data row8 col8\" >0.0210</td>\n",
       "            </tr>\n",
       "            <tr>\n",
       "                        <th id=\"T_a683c9d6_8a78_11ec_8254_d83bbf4e560flevel0_row9\" class=\"row_heading level0 row9\" >dt</th>\n",
       "                        <td id=\"T_a683c9d6_8a78_11ec_8254_d83bbf4e560frow9_col0\" class=\"data row9 col0\" >Decision Tree Classifier</td>\n",
       "                        <td id=\"T_a683c9d6_8a78_11ec_8254_d83bbf4e560frow9_col1\" class=\"data row9 col1\" >0.8780</td>\n",
       "                        <td id=\"T_a683c9d6_8a78_11ec_8254_d83bbf4e560frow9_col2\" class=\"data row9 col2\" >0.8753</td>\n",
       "                        <td id=\"T_a683c9d6_8a78_11ec_8254_d83bbf4e560frow9_col3\" class=\"data row9 col3\" >0.8957</td>\n",
       "                        <td id=\"T_a683c9d6_8a78_11ec_8254_d83bbf4e560frow9_col4\" class=\"data row9 col4\" >0.8908</td>\n",
       "                        <td id=\"T_a683c9d6_8a78_11ec_8254_d83bbf4e560frow9_col5\" class=\"data row9 col5\" >0.8928</td>\n",
       "                        <td id=\"T_a683c9d6_8a78_11ec_8254_d83bbf4e560frow9_col6\" class=\"data row9 col6\" >0.7513</td>\n",
       "                        <td id=\"T_a683c9d6_8a78_11ec_8254_d83bbf4e560frow9_col7\" class=\"data row9 col7\" >0.7522</td>\n",
       "                        <td id=\"T_a683c9d6_8a78_11ec_8254_d83bbf4e560frow9_col8\" class=\"data row9 col8\" >0.0130</td>\n",
       "            </tr>\n",
       "            <tr>\n",
       "                        <th id=\"T_a683c9d6_8a78_11ec_8254_d83bbf4e560flevel0_row10\" class=\"row_heading level0 row10\" >nb</th>\n",
       "                        <td id=\"T_a683c9d6_8a78_11ec_8254_d83bbf4e560frow10_col0\" class=\"data row10 col0\" >Naive Bayes</td>\n",
       "                        <td id=\"T_a683c9d6_8a78_11ec_8254_d83bbf4e560frow10_col1\" class=\"data row10 col1\" >0.8509</td>\n",
       "                        <td id=\"T_a683c9d6_8a78_11ec_8254_d83bbf4e560frow10_col2\" class=\"data row10 col2\" >0.9284</td>\n",
       "                        <td id=\"T_a683c9d6_8a78_11ec_8254_d83bbf4e560frow10_col3\" class=\"data row10 col3\" >0.8385</td>\n",
       "                        <td id=\"T_a683c9d6_8a78_11ec_8254_d83bbf4e560frow10_col4\" class=\"data row10 col4\" >0.8923</td>\n",
       "                        <td id=\"T_a683c9d6_8a78_11ec_8254_d83bbf4e560frow10_col5\" class=\"data row10 col5\" >0.8642</td>\n",
       "                        <td id=\"T_a683c9d6_8a78_11ec_8254_d83bbf4e560frow10_col6\" class=\"data row10 col6\" >0.6992</td>\n",
       "                        <td id=\"T_a683c9d6_8a78_11ec_8254_d83bbf4e560frow10_col7\" class=\"data row10 col7\" >0.7015</td>\n",
       "                        <td id=\"T_a683c9d6_8a78_11ec_8254_d83bbf4e560frow10_col8\" class=\"data row10 col8\" >0.0120</td>\n",
       "            </tr>\n",
       "            <tr>\n",
       "                        <th id=\"T_a683c9d6_8a78_11ec_8254_d83bbf4e560flevel0_row11\" class=\"row_heading level0 row11\" >qda</th>\n",
       "                        <td id=\"T_a683c9d6_8a78_11ec_8254_d83bbf4e560frow11_col0\" class=\"data row11 col0\" >Quadratic Discriminant Analysis</td>\n",
       "                        <td id=\"T_a683c9d6_8a78_11ec_8254_d83bbf4e560frow11_col1\" class=\"data row11 col1\" >0.5888</td>\n",
       "                        <td id=\"T_a683c9d6_8a78_11ec_8254_d83bbf4e560frow11_col2\" class=\"data row11 col2\" >0.5624</td>\n",
       "                        <td id=\"T_a683c9d6_8a78_11ec_8254_d83bbf4e560frow11_col3\" class=\"data row11 col3\" >0.7621</td>\n",
       "                        <td id=\"T_a683c9d6_8a78_11ec_8254_d83bbf4e560frow11_col4\" class=\"data row11 col4\" >0.6121</td>\n",
       "                        <td id=\"T_a683c9d6_8a78_11ec_8254_d83bbf4e560frow11_col5\" class=\"data row11 col5\" >0.6746</td>\n",
       "                        <td id=\"T_a683c9d6_8a78_11ec_8254_d83bbf4e560frow11_col6\" class=\"data row11 col6\" >0.1292</td>\n",
       "                        <td id=\"T_a683c9d6_8a78_11ec_8254_d83bbf4e560frow11_col7\" class=\"data row11 col7\" >0.1407</td>\n",
       "                        <td id=\"T_a683c9d6_8a78_11ec_8254_d83bbf4e560frow11_col8\" class=\"data row11 col8\" >0.0200</td>\n",
       "            </tr>\n",
       "            <tr>\n",
       "                        <th id=\"T_a683c9d6_8a78_11ec_8254_d83bbf4e560flevel0_row12\" class=\"row_heading level0 row12\" >knn</th>\n",
       "                        <td id=\"T_a683c9d6_8a78_11ec_8254_d83bbf4e560frow12_col0\" class=\"data row12 col0\" >K Neighbors Classifier</td>\n",
       "                        <td id=\"T_a683c9d6_8a78_11ec_8254_d83bbf4e560frow12_col1\" class=\"data row12 col1\" >0.5746</td>\n",
       "                        <td id=\"T_a683c9d6_8a78_11ec_8254_d83bbf4e560frow12_col2\" class=\"data row12 col2\" >0.5716</td>\n",
       "                        <td id=\"T_a683c9d6_8a78_11ec_8254_d83bbf4e560frow12_col3\" class=\"data row12 col3\" >0.6788</td>\n",
       "                        <td id=\"T_a683c9d6_8a78_11ec_8254_d83bbf4e560frow12_col4\" class=\"data row12 col4\" >0.6124</td>\n",
       "                        <td id=\"T_a683c9d6_8a78_11ec_8254_d83bbf4e560frow12_col5\" class=\"data row12 col5\" >0.6432</td>\n",
       "                        <td id=\"T_a683c9d6_8a78_11ec_8254_d83bbf4e560frow12_col6\" class=\"data row12 col6\" >0.1193</td>\n",
       "                        <td id=\"T_a683c9d6_8a78_11ec_8254_d83bbf4e560frow12_col7\" class=\"data row12 col7\" >0.1210</td>\n",
       "                        <td id=\"T_a683c9d6_8a78_11ec_8254_d83bbf4e560frow12_col8\" class=\"data row12 col8\" >0.0250</td>\n",
       "            </tr>\n",
       "            <tr>\n",
       "                        <th id=\"T_a683c9d6_8a78_11ec_8254_d83bbf4e560flevel0_row13\" class=\"row_heading level0 row13\" >dummy</th>\n",
       "                        <td id=\"T_a683c9d6_8a78_11ec_8254_d83bbf4e560frow13_col0\" class=\"data row13 col0\" >Dummy Classifier</td>\n",
       "                        <td id=\"T_a683c9d6_8a78_11ec_8254_d83bbf4e560frow13_col1\" class=\"data row13 col1\" >0.5665</td>\n",
       "                        <td id=\"T_a683c9d6_8a78_11ec_8254_d83bbf4e560frow13_col2\" class=\"data row13 col2\" >0.5000</td>\n",
       "                        <td id=\"T_a683c9d6_8a78_11ec_8254_d83bbf4e560frow13_col3\" class=\"data row13 col3\" >1.0000</td>\n",
       "                        <td id=\"T_a683c9d6_8a78_11ec_8254_d83bbf4e560frow13_col4\" class=\"data row13 col4\" >0.5665</td>\n",
       "                        <td id=\"T_a683c9d6_8a78_11ec_8254_d83bbf4e560frow13_col5\" class=\"data row13 col5\" >0.7232</td>\n",
       "                        <td id=\"T_a683c9d6_8a78_11ec_8254_d83bbf4e560frow13_col6\" class=\"data row13 col6\" >0.0000</td>\n",
       "                        <td id=\"T_a683c9d6_8a78_11ec_8254_d83bbf4e560frow13_col7\" class=\"data row13 col7\" >0.0000</td>\n",
       "                        <td id=\"T_a683c9d6_8a78_11ec_8254_d83bbf4e560frow13_col8\" class=\"data row13 col8\" >0.0100</td>\n",
       "            </tr>\n",
       "            <tr>\n",
       "                        <th id=\"T_a683c9d6_8a78_11ec_8254_d83bbf4e560flevel0_row14\" class=\"row_heading level0 row14\" >svm</th>\n",
       "                        <td id=\"T_a683c9d6_8a78_11ec_8254_d83bbf4e560frow14_col0\" class=\"data row14 col0\" >SVM - Linear Kernel</td>\n",
       "                        <td id=\"T_a683c9d6_8a78_11ec_8254_d83bbf4e560frow14_col1\" class=\"data row14 col1\" >0.5050</td>\n",
       "                        <td id=\"T_a683c9d6_8a78_11ec_8254_d83bbf4e560frow14_col2\" class=\"data row14 col2\" >0.0000</td>\n",
       "                        <td id=\"T_a683c9d6_8a78_11ec_8254_d83bbf4e560frow14_col3\" class=\"data row14 col3\" >0.3756</td>\n",
       "                        <td id=\"T_a683c9d6_8a78_11ec_8254_d83bbf4e560frow14_col4\" class=\"data row14 col4\" >0.6551</td>\n",
       "                        <td id=\"T_a683c9d6_8a78_11ec_8254_d83bbf4e560frow14_col5\" class=\"data row14 col5\" >0.3187</td>\n",
       "                        <td id=\"T_a683c9d6_8a78_11ec_8254_d83bbf4e560frow14_col6\" class=\"data row14 col6\" >0.0460</td>\n",
       "                        <td id=\"T_a683c9d6_8a78_11ec_8254_d83bbf4e560frow14_col7\" class=\"data row14 col7\" >0.0718</td>\n",
       "                        <td id=\"T_a683c9d6_8a78_11ec_8254_d83bbf4e560frow14_col8\" class=\"data row14 col8\" >0.0260</td>\n",
       "            </tr>\n",
       "    </tbody></table>"
      ],
      "text/plain": [
       "<pandas.io.formats.style.Styler at 0x2a958198ca0>"
      ]
     },
     "metadata": {},
     "output_type": "display_data"
    }
   ],
   "source": [
    "#상위 모델 3개를 선택\n",
    "best = compare_models(n_select=4, fold = 10,\n",
    "                      cross_validation=True,\n",
    "                     sort='Accuracy') "
   ]
  },
  {
   "cell_type": "code",
   "execution_count": 64,
   "metadata": {
    "ExecuteTime": {
     "end_time": "2022-02-10T13:52:30.807085Z",
     "start_time": "2022-02-10T13:52:13.617647Z"
    }
   },
   "outputs": [
    {
     "data": {
      "text/html": [
       "<style  type=\"text/css\" >\n",
       "    #T_b0985401_8a78_11ec_909c_d83bbf4e560frow10_col0 {\n",
       "            background:  yellow;\n",
       "        }    #T_b0985401_8a78_11ec_909c_d83bbf4e560frow10_col1 {\n",
       "            background:  yellow;\n",
       "        }    #T_b0985401_8a78_11ec_909c_d83bbf4e560frow10_col2 {\n",
       "            background:  yellow;\n",
       "        }    #T_b0985401_8a78_11ec_909c_d83bbf4e560frow10_col3 {\n",
       "            background:  yellow;\n",
       "        }    #T_b0985401_8a78_11ec_909c_d83bbf4e560frow10_col4 {\n",
       "            background:  yellow;\n",
       "        }    #T_b0985401_8a78_11ec_909c_d83bbf4e560frow10_col5 {\n",
       "            background:  yellow;\n",
       "        }    #T_b0985401_8a78_11ec_909c_d83bbf4e560frow10_col6 {\n",
       "            background:  yellow;\n",
       "        }</style><table id=\"T_b0985401_8a78_11ec_909c_d83bbf4e560f\" ><thead>    <tr>        <th class=\"blank level0\" ></th>        <th class=\"col_heading level0 col0\" >Accuracy</th>        <th class=\"col_heading level0 col1\" >AUC</th>        <th class=\"col_heading level0 col2\" >Recall</th>        <th class=\"col_heading level0 col3\" >Prec.</th>        <th class=\"col_heading level0 col4\" >F1</th>        <th class=\"col_heading level0 col5\" >Kappa</th>        <th class=\"col_heading level0 col6\" >MCC</th>    </tr></thead><tbody>\n",
       "                <tr>\n",
       "                        <th id=\"T_b0985401_8a78_11ec_909c_d83bbf4e560flevel0_row0\" class=\"row_heading level0 row0\" >0</th>\n",
       "                        <td id=\"T_b0985401_8a78_11ec_909c_d83bbf4e560frow0_col0\" class=\"data row0 col0\" >0.9524</td>\n",
       "                        <td id=\"T_b0985401_8a78_11ec_909c_d83bbf4e560frow0_col1\" class=\"data row0 col1\" >0.9873</td>\n",
       "                        <td id=\"T_b0985401_8a78_11ec_909c_d83bbf4e560frow0_col2\" class=\"data row0 col2\" >0.9412</td>\n",
       "                        <td id=\"T_b0985401_8a78_11ec_909c_d83bbf4e560frow0_col3\" class=\"data row0 col3\" >0.9739</td>\n",
       "                        <td id=\"T_b0985401_8a78_11ec_909c_d83bbf4e560frow0_col4\" class=\"data row0 col4\" >0.9573</td>\n",
       "                        <td id=\"T_b0985401_8a78_11ec_909c_d83bbf4e560frow0_col5\" class=\"data row0 col5\" >0.9035</td>\n",
       "                        <td id=\"T_b0985401_8a78_11ec_909c_d83bbf4e560frow0_col6\" class=\"data row0 col6\" >0.9042</td>\n",
       "            </tr>\n",
       "            <tr>\n",
       "                        <th id=\"T_b0985401_8a78_11ec_909c_d83bbf4e560flevel0_row1\" class=\"row_heading level0 row1\" >1</th>\n",
       "                        <td id=\"T_b0985401_8a78_11ec_909c_d83bbf4e560frow1_col0\" class=\"data row1 col0\" >0.9333</td>\n",
       "                        <td id=\"T_b0985401_8a78_11ec_909c_d83bbf4e560frow1_col1\" class=\"data row1 col1\" >0.9765</td>\n",
       "                        <td id=\"T_b0985401_8a78_11ec_909c_d83bbf4e560frow1_col2\" class=\"data row1 col2\" >0.9244</td>\n",
       "                        <td id=\"T_b0985401_8a78_11ec_909c_d83bbf4e560frow1_col3\" class=\"data row1 col3\" >0.9565</td>\n",
       "                        <td id=\"T_b0985401_8a78_11ec_909c_d83bbf4e560frow1_col4\" class=\"data row1 col4\" >0.9402</td>\n",
       "                        <td id=\"T_b0985401_8a78_11ec_909c_d83bbf4e560frow1_col5\" class=\"data row1 col5\" >0.8650</td>\n",
       "                        <td id=\"T_b0985401_8a78_11ec_909c_d83bbf4e560frow1_col6\" class=\"data row1 col6\" >0.8656</td>\n",
       "            </tr>\n",
       "            <tr>\n",
       "                        <th id=\"T_b0985401_8a78_11ec_909c_d83bbf4e560flevel0_row2\" class=\"row_heading level0 row2\" >2</th>\n",
       "                        <td id=\"T_b0985401_8a78_11ec_909c_d83bbf4e560frow2_col0\" class=\"data row2 col0\" >0.9476</td>\n",
       "                        <td id=\"T_b0985401_8a78_11ec_909c_d83bbf4e560frow2_col1\" class=\"data row2 col1\" >0.9873</td>\n",
       "                        <td id=\"T_b0985401_8a78_11ec_909c_d83bbf4e560frow2_col2\" class=\"data row2 col2\" >0.9832</td>\n",
       "                        <td id=\"T_b0985401_8a78_11ec_909c_d83bbf4e560frow2_col3\" class=\"data row2 col3\" >0.9286</td>\n",
       "                        <td id=\"T_b0985401_8a78_11ec_909c_d83bbf4e560frow2_col4\" class=\"data row2 col4\" >0.9551</td>\n",
       "                        <td id=\"T_b0985401_8a78_11ec_909c_d83bbf4e560frow2_col5\" class=\"data row2 col5\" >0.8924</td>\n",
       "                        <td id=\"T_b0985401_8a78_11ec_909c_d83bbf4e560frow2_col6\" class=\"data row2 col6\" >0.8945</td>\n",
       "            </tr>\n",
       "            <tr>\n",
       "                        <th id=\"T_b0985401_8a78_11ec_909c_d83bbf4e560flevel0_row3\" class=\"row_heading level0 row3\" >3</th>\n",
       "                        <td id=\"T_b0985401_8a78_11ec_909c_d83bbf4e560frow3_col0\" class=\"data row3 col0\" >0.9190</td>\n",
       "                        <td id=\"T_b0985401_8a78_11ec_909c_d83bbf4e560frow3_col1\" class=\"data row3 col1\" >0.9758</td>\n",
       "                        <td id=\"T_b0985401_8a78_11ec_909c_d83bbf4e560frow3_col2\" class=\"data row3 col2\" >0.9244</td>\n",
       "                        <td id=\"T_b0985401_8a78_11ec_909c_d83bbf4e560frow3_col3\" class=\"data row3 col3\" >0.9322</td>\n",
       "                        <td id=\"T_b0985401_8a78_11ec_909c_d83bbf4e560frow3_col4\" class=\"data row3 col4\" >0.9283</td>\n",
       "                        <td id=\"T_b0985401_8a78_11ec_909c_d83bbf4e560frow3_col5\" class=\"data row3 col5\" >0.8354</td>\n",
       "                        <td id=\"T_b0985401_8a78_11ec_909c_d83bbf4e560frow3_col6\" class=\"data row3 col6\" >0.8354</td>\n",
       "            </tr>\n",
       "            <tr>\n",
       "                        <th id=\"T_b0985401_8a78_11ec_909c_d83bbf4e560flevel0_row4\" class=\"row_heading level0 row4\" >4</th>\n",
       "                        <td id=\"T_b0985401_8a78_11ec_909c_d83bbf4e560frow4_col0\" class=\"data row4 col0\" >0.9333</td>\n",
       "                        <td id=\"T_b0985401_8a78_11ec_909c_d83bbf4e560frow4_col1\" class=\"data row4 col1\" >0.9844</td>\n",
       "                        <td id=\"T_b0985401_8a78_11ec_909c_d83bbf4e560frow4_col2\" class=\"data row4 col2\" >0.9580</td>\n",
       "                        <td id=\"T_b0985401_8a78_11ec_909c_d83bbf4e560frow4_col3\" class=\"data row4 col3\" >0.9268</td>\n",
       "                        <td id=\"T_b0985401_8a78_11ec_909c_d83bbf4e560frow4_col4\" class=\"data row4 col4\" >0.9421</td>\n",
       "                        <td id=\"T_b0985401_8a78_11ec_909c_d83bbf4e560frow4_col5\" class=\"data row4 col5\" >0.8635</td>\n",
       "                        <td id=\"T_b0985401_8a78_11ec_909c_d83bbf4e560frow4_col6\" class=\"data row4 col6\" >0.8642</td>\n",
       "            </tr>\n",
       "            <tr>\n",
       "                        <th id=\"T_b0985401_8a78_11ec_909c_d83bbf4e560flevel0_row5\" class=\"row_heading level0 row5\" >5</th>\n",
       "                        <td id=\"T_b0985401_8a78_11ec_909c_d83bbf4e560frow5_col0\" class=\"data row5 col0\" >0.9238</td>\n",
       "                        <td id=\"T_b0985401_8a78_11ec_909c_d83bbf4e560frow5_col1\" class=\"data row5 col1\" >0.9808</td>\n",
       "                        <td id=\"T_b0985401_8a78_11ec_909c_d83bbf4e560frow5_col2\" class=\"data row5 col2\" >0.9328</td>\n",
       "                        <td id=\"T_b0985401_8a78_11ec_909c_d83bbf4e560frow5_col3\" class=\"data row5 col3\" >0.9328</td>\n",
       "                        <td id=\"T_b0985401_8a78_11ec_909c_d83bbf4e560frow5_col4\" class=\"data row5 col4\" >0.9328</td>\n",
       "                        <td id=\"T_b0985401_8a78_11ec_909c_d83bbf4e560frow5_col5\" class=\"data row5 col5\" >0.8449</td>\n",
       "                        <td id=\"T_b0985401_8a78_11ec_909c_d83bbf4e560frow5_col6\" class=\"data row5 col6\" >0.8449</td>\n",
       "            </tr>\n",
       "            <tr>\n",
       "                        <th id=\"T_b0985401_8a78_11ec_909c_d83bbf4e560flevel0_row6\" class=\"row_heading level0 row6\" >6</th>\n",
       "                        <td id=\"T_b0985401_8a78_11ec_909c_d83bbf4e560frow6_col0\" class=\"data row6 col0\" >0.9238</td>\n",
       "                        <td id=\"T_b0985401_8a78_11ec_909c_d83bbf4e560frow6_col1\" class=\"data row6 col1\" >0.9758</td>\n",
       "                        <td id=\"T_b0985401_8a78_11ec_909c_d83bbf4e560frow6_col2\" class=\"data row6 col2\" >0.9412</td>\n",
       "                        <td id=\"T_b0985401_8a78_11ec_909c_d83bbf4e560frow6_col3\" class=\"data row6 col3\" >0.9256</td>\n",
       "                        <td id=\"T_b0985401_8a78_11ec_909c_d83bbf4e560frow6_col4\" class=\"data row6 col4\" >0.9333</td>\n",
       "                        <td id=\"T_b0985401_8a78_11ec_909c_d83bbf4e560frow6_col5\" class=\"data row6 col5\" >0.8445</td>\n",
       "                        <td id=\"T_b0985401_8a78_11ec_909c_d83bbf4e560frow6_col6\" class=\"data row6 col6\" >0.8446</td>\n",
       "            </tr>\n",
       "            <tr>\n",
       "                        <th id=\"T_b0985401_8a78_11ec_909c_d83bbf4e560flevel0_row7\" class=\"row_heading level0 row7\" >7</th>\n",
       "                        <td id=\"T_b0985401_8a78_11ec_909c_d83bbf4e560frow7_col0\" class=\"data row7 col0\" >0.9524</td>\n",
       "                        <td id=\"T_b0985401_8a78_11ec_909c_d83bbf4e560frow7_col1\" class=\"data row7 col1\" >0.9834</td>\n",
       "                        <td id=\"T_b0985401_8a78_11ec_909c_d83bbf4e560frow7_col2\" class=\"data row7 col2\" >0.9664</td>\n",
       "                        <td id=\"T_b0985401_8a78_11ec_909c_d83bbf4e560frow7_col3\" class=\"data row7 col3\" >0.9504</td>\n",
       "                        <td id=\"T_b0985401_8a78_11ec_909c_d83bbf4e560frow7_col4\" class=\"data row7 col4\" >0.9583</td>\n",
       "                        <td id=\"T_b0985401_8a78_11ec_909c_d83bbf4e560frow7_col5\" class=\"data row7 col5\" >0.9028</td>\n",
       "                        <td id=\"T_b0985401_8a78_11ec_909c_d83bbf4e560frow7_col6\" class=\"data row7 col6\" >0.9030</td>\n",
       "            </tr>\n",
       "            <tr>\n",
       "                        <th id=\"T_b0985401_8a78_11ec_909c_d83bbf4e560flevel0_row8\" class=\"row_heading level0 row8\" >8</th>\n",
       "                        <td id=\"T_b0985401_8a78_11ec_909c_d83bbf4e560frow8_col0\" class=\"data row8 col0\" >0.9190</td>\n",
       "                        <td id=\"T_b0985401_8a78_11ec_909c_d83bbf4e560frow8_col1\" class=\"data row8 col1\" >0.9774</td>\n",
       "                        <td id=\"T_b0985401_8a78_11ec_909c_d83bbf4e560frow8_col2\" class=\"data row8 col2\" >0.9328</td>\n",
       "                        <td id=\"T_b0985401_8a78_11ec_909c_d83bbf4e560frow8_col3\" class=\"data row8 col3\" >0.9250</td>\n",
       "                        <td id=\"T_b0985401_8a78_11ec_909c_d83bbf4e560frow8_col4\" class=\"data row8 col4\" >0.9289</td>\n",
       "                        <td id=\"T_b0985401_8a78_11ec_909c_d83bbf4e560frow8_col5\" class=\"data row8 col5\" >0.8350</td>\n",
       "                        <td id=\"T_b0985401_8a78_11ec_909c_d83bbf4e560frow8_col6\" class=\"data row8 col6\" >0.8350</td>\n",
       "            </tr>\n",
       "            <tr>\n",
       "                        <th id=\"T_b0985401_8a78_11ec_909c_d83bbf4e560flevel0_row9\" class=\"row_heading level0 row9\" >9</th>\n",
       "                        <td id=\"T_b0985401_8a78_11ec_909c_d83bbf4e560frow9_col0\" class=\"data row9 col0\" >0.9139</td>\n",
       "                        <td id=\"T_b0985401_8a78_11ec_909c_d83bbf4e560frow9_col1\" class=\"data row9 col1\" >0.9811</td>\n",
       "                        <td id=\"T_b0985401_8a78_11ec_909c_d83bbf4e560frow9_col2\" class=\"data row9 col2\" >0.9237</td>\n",
       "                        <td id=\"T_b0985401_8a78_11ec_909c_d83bbf4e560frow9_col3\" class=\"data row9 col3\" >0.9237</td>\n",
       "                        <td id=\"T_b0985401_8a78_11ec_909c_d83bbf4e560frow9_col4\" class=\"data row9 col4\" >0.9237</td>\n",
       "                        <td id=\"T_b0985401_8a78_11ec_909c_d83bbf4e560frow9_col5\" class=\"data row9 col5\" >0.8248</td>\n",
       "                        <td id=\"T_b0985401_8a78_11ec_909c_d83bbf4e560frow9_col6\" class=\"data row9 col6\" >0.8248</td>\n",
       "            </tr>\n",
       "            <tr>\n",
       "                        <th id=\"T_b0985401_8a78_11ec_909c_d83bbf4e560flevel0_row10\" class=\"row_heading level0 row10\" >Mean</th>\n",
       "                        <td id=\"T_b0985401_8a78_11ec_909c_d83bbf4e560frow10_col0\" class=\"data row10 col0\" >0.9319</td>\n",
       "                        <td id=\"T_b0985401_8a78_11ec_909c_d83bbf4e560frow10_col1\" class=\"data row10 col1\" >0.9810</td>\n",
       "                        <td id=\"T_b0985401_8a78_11ec_909c_d83bbf4e560frow10_col2\" class=\"data row10 col2\" >0.9428</td>\n",
       "                        <td id=\"T_b0985401_8a78_11ec_909c_d83bbf4e560frow10_col3\" class=\"data row10 col3\" >0.9376</td>\n",
       "                        <td id=\"T_b0985401_8a78_11ec_909c_d83bbf4e560frow10_col4\" class=\"data row10 col4\" >0.9400</td>\n",
       "                        <td id=\"T_b0985401_8a78_11ec_909c_d83bbf4e560frow10_col5\" class=\"data row10 col5\" >0.8612</td>\n",
       "                        <td id=\"T_b0985401_8a78_11ec_909c_d83bbf4e560frow10_col6\" class=\"data row10 col6\" >0.8616</td>\n",
       "            </tr>\n",
       "            <tr>\n",
       "                        <th id=\"T_b0985401_8a78_11ec_909c_d83bbf4e560flevel0_row11\" class=\"row_heading level0 row11\" >SD</th>\n",
       "                        <td id=\"T_b0985401_8a78_11ec_909c_d83bbf4e560frow11_col0\" class=\"data row11 col0\" >0.0137</td>\n",
       "                        <td id=\"T_b0985401_8a78_11ec_909c_d83bbf4e560frow11_col1\" class=\"data row11 col1\" >0.0043</td>\n",
       "                        <td id=\"T_b0985401_8a78_11ec_909c_d83bbf4e560frow11_col2\" class=\"data row11 col2\" >0.0192</td>\n",
       "                        <td id=\"T_b0985401_8a78_11ec_909c_d83bbf4e560frow11_col3\" class=\"data row11 col3\" >0.0161</td>\n",
       "                        <td id=\"T_b0985401_8a78_11ec_909c_d83bbf4e560frow11_col4\" class=\"data row11 col4\" >0.0122</td>\n",
       "                        <td id=\"T_b0985401_8a78_11ec_909c_d83bbf4e560frow11_col5\" class=\"data row11 col5\" >0.0278</td>\n",
       "                        <td id=\"T_b0985401_8a78_11ec_909c_d83bbf4e560frow11_col6\" class=\"data row11 col6\" >0.0282</td>\n",
       "            </tr>\n",
       "    </tbody></table>"
      ],
      "text/plain": [
       "<pandas.io.formats.style.Styler at 0x2a9585a2a30>"
      ]
     },
     "metadata": {},
     "output_type": "display_data"
    },
    {
     "data": {
      "text/html": [
       "<style  type=\"text/css\" >\n",
       "</style><table id=\"T_b0ae8282_8a78_11ec_86a5_d83bbf4e560f\" ><thead>    <tr>        <th class=\"blank level0\" ></th>        <th class=\"col_heading level0 col0\" >Model</th>        <th class=\"col_heading level0 col1\" >Accuracy</th>        <th class=\"col_heading level0 col2\" >AUC</th>        <th class=\"col_heading level0 col3\" >Recall</th>        <th class=\"col_heading level0 col4\" >Prec.</th>        <th class=\"col_heading level0 col5\" >F1</th>        <th class=\"col_heading level0 col6\" >Kappa</th>        <th class=\"col_heading level0 col7\" >MCC</th>    </tr></thead><tbody>\n",
       "                <tr>\n",
       "                        <th id=\"T_b0ae8282_8a78_11ec_86a5_d83bbf4e560flevel0_row0\" class=\"row_heading level0 row0\" >0</th>\n",
       "                        <td id=\"T_b0ae8282_8a78_11ec_86a5_d83bbf4e560frow0_col0\" class=\"data row0 col0\" >Light Gradient Boosting Machine</td>\n",
       "                        <td id=\"T_b0ae8282_8a78_11ec_86a5_d83bbf4e560frow0_col1\" class=\"data row0 col1\" >0.9212</td>\n",
       "                        <td id=\"T_b0ae8282_8a78_11ec_86a5_d83bbf4e560frow0_col2\" class=\"data row0 col2\" >0.9807</td>\n",
       "                        <td id=\"T_b0ae8282_8a78_11ec_86a5_d83bbf4e560frow0_col3\" class=\"data row0 col3\" >0.9415</td>\n",
       "                        <td id=\"T_b0ae8282_8a78_11ec_86a5_d83bbf4e560frow0_col4\" class=\"data row0 col4\" >0.9130</td>\n",
       "                        <td id=\"T_b0ae8282_8a78_11ec_86a5_d83bbf4e560frow0_col5\" class=\"data row0 col5\" >0.9270</td>\n",
       "                        <td id=\"T_b0ae8282_8a78_11ec_86a5_d83bbf4e560frow0_col6\" class=\"data row0 col6\" >0.8414</td>\n",
       "                        <td id=\"T_b0ae8282_8a78_11ec_86a5_d83bbf4e560frow0_col7\" class=\"data row0 col7\" >0.8419</td>\n",
       "            </tr>\n",
       "    </tbody></table>"
      ],
      "text/plain": [
       "<pandas.io.formats.style.Styler at 0x2a9580de610>"
      ]
     },
     "metadata": {},
     "output_type": "display_data"
    },
    {
     "data": {
      "text/html": [
       "<div>\n",
       "<style scoped>\n",
       "    .dataframe tbody tr th:only-of-type {\n",
       "        vertical-align: middle;\n",
       "    }\n",
       "\n",
       "    .dataframe tbody tr th {\n",
       "        vertical-align: top;\n",
       "    }\n",
       "\n",
       "    .dataframe thead th {\n",
       "        text-align: right;\n",
       "    }\n",
       "</style>\n",
       "<table border=\"1\" class=\"dataframe\">\n",
       "  <thead>\n",
       "    <tr style=\"text-align: right;\">\n",
       "      <th></th>\n",
       "      <th>Age</th>\n",
       "      <th>Flight Distance</th>\n",
       "      <th>Delay</th>\n",
       "      <th>Gender_Male</th>\n",
       "      <th>Customer Type_disloyal Customer</th>\n",
       "      <th>Type of Travel_Personal Travel</th>\n",
       "      <th>Class_Business</th>\n",
       "      <th>Class_Eco</th>\n",
       "      <th>Class_Eco Plus</th>\n",
       "      <th>Seat comfort_0</th>\n",
       "      <th>...</th>\n",
       "      <th>Age_cat_20</th>\n",
       "      <th>Age_cat_30</th>\n",
       "      <th>Age_cat_40</th>\n",
       "      <th>Age_cat_50</th>\n",
       "      <th>Age_cat_60</th>\n",
       "      <th>Age_cat_70</th>\n",
       "      <th>Age_cat_80</th>\n",
       "      <th>target</th>\n",
       "      <th>Label</th>\n",
       "      <th>Score</th>\n",
       "    </tr>\n",
       "  </thead>\n",
       "  <tbody>\n",
       "    <tr>\n",
       "      <th>0</th>\n",
       "      <td>47.0</td>\n",
       "      <td>974.0</td>\n",
       "      <td>0.405465</td>\n",
       "      <td>0</td>\n",
       "      <td>0</td>\n",
       "      <td>0</td>\n",
       "      <td>0</td>\n",
       "      <td>1</td>\n",
       "      <td>0</td>\n",
       "      <td>0.0</td>\n",
       "      <td>...</td>\n",
       "      <td>0.0</td>\n",
       "      <td>0.0</td>\n",
       "      <td>1.0</td>\n",
       "      <td>0.0</td>\n",
       "      <td>0.0</td>\n",
       "      <td>0.0</td>\n",
       "      <td>0.0</td>\n",
       "      <td>0</td>\n",
       "      <td>0</td>\n",
       "      <td>0.7521</td>\n",
       "    </tr>\n",
       "    <tr>\n",
       "      <th>1</th>\n",
       "      <td>38.0</td>\n",
       "      <td>1236.0</td>\n",
       "      <td>3.198673</td>\n",
       "      <td>0</td>\n",
       "      <td>0</td>\n",
       "      <td>0</td>\n",
       "      <td>1</td>\n",
       "      <td>0</td>\n",
       "      <td>0</td>\n",
       "      <td>0.0</td>\n",
       "      <td>...</td>\n",
       "      <td>0.0</td>\n",
       "      <td>1.0</td>\n",
       "      <td>0.0</td>\n",
       "      <td>0.0</td>\n",
       "      <td>0.0</td>\n",
       "      <td>0.0</td>\n",
       "      <td>0.0</td>\n",
       "      <td>1</td>\n",
       "      <td>1</td>\n",
       "      <td>0.9999</td>\n",
       "    </tr>\n",
       "    <tr>\n",
       "      <th>2</th>\n",
       "      <td>26.0</td>\n",
       "      <td>2065.0</td>\n",
       "      <td>2.708050</td>\n",
       "      <td>0</td>\n",
       "      <td>0</td>\n",
       "      <td>1</td>\n",
       "      <td>0</td>\n",
       "      <td>1</td>\n",
       "      <td>0</td>\n",
       "      <td>0.0</td>\n",
       "      <td>...</td>\n",
       "      <td>1.0</td>\n",
       "      <td>0.0</td>\n",
       "      <td>0.0</td>\n",
       "      <td>0.0</td>\n",
       "      <td>0.0</td>\n",
       "      <td>0.0</td>\n",
       "      <td>0.0</td>\n",
       "      <td>0</td>\n",
       "      <td>0</td>\n",
       "      <td>0.6123</td>\n",
       "    </tr>\n",
       "    <tr>\n",
       "      <th>3</th>\n",
       "      <td>25.0</td>\n",
       "      <td>2934.0</td>\n",
       "      <td>1.098612</td>\n",
       "      <td>0</td>\n",
       "      <td>0</td>\n",
       "      <td>0</td>\n",
       "      <td>1</td>\n",
       "      <td>0</td>\n",
       "      <td>0</td>\n",
       "      <td>0.0</td>\n",
       "      <td>...</td>\n",
       "      <td>1.0</td>\n",
       "      <td>0.0</td>\n",
       "      <td>0.0</td>\n",
       "      <td>0.0</td>\n",
       "      <td>0.0</td>\n",
       "      <td>0.0</td>\n",
       "      <td>0.0</td>\n",
       "      <td>1</td>\n",
       "      <td>1</td>\n",
       "      <td>0.9988</td>\n",
       "    </tr>\n",
       "    <tr>\n",
       "      <th>4</th>\n",
       "      <td>14.0</td>\n",
       "      <td>3119.0</td>\n",
       "      <td>2.079442</td>\n",
       "      <td>0</td>\n",
       "      <td>0</td>\n",
       "      <td>1</td>\n",
       "      <td>0</td>\n",
       "      <td>0</td>\n",
       "      <td>1</td>\n",
       "      <td>0.0</td>\n",
       "      <td>...</td>\n",
       "      <td>0.0</td>\n",
       "      <td>0.0</td>\n",
       "      <td>0.0</td>\n",
       "      <td>0.0</td>\n",
       "      <td>0.0</td>\n",
       "      <td>0.0</td>\n",
       "      <td>0.0</td>\n",
       "      <td>1</td>\n",
       "      <td>1</td>\n",
       "      <td>0.9843</td>\n",
       "    </tr>\n",
       "    <tr>\n",
       "      <th>5</th>\n",
       "      <td>43.0</td>\n",
       "      <td>4113.0</td>\n",
       "      <td>0.000000</td>\n",
       "      <td>1</td>\n",
       "      <td>0</td>\n",
       "      <td>0</td>\n",
       "      <td>0</td>\n",
       "      <td>1</td>\n",
       "      <td>0</td>\n",
       "      <td>0.0</td>\n",
       "      <td>...</td>\n",
       "      <td>0.0</td>\n",
       "      <td>0.0</td>\n",
       "      <td>1.0</td>\n",
       "      <td>0.0</td>\n",
       "      <td>0.0</td>\n",
       "      <td>0.0</td>\n",
       "      <td>0.0</td>\n",
       "      <td>1</td>\n",
       "      <td>0</td>\n",
       "      <td>0.7660</td>\n",
       "    </tr>\n",
       "    <tr>\n",
       "      <th>6</th>\n",
       "      <td>26.0</td>\n",
       "      <td>2233.0</td>\n",
       "      <td>4.248495</td>\n",
       "      <td>0</td>\n",
       "      <td>1</td>\n",
       "      <td>0</td>\n",
       "      <td>1</td>\n",
       "      <td>0</td>\n",
       "      <td>0</td>\n",
       "      <td>0.0</td>\n",
       "      <td>...</td>\n",
       "      <td>1.0</td>\n",
       "      <td>0.0</td>\n",
       "      <td>0.0</td>\n",
       "      <td>0.0</td>\n",
       "      <td>0.0</td>\n",
       "      <td>0.0</td>\n",
       "      <td>0.0</td>\n",
       "      <td>0</td>\n",
       "      <td>0</td>\n",
       "      <td>0.9782</td>\n",
       "    </tr>\n",
       "    <tr>\n",
       "      <th>7</th>\n",
       "      <td>37.0</td>\n",
       "      <td>4188.0</td>\n",
       "      <td>1.609438</td>\n",
       "      <td>1</td>\n",
       "      <td>1</td>\n",
       "      <td>0</td>\n",
       "      <td>1</td>\n",
       "      <td>0</td>\n",
       "      <td>0</td>\n",
       "      <td>0.0</td>\n",
       "      <td>...</td>\n",
       "      <td>0.0</td>\n",
       "      <td>1.0</td>\n",
       "      <td>0.0</td>\n",
       "      <td>0.0</td>\n",
       "      <td>0.0</td>\n",
       "      <td>0.0</td>\n",
       "      <td>0.0</td>\n",
       "      <td>0</td>\n",
       "      <td>0</td>\n",
       "      <td>0.8603</td>\n",
       "    </tr>\n",
       "    <tr>\n",
       "      <th>8</th>\n",
       "      <td>48.0</td>\n",
       "      <td>2522.0</td>\n",
       "      <td>1.386294</td>\n",
       "      <td>0</td>\n",
       "      <td>0</td>\n",
       "      <td>1</td>\n",
       "      <td>0</td>\n",
       "      <td>1</td>\n",
       "      <td>0</td>\n",
       "      <td>0.0</td>\n",
       "      <td>...</td>\n",
       "      <td>0.0</td>\n",
       "      <td>0.0</td>\n",
       "      <td>1.0</td>\n",
       "      <td>0.0</td>\n",
       "      <td>0.0</td>\n",
       "      <td>0.0</td>\n",
       "      <td>0.0</td>\n",
       "      <td>1</td>\n",
       "      <td>1</td>\n",
       "      <td>0.9997</td>\n",
       "    </tr>\n",
       "    <tr>\n",
       "      <th>9</th>\n",
       "      <td>36.0</td>\n",
       "      <td>534.0</td>\n",
       "      <td>3.178054</td>\n",
       "      <td>0</td>\n",
       "      <td>0</td>\n",
       "      <td>0</td>\n",
       "      <td>1</td>\n",
       "      <td>0</td>\n",
       "      <td>0</td>\n",
       "      <td>0.0</td>\n",
       "      <td>...</td>\n",
       "      <td>0.0</td>\n",
       "      <td>1.0</td>\n",
       "      <td>0.0</td>\n",
       "      <td>0.0</td>\n",
       "      <td>0.0</td>\n",
       "      <td>0.0</td>\n",
       "      <td>0.0</td>\n",
       "      <td>0</td>\n",
       "      <td>0</td>\n",
       "      <td>0.9384</td>\n",
       "    </tr>\n",
       "  </tbody>\n",
       "</table>\n",
       "<p>10 rows × 86 columns</p>\n",
       "</div>"
      ],
      "text/plain": [
       "    Age  Flight Distance     Delay  Gender_Male  \\\n",
       "0  47.0            974.0  0.405465            0   \n",
       "1  38.0           1236.0  3.198673            0   \n",
       "2  26.0           2065.0  2.708050            0   \n",
       "3  25.0           2934.0  1.098612            0   \n",
       "4  14.0           3119.0  2.079442            0   \n",
       "5  43.0           4113.0  0.000000            1   \n",
       "6  26.0           2233.0  4.248495            0   \n",
       "7  37.0           4188.0  1.609438            1   \n",
       "8  48.0           2522.0  1.386294            0   \n",
       "9  36.0            534.0  3.178054            0   \n",
       "\n",
       "   Customer Type_disloyal Customer  Type of Travel_Personal Travel  \\\n",
       "0                                0                               0   \n",
       "1                                0                               0   \n",
       "2                                0                               1   \n",
       "3                                0                               0   \n",
       "4                                0                               1   \n",
       "5                                0                               0   \n",
       "6                                1                               0   \n",
       "7                                1                               0   \n",
       "8                                0                               1   \n",
       "9                                0                               0   \n",
       "\n",
       "   Class_Business  Class_Eco  Class_Eco Plus  Seat comfort_0  ...  Age_cat_20  \\\n",
       "0               0          1               0             0.0  ...         0.0   \n",
       "1               1          0               0             0.0  ...         0.0   \n",
       "2               0          1               0             0.0  ...         1.0   \n",
       "3               1          0               0             0.0  ...         1.0   \n",
       "4               0          0               1             0.0  ...         0.0   \n",
       "5               0          1               0             0.0  ...         0.0   \n",
       "6               1          0               0             0.0  ...         1.0   \n",
       "7               1          0               0             0.0  ...         0.0   \n",
       "8               0          1               0             0.0  ...         0.0   \n",
       "9               1          0               0             0.0  ...         0.0   \n",
       "\n",
       "   Age_cat_30  Age_cat_40  Age_cat_50  Age_cat_60  Age_cat_70  Age_cat_80  \\\n",
       "0         0.0         1.0         0.0         0.0         0.0         0.0   \n",
       "1         1.0         0.0         0.0         0.0         0.0         0.0   \n",
       "2         0.0         0.0         0.0         0.0         0.0         0.0   \n",
       "3         0.0         0.0         0.0         0.0         0.0         0.0   \n",
       "4         0.0         0.0         0.0         0.0         0.0         0.0   \n",
       "5         0.0         1.0         0.0         0.0         0.0         0.0   \n",
       "6         0.0         0.0         0.0         0.0         0.0         0.0   \n",
       "7         1.0         0.0         0.0         0.0         0.0         0.0   \n",
       "8         0.0         1.0         0.0         0.0         0.0         0.0   \n",
       "9         1.0         0.0         0.0         0.0         0.0         0.0   \n",
       "\n",
       "   target  Label   Score  \n",
       "0       0      0  0.7521  \n",
       "1       1      1  0.9999  \n",
       "2       0      0  0.6123  \n",
       "3       1      1  0.9988  \n",
       "4       1      1  0.9843  \n",
       "5       1      0  0.7660  \n",
       "6       0      0  0.9782  \n",
       "7       0      0  0.8603  \n",
       "8       1      1  0.9997  \n",
       "9       0      0  0.9384  \n",
       "\n",
       "[10 rows x 86 columns]"
      ]
     },
     "execution_count": 64,
     "metadata": {},
     "output_type": "execute_result"
    }
   ],
   "source": [
    "blend_4_soft = blend_models(estimator_list=best, method='soft', choose_better = True)\n",
    "predict_model(blend_4_soft).head(10)"
   ]
  },
  {
   "cell_type": "code",
   "execution_count": 65,
   "metadata": {
    "ExecuteTime": {
     "end_time": "2022-02-10T13:52:32.950809Z",
     "start_time": "2022-02-10T13:52:30.808923Z"
    }
   },
   "outputs": [],
   "source": [
    "final_blend_4_soft = finalize_model(blend_4_soft)\n",
    "prediction = predict_model(final_blend_4_soft, data = df_test)"
   ]
  },
  {
   "cell_type": "markdown",
   "metadata": {},
   "source": [
    "# Submission"
   ]
  },
  {
   "cell_type": "code",
   "execution_count": 66,
   "metadata": {
    "ExecuteTime": {
     "end_time": "2022-02-10T13:52:32.981666Z",
     "start_time": "2022-02-10T13:52:32.957878Z"
    },
    "scrolled": true
   },
   "outputs": [
    {
     "data": {
      "text/html": [
       "<div>\n",
       "<style scoped>\n",
       "    .dataframe tbody tr th:only-of-type {\n",
       "        vertical-align: middle;\n",
       "    }\n",
       "\n",
       "    .dataframe tbody tr th {\n",
       "        vertical-align: top;\n",
       "    }\n",
       "\n",
       "    .dataframe thead th {\n",
       "        text-align: right;\n",
       "    }\n",
       "</style>\n",
       "<table border=\"1\" class=\"dataframe\">\n",
       "  <thead>\n",
       "    <tr style=\"text-align: right;\">\n",
       "      <th></th>\n",
       "      <th>id</th>\n",
       "      <th>target</th>\n",
       "    </tr>\n",
       "  </thead>\n",
       "  <tbody>\n",
       "    <tr>\n",
       "      <th>0</th>\n",
       "      <td>1</td>\n",
       "      <td>1</td>\n",
       "    </tr>\n",
       "    <tr>\n",
       "      <th>1</th>\n",
       "      <td>2</td>\n",
       "      <td>0</td>\n",
       "    </tr>\n",
       "    <tr>\n",
       "      <th>2</th>\n",
       "      <td>3</td>\n",
       "      <td>1</td>\n",
       "    </tr>\n",
       "    <tr>\n",
       "      <th>3</th>\n",
       "      <td>4</td>\n",
       "      <td>1</td>\n",
       "    </tr>\n",
       "    <tr>\n",
       "      <th>4</th>\n",
       "      <td>5</td>\n",
       "      <td>1</td>\n",
       "    </tr>\n",
       "  </tbody>\n",
       "</table>\n",
       "</div>"
      ],
      "text/plain": [
       "   id  target\n",
       "0   1       1\n",
       "1   2       0\n",
       "2   3       1\n",
       "3   4       1\n",
       "4   5       1"
      ]
     },
     "execution_count": 66,
     "metadata": {},
     "output_type": "execute_result"
    }
   ],
   "source": [
    "submission = pd.read_csv(\"./data/sample_submission.csv\")\n",
    "submission['target'] = prediction['Label']\n",
    "submission.head()"
   ]
  },
  {
   "cell_type": "code",
   "execution_count": 67,
   "metadata": {
    "ExecuteTime": {
     "end_time": "2022-02-10T13:52:33.012695Z",
     "start_time": "2022-02-10T13:52:32.985667Z"
    }
   },
   "outputs": [],
   "source": [
    "submission.to_csv(\"./data/submission_pycaret_4.csv\",index=False)"
   ]
  },
  {
   "cell_type": "code",
   "execution_count": null,
   "metadata": {},
   "outputs": [],
   "source": []
  }
 ],
 "metadata": {
  "hide_input": false,
  "kernelspec": {
   "display_name": "Python 3",
   "language": "python",
   "name": "python3"
  },
  "language_info": {
   "codemirror_mode": {
    "name": "ipython",
    "version": 3
   },
   "file_extension": ".py",
   "mimetype": "text/x-python",
   "name": "python",
   "nbconvert_exporter": "python",
   "pygments_lexer": "ipython3",
   "version": "3.8.3"
  },
  "toc": {
   "base_numbering": 1,
   "nav_menu": {},
   "number_sections": true,
   "sideBar": true,
   "skip_h1_title": false,
   "title_cell": "Table of Contents",
   "title_sidebar": "Contents",
   "toc_cell": false,
   "toc_position": {
    "height": "calc(100% - 180px)",
    "left": "10px",
    "top": "150px",
    "width": "244.938px"
   },
   "toc_section_display": true,
   "toc_window_display": true
  },
  "varInspector": {
   "cols": {
    "lenName": 16,
    "lenType": 16,
    "lenVar": 40
   },
   "kernels_config": {
    "python": {
     "delete_cmd_postfix": "",
     "delete_cmd_prefix": "del ",
     "library": "var_list.py",
     "varRefreshCmd": "print(var_dic_list())"
    },
    "r": {
     "delete_cmd_postfix": ") ",
     "delete_cmd_prefix": "rm(",
     "library": "var_list.r",
     "varRefreshCmd": "cat(var_dic_list()) "
    }
   },
   "types_to_exclude": [
    "module",
    "function",
    "builtin_function_or_method",
    "instance",
    "_Feature"
   ],
   "window_display": false
  }
 },
 "nbformat": 4,
 "nbformat_minor": 4
}
