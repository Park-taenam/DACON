{
 "cells": [
  {
   "cell_type": "markdown",
   "metadata": {
    "id": "By_RHrV2t6Fm"
   },
   "source": [
    "# 데이터 불러오기"
   ]
  },
  {
   "cell_type": "markdown",
   "metadata": {
    "id": "STJctOlpwcfI"
   },
   "source": [
    "- 기존데이터에 평균기온(°C), 일강수량(mm), 평균 지면온도(°C), 확진자수 피처가 추가된 데이터 사용"
   ]
  },
  {
   "cell_type": "code",
   "execution_count": 1,
   "metadata": {
    "ExecuteTime": {
     "end_time": "2022-02-24T15:53:42.178562Z",
     "start_time": "2022-02-24T15:53:34.065234Z"
    },
    "id": "Zi2zhM3esJNz"
   },
   "outputs": [],
   "source": [
    "import pandas as pd\n",
    "import numpy as np\n",
    "import warnings \n",
    "import os\n",
    "import holidays\n",
    "import datetime\n",
    "from datetime import timedelta\n",
    "\n",
    "\n",
    "\n",
    "from lightgbm import LGBMRegressor\n",
    "from xgboost import XGBRegressor\n",
    "\n",
    "from sklearn.preprocessing import LabelEncoder\n",
    "\n",
    "warnings.filterwarnings('ignore')\n"
   ]
  },
  {
   "cell_type": "code",
   "execution_count": 2,
   "metadata": {
    "ExecuteTime": {
     "end_time": "2022-02-24T15:53:43.021384Z",
     "start_time": "2022-02-24T15:53:42.185334Z"
    },
    "id": "9LgkN4kBt6Fp"
   },
   "outputs": [],
   "source": [
    "import matplotlib.pyplot as plt\n",
    "import seaborn as sns\n",
    "import matplotlib\n",
    "import matplotlib.font_manager as fm\n",
    "matplotlib.rcParams['axes.unicode_minus'] = False\n",
    "\n",
    "\n",
    "# plt.rc('font', family=fm.FontProperties(fname=\"c:/Windows/Fonts/malgun.ttf\").get_name())\n",
    "plt.rc('font', family='AppleGothic')\n",
    "\n",
    "plt.style.use('fivethirtyeight')"
   ]
  },
  {
   "cell_type": "code",
   "execution_count": 3,
   "metadata": {
    "ExecuteTime": {
     "end_time": "2022-02-24T15:53:43.036546Z",
     "start_time": "2022-02-24T15:53:43.027722Z"
    },
    "id": "MKovWL41t6Fp"
   },
   "outputs": [],
   "source": [
    "# 재민\n",
    "# sample = pd.read_csv('sample_submission.csv')\n",
    "# train = pd.read_csv('weather_corona_train.csv', encoding='cp949', index_col = 0)\n",
    "# test = pd.read_csv('weather_corona_test.csv', encoding='cp949', index_col = 0)"
   ]
  },
  {
   "cell_type": "code",
   "execution_count": 4,
   "metadata": {
    "ExecuteTime": {
     "end_time": "2022-02-24T15:53:43.066927Z",
     "start_time": "2022-02-24T15:53:43.043923Z"
    },
    "id": "5KqoDLL6uqYj"
   },
   "outputs": [],
   "source": [
    "# # 효진\n",
    "# train = pd.read_csv('/Users/hyojin/Desktop/miniProject/weather_corona_train.csv', encoding='cp949', index_col = 0)\n",
    "# test = pd.read_csv('/Users/hyojin/Desktop/miniProject/weather_corona_test.csv', encoding='cp949', index_col = 0)\n",
    "# sub = pd.read_csv('/Users/hyojin/Desktop/miniProject/sample_submission.csv')"
   ]
  },
  {
   "cell_type": "code",
   "execution_count": 5,
   "metadata": {
    "ExecuteTime": {
     "end_time": "2022-02-24T15:53:43.172085Z",
     "start_time": "2022-02-24T15:53:43.072923Z"
    }
   },
   "outputs": [],
   "source": [
    "# 태남\n",
    "train = pd.read_csv('./data/weather_corona_train.csv', encoding='cp949', index_col = 0)\n",
    "test = pd.read_csv('./data/weather_corona_test.csv', encoding='cp949', index_col = 0)\n",
    "sub = pd.read_csv('./data/sample_submission.csv')"
   ]
  },
  {
   "cell_type": "code",
   "execution_count": 6,
   "metadata": {
    "ExecuteTime": {
     "end_time": "2022-02-24T15:53:43.201920Z",
     "start_time": "2022-02-24T15:53:43.176924Z"
    }
   },
   "outputs": [
    {
     "data": {
      "text/plain": [
       "Index(['일자', '요일', '본사정원수', '본사휴가자수', '본사출장자수', '본사시간외근무명령서승인건수',\n",
       "       '현본사소속재택근무자수', '조식메뉴', '중식메뉴', '석식메뉴', '평균기온(°C)', '일강수량(mm)',\n",
       "       '평균 지면온도(°C)', '확진자수'],\n",
       "      dtype='object')"
      ]
     },
     "execution_count": 6,
     "metadata": {},
     "output_type": "execute_result"
    }
   ],
   "source": [
    "test.columns"
   ]
  },
  {
   "cell_type": "code",
   "execution_count": 7,
   "metadata": {
    "ExecuteTime": {
     "end_time": "2022-02-24T15:53:43.232070Z",
     "start_time": "2022-02-24T15:53:43.206923Z"
    },
    "id": "HJX-G6QIt6Fp"
   },
   "outputs": [],
   "source": [
    "## 필요없는거 일단 지우기\n",
    "train = train.drop(['평균 지면온도(°C)','확진자수'],axis=1)\n",
    "test = test.drop(['평균 지면온도(°C)','확진자수'],axis=1)"
   ]
  },
  {
   "cell_type": "markdown",
   "metadata": {
    "id": "1m7Rfsypt6Fq"
   },
   "source": [
    "## 기온 피쳐"
   ]
  },
  {
   "cell_type": "markdown",
   "metadata": {
    "id": "I2lmlIBOwQtL"
   },
   "source": [
    "- 평균기온(°C) -> 영하는 1, 영상은 0으로 변경"
   ]
  },
  {
   "cell_type": "code",
   "execution_count": 8,
   "metadata": {
    "ExecuteTime": {
     "end_time": "2022-02-24T15:53:43.261924Z",
     "start_time": "2022-02-24T15:53:43.240923Z"
    },
    "colab": {
     "base_uri": "https://localhost:8080/"
    },
    "id": "mUHRdPUEt6Fq",
    "outputId": "7e283815-ced2-483f-d757-9861a6df0bb4"
   },
   "outputs": [
    {
     "name": "stdout",
     "output_type": "stream",
     "text": [
      "12.4 12.6\n"
     ]
    }
   ],
   "source": [
    "## 659인덱스가 널값이라서 양 옆 기온 확인\n",
    "print(train['평균기온(°C)'][658],train['평균기온(°C)'][660])"
   ]
  },
  {
   "cell_type": "code",
   "execution_count": 9,
   "metadata": {
    "ExecuteTime": {
     "end_time": "2022-02-24T15:53:43.276926Z",
     "start_time": "2022-02-24T15:53:43.268922Z"
    },
    "id": "QNnRTM8-t6Fr"
   },
   "outputs": [],
   "source": [
    "# 양옆기온의 평균으로 결측치 채우기\n",
    "train['평균기온(°C)'][659]=12.5"
   ]
  },
  {
   "cell_type": "code",
   "execution_count": 10,
   "metadata": {
    "ExecuteTime": {
     "end_time": "2022-02-24T15:53:43.306921Z",
     "start_time": "2022-02-24T15:53:43.282923Z"
    },
    "id": "d33eV-5ht6Fr"
   },
   "outputs": [],
   "source": [
    "## 테스트데이터가 1~2월이기에 영하의 온도를 체크할 필요가 있어보임\n",
    "## 온도가 영하면 1, 영상이면 0으로 기온피쳐를 변경\n",
    "\n",
    "def cold(x):\n",
    "    if x<0:\n",
    "        return 1\n",
    "    else:\n",
    "        return 0\n",
    "\n",
    "train['평균기온(°C)'] = train['평균기온(°C)'].apply(cold)\n",
    "test['평균기온(°C)'] = test['평균기온(°C)'].apply(cold)"
   ]
  },
  {
   "cell_type": "code",
   "execution_count": 11,
   "metadata": {
    "ExecuteTime": {
     "end_time": "2022-02-24T15:53:43.336921Z",
     "start_time": "2022-02-24T15:53:43.312934Z"
    },
    "colab": {
     "base_uri": "https://localhost:8080/"
    },
    "id": "q_9BK-Ojt6Fr",
    "outputId": "b76bd059-21a1-4ee8-ed97-bcb6cc39e59c"
   },
   "outputs": [
    {
     "name": "stdout",
     "output_type": "stream",
     "text": [
      "영하 중식계: 917.7386363636364 영하 석식계:  424.2386363636364 \n",
      " 영상 중식계:  888.1754700089525 영상 석식계:  464.7296329453894\n"
     ]
    }
   ],
   "source": [
    "## 중식은 영하온도면 더 먹고, 석식은 영하면 덜먹음  영하면 집에 빨리가나..?\n",
    "\n",
    "print('영하 중식계:',train.loc[train['평균기온(°C)']==1,'중식계'].mean(),\n",
    "     '영하 석식계: ',train.loc[train['평균기온(°C)']==1,'석식계'].mean(),'\\n',\n",
    "     '영상 중식계: ',train.loc[train['평균기온(°C)']==0,'중식계'].mean(),\n",
    "     '영상 석식계: ', train.loc[train['평균기온(°C)']==0,'석식계'].mean())"
   ]
  },
  {
   "cell_type": "markdown",
   "metadata": {
    "id": "ABQpkOJpt6Fs"
   },
   "source": [
    "## 강수량 피쳐"
   ]
  },
  {
   "cell_type": "markdown",
   "metadata": {
    "id": "OD-TZeCGw0B-"
   },
   "source": [
    "- 일강수량(mm) -> 비 내린 날 1, 비 안 내린 날 0"
   ]
  },
  {
   "cell_type": "code",
   "execution_count": 12,
   "metadata": {
    "ExecuteTime": {
     "end_time": "2022-02-24T15:53:43.367012Z",
     "start_time": "2022-02-24T15:53:43.342926Z"
    },
    "id": "7jeeJmclt6Fs"
   },
   "outputs": [],
   "source": [
    "# 널값은 0으로 채우자\n",
    "train['일강수량(mm)']=train['일강수량(mm)'].fillna(0)\n",
    "test['일강수량(mm)']=test['일강수량(mm)'].fillna(0)"
   ]
  },
  {
   "cell_type": "code",
   "execution_count": 13,
   "metadata": {
    "ExecuteTime": {
     "end_time": "2022-02-24T15:53:43.396921Z",
     "start_time": "2022-02-24T15:53:43.371922Z"
    },
    "id": "fa-HaEWCt6Fs"
   },
   "outputs": [],
   "source": [
    "# 비가 안오면 0, 비가 온날은 1로 강수량 피쳐 변경\n",
    "def rain(x):\n",
    "    if x==0:\n",
    "        return 0\n",
    "    else:\n",
    "        return 1\n",
    "\n",
    "train['일강수량(mm)'] = train['일강수량(mm)'].apply(rain)\n",
    "test['일강수량(mm)'] = test['일강수량(mm)'].apply(rain)"
   ]
  },
  {
   "cell_type": "code",
   "execution_count": 14,
   "metadata": {
    "ExecuteTime": {
     "end_time": "2022-02-24T15:53:43.426922Z",
     "start_time": "2022-02-24T15:53:43.402928Z"
    },
    "colab": {
     "base_uri": "https://localhost:8080/"
    },
    "id": "1qCjxBF6t6Fs",
    "outputId": "f456c5d8-def5-4fcd-d137-0b7fd3833e19"
   },
   "outputs": [
    {
     "name": "stdout",
     "output_type": "stream",
     "text": [
      "비o 중식계: 924.0291262135922 비o 석식계:  463.1618122977346 \n",
      " 비x 중식계:  878.7142857142857 비x 석식계:  461.2935267857143\n"
     ]
    }
   ],
   "source": [
    "## 비가 올때 중,석식 다 많이 먹음 (차이는 중식이 더 큼)\n",
    "\n",
    "print('비o 중식계:',train.loc[train['일강수량(mm)']==1,'중식계'].mean(),\n",
    "     '비o 석식계: ',train.loc[train['일강수량(mm)']==1,'석식계'].mean(),'\\n',\n",
    "     '비x 중식계: ',train.loc[train['일강수량(mm)']==0,'중식계'].mean(),\n",
    "     '비x 석식계: ', train.loc[train['일강수량(mm)']==0,'석식계'].mean())"
   ]
  },
  {
   "cell_type": "markdown",
   "metadata": {
    "id": "M1cFtjRRt6Ft"
   },
   "source": [
    "## 날짜 피쳐 생성"
   ]
  },
  {
   "cell_type": "markdown",
   "metadata": {
    "id": "SZyWrhv_xBhP"
   },
   "source": [
    "- 공휴일전 : 공휴일 전날은 1, 아니면 0\n",
    "- 공휴일후 : 공휴일 다음 날은 1, 아니면 0"
   ]
  },
  {
   "cell_type": "code",
   "execution_count": 15,
   "metadata": {
    "ExecuteTime": {
     "end_time": "2022-02-24T15:53:43.683769Z",
     "start_time": "2022-02-24T15:53:43.433923Z"
    },
    "id": "0pRep-eFt6Ft"
   },
   "outputs": [],
   "source": [
    "holiday_list = [] \n",
    "for i in range(2016,2022):\n",
    "    for date in holidays.KR(years=i).keys():  # 한국 공휴일 가져오기\n",
    "        holiday_list.append(date)"
   ]
  },
  {
   "cell_type": "code",
   "execution_count": 16,
   "metadata": {
    "ExecuteTime": {
     "end_time": "2022-02-24T15:53:43.698772Z",
     "start_time": "2022-02-24T15:53:43.688647Z"
    },
    "id": "3t6z589Et6Ft"
   },
   "outputs": [],
   "source": [
    "holiday_before_list=[]\n",
    "for_mat='%Y-%m-%d'\n",
    "for i in holiday_list:\n",
    "    holiday_before_list.append((i - timedelta(days=1)).strftime(for_mat))\n",
    "        # i - timedelta(days=1): datetime에서 날짜 하루 빼기\n",
    "        # .strftime(for_mat): 포맷과 같은 형식으로 datetime에서 str로 변환"
   ]
  },
  {
   "cell_type": "code",
   "execution_count": 17,
   "metadata": {
    "ExecuteTime": {
     "end_time": "2022-02-24T15:53:43.728646Z",
     "start_time": "2022-02-24T15:53:43.703649Z"
    },
    "id": "MLYahcbTt6Ft"
   },
   "outputs": [],
   "source": [
    "def holiday_before(x):\n",
    "    if x in holiday_before_list:\n",
    "        return 1\n",
    "    else:\n",
    "        return 0\n",
    "train['공휴일전'] = train.일자.apply(holiday_before)\n",
    "test['공휴일전'] = test.일자.apply(holiday_before)"
   ]
  },
  {
   "cell_type": "code",
   "execution_count": 18,
   "metadata": {
    "ExecuteTime": {
     "end_time": "2022-02-24T15:53:43.758640Z",
     "start_time": "2022-02-24T15:53:43.733643Z"
    },
    "id": "Qk58XHGAt6Fu"
   },
   "outputs": [],
   "source": [
    "holiday_after_list=[]\n",
    "for_mat='%Y-%m-%d'\n",
    "for i in holiday_list:\n",
    "    holiday_after_list.append((i + timedelta(days=1)).strftime(for_mat))"
   ]
  },
  {
   "cell_type": "code",
   "execution_count": 19,
   "metadata": {
    "ExecuteTime": {
     "end_time": "2022-02-24T15:53:43.788640Z",
     "start_time": "2022-02-24T15:53:43.762643Z"
    },
    "id": "PSlIiK4wt6Fu"
   },
   "outputs": [],
   "source": [
    "def holiday_after(x):\n",
    "    if x in holiday_after_list:\n",
    "        return 1\n",
    "    else:\n",
    "        return 0\n",
    "train['공휴일후'] = train.일자.apply(holiday_after)\n",
    "test['공휴일후'] = test.일자.apply(holiday_after)"
   ]
  },
  {
   "cell_type": "code",
   "execution_count": 20,
   "metadata": {
    "ExecuteTime": {
     "end_time": "2022-02-24T15:53:43.818683Z",
     "start_time": "2022-02-24T15:53:43.791676Z"
    },
    "id": "htWQEnSLt6Fu"
   },
   "outputs": [],
   "source": [
    "## 누락된 것은 찾아서 넣음\n",
    "\n",
    "# 16-4-13 국회의원 선거\n",
    "train['공휴일전'][47]=1\n",
    "train['공휴일후'][48]=1\n",
    "\n",
    "# 17-5-9 대통령 선거\n",
    "train['공휴일전'][311]=1\n",
    "train['공휴일후'][312]=1\n",
    "\n",
    "# 18-6-13 지방선거\n",
    "train['공휴일전'][579]=1\n",
    "train['공휴일후'][580]=1\n",
    "\n",
    "# 20-4-15 국회의원 선거\n",
    "train['공휴일전'][1027]=1\n",
    "train['공휴일후'][1028]=1\n",
    "\n",
    "# 20-9-30 추석\n",
    "train['공휴일전'][1129]=1\n"
   ]
  },
  {
   "cell_type": "markdown",
   "metadata": {
    "id": "oS8zHYA0xT1l"
   },
   "source": [
    "- 요일 : 레이블 인코딩"
   ]
  },
  {
   "cell_type": "code",
   "execution_count": 21,
   "metadata": {
    "ExecuteTime": {
     "end_time": "2022-02-24T15:53:43.848685Z",
     "start_time": "2022-02-24T15:53:43.821639Z"
    },
    "id": "6eULvtFBnzlq"
   },
   "outputs": [],
   "source": [
    "train.일자 = train.일자.astype('datetime64')\n",
    "test.일자 = test.일자.astype('datetime64')"
   ]
  },
  {
   "cell_type": "code",
   "execution_count": 22,
   "metadata": {
    "ExecuteTime": {
     "end_time": "2022-02-24T15:53:43.878694Z",
     "start_time": "2022-02-24T15:53:43.852649Z"
    },
    "id": "qDLywtmisJOM"
   },
   "outputs": [],
   "source": [
    "train['월'] = train.일자.dt.month\n",
    "train['일'] = train.일자.dt.day\n",
    "\n",
    "test['월'] = test.일자.dt.month\n",
    "test['일'] = test.일자.dt.day"
   ]
  },
  {
   "cell_type": "code",
   "execution_count": 23,
   "metadata": {
    "ExecuteTime": {
     "end_time": "2022-02-24T15:53:43.923640Z",
     "start_time": "2022-02-24T15:53:43.891652Z"
    },
    "id": "0P5npZcat6Fv"
   },
   "outputs": [],
   "source": [
    "def dayofweek1(x):\n",
    "    if '월' in x:\n",
    "        return 1\n",
    "    elif \"화\" in x:\n",
    "        return 2\n",
    "    elif \"수\" in x:\n",
    "        return 3\n",
    "    elif \"목\" in x:\n",
    "        return 4\n",
    "    else:\n",
    "        return 5\n",
    "\n",
    "train['요일'] = train.요일.apply(dayofweek1)\n",
    "test['요일'] = test.요일.apply(dayofweek1)"
   ]
  },
  {
   "cell_type": "markdown",
   "metadata": {
    "id": "ABBg8tWsxWNS"
   },
   "source": [
    "- 요일_야근 : 석식의 경우 평균 석식계가 낮은 수, 금에 1값 부여, 나머지는 0"
   ]
  },
  {
   "cell_type": "code",
   "execution_count": 24,
   "metadata": {
    "ExecuteTime": {
     "end_time": "2022-02-24T15:53:43.953641Z",
     "start_time": "2022-02-24T15:53:43.932639Z"
    },
    "id": "yM-MYdcet6Fv"
   },
   "outputs": [],
   "source": [
    "## 석식계의 수, 금이 낮은 경향\n",
    "## 수,금요일은 1, 아닌날은 0인 피쳐 생성\n",
    "## 아마 이 피쳐는 석식에만 넣어도 될듯?\n",
    "\n",
    "def dayofweek2(x):\n",
    "    if x in [3,5]:\n",
    "        return 1\n",
    "    else:\n",
    "        return 0\n",
    "\n",
    "train['요일_야근'] = train.요일.apply(dayofweek2)\n",
    "test['요일_야근'] = test.요일.apply(dayofweek2)"
   ]
  },
  {
   "cell_type": "markdown",
   "metadata": {
    "id": "bmjj8vOrxiGd"
   },
   "source": [
    "- 일_초중말 : 월 초반, 중반, 말을 10일 단위로 구분"
   ]
  },
  {
   "cell_type": "code",
   "execution_count": 25,
   "metadata": {
    "ExecuteTime": {
     "end_time": "2022-02-24T15:53:43.983684Z",
     "start_time": "2022-02-24T15:53:43.960648Z"
    },
    "id": "cwU9ee_Rt6Fw"
   },
   "outputs": [],
   "source": [
    "## 10, 20, 31 기준으로 일 초, 중, 말을 표현하는 피쳐생성\n",
    "def dayofweek3(x):\n",
    "    if x < 11:\n",
    "        return 1\n",
    "    elif x < 21:\n",
    "        return 2\n",
    "    else:\n",
    "        return 3\n",
    "\n",
    "train['일_초중말'] = train.일.apply(dayofweek3)\n",
    "test['일_초중말'] = test.일.apply(dayofweek3)"
   ]
  },
  {
   "cell_type": "markdown",
   "metadata": {
    "id": "N__3DbQAt6Fw"
   },
   "source": [
    "## 인원 피쳐"
   ]
  },
  {
   "cell_type": "markdown",
   "metadata": {
    "id": "inmcgyedxuRL"
   },
   "source": [
    "- 출근 : 본사정원수 - 본사출장자수 - 본사휴가자수 - 현본사소속재택근무\n",
    "- 휴가비율 : 본사휴가자수 / 본사정원수\n",
    "- 출장비율 : 본사출장자수 / 본사정원수\n",
    "- 야근비율 : 본사시간외근무 / 본사정원수\n",
    "- 재택비율 : 현본사재택근무 / 본사정원수"
   ]
  },
  {
   "cell_type": "code",
   "execution_count": 26,
   "metadata": {
    "ExecuteTime": {
     "end_time": "2022-02-24T15:53:44.043651Z",
     "start_time": "2022-02-24T15:53:43.991685Z"
    },
    "id": "J2voWfQpqUwP"
   },
   "outputs": [],
   "source": [
    "train['출근'] = train['본사정원수'] - train['본사출장자수'] - train['본사휴가자수'] - train['현본사소속재택근무자수']\n",
    "test['출근'] = test['본사정원수'] - test['본사출장자수'] - test['본사휴가자수'] - test['현본사소속재택근무자수']\n",
    "\n",
    "train['휴가비율'] = train['본사휴가자수']/train['본사정원수']\n",
    "test['휴가비율'] = test['본사휴가자수']/test['본사정원수']\n",
    "\n",
    "train['출장비율'] = train['본사출장자수']/train['본사정원수']\n",
    "test['출장비율'] = test['본사출장자수']/test['본사정원수']\n",
    "\n",
    "train['야근비율'] = train['본사시간외근무명령서승인건수']/train['출근']\n",
    "test['야근비율'] = test['본사시간외근무명령서승인건수']/test['출근']\n",
    "\n",
    "train['재택비율'] = train['현본사소속재택근무자수']/train['본사정원수']\n",
    "test['재택비율'] = test['현본사소속재택근무자수']/test['본사정원수']"
   ]
  },
  {
   "cell_type": "markdown",
   "metadata": {
    "id": "RD-GcHO7t6Fw"
   },
   "source": [
    "## 석식계 0인 행에는 메뉴가 없어서 없음으로 채움"
   ]
  },
  {
   "cell_type": "code",
   "execution_count": 27,
   "metadata": {
    "ExecuteTime": {
     "end_time": "2022-02-24T15:53:44.119700Z",
     "start_time": "2022-02-24T15:53:44.049643Z"
    },
    "id": "iheRNKwDt6Fw"
   },
   "outputs": [],
   "source": [
    "train['석식메뉴'][204]=\"없음 없음 없음 없음\"\n",
    "train['석식메뉴'][224]=\"없음 없음 없음 없음\"\n",
    "train['석식메뉴'][244]=\"없음 없음 없음 없음\"\n",
    "train['석식메뉴'][262]=\"없음 없음 없음 없음\"\n",
    "train['석식메뉴'][281]=\"없음 없음 없음 없음\"\n",
    "train['석식메뉴'][306]=\"없음 없음 없음 없음\"\n",
    "train['석식메뉴'][327]=\"없음 없음 없음 없음\"\n",
    "train['석식메뉴'][346]=\"없음 없음 없음 없음\"\n",
    "train['석식메뉴'][366]=\"없음 없음 없음 없음\"\n",
    "train['석식메뉴'][392]=\"없음 없음 없음 없음\"\n",
    "train['석식메뉴'][410]=\"없음 없음 없음 없음\"\n",
    "train['석식메뉴'][412]=\"없음 없음 없음 없음\"\n",
    "train['석식메뉴'][424]=\"없음 없음 없음 없음\"\n",
    "train['석식메뉴'][449]=\"없음 없음 없음 없음\"\n",
    "train['석식메뉴'][468]=\"없음 없음 없음 없음\"\n",
    "train['석식메뉴'][492]=\"없음 없음 없음 없음\"\n",
    "train['석식메뉴'][502]=\"없음 없음 없음 없음\"\n",
    "train['석식메뉴'][510]=\"없음 없음 없음 없음\"\n",
    "train['석식메뉴'][529]=\"없음 없음 없음 없음\"\n",
    "train['석식메뉴'][549]=\"없음 없음 없음 없음\"\n",
    "train['석식메뉴'][571]=\"없음 없음 없음 없음\"\n",
    "train['석식메뉴'][589]=\"없음 없음 없음 없음\"\n",
    "train['석식메뉴'][609]=\"없음 없음 없음 없음\"\n",
    "train['석식메뉴'][633]=\"없음 없음 없음 없음\"\n",
    "train['석식메뉴'][648]=\"없음 없음 없음 없음\"\n",
    "train['석식메뉴'][667]=\"없음 없음 없음 없음\"\n",
    "train['석식메뉴'][687]=\"없음 없음 없음 없음\"\n",
    "train['석식메뉴'][706]=\"없음 없음 없음 없음\"\n",
    "train['석식메뉴'][730]=\"없음 없음 없음 없음\"\n",
    "train['석식메뉴'][747]=\"없음 없음 없음 없음\"\n",
    "train['석식메뉴'][766]=\"없음 없음 없음 없음\"\n",
    "train['석식메뉴'][786]=\"없음 없음 없음 없음\"\n",
    "train['석식메뉴'][809]=\"없음 없음 없음 없음\"\n",
    "train['석식메뉴'][828]=\"없음 없음 없음 없음\"\n",
    "train['석식메뉴'][853]=\"없음 없음 없음 없음\"\n",
    "train['석식메뉴'][872]=\"없음 없음 없음 없음\"\n",
    "train['석식메뉴'][890]=\"없음 없음 없음 없음\"\n",
    "train['석식메뉴'][912]=\"없음 없음 없음 없음\"\n",
    "train['석식메뉴'][932]=\"없음 없음 없음 없음\"\n",
    "train['석식메뉴'][955]=\"없음 없음 없음 없음\"\n",
    "train['석식메뉴'][973]=\"없음 없음 없음 없음\"\n",
    "train['석식메뉴'][993]=\"없음 없음 없음 없음\"\n",
    "train['석식메뉴'][1166]=\"없음 없음 없음 없음\"\n",
    "train['석식메뉴'][586]=\"없음 없음 없음 없음\""
   ]
  },
  {
   "cell_type": "markdown",
   "metadata": {
    "id": "fcR7cQrit6Fx"
   },
   "source": [
    "## 메뉴정리(중식)\n",
    "- 밥_중식\n",
    "- 국_중식\n",
    "- 반찬_중식\n",
    "=> 모두 레이블 인코딩"
   ]
  },
  {
   "cell_type": "code",
   "execution_count": 28,
   "metadata": {
    "ExecuteTime": {
     "end_time": "2022-02-24T15:53:44.210657Z",
     "start_time": "2022-02-24T15:53:44.125651Z"
    },
    "id": "tS8dW5Ppt6Fx"
   },
   "outputs": [],
   "source": [
    "lunch = []\n",
    "for day in range(len(train)):\n",
    "    tmp = train.iloc[day, 8].split(' ') # 공백으로 문자열 구분 \n",
    "    tmp = ' '.join(tmp).split()    # 빈 원소 삭제\n",
    "\n",
    "    search = '('   # 원산지 정보는 삭제\n",
    "    for menu in tmp:\n",
    "        if search in menu:\n",
    "            tmp.remove(menu)\n",
    "    \n",
    "    lunch.append(tmp) "
   ]
  },
  {
   "cell_type": "code",
   "execution_count": 29,
   "metadata": {
    "ExecuteTime": {
     "end_time": "2022-02-24T15:53:44.240979Z",
     "start_time": "2022-02-24T15:53:44.215697Z"
    },
    "id": "_RHq8FPIt6Fx"
   },
   "outputs": [],
   "source": [
    "bob=[]\n",
    "guk=[]\n",
    "banchan1=[]\n",
    "\n",
    "for i in range(len(train)):\n",
    "    if lunch[i][0]:\n",
    "        bob.append(lunch[i][0])\n",
    "    if lunch[i][1]:\n",
    "        guk.append(lunch[i][1])\n",
    "    if lunch[i][2]:\n",
    "        banchan1.append(lunch[i][2])"
   ]
  },
  {
   "cell_type": "code",
   "execution_count": 30,
   "metadata": {
    "ExecuteTime": {
     "end_time": "2022-02-24T15:53:44.270642Z",
     "start_time": "2022-02-24T15:53:44.246657Z"
    },
    "id": "Q9rr7l8Nt6Fx"
   },
   "outputs": [],
   "source": [
    "train['밥_중식'] = bob\n",
    "train['국_중식'] = guk\n",
    "train['반찬_중식'] = banchan1"
   ]
  },
  {
   "cell_type": "code",
   "execution_count": 31,
   "metadata": {
    "ExecuteTime": {
     "end_time": "2022-02-24T15:53:44.300644Z",
     "start_time": "2022-02-24T15:53:44.276643Z"
    },
    "id": "9xZONBbIt6Fx"
   },
   "outputs": [],
   "source": [
    "def bob_handle(x):\n",
    "    if '쌀밥' in x:\n",
    "        return \"밥\"\n",
    "    elif \"카레\" in x:\n",
    "        return '카레'\n",
    "    elif \"비빔\" in x:\n",
    "        return '비빔밥'\n",
    "    elif (\"볶음\" in x) or (\"필라프\" in x) or (\"오므라이스\" in x):\n",
    "        return '볶음밥'    \n",
    "    elif \"곤드레\" in x:\n",
    "        return '곤드레밥' \n",
    "    elif \"콩나물\" in x:\n",
    "        return '콩나물밥' \n",
    "    elif \"영양밥\" in x:\n",
    "        return '영양밥'\n",
    "    elif \"오곡밥\" in x:\n",
    "        return '밥'\n",
    "    elif \"덮밥\" in x:\n",
    "        return '덮밥'\n",
    "    elif \"짜장\" in x:\n",
    "        return '짜장밥'\n",
    "    else:\n",
    "        return x\n",
    "\n",
    "train.밥_중식 = train.밥_중식.apply(bob_handle)"
   ]
  },
  {
   "cell_type": "code",
   "execution_count": 32,
   "metadata": {
    "ExecuteTime": {
     "end_time": "2022-02-24T15:53:44.465689Z",
     "start_time": "2022-02-24T15:53:44.307644Z"
    },
    "id": "F6XvSoLmt6Fx"
   },
   "outputs": [],
   "source": [
    "def guk_handle(x):\n",
    "    if ('된장' in x) or ('냉이' in x) or ('배추' in x) or ('쑥' in x) or (\"아욱\" in x) or (\"근대\" in x):\n",
    "        return \"된장\"  \n",
    "    elif (\"김치\" in x) or (\"김칫\" in x):\n",
    "        return '김치'  \n",
    "    elif \"찌개\" in x:\n",
    "        return '찌개'\n",
    "    elif \"맑은\" in x:\n",
    "        return '맑은국'\n",
    "    elif \"해장\" in x:\n",
    "        return '해장국' \n",
    "    elif (\"장국\" in x) or (\"미소\" in x):\n",
    "        return '미소국'\n",
    "    elif \"스프\" in x:\n",
    "        return '스프'    \n",
    "    elif (\"만두\" in x) or (\"만둣\" in x):\n",
    "        return '만두국' \n",
    "    elif (\"소고기\" in x) or (\"쇠고기\" in x):\n",
    "        return '고깃국'\n",
    "    elif \"떡국\" in x:\n",
    "        return '떡국'\n",
    "    elif \"냉국\" in x:\n",
    "        return '냉국'\n",
    "    elif (\"북어\" in x) or ('북엇' in x) or ('황태' in x):\n",
    "        return '북어국' \n",
    "    elif \"미역\" in x:\n",
    "        return '미역국' \n",
    "    elif \"계란\" in x:\n",
    "        return '계란국' \n",
    "    elif \"들깨국\" in x:\n",
    "        return '들깨국'\n",
    "    elif \"두부국\" in x:\n",
    "        return '두부국' \n",
    "    elif \"버섯\" in x:\n",
    "        return '버섯국'\n",
    "    elif \"어묵\" in x:\n",
    "        return '어묵국'\n",
    "    elif \"육개장\" in x:\n",
    "        return '육개장' \n",
    "    elif \"콩나물\" in x:\n",
    "        return '콩나물국'\n",
    "    elif (\"국수\" in x) or (\"우동\" in x) :\n",
    "        return '면'\n",
    "    elif \"갈비탕\" in x:\n",
    "        return '갈비탕'  \n",
    "    elif \"국밥\" in x:\n",
    "        return '국밥'\n",
    "    elif (\"닭\" in x) or (\"삼계탕\" in x) or (\"백숙\" in x):\n",
    "        return '닭국'\n",
    "    elif \"탕\" in x:\n",
    "        return '탕'\n",
    "    elif \"국\" in x:\n",
    "        return '국'\n",
    "    else:\n",
    "        return x\n",
    "\n",
    "train.국_중식 = train.국_중식.apply(guk_handle)"
   ]
  },
  {
   "cell_type": "code",
   "execution_count": 33,
   "metadata": {
    "ExecuteTime": {
     "end_time": "2022-02-24T15:53:44.510647Z",
     "start_time": "2022-02-24T15:53:44.470693Z"
    },
    "id": "SvVzBMf2t6Fy"
   },
   "outputs": [],
   "source": [
    "def banchan1_handle(x):\n",
    "    if '오징어' in x:\n",
    "        return \"오징어\"  \n",
    "    elif \"닭\" in x:\n",
    "        return '닭고기'\n",
    "    elif \"오리\" in x:\n",
    "        return '오리고기'\n",
    "    elif \"불고기\" in x:\n",
    "        return '불고기' \n",
    "    elif \"까스\" in x:\n",
    "        return '돈가스'\n",
    "    elif \"가스\" in x:\n",
    "        return '돈가스'    \n",
    "    elif \"치킨\" in x:\n",
    "        return '치킨' \n",
    "    elif \"장조림\" in x:\n",
    "        return '장조림'   \n",
    "    elif \"강정\" in x:\n",
    "        return '강정' \n",
    "    elif (\"고등어\" in x) or (\"삼치\" in x) or (\"갈치\" in x) or (\"굴비\" in x) or (\"가자미\" in x):\n",
    "        return '생선'\n",
    "    elif \"낙지\" in x:\n",
    "        return '낙지'  \n",
    "    elif \"주꾸미\" in x:\n",
    "        return '주꾸미' \n",
    "    elif (\"돼지갈비\" in x) or (\"소갈비\" in x):\n",
    "        return '갈비'\n",
    "    elif \"스테이크\" in x:\n",
    "        if \"함박\" in x:\n",
    "            return '함박스테이크'\n",
    "        else:\n",
    "            return '스테이크'\n",
    "    elif \"함박\" in x:\n",
    "        return '함박스테이크'\n",
    "    elif (\"돈육\" in x) or (\"육\" in x) or (\"삼겹살\" in x) or (\"돼지\" in x) or (\"보쌈\" in x):\n",
    "        return '돼지고기'\n",
    "    elif \"순대\" in x:\n",
    "        return '순대'\n",
    "    elif \"탕수\" in x:\n",
    "        return '탕수'\n",
    "    elif \"새우\" in x:\n",
    "        return '새우'\n",
    "    else:\n",
    "        return x\n",
    "\n",
    "train. 반찬_중식 = train.반찬_중식.apply(banchan1_handle)"
   ]
  },
  {
   "cell_type": "code",
   "execution_count": 34,
   "metadata": {
    "ExecuteTime": {
     "end_time": "2022-02-24T15:53:44.555824Z",
     "start_time": "2022-02-24T15:53:44.516646Z"
    },
    "id": "_iOxX9Hwt6Fy"
   },
   "outputs": [],
   "source": [
    "lunch_test = []\n",
    "for day in range(len(test)):\n",
    "    tmp = test.iloc[day, 8].split(' ') # 공백으로 문자열 구분 \n",
    "    tmp = ' '.join(tmp).split()    # 빈 원소 삭제\n",
    "\n",
    "    search = '('   # 원산지 정보는 삭제\n",
    "    for menu in tmp:\n",
    "        if search in menu:\n",
    "            tmp.remove(menu)\n",
    "    \n",
    "    lunch_test.append(tmp) \n",
    "\n",
    "bob_test=[]\n",
    "guk_test=[]\n",
    "banchan1_test=[]\n",
    "\n",
    "for i in range(len(test)):\n",
    "    if lunch_test[i][0]:\n",
    "        bob_test.append(lunch_test[i][0])\n",
    "    if lunch_test[i][1]:\n",
    "        guk_test.append(lunch_test[i][1])\n",
    "    if lunch_test[i][2]:\n",
    "        banchan1_test.append(lunch_test[i][2])\n",
    "\n",
    "test['밥_중식'] = bob_test\n",
    "test['국_중식'] = guk_test\n",
    "test['반찬_중식'] = banchan1_test"
   ]
  },
  {
   "cell_type": "code",
   "execution_count": 35,
   "metadata": {
    "ExecuteTime": {
     "end_time": "2022-02-24T15:53:44.585653Z",
     "start_time": "2022-02-24T15:53:44.561651Z"
    },
    "id": "cWvqQp4Et6Fy"
   },
   "outputs": [],
   "source": [
    "test.밥_중식 = test.밥_중식.apply(bob_handle)\n",
    "test.국_중식 = test.국_중식.apply(guk_handle)\n",
    "test. 반찬_중식 = test.반찬_중식.apply(banchan1_handle)"
   ]
  },
  {
   "cell_type": "markdown",
   "metadata": {
    "id": "YKItQ_rct6Fy"
   },
   "source": [
    "## 메뉴정리(저녁)\n",
    "- 밥_석식\n",
    "- 국_석식\n",
    "- 반찬_석식\n",
    "=> 모두 레이블 인코딩"
   ]
  },
  {
   "cell_type": "code",
   "execution_count": 36,
   "metadata": {
    "ExecuteTime": {
     "end_time": "2022-02-24T15:53:44.675834Z",
     "start_time": "2022-02-24T15:53:44.592073Z"
    }
   },
   "outputs": [],
   "source": [
    "dinner = []\n",
    "for day in range(len(train)):\n",
    "    tmp = train.iloc[day, 9].split(' ') # 공백으로 문자열 구분 \n",
    "    tmp = ' '.join(tmp).split()    # 빈 원소 삭제\n",
    "\n",
    "    search = '('   # 원산지 정보는 삭제\n",
    "    for menu in tmp:\n",
    "        if search in menu:\n",
    "            tmp.remove(menu)\n",
    "    \n",
    "    dinner.append(tmp) "
   ]
  },
  {
   "cell_type": "code",
   "execution_count": 37,
   "metadata": {
    "ExecuteTime": {
     "end_time": "2022-02-24T15:53:44.705806Z",
     "start_time": "2022-02-24T15:53:44.683646Z"
    },
    "id": "mSilHqz0t6Fz"
   },
   "outputs": [],
   "source": [
    "bob=[]\n",
    "guk=[]\n",
    "banchan=[]\n",
    "\n",
    "for i in range(len(train)):\n",
    "    bob.append(dinner[i][0])\n",
    "    guk.append(dinner[i][1])\n",
    "    banchan.append(dinner[i][2])"
   ]
  },
  {
   "cell_type": "code",
   "execution_count": 38,
   "metadata": {
    "ExecuteTime": {
     "end_time": "2022-02-24T15:53:44.735643Z",
     "start_time": "2022-02-24T15:53:44.713647Z"
    },
    "id": "VqinaF-mt6Fz"
   },
   "outputs": [],
   "source": [
    "train['밥_석식'] = bob\n",
    "train['국_석식'] = guk\n",
    "train['반찬_석식'] = banchan"
   ]
  },
  {
   "cell_type": "code",
   "execution_count": 39,
   "metadata": {
    "ExecuteTime": {
     "end_time": "2022-02-24T15:53:44.780825Z",
     "start_time": "2022-02-24T15:53:44.742645Z"
    },
    "id": "WDKqMb2Bt6Fz"
   },
   "outputs": [],
   "source": [
    "train.밥_석식 = train.밥_석식.apply(bob_handle)\n",
    "train.국_석식 = train.국_석식.apply(guk_handle)\n",
    "train. 반찬_석식 = train.반찬_석식.apply(banchan1_handle)"
   ]
  },
  {
   "cell_type": "code",
   "execution_count": 40,
   "metadata": {
    "ExecuteTime": {
     "end_time": "2022-02-24T15:53:44.840775Z",
     "start_time": "2022-02-24T15:53:44.787656Z"
    },
    "id": "S-PTVI8_t6Fz"
   },
   "outputs": [],
   "source": [
    "dinner_test = []\n",
    "for day in range(len(test)):\n",
    "    tmp = test.iloc[day, 9].split(' ') # 공백으로 문자열 구분 \n",
    "    tmp = ' '.join(tmp).split()    # 빈 원소 삭제\n",
    "\n",
    "    search = '('   # 원산지 정보는 삭제\n",
    "    for menu in tmp:\n",
    "        if search in menu:\n",
    "            tmp.remove(menu)\n",
    "    \n",
    "    dinner_test.append(tmp) \n",
    "\n",
    "bob_test=[]\n",
    "guk_test=[]\n",
    "banchan1_test=[]\n",
    "\n",
    "for i in range(len(test)):\n",
    "    if dinner_test[i][0]:\n",
    "        bob_test.append(dinner_test[i][0])\n",
    "    if dinner_test[i][1]:\n",
    "        guk_test.append(dinner_test[i][1])\n",
    "    if dinner_test[i][2]:\n",
    "        banchan1_test.append(dinner_test[i][2])\n",
    "\n",
    "test['밥_석식'] = bob_test\n",
    "test['국_석식'] = guk_test\n",
    "test['반찬_석식'] = banchan1_test"
   ]
  },
  {
   "cell_type": "code",
   "execution_count": 41,
   "metadata": {
    "ExecuteTime": {
     "end_time": "2022-02-24T15:53:44.871658Z",
     "start_time": "2022-02-24T15:53:44.847656Z"
    },
    "id": "xGH-PLAkt6Fz"
   },
   "outputs": [],
   "source": [
    "## 이거는 누락되어서 넣어줌\n",
    "test.국_석식[22]='수제오떡탕'\n",
    "test.반찬_석식[22]='매운족발볶음'"
   ]
  },
  {
   "cell_type": "code",
   "execution_count": 42,
   "metadata": {
    "ExecuteTime": {
     "end_time": "2022-02-24T15:53:44.901761Z",
     "start_time": "2022-02-24T15:53:44.877651Z"
    },
    "id": "pmQ0NPPXt6Fz"
   },
   "outputs": [],
   "source": [
    "test.밥_석식 = test.밥_석식.apply(bob_handle)\n",
    "test.국_석식 = test.국_석식.apply(guk_handle)\n",
    "test. 반찬_석식 = test.반찬_석식.apply(banchan1_handle)"
   ]
  },
  {
   "cell_type": "code",
   "execution_count": 43,
   "metadata": {
    "ExecuteTime": {
     "end_time": "2022-02-24T15:53:44.931649Z",
     "start_time": "2022-02-24T15:53:44.908654Z"
    },
    "colab": {
     "base_uri": "https://localhost:8080/"
    },
    "id": "8N23mRO_v0Pf",
    "outputId": "52eeae94-14f1-4171-e785-9a47893b75ce"
   },
   "outputs": [
    {
     "data": {
      "text/plain": [
       "Index(['일자', '요일', '본사정원수', '본사휴가자수', '본사출장자수', '본사시간외근무명령서승인건수',\n",
       "       '현본사소속재택근무자수', '조식메뉴', '중식메뉴', '석식메뉴', '중식계', '석식계', '평균기온(°C)',\n",
       "       '일강수량(mm)', '공휴일전', '공휴일후', '월', '일', '요일_야근', '일_초중말', '출근', '휴가비율',\n",
       "       '출장비율', '야근비율', '재택비율', '밥_중식', '국_중식', '반찬_중식', '밥_석식', '국_석식',\n",
       "       '반찬_석식'],\n",
       "      dtype='object')"
      ]
     },
     "execution_count": 43,
     "metadata": {},
     "output_type": "execute_result"
    }
   ],
   "source": [
    "train.columns"
   ]
  },
  {
   "cell_type": "markdown",
   "metadata": {},
   "source": [
    "## 밥\n",
    "\n",
    "- 쌀밥_중식 : 중식 밥이 '밥'인 경우 = 1 (밥_중식 이름이 있어 쌀밥으로 함)\n",
    "- 흑미밥_석식 : 석식 밥이 '흑미밥'인 경우 = 1"
   ]
  },
  {
   "cell_type": "code",
   "execution_count": 44,
   "metadata": {
    "ExecuteTime": {
     "end_time": "2022-02-24T15:53:44.961650Z",
     "start_time": "2022-02-24T15:53:44.937648Z"
    }
   },
   "outputs": [
    {
     "data": {
      "text/plain": [
       "밥         1004\n",
       "비빔밥         53\n",
       "콩나물밥        31\n",
       "카레          30\n",
       "곤드레밥        30\n",
       "덮밥          27\n",
       "볶음밥         11\n",
       "영양밥         11\n",
       "짜장밥          4\n",
       "<초복특식>       2\n",
       "삼계탕          1\n",
       "호박된장국        1\n",
       "Name: 밥_중식, dtype: int64"
      ]
     },
     "execution_count": 44,
     "metadata": {},
     "output_type": "execute_result"
    }
   ],
   "source": [
    "train['밥_중식'].value_counts()"
   ]
  },
  {
   "cell_type": "code",
   "execution_count": 45,
   "metadata": {
    "ExecuteTime": {
     "end_time": "2022-02-24T15:53:44.991657Z",
     "start_time": "2022-02-24T15:53:44.966643Z"
    }
   },
   "outputs": [
    {
     "data": {
      "text/plain": [
       "밥      48\n",
       "짜장밥     1\n",
       "비빔밥     1\n",
       "Name: 밥_중식, dtype: int64"
      ]
     },
     "execution_count": 45,
     "metadata": {},
     "output_type": "execute_result"
    }
   ],
   "source": [
    "test['밥_중식'].value_counts()"
   ]
  },
  {
   "cell_type": "code",
   "execution_count": 46,
   "metadata": {
    "ExecuteTime": {
     "end_time": "2022-02-24T15:53:45.021652Z",
     "start_time": "2022-02-24T15:53:44.998722Z"
    },
    "scrolled": true
   },
   "outputs": [
    {
     "data": {
      "text/plain": [
       "밥             662\n",
       "볶음밥           156\n",
       "흑미밥            92\n",
       "없음             44\n",
       "덮밥             37\n",
       "김밥             25\n",
       "유부초밥           25\n",
       "멸치주먹밥          21\n",
       "참치주먹밥          18\n",
       "충무김밥           16\n",
       "빠에야            10\n",
       "카레              8\n",
       "비빔밥             8\n",
       "작은밥             7\n",
       "짜장밥             6\n",
       "콩나물밥            6\n",
       "꼬마김밥*겨자장        6\n",
       "통새우김밥           6\n",
       "주먹밥             5\n",
       "김치주먹밥           4\n",
       "야채주먹밥           3\n",
       "토마토스파게티         3\n",
       "생선초밥            2\n",
       "콩국수             2\n",
       "(쌀:국내산)         2\n",
       "추가밥             1\n",
       "나가사키면&김         1\n",
       "청양멸치주먹밥         1\n",
       "소고기주먹밥          1\n",
       "스팸주먹밥           1\n",
       "옛날왕돈까스          1\n",
       "나가사끼짬뽕          1\n",
       "땡초주먹밥           1\n",
       "영양밥             1\n",
       "투움바스파게티         1\n",
       "마파두부            1\n",
       "김치참치주먹밥         1\n",
       "미트볼파스타*추가밥      1\n",
       "계란김밥            1\n",
       "미역국             1\n",
       "타워함박스테이크        1\n",
       "잔치국수            1\n",
       "꼬치어묵매운탕         1\n",
       "알리오올리오/추가밥      1\n",
       "오뗄햄김밥           1\n",
       "곤드레밥            1\n",
       "돈까스김밥           1\n",
       "채소라면            1\n",
       "김주먹밥            1\n",
       "미니김밥*겨자장        1\n",
       "우거지국            1\n",
       "폭탄주먹밥           1\n",
       "김밥/맑은국          1\n",
       "미니쌀국수           1\n",
       "팽이장국            1\n",
       "작은밥/맑은국         1\n",
       "Name: 밥_석식, dtype: int64"
      ]
     },
     "execution_count": 46,
     "metadata": {},
     "output_type": "execute_result"
    }
   ],
   "source": [
    "train['밥_석식'].value_counts()"
   ]
  },
  {
   "cell_type": "code",
   "execution_count": 47,
   "metadata": {
    "ExecuteTime": {
     "end_time": "2022-02-24T15:53:45.051801Z",
     "start_time": "2022-02-24T15:53:45.029645Z"
    }
   },
   "outputs": [
    {
     "data": {
      "text/plain": [
       "흑미밥           35\n",
       "볶음밥            4\n",
       "카레             2\n",
       "셀프충무김밥         1\n",
       "충무김밥           1\n",
       "곤드레밥           1\n",
       "덮밥             1\n",
       "추가밥            1\n",
       "짜장밥            1\n",
       "샐러드김밥          1\n",
       "흑미밥/미니팥칼국수     1\n",
       "유부초밥/추가밥       1\n",
       "Name: 밥_석식, dtype: int64"
      ]
     },
     "execution_count": 47,
     "metadata": {},
     "output_type": "execute_result"
    }
   ],
   "source": [
    "test['밥_석식'].value_counts()"
   ]
  },
  {
   "cell_type": "code",
   "execution_count": 48,
   "metadata": {
    "ExecuteTime": {
     "end_time": "2022-02-24T15:53:45.096687Z",
     "start_time": "2022-02-24T15:53:45.058646Z"
    }
   },
   "outputs": [],
   "source": [
    "train['쌀밥_중식'] = np.where(train.loc[:,'밥_중식']=='밥', 1, 0)\n",
    "test['쌀밥_중식'] = np.where(test.loc[:,'밥_중식']=='밥', 1, 0)\n",
    "\n",
    "train['흑미밥_석식'] = np.where(train.loc[:,'밥_석식']=='흑미밥', 1, 0)\n",
    "test['흑미밥_석식'] = np.where(test.loc[:,'밥_석식']=='흑미밥', 1, 0)"
   ]
  },
  {
   "cell_type": "code",
   "execution_count": 49,
   "metadata": {
    "ExecuteTime": {
     "end_time": "2022-02-24T15:53:45.141653Z",
     "start_time": "2022-02-24T15:53:45.102643Z"
    }
   },
   "outputs": [
    {
     "name": "stdout",
     "output_type": "stream",
     "text": [
      "1    1004\n",
      "0     201\n",
      "Name: 쌀밥_중식, dtype: int64\n",
      "1    48\n",
      "0     2\n",
      "Name: 쌀밥_중식, dtype: int64\n",
      "0    1113\n",
      "1      92\n",
      "Name: 흑미밥_석식, dtype: int64\n",
      "1    35\n",
      "0    15\n",
      "Name: 흑미밥_석식, dtype: int64\n"
     ]
    }
   ],
   "source": [
    "print(train['쌀밥_중식'].value_counts())\n",
    "print(test['쌀밥_중식'].value_counts())\n",
    "\n",
    "print(train['흑미밥_석식'].value_counts())\n",
    "print(test['흑미밥_석식'].value_counts())"
   ]
  },
  {
   "cell_type": "markdown",
   "metadata": {
    "ExecuteTime": {
     "end_time": "2022-02-24T15:56:33.367948Z",
     "start_time": "2022-02-24T15:56:33.359959Z"
    }
   },
   "source": [
    "## 여기다 반찬 상위 메뉴 하시면 될 것 같습니다"
   ]
  },
  {
   "cell_type": "code",
   "execution_count": null,
   "metadata": {},
   "outputs": [],
   "source": []
  },
  {
   "cell_type": "code",
   "execution_count": null,
   "metadata": {},
   "outputs": [],
   "source": []
  },
  {
   "cell_type": "code",
   "execution_count": null,
   "metadata": {},
   "outputs": [],
   "source": []
  },
  {
   "cell_type": "code",
   "execution_count": null,
   "metadata": {},
   "outputs": [],
   "source": []
  },
  {
   "cell_type": "markdown",
   "metadata": {
    "id": "YOG8V-KBylhi"
   },
   "source": [
    "데이터 구분\n",
    "- 중식 Train : train_lunch -> lunch_target \n",
    "- 중식 Test : test_lunch\n",
    "- 석식 Train : train_dinner -> dinner_target\n",
    "- 석식 Test : test_dinner "
   ]
  },
  {
   "cell_type": "code",
   "execution_count": 50,
   "metadata": {
    "ExecuteTime": {
     "end_time": "2022-02-24T15:53:45.186643Z",
     "start_time": "2022-02-24T15:53:45.148642Z"
    },
    "id": "ut28UcJWv0NQ"
   },
   "outputs": [],
   "source": [
    "## 중식\n",
    "train_lunch = train[['중식계','본사정원수','월','일','출근', '휴가비율', '출장비율', '야근비율', '재택비율', '요일','평균기온(°C)','일강수량(mm)',\n",
    "                 '밥_중식', '국_중식', '반찬_중식', '중식메뉴']]\n",
    "lunch_target = train.중식계\n",
    "\n",
    "test_lunch = test[['본사정원수','월','일','출근', '휴가비율', '출장비율', '야근비율', '재택비율', '요일','평균기온(°C)','일강수량(mm)',\n",
    "                 '밥_중식', '국_중식', '반찬_중식', '중식메뉴']]"
   ]
  },
  {
   "cell_type": "code",
   "execution_count": 51,
   "metadata": {
    "ExecuteTime": {
     "end_time": "2022-02-24T15:53:45.232643Z",
     "start_time": "2022-02-24T15:53:45.193677Z"
    },
    "id": "YOUPmZQiv0K8"
   },
   "outputs": [],
   "source": [
    "## 석식\n",
    "train_dinner = train[['석식계','본사정원수','공휴일전', '공휴일후', '월', '일', '출근', '휴가비율', '출장비율','평균기온(°C)','일강수량(mm)',\n",
    "                  '야근비율', '재택비율', '요일','요일_야근','밥_석식', '국_석식', '반찬_석식', '석식메뉴']]\n",
    "\n",
    "dinner_target = train.석식계\n",
    "\n",
    "test_dinner = test[['본사정원수','공휴일전', '공휴일후', '월', '일', '출근', '휴가비율', '출장비율','평균기온(°C)','일강수량(mm)',\n",
    "                  '야근비율', '재택비율', '요일','요일_야근','밥_석식', '국_석식', '반찬_석식', '석식메뉴']]"
   ]
  },
  {
   "cell_type": "code",
   "execution_count": 52,
   "metadata": {
    "ExecuteTime": {
     "end_time": "2022-02-24T15:53:45.277643Z",
     "start_time": "2022-02-24T15:53:45.238650Z"
    },
    "id": "6AA8K3AFv0Id"
   },
   "outputs": [],
   "source": [
    "cat_features=['밥_중식','국_중식','반찬_중식']\n",
    "features = pd.concat([train_lunch, test_lunch]).reset_index(drop=True)\n",
    "\n",
    "for i in cat_features:\n",
    "    features[i] = LabelEncoder().fit_transform(features[i])\n",
    "    \n",
    "train_lunch = features[:train_lunch.shape[0]]\n",
    "test_lunch = features[train_lunch.shape[0]:]"
   ]
  },
  {
   "cell_type": "code",
   "execution_count": 53,
   "metadata": {
    "ExecuteTime": {
     "end_time": "2022-02-24T15:53:45.337642Z",
     "start_time": "2022-02-24T15:53:45.284640Z"
    },
    "colab": {
     "base_uri": "https://localhost:8080/",
     "height": 206
    },
    "id": "eNMACfHlza75",
    "outputId": "9d859f97-8860-4fb6-969d-2954d4704078"
   },
   "outputs": [
    {
     "data": {
      "text/html": [
       "<div>\n",
       "<style scoped>\n",
       "    .dataframe tbody tr th:only-of-type {\n",
       "        vertical-align: middle;\n",
       "    }\n",
       "\n",
       "    .dataframe tbody tr th {\n",
       "        vertical-align: top;\n",
       "    }\n",
       "\n",
       "    .dataframe thead th {\n",
       "        text-align: right;\n",
       "    }\n",
       "</style>\n",
       "<table border=\"1\" class=\"dataframe\">\n",
       "  <thead>\n",
       "    <tr style=\"text-align: right;\">\n",
       "      <th></th>\n",
       "      <th>중식계</th>\n",
       "      <th>본사정원수</th>\n",
       "      <th>월</th>\n",
       "      <th>일</th>\n",
       "      <th>출근</th>\n",
       "      <th>휴가비율</th>\n",
       "      <th>출장비율</th>\n",
       "      <th>야근비율</th>\n",
       "      <th>재택비율</th>\n",
       "      <th>요일</th>\n",
       "      <th>평균기온(°C)</th>\n",
       "      <th>일강수량(mm)</th>\n",
       "      <th>밥_중식</th>\n",
       "      <th>국_중식</th>\n",
       "      <th>반찬_중식</th>\n",
       "      <th>중식메뉴</th>\n",
       "    </tr>\n",
       "  </thead>\n",
       "  <tbody>\n",
       "    <tr>\n",
       "      <th>0</th>\n",
       "      <td>1039.0</td>\n",
       "      <td>2601</td>\n",
       "      <td>2</td>\n",
       "      <td>1</td>\n",
       "      <td>2401</td>\n",
       "      <td>0.019223</td>\n",
       "      <td>0.057670</td>\n",
       "      <td>0.099125</td>\n",
       "      <td>0.0</td>\n",
       "      <td>1</td>\n",
       "      <td>1</td>\n",
       "      <td>0</td>\n",
       "      <td>3</td>\n",
       "      <td>32</td>\n",
       "      <td>79</td>\n",
       "      <td>쌀밥/잡곡밥 (쌀,현미흑미:국내산) 오징어찌개  쇠불고기 (쇠고기:호주산) 계란찜 ...</td>\n",
       "    </tr>\n",
       "    <tr>\n",
       "      <th>1</th>\n",
       "      <td>867.0</td>\n",
       "      <td>2601</td>\n",
       "      <td>2</td>\n",
       "      <td>2</td>\n",
       "      <td>2378</td>\n",
       "      <td>0.019223</td>\n",
       "      <td>0.066513</td>\n",
       "      <td>0.134146</td>\n",
       "      <td>0.0</td>\n",
       "      <td>2</td>\n",
       "      <td>1</td>\n",
       "      <td>0</td>\n",
       "      <td>3</td>\n",
       "      <td>8</td>\n",
       "      <td>86</td>\n",
       "      <td>쌀밥/잡곡밥 (쌀,현미흑미:국내산) 김치찌개  가자미튀김  모둠소세지구이  마늘쫑무...</td>\n",
       "    </tr>\n",
       "    <tr>\n",
       "      <th>2</th>\n",
       "      <td>1017.0</td>\n",
       "      <td>2601</td>\n",
       "      <td>2</td>\n",
       "      <td>3</td>\n",
       "      <td>2365</td>\n",
       "      <td>0.021530</td>\n",
       "      <td>0.069204</td>\n",
       "      <td>0.046934</td>\n",
       "      <td>0.0</td>\n",
       "      <td>3</td>\n",
       "      <td>1</td>\n",
       "      <td>0</td>\n",
       "      <td>9</td>\n",
       "      <td>24</td>\n",
       "      <td>139</td>\n",
       "      <td>카레덮밥 (쌀,현미흑미:국내산) 팽이장국  치킨핑거 (닭고기:국내산) 쫄면야채무침 ...</td>\n",
       "    </tr>\n",
       "    <tr>\n",
       "      <th>3</th>\n",
       "      <td>978.0</td>\n",
       "      <td>2601</td>\n",
       "      <td>2</td>\n",
       "      <td>4</td>\n",
       "      <td>2277</td>\n",
       "      <td>0.039985</td>\n",
       "      <td>0.084583</td>\n",
       "      <td>0.155907</td>\n",
       "      <td>0.0</td>\n",
       "      <td>4</td>\n",
       "      <td>1</td>\n",
       "      <td>0</td>\n",
       "      <td>3</td>\n",
       "      <td>4</td>\n",
       "      <td>128</td>\n",
       "      <td>쌀밥/잡곡밥 (쌀,현미흑미:국내산) 쇠고기무국  주꾸미볶음  부추전  시금치나물  ...</td>\n",
       "    </tr>\n",
       "    <tr>\n",
       "      <th>4</th>\n",
       "      <td>925.0</td>\n",
       "      <td>2601</td>\n",
       "      <td>2</td>\n",
       "      <td>5</td>\n",
       "      <td>2142</td>\n",
       "      <td>0.106882</td>\n",
       "      <td>0.069589</td>\n",
       "      <td>0.015873</td>\n",
       "      <td>0.0</td>\n",
       "      <td>5</td>\n",
       "      <td>0</td>\n",
       "      <td>0</td>\n",
       "      <td>3</td>\n",
       "      <td>19</td>\n",
       "      <td>8</td>\n",
       "      <td>쌀밥/잡곡밥 (쌀,현미흑미:국내산) 떡국  돈육씨앗강정 (돼지고기:국내산) 우엉잡채...</td>\n",
       "    </tr>\n",
       "  </tbody>\n",
       "</table>\n",
       "</div>"
      ],
      "text/plain": [
       "      중식계  본사정원수  월  일    출근      휴가비율      출장비율      야근비율  재택비율  요일  \\\n",
       "0  1039.0   2601  2  1  2401  0.019223  0.057670  0.099125   0.0   1   \n",
       "1   867.0   2601  2  2  2378  0.019223  0.066513  0.134146   0.0   2   \n",
       "2  1017.0   2601  2  3  2365  0.021530  0.069204  0.046934   0.0   3   \n",
       "3   978.0   2601  2  4  2277  0.039985  0.084583  0.155907   0.0   4   \n",
       "4   925.0   2601  2  5  2142  0.106882  0.069589  0.015873   0.0   5   \n",
       "\n",
       "   평균기온(°C)  일강수량(mm)  밥_중식  국_중식  반찬_중식  \\\n",
       "0         1         0     3    32     79   \n",
       "1         1         0     3     8     86   \n",
       "2         1         0     9    24    139   \n",
       "3         1         0     3     4    128   \n",
       "4         0         0     3    19      8   \n",
       "\n",
       "                                                중식메뉴  \n",
       "0  쌀밥/잡곡밥 (쌀,현미흑미:국내산) 오징어찌개  쇠불고기 (쇠고기:호주산) 계란찜 ...  \n",
       "1  쌀밥/잡곡밥 (쌀,현미흑미:국내산) 김치찌개  가자미튀김  모둠소세지구이  마늘쫑무...  \n",
       "2  카레덮밥 (쌀,현미흑미:국내산) 팽이장국  치킨핑거 (닭고기:국내산) 쫄면야채무침 ...  \n",
       "3  쌀밥/잡곡밥 (쌀,현미흑미:국내산) 쇠고기무국  주꾸미볶음  부추전  시금치나물  ...  \n",
       "4  쌀밥/잡곡밥 (쌀,현미흑미:국내산) 떡국  돈육씨앗강정 (돼지고기:국내산) 우엉잡채...  "
      ]
     },
     "execution_count": 53,
     "metadata": {},
     "output_type": "execute_result"
    }
   ],
   "source": [
    "train_lunch.head()"
   ]
  },
  {
   "cell_type": "code",
   "execution_count": 54,
   "metadata": {
    "ExecuteTime": {
     "end_time": "2022-02-24T15:53:45.397645Z",
     "start_time": "2022-02-24T15:53:45.344053Z"
    },
    "id": "nAqg-D0bv0GN"
   },
   "outputs": [],
   "source": [
    "cat_features2=['밥_석식','국_석식','반찬_석식']\n",
    "features2 = pd.concat([train_dinner, test_dinner]).reset_index(drop=True)\n",
    "\n",
    "for i in cat_features2:\n",
    "    features2[i] = LabelEncoder().fit_transform(features2[i])\n",
    "    \n",
    "train_dinner = features2[:train_dinner.shape[0]]\n",
    "test_dinner = features2[train_dinner.shape[0]:]"
   ]
  },
  {
   "cell_type": "code",
   "execution_count": 55,
   "metadata": {
    "ExecuteTime": {
     "end_time": "2022-02-24T15:53:45.504865Z",
     "start_time": "2022-02-24T15:53:45.406650Z"
    },
    "colab": {
     "base_uri": "https://localhost:8080/",
     "height": 206
    },
    "id": "qVt4Q7pAv0ED",
    "outputId": "03ff8a32-12bc-4ea2-9c19-6dc1701d4f34"
   },
   "outputs": [
    {
     "data": {
      "text/html": [
       "<div>\n",
       "<style scoped>\n",
       "    .dataframe tbody tr th:only-of-type {\n",
       "        vertical-align: middle;\n",
       "    }\n",
       "\n",
       "    .dataframe tbody tr th {\n",
       "        vertical-align: top;\n",
       "    }\n",
       "\n",
       "    .dataframe thead th {\n",
       "        text-align: right;\n",
       "    }\n",
       "</style>\n",
       "<table border=\"1\" class=\"dataframe\">\n",
       "  <thead>\n",
       "    <tr style=\"text-align: right;\">\n",
       "      <th></th>\n",
       "      <th>석식계</th>\n",
       "      <th>본사정원수</th>\n",
       "      <th>공휴일전</th>\n",
       "      <th>공휴일후</th>\n",
       "      <th>월</th>\n",
       "      <th>일</th>\n",
       "      <th>출근</th>\n",
       "      <th>휴가비율</th>\n",
       "      <th>출장비율</th>\n",
       "      <th>평균기온(°C)</th>\n",
       "      <th>일강수량(mm)</th>\n",
       "      <th>야근비율</th>\n",
       "      <th>재택비율</th>\n",
       "      <th>요일</th>\n",
       "      <th>요일_야근</th>\n",
       "      <th>밥_석식</th>\n",
       "      <th>국_석식</th>\n",
       "      <th>반찬_석식</th>\n",
       "      <th>석식메뉴</th>\n",
       "    </tr>\n",
       "  </thead>\n",
       "  <tbody>\n",
       "    <tr>\n",
       "      <th>0</th>\n",
       "      <td>331.0</td>\n",
       "      <td>2601</td>\n",
       "      <td>0</td>\n",
       "      <td>0</td>\n",
       "      <td>2</td>\n",
       "      <td>1</td>\n",
       "      <td>2401</td>\n",
       "      <td>0.019223</td>\n",
       "      <td>0.057670</td>\n",
       "      <td>1</td>\n",
       "      <td>0</td>\n",
       "      <td>0.099125</td>\n",
       "      <td>0.0</td>\n",
       "      <td>1</td>\n",
       "      <td>0</td>\n",
       "      <td>21</td>\n",
       "      <td>39</td>\n",
       "      <td>130</td>\n",
       "      <td>쌀밥/잡곡밥 (쌀,현미흑미:국내산) 육개장  자반고등어구이  두부조림  건파래무침 ...</td>\n",
       "    </tr>\n",
       "    <tr>\n",
       "      <th>1</th>\n",
       "      <td>560.0</td>\n",
       "      <td>2601</td>\n",
       "      <td>0</td>\n",
       "      <td>0</td>\n",
       "      <td>2</td>\n",
       "      <td>2</td>\n",
       "      <td>2378</td>\n",
       "      <td>0.019223</td>\n",
       "      <td>0.066513</td>\n",
       "      <td>1</td>\n",
       "      <td>0</td>\n",
       "      <td>0.134146</td>\n",
       "      <td>0.0</td>\n",
       "      <td>2</td>\n",
       "      <td>0</td>\n",
       "      <td>51</td>\n",
       "      <td>33</td>\n",
       "      <td>178</td>\n",
       "      <td>콩나물밥*양념장 (쌀,현미흑미:국내산) 어묵국  유산슬 (쇠고기:호주산) 아삭고추무...</td>\n",
       "    </tr>\n",
       "    <tr>\n",
       "      <th>2</th>\n",
       "      <td>573.0</td>\n",
       "      <td>2601</td>\n",
       "      <td>0</td>\n",
       "      <td>0</td>\n",
       "      <td>2</td>\n",
       "      <td>3</td>\n",
       "      <td>2365</td>\n",
       "      <td>0.021530</td>\n",
       "      <td>0.069204</td>\n",
       "      <td>1</td>\n",
       "      <td>0</td>\n",
       "      <td>0.046934</td>\n",
       "      <td>0.0</td>\n",
       "      <td>3</td>\n",
       "      <td>1</td>\n",
       "      <td>21</td>\n",
       "      <td>44</td>\n",
       "      <td>231</td>\n",
       "      <td>쌀밥/잡곡밥 (쌀,현미흑미:국내산) 청국장찌개  황태양념구이 (황태:러시아산) 고기...</td>\n",
       "    </tr>\n",
       "    <tr>\n",
       "      <th>3</th>\n",
       "      <td>525.0</td>\n",
       "      <td>2601</td>\n",
       "      <td>0</td>\n",
       "      <td>0</td>\n",
       "      <td>2</td>\n",
       "      <td>4</td>\n",
       "      <td>2277</td>\n",
       "      <td>0.039985</td>\n",
       "      <td>0.084583</td>\n",
       "      <td>1</td>\n",
       "      <td>0</td>\n",
       "      <td>0.155907</td>\n",
       "      <td>0.0</td>\n",
       "      <td>4</td>\n",
       "      <td>0</td>\n",
       "      <td>17</td>\n",
       "      <td>20</td>\n",
       "      <td>91</td>\n",
       "      <td>미니김밥*겨자장 (쌀,현미흑미:국내산) 우동  멕시칸샐러드  군고구마  무피클  포...</td>\n",
       "    </tr>\n",
       "    <tr>\n",
       "      <th>4</th>\n",
       "      <td>330.0</td>\n",
       "      <td>2601</td>\n",
       "      <td>0</td>\n",
       "      <td>0</td>\n",
       "      <td>2</td>\n",
       "      <td>5</td>\n",
       "      <td>2142</td>\n",
       "      <td>0.106882</td>\n",
       "      <td>0.069589</td>\n",
       "      <td>0</td>\n",
       "      <td>0</td>\n",
       "      <td>0.015873</td>\n",
       "      <td>0.0</td>\n",
       "      <td>5</td>\n",
       "      <td>1</td>\n",
       "      <td>21</td>\n",
       "      <td>44</td>\n",
       "      <td>56</td>\n",
       "      <td>쌀밥/잡곡밥 (쌀,현미흑미:국내산) 차돌박이찌개 (쇠고기:호주산) 닭갈비 (닭고기:...</td>\n",
       "    </tr>\n",
       "  </tbody>\n",
       "</table>\n",
       "</div>"
      ],
      "text/plain": [
       "     석식계  본사정원수  공휴일전  공휴일후  월  일    출근      휴가비율      출장비율  평균기온(°C)  \\\n",
       "0  331.0   2601     0     0  2  1  2401  0.019223  0.057670         1   \n",
       "1  560.0   2601     0     0  2  2  2378  0.019223  0.066513         1   \n",
       "2  573.0   2601     0     0  2  3  2365  0.021530  0.069204         1   \n",
       "3  525.0   2601     0     0  2  4  2277  0.039985  0.084583         1   \n",
       "4  330.0   2601     0     0  2  5  2142  0.106882  0.069589         0   \n",
       "\n",
       "   일강수량(mm)      야근비율  재택비율  요일  요일_야근  밥_석식  국_석식  반찬_석식  \\\n",
       "0         0  0.099125   0.0   1      0    21    39    130   \n",
       "1         0  0.134146   0.0   2      0    51    33    178   \n",
       "2         0  0.046934   0.0   3      1    21    44    231   \n",
       "3         0  0.155907   0.0   4      0    17    20     91   \n",
       "4         0  0.015873   0.0   5      1    21    44     56   \n",
       "\n",
       "                                                석식메뉴  \n",
       "0  쌀밥/잡곡밥 (쌀,현미흑미:국내산) 육개장  자반고등어구이  두부조림  건파래무침 ...  \n",
       "1  콩나물밥*양념장 (쌀,현미흑미:국내산) 어묵국  유산슬 (쇠고기:호주산) 아삭고추무...  \n",
       "2  쌀밥/잡곡밥 (쌀,현미흑미:국내산) 청국장찌개  황태양념구이 (황태:러시아산) 고기...  \n",
       "3  미니김밥*겨자장 (쌀,현미흑미:국내산) 우동  멕시칸샐러드  군고구마  무피클  포...  \n",
       "4  쌀밥/잡곡밥 (쌀,현미흑미:국내산) 차돌박이찌개 (쇠고기:호주산) 닭갈비 (닭고기:...  "
      ]
     },
     "execution_count": 55,
     "metadata": {},
     "output_type": "execute_result"
    }
   ],
   "source": [
    "train_dinner.head()"
   ]
  },
  {
   "cell_type": "markdown",
   "metadata": {
    "id": "akG5CYlJ0QAY"
   },
   "source": [
    "## 반찬 상위 메뉴"
   ]
  },
  {
   "cell_type": "code",
   "execution_count": 56,
   "metadata": {
    "ExecuteTime": {
     "end_time": "2022-02-24T15:53:45.549654Z",
     "start_time": "2022-02-24T15:53:45.515664Z"
    },
    "id": "076cagyt-CQI"
   },
   "outputs": [],
   "source": [
    "test_lunch.drop(['중식계'], axis=1, inplace=True)\n",
    "test_dinner.drop(['석식계'], axis=1, inplace=True)\n",
    "\n",
    "test_lunch.reset_index(drop=True, inplace=True)\n",
    "test_dinner.reset_index(drop=True, inplace=True)"
   ]
  },
  {
   "cell_type": "code",
   "execution_count": 57,
   "metadata": {
    "ExecuteTime": {
     "end_time": "2022-02-24T15:53:46.947992Z",
     "start_time": "2022-02-24T15:53:45.563663Z"
    },
    "id": "ZimzPLOT1mho"
   },
   "outputs": [
    {
     "ename": "FileNotFoundError",
     "evalue": "[Errno 2] No such file or directory: '/Users/hyojin/Desktop/miniProject/weather_corona_train.csv'",
     "output_type": "error",
     "traceback": [
      "\u001b[1;31m---------------------------------------------------------------------------\u001b[0m",
      "\u001b[1;31mFileNotFoundError\u001b[0m                         Traceback (most recent call last)",
      "\u001b[1;32m<ipython-input-57-9f77514d841e>\u001b[0m in \u001b[0;36m<module>\u001b[1;34m\u001b[0m\n\u001b[1;32m----> 1\u001b[1;33m \u001b[0mtrain_dinner\u001b[0m\u001b[1;33m[\u001b[0m\u001b[1;34m'석식메뉴'\u001b[0m\u001b[1;33m]\u001b[0m \u001b[1;33m=\u001b[0m \u001b[0mpd\u001b[0m\u001b[1;33m.\u001b[0m\u001b[0mread_csv\u001b[0m\u001b[1;33m(\u001b[0m\u001b[1;34m'/Users/hyojin/Desktop/miniProject/weather_corona_train.csv'\u001b[0m\u001b[1;33m,\u001b[0m \u001b[0mencoding\u001b[0m\u001b[1;33m=\u001b[0m\u001b[1;34m'cp949'\u001b[0m\u001b[1;33m,\u001b[0m \u001b[0mindex_col\u001b[0m \u001b[1;33m=\u001b[0m \u001b[1;36m0\u001b[0m\u001b[1;33m)\u001b[0m\u001b[1;33m[\u001b[0m\u001b[1;34m'석식메뉴'\u001b[0m\u001b[1;33m]\u001b[0m\u001b[1;33m\u001b[0m\u001b[1;33m\u001b[0m\u001b[0m\n\u001b[0m",
      "\u001b[1;32m~\\anaconda3\\lib\\site-packages\\pandas\\io\\parsers.py\u001b[0m in \u001b[0;36mparser_f\u001b[1;34m(filepath_or_buffer, sep, delimiter, header, names, index_col, usecols, squeeze, prefix, mangle_dupe_cols, dtype, engine, converters, true_values, false_values, skipinitialspace, skiprows, skipfooter, nrows, na_values, keep_default_na, na_filter, verbose, skip_blank_lines, parse_dates, infer_datetime_format, keep_date_col, date_parser, dayfirst, cache_dates, iterator, chunksize, compression, thousands, decimal, lineterminator, quotechar, quoting, doublequote, escapechar, comment, encoding, dialect, error_bad_lines, warn_bad_lines, delim_whitespace, low_memory, memory_map, float_precision)\u001b[0m\n\u001b[0;32m    674\u001b[0m         )\n\u001b[0;32m    675\u001b[0m \u001b[1;33m\u001b[0m\u001b[0m\n\u001b[1;32m--> 676\u001b[1;33m         \u001b[1;32mreturn\u001b[0m \u001b[0m_read\u001b[0m\u001b[1;33m(\u001b[0m\u001b[0mfilepath_or_buffer\u001b[0m\u001b[1;33m,\u001b[0m \u001b[0mkwds\u001b[0m\u001b[1;33m)\u001b[0m\u001b[1;33m\u001b[0m\u001b[1;33m\u001b[0m\u001b[0m\n\u001b[0m\u001b[0;32m    677\u001b[0m \u001b[1;33m\u001b[0m\u001b[0m\n\u001b[0;32m    678\u001b[0m     \u001b[0mparser_f\u001b[0m\u001b[1;33m.\u001b[0m\u001b[0m__name__\u001b[0m \u001b[1;33m=\u001b[0m \u001b[0mname\u001b[0m\u001b[1;33m\u001b[0m\u001b[1;33m\u001b[0m\u001b[0m\n",
      "\u001b[1;32m~\\anaconda3\\lib\\site-packages\\pandas\\io\\parsers.py\u001b[0m in \u001b[0;36m_read\u001b[1;34m(filepath_or_buffer, kwds)\u001b[0m\n\u001b[0;32m    446\u001b[0m \u001b[1;33m\u001b[0m\u001b[0m\n\u001b[0;32m    447\u001b[0m     \u001b[1;31m# Create the parser.\u001b[0m\u001b[1;33m\u001b[0m\u001b[1;33m\u001b[0m\u001b[1;33m\u001b[0m\u001b[0m\n\u001b[1;32m--> 448\u001b[1;33m     \u001b[0mparser\u001b[0m \u001b[1;33m=\u001b[0m \u001b[0mTextFileReader\u001b[0m\u001b[1;33m(\u001b[0m\u001b[0mfp_or_buf\u001b[0m\u001b[1;33m,\u001b[0m \u001b[1;33m**\u001b[0m\u001b[0mkwds\u001b[0m\u001b[1;33m)\u001b[0m\u001b[1;33m\u001b[0m\u001b[1;33m\u001b[0m\u001b[0m\n\u001b[0m\u001b[0;32m    449\u001b[0m \u001b[1;33m\u001b[0m\u001b[0m\n\u001b[0;32m    450\u001b[0m     \u001b[1;32mif\u001b[0m \u001b[0mchunksize\u001b[0m \u001b[1;32mor\u001b[0m \u001b[0miterator\u001b[0m\u001b[1;33m:\u001b[0m\u001b[1;33m\u001b[0m\u001b[1;33m\u001b[0m\u001b[0m\n",
      "\u001b[1;32m~\\anaconda3\\lib\\site-packages\\pandas\\io\\parsers.py\u001b[0m in \u001b[0;36m__init__\u001b[1;34m(self, f, engine, **kwds)\u001b[0m\n\u001b[0;32m    878\u001b[0m             \u001b[0mself\u001b[0m\u001b[1;33m.\u001b[0m\u001b[0moptions\u001b[0m\u001b[1;33m[\u001b[0m\u001b[1;34m\"has_index_names\"\u001b[0m\u001b[1;33m]\u001b[0m \u001b[1;33m=\u001b[0m \u001b[0mkwds\u001b[0m\u001b[1;33m[\u001b[0m\u001b[1;34m\"has_index_names\"\u001b[0m\u001b[1;33m]\u001b[0m\u001b[1;33m\u001b[0m\u001b[1;33m\u001b[0m\u001b[0m\n\u001b[0;32m    879\u001b[0m \u001b[1;33m\u001b[0m\u001b[0m\n\u001b[1;32m--> 880\u001b[1;33m         \u001b[0mself\u001b[0m\u001b[1;33m.\u001b[0m\u001b[0m_make_engine\u001b[0m\u001b[1;33m(\u001b[0m\u001b[0mself\u001b[0m\u001b[1;33m.\u001b[0m\u001b[0mengine\u001b[0m\u001b[1;33m)\u001b[0m\u001b[1;33m\u001b[0m\u001b[1;33m\u001b[0m\u001b[0m\n\u001b[0m\u001b[0;32m    881\u001b[0m \u001b[1;33m\u001b[0m\u001b[0m\n\u001b[0;32m    882\u001b[0m     \u001b[1;32mdef\u001b[0m \u001b[0mclose\u001b[0m\u001b[1;33m(\u001b[0m\u001b[0mself\u001b[0m\u001b[1;33m)\u001b[0m\u001b[1;33m:\u001b[0m\u001b[1;33m\u001b[0m\u001b[1;33m\u001b[0m\u001b[0m\n",
      "\u001b[1;32m~\\anaconda3\\lib\\site-packages\\pandas\\io\\parsers.py\u001b[0m in \u001b[0;36m_make_engine\u001b[1;34m(self, engine)\u001b[0m\n\u001b[0;32m   1112\u001b[0m     \u001b[1;32mdef\u001b[0m \u001b[0m_make_engine\u001b[0m\u001b[1;33m(\u001b[0m\u001b[0mself\u001b[0m\u001b[1;33m,\u001b[0m \u001b[0mengine\u001b[0m\u001b[1;33m=\u001b[0m\u001b[1;34m\"c\"\u001b[0m\u001b[1;33m)\u001b[0m\u001b[1;33m:\u001b[0m\u001b[1;33m\u001b[0m\u001b[1;33m\u001b[0m\u001b[0m\n\u001b[0;32m   1113\u001b[0m         \u001b[1;32mif\u001b[0m \u001b[0mengine\u001b[0m \u001b[1;33m==\u001b[0m \u001b[1;34m\"c\"\u001b[0m\u001b[1;33m:\u001b[0m\u001b[1;33m\u001b[0m\u001b[1;33m\u001b[0m\u001b[0m\n\u001b[1;32m-> 1114\u001b[1;33m             \u001b[0mself\u001b[0m\u001b[1;33m.\u001b[0m\u001b[0m_engine\u001b[0m \u001b[1;33m=\u001b[0m \u001b[0mCParserWrapper\u001b[0m\u001b[1;33m(\u001b[0m\u001b[0mself\u001b[0m\u001b[1;33m.\u001b[0m\u001b[0mf\u001b[0m\u001b[1;33m,\u001b[0m \u001b[1;33m**\u001b[0m\u001b[0mself\u001b[0m\u001b[1;33m.\u001b[0m\u001b[0moptions\u001b[0m\u001b[1;33m)\u001b[0m\u001b[1;33m\u001b[0m\u001b[1;33m\u001b[0m\u001b[0m\n\u001b[0m\u001b[0;32m   1115\u001b[0m         \u001b[1;32melse\u001b[0m\u001b[1;33m:\u001b[0m\u001b[1;33m\u001b[0m\u001b[1;33m\u001b[0m\u001b[0m\n\u001b[0;32m   1116\u001b[0m             \u001b[1;32mif\u001b[0m \u001b[0mengine\u001b[0m \u001b[1;33m==\u001b[0m \u001b[1;34m\"python\"\u001b[0m\u001b[1;33m:\u001b[0m\u001b[1;33m\u001b[0m\u001b[1;33m\u001b[0m\u001b[0m\n",
      "\u001b[1;32m~\\anaconda3\\lib\\site-packages\\pandas\\io\\parsers.py\u001b[0m in \u001b[0;36m__init__\u001b[1;34m(self, src, **kwds)\u001b[0m\n\u001b[0;32m   1872\u001b[0m         \u001b[1;32mif\u001b[0m \u001b[0mkwds\u001b[0m\u001b[1;33m.\u001b[0m\u001b[0mget\u001b[0m\u001b[1;33m(\u001b[0m\u001b[1;34m\"compression\"\u001b[0m\u001b[1;33m)\u001b[0m \u001b[1;32mis\u001b[0m \u001b[1;32mNone\u001b[0m \u001b[1;32mand\u001b[0m \u001b[0mencoding\u001b[0m\u001b[1;33m:\u001b[0m\u001b[1;33m\u001b[0m\u001b[1;33m\u001b[0m\u001b[0m\n\u001b[0;32m   1873\u001b[0m             \u001b[1;32mif\u001b[0m \u001b[0misinstance\u001b[0m\u001b[1;33m(\u001b[0m\u001b[0msrc\u001b[0m\u001b[1;33m,\u001b[0m \u001b[0mstr\u001b[0m\u001b[1;33m)\u001b[0m\u001b[1;33m:\u001b[0m\u001b[1;33m\u001b[0m\u001b[1;33m\u001b[0m\u001b[0m\n\u001b[1;32m-> 1874\u001b[1;33m                 \u001b[0msrc\u001b[0m \u001b[1;33m=\u001b[0m \u001b[0mopen\u001b[0m\u001b[1;33m(\u001b[0m\u001b[0msrc\u001b[0m\u001b[1;33m,\u001b[0m \u001b[1;34m\"rb\"\u001b[0m\u001b[1;33m)\u001b[0m\u001b[1;33m\u001b[0m\u001b[1;33m\u001b[0m\u001b[0m\n\u001b[0m\u001b[0;32m   1875\u001b[0m                 \u001b[0mself\u001b[0m\u001b[1;33m.\u001b[0m\u001b[0mhandles\u001b[0m\u001b[1;33m.\u001b[0m\u001b[0mappend\u001b[0m\u001b[1;33m(\u001b[0m\u001b[0msrc\u001b[0m\u001b[1;33m)\u001b[0m\u001b[1;33m\u001b[0m\u001b[1;33m\u001b[0m\u001b[0m\n\u001b[0;32m   1876\u001b[0m \u001b[1;33m\u001b[0m\u001b[0m\n",
      "\u001b[1;31mFileNotFoundError\u001b[0m: [Errno 2] No such file or directory: '/Users/hyojin/Desktop/miniProject/weather_corona_train.csv'"
     ]
    }
   ],
   "source": [
    "train_dinner['석식메뉴'] = pd.read_csv('/Users/hyojin/Desktop/miniProject/weather_corona_train.csv', encoding='cp949', index_col = 0)['석식메뉴']"
   ]
  },
  {
   "cell_type": "code",
   "execution_count": null,
   "metadata": {
    "ExecuteTime": {
     "end_time": "2022-02-24T15:53:47.024793Z",
     "start_time": "2022-02-24T15:53:34.745Z"
    },
    "id": "1xQMSGdcz9oM"
   },
   "outputs": [],
   "source": [
    "#메뉴 구분 함수\n",
    "def split_menu(x):\n",
    "  menu_return = []  #return할 메뉴 데이터. 메뉴 스플릿 & 원산지 제외\n",
    "  for data in x:\n",
    "    menus = []              #전처리된 메뉴\n",
    "    menus_sp = data.split() #띄어쓰기 split\n",
    "    for menu_sp in menus_sp:\n",
    "      if '(' in menu_sp:\n",
    "        pass\n",
    "      elif ',' in menu_sp:  #comma split\n",
    "        menus_comma = menu_sp.split(',')\n",
    "        for menu_comma in menus_comma:\n",
    "          menus.append(menu_comma)\n",
    "      else:\n",
    "        menus.append(menu_sp)\n",
    "    menu_return.append(menus)\n",
    "  return menu_return\n",
    "#train 데이터 중식메뉴 카테고리별 분류\n",
    "def seperate_lunch_menu_list(df):\n",
    "\n",
    "  str = 'None'\n",
    "  lunch_menu_list = df['중식메뉴리스트']\n",
    "\n",
    "  print('######## 점심 데이터 구분 함수 시작 ########')\n",
    "\n",
    "  #메뉴 종류별 구분 (10 피처)\n",
    "  rice = []\n",
    "  soup = []\n",
    "  side_1 = []\n",
    "  side_2 = []\n",
    "  side_3 = []\n",
    "  side_4 = []\n",
    "  side_5 = []\n",
    "  dessert_1 = []\n",
    "  dessert_2 = []\n",
    "  kimchi = []\n",
    "\n",
    "  for idx, lunch_menu in enumerate(lunch_menu_list):\n",
    "\n",
    "    # print(\"현재 인덱스 :\", idx)\n",
    "    # print(lunch_menu)\n",
    "\n",
    "    #[밥 국 반찬2개 디저트 김치]\n",
    "    if idx in [38,57,70,75,80,109,123,286,301,341,\n",
    "                 361,366,449,482,549,553,687,747,786,843,\n",
    "                 867,882,909,983,1023,1061]:   \n",
    "      rice.append(lunch_menu[0])\n",
    "      soup.append(lunch_menu[1])\n",
    "      side_1.append(lunch_menu[2])\n",
    "      side_2.append(lunch_menu[3])\n",
    "      side_3.append(str)\n",
    "      side_4.append(str)\n",
    "      side_5.append(str)\n",
    "      dessert_1.append(lunch_menu[4])\n",
    "      dessert_2.append(str)\n",
    "      kimchi.append(lunch_menu[5])\n",
    "    #[밥 국 반찬3개 디저트 김치]\n",
    "    elif idx in [0,1,2,3,4,5,6,7,8,9,\n",
    "               11,12,13,15,16,17,19,169,378,705,\n",
    "               951,956,1062,1064,1066]:   \n",
    "      rice.append(lunch_menu[0])\n",
    "      soup.append(lunch_menu[1])\n",
    "      side_1.append(lunch_menu[2])\n",
    "      side_2.append(lunch_menu[3])\n",
    "      side_3.append(lunch_menu[4])\n",
    "      side_4.append(str)\n",
    "      side_5.append(str)\n",
    "      dessert_1.append(lunch_menu[5])\n",
    "      dessert_2.append(str)\n",
    "      kimchi.append(lunch_menu[6])\n",
    "    #[밥 국 반찬3개 디저트2개 김치]\n",
    "    elif idx in [1026,1035,1040,1042,1045]:   \n",
    "      rice.append(lunch_menu[0])\n",
    "      soup.append(lunch_menu[1])\n",
    "      side_1.append(lunch_menu[2])\n",
    "      side_2.append(lunch_menu[3])\n",
    "      side_3.append(lunch_menu[4])\n",
    "      side_4.append(str)\n",
    "      side_5.append(str)\n",
    "      dessert_1.append(lunch_menu[5])\n",
    "      dessert_2.append(lunch_menu[6])\n",
    "      kimchi.append(lunch_menu[7])       \n",
    "    #[밥 국 반찬4개 디저트 김치]\n",
    "    elif idx in [1027,1032,1033,1034,1039,1041,1044,1046]:   \n",
    "      rice.append(lunch_menu[0])\n",
    "      soup.append(lunch_menu[1])\n",
    "      side_1.append(lunch_menu[2])\n",
    "      side_2.append(lunch_menu[3])\n",
    "      side_3.append(lunch_menu[4])\n",
    "      side_4.append(lunch_menu[5])\n",
    "      side_5.append(str)\n",
    "      dessert_1.append(lunch_menu[6])\n",
    "      dessert_2.append(str)\n",
    "      kimchi.append(lunch_menu[7])      \n",
    "    #[밥 국 반찬5개 김치]\n",
    "    elif idx in [1043]:   \n",
    "      rice.append(lunch_menu[0])\n",
    "      soup.append(lunch_menu[1])\n",
    "      side_1.append(lunch_menu[2])\n",
    "      side_2.append(lunch_menu[3])\n",
    "      side_3.append(lunch_menu[4])\n",
    "      side_4.append(lunch_menu[5])\n",
    "      side_5.append(lunch_menu[6])\n",
    "      dessert_1.append(str)\n",
    "      dessert_2.append(str)\n",
    "      kimchi.append(lunch_menu[7])        \n",
    "    #[밥 국 반찬2개 김치]\n",
    "    elif idx in [223,289,1036]:   \n",
    "      rice.append(lunch_menu[0])\n",
    "      soup.append(lunch_menu[1])\n",
    "      side_1.append(lunch_menu[2])\n",
    "      side_2.append(lunch_menu[3])\n",
    "      side_3.append(str)\n",
    "      side_4.append(str)\n",
    "      side_5.append(str)\n",
    "      dessert_1.append(str)\n",
    "      dessert_2.append(str)\n",
    "      kimchi.append(lunch_menu[4])\n",
    "    #[밥 국 반찬4개 김치]\n",
    "    elif idx in [373,873,1007,1029,1030]:   \n",
    "      rice.append(lunch_menu[0])\n",
    "      soup.append(lunch_menu[1])\n",
    "      side_1.append(lunch_menu[2])\n",
    "      side_2.append(lunch_menu[3])\n",
    "      side_3.append(lunch_menu[4])\n",
    "      side_4.append(lunch_menu[5])\n",
    "      side_5.append(str)\n",
    "      dessert_1.append(str)\n",
    "      dessert_2.append(str)\n",
    "      kimchi.append(lunch_menu[6])\n",
    "    #[밥 국 반찬2개 반찬/디저트 김치]\n",
    "    elif idx in [119,155,189,209,351,471,492,614,648,654,\n",
    "                 720,742,872,907,914,924,929,937,979,1020,\n",
    "                 1021]:   \n",
    "      rice.append(lunch_menu[0])\n",
    "      soup.append(lunch_menu[1])\n",
    "      side_1.append(lunch_menu[2])\n",
    "      side_2.append(lunch_menu[3])\n",
    "      side_3.append(lunch_menu[4].split('/')[0])\n",
    "      side_4.append(str)\n",
    "      side_5.append(str)\n",
    "      dessert_1.append(lunch_menu[4].split('/')[1])\n",
    "      dessert_2.append(str)\n",
    "      kimchi.append(lunch_menu[5])\n",
    "    #[밥 반찬3개 김치]\n",
    "    elif idx in [175,288]:   \n",
    "      rice.append(lunch_menu[0])\n",
    "      soup.append(str)\n",
    "      side_1.append(lunch_menu[1])\n",
    "      side_2.append(lunch_menu[2])\n",
    "      side_3.append(lunch_menu[3])\n",
    "      side_4.append(str)\n",
    "      side_5.append(str)\n",
    "      dessert_1.append(str)\n",
    "      dessert_2.append(str)\n",
    "      kimchi.append(lunch_menu[4])     \n",
    "    #[밥 반찬3개 디저트2개 김치]\n",
    "    elif idx in [1037]:   \n",
    "      rice.append(lunch_menu[0])\n",
    "      soup.append(str)\n",
    "      side_1.append(lunch_menu[1])\n",
    "      side_2.append(lunch_menu[2])\n",
    "      side_3.append(lunch_menu[3])\n",
    "      side_4.append(str)\n",
    "      side_5.append(str)\n",
    "      dessert_1.append(lunch_menu[4])\n",
    "      dessert_2.append(lunch_menu[5])\n",
    "      kimchi.append(lunch_menu[6])        \n",
    "    #특이 케이스\n",
    "    elif idx in [10]:   #[밥 국 반찬2개 디저트(중복2개) 김치]\n",
    "      rice.append(lunch_menu[0])\n",
    "      soup.append(lunch_menu[1])\n",
    "      side_1.append(lunch_menu[2])\n",
    "      side_2.append(lunch_menu[3])\n",
    "      side_3.append(str)\n",
    "      side_4.append(str)\n",
    "      side_5.append(str)\n",
    "      dessert_1.append(lunch_menu[4])\n",
    "      dessert_2.append(str)\n",
    "      kimchi.append(lunch_menu[6])\n",
    "    elif idx in [14]:   #[밥 국 반찬2개 디저트2개 김치]\n",
    "      rice.append(lunch_menu[0])\n",
    "      soup.append(lunch_menu[1])\n",
    "      side_1.append(lunch_menu[2])\n",
    "      side_2.append(lunch_menu[3])\n",
    "      side_3.append(str)\n",
    "      side_4.append(str)\n",
    "      side_5.append(str)\n",
    "      dessert_1.append(lunch_menu[4])\n",
    "      dessert_2.append(lunch_menu[5])\n",
    "      kimchi.append(lunch_menu[6])\n",
    "    elif idx in [116,400,459]:     #[밥 국 반찬2개 디저트/반찬 김치]\n",
    "      rice.append(lunch_menu[0])\n",
    "      soup.append(lunch_menu[1])\n",
    "      side_1.append(lunch_menu[2])\n",
    "      side_2.append(lunch_menu[3])\n",
    "      side_3.append(lunch_menu[4].split('/')[1])\n",
    "      side_4.append(str)\n",
    "      side_5.append(str)\n",
    "      dessert_1.append(lunch_menu[4].split('/')[0])\n",
    "      dessert_2.append(str)\n",
    "      kimchi.append(lunch_menu[5])  \n",
    "    elif idx in [412,650]:     #[밥 국 반찬/반찬 반찬 디저트/디저트 김치]\n",
    "      rice.append(lunch_menu[0])\n",
    "      soup.append(lunch_menu[1])\n",
    "      side_1.append(lunch_menu[2].split('/')[0])\n",
    "      side_2.append(lunch_menu[2].split('/')[1])\n",
    "      side_3.append(lunch_menu[3])\n",
    "      side_4.append(str)\n",
    "      side_5.append(str)\n",
    "      dessert_1.append(lunch_menu[4].split('/')[0])\n",
    "      dessert_2.append(lunch_menu[4].split('/')[1])\n",
    "      kimchi.append(lunch_menu[5])  \n",
    "    elif idx in [934]:     #[밥 국 반찬2개 디저트/디저트 김치]   \n",
    "      rice.append(lunch_menu[0])\n",
    "      soup.append(lunch_menu[1])\n",
    "      side_1.append(lunch_menu[2])\n",
    "      side_2.append(lunch_menu[3])\n",
    "      side_3.append(str)\n",
    "      side_4.append(str)\n",
    "      side_5.append(str)\n",
    "      dessert_1.append(lunch_menu[4].split('/')[0])\n",
    "      dessert_2.append(lunch_menu[4].split('/')[1])\n",
    "      kimchi.append(lunch_menu[5])  \n",
    "    #[밥 국 반찬3개 디저트 김치]\n",
    "    elif idx in [356,840]:     #[<초복특식> 국 밥 반찬 디저트 김치]  \n",
    "      rice.append(lunch_menu[2])\n",
    "      soup.append(lunch_menu[1])\n",
    "      side_1.append(lunch_menu[3])\n",
    "      side_2.append(str)\n",
    "      side_3.append(str)\n",
    "      side_4.append(str)\n",
    "      side_5.append(str)\n",
    "      dessert_1.append(lunch_menu[4])\n",
    "      dessert_2.append(str)\n",
    "      kimchi.append(lunch_menu[5])  \n",
    "    elif idx in [603]:     #[국 밥 반찬2개 디저트 김치]  \n",
    "      rice.append(lunch_menu[1])\n",
    "      soup.append(lunch_menu[0])\n",
    "      side_1.append(lunch_menu[2])\n",
    "      side_2.append(lunch_menu[3])\n",
    "      side_3.append(str)\n",
    "      side_4.append(str)\n",
    "      side_5.append(str)\n",
    "      dessert_1.append(lunch_menu[4])\n",
    "      dessert_2.append(str)\n",
    "      kimchi.append(lunch_menu[5])  \n",
    "    elif idx in [1031]:     #[밥 국 반찬5개 디저트 김치]  \n",
    "      rice.append(lunch_menu[0])\n",
    "      soup.append(lunch_menu[1])\n",
    "      side_1.append(lunch_menu[2])\n",
    "      side_2.append(lunch_menu[3])\n",
    "      side_3.append(lunch_menu[4])\n",
    "      side_4.append(lunch_menu[5])\n",
    "      side_5.append(lunch_menu[6])\n",
    "      dessert_1.append(lunch_menu[7])\n",
    "      dessert_2.append(str)\n",
    "      kimchi.append(lunch_menu[8])  \n",
    "    elif idx in [511,741,980]:     #[밥 국 반찬3개 디저트/김치]  \n",
    "      rice.append(lunch_menu[0])\n",
    "      soup.append(lunch_menu[1])\n",
    "      side_1.append(lunch_menu[2])\n",
    "      side_2.append(lunch_menu[3])\n",
    "      side_3.append(lunch_menu[4])\n",
    "      side_4.append(str)\n",
    "      side_5.append(str)\n",
    "      dessert_1.append(lunch_menu[5].split('/')[0])\n",
    "      dessert_2.append(str)\n",
    "      kimchi.append(lunch_menu[5].split('/')[1])  \n",
    "    #이상 케이스\n",
    "    elif idx in [885]:     #[밥 국 반찬3개 ' /오렌지주스' 김치/디저트]  \n",
    "      rice.append(lunch_menu[0])\n",
    "      soup.append(lunch_menu[1])\n",
    "      side_1.append(lunch_menu[2])\n",
    "      side_2.append(lunch_menu[3])\n",
    "      side_3.append(lunch_menu[4])\n",
    "      side_4.append(str)\n",
    "      side_5.append(str)\n",
    "      dessert_1.append(lunch_menu[5].split('/')[1])\n",
    "      dessert_2.append(lunch_menu[6].split('/')[1])\n",
    "      kimchi.append(lunch_menu[6].split('/')[0])  \n",
    "    elif idx in [1038]:     #[밥 국 반찬4개 청,적포도 디저트 김치]  \n",
    "      rice.append(lunch_menu[0])\n",
    "      soup.append(lunch_menu[1])\n",
    "      side_1.append(lunch_menu[2])\n",
    "      side_2.append(lunch_menu[3])\n",
    "      side_3.append(lunch_menu[4])\n",
    "      side_4.append(lunch_menu[5])\n",
    "      side_5.append(str)\n",
    "      dessert_1.append('청,적포도')\n",
    "      dessert_2.append(lunch_menu[8])\n",
    "      kimchi.append(lunch_menu[9]) \n",
    "    elif idx in [1026]:   \n",
    "      rice.append(lunch_menu[0])\n",
    "      soup.append(lunch_menu[1])\n",
    "      side_1.append(lunch_menu[2])\n",
    "      side_2.append(lunch_menu[3])\n",
    "      side_3.append(lunch_menu[4])\n",
    "      side_4.append(str)\n",
    "      side_5.append(str)\n",
    "      dessert_1.append(lunch_menu[5].split(',')[0])\n",
    "      dessert_2.append(lunch_menu[5].split(',')[0])\n",
    "    #[밥 국 반찬3개 김치 반찬]\n",
    "    elif idx in [1067,1068,1069,1070,1071,1073,1074,1075,1076,1077,\n",
    "                 1078,1079,1080,1081,1082,1083,1084,1085,1086,1088,\n",
    "                 1089,1090,1091,1094,1095,1097,1098,1099,1100,1101,\n",
    "                 1104,1108,1112,1116,1117,1125,1126,1128,1130,1138,\n",
    "                 1143,1145,1148,1150,1152,1153,1157,1162,1163,1176,\n",
    "                 1177,1178,1180,1183,1191,1192,1193,1195,1196,1197,\n",
    "                 1199,1200,1201,1202]:       \n",
    "      rice.append(lunch_menu[0])\n",
    "      soup.append(lunch_menu[1])\n",
    "      side_1.append(lunch_menu[2])\n",
    "      side_2.append(lunch_menu[3])\n",
    "      side_3.append(lunch_menu[4])\n",
    "      side_4.append(lunch_menu[6])\n",
    "      side_5.append(str)\n",
    "      dessert_1.append(str)\n",
    "      dessert_2.append(str)\n",
    "      kimchi.append(lunch_menu[5]) \n",
    "    #[밥 국 반찬3개 김치 디저트]\n",
    "    elif idx in [1131]:       \n",
    "      rice.append(lunch_menu[0])\n",
    "      soup.append(lunch_menu[1])\n",
    "      side_1.append(lunch_menu[2])\n",
    "      side_2.append(lunch_menu[3])\n",
    "      side_3.append(lunch_menu[4])\n",
    "      side_4.append(str)\n",
    "      side_5.append(str)\n",
    "      dessert_1.append(lunch_menu[6])\n",
    "      dessert_2.append(str)\n",
    "      kimchi.append(lunch_menu[5])       \n",
    "    #[밥 국 반찬3개 김치/디저트 반찬]\n",
    "    elif idx in [1096,1102,1103,1110,1113,1114,1115,1119,1120,1124,\n",
    "                 1127,1132,1134,1135,1139,1140,1144,1155,1156,1158,\n",
    "                 1159,1161,1166,1169,1170,1174,1175,1184,1185,1188,\n",
    "                 1198,1204]:   \n",
    "      rice.append(lunch_menu[0])\n",
    "      soup.append(lunch_menu[1])\n",
    "      side_1.append(lunch_menu[2])\n",
    "      side_2.append(lunch_menu[3])\n",
    "      side_3.append(lunch_menu[4])\n",
    "      side_4.append(lunch_menu[6])\n",
    "      side_5.append(str)\n",
    "      dessert_1.append(lunch_menu[5].split('/')[1])\n",
    "      dessert_2.append(str)\n",
    "      kimchi.append(lunch_menu[5].split('/')[0]) \n",
    "    #[밥 국 반찬3개 김치/디저트/디저트 반찬]\n",
    "    elif idx in [1129]:   \n",
    "      rice.append(lunch_menu[0])\n",
    "      soup.append(lunch_menu[1])\n",
    "      side_1.append(lunch_menu[2])\n",
    "      side_2.append(lunch_menu[3])\n",
    "      side_3.append(lunch_menu[4])\n",
    "      side_4.append(lunch_menu[6])\n",
    "      side_5.append(str)\n",
    "      dessert_1.append(lunch_menu[5].split('/')[1])\n",
    "      dessert_2.append(lunch_menu[5].split('/')[2])\n",
    "      kimchi.append(lunch_menu[5].split('/')[0]) \n",
    "    #[밥 국 반찬3개 김치 반찬/디저트]\n",
    "    elif idx in [1107]:   \n",
    "      rice.append(lunch_menu[0])\n",
    "      soup.append(lunch_menu[1])\n",
    "      side_1.append(lunch_menu[2])\n",
    "      side_2.append(lunch_menu[3])\n",
    "      side_3.append(lunch_menu[4])\n",
    "      side_4.append(lunch_menu[6].split('/')[0])\n",
    "      side_5.append(str)\n",
    "      dessert_1.append(lunch_menu[6].split('/')[1])\n",
    "      dessert_2.append(str)\n",
    "      kimchi.append(lunch_menu[5]) \n",
    "    #[밥 국 반찬3개 김치 디저트/반찬]\n",
    "    elif idx in [1107]:   \n",
    "      rice.append(lunch_menu[0])\n",
    "      soup.append(lunch_menu[1])\n",
    "      side_1.append(lunch_menu[2])\n",
    "      side_2.append(lunch_menu[3])\n",
    "      side_3.append(lunch_menu[4])\n",
    "      side_4.append(lunch_menu[6].split('/')[1])\n",
    "      side_5.append(str)\n",
    "      dessert_1.append(lunch_menu[6].split('/')[0])\n",
    "      dessert_2.append(str)\n",
    "      kimchi.append(lunch_menu[5]) \n",
    "    #[밥 국 반찬2개 김치/반찬 반찬]\n",
    "    elif idx in [1141]:   \n",
    "      rice.append(lunch_menu[0])\n",
    "      soup.append(lunch_menu[1])\n",
    "      side_1.append(lunch_menu[2])\n",
    "      side_2.append(lunch_menu[3])\n",
    "      side_3.append(lunch_menu[4].split('/')[1])\n",
    "      side_4.append(lunch_menu[5])\n",
    "      side_5.append(str)\n",
    "      dessert_1.append(str)\n",
    "      dessert_2.append(str)\n",
    "      kimchi.append(lunch_menu[4].split('/')[0])  \n",
    "    #[밥 국 반찬3개 김치/반찬 반찬]\n",
    "    elif idx in [1160,1190,1203]:   \n",
    "      rice.append(lunch_menu[0])\n",
    "      soup.append(lunch_menu[1])\n",
    "      side_1.append(lunch_menu[2])\n",
    "      side_2.append(lunch_menu[3])\n",
    "      side_3.append(lunch_menu[4])\n",
    "      side_4.append(lunch_menu[5].split('/')[1])\n",
    "      side_5.append(lunch_menu[6])\n",
    "      dessert_1.append(str)\n",
    "      dessert_2.append(str)\n",
    "      kimchi.append(lunch_menu[5].split('/')[0])       \n",
    "    #[밥 국 반찬3개 김치/반찬]\n",
    "    elif idx in [94]:   \n",
    "      rice.append(lunch_menu[0])\n",
    "      soup.append(lunch_menu[1])\n",
    "      side_1.append(lunch_menu[2])\n",
    "      side_2.append(lunch_menu[3])\n",
    "      side_3.append(lunch_menu[4])\n",
    "      side_4.append(lunch_menu[5].split('/')[1])\n",
    "      side_5.append(str)\n",
    "      dessert_1.append(str)\n",
    "      dessert_2.append(str)\n",
    "      kimchi.append(lunch_menu[5].split('/')[0])       \n",
    "    #[밥 국 반찬3개 반찬/김치 반찬]\n",
    "    elif idx in [1189]:   \n",
    "      rice.append(lunch_menu[0])\n",
    "      soup.append(lunch_menu[1])\n",
    "      side_1.append(lunch_menu[2])\n",
    "      side_2.append(lunch_menu[3])\n",
    "      side_3.append(lunch_menu[4])\n",
    "      side_4.append(lunch_menu[5].split('/')[0])\n",
    "      side_5.append(lunch_menu[6])\n",
    "      dessert_1.append(str)\n",
    "      dessert_2.append(str)\n",
    "      kimchi.append(lunch_menu[5].split('/')[1])    \n",
    "    #[밥 국 반찬2개 김치/디저트 반찬]\n",
    "    elif idx in [1109,1149,1164]:   \n",
    "      rice.append(lunch_menu[0])\n",
    "      soup.append(lunch_menu[1])\n",
    "      side_1.append(lunch_menu[2])\n",
    "      side_2.append(lunch_menu[3])\n",
    "      side_3.append(lunch_menu[5])\n",
    "      side_4.append(str)\n",
    "      side_5.append(str)\n",
    "      dessert_1.append(lunch_menu[4].split('/')[1])\n",
    "      dessert_2.append(str)\n",
    "      kimchi.append(lunch_menu[4].split('/')[0]) \n",
    "    #[밥 국 반찬3개 김치/디저트 반찬]\n",
    "    elif idx in [1092]:   \n",
    "      rice.append(lunch_menu[0])\n",
    "      soup.append(lunch_menu[1])\n",
    "      side_1.append(lunch_menu[2])\n",
    "      side_2.append(lunch_menu[3])\n",
    "      side_3.append(lunch_menu[4])\n",
    "      side_4.append(lunch_menu[6])\n",
    "      side_5.append(str)\n",
    "      dessert_1.append(lunch_menu[5].split('/')[1])\n",
    "      dessert_2.append(str)\n",
    "      kimchi.append(lunch_menu[5].split('/')[0])       \n",
    "    #[밥 국 반찬 반찬/반찬 반찬 김치/디저트 반찬]\n",
    "    elif idx in [1093]:   \n",
    "      rice.append(lunch_menu[0])\n",
    "      soup.append(lunch_menu[1])\n",
    "      side_1.append(lunch_menu[2])\n",
    "      side_2.append(lunch_menu[3].split('/')[0])\n",
    "      side_3.append(lunch_menu[3].split('/')[1])\n",
    "      side_4.append(lunch_menu[4])\n",
    "      side_5.append(lunch_menu[6])\n",
    "      dessert_1.append(lunch_menu[5].split('/')[1])\n",
    "      dessert_2.append(str)\n",
    "      kimchi.append(lunch_menu[5].split('/')[0]) \n",
    "\n",
    "    #[밥 국 반찬2개 반찬/김치 반찬]\n",
    "    elif idx in [1146,1154]:   \n",
    "      rice.append(lunch_menu[0])\n",
    "      soup.append(lunch_menu[1])\n",
    "      side_1.append(lunch_menu[2])\n",
    "      side_2.append(lunch_menu[3])\n",
    "      side_3.append(lunch_menu[4].split('/')[0])\n",
    "      side_4.append(lunch_menu[5])\n",
    "      side_5.append(str)\n",
    "      dessert_1.append(str)\n",
    "      dessert_2.append(str)\n",
    "      kimchi.append(lunch_menu[4].split('/')[1]) \n",
    "    #[밥 국 반찬2개 김치 반찬]\n",
    "    elif idx in [1118,1121,1122,1123,1133,1136,1165,1167,1173,1194]:   \n",
    "      rice.append(lunch_menu[0])\n",
    "      soup.append(lunch_menu[1])\n",
    "      side_1.append(lunch_menu[2])\n",
    "      side_2.append(lunch_menu[3])\n",
    "      side_3.append(lunch_menu[5])\n",
    "      side_4.append(str)\n",
    "      side_5.append(str)\n",
    "      dessert_1.append(str)\n",
    "      dessert_2.append(str)\n",
    "      kimchi.append(lunch_menu[4]) \n",
    "    #[밥 국 반찬 김치 반찬]\n",
    "    elif idx in [1186]:   \n",
    "      rice.append(lunch_menu[0])\n",
    "      soup.append(lunch_menu[1])\n",
    "      side_1.append(lunch_menu[2])\n",
    "      side_2.append(lunch_menu[4])\n",
    "      side_3.append(str)\n",
    "      side_4.append(str)\n",
    "      side_5.append(str)\n",
    "      dessert_1.append(str)\n",
    "      dessert_2.append(str)\n",
    "      kimchi.append(lunch_menu[3])\n",
    "    #[밥 국 반찬4개]\n",
    "    elif idx in [1019,1137]:   \n",
    "      rice.append(lunch_menu[0])\n",
    "      soup.append(lunch_menu[1])\n",
    "      side_1.append(lunch_menu[2])\n",
    "      side_2.append(lunch_menu[3])\n",
    "      side_3.append(lunch_menu[4])\n",
    "      side_4.append(lunch_menu[5])\n",
    "      side_5.append(str)\n",
    "      dessert_1.append(str)\n",
    "      dessert_2.append(str)\n",
    "      kimchi.append(str)\n",
    "    #[밥 국 반찬3개]\n",
    "    elif idx in [1151]:   \n",
    "      rice.append(lunch_menu[0])\n",
    "      soup.append(lunch_menu[1])\n",
    "      side_1.append(lunch_menu[2])\n",
    "      side_2.append(lunch_menu[3])\n",
    "      side_3.append(lunch_menu[4])\n",
    "      side_4.append(str)\n",
    "      side_5.append(str)\n",
    "      dessert_1.append(str)\n",
    "      dessert_2.append(str)\n",
    "      kimchi.append(str)\n",
    "    #[밥 반찬2개 김치/디저트 반찬]\n",
    "    elif idx in [1111,1179]:   \n",
    "      rice.append(lunch_menu[0])\n",
    "      soup.append(str)\n",
    "      side_1.append(lunch_menu[1])\n",
    "      side_2.append(lunch_menu[2])\n",
    "      side_3.append(lunch_menu[4])\n",
    "      side_4.append(str)\n",
    "      side_5.append(str)\n",
    "      dessert_1.append(lunch_menu[3].split('/')[1])\n",
    "      dessert_2.append(str)\n",
    "      kimchi.append(lunch_menu[3].split('/')[0])    \n",
    "    elif idx in [1142]:   \n",
    "      rice.append(lunch_menu[0]+lunch_menu[1])\n",
    "      soup.append(lunch_menu[2])\n",
    "      side_1.append(lunch_menu[3])\n",
    "      side_2.append(lunch_menu[4])\n",
    "      side_3.append(lunch_menu[5])\n",
    "      side_4.append(lunch_menu[6].split('/')[1])\n",
    "      side_5.append(lunch_menu[7])\n",
    "      dessert_1.append(str)\n",
    "      dessert_2.append(str)\n",
    "      kimchi.append(lunch_menu[6].split('/')[0]) \n",
    "    elif idx in [1087]:   \n",
    "      rice.append(lunch_menu[0])\n",
    "      soup.append(lunch_menu[1])\n",
    "      side_1.append(lunch_menu[2])\n",
    "      side_2.append(lunch_menu[3])\n",
    "      side_3.append(lunch_menu[4])\n",
    "      side_4.append(lunch_menu[5].split('/')[0])\n",
    "      side_5.append(lunch_menu[6])\n",
    "      dessert_1.append(lunch_menu[5].split('/')[2])\n",
    "      dessert_2.append(str)\n",
    "      kimchi.append(lunch_menu[5].split('/')[1]) \n",
    "    #[밥 반찬3개 김치/디저트 반찬]\n",
    "    elif idx in [1147]:   \n",
    "      rice.append(lunch_menu[0])\n",
    "      soup.append(str)\n",
    "      side_1.append(lunch_menu[1])\n",
    "      side_2.append(lunch_menu[2])\n",
    "      side_3.append(lunch_menu[3])\n",
    "      side_4.append(lunch_menu[5])\n",
    "      side_5.append(str)\n",
    "      dessert_1.append(lunch_menu[4].split('/')[1])\n",
    "      dessert_2.append(str)\n",
    "      kimchi.append(lunch_menu[4].split('/')[0]) \n",
    "    elif idx in [1168]:   \n",
    "      rice.append(lunch_menu[0])\n",
    "      soup.append(lunch_menu[1])\n",
    "      side_1.append(lunch_menu[2])\n",
    "      side_2.append(lunch_menu[3])\n",
    "      side_3.append(lunch_menu[4]+' '+lunch_menu[5])\n",
    "      side_4.append(lunch_menu[7])\n",
    "      side_5.append(str)\n",
    "      dessert_1.append(str)\n",
    "      dessert_2.append(str)\n",
    "      kimchi.append(lunch_menu[6]) \n",
    "    #[국 반찬2개 반찬/김치 반찬]  \n",
    "    elif idx in [1171]:   \n",
    "      rice.append(str)\n",
    "      soup.append(lunch_menu[0])\n",
    "      side_1.append(lunch_menu[1])\n",
    "      side_2.append(lunch_menu[2])\n",
    "      side_3.append(lunch_menu[3].split('/')[0])\n",
    "      side_4.append(lunch_menu[4])\n",
    "      side_5.append(str)\n",
    "      dessert_1.append(str)\n",
    "      dessert_2.append(str)\n",
    "      kimchi.append(lunch_menu[3].split('/')[1])  \n",
    "    #[밥 반찬3개 김치 반찬]  \n",
    "    elif idx in [1181]:   \n",
    "      rice.append(lunch_menu[0])\n",
    "      soup.append(str)\n",
    "      side_1.append(lunch_menu[1])\n",
    "      side_2.append(lunch_menu[2])\n",
    "      side_3.append(lunch_menu[3])\n",
    "      side_4.append(lunch_menu[5])\n",
    "      side_5.append(str)\n",
    "      dessert_1.append(str)\n",
    "      dessert_2.append(str)\n",
    "      kimchi.append(lunch_menu[4])     \n",
    "    #[밥 반찬2개 김치 반찬]  \n",
    "    elif idx in [1182]:   \n",
    "      rice.append(lunch_menu[0])\n",
    "      soup.append(str)\n",
    "      side_1.append(lunch_menu[1])\n",
    "      side_2.append(lunch_menu[2])\n",
    "      side_3.append(lunch_menu[4])\n",
    "      side_4.append(str)\n",
    "      side_5.append(str)\n",
    "      dessert_1.append(str)\n",
    "      dessert_2.append(str)\n",
    "      kimchi.append(lunch_menu[3])    \n",
    "    #[국 반찬3개 김치 반찬]  \n",
    "    elif idx in [1182,1187]:   \n",
    "      rice.append(str)\n",
    "      soup.append(lunch_menu[0])\n",
    "      side_1.append(lunch_menu[1])\n",
    "      side_2.append(lunch_menu[2])\n",
    "      side_3.append(lunch_menu[3])\n",
    "      side_4.append(lunch_menu[5])\n",
    "      side_5.append(str)\n",
    "      dessert_1.append(str)\n",
    "      dessert_2.append(str)\n",
    "      kimchi.append(lunch_menu[4])      \n",
    "    elif idx in [762]:   \n",
    "      rice.append(lunch_menu[0])\n",
    "      soup.append(lunch_menu[1])\n",
    "      side_1.append(lunch_menu[2])\n",
    "      side_2.append(lunch_menu[3])\n",
    "      side_3.append(lunch_menu[4])\n",
    "      side_4.append(str)\n",
    "      side_5.append(str)\n",
    "      dessert_1.append(lunch_menu[5])\n",
    "      dessert_2.append(lunch_menu[6]+'/'+lunch_menu[7])\n",
    "      kimchi.append(lunch_menu[8])          \n",
    "    else:   #[밥 국 반찬3개 김치]\n",
    "      rice.append(lunch_menu[0])\n",
    "      soup.append(lunch_menu[1])\n",
    "      side_1.append(lunch_menu[2])\n",
    "      side_2.append(lunch_menu[3])\n",
    "      side_3.append(lunch_menu[4])\n",
    "      side_4.append(str)\n",
    "      side_5.append(str)\n",
    "      dessert_1.append(str)\n",
    "      dessert_2.append(str)\n",
    "      kimchi.append(lunch_menu[5])\n",
    "\n",
    "  print('######## 점심 데이터 구분 함수 종료 ########')\n",
    "\n",
    "  return rice, soup, side_1, side_2, side_3, side_4, side_5, dessert_1, dessert_2, kimchi\n",
    "#train 데이터 석식메뉴 카테고리별 분류\n",
    "def seperate_dinner_menu_list(df):\n",
    "\n",
    "  str = 'None'\n",
    "  dinner_menu_list = df['석식메뉴리스트']\n",
    "\n",
    "  print('######## 저녁 데이터 구분 함수 시작 ########')\n",
    "\n",
    "  #메뉴 종류별 구분 (10 피처)\n",
    "  rice = []\n",
    "  soup = []\n",
    "  side_1 = []\n",
    "  side_2 = []\n",
    "  side_3 = []\n",
    "  side_4 = []\n",
    "  side_5 = []\n",
    "  dessert_1 = []\n",
    "  dessert_2 = []\n",
    "  kimchi = []\n",
    "\n",
    "  for idx, dinner_menu in enumerate(dinner_menu_list):\n",
    "\n",
    "    # print(\"현재 인덱스 :\", idx)\n",
    "    # print(dinner_menu)\n",
    "\n",
    "    #[밥 국 반찬2개 디저트 김치]\n",
    "    if idx in [1,9,11,34,37,47,48,64,66,71,74,81,85,88,100,124,\n",
    "               134,144,154,170,173,188,203,220,228,230,238,240,\n",
    "               253,258,261,287,302,321,332,340,352,355,367,381,\n",
    "               386,404,435,455,473,481,486,488,493,496,513,523,\n",
    "               525,535,548,550,570,580,588,593,600,608,610,624,\n",
    "               629,639,647,653,656,678,683,686,693,701,726,729,\n",
    "               741,760,777,782,819,832,834,842,847,852,859,873,\n",
    "               901,906,921,946,952,966,1017,1042,1055,1065,110]:   \n",
    "      rice.append(dinner_menu[0])\n",
    "      soup.append(dinner_menu[1])\n",
    "      side_1.append(dinner_menu[2])\n",
    "      side_2.append(dinner_menu[3])\n",
    "      side_3.append(str)\n",
    "      side_4.append(str)\n",
    "      side_5.append(str)\n",
    "      dessert_1.append(dinner_menu[4])\n",
    "      dessert_2.append(str)\n",
    "      kimchi.append(dinner_menu[5])\n",
    "    #[밥 국 반찬2개 반찬/디저트 김치]\n",
    "    elif idx in [29,103,105,120,137,178,193,201,213,223,251,\n",
    "                 256,280,285,296,297,300,305,310,318,320,328,342,\n",
    "                 384,399,407,411,416,443,456,458,474,509,516,536,\n",
    "                 540,545,563,590,605,632,642,661,663,703,716,719,\n",
    "                 731,736,738,743,750,752,755,757,770,775,787,795,\n",
    "                 798,803,808,813,822,854,866,876,886,891,913,943,\n",
    "                 948,984,1009,1014,1155]:   \n",
    "      rice.append(dinner_menu[0])\n",
    "      soup.append(dinner_menu[1])\n",
    "      side_1.append(dinner_menu[2])\n",
    "      side_2.append(dinner_menu[3])\n",
    "      side_3.append(dinner_menu[4].split('/')[0])\n",
    "      side_4.append(str)\n",
    "      side_5.append(str)\n",
    "      dessert_1.append(dinner_menu[4].split('/')[1])\n",
    "      dessert_2.append(str)\n",
    "      kimchi.append(dinner_menu[5])    \n",
    "    #[밥 국 반찬2개 디저트/반찬 김치]\n",
    "    elif idx in [53,56,98,190,233,362,530,561,567,572,765,767,898,326]:   \n",
    "      rice.append(dinner_menu[0])\n",
    "      soup.append(dinner_menu[1])\n",
    "      side_1.append(dinner_menu[2])\n",
    "      side_2.append(dinner_menu[3])\n",
    "      side_3.append(dinner_menu[4].split('/')[1])\n",
    "      side_4.append(str)\n",
    "      side_5.append(str)\n",
    "      dessert_1.append(dinner_menu[4].split('/')[0])\n",
    "      dessert_2.append(str)\n",
    "      kimchi.append(dinner_menu[5]) \n",
    "    #[밥 국 반찬2개 디저트/디저트 김치]\n",
    "    elif idx in [62,69,113,132,246,267,483,964,1063]:   \n",
    "      rice.append(dinner_menu[0])\n",
    "      soup.append(dinner_menu[1])\n",
    "      side_1.append(dinner_menu[2])\n",
    "      side_2.append(dinner_menu[3])\n",
    "      side_3.append(str)\n",
    "      side_4.append(str)\n",
    "      side_5.append(str)\n",
    "      dessert_1.append(dinner_menu[4].split('/')[0])\n",
    "      dessert_2.append(dinner_menu[4].split('/')[1])\n",
    "      kimchi.append(dinner_menu[5]) \n",
    "    #[밥 국 반찬2개 김치]\n",
    "    elif idx in [214,273,1087,1094,1115,1119,1124,1127,1130,1131,1138,\n",
    "                 1145,1148,1152,1156,1169,1180,1182,1191,565]:   \n",
    "      rice.append(dinner_menu[0])\n",
    "      soup.append(dinner_menu[1])\n",
    "      side_1.append(dinner_menu[2])\n",
    "      side_2.append(dinner_menu[3])\n",
    "      side_3.append(str)\n",
    "      side_4.append(str)\n",
    "      side_5.append(str)\n",
    "      dessert_1.append(str)\n",
    "      dessert_2.append(str)\n",
    "      kimchi.append(dinner_menu[4]) \n",
    "    #[밥 국 반찬2개 김치/반찬]\n",
    "    elif idx in [1143]:   \n",
    "      rice.append(dinner_menu[0])\n",
    "      soup.append(dinner_menu[1])\n",
    "      side_1.append(dinner_menu[2])\n",
    "      side_2.append(dinner_menu[3])\n",
    "      side_3.append(dinner_menu[4].split('/')[1])\n",
    "      side_4.append(str)\n",
    "      side_5.append(str)\n",
    "      dessert_1.append(str)\n",
    "      dessert_2.append(str)\n",
    "      kimchi.append(dinner_menu[4].split('/')[0]) \n",
    "    #[밥 국 반찬3개 디저트 김치]\n",
    "    elif idx in [225,373,620,627,951,1038,1039,1041]:   \n",
    "      rice.append(dinner_menu[0])\n",
    "      soup.append(dinner_menu[1])\n",
    "      side_1.append(dinner_menu[2])\n",
    "      side_2.append(dinner_menu[3])\n",
    "      side_3.append(dinner_menu[4])\n",
    "      side_4.append(str)\n",
    "      side_5.append(str)\n",
    "      dessert_1.append(dinner_menu[5])\n",
    "      dessert_2.append(str)\n",
    "      kimchi.append(dinner_menu[6]) \n",
    "    #[밥 국 반찬3개 김치/반찬]\n",
    "    elif idx in [49,1141]:   \n",
    "      rice.append(dinner_menu[0])\n",
    "      soup.append(dinner_menu[1])\n",
    "      side_1.append(dinner_menu[2])\n",
    "      side_2.append(dinner_menu[3])\n",
    "      side_3.append(dinner_menu[4])\n",
    "      side_4.append(dinner_menu[5].split('/')[1])\n",
    "      side_5.append(str)\n",
    "      dessert_1.append(str)\n",
    "      dessert_2.append(str)\n",
    "      kimchi.append(dinner_menu[5].split('/')[0]) \n",
    "    #[밥 국 반찬3개 김치/디저트]\n",
    "    elif idx in [1105,1111,1117]:   \n",
    "      rice.append(dinner_menu[0])\n",
    "      soup.append(dinner_menu[1])\n",
    "      side_1.append(dinner_menu[2])\n",
    "      side_2.append(dinner_menu[3])\n",
    "      side_3.append(dinner_menu[4])\n",
    "      side_4.append(str)\n",
    "      side_5.append(str)\n",
    "      dessert_1.append(dinner_menu[5].split('/')[1])\n",
    "      dessert_2.append(str)\n",
    "      kimchi.append(dinner_menu[5].split('/')[0])\n",
    "    #[밥 국 반찬4개 김치]\n",
    "    elif idx in [331,394,396,1031,1032,1035,1037,1043,1068]:   \n",
    "      rice.append(dinner_menu[0])\n",
    "      soup.append(dinner_menu[1])\n",
    "      side_1.append(dinner_menu[2])\n",
    "      side_2.append(dinner_menu[3])\n",
    "      side_3.append(dinner_menu[4])\n",
    "      side_4.append(dinner_menu[5])\n",
    "      side_5.append(str)\n",
    "      dessert_1.append(str)\n",
    "      dessert_2.append(str)\n",
    "      kimchi.append(dinner_menu[6])\n",
    "    #[밥 국 반찬4개 디저트 김치]\n",
    "    elif idx in [971]:   \n",
    "      rice.append(dinner_menu[0])\n",
    "      soup.append(dinner_menu[1])\n",
    "      side_1.append(dinner_menu[2])\n",
    "      side_2.append(dinner_menu[3])\n",
    "      side_3.append(dinner_menu[4])\n",
    "      side_4.append(dinner_menu[5])\n",
    "      side_5.append(str)\n",
    "      dessert_1.append(dinner_menu[6])\n",
    "      dessert_2.append(str)\n",
    "      kimchi.append(dinner_menu[7])\n",
    "    #[밥 반찬 국 반찬 디저트 김치]\n",
    "    elif idx in [58]:   \n",
    "      rice.append(dinner_menu[0])\n",
    "      soup.append(dinner_menu[2])\n",
    "      side_1.append(dinner_menu[1])\n",
    "      side_2.append(dinner_menu[3])\n",
    "      side_3.append(str)\n",
    "      side_4.append(str)\n",
    "      side_5.append(str)\n",
    "      dessert_1.append(dinner_menu[4])\n",
    "      dessert_2.append(str)\n",
    "      kimchi.append(dinner_menu[5])\n",
    "    #[밥 국 반찬 반찬/디저트 반찬 김치]\n",
    "    elif idx in [128,130,208]:   \n",
    "      rice.append(dinner_menu[0])\n",
    "      soup.append(dinner_menu[1])\n",
    "      side_1.append(dinner_menu[2])\n",
    "      side_2.append(dinner_menu[3].split('/')[0])\n",
    "      side_3.append(dinner_menu[4])\n",
    "      side_4.append(str)\n",
    "      side_5.append(str)\n",
    "      dessert_1.append(dinner_menu[3].split('/')[1])\n",
    "      dessert_2.append(str)\n",
    "      kimchi.append(dinner_menu[5])\n",
    "    #[밥 국 반찬/디저트 반찬2개 김치]\n",
    "    elif idx in [185]:   \n",
    "      rice.append(dinner_menu[0])\n",
    "      soup.append(dinner_menu[1])\n",
    "      side_1.append(dinner_menu[2].split('/')[0])\n",
    "      side_2.append(dinner_menu[3])\n",
    "      side_3.append(dinner_menu[4])\n",
    "      side_4.append(str)\n",
    "      side_5.append(str)\n",
    "      dessert_1.append(dinner_menu[2].split('/')[1])\n",
    "      dessert_2.append(str)\n",
    "      kimchi.append(dinner_menu[5])\n",
    "    #[밥 국 반찬 디저트/디저트 반찬 김치]\n",
    "    elif idx in [215]:   \n",
    "      rice.append(dinner_menu[0])\n",
    "      soup.append(dinner_menu[1])\n",
    "      side_1.append(dinner_menu[2])\n",
    "      side_2.append(dinner_menu[4])\n",
    "      side_3.append(str)\n",
    "      side_4.append(str)\n",
    "      side_5.append(str)\n",
    "      dessert_1.append(dinner_menu[3].split('/')[0])\n",
    "      dessert_2.append(dinner_menu[3].split('/')[1])\n",
    "      kimchi.append(dinner_menu[5])\n",
    "    #[밥 국 반찬 디저트 디저트/반찬 김치]\n",
    "    elif idx in [270]:   \n",
    "      rice.append(dinner_menu[0])\n",
    "      soup.append(dinner_menu[1])\n",
    "      side_1.append(dinner_menu[2])\n",
    "      side_2.append(dinner_menu[4].split('/')[1])\n",
    "      side_3.append(str)\n",
    "      side_4.append(str)\n",
    "      side_5.append(str)\n",
    "      dessert_1.append(dinner_menu[3])\n",
    "      dessert_2.append(dinner_menu[4].split('/')[0])\n",
    "      kimchi.append(dinner_menu[5])\n",
    "    #[밥/국 반찬4개 김치]\n",
    "    elif idx in [93]:   \n",
    "      rice.append(dinner_menu[0].split('/')[0])\n",
    "      soup.append(dinner_menu[0].split('/')[1])\n",
    "      side_1.append(dinner_menu[1])\n",
    "      side_2.append(dinner_menu[2])\n",
    "      side_3.append(dinner_menu[3])\n",
    "      side_4.append(dinner_menu[4])\n",
    "      side_5.append(str)\n",
    "      dessert_1.append(str)\n",
    "      dessert_2.append(str)\n",
    "      kimchi.append(dinner_menu[5])\n",
    "    #[국 밥 반찬2개 디저트 김치]\n",
    "    elif idx in [345]:   \n",
    "      rice.append(dinner_menu[1])\n",
    "      soup.append(dinner_menu[0])\n",
    "      side_1.append(dinner_menu[2])\n",
    "      side_2.append(dinner_menu[3])\n",
    "      side_3.append(str)\n",
    "      side_4.append(str)\n",
    "      side_5.append(str)\n",
    "      dessert_1.append(dinner_menu[4])\n",
    "      dessert_2.append(str)\n",
    "      kimchi.append(dinner_menu[5])\n",
    "    #[밥 반찬 국 반찬2개 디저트 김치]\n",
    "    elif idx in [391]:   \n",
    "      rice.append(dinner_menu[0])\n",
    "      soup.append(dinner_menu[2])\n",
    "      side_1.append(dinner_menu[1])\n",
    "      side_2.append(dinner_menu[3])\n",
    "      side_3.append(dinner_menu[4])\n",
    "      side_4.append(str)\n",
    "      side_5.append(str)\n",
    "      dessert_1.append(dinner_menu[5])\n",
    "      dessert_2.append(str)\n",
    "      kimchi.append(dinner_menu[6])\n",
    "    #[밥 국 반찬 김치]\n",
    "    elif idx in [1172]:   \n",
    "      rice.append(dinner_menu[0])\n",
    "      soup.append(dinner_menu[1])\n",
    "      side_1.append(dinner_menu[2])\n",
    "      side_2.append(str)\n",
    "      side_3.append(str)\n",
    "      side_4.append(str)\n",
    "      side_5.append(str)\n",
    "      dessert_1.append(str)\n",
    "      dessert_2.append(str)\n",
    "      kimchi.append(dinner_menu[3])\n",
    "    #[밥 국 반찬 디저트 김치]\n",
    "    elif idx in [528,790]:   \n",
    "      rice.append(dinner_menu[0])\n",
    "      soup.append(dinner_menu[1])\n",
    "      side_1.append(dinner_menu[2])\n",
    "      side_2.append(str)\n",
    "      side_3.append(str)\n",
    "      side_4.append(str)\n",
    "      side_5.append(str)\n",
    "      dessert_1.append(dinner_menu[3])\n",
    "      dessert_2.append(str)\n",
    "      kimchi.append(dinner_menu[4])\n",
    "    #[밥 국 반찬 디저트 디저트 김치]\n",
    "    elif idx in [1013]:   \n",
    "      rice.append(dinner_menu[0])\n",
    "      soup.append(dinner_menu[1])\n",
    "      side_1.append(dinner_menu[2])\n",
    "      side_2.append(str)\n",
    "      side_3.append(str)\n",
    "      side_4.append(str)\n",
    "      side_5.append(str)\n",
    "      dessert_1.append(dinner_menu[3])\n",
    "      dessert_2.append(dinner_menu[4])\n",
    "      kimchi.append(dinner_menu[5])\n",
    "    #[밥 국 반찬 디저트 반찬 김치]\n",
    "    elif idx in [44,151,161,335,453,3,19]:   \n",
    "      rice.append(dinner_menu[0])\n",
    "      soup.append(dinner_menu[1])\n",
    "      side_1.append(dinner_menu[2])\n",
    "      side_2.append(dinner_menu[4])\n",
    "      side_3.append(str)\n",
    "      side_4.append(str)\n",
    "      side_5.append(str)\n",
    "      dessert_1.append(dinner_menu[3])\n",
    "      dessert_2.append(str)\n",
    "      kimchi.append(dinner_menu[5])\n",
    "    #[밥 국 반찬 x 반찬2개 김치]\n",
    "    elif idx in [15]:   \n",
    "      rice.append(dinner_menu[0])\n",
    "      soup.append(dinner_menu[1])\n",
    "      side_1.append(dinner_menu[2])\n",
    "      side_2.append(dinner_menu[4])\n",
    "      side_3.append(dinner_menu[5])\n",
    "      side_4.append(str)\n",
    "      side_5.append(str)\n",
    "      dessert_1.append(str)\n",
    "      dessert_2.append(str)\n",
    "      kimchi.append(dinner_menu[6])\n",
    "    #[]\n",
    "    elif idx in [95]:   \n",
    "      rice.append(dinner_menu[1])\n",
    "      soup.append(dinner_menu[2])\n",
    "      side_1.append(dinner_menu[3])\n",
    "      side_2.append(dinner_menu[4].split('/')[0])\n",
    "      side_3.append(str)\n",
    "      side_4.append(str)\n",
    "      side_5.append(str)\n",
    "      dessert_1.append(dinner_menu[4].split('/')[1])\n",
    "      dessert_2.append(str)\n",
    "      kimchi.append(dinner_menu[5])\n",
    "    #[밥 반찬2개 디저트/반찬 김치]\n",
    "    elif idx in [506]:   \n",
    "      rice.append(dinner_menu[0])\n",
    "      soup.append(str)\n",
    "      side_1.append(dinner_menu[1])\n",
    "      side_2.append(dinner_menu[2])\n",
    "      side_3.append(dinner_menu[3].split('/')[1])\n",
    "      side_4.append(str)\n",
    "      side_5.append(str)\n",
    "      dessert_1.append(dinner_menu[3].split('/')[0])\n",
    "      dessert_2.append(str)\n",
    "      kimchi.append(dinner_menu[4])\n",
    "    #[국 밥 반찬 반찬/디저트 김치]\n",
    "    elif idx in [780]:   \n",
    "      rice.append(dinner_menu[1])\n",
    "      soup.append(dinner_menu[0])\n",
    "      side_1.append(dinner_menu[2])\n",
    "      side_2.append(dinner_menu[3].split('/')[0])\n",
    "      side_3.append(str)\n",
    "      side_4.append(str)\n",
    "      side_5.append(str)\n",
    "      dessert_1.append(dinner_menu[3].split('/')[1])\n",
    "      dessert_2.append(str)\n",
    "      kimchi.append(dinner_menu[4])\n",
    "    #[]\n",
    "    elif idx in [1010]:   \n",
    "      rice.append(dinner_menu[0])\n",
    "      soup.append(dinner_menu[1])\n",
    "      side_1.append(dinner_menu[2])\n",
    "      side_2.append(dinner_menu[5])\n",
    "      side_3.append(dinner_menu[6])\n",
    "      side_4.append(str)\n",
    "      side_5.append(str)\n",
    "      dessert_1.append(str)\n",
    "      dessert_2.append(str)\n",
    "      kimchi.append(dinner_menu[7])\n",
    "    #[]\n",
    "    elif idx in [1027]:   \n",
    "      rice.append(dinner_menu[0])\n",
    "      soup.append(dinner_menu[3])\n",
    "      side_1.append(dinner_menu[1]+ ' '+dinner_menu[2])\n",
    "      side_2.append(dinner_menu[4])\n",
    "      side_3.append(dinner_menu[5])\n",
    "      side_4.append(dinner_menu[6])\n",
    "      side_5.append(str)\n",
    "      dessert_1.append(str)\n",
    "      dessert_2.append(str)\n",
    "      kimchi.append(dinner_menu[7])\n",
    "    #[]\n",
    "    elif idx in [1048]:   \n",
    "      rice.append(dinner_menu[0])\n",
    "      soup.append(dinner_menu[1])\n",
    "      side_1.append(dinner_menu[2])\n",
    "      side_2.append(dinner_menu[3])\n",
    "      side_3.append(str)\n",
    "      side_4.append(str)\n",
    "      side_5.append(str)\n",
    "      dessert_1.append('배')\n",
    "      dessert_2.append(dinner_menu[5])\n",
    "      kimchi.append(dinner_menu[6])\n",
    "    #[]\n",
    "    elif idx in [1086]:   \n",
    "      rice.append(dinner_menu[0])\n",
    "      soup.append(dinner_menu[2])\n",
    "      side_1.append(dinner_menu[3].split('/')[1])\n",
    "      side_2.append(dinner_menu[4].split('/')[0])\n",
    "      side_3.append(str)\n",
    "      side_4.append(str)\n",
    "      side_5.append(str)\n",
    "      dessert_1.append(dinner_menu[3].split('/')[0])\n",
    "      dessert_2.append(dinner_menu[4].split('/')[1])\n",
    "      kimchi.append(dinner_menu[5])\n",
    "    #[국 반찬3개 김치]\n",
    "    elif idx in [1137,1140]:   \n",
    "      rice.append(str)\n",
    "      soup.append(dinner_menu[0])\n",
    "      side_1.append(dinner_menu[1])\n",
    "      side_2.append(dinner_menu[2])\n",
    "      side_3.append(dinner_menu[3])\n",
    "      side_4.append(str)\n",
    "      side_5.append(str)\n",
    "      dessert_1.append(str)\n",
    "      dessert_2.append(str)\n",
    "      kimchi.append(dinner_menu[4])\n",
    "    #[밥 국 반찬/반찬 반찬2개]\n",
    "    elif idx in [1167]:   \n",
    "      rice.append(dinner_menu[0])\n",
    "      soup.append(dinner_menu[1])\n",
    "      side_1.append(dinner_menu[2].split('/')[0])\n",
    "      side_2.append(dinner_menu[2].split('/')[1])\n",
    "      side_3.append(dinner_menu[3])\n",
    "      side_4.append(dinner_menu[4])\n",
    "      side_5.append(str)\n",
    "      dessert_1.append(str)\n",
    "      dessert_2.append(str)\n",
    "      kimchi.append(str)\n",
    "    #[국 반찬2개 김치]\n",
    "    elif idx in [1184]:   \n",
    "      rice.append(str)\n",
    "      soup.append(dinner_menu[0])\n",
    "      side_1.append(dinner_menu[1])\n",
    "      side_2.append(dinner_menu[2])\n",
    "      side_3.append(str)\n",
    "      side_4.append(str)\n",
    "      side_5.append(str)\n",
    "      dessert_1.append(str)\n",
    "      dessert_2.append(str)\n",
    "      kimchi.append(dinner_menu[3])\n",
    "    #[밥 반찬3개 김치]\n",
    "    elif idx in [1187]:   \n",
    "      rice.append(dinner_menu[0])\n",
    "      soup.append(str)\n",
    "      side_1.append(dinner_menu[1])\n",
    "      side_2.append(dinner_menu[2])\n",
    "      side_3.append(dinner_menu[3])\n",
    "      side_4.append(str)\n",
    "      side_5.append(str)\n",
    "      dessert_1.append(str)\n",
    "      dessert_2.append(str)\n",
    "      kimchi.append(dinner_menu[4])\n",
    "    #[]\n",
    "    elif idx in [1189]:   \n",
    "      rice.append(dinner_menu[0])\n",
    "      soup.append(str)\n",
    "      side_1.append(dinner_menu[1])\n",
    "      side_2.append(dinner_menu[2])\n",
    "      side_3.append(dinner_menu[3])\n",
    "      side_4.append(dinner_menu[4])\n",
    "      side_5.append(str)\n",
    "      dessert_1.append(str)\n",
    "      dessert_2.append(str)\n",
    "      kimchi.append(str)\n",
    "    #[]\n",
    "    elif idx in [1204]:   \n",
    "      rice.append(dinner_menu[0])\n",
    "      soup.append(str)\n",
    "      side_1.append(dinner_menu[1])\n",
    "      side_2.append(dinner_menu[2])\n",
    "      side_3.append(dinner_menu[3])\n",
    "      side_4.append(str)\n",
    "      side_5.append(str)\n",
    "      dessert_1.append(str)\n",
    "      dessert_2.append(str)\n",
    "      kimchi.append(dinner_menu[4])\n",
    "    #[석식 없는 날]\n",
    "    elif idx in [204,224,244,262,281,306,392,412,424,449,468,\n",
    "                 492,510,529,549,571,586,589,609,633,648,687,\n",
    "                 872,890,912,932,955,\n",
    "                 327,346,667,706,730,747,766,786,809,828,853,\n",
    "                 973,993,1166,\n",
    "                 366]:   \n",
    "      rice.append('No dinner')\n",
    "      soup.append(str)\n",
    "      side_1.append(str)\n",
    "      side_2.append(str)\n",
    "      side_3.append(str)\n",
    "      side_4.append(str)\n",
    "      side_5.append(str)\n",
    "      dessert_1.append(str)\n",
    "      dessert_2.append(str)\n",
    "      kimchi.append(str)\n",
    "\n",
    "    #[밥 국 반찬3개 김치]\n",
    "    else:   \n",
    "      rice.append(dinner_menu[0])\n",
    "      soup.append(dinner_menu[1])\n",
    "      side_1.append(dinner_menu[2])\n",
    "      side_2.append(dinner_menu[3])\n",
    "      side_3.append(dinner_menu[4])\n",
    "      side_4.append(str)\n",
    "      side_5.append(str)\n",
    "      dessert_1.append(str)\n",
    "      dessert_2.append(str)\n",
    "      kimchi.append(dinner_menu[5])\n",
    "\n",
    "  print('######## 저녁 데이터 구분 함수 종료 ########')\n",
    "\n",
    "  return rice, soup, side_1, side_2, side_3, side_4, dessert_1, dessert_2, kimchi\n",
    "#test 데이터 중식메뉴 카테고리별 분류\n",
    "def seperate_lunch_menu_list_ts(df):\n",
    "\n",
    "  str = 'None'\n",
    "  lunch_menu_list = df['중식메뉴리스트']\n",
    "\n",
    "  print('######## 점심 데이터 구분 함수 시작 ########')\n",
    "\n",
    "  #메뉴 종류별 구분 (10 피처)\n",
    "  rice = []\n",
    "  soup = []\n",
    "  side_1 = []\n",
    "  side_2 = []\n",
    "  side_3 = []\n",
    "  side_4 = []\n",
    "  side_5 = []\n",
    "  dessert_1 = []\n",
    "  dessert_2 = []\n",
    "  kimchi = []\n",
    "\n",
    "  for idx, lunch_menu in enumerate(lunch_menu_list):\n",
    "\n",
    "    # print(\"현재 인덱스 :\", idx)\n",
    "    # print(lunch_menu)\n",
    "\n",
    "    #[밥 국 반찬3개 김치/디저트 반찬]\n",
    "    if idx in [4,12,16,22,30,36,40,43]:   \n",
    "      rice.append(lunch_menu[0])\n",
    "      soup.append(lunch_menu[1])\n",
    "      side_1.append(lunch_menu[2])\n",
    "      side_2.append(lunch_menu[3])\n",
    "      side_3.append(lunch_menu[4])\n",
    "      side_4.append(lunch_menu[6])\n",
    "      side_5.append(str)\n",
    "      dessert_1.append(lunch_menu[5].split('/')[1])\n",
    "      dessert_2.append(str)\n",
    "      kimchi.append(lunch_menu[5].split('/')[0])\n",
    "    #[밥 국 반찬2개 김치/디저트 반찬]\n",
    "    elif idx in [20]:   \n",
    "      rice.append(lunch_menu[0])\n",
    "      soup.append(lunch_menu[1])\n",
    "      side_1.append(lunch_menu[2])\n",
    "      side_2.append(lunch_menu[3])\n",
    "      side_3.append(lunch_menu[5])\n",
    "      side_4.append(str)\n",
    "      side_5.append(str)\n",
    "      dessert_1.append(lunch_menu[4].split('/')[1])\n",
    "      dessert_2.append(str)\n",
    "      kimchi.append(lunch_menu[4].split('/')[0])\n",
    "    #[밥 국 반찬2개 김치 반찬]\n",
    "    elif idx in [25,34,48]:   \n",
    "      rice.append(lunch_menu[0])\n",
    "      soup.append(lunch_menu[1])\n",
    "      side_1.append(lunch_menu[2])\n",
    "      side_2.append(lunch_menu[3])\n",
    "      side_3.append(lunch_menu[5])\n",
    "      side_4.append(str)\n",
    "      side_5.append(str)\n",
    "      dessert_1.append(str)\n",
    "      dessert_2.append(str)\n",
    "      kimchi.append(lunch_menu[4])\n",
    "    #[밥 국 반찬2개 디저트 김치 반찬]\n",
    "    elif idx in [27]:   \n",
    "      rice.append(lunch_menu[0])\n",
    "      soup.append(lunch_menu[1])\n",
    "      side_1.append(lunch_menu[2])\n",
    "      side_2.append(lunch_menu[3])\n",
    "      side_3.append(lunch_menu[6])\n",
    "      side_4.append(str)\n",
    "      side_5.append(str)\n",
    "      dessert_1.append(lunch_menu[4])\n",
    "      dessert_2.append(str)\n",
    "      kimchi.append(lunch_menu[5])\n",
    "    #[밥 국 반찬3개 김치 반찬]\n",
    "    else:   \n",
    "      rice.append(lunch_menu[0])\n",
    "      soup.append(lunch_menu[1])\n",
    "      side_1.append(lunch_menu[2])\n",
    "      side_2.append(lunch_menu[3])\n",
    "      side_3.append(lunch_menu[4])\n",
    "      side_4.append(lunch_menu[6])\n",
    "      side_5.append(str)\n",
    "      dessert_1.append(str)\n",
    "      dessert_2.append(str)\n",
    "      kimchi.append(lunch_menu[5])\n",
    "\n",
    "  print('######## 점심 데이터 구분 함수 종료 ########')\n",
    "\n",
    "  return rice, soup, side_1, side_2, side_3, side_4, side_5, dessert_1, dessert_2, kimchi\n",
    "#test 데이터 석식메뉴 카테고리별 분류\n",
    "def seperate_dinner_menu_list_ts(df):\n",
    "\n",
    "  str = 'None'\n",
    "  dinner_menu_list = df['석식메뉴리스트']\n",
    "\n",
    "  print('######## 저녁 데이터 구분 함수 시작 ########')\n",
    "\n",
    "  #메뉴 종류별 구분 (10 피처)\n",
    "  rice = []\n",
    "  soup = []\n",
    "  side_1 = []\n",
    "  side_2 = []\n",
    "  side_3 = []\n",
    "  side_4 = []\n",
    "  side_5 = []\n",
    "  dessert_1 = []\n",
    "  dessert_2 = []\n",
    "  kimchi = []\n",
    "\n",
    "  for idx, dinner_menu in enumerate(dinner_menu_list):\n",
    "    \n",
    "    # print(\"현재 인덱스 :\", idx)\n",
    "    # print(dinner_menu)\n",
    "\n",
    "    #[밥 국 반찬2개 김치]\n",
    "    if idx in [0,24,33]:   \n",
    "      rice.append(dinner_menu[0])\n",
    "      soup.append(dinner_menu[1])\n",
    "      side_1.append(dinner_menu[2])\n",
    "      side_2.append(dinner_menu[3])\n",
    "      side_3.append(str)\n",
    "      side_4.append(str)\n",
    "      side_5.append(str)\n",
    "      dessert_1.append(str)\n",
    "      dessert_2.append(str)\n",
    "      kimchi.append(dinner_menu[4])\n",
    "    #[밥 국 반찬2개 디저트 김치]\n",
    "    elif idx in [47]:   \n",
    "      rice.append(dinner_menu[0])\n",
    "      soup.append(dinner_menu[1])\n",
    "      side_1.append(dinner_menu[2])\n",
    "      side_2.append(dinner_menu[3])\n",
    "      side_3.append(str)\n",
    "      side_4.append(str)\n",
    "      side_5.append(str)\n",
    "      dessert_1.append(dinner_menu[4])\n",
    "      dessert_2.append(str)\n",
    "      kimchi.append(dinner_menu[5])\n",
    "    #[밥 반찬3개 김치]\n",
    "    elif idx in [22]:   \n",
    "      rice.append(dinner_menu[0])\n",
    "      soup.append(str)\n",
    "      side_1.append(dinner_menu[1])\n",
    "      side_2.append(dinner_menu[2])\n",
    "      side_3.append(dinner_menu[3])\n",
    "      side_4.append(str)\n",
    "      side_5.append(str)\n",
    "      dessert_1.append(str)\n",
    "      dessert_2.append(str)\n",
    "      kimchi.append(dinner_menu[4])\n",
    "    #[밥 국 반찬4개 김치]\n",
    "    elif idx in [32]:   \n",
    "      rice.append(dinner_menu[0])\n",
    "      soup.append(dinner_menu[1])\n",
    "      side_1.append(dinner_menu[2])\n",
    "      side_2.append(dinner_menu[3])\n",
    "      side_3.append(dinner_menu[4])\n",
    "      side_4.append(dinner_menu[5])\n",
    "      side_5.append(str)\n",
    "      dessert_1.append(str)\n",
    "      dessert_2.append(str)\n",
    "      kimchi.append(dinner_menu[6])\n",
    "    #[]\n",
    "    elif idx in [37]:   \n",
    "      rice.append(dinner_menu[0])\n",
    "      soup.append(dinner_menu[1])\n",
    "      side_1.append(dinner_menu[2])\n",
    "      side_2.append(dinner_menu[3])\n",
    "      side_3.append(dinner_menu[5])\n",
    "      side_4.append(dinner_menu[6])\n",
    "      side_5.append(str)\n",
    "      dessert_1.append(str)\n",
    "      dessert_2.append(str)\n",
    "      kimchi.append(dinner_menu[7])\n",
    "    #[밥 국 반찬3개 김치]\n",
    "    else:   \n",
    "      rice.append(dinner_menu[0])\n",
    "      soup.append(dinner_menu[1])\n",
    "      side_1.append(dinner_menu[2])\n",
    "      side_2.append(dinner_menu[3])\n",
    "      side_3.append(dinner_menu[4])\n",
    "      side_4.append(str)\n",
    "      side_5.append(str)\n",
    "      dessert_1.append(str)\n",
    "      dessert_2.append(str)\n",
    "      kimchi.append(dinner_menu[5])\n",
    "  \n",
    "  print('######## 저녁 데이터 구분 함수 종료 ########')\n",
    "\n",
    "  return rice, soup, side_1, side_2, side_3, side_4, dessert_1, dessert_2, kimchi\n",
    "  "
   ]
  },
  {
   "cell_type": "code",
   "execution_count": null,
   "metadata": {
    "ExecuteTime": {
     "end_time": "2022-02-24T15:53:47.027758Z",
     "start_time": "2022-02-24T15:53:34.758Z"
    },
    "id": "-_Oi2kN_z9lc"
   },
   "outputs": [],
   "source": [
    "#메뉴 리스트로 반환\n",
    "train_lunch['중식메뉴리스트'] = split_menu(train_lunch['중식메뉴'])\n",
    "train_dinner['석식메뉴리스트'] = split_menu(train_dinner['석식메뉴'])\n",
    "\n",
    "test_lunch['중식메뉴리스트'] = split_menu(test_lunch['중식메뉴'])\n",
    "test_dinner['석식메뉴리스트'] = split_menu(test_dinner['석식메뉴'])"
   ]
  },
  {
   "cell_type": "code",
   "execution_count": null,
   "metadata": {
    "ExecuteTime": {
     "end_time": "2022-02-24T15:53:47.030336Z",
     "start_time": "2022-02-24T15:53:34.771Z"
    },
    "colab": {
     "base_uri": "https://localhost:8080/"
    },
    "id": "PE8jZUURz9jC",
    "outputId": "b426698e-b233-4d7c-a58e-a2394c14d05b"
   },
   "outputs": [],
   "source": [
    "#train_lunch 카테고리별 분류\u0003\n",
    "rice, soup, side_1, side_2, side_3, side_4, side_5, dessert_1, dessert_2, kimchi = seperate_lunch_menu_list(train_lunch)\n",
    "\n",
    "train_lunch['밥'] = rice\n",
    "train_lunch['국'] = soup\n",
    "train_lunch['반찬1'] = side_1\n",
    "train_lunch['반찬2'] = side_2\n",
    "train_lunch['반찬3'] = side_3\n",
    "train_lunch['반찬4'] = side_4\n",
    "train_lunch['반찬5'] = side_5\n",
    "train_lunch['디저트1'] = dessert_1\n",
    "train_lunch['디저트2'] = dessert_2\n",
    "train_lunch['김치'] = kimchi"
   ]
  },
  {
   "cell_type": "code",
   "execution_count": null,
   "metadata": {
    "ExecuteTime": {
     "end_time": "2022-02-24T15:53:47.031757Z",
     "start_time": "2022-02-24T15:53:34.782Z"
    },
    "colab": {
     "base_uri": "https://localhost:8080/"
    },
    "id": "rXQqh63az9gn",
    "outputId": "acf8d860-78f7-4645-dc51-915de8c4f759"
   },
   "outputs": [],
   "source": [
    "#train_dinner 카테고리별 분류\u0003\n",
    "rice, soup, side_1, side_2, side_3, side_4, dessert_1, dessert_2, kimchi = seperate_dinner_menu_list(train_dinner)\n",
    "\n",
    "train_dinner['밥'] = rice\n",
    "train_dinner['국'] = soup\n",
    "train_dinner['반찬1'] = side_1\n",
    "train_dinner['반찬2'] = side_2\n",
    "train_dinner['반찬3'] = side_3\n",
    "train_dinner['반찬4'] = side_4\n",
    "train_dinner['디저트1'] = dessert_1\n",
    "train_dinner['디저트2'] = dessert_2\n",
    "train_dinner['김치'] = kimchi"
   ]
  },
  {
   "cell_type": "code",
   "execution_count": null,
   "metadata": {
    "ExecuteTime": {
     "end_time": "2022-02-24T15:53:47.033757Z",
     "start_time": "2022-02-24T15:53:34.794Z"
    },
    "colab": {
     "base_uri": "https://localhost:8080/"
    },
    "id": "9rn4Dh7a3Rw8",
    "outputId": "ad9947e4-9e7d-4c74-e40c-5f76634b4d5c"
   },
   "outputs": [],
   "source": [
    "#test_lunch 카테고리별 분류\u0003\n",
    "rice, soup, side_1, side_2, side_3, side_4, side_5, dessert_1, dessert_2, kimchi = seperate_lunch_menu_list_ts(test_lunch)\n",
    "\n",
    "test_lunch['밥'] = rice\n",
    "test_lunch['국'] = soup\n",
    "test_lunch['반찬1'] = side_1\n",
    "test_lunch['반찬2'] = side_2\n",
    "test_lunch['반찬3'] = side_3\n",
    "test_lunch['반찬4'] = side_4\n",
    "test_lunch['반찬5'] = side_5\n",
    "test_lunch['디저트1'] = dessert_1\n",
    "test_lunch['디저트2'] = dessert_2\n",
    "test_lunch['김치'] = kimchi"
   ]
  },
  {
   "cell_type": "code",
   "execution_count": null,
   "metadata": {
    "ExecuteTime": {
     "end_time": "2022-02-24T15:53:47.035757Z",
     "start_time": "2022-02-24T15:53:34.805Z"
    },
    "colab": {
     "base_uri": "https://localhost:8080/"
    },
    "id": "XI_nB3or3Tcq",
    "outputId": "fd8ed157-1bc7-40c9-f148-63db37ce6aa4"
   },
   "outputs": [],
   "source": [
    "#test_dinner 카테고리별 분류\u0003\n",
    "rice, soup, side_1, side_2, side_3, side_4, dessert_1, dessert_2, kimchi = seperate_dinner_menu_list_ts(test_dinner)\n",
    "\n",
    "test_dinner['밥'] = rice\n",
    "test_dinner['국'] = soup\n",
    "test_dinner['반찬1'] = side_1\n",
    "test_dinner['반찬2'] = side_2\n",
    "test_dinner['반찬3'] = side_3\n",
    "test_dinner['반찬4'] = side_4\n",
    "test_dinner['디저트1'] = dessert_1\n",
    "test_dinner['디저트2'] = dessert_2\n",
    "test_dinner['김치'] = kimchi"
   ]
  },
  {
   "cell_type": "code",
   "execution_count": null,
   "metadata": {
    "ExecuteTime": {
     "end_time": "2022-02-24T15:53:47.037758Z",
     "start_time": "2022-02-24T15:53:34.818Z"
    },
    "colab": {
     "base_uri": "https://localhost:8080/"
    },
    "id": "b4MwF_j4z9ea",
    "outputId": "b34f0837-2e18-4265-a63f-233fe32c9e19"
   },
   "outputs": [],
   "source": [
    "lunch_target.describe()"
   ]
  },
  {
   "cell_type": "markdown",
   "metadata": {
    "id": "gFeS89bWL_dq"
   },
   "source": [
    "- 반찬상위1, 반찬상위2, 반찬상위3 : 반찬1,2,3의 반찬 중 중식계가 1180이상인 반찬은 1값, 나머지는 0\n",
    "- 상위반찬수 : 반찬상위1 + 반찬상위2 + 반찬상위3"
   ]
  },
  {
   "cell_type": "code",
   "execution_count": null,
   "metadata": {
    "ExecuteTime": {
     "end_time": "2022-02-24T15:53:47.039757Z",
     "start_time": "2022-02-24T15:53:34.833Z"
    },
    "colab": {
     "base_uri": "https://localhost:8080/"
    },
    "id": "aQmxlKaJz9b8",
    "outputId": "d9d95324-7f38-42ee-8ab5-6e24b19e032a"
   },
   "outputs": [],
   "source": [
    "point = 1180\n",
    "\n",
    "for str in ['반찬상위1','반찬상위2','반찬상위3','상위반찬수']:\n",
    "       train_lunch[str] = np.zeros(len(train_lunch))\n",
    "\n",
    "ban1 = train_lunch[train_lunch.중식계 > point]['반찬1'].tolist()\n",
    "ban2 = train_lunch[train_lunch.중식계 > point]['반찬2'].tolist()\n",
    "ban3 = train_lunch[train_lunch.중식계 > point]['반찬3'].tolist()\n",
    "\n",
    "ban_75 = list(set(ban1 + ban2 + ban3))\n",
    "try:\n",
    "  ban_75.remove('None')\n",
    "except:\n",
    "  pass\n",
    "len(ban_75)"
   ]
  },
  {
   "cell_type": "code",
   "execution_count": null,
   "metadata": {
    "ExecuteTime": {
     "end_time": "2022-02-24T15:53:47.041758Z",
     "start_time": "2022-02-24T15:53:34.847Z"
    },
    "id": "mMof1pfMz9XB"
   },
   "outputs": [],
   "source": [
    "# train_lunch\n",
    "for idx, data in enumerate(train_lunch['반찬1']):\n",
    "  if data in ban_75:\n",
    "    train_lunch['반찬상위1'][idx]=1\n",
    "  else:\n",
    "    train_lunch['반찬상위1'][idx]=0\n",
    "    \n",
    "for idx, data in enumerate(train_lunch['반찬2']):\n",
    "  if data in ban_75:\n",
    "    train_lunch['반찬상위2'][idx]=1\n",
    "  else:\n",
    "    train_lunch['반찬상위2'][idx]=0\n",
    "\n",
    "for idx, data in enumerate(train_lunch['반찬3']):\n",
    "  if data in ban_75:\n",
    "    train_lunch['반찬상위3'][idx]=1\n",
    "  else:\n",
    "    train_lunch['반찬상위3'][idx]=0\n",
    "\n",
    "train_lunch[['반찬상위1','반찬상위2','반찬상위3','상위반찬수']]=train_lunch[['반찬상위1','반찬상위2','반찬상위3','상위반찬수']].astype(int)\n",
    "train_lunch['상위반찬수'] = train_lunch['반찬상위1']+train_lunch['반찬상위2']+train_lunch['반찬상위3']"
   ]
  },
  {
   "cell_type": "code",
   "execution_count": null,
   "metadata": {
    "ExecuteTime": {
     "end_time": "2022-02-24T15:53:47.044103Z",
     "start_time": "2022-02-24T15:53:34.859Z"
    },
    "id": "fOOrQuoKz9SG"
   },
   "outputs": [],
   "source": [
    "# test_lunch\n",
    "for str in ['반찬상위1','반찬상위2','반찬상위3','상위반찬수']:\n",
    "       test_lunch[str] = np.zeros(len(test_lunch))\n",
    "\n",
    "for idx, data in enumerate(test_lunch['반찬1']):\n",
    "  if data in ban_75:\n",
    "    test_lunch['반찬상위1'].iloc[idx]=1\n",
    "  else:\n",
    "    test_lunch['반찬상위1'].iloc[idx]=0\n",
    "    \n",
    "for idx, data in enumerate(test_lunch['반찬2']):\n",
    "  if data in ban_75:\n",
    "    test_lunch['반찬상위2'].iloc[idx]=1\n",
    "  else:\n",
    "    test_lunch['반찬상위2'].iloc[idx]=0\n",
    "\n",
    "for idx, data in enumerate(test_lunch['반찬3']):\n",
    "  if data in ban_75:\n",
    "    test_lunch['반찬상위3'].iloc[idx]=1\n",
    "  else:\n",
    "    test_lunch['반찬상위3'].iloc[idx]=0\n",
    "\n",
    "test_lunch[['반찬상위1','반찬상위2','반찬상위3','상위반찬수']]=test_lunch[['반찬상위1','반찬상위2','반찬상위3','상위반찬수']].astype(int)\n",
    "test_lunch['상위반찬수'] = test_lunch['반찬상위1']+test_lunch['반찬상위2']+test_lunch['반찬상위3']"
   ]
  },
  {
   "cell_type": "code",
   "execution_count": null,
   "metadata": {
    "ExecuteTime": {
     "end_time": "2022-02-24T15:53:47.045756Z",
     "start_time": "2022-02-24T15:53:34.871Z"
    },
    "colab": {
     "base_uri": "https://localhost:8080/"
    },
    "id": "6XI8I-SJ6OHk",
    "outputId": "1be9c3f0-5cde-49df-dcb0-88400bfeb9f6"
   },
   "outputs": [],
   "source": [
    "dinner_target.describe()"
   ]
  },
  {
   "cell_type": "markdown",
   "metadata": {
    "id": "LkVzDe2NMCvB"
   },
   "source": [
    "- 반찬상위1, 반찬상위2, 반찬상위3 : 반찬1,2,3의 반찬 중 석식계가 570이상인 반찬은 1값, 나머지는 0\n",
    "- 상위반찬수 : 반찬상위1 + 반찬상위2 + 반찬상위3"
   ]
  },
  {
   "cell_type": "code",
   "execution_count": null,
   "metadata": {
    "ExecuteTime": {
     "end_time": "2022-02-24T15:53:47.046790Z",
     "start_time": "2022-02-24T15:53:34.883Z"
    },
    "colab": {
     "base_uri": "https://localhost:8080/"
    },
    "id": "ZwQ3cm3Q6OD-",
    "outputId": "bf8475d4-8583-410a-db0d-1933a0c963dd"
   },
   "outputs": [],
   "source": [
    "for str in ['반찬상위1','반찬상위2','반찬상위3','상위반찬수']:\n",
    "       train_dinner[str] = np.zeros(len(train_dinner))\n",
    "\n",
    "point = 570\n",
    "\n",
    "ban1 = train_dinner[train_dinner.석식계 > point]['반찬1'].tolist()\n",
    "ban2 = train_dinner[train_dinner.석식계 > point]['반찬2'].tolist()\n",
    "ban3 = train_dinner[train_dinner.석식계 > point]['반찬3'].tolist()\n",
    "\n",
    "ban_75 = list(set(ban1 + ban2 + ban3))\n",
    "try:\n",
    "  ban_75.remove('None')\n",
    "except:\n",
    "  pass\n",
    "len(ban_75)"
   ]
  },
  {
   "cell_type": "code",
   "execution_count": null,
   "metadata": {
    "ExecuteTime": {
     "end_time": "2022-02-24T15:53:47.049755Z",
     "start_time": "2022-02-24T15:53:34.894Z"
    },
    "id": "zgEp9HER6OBx"
   },
   "outputs": [],
   "source": [
    "for idx, data in enumerate(train_dinner['반찬1']):\n",
    "  if data in ban_75:\n",
    "    train_dinner['반찬상위1'][idx]=1\n",
    "  else:\n",
    "    train_dinner['반찬상위1'][idx]=0\n",
    "    \n",
    "for idx, data in enumerate(train_dinner['반찬2']):\n",
    "  if data in ban_75:\n",
    "    train_dinner['반찬상위2'][idx]=1\n",
    "  else:\n",
    "    train_dinner['반찬상위2'][idx]=0\n",
    "\n",
    "for idx, data in enumerate(train_dinner['반찬3']):\n",
    "  if data in ban_75:\n",
    "    train_dinner['반찬상위3'][idx]=1\n",
    "  else:\n",
    "    train_dinner['반찬상위3'][idx]=0\n",
    "\n",
    "train_dinner[['반찬상위1','반찬상위2','반찬상위3','상위반찬수']]=train_dinner[['반찬상위1','반찬상위2','반찬상위3','상위반찬수']].astype(int)\n",
    "train_dinner['상위반찬수'] = train_dinner['반찬상위1']+train_dinner['반찬상위2']+train_dinner['반찬상위3']"
   ]
  },
  {
   "cell_type": "code",
   "execution_count": null,
   "metadata": {
    "ExecuteTime": {
     "end_time": "2022-02-24T15:53:47.051757Z",
     "start_time": "2022-02-24T15:53:34.906Z"
    },
    "id": "LXO5Ve746N_N"
   },
   "outputs": [],
   "source": [
    "for str in ['반찬상위1','반찬상위2','반찬상위3','상위반찬수']:\n",
    "       test_dinner[str] = np.zeros(len(test_dinner))\n",
    "\n",
    "for idx, data in enumerate(test_dinner['반찬1']):\n",
    "  if data in ban_75:\n",
    "    test_dinner['반찬상위1'].iloc[idx]=1\n",
    "  else:\n",
    "    test_dinner['반찬상위1'].iloc[idx]=0\n",
    "    \n",
    "for idx, data in enumerate(test_dinner['반찬2']):\n",
    "  if data in ban_75:\n",
    "    test_dinner['반찬상위2'].iloc[idx]=1\n",
    "  else:\n",
    "    test_dinner['반찬상위2'].iloc[idx]=0\n",
    "\n",
    "for idx, data in enumerate(test_dinner['반찬3']):\n",
    "  if data in ban_75:\n",
    "    test_dinner['반찬상위3'].iloc[idx]=1\n",
    "  else:\n",
    "    test_dinner['반찬상위3'].iloc[idx]=0\n",
    "\n",
    "test_dinner[['반찬상위1','반찬상위2','반찬상위3','상위반찬수']]=test_dinner[['반찬상위1','반찬상위2','반찬상위3','상위반찬수']].astype(int)\n",
    "test_dinner['상위반찬수'] = test_dinner['반찬상위1']+test_dinner['반찬상위2']+test_dinner['반찬상위3']"
   ]
  },
  {
   "cell_type": "code",
   "execution_count": null,
   "metadata": {
    "ExecuteTime": {
     "end_time": "2022-02-24T15:53:47.053756Z",
     "start_time": "2022-02-24T15:53:34.917Z"
    },
    "colab": {
     "base_uri": "https://localhost:8080/",
     "height": 206
    },
    "id": "q00BUIa-6N9A",
    "outputId": "48a87575-002b-4315-91ed-21ac3df88446"
   },
   "outputs": [],
   "source": [
    "test_dinner[['석식메뉴리스트','반찬상위1','반찬상위2','반찬상위3','상위반찬수']].head()"
   ]
  },
  {
   "cell_type": "markdown",
   "metadata": {
    "id": "6loSWLuaMHLh"
   },
   "source": [
    "- 식사가능비율 : 출근 / 본사정원수\n",
    "- 중식계비율 : 중식계 / 본사정원수\n",
    "- 석식계비율 : 석식계 / 본사정원수"
   ]
  },
  {
   "cell_type": "code",
   "execution_count": null,
   "metadata": {
    "ExecuteTime": {
     "end_time": "2022-02-24T15:53:47.055757Z",
     "start_time": "2022-02-24T15:53:34.931Z"
    },
    "id": "HSp-47U08GIB"
   },
   "outputs": [],
   "source": [
    "train_lunch['식사가능비율'] = train_lunch['출근']/pd.read_csv('/Users/hyojin/Desktop/miniProject/weather_corona_train.csv', encoding='cp949', index_col = 0)['본사정원수']\n",
    "train_dinner['식사가능비율'] = train_dinner['출근']/pd.read_csv('/Users/hyojin/Desktop/miniProject/weather_corona_train.csv', encoding='cp949', index_col = 0)['본사정원수']\n",
    "test_lunch['식사가능비율'] = test_lunch['출근']/pd.read_csv('/Users/hyojin/Desktop/miniProject/weather_corona_test.csv', encoding='cp949', index_col = 0)['본사정원수']\n",
    "test_dinner['식사가능비율'] = test_dinner['출근']/pd.read_csv('/Users/hyojin/Desktop/miniProject/weather_corona_test.csv', encoding='cp949', index_col = 0)['본사정원수']"
   ]
  },
  {
   "cell_type": "code",
   "execution_count": null,
   "metadata": {
    "ExecuteTime": {
     "end_time": "2022-02-24T15:53:47.057254Z",
     "start_time": "2022-02-24T15:53:34.942Z"
    },
    "id": "0kQ4zYZRAs-I"
   },
   "outputs": [],
   "source": [
    "train_lunch['중식계비율'] = train_lunch['중식계']/pd.read_csv('/Users/hyojin/Desktop/miniProject/weather_corona_train.csv', encoding='cp949', index_col = 0)['본사정원수']\n",
    "train_dinner['석식계비율'] = train_dinner['석식계']/pd.read_csv('/Users/hyojin/Desktop/miniProject/weather_corona_train.csv', encoding='cp949', index_col = 0)['본사정원수']"
   ]
  },
  {
   "cell_type": "code",
   "execution_count": null,
   "metadata": {
    "ExecuteTime": {
     "end_time": "2022-02-24T15:53:47.059797Z",
     "start_time": "2022-02-24T15:53:34.953Z"
    },
    "colab": {
     "base_uri": "https://localhost:8080/",
     "height": 235
    },
    "id": "84JCBwrD9Fw8",
    "outputId": "02b58715-6fa2-4fc3-90f0-01c9a9c95f18"
   },
   "outputs": [],
   "source": [
    "train_dinner.head()"
   ]
  },
  {
   "cell_type": "code",
   "execution_count": null,
   "metadata": {
    "ExecuteTime": {
     "end_time": "2022-02-24T15:53:47.061756Z",
     "start_time": "2022-02-24T15:53:34.964Z"
    },
    "colab": {
     "base_uri": "https://localhost:8080/"
    },
    "id": "JYa6e_rOAdIK",
    "outputId": "00a58917-968c-46bf-bde6-006770103696"
   },
   "outputs": [],
   "source": [
    "train_dinner.columns"
   ]
  },
  {
   "cell_type": "code",
   "execution_count": null,
   "metadata": {
    "ExecuteTime": {
     "end_time": "2022-02-24T15:53:47.063793Z",
     "start_time": "2022-02-24T15:53:34.976Z"
    },
    "id": "LR9d8vuPBipN"
   },
   "outputs": [],
   "source": [
    "lunch_target = train_lunch['중식계비율']\n",
    "train_lunch = train_lunch[['본사정원수', '월', '일','휴가비율', '출장비율', '야근비율', '재택비율', '식사가능비율',\n",
    "                           '요일', '평균기온(°C)', '일강수량(mm)', '밥_중식', '국_중식', '반찬_중식',\n",
    "                           '반찬상위1', '반찬상위2', '반찬상위3', '상위반찬수']]\n",
    "test_lunch = test_lunch[['본사정원수', '월', '일','휴가비율', '출장비율', '야근비율', '재택비율', '식사가능비율',\n",
    "                         '요일', '평균기온(°C)', '일강수량(mm)', '밥_중식', '국_중식', '반찬_중식',\n",
    "                         '반찬상위1', '반찬상위2', '반찬상위3', '상위반찬수']]"
   ]
  },
  {
   "cell_type": "code",
   "execution_count": null,
   "metadata": {
    "ExecuteTime": {
     "end_time": "2022-02-24T15:53:47.065796Z",
     "start_time": "2022-02-24T15:53:34.988Z"
    },
    "id": "mn_o2952Bimr"
   },
   "outputs": [],
   "source": [
    "dinner_target = train_dinner['석식계비율']\n",
    "train_dinner = train_dinner[['본사정원수', '공휴일전', '공휴일후', '휴가비율', '출장비율', '야근비율', '재택비율','식사가능비율',\n",
    "                             '평균기온(°C)', '일강수량(mm)', '요일', '요일_야근', '월', '일', '밥_석식', '국_석식', '반찬_석식', \n",
    "                             '반찬상위1', '반찬상위2', '반찬상위3', '상위반찬수']]\n",
    "test_dinner = test_dinner[['본사정원수', '공휴일전', '공휴일후', '휴가비율', '출장비율', '야근비율', '재택비율','식사가능비율',\n",
    "                           '평균기온(°C)', '일강수량(mm)', '요일', '요일_야근', '월', '일', '밥_석식', '국_석식', '반찬_석식', \n",
    "                           '반찬상위1', '반찬상위2', '반찬상위3', '상위반찬수']]"
   ]
  },
  {
   "cell_type": "markdown",
   "metadata": {
    "id": "rHTpe_i-E8hK"
   },
   "source": []
  },
  {
   "cell_type": "code",
   "execution_count": null,
   "metadata": {
    "id": "mZM5IpUjBijw"
   },
   "outputs": [],
   "source": []
  },
  {
   "cell_type": "code",
   "execution_count": null,
   "metadata": {
    "ExecuteTime": {
     "end_time": "2022-02-24T15:53:47.068019Z",
     "start_time": "2022-02-24T15:53:35.007Z"
    },
    "id": "tVSe0EalFe3i"
   },
   "outputs": [],
   "source": [
    "train_lunch_copy = train_lunch.copy()\n",
    "train_lunch_copy['중식계비율'] = lunch_target\n",
    "train_dinner_copy = train_dinner.copy()\n",
    "train_dinner_copy['중식계비율'] = dinner_target"
   ]
  },
  {
   "cell_type": "code",
   "execution_count": null,
   "metadata": {
    "ExecuteTime": {
     "end_time": "2022-02-24T15:53:47.070796Z",
     "start_time": "2022-02-24T15:53:35.022Z"
    },
    "colab": {
     "base_uri": "https://localhost:8080/",
     "height": 1000
    },
    "id": "Y-OY8PN3BigN",
    "outputId": "0fcdb76e-9573-453f-b884-bebcf9a2a2d2"
   },
   "outputs": [],
   "source": [
    "plt.figure(figsize=(23, 21))\n",
    "plt.title(\"Column별 상관관계\", y = 1.05, size = 40)\n",
    "sns.heatmap(train_lunch_copy.corr(),linewidths = 0.1, vmax = 1.0, square = True, cmap=plt.cm.PuBu, linecolor = \"white\", annot = True, annot_kws = {\"size\" : 14})"
   ]
  },
  {
   "cell_type": "code",
   "execution_count": null,
   "metadata": {
    "ExecuteTime": {
     "end_time": "2022-02-24T15:53:47.072762Z",
     "start_time": "2022-02-24T15:53:35.039Z"
    },
    "colab": {
     "base_uri": "https://localhost:8080/",
     "height": 1000
    },
    "id": "QZuUT37CFJoQ",
    "outputId": "d7fe4ecd-640e-4546-bd41-81db9f651241"
   },
   "outputs": [],
   "source": [
    "plt.figure(figsize=(23, 21))\n",
    "plt.title(\"Column별 상관관계\", y = 1.05, size = 40)\n",
    "sns.heatmap(train_dinner_copy.corr(),linewidths = 0.1, vmax = 1.0, square = True, cmap=plt.cm.PuBu, linecolor = \"white\", annot = True, annot_kws = {\"size\" : 14})"
   ]
  },
  {
   "cell_type": "markdown",
   "metadata": {
    "id": "Y_oGtPcGt6F1"
   },
   "source": [
    "# LGBM 학습"
   ]
  },
  {
   "cell_type": "code",
   "execution_count": null,
   "metadata": {
    "ExecuteTime": {
     "end_time": "2022-02-24T15:53:47.075796Z",
     "start_time": "2022-02-24T15:53:35.059Z"
    },
    "id": "BVjcsoDWGvni"
   },
   "outputs": [],
   "source": [
    "from sklearn.model_selection import KFold\n",
    "from sklearn.metrics import mean_absolute_error\n",
    "\n",
    "#교차검증\n",
    "kf = KFold(n_splits = 10, random_state = 718, shuffle = True)"
   ]
  },
  {
   "cell_type": "code",
   "execution_count": null,
   "metadata": {
    "ExecuteTime": {
     "end_time": "2022-02-24T15:53:47.077761Z",
     "start_time": "2022-02-24T15:53:35.077Z"
    },
    "colab": {
     "base_uri": "https://localhost:8080/"
    },
    "id": "OTLNNuRYGg9U",
    "outputId": "cbe7789f-7a58-42bb-a65b-7adfb059151b"
   },
   "outputs": [],
   "source": [
    "lgbm = LGBMRegressor(random_state = 718)\n",
    "\n",
    "n_iter = 0\n",
    "maes = []\n",
    "\n",
    "for train_idx, test_idx in kf.split(train_lunch):\n",
    "  X_train, X_test = train_lunch.loc[train_idx], train_lunch.loc[test_idx]\n",
    "  y_train, y_test = lunch_target.loc[train_idx], lunch_target.loc[test_idx]\n",
    "\n",
    "  lgbm.fit(X_train, y_train)\n",
    "  pred = lgbm.predict(X_test)\n",
    "  n_iter+=1\n",
    "\n",
    "  mae = mean_absolute_error(y_test, pred)\n",
    "  train_size = X_train.shape[0]\n",
    "  test_size = X_test.shape[0]\n",
    "  print(\"Fold: {0}   Val MAE: {1}   Train data Size: {2}   Test data Size: {3}\".format(n_iter, mae, train_size, test_size))\n",
    "  maes.append(mae)\n",
    "\n",
    "print(\"\\nLGBM 중식 평균 MAE: \", np.mean(maes))"
   ]
  },
  {
   "cell_type": "code",
   "execution_count": null,
   "metadata": {
    "ExecuteTime": {
     "end_time": "2022-02-24T15:53:47.080801Z",
     "start_time": "2022-02-24T15:53:35.094Z"
    },
    "id": "NAMJc0qVt6F1"
   },
   "outputs": [],
   "source": [
    "lunch_pred = lgbm.predict(test_lunch)\n",
    "lunch_pred = test_lunch['본사정원수'] * lunch_pred"
   ]
  },
  {
   "cell_type": "code",
   "execution_count": null,
   "metadata": {
    "ExecuteTime": {
     "end_time": "2022-02-24T15:53:47.083658Z",
     "start_time": "2022-02-24T15:53:35.110Z"
    },
    "colab": {
     "base_uri": "https://localhost:8080/"
    },
    "id": "Vovk5wdgHVf8",
    "outputId": "16c26d3f-4f26-4e16-e73c-47f9a9944811"
   },
   "outputs": [],
   "source": [
    "lgbm = LGBMRegressor(random_state = 718)\n",
    "\n",
    "n_iter = 0\n",
    "maes = []\n",
    "\n",
    "for train_idx, test_idx in kf.split(train_dinner):\n",
    "  X_train, X_test = train_dinner.loc[train_idx], train_dinner.loc[test_idx]\n",
    "  y_train, y_test = dinner_target.loc[train_idx], dinner_target.loc[test_idx]\n",
    "\n",
    "  lgbm.fit(X_train, y_train)\n",
    "  pred = lgbm.predict(X_test)\n",
    "  n_iter+=1\n",
    "\n",
    "  mae = mean_absolute_error(y_test, pred)\n",
    "  train_size = X_train.shape[0]\n",
    "  test_size = X_test.shape[0]\n",
    "  print(\"Fold: {0}   MAE: {1}   Train data Size: {2}   Test data Size: {3}\".format(n_iter, mae, train_size, test_size))\n",
    "  maes.append(mae)\n",
    "\n",
    "print(\"\\nLGBM 석식 평균 MAE: \", np.mean(maes))"
   ]
  },
  {
   "cell_type": "code",
   "execution_count": null,
   "metadata": {
    "ExecuteTime": {
     "end_time": "2022-02-24T15:53:47.086152Z",
     "start_time": "2022-02-24T15:53:35.128Z"
    },
    "id": "HjmYGINkHqvT"
   },
   "outputs": [],
   "source": [
    "dinner_pred = lgbm.predict(test_dinner)\n",
    "dinner_pred = test_lunch['본사정원수'] * dinner_pred"
   ]
  },
  {
   "cell_type": "code",
   "execution_count": null,
   "metadata": {
    "ExecuteTime": {
     "end_time": "2022-02-24T15:53:47.091994Z",
     "start_time": "2022-02-24T15:53:35.144Z"
    },
    "id": "XduXW77BH2mu"
   },
   "outputs": [],
   "source": [
    "sub['중식계'] = lunch_pred\n",
    "sub['석식계'] = dinner_pred\n",
    "# sub.to_csv(\"./submission_0224.csv\", index=False)"
   ]
  },
  {
   "cell_type": "code",
   "execution_count": null,
   "metadata": {
    "ExecuteTime": {
     "end_time": "2022-02-24T15:53:47.093999Z",
     "start_time": "2022-02-24T15:53:35.160Z"
    },
    "id": "ABKWZAUIw06x"
   },
   "outputs": [],
   "source": [
    "# 재민\n",
    "# 퍼블릭: 77.9578698042\n",
    "# 프라이빗: 116.5985327646"
   ]
  },
  {
   "cell_type": "code",
   "execution_count": null,
   "metadata": {
    "ExecuteTime": {
     "end_time": "2022-02-24T15:53:47.095994Z",
     "start_time": "2022-02-24T15:53:35.175Z"
    },
    "id": "ZN6KJLBat6F2"
   },
   "outputs": [],
   "source": [
    "# 효진\n",
    "# 퍼블릭: 107.4416094181\n",
    "# 프라이빗: 144.0492013692\t"
   ]
  },
  {
   "cell_type": "code",
   "execution_count": null,
   "metadata": {
    "id": "OR3QfntFMa2s"
   },
   "outputs": [],
   "source": []
  }
 ],
 "metadata": {
  "accelerator": "GPU",
  "colab": {
   "collapsed_sections": [],
   "name": "전처리_효진까지_쌓음",
   "provenance": []
  },
  "hide_input": false,
  "kernelspec": {
   "display_name": "Python 3",
   "language": "python",
   "name": "python3"
  },
  "language_info": {
   "codemirror_mode": {
    "name": "ipython",
    "version": 3
   },
   "file_extension": ".py",
   "mimetype": "text/x-python",
   "name": "python",
   "nbconvert_exporter": "python",
   "pygments_lexer": "ipython3",
   "version": "3.8.3"
  },
  "toc": {
   "base_numbering": 1,
   "nav_menu": {},
   "number_sections": true,
   "sideBar": true,
   "skip_h1_title": false,
   "title_cell": "Table of Contents",
   "title_sidebar": "Contents",
   "toc_cell": false,
   "toc_position": {},
   "toc_section_display": true,
   "toc_window_display": true
  },
  "varInspector": {
   "cols": {
    "lenName": 16,
    "lenType": 16,
    "lenVar": 40
   },
   "kernels_config": {
    "python": {
     "delete_cmd_postfix": "",
     "delete_cmd_prefix": "del ",
     "library": "var_list.py",
     "varRefreshCmd": "print(var_dic_list())"
    },
    "r": {
     "delete_cmd_postfix": ") ",
     "delete_cmd_prefix": "rm(",
     "library": "var_list.r",
     "varRefreshCmd": "cat(var_dic_list()) "
    }
   },
   "types_to_exclude": [
    "module",
    "function",
    "builtin_function_or_method",
    "instance",
    "_Feature"
   ],
   "window_display": false
  }
 },
 "nbformat": 4,
 "nbformat_minor": 1
}
