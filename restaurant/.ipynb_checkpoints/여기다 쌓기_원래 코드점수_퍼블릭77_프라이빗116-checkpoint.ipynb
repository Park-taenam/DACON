{
 "cells": [
  {
   "cell_type": "markdown",
   "metadata": {},
   "source": [
    "# 데이터 불러오기"
   ]
  },
  {
   "cell_type": "code",
   "execution_count": 1,
   "metadata": {
    "executionInfo": {
     "elapsed": 312,
     "status": "ok",
     "timestamp": 1644750861728,
     "user": {
      "displayName": "김재민",
      "photoUrl": "https://lh3.googleusercontent.com/a/default-user=s64",
      "userId": "14133616262020169823"
     },
     "user_tz": -540
    },
    "id": "Zi2zhM3esJNz"
   },
   "outputs": [],
   "source": [
    "import pandas as pd\n",
    "import numpy as np\n",
    "import warnings \n",
    "import os\n",
    "import holidays\n",
    "import datetime\n",
    "from datetime import timedelta\n",
    "\n",
    "\n",
    "\n",
    "from lightgbm import LGBMRegressor\n",
    "from xgboost import XGBRegressor\n",
    "\n",
    "from sklearn.preprocessing import LabelEncoder\n",
    "\n",
    "warnings.filterwarnings('ignore')\n"
   ]
  },
  {
   "cell_type": "code",
   "execution_count": 2,
   "metadata": {},
   "outputs": [],
   "source": [
    "import matplotlib.pyplot as plt\n",
    "import seaborn as sns\n",
    "import matplotlib\n",
    "import matplotlib.font_manager as fm\n",
    "matplotlib.rcParams['axes.unicode_minus'] = False\n",
    "\n",
    "\n",
    "plt.rc('font', family=fm.FontProperties(fname=\"c:/Windows/Fonts/malgun.ttf\").get_name())\n",
    "\n",
    "plt.style.use('fivethirtyeight')"
   ]
  },
  {
   "cell_type": "code",
   "execution_count": 81,
   "metadata": {},
   "outputs": [],
   "source": [
    "sample = pd.read_csv('sample_submission.csv')\n",
    "train = pd.read_csv('weather_corona_train.csv', encoding='cp949', index_col = 0)\n",
    "test = pd.read_csv('weather_corona_test.csv', encoding='cp949', index_col = 0)"
   ]
  },
  {
   "cell_type": "code",
   "execution_count": 82,
   "metadata": {},
   "outputs": [],
   "source": [
    "## 필요없는거 일단 지우기\n",
    "train = train.drop(['평균 지면온도(°C)','확진자수'],axis=1)\n",
    "test = test.drop(['평균 지면온도(°C)','확진자수'],axis=1)"
   ]
  },
  {
   "cell_type": "markdown",
   "metadata": {},
   "source": [
    "## 기온 피쳐"
   ]
  },
  {
   "cell_type": "code",
   "execution_count": 83,
   "metadata": {},
   "outputs": [
    {
     "name": "stdout",
     "output_type": "stream",
     "text": [
      "12.4 12.6\n"
     ]
    }
   ],
   "source": [
    "## 659인덱스가 널값이라서 양 옆 기온 확인\n",
    "print(train['평균기온(°C)'][658],train['평균기온(°C)'][660])"
   ]
  },
  {
   "cell_type": "code",
   "execution_count": 84,
   "metadata": {},
   "outputs": [],
   "source": [
    "# 양옆기온의 평균으로 결측치 채우기\n",
    "train['평균기온(°C)'][659]=12.5"
   ]
  },
  {
   "cell_type": "code",
   "execution_count": 85,
   "metadata": {},
   "outputs": [],
   "source": [
    "## 테스트데이터가 1~2월이기에 영하의 온도를 체크할 필요가 있어보임\n",
    "## 온도가 영하면 1, 영상이면 0으로 기온피쳐를 변경\n",
    "\n",
    "def cold(x):\n",
    "    if x<0:\n",
    "        return 1\n",
    "    else:\n",
    "        return 0\n",
    "\n",
    "train['평균기온(°C)'] = train['평균기온(°C)'].apply(cold)\n",
    "test['평균기온(°C)'] = test['평균기온(°C)'].apply(cold)"
   ]
  },
  {
   "cell_type": "code",
   "execution_count": 86,
   "metadata": {},
   "outputs": [
    {
     "name": "stdout",
     "output_type": "stream",
     "text": [
      "영하 중식계: 917.7386363636364 영하 석식계:  424.2386363636364 \n",
      " 영상 중식계:  888.1754700089525 영상 석식계:  464.7296329453894\n"
     ]
    }
   ],
   "source": [
    "## 중식은 영하온도면 더 먹고, 석식은 영하면 덜먹음  영하면 집에 빨리가나..?\n",
    "\n",
    "print('영하 중식계:',train.loc[train['평균기온(°C)']==1,'중식계'].mean(),\n",
    "     '영하 석식계: ',train.loc[train['평균기온(°C)']==1,'석식계'].mean(),'\\n',\n",
    "     '영상 중식계: ',train.loc[train['평균기온(°C)']==0,'중식계'].mean(),\n",
    "     '영상 석식계: ', train.loc[train['평균기온(°C)']==0,'석식계'].mean())"
   ]
  },
  {
   "cell_type": "markdown",
   "metadata": {},
   "source": [
    "## 강수량 피쳐"
   ]
  },
  {
   "cell_type": "code",
   "execution_count": 87,
   "metadata": {},
   "outputs": [],
   "source": [
    "# 널값은 0으로 채우자\n",
    "train['일강수량(mm)']=train['일강수량(mm)'].fillna(0)\n",
    "test['일강수량(mm)']=test['일강수량(mm)'].fillna(0)"
   ]
  },
  {
   "cell_type": "code",
   "execution_count": 88,
   "metadata": {},
   "outputs": [],
   "source": [
    "# 비가 안오면 0, 비가 온날은 1로 강수량 피쳐 변경\n",
    "def rain(x):\n",
    "    if x==0:\n",
    "        return 0\n",
    "    else:\n",
    "        return 1\n",
    "\n",
    "train['일강수량(mm)'] = train['일강수량(mm)'].apply(rain)\n",
    "test['일강수량(mm)'] = test['일강수량(mm)'].apply(rain)"
   ]
  },
  {
   "cell_type": "code",
   "execution_count": 89,
   "metadata": {},
   "outputs": [
    {
     "name": "stdout",
     "output_type": "stream",
     "text": [
      "비o 중식계: 924.0291262135922 비o 석식계:  463.1618122977346 \n",
      " 비x 중식계:  878.7142857142857 비x 석식계:  461.2935267857143\n"
     ]
    }
   ],
   "source": [
    "## 비가 올때 중,석식 다 많이 먹음 (차이는 중식이 더 큼)\n",
    "\n",
    "print('비o 중식계:',train.loc[train['일강수량(mm)']==1,'중식계'].mean(),\n",
    "     '비o 석식계: ',train.loc[train['일강수량(mm)']==1,'석식계'].mean(),'\\n',\n",
    "     '비x 중식계: ',train.loc[train['일강수량(mm)']==0,'중식계'].mean(),\n",
    "     '비x 석식계: ', train.loc[train['일강수량(mm)']==0,'석식계'].mean())"
   ]
  },
  {
   "cell_type": "markdown",
   "metadata": {},
   "source": [
    "## 날짜 피쳐 생성"
   ]
  },
  {
   "cell_type": "code",
   "execution_count": 90,
   "metadata": {},
   "outputs": [],
   "source": [
    "holiday_list = [] \n",
    "for i in range(2016,2022):\n",
    "    for date in holidays.KR(years=i).keys():  # 한국 공휴일 가져오기\n",
    "        holiday_list.append(date)"
   ]
  },
  {
   "cell_type": "code",
   "execution_count": 91,
   "metadata": {},
   "outputs": [],
   "source": [
    "holiday_before_list=[]\n",
    "for_mat='%Y-%m-%d'\n",
    "for i in holiday_list:\n",
    "    holiday_before_list.append((i - timedelta(days=1)).strftime(for_mat))\n",
    "        # i - timedelta(days=1): datetime에서 날짜 하루 빼기\n",
    "        # .strftime(for_mat): 포맷과 같은 형식으로 datetime에서 str로 변환"
   ]
  },
  {
   "cell_type": "code",
   "execution_count": 92,
   "metadata": {},
   "outputs": [],
   "source": [
    "def holiday_before(x):\n",
    "    if x in holiday_before_list:\n",
    "        return 1\n",
    "    else:\n",
    "        return 0\n",
    "train['공휴일전'] = train.일자.apply(holiday_before)\n",
    "test['공휴일전'] = test.일자.apply(holiday_before)"
   ]
  },
  {
   "cell_type": "code",
   "execution_count": 93,
   "metadata": {},
   "outputs": [],
   "source": [
    "holiday_after_list=[]\n",
    "for_mat='%Y-%m-%d'\n",
    "for i in holiday_list:\n",
    "    holiday_after_list.append((i + timedelta(days=1)).strftime(for_mat))"
   ]
  },
  {
   "cell_type": "code",
   "execution_count": 94,
   "metadata": {},
   "outputs": [],
   "source": [
    "def holiday_after(x):\n",
    "    if x in holiday_after_list:\n",
    "        return 1\n",
    "    else:\n",
    "        return 0\n",
    "train['공휴일후'] = train.일자.apply(holiday_after)\n",
    "test['공휴일후'] = test.일자.apply(holiday_after)"
   ]
  },
  {
   "cell_type": "code",
   "execution_count": 95,
   "metadata": {},
   "outputs": [],
   "source": [
    "## 누락된 것은 찾아서 넣음\n",
    "\n",
    "# 16-4-13 국회의원 선거\n",
    "train['공휴일전'][47]=1\n",
    "train['공휴일후'][48]=1\n",
    "\n",
    "# 17-5-9 대통령 선거\n",
    "train['공휴일전'][311]=1\n",
    "train['공휴일후'][312]=1\n",
    "\n",
    "# 18-6-13 지방선거\n",
    "train['공휴일전'][579]=1\n",
    "train['공휴일후'][580]=1\n",
    "\n",
    "# 20-4-15 국회의원 선거\n",
    "train['공휴일전'][1027]=1\n",
    "train['공휴일후'][1028]=1\n",
    "\n",
    "# 20-9-30 추석\n",
    "train['공휴일전'][1129]=1\n"
   ]
  },
  {
   "cell_type": "code",
   "execution_count": 96,
   "metadata": {
    "executionInfo": {
     "elapsed": 313,
     "status": "ok",
     "timestamp": 1644765607255,
     "user": {
      "displayName": "김재민",
      "photoUrl": "https://lh3.googleusercontent.com/a/default-user=s64",
      "userId": "14133616262020169823"
     },
     "user_tz": -540
    },
    "id": "6eULvtFBnzlq"
   },
   "outputs": [],
   "source": [
    "train.일자 = train.일자.astype('datetime64')\n",
    "test.일자 = test.일자.astype('datetime64')"
   ]
  },
  {
   "cell_type": "code",
   "execution_count": 97,
   "metadata": {
    "executionInfo": {
     "elapsed": 7,
     "status": "ok",
     "timestamp": 1644765608489,
     "user": {
      "displayName": "김재민",
      "photoUrl": "https://lh3.googleusercontent.com/a/default-user=s64",
      "userId": "14133616262020169823"
     },
     "user_tz": -540
    },
    "id": "qDLywtmisJOM"
   },
   "outputs": [],
   "source": [
    "train['월'] = train.일자.dt.month\n",
    "train['일'] = train.일자.dt.day\n",
    "\n",
    "test['월'] = test.일자.dt.month\n",
    "test['일'] = test.일자.dt.day"
   ]
  },
  {
   "cell_type": "code",
   "execution_count": 98,
   "metadata": {},
   "outputs": [],
   "source": [
    "def dayofweek1(x):\n",
    "    if '월' in x:\n",
    "        return 1\n",
    "    elif \"화\" in x:\n",
    "        return 2\n",
    "    elif \"수\" in x:\n",
    "        return 3\n",
    "    elif \"목\" in x:\n",
    "        return 4\n",
    "    else:\n",
    "        return 5\n",
    "\n",
    "train['요일'] = train.요일.apply(dayofweek1)\n",
    "test['요일'] = test.요일.apply(dayofweek1)"
   ]
  },
  {
   "cell_type": "code",
   "execution_count": 99,
   "metadata": {},
   "outputs": [],
   "source": [
    "## 석식계의 수, 금이 낮은 경향\n",
    "## 수,금요일은 1, 아닌날은 0인 피쳐 생성\n",
    "## 아마 이 피쳐는 석식에만 넣어도 될듯?\n",
    "\n",
    "def dayofweek2(x):\n",
    "    if x in [3,5]:\n",
    "        return 1\n",
    "    else:\n",
    "        return 0\n",
    "\n",
    "train['요일_야근'] = train.요일.apply(dayofweek2)\n",
    "test['요일_야근'] = test.요일.apply(dayofweek2)"
   ]
  },
  {
   "cell_type": "code",
   "execution_count": 100,
   "metadata": {},
   "outputs": [],
   "source": [
    "## 10, 20, 31 기준으로 일 초, 중, 말을 표현하는 피쳐생성\n",
    "def dayofweek3(x):\n",
    "    if x < 11:\n",
    "        return 1\n",
    "    elif x < 21:\n",
    "        return 2\n",
    "    else:\n",
    "        return 3\n",
    "\n",
    "train['일_초중말'] = train.일.apply(dayofweek3)\n",
    "test['일_초중말'] = test.일.apply(dayofweek3)"
   ]
  },
  {
   "cell_type": "markdown",
   "metadata": {},
   "source": [
    "## 인원 피쳐"
   ]
  },
  {
   "cell_type": "code",
   "execution_count": 44,
   "metadata": {
    "executionInfo": {
     "elapsed": 319,
     "status": "ok",
     "timestamp": 1644765614007,
     "user": {
      "displayName": "김재민",
      "photoUrl": "https://lh3.googleusercontent.com/a/default-user=s64",
      "userId": "14133616262020169823"
     },
     "user_tz": -540
    },
    "id": "J2voWfQpqUwP"
   },
   "outputs": [],
   "source": [
    "train['출근'] = train['본사정원수'] - train['본사출장자수'] - train['본사휴가자수'] - train['현본사소속재택근무자수']\n",
    "test['출근'] = test['본사정원수'] - test['본사출장자수'] - test['본사휴가자수'] - test['현본사소속재택근무자수']\n",
    "\n",
    "train['휴가비율'] = train['본사휴가자수']/train['본사정원수']\n",
    "test['휴가비율'] = test['본사휴가자수']/test['본사정원수']\n",
    "\n",
    "train['출장비율'] = train['본사출장자수']/train['본사정원수']\n",
    "test['출장비율'] = test['본사출장자수']/test['본사정원수']\n",
    "\n",
    "train['야근비율'] = train['본사시간외근무명령서승인건수']/train['출근']\n",
    "test['야근비율'] = test['본사시간외근무명령서승인건수']/test['출근']\n",
    "\n",
    "train['재택비율'] = train['현본사소속재택근무자수']/train['본사정원수']\n",
    "test['재택비율'] = test['현본사소속재택근무자수']/test['본사정원수']"
   ]
  },
  {
   "cell_type": "markdown",
   "metadata": {},
   "source": [
    "## 석식계 0인 행에는 메뉴가 없어서 없음으로 채움"
   ]
  },
  {
   "cell_type": "code",
   "execution_count": 45,
   "metadata": {},
   "outputs": [],
   "source": [
    "train['석식메뉴'][204]=\"없음 없음 없음 없음\"\n",
    "train['석식메뉴'][224]=\"없음 없음 없음 없음\"\n",
    "train['석식메뉴'][244]=\"없음 없음 없음 없음\"\n",
    "train['석식메뉴'][262]=\"없음 없음 없음 없음\"\n",
    "train['석식메뉴'][281]=\"없음 없음 없음 없음\"\n",
    "train['석식메뉴'][306]=\"없음 없음 없음 없음\"\n",
    "train['석식메뉴'][327]=\"없음 없음 없음 없음\"\n",
    "train['석식메뉴'][346]=\"없음 없음 없음 없음\"\n",
    "train['석식메뉴'][366]=\"없음 없음 없음 없음\"\n",
    "train['석식메뉴'][392]=\"없음 없음 없음 없음\"\n",
    "train['석식메뉴'][410]=\"없음 없음 없음 없음\"\n",
    "train['석식메뉴'][412]=\"없음 없음 없음 없음\"\n",
    "train['석식메뉴'][424]=\"없음 없음 없음 없음\"\n",
    "train['석식메뉴'][449]=\"없음 없음 없음 없음\"\n",
    "train['석식메뉴'][468]=\"없음 없음 없음 없음\"\n",
    "train['석식메뉴'][492]=\"없음 없음 없음 없음\"\n",
    "train['석식메뉴'][502]=\"없음 없음 없음 없음\"\n",
    "train['석식메뉴'][510]=\"없음 없음 없음 없음\"\n",
    "train['석식메뉴'][529]=\"없음 없음 없음 없음\"\n",
    "train['석식메뉴'][549]=\"없음 없음 없음 없음\"\n",
    "train['석식메뉴'][571]=\"없음 없음 없음 없음\"\n",
    "train['석식메뉴'][589]=\"없음 없음 없음 없음\"\n",
    "train['석식메뉴'][609]=\"없음 없음 없음 없음\"\n",
    "train['석식메뉴'][633]=\"없음 없음 없음 없음\"\n",
    "train['석식메뉴'][648]=\"없음 없음 없음 없음\"\n",
    "train['석식메뉴'][667]=\"없음 없음 없음 없음\"\n",
    "train['석식메뉴'][687]=\"없음 없음 없음 없음\"\n",
    "train['석식메뉴'][706]=\"없음 없음 없음 없음\"\n",
    "train['석식메뉴'][730]=\"없음 없음 없음 없음\"\n",
    "train['석식메뉴'][747]=\"없음 없음 없음 없음\"\n",
    "train['석식메뉴'][766]=\"없음 없음 없음 없음\"\n",
    "train['석식메뉴'][786]=\"없음 없음 없음 없음\"\n",
    "train['석식메뉴'][809]=\"없음 없음 없음 없음\"\n",
    "train['석식메뉴'][828]=\"없음 없음 없음 없음\"\n",
    "train['석식메뉴'][853]=\"없음 없음 없음 없음\"\n",
    "train['석식메뉴'][872]=\"없음 없음 없음 없음\"\n",
    "train['석식메뉴'][890]=\"없음 없음 없음 없음\"\n",
    "train['석식메뉴'][912]=\"없음 없음 없음 없음\"\n",
    "train['석식메뉴'][932]=\"없음 없음 없음 없음\"\n",
    "train['석식메뉴'][955]=\"없음 없음 없음 없음\"\n",
    "train['석식메뉴'][973]=\"없음 없음 없음 없음\"\n",
    "train['석식메뉴'][993]=\"없음 없음 없음 없음\"\n",
    "train['석식메뉴'][1166]=\"없음 없음 없음 없음\"\n",
    "train['석식메뉴'][586]=\"없음 없음 없음 없음\""
   ]
  },
  {
   "cell_type": "markdown",
   "metadata": {},
   "source": [
    "## 메뉴정리(중식)"
   ]
  },
  {
   "cell_type": "code",
   "execution_count": 46,
   "metadata": {},
   "outputs": [],
   "source": [
    "lunch = []\n",
    "for day in range(len(train)):\n",
    "    tmp = train.iloc[day, 8].split(' ') # 공백으로 문자열 구분 \n",
    "    tmp = ' '.join(tmp).split()    # 빈 원소 삭제\n",
    "\n",
    "    search = '('   # 원산지 정보는 삭제\n",
    "    for menu in tmp:\n",
    "        if search in menu:\n",
    "            tmp.remove(menu)\n",
    "    \n",
    "    lunch.append(tmp) "
   ]
  },
  {
   "cell_type": "code",
   "execution_count": 47,
   "metadata": {},
   "outputs": [],
   "source": [
    "bob=[]\n",
    "guk=[]\n",
    "banchan1=[]\n",
    "\n",
    "for i in range(len(train)):\n",
    "    if lunch[i][0]:\n",
    "        bob.append(lunch[i][0])\n",
    "    if lunch[i][1]:\n",
    "        guk.append(lunch[i][1])\n",
    "    if lunch[i][2]:\n",
    "        banchan1.append(lunch[i][2])"
   ]
  },
  {
   "cell_type": "code",
   "execution_count": 48,
   "metadata": {},
   "outputs": [],
   "source": [
    "train['밥_중식'] = bob\n",
    "train['국_중식'] = guk\n",
    "train['반찬_중식'] = banchan1"
   ]
  },
  {
   "cell_type": "code",
   "execution_count": 49,
   "metadata": {},
   "outputs": [],
   "source": [
    "def bob_handle(x):\n",
    "    if '쌀밥' in x:\n",
    "        return \"밥\"\n",
    "    elif \"카레\" in x:\n",
    "        return '카레'\n",
    "    elif \"비빔\" in x:\n",
    "        return '비빔밥'\n",
    "    elif (\"볶음\" in x) or (\"필라프\" in x) or (\"오므라이스\" in x):\n",
    "        return '볶음밥'    \n",
    "    elif \"곤드레\" in x:\n",
    "        return '곤드레밥' \n",
    "    elif \"콩나물\" in x:\n",
    "        return '콩나물밥' \n",
    "    elif \"영양밥\" in x:\n",
    "        return '영양밥'\n",
    "    elif \"오곡밥\" in x:\n",
    "        return '밥'\n",
    "    elif \"덮밥\" in x:\n",
    "        return '덮밥'\n",
    "    elif \"짜장\" in x:\n",
    "        return '짜장밥'\n",
    "    else:\n",
    "        return x\n",
    "\n",
    "train.밥_중식 = train.밥_중식.apply(bob_handle)"
   ]
  },
  {
   "cell_type": "code",
   "execution_count": 50,
   "metadata": {},
   "outputs": [],
   "source": [
    "def guk_handle(x):\n",
    "    if ('된장' in x) or ('냉이' in x) or ('배추' in x) or ('쑥' in x) or (\"아욱\" in x) or (\"근대\" in x):\n",
    "        return \"된장\"  \n",
    "    elif (\"김치\" in x) or (\"김칫\" in x):\n",
    "        return '김치'  \n",
    "    elif \"찌개\" in x:\n",
    "        return '찌개'\n",
    "    elif \"맑은\" in x:\n",
    "        return '맑은국'\n",
    "    elif \"해장\" in x:\n",
    "        return '해장국' \n",
    "    elif (\"장국\" in x) or (\"미소\" in x):\n",
    "        return '미소국'\n",
    "    elif \"스프\" in x:\n",
    "        return '스프'    \n",
    "    elif (\"만두\" in x) or (\"만둣\" in x):\n",
    "        return '만두국' \n",
    "    elif (\"소고기\" in x) or (\"쇠고기\" in x):\n",
    "        return '고깃국'\n",
    "    elif \"떡국\" in x:\n",
    "        return '떡국'\n",
    "    elif \"냉국\" in x:\n",
    "        return '냉국'\n",
    "    elif (\"북어\" in x) or ('북엇' in x) or ('황태' in x):\n",
    "        return '북어국' \n",
    "    elif \"미역\" in x:\n",
    "        return '미역국' \n",
    "    elif \"계란\" in x:\n",
    "        return '계란국' \n",
    "    elif \"들깨국\" in x:\n",
    "        return '들깨국'\n",
    "    elif \"두부국\" in x:\n",
    "        return '두부국' \n",
    "    elif \"버섯\" in x:\n",
    "        return '버섯국'\n",
    "    elif \"어묵\" in x:\n",
    "        return '어묵국'\n",
    "    elif \"육개장\" in x:\n",
    "        return '육개장' \n",
    "    elif \"콩나물\" in x:\n",
    "        return '콩나물국'\n",
    "    elif (\"국수\" in x) or (\"우동\" in x) :\n",
    "        return '면'\n",
    "    elif \"갈비탕\" in x:\n",
    "        return '갈비탕'  \n",
    "    elif \"국밥\" in x:\n",
    "        return '국밥'\n",
    "    elif (\"닭\" in x) or (\"삼계탕\" in x) or (\"백숙\" in x):\n",
    "        return '닭국'\n",
    "    elif \"탕\" in x:\n",
    "        return '탕'\n",
    "    elif \"국\" in x:\n",
    "        return '국'\n",
    "    else:\n",
    "        return x\n",
    "\n",
    "train.국_중식 = train.국_중식.apply(guk_handle)"
   ]
  },
  {
   "cell_type": "code",
   "execution_count": 51,
   "metadata": {},
   "outputs": [],
   "source": [
    "def banchan1_handle(x):\n",
    "    if '오징어' in x:\n",
    "        return \"오징어\"  \n",
    "    elif \"닭\" in x:\n",
    "        return '닭고기'\n",
    "    elif \"오리\" in x:\n",
    "        return '오리고기'\n",
    "    elif \"불고기\" in x:\n",
    "        return '불고기' \n",
    "    elif \"까스\" in x:\n",
    "        return '돈가스'\n",
    "    elif \"가스\" in x:\n",
    "        return '돈가스'    \n",
    "    elif \"치킨\" in x:\n",
    "        return '치킨' \n",
    "    elif \"장조림\" in x:\n",
    "        return '장조림'   \n",
    "    elif \"강정\" in x:\n",
    "        return '강정' \n",
    "    elif (\"고등어\" in x) or (\"삼치\" in x) or (\"갈치\" in x) or (\"굴비\" in x) or (\"가자미\" in x):\n",
    "        return '생선'\n",
    "    elif \"낙지\" in x:\n",
    "        return '낙지'  \n",
    "    elif \"주꾸미\" in x:\n",
    "        return '주꾸미' \n",
    "    elif (\"돼지갈비\" in x) or (\"소갈비\" in x):\n",
    "        return '갈비'\n",
    "    elif \"스테이크\" in x:\n",
    "        if \"함박\" in x:\n",
    "            return '함박스테이크'\n",
    "        else:\n",
    "            return '스테이크'\n",
    "    elif \"함박\" in x:\n",
    "        return '함박스테이크'\n",
    "    elif (\"돈육\" in x) or (\"육\" in x) or (\"삼겹살\" in x) or (\"돼지\" in x) or (\"보쌈\" in x):\n",
    "        return '돼지고기'\n",
    "    elif \"순대\" in x:\n",
    "        return '순대'\n",
    "    elif \"탕수\" in x:\n",
    "        return '탕수'\n",
    "    elif \"새우\" in x:\n",
    "        return '새우'\n",
    "    else:\n",
    "        return x\n",
    "\n",
    "train. 반찬_중식 = train.반찬_중식.apply(banchan1_handle)"
   ]
  },
  {
   "cell_type": "code",
   "execution_count": 52,
   "metadata": {},
   "outputs": [],
   "source": [
    "lunch_test = []\n",
    "for day in range(len(test)):\n",
    "    tmp = test.iloc[day, 8].split(' ') # 공백으로 문자열 구분 \n",
    "    tmp = ' '.join(tmp).split()    # 빈 원소 삭제\n",
    "\n",
    "    search = '('   # 원산지 정보는 삭제\n",
    "    for menu in tmp:\n",
    "        if search in menu:\n",
    "            tmp.remove(menu)\n",
    "    \n",
    "    lunch_test.append(tmp) \n",
    "\n",
    "bob_test=[]\n",
    "guk_test=[]\n",
    "banchan1_test=[]\n",
    "\n",
    "for i in range(len(test)):\n",
    "    if lunch_test[i][0]:\n",
    "        bob_test.append(lunch_test[i][0])\n",
    "    if lunch_test[i][1]:\n",
    "        guk_test.append(lunch_test[i][1])\n",
    "    if lunch_test[i][2]:\n",
    "        banchan1_test.append(lunch_test[i][2])\n",
    "\n",
    "test['밥_중식'] = bob_test\n",
    "test['국_중식'] = guk_test\n",
    "test['반찬_중식'] = banchan1_test"
   ]
  },
  {
   "cell_type": "code",
   "execution_count": 53,
   "metadata": {},
   "outputs": [],
   "source": [
    "test.밥_중식 = test.밥_중식.apply(bob_handle)\n",
    "test.국_중식 = test.국_중식.apply(guk_handle)\n",
    "test. 반찬_중식 = test.반찬_중식.apply(banchan1_handle)"
   ]
  },
  {
   "cell_type": "markdown",
   "metadata": {},
   "source": [
    "## 메뉴정리(저녁)"
   ]
  },
  {
   "cell_type": "code",
   "execution_count": 54,
   "metadata": {},
   "outputs": [],
   "source": [
    "dinner = []\n",
    "for day in range(len(train)):\n",
    "    tmp = train.iloc[day, 9].split(' ') # 공백으로 문자열 구분 \n",
    "    tmp = ' '.join(tmp).split()    # 빈 원소 삭제\n",
    "\n",
    "    search = '('   # 원산지 정보는 삭제\n",
    "    for menu in tmp:\n",
    "        if search in menu:\n",
    "            tmp.remove(menu)\n",
    "    \n",
    "    dinner.append(tmp) "
   ]
  },
  {
   "cell_type": "code",
   "execution_count": 55,
   "metadata": {},
   "outputs": [],
   "source": [
    "bob=[]\n",
    "guk=[]\n",
    "banchan=[]\n",
    "\n",
    "for i in range(len(train)):\n",
    "    if dinner[i][0]:\n",
    "        bob.append(dinner[i][0])\n",
    "    if dinner[i][1]:\n",
    "        guk.append(dinner[i][1])\n",
    "    if dinner[i][2]:\n",
    "        banchan.append(dinner[i][2])"
   ]
  },
  {
   "cell_type": "code",
   "execution_count": 56,
   "metadata": {},
   "outputs": [],
   "source": [
    "train['밥_석식'] = bob\n",
    "train['국_석식'] = guk\n",
    "train['반찬_석식'] = banchan"
   ]
  },
  {
   "cell_type": "code",
   "execution_count": 57,
   "metadata": {},
   "outputs": [],
   "source": [
    "train.밥_석식 = train.밥_석식.apply(bob_handle)\n",
    "train.국_석식 = train.국_석식.apply(guk_handle)\n",
    "train. 반찬_석식 = train.반찬_석식.apply(banchan1_handle)"
   ]
  },
  {
   "cell_type": "code",
   "execution_count": 58,
   "metadata": {},
   "outputs": [],
   "source": [
    "dinner_test = []\n",
    "for day in range(len(test)):\n",
    "    tmp = test.iloc[day, 9].split(' ') # 공백으로 문자열 구분 \n",
    "    tmp = ' '.join(tmp).split()    # 빈 원소 삭제\n",
    "\n",
    "    search = '('   # 원산지 정보는 삭제\n",
    "    for menu in tmp:\n",
    "        if search in menu:\n",
    "            tmp.remove(menu)\n",
    "    \n",
    "    dinner_test.append(tmp) \n",
    "\n",
    "bob_test=[]\n",
    "guk_test=[]\n",
    "banchan1_test=[]\n",
    "\n",
    "for i in range(len(test)):\n",
    "    if dinner_test[i][0]:\n",
    "        bob_test.append(dinner_test[i][0])\n",
    "    if dinner_test[i][1]:\n",
    "        guk_test.append(dinner_test[i][1])\n",
    "    if dinner_test[i][2]:\n",
    "        banchan1_test.append(dinner_test[i][2])\n",
    "\n",
    "test['밥_석식'] = bob_test\n",
    "test['국_석식'] = guk_test\n",
    "test['반찬_석식'] = banchan1_test"
   ]
  },
  {
   "cell_type": "code",
   "execution_count": 59,
   "metadata": {},
   "outputs": [],
   "source": [
    "## 이거는 누락되어서 넣어줌\n",
    "test.국_석식[22]='수제오떡탕'\n",
    "test.반찬_석식[22]='매운족발볶음'"
   ]
  },
  {
   "cell_type": "code",
   "execution_count": 60,
   "metadata": {},
   "outputs": [],
   "source": [
    "test.밥_석식 = test.밥_석식.apply(bob_handle)\n",
    "test.국_석식 = test.국_석식.apply(guk_handle)\n",
    "test. 반찬_석식 = test.반찬_석식.apply(banchan1_handle)"
   ]
  },
  {
   "cell_type": "markdown",
   "metadata": {},
   "source": [
    "## 모델링"
   ]
  },
  {
   "cell_type": "code",
   "execution_count": 61,
   "metadata": {},
   "outputs": [
    {
     "data": {
      "text/plain": [
       "Index(['일자', '요일', '본사정원수', '본사휴가자수', '본사출장자수', '본사시간외근무명령서승인건수',\n",
       "       '현본사소속재택근무자수', '조식메뉴', '중식메뉴', '석식메뉴', '중식계', '석식계', '평균기온(°C)',\n",
       "       '일강수량(mm)', '공휴일전', '공휴일후', '월', '일', '출근', '휴가비율', '출장비율', '야근비율',\n",
       "       '재택비율', '밥_중식', '국_중식', '반찬_중식', '밥_석식', '국_석식', '반찬_석식'],\n",
       "      dtype='object')"
      ]
     },
     "execution_count": 61,
     "metadata": {},
     "output_type": "execute_result"
    }
   ],
   "source": [
    "train.columns"
   ]
  },
  {
   "cell_type": "code",
   "execution_count": 64,
   "metadata": {},
   "outputs": [],
   "source": [
    "## 중식\n",
    "X1_train = train[['월','일','출근', '휴가비율', '출장비율', '야근비율', '재택비율', '요일','평균기온(°C)','일강수량(mm)',\n",
    "                 '밥_중식', '국_중식', '반찬_중식']]\n",
    "\n",
    "y1_train = train.중식계\n",
    "\n",
    "X1_test = test[['월','일','출근', '휴가비율', '출장비율', '야근비율', '재택비율', '요일','평균기온(°C)','일강수량(mm)',\n",
    "                 '밥_중식', '국_중식', '반찬_중식']]"
   ]
  },
  {
   "cell_type": "code",
   "execution_count": 65,
   "metadata": {},
   "outputs": [],
   "source": [
    "## 석식\n",
    "X2_train = train[['공휴일전', '공휴일후', '월', '일', '출근', '휴가비율', '출장비율','평균기온(°C)','일강수량(mm)',\n",
    "                  '야근비율', '재택비율', '요일','밥_석식', '국_석식', '반찬_석식']]\n",
    "\n",
    "y2_train = train.석식계\n",
    "\n",
    "X2_test = test[['공휴일전', '공휴일후', '월', '일', '출근', '휴가비율', '출장비율','평균기온(°C)','일강수량(mm)',\n",
    "                  '야근비율', '재택비율', '요일','밥_석식', '국_석식', '반찬_석식']]"
   ]
  },
  {
   "cell_type": "code",
   "execution_count": 66,
   "metadata": {},
   "outputs": [],
   "source": [
    "#index_0 = train[train['석식계']==0].index\n",
    "#X2_train = X2_train.drop(index_0)\n",
    "#y2_train = y2_train.drop(index_0)\n",
    "\n",
    "## 석식계가 0인 행을 지우면 점수가 더 떨어진다. 내가한거 기준"
   ]
  },
  {
   "cell_type": "code",
   "execution_count": 67,
   "metadata": {},
   "outputs": [],
   "source": [
    "#print(X2_train.shape,y2_train.shape)"
   ]
  },
  {
   "cell_type": "markdown",
   "metadata": {},
   "source": [
    "### 인코딩"
   ]
  },
  {
   "cell_type": "code",
   "execution_count": 68,
   "metadata": {},
   "outputs": [],
   "source": [
    "cat_features=['밥_중식','국_중식','반찬_중식']\n",
    "features = pd.concat([X1_train, X1_test]).reset_index(drop=True)\n",
    "\n",
    "for i in cat_features:\n",
    "    features[i] = LabelEncoder().fit_transform(features[i])\n",
    "    \n",
    "X1_train = features[:X1_train.shape[0]]\n",
    "X1_test = features[X1_train.shape[0]:]"
   ]
  },
  {
   "cell_type": "code",
   "execution_count": 69,
   "metadata": {},
   "outputs": [],
   "source": [
    "cat_features2=['밥_석식','국_석식','반찬_석식']\n",
    "features2 = pd.concat([X2_train, X2_test]).reset_index(drop=True)\n",
    "\n",
    "for i in cat_features2:\n",
    "    features2[i] = LabelEncoder().fit_transform(features2[i])\n",
    "    \n",
    "X2_train = features2[:X2_train.shape[0]]\n",
    "X2_test = features2[X2_train.shape[0]:]"
   ]
  },
  {
   "cell_type": "code",
   "execution_count": null,
   "metadata": {},
   "outputs": [],
   "source": []
  },
  {
   "cell_type": "markdown",
   "metadata": {},
   "source": [
    "## 학습"
   ]
  },
  {
   "cell_type": "code",
   "execution_count": 70,
   "metadata": {},
   "outputs": [],
   "source": [
    "model1 = LGBMRegressor(random_state=42)\n",
    "model2 = LGBMRegressor(random_state=42)"
   ]
  },
  {
   "cell_type": "code",
   "execution_count": 71,
   "metadata": {
    "colab": {
     "base_uri": "https://localhost:8080/"
    },
    "executionInfo": {
     "elapsed": 457,
     "status": "ok",
     "timestamp": 1644765645361,
     "user": {
      "displayName": "김재민",
      "photoUrl": "https://lh3.googleusercontent.com/a/default-user=s64",
      "userId": "14133616262020169823"
     },
     "user_tz": -540
    },
    "id": "40UAakJ1sJOk",
    "outputId": "0940f38a-d95b-4969-b57f-cf35a75146b2"
   },
   "outputs": [
    {
     "data": {
      "text/plain": [
       "LGBMRegressor(random_state=42)"
      ]
     },
     "execution_count": 71,
     "metadata": {},
     "output_type": "execute_result"
    }
   ],
   "source": [
    "model1.fit(X1_train, y1_train)"
   ]
  },
  {
   "cell_type": "code",
   "execution_count": 72,
   "metadata": {},
   "outputs": [
    {
     "data": {
      "text/plain": [
       "LGBMRegressor(random_state=42)"
      ]
     },
     "execution_count": 72,
     "metadata": {},
     "output_type": "execute_result"
    }
   ],
   "source": [
    "model2.fit(X2_train, y2_train)"
   ]
  },
  {
   "cell_type": "code",
   "execution_count": 73,
   "metadata": {
    "executionInfo": {
     "elapsed": 8,
     "status": "ok",
     "timestamp": 1644765646414,
     "user": {
      "displayName": "김재민",
      "photoUrl": "https://lh3.googleusercontent.com/a/default-user=s64",
      "userId": "14133616262020169823"
     },
     "user_tz": -540
    },
    "id": "HaYyBR8tGoSo"
   },
   "outputs": [],
   "source": [
    "pred1 = model1.predict(X1_test)\n",
    "pred2 = model2.predict(X2_test)"
   ]
  },
  {
   "cell_type": "code",
   "execution_count": 74,
   "metadata": {
    "executionInfo": {
     "elapsed": 9,
     "status": "ok",
     "timestamp": 1644765647570,
     "user": {
      "displayName": "김재민",
      "photoUrl": "https://lh3.googleusercontent.com/a/default-user=s64",
      "userId": "14133616262020169823"
     },
     "user_tz": -540
    },
    "id": "iGqjswmSsJOk"
   },
   "outputs": [],
   "source": [
    "sample['중식계'] = pred1\n",
    "sample['석식계'] = pred2\n",
    "\n",
    "sample.to_csv('test1.csv', index=False)"
   ]
  },
  {
   "cell_type": "code",
   "execution_count": 75,
   "metadata": {
    "id": "ABKWZAUIw06x"
   },
   "outputs": [],
   "source": [
    "# 퍼블릭: 77.9578698042\n",
    "# 프라이빗: 116.5985327646\n"
   ]
  },
  {
   "cell_type": "code",
   "execution_count": null,
   "metadata": {},
   "outputs": [],
   "source": []
  }
 ],
 "metadata": {
  "colab": {
   "collapsed_sections": [],
   "name": "1.ipynb",
   "provenance": []
  },
  "hide_input": false,
  "kernelspec": {
   "display_name": "Python 3",
   "language": "python",
   "name": "python3"
  },
  "language_info": {
   "codemirror_mode": {
    "name": "ipython",
    "version": 3
   },
   "file_extension": ".py",
   "mimetype": "text/x-python",
   "name": "python",
   "nbconvert_exporter": "python",
   "pygments_lexer": "ipython3",
   "version": "3.8.3"
  },
  "toc": {
   "base_numbering": 1,
   "nav_menu": {},
   "number_sections": true,
   "sideBar": true,
   "skip_h1_title": false,
   "title_cell": "Table of Contents",
   "title_sidebar": "Contents",
   "toc_cell": false,
   "toc_position": {},
   "toc_section_display": true,
   "toc_window_display": false
  },
  "varInspector": {
   "cols": {
    "lenName": 16,
    "lenType": 16,
    "lenVar": 40
   },
   "kernels_config": {
    "python": {
     "delete_cmd_postfix": "",
     "delete_cmd_prefix": "del ",
     "library": "var_list.py",
     "varRefreshCmd": "print(var_dic_list())"
    },
    "r": {
     "delete_cmd_postfix": ") ",
     "delete_cmd_prefix": "rm(",
     "library": "var_list.r",
     "varRefreshCmd": "cat(var_dic_list()) "
    }
   },
   "types_to_exclude": [
    "module",
    "function",
    "builtin_function_or_method",
    "instance",
    "_Feature"
   ],
   "window_display": false
  }
 },
 "nbformat": 4,
 "nbformat_minor": 1
}
