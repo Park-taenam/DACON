{
 "cells": [
  {
   "cell_type": "markdown",
   "metadata": {},
   "source": [
    "# 구내식당 식사인원 예측"
   ]
  },
  {
   "cell_type": "code",
   "execution_count": 1,
   "metadata": {
    "ExecuteTime": {
     "end_time": "2022-02-23T14:52:09.412783Z",
     "start_time": "2022-02-23T14:52:04.808072Z"
    }
   },
   "outputs": [],
   "source": [
    "import numpy as np\n",
    "import pandas as pd\n",
    "import matplotlib.pyplot as plt\n",
    "import seaborn as sns\n",
    "\n",
    "import holidays\n",
    "import datetime\n",
    "from datetime import timedelta\n",
    "\n",
    "import warnings\n",
    "warnings.filterwarnings('ignore')\n",
    "\n",
    "%matplotlib inline"
   ]
  },
  {
   "cell_type": "code",
   "execution_count": 2,
   "metadata": {
    "ExecuteTime": {
     "end_time": "2022-02-23T14:52:09.502671Z",
     "start_time": "2022-02-23T14:52:09.463683Z"
    }
   },
   "outputs": [],
   "source": [
    "# 사용자 운영체제 확인\n",
    "import os\n",
    "os.name\n",
    "\n",
    "# 운영체제별 한글 폰트 설정\n",
    "if os.name == 'posix': # Mac 환경 폰트 설정\n",
    "    plt.rc('font', family='AppleGothic')\n",
    "elif os.name == 'nt': # Windows 환경 폰트 설정\n",
    "    plt.rc('font', family='Malgun Gothic')\n",
    "\n",
    "plt.rc('axes', unicode_minus=False) # 마이너스 폰트 설정\n",
    "\n",
    "\n",
    "# 글씨 선명하게 출력하는 설정\n",
    "%config InlineBackend.figure_format = 'retina'"
   ]
  },
  {
   "cell_type": "markdown",
   "metadata": {},
   "source": [
    "# Dataset"
   ]
  },
  {
   "cell_type": "code",
   "execution_count": 3,
   "metadata": {
    "ExecuteTime": {
     "end_time": "2022-02-23T14:52:09.667684Z",
     "start_time": "2022-02-23T14:52:09.553682Z"
    }
   },
   "outputs": [],
   "source": [
    "train = pd.read_csv(\"./data/weather_corona_train.csv\", encoding='cp949')\n",
    "test = pd.read_csv(\"./data/weather_corona_test.csv\", encoding='cp949')\n",
    "\n",
    "train = train.iloc[:,1:]\n",
    "test = test.iloc[:,1:]"
   ]
  },
  {
   "cell_type": "code",
   "execution_count": 4,
   "metadata": {
    "ExecuteTime": {
     "end_time": "2022-02-23T14:52:10.045837Z",
     "start_time": "2022-02-23T14:52:09.961283Z"
    }
   },
   "outputs": [
    {
     "data": {
      "text/html": [
       "<div>\n",
       "<style scoped>\n",
       "    .dataframe tbody tr th:only-of-type {\n",
       "        vertical-align: middle;\n",
       "    }\n",
       "\n",
       "    .dataframe tbody tr th {\n",
       "        vertical-align: top;\n",
       "    }\n",
       "\n",
       "    .dataframe thead th {\n",
       "        text-align: right;\n",
       "    }\n",
       "</style>\n",
       "<table border=\"1\" class=\"dataframe\">\n",
       "  <thead>\n",
       "    <tr style=\"text-align: right;\">\n",
       "      <th></th>\n",
       "      <th>일자</th>\n",
       "      <th>요일</th>\n",
       "      <th>본사정원수</th>\n",
       "      <th>본사휴가자수</th>\n",
       "      <th>본사출장자수</th>\n",
       "      <th>본사시간외근무명령서승인건수</th>\n",
       "      <th>현본사소속재택근무자수</th>\n",
       "      <th>조식메뉴</th>\n",
       "      <th>중식메뉴</th>\n",
       "      <th>석식메뉴</th>\n",
       "      <th>중식계</th>\n",
       "      <th>석식계</th>\n",
       "      <th>평균기온(°C)</th>\n",
       "      <th>일강수량(mm)</th>\n",
       "      <th>평균 지면온도(°C)</th>\n",
       "      <th>확진자수</th>\n",
       "    </tr>\n",
       "  </thead>\n",
       "  <tbody>\n",
       "    <tr>\n",
       "      <th>0</th>\n",
       "      <td>2016-02-01</td>\n",
       "      <td>월</td>\n",
       "      <td>2601</td>\n",
       "      <td>50</td>\n",
       "      <td>150</td>\n",
       "      <td>238</td>\n",
       "      <td>0</td>\n",
       "      <td>모닝롤/찐빵  우유/두유/주스 계란후라이  호두죽/쌀밥 (쌀:국내산) 된장찌개  쥐...</td>\n",
       "      <td>쌀밥/잡곡밥 (쌀,현미흑미:국내산) 오징어찌개  쇠불고기 (쇠고기:호주산) 계란찜 ...</td>\n",
       "      <td>쌀밥/잡곡밥 (쌀,현미흑미:국내산) 육개장  자반고등어구이  두부조림  건파래무침 ...</td>\n",
       "      <td>1039</td>\n",
       "      <td>331</td>\n",
       "      <td>-0.6</td>\n",
       "      <td>NaN</td>\n",
       "      <td>2.3</td>\n",
       "      <td>0</td>\n",
       "    </tr>\n",
       "    <tr>\n",
       "      <th>1</th>\n",
       "      <td>2016-02-02</td>\n",
       "      <td>화</td>\n",
       "      <td>2601</td>\n",
       "      <td>50</td>\n",
       "      <td>173</td>\n",
       "      <td>319</td>\n",
       "      <td>0</td>\n",
       "      <td>모닝롤/단호박샌드  우유/두유/주스 계란후라이  팥죽/쌀밥 (쌀:국내산) 호박젓국찌...</td>\n",
       "      <td>쌀밥/잡곡밥 (쌀,현미흑미:국내산) 김치찌개  가자미튀김  모둠소세지구이  마늘쫑무...</td>\n",
       "      <td>콩나물밥*양념장 (쌀,현미흑미:국내산) 어묵국  유산슬 (쇠고기:호주산) 아삭고추무...</td>\n",
       "      <td>867</td>\n",
       "      <td>560</td>\n",
       "      <td>-2.3</td>\n",
       "      <td>NaN</td>\n",
       "      <td>1.2</td>\n",
       "      <td>0</td>\n",
       "    </tr>\n",
       "    <tr>\n",
       "      <th>2</th>\n",
       "      <td>2016-02-03</td>\n",
       "      <td>수</td>\n",
       "      <td>2601</td>\n",
       "      <td>56</td>\n",
       "      <td>180</td>\n",
       "      <td>111</td>\n",
       "      <td>0</td>\n",
       "      <td>모닝롤/베이글  우유/두유/주스 계란후라이  표고버섯죽/쌀밥 (쌀:국내산) 콩나물국...</td>\n",
       "      <td>카레덮밥 (쌀,현미흑미:국내산) 팽이장국  치킨핑거 (닭고기:국내산) 쫄면야채무침 ...</td>\n",
       "      <td>쌀밥/잡곡밥 (쌀,현미흑미:국내산) 청국장찌개  황태양념구이 (황태:러시아산) 고기...</td>\n",
       "      <td>1017</td>\n",
       "      <td>573</td>\n",
       "      <td>-1.7</td>\n",
       "      <td>NaN</td>\n",
       "      <td>1.3</td>\n",
       "      <td>0</td>\n",
       "    </tr>\n",
       "    <tr>\n",
       "      <th>3</th>\n",
       "      <td>2016-02-04</td>\n",
       "      <td>목</td>\n",
       "      <td>2601</td>\n",
       "      <td>104</td>\n",
       "      <td>220</td>\n",
       "      <td>355</td>\n",
       "      <td>0</td>\n",
       "      <td>모닝롤/토마토샌드  우유/두유/주스 계란후라이  닭죽/쌀밥 (쌀,닭:국내산) 근대국...</td>\n",
       "      <td>쌀밥/잡곡밥 (쌀,현미흑미:국내산) 쇠고기무국  주꾸미볶음  부추전  시금치나물  ...</td>\n",
       "      <td>미니김밥*겨자장 (쌀,현미흑미:국내산) 우동  멕시칸샐러드  군고구마  무피클  포...</td>\n",
       "      <td>978</td>\n",
       "      <td>525</td>\n",
       "      <td>-0.2</td>\n",
       "      <td>NaN</td>\n",
       "      <td>1.0</td>\n",
       "      <td>0</td>\n",
       "    </tr>\n",
       "    <tr>\n",
       "      <th>4</th>\n",
       "      <td>2016-02-05</td>\n",
       "      <td>금</td>\n",
       "      <td>2601</td>\n",
       "      <td>278</td>\n",
       "      <td>181</td>\n",
       "      <td>34</td>\n",
       "      <td>0</td>\n",
       "      <td>모닝롤/와플  우유/두유/주스 계란후라이  쇠고기죽/쌀밥 (쌀:국내산) 재첩국  방...</td>\n",
       "      <td>쌀밥/잡곡밥 (쌀,현미흑미:국내산) 떡국  돈육씨앗강정 (돼지고기:국내산) 우엉잡채...</td>\n",
       "      <td>쌀밥/잡곡밥 (쌀,현미흑미:국내산) 차돌박이찌개 (쇠고기:호주산) 닭갈비 (닭고기:...</td>\n",
       "      <td>925</td>\n",
       "      <td>330</td>\n",
       "      <td>1.3</td>\n",
       "      <td>NaN</td>\n",
       "      <td>2.4</td>\n",
       "      <td>0</td>\n",
       "    </tr>\n",
       "  </tbody>\n",
       "</table>\n",
       "</div>"
      ],
      "text/plain": [
       "           일자 요일  본사정원수  본사휴가자수  본사출장자수  본사시간외근무명령서승인건수  현본사소속재택근무자수  \\\n",
       "0  2016-02-01  월   2601      50     150             238            0   \n",
       "1  2016-02-02  화   2601      50     173             319            0   \n",
       "2  2016-02-03  수   2601      56     180             111            0   \n",
       "3  2016-02-04  목   2601     104     220             355            0   \n",
       "4  2016-02-05  금   2601     278     181              34            0   \n",
       "\n",
       "                                                조식메뉴  \\\n",
       "0  모닝롤/찐빵  우유/두유/주스 계란후라이  호두죽/쌀밥 (쌀:국내산) 된장찌개  쥐...   \n",
       "1  모닝롤/단호박샌드  우유/두유/주스 계란후라이  팥죽/쌀밥 (쌀:국내산) 호박젓국찌...   \n",
       "2  모닝롤/베이글  우유/두유/주스 계란후라이  표고버섯죽/쌀밥 (쌀:국내산) 콩나물국...   \n",
       "3  모닝롤/토마토샌드  우유/두유/주스 계란후라이  닭죽/쌀밥 (쌀,닭:국내산) 근대국...   \n",
       "4  모닝롤/와플  우유/두유/주스 계란후라이  쇠고기죽/쌀밥 (쌀:국내산) 재첩국  방...   \n",
       "\n",
       "                                                중식메뉴  \\\n",
       "0  쌀밥/잡곡밥 (쌀,현미흑미:국내산) 오징어찌개  쇠불고기 (쇠고기:호주산) 계란찜 ...   \n",
       "1  쌀밥/잡곡밥 (쌀,현미흑미:국내산) 김치찌개  가자미튀김  모둠소세지구이  마늘쫑무...   \n",
       "2  카레덮밥 (쌀,현미흑미:국내산) 팽이장국  치킨핑거 (닭고기:국내산) 쫄면야채무침 ...   \n",
       "3  쌀밥/잡곡밥 (쌀,현미흑미:국내산) 쇠고기무국  주꾸미볶음  부추전  시금치나물  ...   \n",
       "4  쌀밥/잡곡밥 (쌀,현미흑미:국내산) 떡국  돈육씨앗강정 (돼지고기:국내산) 우엉잡채...   \n",
       "\n",
       "                                                석식메뉴   중식계  석식계  평균기온(°C)  \\\n",
       "0  쌀밥/잡곡밥 (쌀,현미흑미:국내산) 육개장  자반고등어구이  두부조림  건파래무침 ...  1039  331      -0.6   \n",
       "1  콩나물밥*양념장 (쌀,현미흑미:국내산) 어묵국  유산슬 (쇠고기:호주산) 아삭고추무...   867  560      -2.3   \n",
       "2  쌀밥/잡곡밥 (쌀,현미흑미:국내산) 청국장찌개  황태양념구이 (황태:러시아산) 고기...  1017  573      -1.7   \n",
       "3  미니김밥*겨자장 (쌀,현미흑미:국내산) 우동  멕시칸샐러드  군고구마  무피클  포...   978  525      -0.2   \n",
       "4  쌀밥/잡곡밥 (쌀,현미흑미:국내산) 차돌박이찌개 (쇠고기:호주산) 닭갈비 (닭고기:...   925  330       1.3   \n",
       "\n",
       "   일강수량(mm)  평균 지면온도(°C)  확진자수  \n",
       "0       NaN          2.3     0  \n",
       "1       NaN          1.2     0  \n",
       "2       NaN          1.3     0  \n",
       "3       NaN          1.0     0  \n",
       "4       NaN          2.4     0  "
      ]
     },
     "execution_count": 4,
     "metadata": {},
     "output_type": "execute_result"
    }
   ],
   "source": [
    "train.head()"
   ]
  },
  {
   "cell_type": "markdown",
   "metadata": {},
   "source": [
    "# 전처리 및 EDA"
   ]
  },
  {
   "cell_type": "markdown",
   "metadata": {},
   "source": [
    "## EDA"
   ]
  },
  {
   "cell_type": "code",
   "execution_count": 5,
   "metadata": {
    "ExecuteTime": {
     "end_time": "2022-02-23T14:52:11.128931Z",
     "start_time": "2022-02-23T14:52:10.291378Z"
    }
   },
   "outputs": [
    {
     "data": {
      "image/png": "[encoded data removed]",
      "text/plain": [
       "<Figure size 576x576 with 1 Axes>"
      ]
     },
     "metadata": {
      "image/png": {
       "height": 496,
       "width": 504
      },
      "needs_background": "light"
     },
     "output_type": "display_data"
    }
   ],
   "source": [
    "plt.figure(figsize=(8,8))\n",
    "\n",
    "\n",
    "sns.barplot(x=\"요일\", y=\"중식계\", data=train)\n",
    "plt.title(\"요일별 점시시간 수\")\n",
    "plt.show()"
   ]
  },
  {
   "cell_type": "code",
   "execution_count": 6,
   "metadata": {
    "ExecuteTime": {
     "end_time": "2022-02-23T14:52:12.184762Z",
     "start_time": "2022-02-23T14:52:11.345012Z"
    }
   },
   "outputs": [
    {
     "data": {
      "image/png": "[encoded data removed]",
      "text/plain": [
       "<Figure size 576x576 with 1 Axes>"
      ]
     },
     "metadata": {
      "image/png": {
       "height": 496,
       "width": 498
      },
      "needs_background": "light"
     },
     "output_type": "display_data"
    }
   ],
   "source": [
    "plt.figure(figsize=(8,8))\n",
    "\n",
    "\n",
    "sns.barplot(x=\"요일\", y=\"석식계\", data=train)\n",
    "plt.title(\"요일별 점시시간 수\")\n",
    "plt.show()"
   ]
  },
  {
   "cell_type": "markdown",
   "metadata": {},
   "source": [
    "## 날씨"
   ]
  },
  {
   "cell_type": "code",
   "execution_count": 7,
   "metadata": {
    "ExecuteTime": {
     "end_time": "2022-02-23T14:52:14.041577Z",
     "start_time": "2022-02-23T14:52:14.018449Z"
    }
   },
   "outputs": [
    {
     "data": {
      "text/plain": [
       "Index(['일자', '요일', '본사정원수', '본사휴가자수', '본사출장자수', '본사시간외근무명령서승인건수',\n",
       "       '현본사소속재택근무자수', '조식메뉴', '중식메뉴', '석식메뉴', '중식계', '석식계', '평균기온(°C)',\n",
       "       '일강수량(mm)', '평균 지면온도(°C)', '확진자수'],\n",
       "      dtype='object')"
      ]
     },
     "execution_count": 7,
     "metadata": {},
     "output_type": "execute_result"
    }
   ],
   "source": [
    "train.columns"
   ]
  },
  {
   "cell_type": "code",
   "execution_count": 8,
   "metadata": {
    "ExecuteTime": {
     "end_time": "2022-02-23T14:52:15.311333Z",
     "start_time": "2022-02-23T14:52:15.273365Z"
    },
    "scrolled": true
   },
   "outputs": [
    {
     "data": {
      "text/html": [
       "<div>\n",
       "<style scoped>\n",
       "    .dataframe tbody tr th:only-of-type {\n",
       "        vertical-align: middle;\n",
       "    }\n",
       "\n",
       "    .dataframe tbody tr th {\n",
       "        vertical-align: top;\n",
       "    }\n",
       "\n",
       "    .dataframe thead th {\n",
       "        text-align: right;\n",
       "    }\n",
       "</style>\n",
       "<table border=\"1\" class=\"dataframe\">\n",
       "  <thead>\n",
       "    <tr style=\"text-align: right;\">\n",
       "      <th></th>\n",
       "      <th>일자</th>\n",
       "      <th>요일</th>\n",
       "      <th>본사정원수</th>\n",
       "      <th>본사휴가자수</th>\n",
       "      <th>본사출장자수</th>\n",
       "      <th>본사시간외근무명령서승인건수</th>\n",
       "      <th>현본사소속재택근무자수</th>\n",
       "      <th>조식메뉴</th>\n",
       "      <th>중식메뉴</th>\n",
       "      <th>석식메뉴</th>\n",
       "      <th>중식계</th>\n",
       "      <th>석식계</th>\n",
       "      <th>평균기온(°C)</th>\n",
       "      <th>일강수량(mm)</th>\n",
       "      <th>평균 지면온도(°C)</th>\n",
       "      <th>확진자수</th>\n",
       "    </tr>\n",
       "  </thead>\n",
       "  <tbody>\n",
       "    <tr>\n",
       "      <th>0</th>\n",
       "      <td>2016-02-01</td>\n",
       "      <td>월</td>\n",
       "      <td>2601</td>\n",
       "      <td>50</td>\n",
       "      <td>150</td>\n",
       "      <td>238</td>\n",
       "      <td>0</td>\n",
       "      <td>모닝롤/찐빵  우유/두유/주스 계란후라이  호두죽/쌀밥 (쌀:국내산) 된장찌개  쥐...</td>\n",
       "      <td>쌀밥/잡곡밥 (쌀,현미흑미:국내산) 오징어찌개  쇠불고기 (쇠고기:호주산) 계란찜 ...</td>\n",
       "      <td>쌀밥/잡곡밥 (쌀,현미흑미:국내산) 육개장  자반고등어구이  두부조림  건파래무침 ...</td>\n",
       "      <td>1039</td>\n",
       "      <td>331</td>\n",
       "      <td>-0.6</td>\n",
       "      <td>NaN</td>\n",
       "      <td>2.3</td>\n",
       "      <td>0</td>\n",
       "    </tr>\n",
       "    <tr>\n",
       "      <th>1</th>\n",
       "      <td>2016-02-02</td>\n",
       "      <td>화</td>\n",
       "      <td>2601</td>\n",
       "      <td>50</td>\n",
       "      <td>173</td>\n",
       "      <td>319</td>\n",
       "      <td>0</td>\n",
       "      <td>모닝롤/단호박샌드  우유/두유/주스 계란후라이  팥죽/쌀밥 (쌀:국내산) 호박젓국찌...</td>\n",
       "      <td>쌀밥/잡곡밥 (쌀,현미흑미:국내산) 김치찌개  가자미튀김  모둠소세지구이  마늘쫑무...</td>\n",
       "      <td>콩나물밥*양념장 (쌀,현미흑미:국내산) 어묵국  유산슬 (쇠고기:호주산) 아삭고추무...</td>\n",
       "      <td>867</td>\n",
       "      <td>560</td>\n",
       "      <td>-2.3</td>\n",
       "      <td>NaN</td>\n",
       "      <td>1.2</td>\n",
       "      <td>0</td>\n",
       "    </tr>\n",
       "    <tr>\n",
       "      <th>2</th>\n",
       "      <td>2016-02-03</td>\n",
       "      <td>수</td>\n",
       "      <td>2601</td>\n",
       "      <td>56</td>\n",
       "      <td>180</td>\n",
       "      <td>111</td>\n",
       "      <td>0</td>\n",
       "      <td>모닝롤/베이글  우유/두유/주스 계란후라이  표고버섯죽/쌀밥 (쌀:국내산) 콩나물국...</td>\n",
       "      <td>카레덮밥 (쌀,현미흑미:국내산) 팽이장국  치킨핑거 (닭고기:국내산) 쫄면야채무침 ...</td>\n",
       "      <td>쌀밥/잡곡밥 (쌀,현미흑미:국내산) 청국장찌개  황태양념구이 (황태:러시아산) 고기...</td>\n",
       "      <td>1017</td>\n",
       "      <td>573</td>\n",
       "      <td>-1.7</td>\n",
       "      <td>NaN</td>\n",
       "      <td>1.3</td>\n",
       "      <td>0</td>\n",
       "    </tr>\n",
       "    <tr>\n",
       "      <th>3</th>\n",
       "      <td>2016-02-04</td>\n",
       "      <td>목</td>\n",
       "      <td>2601</td>\n",
       "      <td>104</td>\n",
       "      <td>220</td>\n",
       "      <td>355</td>\n",
       "      <td>0</td>\n",
       "      <td>모닝롤/토마토샌드  우유/두유/주스 계란후라이  닭죽/쌀밥 (쌀,닭:국내산) 근대국...</td>\n",
       "      <td>쌀밥/잡곡밥 (쌀,현미흑미:국내산) 쇠고기무국  주꾸미볶음  부추전  시금치나물  ...</td>\n",
       "      <td>미니김밥*겨자장 (쌀,현미흑미:국내산) 우동  멕시칸샐러드  군고구마  무피클  포...</td>\n",
       "      <td>978</td>\n",
       "      <td>525</td>\n",
       "      <td>-0.2</td>\n",
       "      <td>NaN</td>\n",
       "      <td>1.0</td>\n",
       "      <td>0</td>\n",
       "    </tr>\n",
       "    <tr>\n",
       "      <th>4</th>\n",
       "      <td>2016-02-05</td>\n",
       "      <td>금</td>\n",
       "      <td>2601</td>\n",
       "      <td>278</td>\n",
       "      <td>181</td>\n",
       "      <td>34</td>\n",
       "      <td>0</td>\n",
       "      <td>모닝롤/와플  우유/두유/주스 계란후라이  쇠고기죽/쌀밥 (쌀:국내산) 재첩국  방...</td>\n",
       "      <td>쌀밥/잡곡밥 (쌀,현미흑미:국내산) 떡국  돈육씨앗강정 (돼지고기:국내산) 우엉잡채...</td>\n",
       "      <td>쌀밥/잡곡밥 (쌀,현미흑미:국내산) 차돌박이찌개 (쇠고기:호주산) 닭갈비 (닭고기:...</td>\n",
       "      <td>925</td>\n",
       "      <td>330</td>\n",
       "      <td>1.3</td>\n",
       "      <td>NaN</td>\n",
       "      <td>2.4</td>\n",
       "      <td>0</td>\n",
       "    </tr>\n",
       "  </tbody>\n",
       "</table>\n",
       "</div>"
      ],
      "text/plain": [
       "           일자 요일  본사정원수  본사휴가자수  본사출장자수  본사시간외근무명령서승인건수  현본사소속재택근무자수  \\\n",
       "0  2016-02-01  월   2601      50     150             238            0   \n",
       "1  2016-02-02  화   2601      50     173             319            0   \n",
       "2  2016-02-03  수   2601      56     180             111            0   \n",
       "3  2016-02-04  목   2601     104     220             355            0   \n",
       "4  2016-02-05  금   2601     278     181              34            0   \n",
       "\n",
       "                                                조식메뉴  \\\n",
       "0  모닝롤/찐빵  우유/두유/주스 계란후라이  호두죽/쌀밥 (쌀:국내산) 된장찌개  쥐...   \n",
       "1  모닝롤/단호박샌드  우유/두유/주스 계란후라이  팥죽/쌀밥 (쌀:국내산) 호박젓국찌...   \n",
       "2  모닝롤/베이글  우유/두유/주스 계란후라이  표고버섯죽/쌀밥 (쌀:국내산) 콩나물국...   \n",
       "3  모닝롤/토마토샌드  우유/두유/주스 계란후라이  닭죽/쌀밥 (쌀,닭:국내산) 근대국...   \n",
       "4  모닝롤/와플  우유/두유/주스 계란후라이  쇠고기죽/쌀밥 (쌀:국내산) 재첩국  방...   \n",
       "\n",
       "                                                중식메뉴  \\\n",
       "0  쌀밥/잡곡밥 (쌀,현미흑미:국내산) 오징어찌개  쇠불고기 (쇠고기:호주산) 계란찜 ...   \n",
       "1  쌀밥/잡곡밥 (쌀,현미흑미:국내산) 김치찌개  가자미튀김  모둠소세지구이  마늘쫑무...   \n",
       "2  카레덮밥 (쌀,현미흑미:국내산) 팽이장국  치킨핑거 (닭고기:국내산) 쫄면야채무침 ...   \n",
       "3  쌀밥/잡곡밥 (쌀,현미흑미:국내산) 쇠고기무국  주꾸미볶음  부추전  시금치나물  ...   \n",
       "4  쌀밥/잡곡밥 (쌀,현미흑미:국내산) 떡국  돈육씨앗강정 (돼지고기:국내산) 우엉잡채...   \n",
       "\n",
       "                                                석식메뉴   중식계  석식계  평균기온(°C)  \\\n",
       "0  쌀밥/잡곡밥 (쌀,현미흑미:국내산) 육개장  자반고등어구이  두부조림  건파래무침 ...  1039  331      -0.6   \n",
       "1  콩나물밥*양념장 (쌀,현미흑미:국내산) 어묵국  유산슬 (쇠고기:호주산) 아삭고추무...   867  560      -2.3   \n",
       "2  쌀밥/잡곡밥 (쌀,현미흑미:국내산) 청국장찌개  황태양념구이 (황태:러시아산) 고기...  1017  573      -1.7   \n",
       "3  미니김밥*겨자장 (쌀,현미흑미:국내산) 우동  멕시칸샐러드  군고구마  무피클  포...   978  525      -0.2   \n",
       "4  쌀밥/잡곡밥 (쌀,현미흑미:국내산) 차돌박이찌개 (쇠고기:호주산) 닭갈비 (닭고기:...   925  330       1.3   \n",
       "\n",
       "   일강수량(mm)  평균 지면온도(°C)  확진자수  \n",
       "0       NaN          2.3     0  \n",
       "1       NaN          1.2     0  \n",
       "2       NaN          1.3     0  \n",
       "3       NaN          1.0     0  \n",
       "4       NaN          2.4     0  "
      ]
     },
     "execution_count": 8,
     "metadata": {},
     "output_type": "execute_result"
    }
   ],
   "source": [
    "train.head()"
   ]
  },
  {
   "cell_type": "code",
   "execution_count": 9,
   "metadata": {
    "ExecuteTime": {
     "end_time": "2022-02-23T14:52:15.812550Z",
     "start_time": "2022-02-23T14:52:15.799597Z"
    }
   },
   "outputs": [],
   "source": [
    "train.drop(['평균 지면온도(°C)'], axis=1, inplace=True)\n",
    "test.drop(['평균 지면온도(°C)'], axis=1, inplace=True)"
   ]
  },
  {
   "cell_type": "markdown",
   "metadata": {},
   "source": [
    "### Null"
   ]
  },
  {
   "cell_type": "code",
   "execution_count": 10,
   "metadata": {
    "ExecuteTime": {
     "end_time": "2022-02-23T14:52:17.234107Z",
     "start_time": "2022-02-23T14:52:17.212171Z"
    }
   },
   "outputs": [
    {
     "name": "stdout",
     "output_type": "stream",
     "text": [
      "train\n",
      " 평균기온(°C)      1\n",
      "일강수량(mm)    819\n",
      "dtype: int64 \n",
      "\n",
      "test\n",
      " 평균기온(°C)     0\n",
      "일강수량(mm)    38\n",
      "dtype: int64\n"
     ]
    }
   ],
   "source": [
    "print('train\\n', train.loc[:,['평균기온(°C)','일강수량(mm)']].isnull().sum(), '\\n')\n",
    "print('test\\n', test.loc[:,['평균기온(°C)','일강수량(mm)']].isnull().sum())"
   ]
  },
  {
   "cell_type": "code",
   "execution_count": 12,
   "metadata": {
    "ExecuteTime": {
     "end_time": "2022-02-23T14:52:53.563254Z",
     "start_time": "2022-02-23T14:52:53.555164Z"
    }
   },
   "outputs": [],
   "source": [
    "train['평균기온(°C)'].fillna(method='ffill', inplace=True)"
   ]
  },
  {
   "cell_type": "code",
   "execution_count": 13,
   "metadata": {
    "ExecuteTime": {
     "end_time": "2022-02-23T14:52:54.139346Z",
     "start_time": "2022-02-23T14:52:54.122211Z"
    }
   },
   "outputs": [],
   "source": [
    "train['일강수량(mm)'].fillna(0, inplace=True)\n",
    "test['일강수량(mm)'].fillna(0, inplace=True)"
   ]
  },
  {
   "cell_type": "code",
   "execution_count": 14,
   "metadata": {
    "ExecuteTime": {
     "end_time": "2022-02-23T14:52:58.416710Z",
     "start_time": "2022-02-23T14:52:58.394820Z"
    }
   },
   "outputs": [
    {
     "name": "stdout",
     "output_type": "stream",
     "text": [
      "train\n",
      " 평균기온(°C)    0\n",
      "일강수량(mm)    0\n",
      "dtype: int64 \n",
      "\n",
      "test\n",
      " 평균기온(°C)    0\n",
      "일강수량(mm)    0\n",
      "dtype: int64\n"
     ]
    }
   ],
   "source": [
    "print('train\\n', train.loc[:,['평균기온(°C)','일강수량(mm)']].isnull().sum(), '\\n')\n",
    "print('test\\n', test.loc[:,['평균기온(°C)','일강수량(mm)']].isnull().sum())"
   ]
  },
  {
   "cell_type": "markdown",
   "metadata": {},
   "source": [
    "### 강수량"
   ]
  },
  {
   "cell_type": "code",
   "execution_count": 16,
   "metadata": {
    "ExecuteTime": {
     "end_time": "2022-02-23T14:54:14.679015Z",
     "start_time": "2022-02-23T14:54:14.671025Z"
    }
   },
   "outputs": [],
   "source": [
    "train['일강수량'] = np.where(train.loc[:,'일강수량(mm)']==0, 0, 1)"
   ]
  },
  {
   "cell_type": "code",
   "execution_count": 19,
   "metadata": {
    "ExecuteTime": {
     "end_time": "2022-02-23T14:54:45.309744Z",
     "start_time": "2022-02-23T14:54:45.290272Z"
    }
   },
   "outputs": [
    {
     "data": {
      "text/plain": [
       "0    896\n",
       "1    309\n",
       "Name: 일강수량, dtype: int64"
      ]
     },
     "execution_count": 19,
     "metadata": {},
     "output_type": "execute_result"
    }
   ],
   "source": [
    "train['일강수량'].value_counts()"
   ]
  },
  {
   "cell_type": "markdown",
   "metadata": {},
   "source": [
    "## 확진자수"
   ]
  },
  {
   "cell_type": "code",
   "execution_count": null,
   "metadata": {
    "ExecuteTime": {
     "end_time": "2022-02-21T13:54:22.687841Z",
     "start_time": "2022-02-21T13:54:22.674808Z"
    }
   },
   "outputs": [],
   "source": [
    "train['확진자수'].isnull().sum()"
   ]
  },
  {
   "cell_type": "code",
   "execution_count": null,
   "metadata": {
    "ExecuteTime": {
     "end_time": "2022-02-21T13:54:22.703884Z",
     "start_time": "2022-02-21T13:54:22.689804Z"
    }
   },
   "outputs": [],
   "source": [
    "test['확진자수'].isnull().sum()"
   ]
  },
  {
   "cell_type": "markdown",
   "metadata": {},
   "source": [
    "## 휴일 & 공휴일 전 후"
   ]
  },
  {
   "cell_type": "code",
   "execution_count": null,
   "metadata": {
    "ExecuteTime": {
     "end_time": "2022-02-21T13:54:22.797848Z",
     "start_time": "2022-02-21T13:54:22.705807Z"
    }
   },
   "outputs": [],
   "source": [
    "holiday_list = [] \n",
    "for i in range(2016,2022):\n",
    "    for date in holidays.KR(years=i).keys():  # 한국 공휴일 가져오기\n",
    "        holiday_list.append(date)"
   ]
  },
  {
   "cell_type": "code",
   "execution_count": null,
   "metadata": {
    "ExecuteTime": {
     "end_time": "2022-02-21T13:54:22.812821Z",
     "start_time": "2022-02-21T13:54:22.799639Z"
    }
   },
   "outputs": [],
   "source": [
    "holiday_before_list=[]\n",
    "for_mat='%Y-%m-%d'\n",
    "for i in holiday_list:\n",
    "    holiday_before_list.append((i - timedelta(days=1)).strftime(for_mat))\n",
    "        # i - timedelta(days=1): datetime에서 날짜 하루 빼기\n",
    "        # .strftime(for_mat): 포맷과 같은 형식으로 datetime에서 str로 변환"
   ]
  },
  {
   "cell_type": "code",
   "execution_count": null,
   "metadata": {
    "ExecuteTime": {
     "end_time": "2022-02-21T13:54:22.828199Z",
     "start_time": "2022-02-21T13:54:22.814820Z"
    }
   },
   "outputs": [],
   "source": [
    "def holiday_before(x):\n",
    "    if x in holiday_before_list:\n",
    "        return 1\n",
    "    else:\n",
    "        return 0\n",
    "train['공휴일전'] = train.일자.apply(holiday_before)\n",
    "test['공휴일전'] = test.일자.apply(holiday_before)"
   ]
  },
  {
   "cell_type": "code",
   "execution_count": null,
   "metadata": {
    "ExecuteTime": {
     "end_time": "2022-02-21T13:54:22.843973Z",
     "start_time": "2022-02-21T13:54:22.830744Z"
    }
   },
   "outputs": [],
   "source": [
    "holiday_after_list=[]\n",
    "for_mat='%Y-%m-%d'\n",
    "for i in holiday_list:\n",
    "    holiday_after_list.append((i + timedelta(days=1)).strftime(for_mat))"
   ]
  },
  {
   "cell_type": "code",
   "execution_count": null,
   "metadata": {
    "ExecuteTime": {
     "end_time": "2022-02-21T13:54:22.859890Z",
     "start_time": "2022-02-21T13:54:22.844890Z"
    }
   },
   "outputs": [],
   "source": [
    "def holiday_after(x):\n",
    "    if x in holiday_after_list:\n",
    "        return 1\n",
    "    else:\n",
    "        return 0\n",
    "train['공휴일후'] = train.일자.apply(holiday_after)\n",
    "test['공휴일후'] = test.일자.apply(holiday_after)"
   ]
  },
  {
   "cell_type": "code",
   "execution_count": null,
   "metadata": {
    "ExecuteTime": {
     "end_time": "2022-02-21T13:54:22.875604Z",
     "start_time": "2022-02-21T13:54:22.861890Z"
    }
   },
   "outputs": [],
   "source": [
    "## 누락된 것은 찾아서 넣음\n",
    "\n",
    "# 16-4-13 국회의원 선거\n",
    "train['공휴일전'][47]=1\n",
    "train['공휴일후'][48]=1\n",
    "\n",
    "# 17-5-9 대통령 선거\n",
    "train['공휴일전'][311]=1\n",
    "train['공휴일후'][312]=1\n",
    "\n",
    "# 18-6-13 지방선거\n",
    "train['공휴일전'][579]=1\n",
    "train['공휴일후'][580]=1\n",
    "\n",
    "# 20-4-15 국회의원 선거\n",
    "train['공휴일전'][1027]=1\n",
    "train['공휴일후'][1028]=1\n",
    "\n",
    "# 20-9-30 추석\n",
    "train['공휴일전'][1129]=1"
   ]
  },
  {
   "cell_type": "code",
   "execution_count": null,
   "metadata": {
    "ExecuteTime": {
     "end_time": "2022-02-21T13:54:22.890971Z",
     "start_time": "2022-02-21T13:54:22.877478Z"
    }
   },
   "outputs": [],
   "source": [
    "train.공휴일전.value_counts()"
   ]
  },
  {
   "cell_type": "code",
   "execution_count": null,
   "metadata": {
    "ExecuteTime": {
     "end_time": "2022-02-21T13:54:22.922325Z",
     "start_time": "2022-02-21T13:54:22.897548Z"
    }
   },
   "outputs": [],
   "source": [
    "train.공휴일후.value_counts()"
   ]
  },
  {
   "cell_type": "code",
   "execution_count": null,
   "metadata": {
    "ExecuteTime": {
     "end_time": "2022-02-21T13:54:22.938328Z",
     "start_time": "2022-02-21T13:54:22.925326Z"
    }
   },
   "outputs": [],
   "source": [
    "train.loc[:,['공휴일전', '공휴일후']].sum()"
   ]
  },
  {
   "cell_type": "code",
   "execution_count": null,
   "metadata": {
    "ExecuteTime": {
     "end_time": "2022-02-21T13:54:22.954325Z",
     "start_time": "2022-02-21T13:54:22.940329Z"
    }
   },
   "outputs": [],
   "source": [
    "test.loc[:,['공휴일전', '공휴일후']].sum()"
   ]
  },
  {
   "cell_type": "markdown",
   "metadata": {},
   "source": [
    "## 파생변수"
   ]
  },
  {
   "cell_type": "code",
   "execution_count": null,
   "metadata": {
    "ExecuteTime": {
     "end_time": "2022-02-21T13:54:22.970399Z",
     "start_time": "2022-02-21T13:54:22.955327Z"
    }
   },
   "outputs": [],
   "source": [
    "train.일자 = train.일자.astype('datetime64')\n",
    "test.일자 = test.일자.astype('datetime64')"
   ]
  },
  {
   "cell_type": "code",
   "execution_count": null,
   "metadata": {
    "ExecuteTime": {
     "end_time": "2022-02-21T13:54:22.986408Z",
     "start_time": "2022-02-21T13:54:22.972406Z"
    }
   },
   "outputs": [],
   "source": [
    "train['월'] = train.일자.dt.month\n",
    "train['일'] = train.일자.dt.day\n",
    "train['년'] = train.일자.dt.year\n",
    "\n",
    "test['월'] = test.일자.dt.month\n",
    "test['일'] = test.일자.dt.day\n",
    "test['년'] = test.일자.dt.year"
   ]
  },
  {
   "cell_type": "code",
   "execution_count": null,
   "metadata": {
    "ExecuteTime": {
     "end_time": "2022-02-21T13:54:23.017775Z",
     "start_time": "2022-02-21T13:54:22.988410Z"
    }
   },
   "outputs": [],
   "source": [
    "train['식사가능자수'] = train['본사정원수'] - train['본사출장자수'] - train['본사휴가자수'] - train['현본사소속재택근무자수']\n",
    "test['식사가능자수'] = test['본사정원수'] - test['본사출장자수'] - test['본사휴가자수'] - test['현본사소속재택근무자수']\n",
    "\n",
    "# train['휴가비율'] = train['본사휴가자수']/train['본사정원수']\n",
    "# test['휴가비율'] = test['본사휴가자수']/test['본사정원수']\n",
    "\n",
    "# train['출장비율'] = train['본사출장자수']/train['본사정원수']\n",
    "# test['출장비율'] = test['본사출장자수']/test['본사정원수']\n",
    "\n",
    "train['야근비율'] = train['본사시간외근무명령서승인건수']/train['식사가능자수']\n",
    "test['야근비율'] = test['본사시간외근무명령서승인건수']/test['식사가능자수']\n",
    "\n",
    "# train['재택비율'] = train['현본사소속재택근무자수']/train['본사정원수']\n",
    "# test['재택비율'] = test['현본사소속재택근무자수']/test['본사정원수']"
   ]
  },
  {
   "cell_type": "code",
   "execution_count": null,
   "metadata": {
    "ExecuteTime": {
     "end_time": "2022-02-21T13:54:23.033386Z",
     "start_time": "2022-02-21T13:54:23.020429Z"
    }
   },
   "outputs": [],
   "source": [
    "train.loc[train.중식계==0,['일자','요일','석식메뉴']]\n",
    "# 중식 = 0 인 날 없음"
   ]
  },
  {
   "cell_type": "code",
   "execution_count": null,
   "metadata": {
    "ExecuteTime": {
     "end_time": "2022-02-21T13:54:23.064571Z",
     "start_time": "2022-02-21T13:54:23.035385Z"
    },
    "scrolled": true
   },
   "outputs": [],
   "source": [
    "train.loc[train.석식계==0,['일자','요일','석식메뉴']]\n",
    "# 마지막주(4주차도 있고 5주차도 있는거보면 애매) 수요일\n",
    "# 17-9-29: 추석 전 금요일\n",
    "# 18-2-14: 설날 전 수요일\n",
    "# 18-9-19: 다음주 수요일이 추석이라서 마지막주 수요일이긴 함\n",
    "# 19-12-31: 마지막주 수요일이 성탄절, 다음날이 설날이라서 이때 안하는듯"
   ]
  },
  {
   "cell_type": "code",
   "execution_count": null,
   "metadata": {
    "ExecuteTime": {
     "end_time": "2022-02-21T13:54:23.095599Z",
     "start_time": "2022-02-21T13:54:23.065390Z"
    },
    "scrolled": true
   },
   "outputs": [],
   "source": [
    "# test : 메뉴가 비워져있는 경우는 없음 -> 공휴일이 존재하긴함\n",
    "test.loc[:,['일자','요일','석식메뉴']]"
   ]
  },
  {
   "cell_type": "markdown",
   "metadata": {},
   "source": [
    "## 메뉴정리"
   ]
  },
  {
   "cell_type": "code",
   "execution_count": null,
   "metadata": {
    "ExecuteTime": {
     "end_time": "2022-02-21T13:54:23.110599Z",
     "start_time": "2022-02-21T13:54:23.097603Z"
    }
   },
   "outputs": [],
   "source": [
    "train.columns"
   ]
  },
  {
   "cell_type": "markdown",
   "metadata": {},
   "source": [
    "### 중식"
   ]
  },
  {
   "cell_type": "markdown",
   "metadata": {},
   "source": [
    "#### split"
   ]
  },
  {
   "cell_type": "code",
   "execution_count": null,
   "metadata": {
    "ExecuteTime": {
     "end_time": "2022-02-21T13:54:23.126742Z",
     "start_time": "2022-02-21T13:54:23.112709Z"
    }
   },
   "outputs": [],
   "source": [
    "def split_menu(x):\n",
    "  menu_return = []  #return할 메뉴 데이터. 메뉴 스플릿 & 원산지 제외\n",
    "  for data in x:\n",
    "    menus = []              #전처리된 메뉴\n",
    "    menus_sp = data.split() #띄어쓰기 split\n",
    "    for menu_sp in menus_sp:\n",
    "      if '(' in menu_sp:\n",
    "        pass\n",
    "      elif ',' in menu_sp:  #comma split\n",
    "        menus_comma = menu_sp.split(',')\n",
    "        for menu_comma in menus_comma:\n",
    "          menus.append(menu_comma)\n",
    "      else:\n",
    "        menus.append(menu_sp)\n",
    "    menu_return.append(menus)\n",
    "  return menu_return"
   ]
  },
  {
   "cell_type": "code",
   "execution_count": null,
   "metadata": {
    "ExecuteTime": {
     "end_time": "2022-02-21T13:54:23.141882Z",
     "start_time": "2022-02-21T13:54:23.128644Z"
    }
   },
   "outputs": [],
   "source": [
    "train['중식메뉴리스트'] = split_menu(train['중식메뉴'])"
   ]
  },
  {
   "cell_type": "markdown",
   "metadata": {},
   "source": [
    "#### 메뉴 종류별 구분\n"
   ]
  },
  {
   "cell_type": "code",
   "execution_count": null,
   "metadata": {
    "ExecuteTime": {
     "end_time": "2022-02-21T13:54:23.281164Z",
     "start_time": "2022-02-21T13:54:23.143886Z"
    }
   },
   "outputs": [],
   "source": [
    "# 위에서 언급한 메인, 국, 반찬만 나누어주기\n",
    "lunch_menu = train['중식메뉴리스트']\n",
    "\n",
    "bob=[]\n",
    "soup=[]\n",
    "main=[]\n",
    "\n",
    "for i in range(len(train)):\n",
    "    if lunch_menu[i][0]:\n",
    "        bob.append(lunch_menu[i][0])\n",
    "    if lunch_menu[i][1]:\n",
    "        soup.append(lunch_menu[i][1])\n",
    "    if lunch_menu[i][2]:\n",
    "        main.append(lunch_menu[i][2])"
   ]
  },
  {
   "cell_type": "code",
   "execution_count": null,
   "metadata": {
    "ExecuteTime": {
     "end_time": "2022-02-21T13:54:23.296827Z",
     "start_time": "2022-02-21T13:54:23.283780Z"
    }
   },
   "outputs": [],
   "source": [
    "#누락이 있으면 안되므로 확인해주자\n",
    "\n",
    "print(len(bob))\n",
    "print(len(soup))\n",
    "print(len(main))\n",
    "print('--')\n",
    "print(len(train))"
   ]
  },
  {
   "cell_type": "code",
   "execution_count": null,
   "metadata": {
    "ExecuteTime": {
     "end_time": "2022-02-21T13:54:23.327639Z",
     "start_time": "2022-02-21T13:54:23.298779Z"
    }
   },
   "outputs": [],
   "source": [
    "bob"
   ]
  },
  {
   "cell_type": "code",
   "execution_count": null,
   "metadata": {
    "ExecuteTime": {
     "end_time": "2022-02-21T13:54:23.343737Z",
     "start_time": "2022-02-21T13:54:23.329637Z"
    }
   },
   "outputs": [],
   "source": [
    "temp = []\n",
    "for b in bob:\n",
    "    if b.split('/')[0] == \"쌀밥\":\n",
    "        temp.append(\"쌀밥\")\n",
    "    else:\n",
    "        temp.append(b)\n",
    "        \n",
    "bob = temp"
   ]
  },
  {
   "cell_type": "code",
   "execution_count": null,
   "metadata": {
    "ExecuteTime": {
     "end_time": "2022-02-21T13:54:23.359526Z",
     "start_time": "2022-02-21T13:54:23.345637Z"
    }
   },
   "outputs": [],
   "source": [
    "#확인후에 추가\n",
    "train['bob_l'] = bob\n",
    "train['soup_l'] = soup\n",
    "train['main_l'] = main"
   ]
  },
  {
   "cell_type": "code",
   "execution_count": null,
   "metadata": {
    "ExecuteTime": {
     "end_time": "2022-02-21T13:54:23.375053Z",
     "start_time": "2022-02-21T13:54:23.362401Z"
    },
    "scrolled": true
   },
   "outputs": [],
   "source": [
    "train['bob_l'].value_counts()"
   ]
  },
  {
   "cell_type": "code",
   "execution_count": null,
   "metadata": {
    "ExecuteTime": {
     "end_time": "2022-02-21T13:54:23.390950Z",
     "start_time": "2022-02-21T13:54:23.377053Z"
    }
   },
   "outputs": [],
   "source": [
    "train['soup_l'].value_counts()"
   ]
  },
  {
   "cell_type": "code",
   "execution_count": null,
   "metadata": {
    "ExecuteTime": {
     "end_time": "2022-02-21T13:54:23.406878Z",
     "start_time": "2022-02-21T13:54:23.392745Z"
    }
   },
   "outputs": [],
   "source": [
    "train['main_l'].value_counts()"
   ]
  },
  {
   "cell_type": "code",
   "execution_count": null,
   "metadata": {
    "ExecuteTime": {
     "end_time": "2022-02-21T13:54:23.438803Z",
     "start_time": "2022-02-21T13:54:23.408745Z"
    }
   },
   "outputs": [],
   "source": [
    "train.head()"
   ]
  },
  {
   "cell_type": "markdown",
   "metadata": {},
   "source": [
    "### 석식"
   ]
  },
  {
   "cell_type": "markdown",
   "metadata": {},
   "source": [
    "#### split"
   ]
  },
  {
   "cell_type": "code",
   "execution_count": null,
   "metadata": {
    "ExecuteTime": {
     "end_time": "2022-02-21T13:54:23.468687Z",
     "start_time": "2022-02-21T13:54:23.443768Z"
    }
   },
   "outputs": [],
   "source": [
    "train['석식메뉴리스트'] = split_menu(train['석식메뉴'])"
   ]
  },
  {
   "cell_type": "markdown",
   "metadata": {},
   "source": [
    "#### 메뉴 종류별 구분"
   ]
  },
  {
   "cell_type": "code",
   "execution_count": null,
   "metadata": {
    "ExecuteTime": {
     "end_time": "2022-02-21T13:54:23.483827Z",
     "start_time": "2022-02-21T13:54:23.470856Z"
    }
   },
   "outputs": [],
   "source": [
    "dinner_menu = train['석식메뉴리스트']\n",
    "\n",
    "bobd=[]\n",
    "soupd=[]\n",
    "maind=[]\n",
    "\n",
    "\n",
    "for word in  dinner_menu:\n",
    "    \n",
    "    \n",
    "    if len(word) == 0:\n",
    "        bobd.append('None') #비어있으면 그 날짜자체가 없어질수있으므로 'None' 값으로 대체\n",
    "        soupd.append('None')\n",
    "        maind.append('None')\n",
    "    elif '*' in word:\n",
    "        bobd.append('None')\n",
    "        soupd.append('None')\n",
    "        maind.append('None')\n",
    "    elif '가정의날' in word:\n",
    "        bobd.append('None')\n",
    "        soupd.append('None')\n",
    "        maind.append('None')\n",
    "    elif '가정의달' in word:\n",
    "        bobd.append('None')\n",
    "        soupd.append('None')\n",
    "        maind.append('None')\n",
    "    elif '자기계발의날' in word:\n",
    "        bobd.append('None')\n",
    "        soupd.append('None')\n",
    "        maind.append('None')\n",
    "    elif '*자기계발의날*' in word:\n",
    "        bobd.append('None')\n",
    "        soupd.append('None')\n",
    "        maind.append('None')\n",
    "    elif '자기개발의날' in word:\n",
    "        bobd.append('None')\n",
    "        soupd.append('None')\n",
    "        maind.append('None')\n",
    "\n",
    "    else:\n",
    "        bobd.append(word[0])\n",
    "        soupd.append(word[1])\n",
    "        maind.append(word[2])"
   ]
  },
  {
   "cell_type": "code",
   "execution_count": null,
   "metadata": {
    "ExecuteTime": {
     "end_time": "2022-02-21T13:54:23.499881Z",
     "start_time": "2022-02-21T13:54:23.485796Z"
    }
   },
   "outputs": [],
   "source": [
    "#다들어왔는지 확인\n",
    "print(len(dinner_menu))\n",
    "print(len(bobd))\n",
    "print(len(soupd))\n",
    "print(len(maind))"
   ]
  },
  {
   "cell_type": "code",
   "execution_count": null,
   "metadata": {
    "ExecuteTime": {
     "end_time": "2022-02-21T13:54:23.516043Z",
     "start_time": "2022-02-21T13:54:23.501885Z"
    }
   },
   "outputs": [],
   "source": [
    "temp = []\n",
    "for b in bobd:\n",
    "    if b.split('/')[0] == \"쌀밥\":\n",
    "        temp.append(\"쌀밥\")\n",
    "    else:\n",
    "        temp.append(b)\n",
    "        \n",
    "bobd = temp"
   ]
  },
  {
   "cell_type": "code",
   "execution_count": null,
   "metadata": {
    "ExecuteTime": {
     "end_time": "2022-02-21T13:54:23.531857Z",
     "start_time": "2022-02-21T13:54:23.517883Z"
    }
   },
   "outputs": [],
   "source": [
    "train['bob_d'] = bobd\n",
    "train['soup_d'] = soupd\n",
    "train['main_d'] = maind"
   ]
  },
  {
   "cell_type": "code",
   "execution_count": null,
   "metadata": {
    "ExecuteTime": {
     "end_time": "2022-02-21T13:54:23.547331Z",
     "start_time": "2022-02-21T13:54:23.533620Z"
    }
   },
   "outputs": [],
   "source": [
    "train['bob_d'].value_counts()"
   ]
  },
  {
   "cell_type": "code",
   "execution_count": null,
   "metadata": {
    "ExecuteTime": {
     "end_time": "2022-02-21T13:54:23.562657Z",
     "start_time": "2022-02-21T13:54:23.550673Z"
    }
   },
   "outputs": [],
   "source": [
    "train['soup_d'].value_counts()"
   ]
  },
  {
   "cell_type": "code",
   "execution_count": null,
   "metadata": {
    "ExecuteTime": {
     "end_time": "2022-02-21T13:54:23.578743Z",
     "start_time": "2022-02-21T13:54:23.564657Z"
    }
   },
   "outputs": [],
   "source": [
    "train['main_d'].value_counts()"
   ]
  },
  {
   "cell_type": "markdown",
   "metadata": {},
   "source": [
    "## test"
   ]
  },
  {
   "cell_type": "code",
   "execution_count": null,
   "metadata": {
    "ExecuteTime": {
     "end_time": "2022-02-21T13:54:23.594650Z",
     "start_time": "2022-02-21T13:54:23.580651Z"
    }
   },
   "outputs": [],
   "source": [
    "test['중식메뉴리스트'] = split_menu(test['중식메뉴'])\n",
    "test['석식메뉴리스트'] = split_menu(test['석식메뉴'])"
   ]
  },
  {
   "cell_type": "code",
   "execution_count": null,
   "metadata": {
    "ExecuteTime": {
     "end_time": "2022-02-21T13:54:23.609947Z",
     "start_time": "2022-02-21T13:54:23.596657Z"
    }
   },
   "outputs": [],
   "source": [
    "# 위에서 언급한 메인, 국, 반찬만 나누어주기\n",
    "lunch_menu = test['중식메뉴리스트']\n",
    "\n",
    "bob=[]\n",
    "soup=[]\n",
    "main=[]\n",
    "\n",
    "for i in range(len(test)):\n",
    "    if lunch_menu[i][0]:\n",
    "        bob.append(lunch_menu[i][0])\n",
    "    if lunch_menu[i][1]:\n",
    "        soup.append(lunch_menu[i][1])\n",
    "    if lunch_menu[i][2]:\n",
    "        main.append(lunch_menu[i][2])"
   ]
  },
  {
   "cell_type": "code",
   "execution_count": null,
   "metadata": {
    "ExecuteTime": {
     "end_time": "2022-02-21T13:54:23.624899Z",
     "start_time": "2022-02-21T13:54:23.611791Z"
    }
   },
   "outputs": [],
   "source": [
    "#누락이 있으면 안되므로 확인해주자\n",
    "\n",
    "print(len(bob))\n",
    "print(len(soup))\n",
    "print(len(main))\n",
    "print('--')\n",
    "print(len(test))"
   ]
  },
  {
   "cell_type": "code",
   "execution_count": null,
   "metadata": {
    "ExecuteTime": {
     "end_time": "2022-02-21T13:54:23.640229Z",
     "start_time": "2022-02-21T13:54:23.626816Z"
    }
   },
   "outputs": [],
   "source": [
    "temp = []\n",
    "for b in bob:\n",
    "    if b.split('/')[0] == \"쌀밥\":\n",
    "        temp.append(\"쌀밥\")\n",
    "    else:\n",
    "        temp.append(b)\n",
    "        \n",
    "bob = temp"
   ]
  },
  {
   "cell_type": "code",
   "execution_count": null,
   "metadata": {
    "ExecuteTime": {
     "end_time": "2022-02-21T13:54:23.655768Z",
     "start_time": "2022-02-21T13:54:23.644522Z"
    }
   },
   "outputs": [],
   "source": [
    "#확인후에 추가\n",
    "test['bob_l'] = bob\n",
    "test['soup_l'] = soup\n",
    "test['main_l'] = main"
   ]
  },
  {
   "cell_type": "code",
   "execution_count": null,
   "metadata": {
    "ExecuteTime": {
     "end_time": "2022-02-21T13:54:23.702623Z",
     "start_time": "2022-02-21T13:54:23.657769Z"
    }
   },
   "outputs": [],
   "source": [
    "test.head()"
   ]
  },
  {
   "cell_type": "code",
   "execution_count": null,
   "metadata": {
    "ExecuteTime": {
     "end_time": "2022-02-21T13:54:23.717663Z",
     "start_time": "2022-02-21T13:54:23.704619Z"
    }
   },
   "outputs": [],
   "source": [
    "dinner_menu = test['석식메뉴리스트']\n",
    "\n",
    "bobd=[]\n",
    "soupd=[]\n",
    "maind=[]\n",
    "\n",
    "\n",
    "for word in  dinner_menu:\n",
    "\n",
    "    bobd.append(word[0])\n",
    "    soupd.append(word[1])\n",
    "    maind.append(word[2])"
   ]
  },
  {
   "cell_type": "code",
   "execution_count": null,
   "metadata": {
    "ExecuteTime": {
     "end_time": "2022-02-21T13:54:23.733758Z",
     "start_time": "2022-02-21T13:54:23.720671Z"
    }
   },
   "outputs": [],
   "source": [
    "#다들어왔는지 확인\n",
    "print(len(dinner_menu))\n",
    "print(len(bobd))\n",
    "print(len(soupd))\n",
    "print('-'*10)\n",
    "print(len(maind))"
   ]
  },
  {
   "cell_type": "code",
   "execution_count": null,
   "metadata": {
    "ExecuteTime": {
     "end_time": "2022-02-21T13:54:23.749093Z",
     "start_time": "2022-02-21T13:54:23.735671Z"
    }
   },
   "outputs": [],
   "source": [
    "temp = []\n",
    "for b in bobd:\n",
    "    if b.split('/')[0] == \"쌀밥\":\n",
    "        temp.append(\"쌀밥\")\n",
    "    else:\n",
    "        temp.append(b)\n",
    "        \n",
    "bobd = temp"
   ]
  },
  {
   "cell_type": "code",
   "execution_count": null,
   "metadata": {
    "ExecuteTime": {
     "end_time": "2022-02-21T13:54:23.764694Z",
     "start_time": "2022-02-21T13:54:23.750609Z"
    }
   },
   "outputs": [],
   "source": [
    "test['bob_d'] = bobd\n",
    "test['soup_d'] = soupd\n",
    "test['main_d'] = maind"
   ]
  },
  {
   "cell_type": "code",
   "execution_count": null,
   "metadata": {
    "ExecuteTime": {
     "end_time": "2022-02-21T13:54:23.811910Z",
     "start_time": "2022-02-21T13:54:23.768607Z"
    }
   },
   "outputs": [],
   "source": [
    "test.head()"
   ]
  },
  {
   "cell_type": "markdown",
   "metadata": {},
   "source": [
    "## Encoding"
   ]
  },
  {
   "cell_type": "code",
   "execution_count": null,
   "metadata": {
    "ExecuteTime": {
     "end_time": "2022-02-21T13:54:23.857954Z",
     "start_time": "2022-02-21T13:54:23.845033Z"
    }
   },
   "outputs": [],
   "source": [
    "train.columns"
   ]
  },
  {
   "cell_type": "code",
   "execution_count": null,
   "metadata": {
    "ExecuteTime": {
     "end_time": "2022-02-21T13:58:33.146068Z",
     "start_time": "2022-02-21T13:58:33.132363Z"
    }
   },
   "outputs": [],
   "source": [
    "from sklearn.preprocessing import LabelEncoder\n",
    "\n",
    "le = LabelEncoder()\n",
    "le.fit(pd.concat([train['bob_l'],test['bob_l']]).unique())\n",
    "train['bob_l']  = le.transform(train['bob_l'])\n",
    "\n",
    "test['bob_l'] = le.transform(test['bob_l'])"
   ]
  },
  {
   "cell_type": "code",
   "execution_count": null,
   "metadata": {
    "ExecuteTime": {
     "end_time": "2022-02-21T13:59:04.445454Z",
     "start_time": "2022-02-21T13:59:04.432661Z"
    }
   },
   "outputs": [],
   "source": [
    "le = LabelEncoder()\n",
    "le.fit(pd.concat([train['soup_l'],test['soup_l']]).unique())\n",
    "train['soup_l']  = le.transform(train['soup_l'])\n",
    "\n",
    "test['soup_l'] = le.transform(test['soup_l'])"
   ]
  },
  {
   "cell_type": "code",
   "execution_count": null,
   "metadata": {
    "ExecuteTime": {
     "end_time": "2022-02-21T13:59:37.342298Z",
     "start_time": "2022-02-21T13:59:37.320693Z"
    }
   },
   "outputs": [],
   "source": [
    "le = LabelEncoder()\n",
    "le.fit(pd.concat([train['main_l'],test['main_l']]).unique())\n",
    "train['main_l']  = le.transform(train['main_l'])\n",
    "\n",
    "test['main_l'] = le.transform(test['main_l'])"
   ]
  },
  {
   "cell_type": "code",
   "execution_count": null,
   "metadata": {
    "ExecuteTime": {
     "end_time": "2022-02-21T14:11:41.013476Z",
     "start_time": "2022-02-21T14:11:40.994866Z"
    }
   },
   "outputs": [],
   "source": [
    "le = LabelEncoder()\n",
    "le.fit(pd.concat([train['bob_d'],test['bob_d']]).unique())\n",
    "train['bob_d']  = le.transform(train['bob_d'])\n",
    "\n",
    "test['bob_d'] = le.transform(test['bob_d'])"
   ]
  },
  {
   "cell_type": "code",
   "execution_count": null,
   "metadata": {
    "ExecuteTime": {
     "end_time": "2022-02-21T14:11:54.851004Z",
     "start_time": "2022-02-21T14:11:54.834240Z"
    }
   },
   "outputs": [],
   "source": [
    "le = LabelEncoder()\n",
    "le.fit(pd.concat([train['soup_d'],test['soup_d']]).unique())\n",
    "train['soup_d']  = le.transform(train['soup_d'])\n",
    "\n",
    "test['soup_d'] = le.transform(test['soup_d'])"
   ]
  },
  {
   "cell_type": "code",
   "execution_count": null,
   "metadata": {
    "ExecuteTime": {
     "end_time": "2022-02-21T14:12:09.072090Z",
     "start_time": "2022-02-21T14:12:09.046553Z"
    }
   },
   "outputs": [],
   "source": [
    "le = LabelEncoder()\n",
    "le.fit(pd.concat([train['main_d'],test['main_d']]).unique())\n",
    "train['main_d']  = le.transform(train['main_d'])\n",
    "\n",
    "test['main_d'] = le.transform(test['main_d'])"
   ]
  },
  {
   "cell_type": "markdown",
   "metadata": {
    "ExecuteTime": {
     "end_time": "2022-02-20T14:43:54.312490Z",
     "start_time": "2022-02-20T14:43:54.297152Z"
    }
   },
   "source": [
    "# 모델링"
   ]
  },
  {
   "cell_type": "code",
   "execution_count": null,
   "metadata": {
    "ExecuteTime": {
     "end_time": "2022-02-21T14:12:38.769089Z",
     "start_time": "2022-02-21T14:12:38.751023Z"
    },
    "scrolled": true
   },
   "outputs": [],
   "source": [
    "print('train shape : {}'.format(train.shape))\n",
    "print('test shape : {}'.format(test.shape))"
   ]
  },
  {
   "cell_type": "code",
   "execution_count": null,
   "metadata": {
    "ExecuteTime": {
     "end_time": "2022-02-21T14:13:41.457590Z",
     "start_time": "2022-02-21T14:13:38.809997Z"
    }
   },
   "outputs": [],
   "source": [
    "from pycaret.regression import *"
   ]
  },
  {
   "cell_type": "code",
   "execution_count": null,
   "metadata": {
    "ExecuteTime": {
     "end_time": "2022-02-21T14:13:41.864516Z",
     "start_time": "2022-02-21T14:13:41.851184Z"
    }
   },
   "outputs": [],
   "source": [
    "train.columns"
   ]
  },
  {
   "cell_type": "code",
   "execution_count": null,
   "metadata": {
    "ExecuteTime": {
     "end_time": "2022-02-21T14:13:57.022488Z",
     "start_time": "2022-02-21T14:13:57.003157Z"
    }
   },
   "outputs": [],
   "source": [
    "test.columns"
   ]
  },
  {
   "cell_type": "code",
   "execution_count": null,
   "metadata": {
    "ExecuteTime": {
     "end_time": "2022-02-21T14:41:36.957389Z",
     "start_time": "2022-02-21T14:41:36.926570Z"
    }
   },
   "outputs": [],
   "source": [
    "train_ln = train[['중식계','요일', '본사정원수', '본사휴가자수', '본사출장자수', '본사시간외근무명령서승인건수','현본사소속재택근무자수',\n",
    "                  '평균기온(°C)', '일강수량(mm)', '확진자수', '공휴일전', '공휴일후', '월', '일', '년', '식사가능자수', '야근비율','bob_l', 'soup_l', 'main_l']]\n",
    "train_din = train[['석식계','요일', '본사정원수', '본사휴가자수', '본사출장자수', '본사시간외근무명령서승인건수','현본사소속재택근무자수',\n",
    "                   '평균기온(°C)', '일강수량(mm)', '확진자수', '공휴일전', '공휴일후', '월', '일', '년', '식사가능자수', '야근비율','bob_d', 'soup_d', 'main_d']]\n",
    "\n",
    "test_ln = test[['요일', '본사정원수', '본사휴가자수', '본사출장자수', '본사시간외근무명령서승인건수','현본사소속재택근무자수',\n",
    "                '평균기온(°C)', '일강수량(mm)', '확진자수', '공휴일전', '공휴일후', '월', '일', '년', '식사가능자수', '야근비율','bob_l', 'soup_l', 'main_l']]\n",
    "test_din = test[['요일', '본사정원수', '본사휴가자수', '본사출장자수', '본사시간외근무명령서승인건수','현본사소속재택근무자수',\n",
    "                 '평균기온(°C)', '일강수량(mm)', '확진자수', '공휴일전', '공휴일후', '월', '일', '년', '식사가능자수', '야근비율','bob_d', 'soup_d', 'main_d']]"
   ]
  },
  {
   "cell_type": "markdown",
   "metadata": {},
   "source": [
    "## 중식계"
   ]
  },
  {
   "cell_type": "code",
   "execution_count": null,
   "metadata": {
    "ExecuteTime": {
     "end_time": "2022-02-21T14:41:40.504299Z",
     "start_time": "2022-02-21T14:41:39.212037Z"
    }
   },
   "outputs": [],
   "source": [
    "# 분석 환경 만들기 (setup)\n",
    "s = setup(train_ln, target='중식계')"
   ]
  },
  {
   "cell_type": "code",
   "execution_count": null,
   "metadata": {
    "ExecuteTime": {
     "end_time": "2022-02-21T14:42:18.998878Z",
     "start_time": "2022-02-21T14:41:42.132437Z"
    }
   },
   "outputs": [],
   "source": [
    "# 모델 비교\n",
    "best = compare_models(sort='MAE')"
   ]
  },
  {
   "cell_type": "code",
   "execution_count": null,
   "metadata": {
    "ExecuteTime": {
     "end_time": "2022-02-21T14:42:25.080858Z",
     "start_time": "2022-02-21T14:42:20.974277Z"
    }
   },
   "outputs": [],
   "source": [
    "# 모델 생성\n",
    "et = create_model('et', cross_validation = False)\n",
    "gbr = create_model('gbr', cross_validation = False)\n",
    "lgbm = create_model('lightgbm', cross_validation = False)\n",
    "rf = create_model('rf', cross_validation = False)"
   ]
  },
  {
   "cell_type": "code",
   "execution_count": null,
   "metadata": {
    "ExecuteTime": {
     "end_time": "2022-02-21T14:43:38.870587Z",
     "start_time": "2022-02-21T14:42:27.545474Z"
    }
   },
   "outputs": [],
   "source": [
    "# 모델 하이퍼파라미터 튜닝\n",
    "tuned_et = tune_model(et, optimize='MAE', n_iter=10)\n",
    "tuned_gbr = tune_model(gbr, optimize='MAE', n_iter=10)\n",
    "tuned_lgbm = tune_model(lgbm, optimize='MAE', n_iter=10)\n",
    "tuned_rf = tune_model(rf, optimize='MAE', n_iter=10)"
   ]
  },
  {
   "cell_type": "code",
   "execution_count": null,
   "metadata": {
    "ExecuteTime": {
     "end_time": "2022-02-21T14:43:49.555472Z",
     "start_time": "2022-02-21T14:43:41.531674Z"
    }
   },
   "outputs": [],
   "source": [
    "# 모델 블렌딩\n",
    "blender_specific = blend_models(estimator_list = [tuned_et,tuned_gbr,tuned_lgbm, tuned_rf],\n",
    "                                optimize = 'MAE')"
   ]
  },
  {
   "cell_type": "code",
   "execution_count": null,
   "metadata": {
    "ExecuteTime": {
     "end_time": "2022-02-21T14:44:03.453922Z",
     "start_time": "2022-02-21T14:43:52.921767Z"
    }
   },
   "outputs": [],
   "source": [
    "# 학습 및 예측\n",
    "# 마지막 학습(Finalize)\n",
    "final_model = finalize_model(blender_specific)\n",
    "\n",
    "# 예측(Predict)\n",
    "pred_ln = predict_model(final_model, data = test_ln)"
   ]
  },
  {
   "cell_type": "markdown",
   "metadata": {
    "ExecuteTime": {
     "end_time": "2022-02-21T14:32:14.044055Z",
     "start_time": "2022-02-21T14:32:14.026868Z"
    }
   },
   "source": [
    "## 석식계"
   ]
  },
  {
   "cell_type": "code",
   "execution_count": null,
   "metadata": {
    "ExecuteTime": {
     "end_time": "2022-02-21T14:47:39.546423Z",
     "start_time": "2022-02-21T14:44:05.927243Z"
    }
   },
   "outputs": [],
   "source": [
    "# 분석 환경 만들기 (setup)\n",
    "s = setup(train_din, target='석식계')"
   ]
  },
  {
   "cell_type": "code",
   "execution_count": null,
   "metadata": {
    "ExecuteTime": {
     "end_time": "2022-02-21T14:48:02.761856Z",
     "start_time": "2022-02-21T14:47:41.653800Z"
    }
   },
   "outputs": [],
   "source": [
    "# 모델 비교\n",
    "best = compare_models(sort='MAE')"
   ]
  },
  {
   "cell_type": "code",
   "execution_count": null,
   "metadata": {
    "ExecuteTime": {
     "end_time": "2022-02-21T14:48:08.545736Z",
     "start_time": "2022-02-21T14:48:04.750886Z"
    }
   },
   "outputs": [],
   "source": [
    "# 모델 생성\n",
    "et = create_model('et', cross_validation = False)\n",
    "gbr = create_model('gbr', cross_validation = False)\n",
    "lgbm = create_model('lightgbm', cross_validation = False)\n",
    "rf = create_model('rf', cross_validation = False)"
   ]
  },
  {
   "cell_type": "code",
   "execution_count": null,
   "metadata": {
    "ExecuteTime": {
     "end_time": "2022-02-21T14:51:12.114881Z",
     "start_time": "2022-02-21T14:48:10.555790Z"
    }
   },
   "outputs": [],
   "source": [
    "# 모델 하이퍼파라미터 튜닝\n",
    "tuned_et = tune_model(et, optimize='MAE', n_iter=10)\n",
    "tuned_gbr = tune_model(gbr, optimize='MAE', n_iter=10)\n",
    "tuned_lgbm = tune_model(lgbm, optimize='MAE', n_iter=10)\n",
    "tuned_rf = tune_model(rf, optimize='MAE', n_iter=10)"
   ]
  },
  {
   "cell_type": "code",
   "execution_count": null,
   "metadata": {
    "ExecuteTime": {
     "end_time": "2022-02-21T14:51:23.905633Z",
     "start_time": "2022-02-21T14:51:14.447173Z"
    }
   },
   "outputs": [],
   "source": [
    "# 모델 블렌딩\n",
    "blender_specific = blend_models(estimator_list = [tuned_et,tuned_gbr,tuned_lgbm, tuned_rf],\n",
    "                                optimize = 'MAE')"
   ]
  },
  {
   "cell_type": "code",
   "execution_count": null,
   "metadata": {
    "ExecuteTime": {
     "end_time": "2022-02-21T14:51:37.322284Z",
     "start_time": "2022-02-21T14:51:26.257302Z"
    }
   },
   "outputs": [],
   "source": [
    "# 학습 및 예측\n",
    "# 마지막 학습(Finalize)\n",
    "final_model = finalize_model(blender_specific)\n",
    "\n",
    "# 예측(Predict)\n",
    "pred_din = predict_model(final_model, data = test_din)"
   ]
  },
  {
   "cell_type": "markdown",
   "metadata": {},
   "source": [
    "# Submission"
   ]
  },
  {
   "cell_type": "code",
   "execution_count": null,
   "metadata": {
    "ExecuteTime": {
     "end_time": "2022-02-21T14:51:39.658426Z",
     "start_time": "2022-02-21T14:51:39.645854Z"
    }
   },
   "outputs": [],
   "source": [
    "submission = pd.read_csv(\"./data/sample_submission.csv\")"
   ]
  },
  {
   "cell_type": "code",
   "execution_count": null,
   "metadata": {
    "ExecuteTime": {
     "end_time": "2022-02-21T14:51:41.918332Z",
     "start_time": "2022-02-21T14:51:41.905628Z"
    }
   },
   "outputs": [],
   "source": [
    "submission['중식계'] = pred_ln['Label']\n",
    "submission['석식계'] = pred_din['Label']"
   ]
  },
  {
   "cell_type": "code",
   "execution_count": null,
   "metadata": {
    "ExecuteTime": {
     "end_time": "2022-02-21T14:51:44.249269Z",
     "start_time": "2022-02-21T14:51:44.236310Z"
    }
   },
   "outputs": [],
   "source": [
    "submission.to_csv(\"./data/submission_pycaret.csv\",index=False)"
   ]
  },
  {
   "cell_type": "code",
   "execution_count": null,
   "metadata": {},
   "outputs": [],
   "source": []
  }
 ],
 "metadata": {
  "hide_input": false,
  "kernelspec": {
   "display_name": "Python 3",
   "language": "python",
   "name": "python3"
  },
  "language_info": {
   "codemirror_mode": {
    "name": "ipython",
    "version": 3
   },
   "file_extension": ".py",
   "mimetype": "text/x-python",
   "name": "python",
   "nbconvert_exporter": "python",
   "pygments_lexer": "ipython3",
   "version": "3.8.3"
  },
  "toc": {
   "base_numbering": 1,
   "nav_menu": {},
   "number_sections": true,
   "sideBar": true,
   "skip_h1_title": false,
   "title_cell": "Table of Contents",
   "title_sidebar": "Contents",
   "toc_cell": false,
   "toc_position": {
    "height": "calc(100% - 180px)",
    "left": "10px",
    "top": "150px",
    "width": "242.438px"
   },
   "toc_section_display": true,
   "toc_window_display": true
  },
  "varInspector": {
   "cols": {
    "lenName": 16,
    "lenType": 16,
    "lenVar": 40
   },
   "kernels_config": {
    "python": {
     "delete_cmd_postfix": "",
     "delete_cmd_prefix": "del ",
     "library": "var_list.py",
     "varRefreshCmd": "print(var_dic_list())"
    },
    "r": {
     "delete_cmd_postfix": ") ",
     "delete_cmd_prefix": "rm(",
     "library": "var_list.r",
     "varRefreshCmd": "cat(var_dic_list()) "
    }
   },
   "types_to_exclude": [
    "module",
    "function",
    "builtin_function_or_method",
    "instance",
    "_Feature"
   ],
   "window_display": false
  }
 },
 "nbformat": 4,
 "nbformat_minor": 4
}
