{
 "cells": [
  {
   "cell_type": "markdown",
   "metadata": {},
   "source": [
    "# 구내식당 식사인원 예측"
   ]
  },
  {
   "cell_type": "code",
   "execution_count": 1,
   "metadata": {
    "ExecuteTime": {
     "end_time": "2022-02-21T07:19:12.573034Z",
     "start_time": "2022-02-21T07:19:09.694118Z"
    }
   },
   "outputs": [],
   "source": [
    "import numpy as np\n",
    "import pandas as pd\n",
    "import matplotlib.pyplot as plt\n",
    "import seaborn as sns\n",
    "\n",
    "import holidays\n",
    "import datetime\n",
    "from datetime import timedelta\n",
    "\n",
    "import warnings\n",
    "warnings.filterwarnings('ignore')\n",
    "\n",
    "%matplotlib inline"
   ]
  },
  {
   "cell_type": "code",
   "execution_count": 2,
   "metadata": {
    "ExecuteTime": {
     "end_time": "2022-02-21T07:19:13.397140Z",
     "start_time": "2022-02-21T07:19:13.358940Z"
    }
   },
   "outputs": [],
   "source": [
    "# 사용자 운영체제 확인\n",
    "import os\n",
    "os.name\n",
    "\n",
    "# 운영체제별 한글 폰트 설정\n",
    "if os.name == 'posix': # Mac 환경 폰트 설정\n",
    "    plt.rc('font', family='AppleGothic')\n",
    "elif os.name == 'nt': # Windows 환경 폰트 설정\n",
    "    plt.rc('font', family='Malgun Gothic')\n",
    "\n",
    "plt.rc('axes', unicode_minus=False) # 마이너스 폰트 설정\n",
    "\n",
    "\n",
    "# 글씨 선명하게 출력하는 설정\n",
    "%config InlineBackend.figure_format = 'retina'"
   ]
  },
  {
   "cell_type": "markdown",
   "metadata": {},
   "source": [
    "# Dataset"
   ]
  },
  {
   "cell_type": "code",
   "execution_count": 3,
   "metadata": {
    "ExecuteTime": {
     "end_time": "2022-02-21T07:19:15.544578Z",
     "start_time": "2022-02-21T07:19:15.437870Z"
    }
   },
   "outputs": [],
   "source": [
    "train = pd.read_csv(\"./data/weather_corona_train.csv\", encoding='cp949')\n",
    "test = pd.read_csv(\"./data/weather_corona_test.csv\", encoding='cp949')\n",
    "\n",
    "train = train.iloc[:,1:]\n",
    "test = test.iloc[:,1:]"
   ]
  },
  {
   "cell_type": "code",
   "execution_count": 5,
   "metadata": {
    "ExecuteTime": {
     "end_time": "2022-02-21T07:19:28.986025Z",
     "start_time": "2022-02-21T07:19:28.956695Z"
    }
   },
   "outputs": [
    {
     "data": {
      "text/html": [
       "<div>\n",
       "<style scoped>\n",
       "    .dataframe tbody tr th:only-of-type {\n",
       "        vertical-align: middle;\n",
       "    }\n",
       "\n",
       "    .dataframe tbody tr th {\n",
       "        vertical-align: top;\n",
       "    }\n",
       "\n",
       "    .dataframe thead th {\n",
       "        text-align: right;\n",
       "    }\n",
       "</style>\n",
       "<table border=\"1\" class=\"dataframe\">\n",
       "  <thead>\n",
       "    <tr style=\"text-align: right;\">\n",
       "      <th></th>\n",
       "      <th>일자</th>\n",
       "      <th>요일</th>\n",
       "      <th>본사정원수</th>\n",
       "      <th>본사휴가자수</th>\n",
       "      <th>본사출장자수</th>\n",
       "      <th>본사시간외근무명령서승인건수</th>\n",
       "      <th>현본사소속재택근무자수</th>\n",
       "      <th>조식메뉴</th>\n",
       "      <th>중식메뉴</th>\n",
       "      <th>석식메뉴</th>\n",
       "      <th>중식계</th>\n",
       "      <th>석식계</th>\n",
       "      <th>평균기온(°C)</th>\n",
       "      <th>일강수량(mm)</th>\n",
       "      <th>평균 지면온도(°C)</th>\n",
       "      <th>확진자수</th>\n",
       "    </tr>\n",
       "  </thead>\n",
       "  <tbody>\n",
       "    <tr>\n",
       "      <th>0</th>\n",
       "      <td>2016-02-01</td>\n",
       "      <td>월</td>\n",
       "      <td>2601</td>\n",
       "      <td>50</td>\n",
       "      <td>150</td>\n",
       "      <td>238</td>\n",
       "      <td>0</td>\n",
       "      <td>모닝롤/찐빵  우유/두유/주스 계란후라이  호두죽/쌀밥 (쌀:국내산) 된장찌개  쥐...</td>\n",
       "      <td>쌀밥/잡곡밥 (쌀,현미흑미:국내산) 오징어찌개  쇠불고기 (쇠고기:호주산) 계란찜 ...</td>\n",
       "      <td>쌀밥/잡곡밥 (쌀,현미흑미:국내산) 육개장  자반고등어구이  두부조림  건파래무침 ...</td>\n",
       "      <td>1039</td>\n",
       "      <td>331</td>\n",
       "      <td>-0.6</td>\n",
       "      <td>NaN</td>\n",
       "      <td>2.3</td>\n",
       "      <td>0</td>\n",
       "    </tr>\n",
       "    <tr>\n",
       "      <th>1</th>\n",
       "      <td>2016-02-02</td>\n",
       "      <td>화</td>\n",
       "      <td>2601</td>\n",
       "      <td>50</td>\n",
       "      <td>173</td>\n",
       "      <td>319</td>\n",
       "      <td>0</td>\n",
       "      <td>모닝롤/단호박샌드  우유/두유/주스 계란후라이  팥죽/쌀밥 (쌀:국내산) 호박젓국찌...</td>\n",
       "      <td>쌀밥/잡곡밥 (쌀,현미흑미:국내산) 김치찌개  가자미튀김  모둠소세지구이  마늘쫑무...</td>\n",
       "      <td>콩나물밥*양념장 (쌀,현미흑미:국내산) 어묵국  유산슬 (쇠고기:호주산) 아삭고추무...</td>\n",
       "      <td>867</td>\n",
       "      <td>560</td>\n",
       "      <td>-2.3</td>\n",
       "      <td>NaN</td>\n",
       "      <td>1.2</td>\n",
       "      <td>0</td>\n",
       "    </tr>\n",
       "    <tr>\n",
       "      <th>2</th>\n",
       "      <td>2016-02-03</td>\n",
       "      <td>수</td>\n",
       "      <td>2601</td>\n",
       "      <td>56</td>\n",
       "      <td>180</td>\n",
       "      <td>111</td>\n",
       "      <td>0</td>\n",
       "      <td>모닝롤/베이글  우유/두유/주스 계란후라이  표고버섯죽/쌀밥 (쌀:국내산) 콩나물국...</td>\n",
       "      <td>카레덮밥 (쌀,현미흑미:국내산) 팽이장국  치킨핑거 (닭고기:국내산) 쫄면야채무침 ...</td>\n",
       "      <td>쌀밥/잡곡밥 (쌀,현미흑미:국내산) 청국장찌개  황태양념구이 (황태:러시아산) 고기...</td>\n",
       "      <td>1017</td>\n",
       "      <td>573</td>\n",
       "      <td>-1.7</td>\n",
       "      <td>NaN</td>\n",
       "      <td>1.3</td>\n",
       "      <td>0</td>\n",
       "    </tr>\n",
       "    <tr>\n",
       "      <th>3</th>\n",
       "      <td>2016-02-04</td>\n",
       "      <td>목</td>\n",
       "      <td>2601</td>\n",
       "      <td>104</td>\n",
       "      <td>220</td>\n",
       "      <td>355</td>\n",
       "      <td>0</td>\n",
       "      <td>모닝롤/토마토샌드  우유/두유/주스 계란후라이  닭죽/쌀밥 (쌀,닭:국내산) 근대국...</td>\n",
       "      <td>쌀밥/잡곡밥 (쌀,현미흑미:국내산) 쇠고기무국  주꾸미볶음  부추전  시금치나물  ...</td>\n",
       "      <td>미니김밥*겨자장 (쌀,현미흑미:국내산) 우동  멕시칸샐러드  군고구마  무피클  포...</td>\n",
       "      <td>978</td>\n",
       "      <td>525</td>\n",
       "      <td>-0.2</td>\n",
       "      <td>NaN</td>\n",
       "      <td>1.0</td>\n",
       "      <td>0</td>\n",
       "    </tr>\n",
       "    <tr>\n",
       "      <th>4</th>\n",
       "      <td>2016-02-05</td>\n",
       "      <td>금</td>\n",
       "      <td>2601</td>\n",
       "      <td>278</td>\n",
       "      <td>181</td>\n",
       "      <td>34</td>\n",
       "      <td>0</td>\n",
       "      <td>모닝롤/와플  우유/두유/주스 계란후라이  쇠고기죽/쌀밥 (쌀:국내산) 재첩국  방...</td>\n",
       "      <td>쌀밥/잡곡밥 (쌀,현미흑미:국내산) 떡국  돈육씨앗강정 (돼지고기:국내산) 우엉잡채...</td>\n",
       "      <td>쌀밥/잡곡밥 (쌀,현미흑미:국내산) 차돌박이찌개 (쇠고기:호주산) 닭갈비 (닭고기:...</td>\n",
       "      <td>925</td>\n",
       "      <td>330</td>\n",
       "      <td>1.3</td>\n",
       "      <td>NaN</td>\n",
       "      <td>2.4</td>\n",
       "      <td>0</td>\n",
       "    </tr>\n",
       "  </tbody>\n",
       "</table>\n",
       "</div>"
      ],
      "text/plain": [
       "           일자 요일  본사정원수  본사휴가자수  본사출장자수  본사시간외근무명령서승인건수  현본사소속재택근무자수  \\\n",
       "0  2016-02-01  월   2601      50     150             238            0   \n",
       "1  2016-02-02  화   2601      50     173             319            0   \n",
       "2  2016-02-03  수   2601      56     180             111            0   \n",
       "3  2016-02-04  목   2601     104     220             355            0   \n",
       "4  2016-02-05  금   2601     278     181              34            0   \n",
       "\n",
       "                                                조식메뉴  \\\n",
       "0  모닝롤/찐빵  우유/두유/주스 계란후라이  호두죽/쌀밥 (쌀:국내산) 된장찌개  쥐...   \n",
       "1  모닝롤/단호박샌드  우유/두유/주스 계란후라이  팥죽/쌀밥 (쌀:국내산) 호박젓국찌...   \n",
       "2  모닝롤/베이글  우유/두유/주스 계란후라이  표고버섯죽/쌀밥 (쌀:국내산) 콩나물국...   \n",
       "3  모닝롤/토마토샌드  우유/두유/주스 계란후라이  닭죽/쌀밥 (쌀,닭:국내산) 근대국...   \n",
       "4  모닝롤/와플  우유/두유/주스 계란후라이  쇠고기죽/쌀밥 (쌀:국내산) 재첩국  방...   \n",
       "\n",
       "                                                중식메뉴  \\\n",
       "0  쌀밥/잡곡밥 (쌀,현미흑미:국내산) 오징어찌개  쇠불고기 (쇠고기:호주산) 계란찜 ...   \n",
       "1  쌀밥/잡곡밥 (쌀,현미흑미:국내산) 김치찌개  가자미튀김  모둠소세지구이  마늘쫑무...   \n",
       "2  카레덮밥 (쌀,현미흑미:국내산) 팽이장국  치킨핑거 (닭고기:국내산) 쫄면야채무침 ...   \n",
       "3  쌀밥/잡곡밥 (쌀,현미흑미:국내산) 쇠고기무국  주꾸미볶음  부추전  시금치나물  ...   \n",
       "4  쌀밥/잡곡밥 (쌀,현미흑미:국내산) 떡국  돈육씨앗강정 (돼지고기:국내산) 우엉잡채...   \n",
       "\n",
       "                                                석식메뉴   중식계  석식계  평균기온(°C)  \\\n",
       "0  쌀밥/잡곡밥 (쌀,현미흑미:국내산) 육개장  자반고등어구이  두부조림  건파래무침 ...  1039  331      -0.6   \n",
       "1  콩나물밥*양념장 (쌀,현미흑미:국내산) 어묵국  유산슬 (쇠고기:호주산) 아삭고추무...   867  560      -2.3   \n",
       "2  쌀밥/잡곡밥 (쌀,현미흑미:국내산) 청국장찌개  황태양념구이 (황태:러시아산) 고기...  1017  573      -1.7   \n",
       "3  미니김밥*겨자장 (쌀,현미흑미:국내산) 우동  멕시칸샐러드  군고구마  무피클  포...   978  525      -0.2   \n",
       "4  쌀밥/잡곡밥 (쌀,현미흑미:국내산) 차돌박이찌개 (쇠고기:호주산) 닭갈비 (닭고기:...   925  330       1.3   \n",
       "\n",
       "   일강수량(mm)  평균 지면온도(°C)  확진자수  \n",
       "0       NaN          2.3     0  \n",
       "1       NaN          1.2     0  \n",
       "2       NaN          1.3     0  \n",
       "3       NaN          1.0     0  \n",
       "4       NaN          2.4     0  "
      ]
     },
     "execution_count": 5,
     "metadata": {},
     "output_type": "execute_result"
    }
   ],
   "source": [
    "train.head()"
   ]
  },
  {
   "cell_type": "markdown",
   "metadata": {},
   "source": [
    "# 전처리 및 EDA"
   ]
  },
  {
   "cell_type": "markdown",
   "metadata": {},
   "source": [
    "## EDA"
   ]
  },
  {
   "cell_type": "code",
   "execution_count": 6,
   "metadata": {
    "ExecuteTime": {
     "end_time": "2022-02-21T07:20:07.437263Z",
     "start_time": "2022-02-21T07:20:07.078843Z"
    }
   },
   "outputs": [
    {
     "data": {
      "image/png": "[encoded data removed]",
      "text/plain": [
       "<Figure size 576x576 with 1 Axes>"
      ]
     },
     "metadata": {
      "image/png": {
       "height": 496,
       "width": 504
      },
      "needs_background": "light"
     },
     "output_type": "display_data"
    }
   ],
   "source": [
    "plt.figure(figsize=(8,8))\n",
    "\n",
    "\n",
    "sns.barplot(x=\"요일\", y=\"중식계\", data=train)\n",
    "plt.title(\"요일별 점시시간 수\")\n",
    "plt.show()"
   ]
  },
  {
   "cell_type": "code",
   "execution_count": 7,
   "metadata": {
    "ExecuteTime": {
     "end_time": "2022-02-21T07:20:08.318108Z",
     "start_time": "2022-02-21T07:20:08.028850Z"
    }
   },
   "outputs": [
    {
     "data": {
      "image/png": "[encoded data removed]",
      "text/plain": [
       "<Figure size 576x576 with 1 Axes>"
      ]
     },
     "metadata": {
      "image/png": {
       "height": 496,
       "width": 498
      },
      "needs_background": "light"
     },
     "output_type": "display_data"
    }
   ],
   "source": [
    "plt.figure(figsize=(8,8))\n",
    "\n",
    "\n",
    "sns.barplot(x=\"요일\", y=\"석식계\", data=train)\n",
    "plt.title(\"요일별 점시시간 수\")\n",
    "plt.show()"
   ]
  },
  {
   "cell_type": "markdown",
   "metadata": {},
   "source": [
    "## 날씨"
   ]
  },
  {
   "cell_type": "code",
   "execution_count": 10,
   "metadata": {
    "ExecuteTime": {
     "end_time": "2022-02-21T07:20:59.609735Z",
     "start_time": "2022-02-21T07:20:59.603242Z"
    }
   },
   "outputs": [
    {
     "data": {
      "text/plain": [
       "Index(['일자', '요일', '본사정원수', '본사휴가자수', '본사출장자수', '본사시간외근무명령서승인건수',\n",
       "       '현본사소속재택근무자수', '조식메뉴', '중식메뉴', '석식메뉴', '중식계', '석식계', '평균기온(°C)',\n",
       "       '일강수량(mm)', '평균 지면온도(°C)', '확진자수'],\n",
       "      dtype='object')"
      ]
     },
     "execution_count": 10,
     "metadata": {},
     "output_type": "execute_result"
    }
   ],
   "source": [
    "train.columns"
   ]
  },
  {
   "cell_type": "code",
   "execution_count": 8,
   "metadata": {
    "ExecuteTime": {
     "end_time": "2022-02-21T07:20:22.369036Z",
     "start_time": "2022-02-21T07:20:22.348352Z"
    }
   },
   "outputs": [
    {
     "data": {
      "text/html": [
       "<div>\n",
       "<style scoped>\n",
       "    .dataframe tbody tr th:only-of-type {\n",
       "        vertical-align: middle;\n",
       "    }\n",
       "\n",
       "    .dataframe tbody tr th {\n",
       "        vertical-align: top;\n",
       "    }\n",
       "\n",
       "    .dataframe thead th {\n",
       "        text-align: right;\n",
       "    }\n",
       "</style>\n",
       "<table border=\"1\" class=\"dataframe\">\n",
       "  <thead>\n",
       "    <tr style=\"text-align: right;\">\n",
       "      <th></th>\n",
       "      <th>일자</th>\n",
       "      <th>요일</th>\n",
       "      <th>본사정원수</th>\n",
       "      <th>본사휴가자수</th>\n",
       "      <th>본사출장자수</th>\n",
       "      <th>본사시간외근무명령서승인건수</th>\n",
       "      <th>현본사소속재택근무자수</th>\n",
       "      <th>조식메뉴</th>\n",
       "      <th>중식메뉴</th>\n",
       "      <th>석식메뉴</th>\n",
       "      <th>중식계</th>\n",
       "      <th>석식계</th>\n",
       "      <th>평균기온(°C)</th>\n",
       "      <th>일강수량(mm)</th>\n",
       "      <th>평균 지면온도(°C)</th>\n",
       "      <th>확진자수</th>\n",
       "    </tr>\n",
       "  </thead>\n",
       "  <tbody>\n",
       "    <tr>\n",
       "      <th>0</th>\n",
       "      <td>2016-02-01</td>\n",
       "      <td>월</td>\n",
       "      <td>2601</td>\n",
       "      <td>50</td>\n",
       "      <td>150</td>\n",
       "      <td>238</td>\n",
       "      <td>0</td>\n",
       "      <td>모닝롤/찐빵  우유/두유/주스 계란후라이  호두죽/쌀밥 (쌀:국내산) 된장찌개  쥐...</td>\n",
       "      <td>쌀밥/잡곡밥 (쌀,현미흑미:국내산) 오징어찌개  쇠불고기 (쇠고기:호주산) 계란찜 ...</td>\n",
       "      <td>쌀밥/잡곡밥 (쌀,현미흑미:국내산) 육개장  자반고등어구이  두부조림  건파래무침 ...</td>\n",
       "      <td>1039</td>\n",
       "      <td>331</td>\n",
       "      <td>-0.6</td>\n",
       "      <td>NaN</td>\n",
       "      <td>2.3</td>\n",
       "      <td>0</td>\n",
       "    </tr>\n",
       "    <tr>\n",
       "      <th>1</th>\n",
       "      <td>2016-02-02</td>\n",
       "      <td>화</td>\n",
       "      <td>2601</td>\n",
       "      <td>50</td>\n",
       "      <td>173</td>\n",
       "      <td>319</td>\n",
       "      <td>0</td>\n",
       "      <td>모닝롤/단호박샌드  우유/두유/주스 계란후라이  팥죽/쌀밥 (쌀:국내산) 호박젓국찌...</td>\n",
       "      <td>쌀밥/잡곡밥 (쌀,현미흑미:국내산) 김치찌개  가자미튀김  모둠소세지구이  마늘쫑무...</td>\n",
       "      <td>콩나물밥*양념장 (쌀,현미흑미:국내산) 어묵국  유산슬 (쇠고기:호주산) 아삭고추무...</td>\n",
       "      <td>867</td>\n",
       "      <td>560</td>\n",
       "      <td>-2.3</td>\n",
       "      <td>NaN</td>\n",
       "      <td>1.2</td>\n",
       "      <td>0</td>\n",
       "    </tr>\n",
       "    <tr>\n",
       "      <th>2</th>\n",
       "      <td>2016-02-03</td>\n",
       "      <td>수</td>\n",
       "      <td>2601</td>\n",
       "      <td>56</td>\n",
       "      <td>180</td>\n",
       "      <td>111</td>\n",
       "      <td>0</td>\n",
       "      <td>모닝롤/베이글  우유/두유/주스 계란후라이  표고버섯죽/쌀밥 (쌀:국내산) 콩나물국...</td>\n",
       "      <td>카레덮밥 (쌀,현미흑미:국내산) 팽이장국  치킨핑거 (닭고기:국내산) 쫄면야채무침 ...</td>\n",
       "      <td>쌀밥/잡곡밥 (쌀,현미흑미:국내산) 청국장찌개  황태양념구이 (황태:러시아산) 고기...</td>\n",
       "      <td>1017</td>\n",
       "      <td>573</td>\n",
       "      <td>-1.7</td>\n",
       "      <td>NaN</td>\n",
       "      <td>1.3</td>\n",
       "      <td>0</td>\n",
       "    </tr>\n",
       "    <tr>\n",
       "      <th>3</th>\n",
       "      <td>2016-02-04</td>\n",
       "      <td>목</td>\n",
       "      <td>2601</td>\n",
       "      <td>104</td>\n",
       "      <td>220</td>\n",
       "      <td>355</td>\n",
       "      <td>0</td>\n",
       "      <td>모닝롤/토마토샌드  우유/두유/주스 계란후라이  닭죽/쌀밥 (쌀,닭:국내산) 근대국...</td>\n",
       "      <td>쌀밥/잡곡밥 (쌀,현미흑미:국내산) 쇠고기무국  주꾸미볶음  부추전  시금치나물  ...</td>\n",
       "      <td>미니김밥*겨자장 (쌀,현미흑미:국내산) 우동  멕시칸샐러드  군고구마  무피클  포...</td>\n",
       "      <td>978</td>\n",
       "      <td>525</td>\n",
       "      <td>-0.2</td>\n",
       "      <td>NaN</td>\n",
       "      <td>1.0</td>\n",
       "      <td>0</td>\n",
       "    </tr>\n",
       "    <tr>\n",
       "      <th>4</th>\n",
       "      <td>2016-02-05</td>\n",
       "      <td>금</td>\n",
       "      <td>2601</td>\n",
       "      <td>278</td>\n",
       "      <td>181</td>\n",
       "      <td>34</td>\n",
       "      <td>0</td>\n",
       "      <td>모닝롤/와플  우유/두유/주스 계란후라이  쇠고기죽/쌀밥 (쌀:국내산) 재첩국  방...</td>\n",
       "      <td>쌀밥/잡곡밥 (쌀,현미흑미:국내산) 떡국  돈육씨앗강정 (돼지고기:국내산) 우엉잡채...</td>\n",
       "      <td>쌀밥/잡곡밥 (쌀,현미흑미:국내산) 차돌박이찌개 (쇠고기:호주산) 닭갈비 (닭고기:...</td>\n",
       "      <td>925</td>\n",
       "      <td>330</td>\n",
       "      <td>1.3</td>\n",
       "      <td>NaN</td>\n",
       "      <td>2.4</td>\n",
       "      <td>0</td>\n",
       "    </tr>\n",
       "  </tbody>\n",
       "</table>\n",
       "</div>"
      ],
      "text/plain": [
       "           일자 요일  본사정원수  본사휴가자수  본사출장자수  본사시간외근무명령서승인건수  현본사소속재택근무자수  \\\n",
       "0  2016-02-01  월   2601      50     150             238            0   \n",
       "1  2016-02-02  화   2601      50     173             319            0   \n",
       "2  2016-02-03  수   2601      56     180             111            0   \n",
       "3  2016-02-04  목   2601     104     220             355            0   \n",
       "4  2016-02-05  금   2601     278     181              34            0   \n",
       "\n",
       "                                                조식메뉴  \\\n",
       "0  모닝롤/찐빵  우유/두유/주스 계란후라이  호두죽/쌀밥 (쌀:국내산) 된장찌개  쥐...   \n",
       "1  모닝롤/단호박샌드  우유/두유/주스 계란후라이  팥죽/쌀밥 (쌀:국내산) 호박젓국찌...   \n",
       "2  모닝롤/베이글  우유/두유/주스 계란후라이  표고버섯죽/쌀밥 (쌀:국내산) 콩나물국...   \n",
       "3  모닝롤/토마토샌드  우유/두유/주스 계란후라이  닭죽/쌀밥 (쌀,닭:국내산) 근대국...   \n",
       "4  모닝롤/와플  우유/두유/주스 계란후라이  쇠고기죽/쌀밥 (쌀:국내산) 재첩국  방...   \n",
       "\n",
       "                                                중식메뉴  \\\n",
       "0  쌀밥/잡곡밥 (쌀,현미흑미:국내산) 오징어찌개  쇠불고기 (쇠고기:호주산) 계란찜 ...   \n",
       "1  쌀밥/잡곡밥 (쌀,현미흑미:국내산) 김치찌개  가자미튀김  모둠소세지구이  마늘쫑무...   \n",
       "2  카레덮밥 (쌀,현미흑미:국내산) 팽이장국  치킨핑거 (닭고기:국내산) 쫄면야채무침 ...   \n",
       "3  쌀밥/잡곡밥 (쌀,현미흑미:국내산) 쇠고기무국  주꾸미볶음  부추전  시금치나물  ...   \n",
       "4  쌀밥/잡곡밥 (쌀,현미흑미:국내산) 떡국  돈육씨앗강정 (돼지고기:국내산) 우엉잡채...   \n",
       "\n",
       "                                                석식메뉴   중식계  석식계  평균기온(°C)  \\\n",
       "0  쌀밥/잡곡밥 (쌀,현미흑미:국내산) 육개장  자반고등어구이  두부조림  건파래무침 ...  1039  331      -0.6   \n",
       "1  콩나물밥*양념장 (쌀,현미흑미:국내산) 어묵국  유산슬 (쇠고기:호주산) 아삭고추무...   867  560      -2.3   \n",
       "2  쌀밥/잡곡밥 (쌀,현미흑미:국내산) 청국장찌개  황태양념구이 (황태:러시아산) 고기...  1017  573      -1.7   \n",
       "3  미니김밥*겨자장 (쌀,현미흑미:국내산) 우동  멕시칸샐러드  군고구마  무피클  포...   978  525      -0.2   \n",
       "4  쌀밥/잡곡밥 (쌀,현미흑미:국내산) 차돌박이찌개 (쇠고기:호주산) 닭갈비 (닭고기:...   925  330       1.3   \n",
       "\n",
       "   일강수량(mm)  평균 지면온도(°C)  확진자수  \n",
       "0       NaN          2.3     0  \n",
       "1       NaN          1.2     0  \n",
       "2       NaN          1.3     0  \n",
       "3       NaN          1.0     0  \n",
       "4       NaN          2.4     0  "
      ]
     },
     "execution_count": 8,
     "metadata": {},
     "output_type": "execute_result"
    }
   ],
   "source": [
    "train.head()"
   ]
  },
  {
   "cell_type": "code",
   "execution_count": 11,
   "metadata": {
    "ExecuteTime": {
     "end_time": "2022-02-21T07:21:18.461773Z",
     "start_time": "2022-02-21T07:21:18.449340Z"
    }
   },
   "outputs": [],
   "source": [
    "train.drop(['평균 지면온도(°C)'], axis=1, inplace=True)\n",
    "test.drop(['평균 지면온도(°C)'], axis=1, inplace=True)"
   ]
  },
  {
   "cell_type": "code",
   "execution_count": null,
   "metadata": {},
   "outputs": [],
   "source": [
    "print('train\\n', train.loc[:,['평균기온(°C)','일강수량(mm)']].isnull().sum(), '\\n')\n",
    "print('test\\n', test.loc[:,['평균기온(°C)','일강수량(mm)']].isnull().sum())"
   ]
  },
  {
   "cell_type": "code",
   "execution_count": 20,
   "metadata": {
    "ExecuteTime": {
     "end_time": "2022-02-21T07:28:51.206819Z",
     "start_time": "2022-02-21T07:28:51.186890Z"
    }
   },
   "outputs": [],
   "source": [
    "train['평균기온(°C)'].fillna(method='ffill', inplace=True)"
   ]
  },
  {
   "cell_type": "code",
   "execution_count": 22,
   "metadata": {
    "ExecuteTime": {
     "end_time": "2022-02-21T07:29:45.772997Z",
     "start_time": "2022-02-21T07:29:45.752517Z"
    }
   },
   "outputs": [],
   "source": [
    "train['일강수량(mm)'].fillna(0, inplace=True)\n",
    "test['일강수량(mm)'].fillna(0, inplace=True)"
   ]
  },
  {
   "cell_type": "code",
   "execution_count": 31,
   "metadata": {
    "ExecuteTime": {
     "end_time": "2022-02-21T07:31:38.836910Z",
     "start_time": "2022-02-21T07:31:38.812967Z"
    }
   },
   "outputs": [
    {
     "name": "stdout",
     "output_type": "stream",
     "text": [
      "train\n",
      " 평균기온(°C)    0\n",
      "일강수량(mm)    0\n",
      "dtype: int64 \n",
      "\n",
      "test\n",
      " 평균기온(°C)    0\n",
      "일강수량(mm)    0\n",
      "dtype: int64\n"
     ]
    }
   ],
   "source": [
    "print('train\\n', train.loc[:,['평균기온(°C)','일강수량(mm)']].isnull().sum(), '\\n')\n",
    "print('test\\n', test.loc[:,['평균기온(°C)','일강수량(mm)']].isnull().sum())"
   ]
  },
  {
   "cell_type": "markdown",
   "metadata": {},
   "source": [
    "## 휴일 & 공휴일 전 후"
   ]
  },
  {
   "cell_type": "code",
   "execution_count": 32,
   "metadata": {
    "ExecuteTime": {
     "end_time": "2022-02-21T07:34:05.204935Z",
     "start_time": "2022-02-21T07:34:05.103113Z"
    }
   },
   "outputs": [],
   "source": [
    "holiday_list = [] \n",
    "for i in range(2016,2022):\n",
    "    for date in holidays.KR(years=i).keys():  # 한국 공휴일 가져오기\n",
    "        holiday_list.append(date)"
   ]
  },
  {
   "cell_type": "code",
   "execution_count": 33,
   "metadata": {
    "ExecuteTime": {
     "end_time": "2022-02-21T07:34:06.853922Z",
     "start_time": "2022-02-21T07:34:06.843311Z"
    }
   },
   "outputs": [
    {
     "data": {
      "text/plain": [
       "[datetime.date(2016, 1, 1),\n",
       " datetime.date(2016, 2, 7),\n",
       " datetime.date(2016, 2, 8),\n",
       " datetime.date(2016, 2, 9),\n",
       " datetime.date(2016, 2, 10),\n",
       " datetime.date(2016, 3, 1),\n",
       " datetime.date(2016, 5, 14),\n",
       " datetime.date(2016, 5, 5),\n",
       " datetime.date(2016, 5, 1),\n",
       " datetime.date(2016, 6, 6),\n",
       " datetime.date(2016, 8, 15),\n",
       " datetime.date(2016, 9, 14),\n",
       " datetime.date(2016, 9, 15),\n",
       " datetime.date(2016, 9, 16),\n",
       " datetime.date(2016, 10, 3),\n",
       " datetime.date(2016, 10, 9),\n",
       " datetime.date(2016, 12, 25),\n",
       " datetime.date(2017, 1, 1),\n",
       " datetime.date(2017, 1, 27),\n",
       " datetime.date(2017, 1, 28),\n",
       " datetime.date(2017, 1, 29),\n",
       " datetime.date(2017, 1, 30),\n",
       " datetime.date(2017, 3, 1),\n",
       " datetime.date(2017, 5, 3),\n",
       " datetime.date(2017, 5, 5),\n",
       " datetime.date(2017, 5, 1),\n",
       " datetime.date(2017, 6, 6),\n",
       " datetime.date(2017, 8, 15),\n",
       " datetime.date(2017, 10, 3),\n",
       " datetime.date(2017, 10, 4),\n",
       " datetime.date(2017, 10, 5),\n",
       " datetime.date(2017, 10, 9),\n",
       " datetime.date(2017, 12, 25),\n",
       " datetime.date(2018, 1, 1),\n",
       " datetime.date(2018, 2, 15),\n",
       " datetime.date(2018, 2, 16),\n",
       " datetime.date(2018, 2, 17),\n",
       " datetime.date(2018, 3, 1),\n",
       " datetime.date(2018, 5, 22),\n",
       " datetime.date(2018, 5, 5),\n",
       " datetime.date(2018, 5, 7),\n",
       " datetime.date(2018, 5, 1),\n",
       " datetime.date(2018, 6, 6),\n",
       " datetime.date(2018, 8, 15),\n",
       " datetime.date(2018, 9, 23),\n",
       " datetime.date(2018, 9, 24),\n",
       " datetime.date(2018, 9, 25),\n",
       " datetime.date(2018, 9, 26),\n",
       " datetime.date(2018, 10, 3),\n",
       " datetime.date(2018, 10, 9),\n",
       " datetime.date(2018, 12, 25),\n",
       " datetime.date(2019, 1, 1),\n",
       " datetime.date(2019, 2, 4),\n",
       " datetime.date(2019, 2, 5),\n",
       " datetime.date(2019, 2, 6),\n",
       " datetime.date(2019, 3, 1),\n",
       " datetime.date(2019, 5, 12),\n",
       " datetime.date(2019, 5, 5),\n",
       " datetime.date(2019, 5, 6),\n",
       " datetime.date(2019, 5, 1),\n",
       " datetime.date(2019, 6, 6),\n",
       " datetime.date(2019, 8, 15),\n",
       " datetime.date(2019, 9, 12),\n",
       " datetime.date(2019, 9, 13),\n",
       " datetime.date(2019, 9, 14),\n",
       " datetime.date(2019, 10, 3),\n",
       " datetime.date(2019, 10, 9),\n",
       " datetime.date(2019, 12, 25),\n",
       " datetime.date(2020, 1, 1),\n",
       " datetime.date(2020, 1, 24),\n",
       " datetime.date(2020, 1, 25),\n",
       " datetime.date(2020, 1, 26),\n",
       " datetime.date(2020, 1, 27),\n",
       " datetime.date(2020, 3, 1),\n",
       " datetime.date(2020, 4, 30),\n",
       " datetime.date(2020, 5, 5),\n",
       " datetime.date(2020, 5, 1),\n",
       " datetime.date(2020, 6, 6),\n",
       " datetime.date(2020, 8, 15),\n",
       " datetime.date(2020, 9, 30),\n",
       " datetime.date(2020, 10, 1),\n",
       " datetime.date(2020, 10, 2),\n",
       " datetime.date(2020, 10, 3),\n",
       " datetime.date(2020, 10, 9),\n",
       " datetime.date(2020, 12, 25),\n",
       " datetime.date(2020, 8, 17),\n",
       " datetime.date(2021, 1, 1),\n",
       " datetime.date(2021, 2, 11),\n",
       " datetime.date(2021, 2, 12),\n",
       " datetime.date(2021, 2, 13),\n",
       " datetime.date(2021, 3, 1),\n",
       " datetime.date(2021, 5, 19),\n",
       " datetime.date(2021, 5, 5),\n",
       " datetime.date(2021, 5, 1),\n",
       " datetime.date(2021, 6, 6),\n",
       " datetime.date(2021, 8, 15),\n",
       " datetime.date(2021, 8, 16),\n",
       " datetime.date(2021, 9, 20),\n",
       " datetime.date(2021, 9, 21),\n",
       " datetime.date(2021, 9, 22),\n",
       " datetime.date(2021, 10, 3),\n",
       " datetime.date(2021, 10, 4),\n",
       " datetime.date(2021, 10, 9),\n",
       " datetime.date(2021, 10, 11),\n",
       " datetime.date(2021, 12, 25)]"
      ]
     },
     "execution_count": 33,
     "metadata": {},
     "output_type": "execute_result"
    }
   ],
   "source": [
    "holiday_list"
   ]
  },
  {
   "cell_type": "code",
   "execution_count": 34,
   "metadata": {
    "ExecuteTime": {
     "end_time": "2022-02-21T07:34:14.597386Z",
     "start_time": "2022-02-21T07:34:14.587573Z"
    }
   },
   "outputs": [],
   "source": [
    "train.일자 = train.일자.astype('datetime64')\n",
    "test.일자 = test.일자.astype('datetime64')"
   ]
  },
  {
   "cell_type": "code",
   "execution_count": 35,
   "metadata": {
    "ExecuteTime": {
     "end_time": "2022-02-21T07:34:16.491957Z",
     "start_time": "2022-02-21T07:34:16.471217Z"
    }
   },
   "outputs": [],
   "source": [
    "holiday_before_list=[]\n",
    "for_mat='%Y-%m-%d'\n",
    "for i in holiday_list:\n",
    "    holiday_before_list.append((i - timedelta(days=1)).strftime(for_mat))\n",
    "        # i - timedelta(days=1): datetime에서 날짜 하루 빼기\n",
    "        # .strftime(for_mat): 포맷과 같은 형식으로 datetime에서 str로 변환"
   ]
  },
  {
   "cell_type": "code",
   "execution_count": 36,
   "metadata": {
    "ExecuteTime": {
     "end_time": "2022-02-21T07:34:18.130612Z",
     "start_time": "2022-02-21T07:34:18.048478Z"
    }
   },
   "outputs": [],
   "source": [
    "def holiday_before(x):\n",
    "    if x in holiday_before_list:\n",
    "        return 1\n",
    "    else:\n",
    "        return 0\n",
    "train['공휴일전'] = train.일자.apply(holiday_before)\n",
    "test['공휴일전'] = test.일자.apply(holiday_before)"
   ]
  },
  {
   "cell_type": "code",
   "execution_count": 37,
   "metadata": {
    "ExecuteTime": {
     "end_time": "2022-02-21T07:34:19.959402Z",
     "start_time": "2022-02-21T07:34:19.945370Z"
    }
   },
   "outputs": [],
   "source": [
    "holiday_after_list=[]\n",
    "for_mat='%Y-%m-%d'\n",
    "for i in holiday_list:\n",
    "    holiday_after_list.append((i + timedelta(days=1)).strftime(for_mat))"
   ]
  },
  {
   "cell_type": "code",
   "execution_count": 38,
   "metadata": {
    "ExecuteTime": {
     "end_time": "2022-02-21T07:34:20.270278Z",
     "start_time": "2022-02-21T07:34:20.207583Z"
    }
   },
   "outputs": [],
   "source": [
    "def holiday_after(x):\n",
    "    if x in holiday_after_list:\n",
    "        return 1\n",
    "    else:\n",
    "        return 0\n",
    "train['공휴일후'] = train.일자.apply(holiday_after)\n",
    "test['공휴일후'] = test.일자.apply(holiday_after)"
   ]
  },
  {
   "cell_type": "code",
   "execution_count": 39,
   "metadata": {
    "ExecuteTime": {
     "end_time": "2022-02-21T07:34:21.110528Z",
     "start_time": "2022-02-21T07:34:21.085228Z"
    }
   },
   "outputs": [],
   "source": [
    "## 누락된 것은 찾아서 넣음\n",
    "\n",
    "# 16-4-13 국회의원 선거\n",
    "train['공휴일전'][47]=1\n",
    "train['공휴일후'][48]=1\n",
    "\n",
    "# 17-5-9 대통령 선거\n",
    "train['공휴일전'][311]=1\n",
    "train['공휴일후'][312]=1\n",
    "\n",
    "# 18-6-13 지방선거\n",
    "train['공휴일전'][579]=1\n",
    "train['공휴일후'][580]=1\n",
    "\n",
    "# 20-4-15 국회의원 선거\n",
    "train['공휴일전'][1027]=1\n",
    "train['공휴일후'][1028]=1\n",
    "\n",
    "# 20-9-30 추석\n",
    "train['공휴일전'][1129]=1"
   ]
  },
  {
   "cell_type": "code",
   "execution_count": 43,
   "metadata": {
    "ExecuteTime": {
     "end_time": "2022-02-21T07:35:11.907639Z",
     "start_time": "2022-02-21T07:35:11.885733Z"
    }
   },
   "outputs": [
    {
     "data": {
      "text/plain": [
       "공휴일전    5\n",
       "공휴일후    4\n",
       "dtype: int64"
      ]
     },
     "execution_count": 43,
     "metadata": {},
     "output_type": "execute_result"
    }
   ],
   "source": [
    "train.loc[:,['공휴일전', '공휴일후']].sum()"
   ]
  },
  {
   "cell_type": "code",
   "execution_count": 44,
   "metadata": {
    "ExecuteTime": {
     "end_time": "2022-02-21T07:36:52.793352Z",
     "start_time": "2022-02-21T07:36:52.779392Z"
    }
   },
   "outputs": [
    {
     "data": {
      "text/plain": [
       "공휴일전    0\n",
       "공휴일후    0\n",
       "dtype: int64"
      ]
     },
     "execution_count": 44,
     "metadata": {},
     "output_type": "execute_result"
    }
   ],
   "source": [
    "test.loc[:,['공휴일전', '공휴일후']].sum()"
   ]
  },
  {
   "cell_type": "markdown",
   "metadata": {},
   "source": [
    "## 파생변수"
   ]
  },
  {
   "cell_type": "code",
   "execution_count": null,
   "metadata": {
    "ExecuteTime": {
     "end_time": "2022-02-20T14:30:10.728364Z",
     "start_time": "2022-02-20T14:30:10.700832Z"
    }
   },
   "outputs": [],
   "source": [
    "train['월'] = train.일자.dt.month\n",
    "train['일'] = train.일자.dt.day\n",
    "train['년'] = train.일자.dt.year\n",
    "\n",
    "test['월'] = test.일자.dt.month\n",
    "test['일'] = test.일자.dt.day\n",
    "test['년'] = test.일자.dt.year"
   ]
  },
  {
   "cell_type": "code",
   "execution_count": null,
   "metadata": {
    "ExecuteTime": {
     "end_time": "2022-02-20T14:30:10.760032Z",
     "start_time": "2022-02-20T14:30:10.731380Z"
    }
   },
   "outputs": [],
   "source": [
    "train['식사가능자수'] = train['본사정원수'] - train['본사출장자수'] - train['본사휴가자수'] - train['현본사소속재택근무자수']\n",
    "test['식사가능자수'] = test['본사정원수'] - test['본사출장자수'] - test['본사휴가자수'] - test['현본사소속재택근무자수']\n",
    "\n",
    "# train['휴가비율'] = train['본사휴가자수']/train['본사정원수']\n",
    "# test['휴가비율'] = test['본사휴가자수']/test['본사정원수']\n",
    "\n",
    "# train['출장비율'] = train['본사출장자수']/train['본사정원수']\n",
    "# test['출장비율'] = test['본사출장자수']/test['본사정원수']\n",
    "\n",
    "train['야근비율'] = train['본사시간외근무명령서승인건수']/train['식사가능자수']\n",
    "test['야근비율'] = test['본사시간외근무명령서승인건수']/test['식사가능자수']\n",
    "\n",
    "# train['재택비율'] = train['현본사소속재택근무자수']/train['본사정원수']\n",
    "# test['재택비율'] = test['현본사소속재택근무자수']/test['본사정원수']"
   ]
  },
  {
   "cell_type": "code",
   "execution_count": null,
   "metadata": {
    "ExecuteTime": {
     "end_time": "2022-02-20T14:30:10.791715Z",
     "start_time": "2022-02-20T14:30:10.761918Z"
    }
   },
   "outputs": [],
   "source": [
    "train.loc[train.중식계==0,['일자','요일','석식메뉴']]\n",
    "# 중식 = 0 인 날 없음"
   ]
  },
  {
   "cell_type": "code",
   "execution_count": null,
   "metadata": {
    "ExecuteTime": {
     "end_time": "2022-02-20T14:30:10.821875Z",
     "start_time": "2022-02-20T14:30:10.793591Z"
    },
    "scrolled": true
   },
   "outputs": [],
   "source": [
    "train.loc[train.석식계==0,['일자','요일','석식메뉴']]\n",
    "# 마지막주(4주차도 있고 5주차도 있는거보면 애매) 수요일\n",
    "# 17-9-29: 추석 전 금요일\n",
    "# 18-2-14: 설날 전 수요일\n",
    "# 18-9-19: 다음주 수요일이 추석이라서 마지막주 수요일이긴 함\n",
    "# 19-12-31: 마지막주 수요일이 성탄절, 다음날이 설날이라서 이때 안하는듯"
   ]
  },
  {
   "cell_type": "code",
   "execution_count": null,
   "metadata": {
    "ExecuteTime": {
     "end_time": "2022-02-20T14:30:10.868308Z",
     "start_time": "2022-02-20T14:30:10.823877Z"
    },
    "scrolled": true
   },
   "outputs": [],
   "source": [
    "# 메뉴가 비워져있는 경우는 없음 -> 공휴일이 존재하긴함\n",
    "test.loc[:,['일자','요일','석식메뉴']]"
   ]
  },
  {
   "cell_type": "markdown",
   "metadata": {},
   "source": [
    "## 메뉴정리"
   ]
  },
  {
   "cell_type": "code",
   "execution_count": null,
   "metadata": {
    "ExecuteTime": {
     "end_time": "2022-02-20T14:30:18.041104Z",
     "start_time": "2022-02-20T14:30:18.019087Z"
    }
   },
   "outputs": [],
   "source": [
    "train.columns"
   ]
  },
  {
   "cell_type": "markdown",
   "metadata": {},
   "source": [
    "### 중식"
   ]
  },
  {
   "cell_type": "markdown",
   "metadata": {},
   "source": [
    "#### split"
   ]
  },
  {
   "cell_type": "code",
   "execution_count": null,
   "metadata": {
    "ExecuteTime": {
     "end_time": "2022-02-20T14:30:29.552284Z",
     "start_time": "2022-02-20T14:30:29.540230Z"
    }
   },
   "outputs": [],
   "source": [
    "def split_menu(x):\n",
    "  menu_return = []  #return할 메뉴 데이터. 메뉴 스플릿 & 원산지 제외\n",
    "  for data in x:\n",
    "    menus = []              #전처리된 메뉴\n",
    "    menus_sp = data.split() #띄어쓰기 split\n",
    "    for menu_sp in menus_sp:\n",
    "      if '(' in menu_sp:\n",
    "        pass\n",
    "      elif ',' in menu_sp:  #comma split\n",
    "        menus_comma = menu_sp.split(',')\n",
    "        for menu_comma in menus_comma:\n",
    "          menus.append(menu_comma)\n",
    "      else:\n",
    "        menus.append(menu_sp)\n",
    "    menu_return.append(menus)\n",
    "  return menu_return"
   ]
  },
  {
   "cell_type": "code",
   "execution_count": null,
   "metadata": {
    "ExecuteTime": {
     "end_time": "2022-02-20T14:30:45.842063Z",
     "start_time": "2022-02-20T14:30:45.799041Z"
    }
   },
   "outputs": [],
   "source": [
    "train['중식메뉴리스트'] = split_menu(train['중식메뉴'])\n",
    "train.head()"
   ]
  },
  {
   "cell_type": "markdown",
   "metadata": {},
   "source": [
    "#### 메뉴 종류별 구분\n",
    "\n",
    "> 메뉴 종류\n",
    "- 밥(rice)\n",
    "- 국(soup)\n",
    "- 반찬1(side_1)\n",
    "- 반찬2(side_2)\n",
    "- 반찬3(side_3)\n",
    "- 반찬4(side_4)\n",
    "- 반찬5(side_5)\n",
    "- 디저트1(dessert_1)\n",
    "- 디저트2(dessert_2)\n",
    "- 김치(kimchi)"
   ]
  },
  {
   "cell_type": "code",
   "execution_count": null,
   "metadata": {
    "ExecuteTime": {
     "end_time": "2022-02-20T14:32:06.290102Z",
     "start_time": "2022-02-20T14:32:06.137608Z"
    }
   },
   "outputs": [],
   "source": [
    "# 위에서 언급한 메인, 국, 반찬만 나누어주기\n",
    "lunch_menu = train['중식메뉴리스트']\n",
    "\n",
    "bob=[]\n",
    "soup=[]\n",
    "main=[]\n",
    "\n",
    "for i in range(len(train)):\n",
    "    if lunch_menu[i][0]:\n",
    "        bob.append(lunch_menu[i][0])\n",
    "    if lunch_menu[i][1]:\n",
    "        soup.append(lunch_menu[i][1])\n",
    "    if lunch_menu[i][2]:\n",
    "        main.append(lunch_menu[i][2])"
   ]
  },
  {
   "cell_type": "code",
   "execution_count": null,
   "metadata": {
    "ExecuteTime": {
     "end_time": "2022-02-20T14:32:06.290102Z",
     "start_time": "2022-02-20T14:32:06.137608Z"
    }
   },
   "outputs": [],
   "source": [
    "#누락이 있으면 안되므로 확인해주자\n",
    "\n",
    "print(len(bob))\n",
    "print(len(soup))\n",
    "print(len(main))\n",
    "print('--')\n",
    "print(len(train))"
   ]
  },
  {
   "cell_type": "code",
   "execution_count": null,
   "metadata": {
    "ExecuteTime": {
     "end_time": "2022-02-20T14:32:06.290102Z",
     "start_time": "2022-02-20T14:32:06.137608Z"
    }
   },
   "outputs": [],
   "source": [
    "#확인후에 추가\n",
    "train['bob_l'] = bob\n",
    "train['soup_l'] = soup\n",
    "train['main_l'] = main"
   ]
  },
  {
   "cell_type": "code",
   "execution_count": null,
   "metadata": {
    "ExecuteTime": {
     "end_time": "2022-02-20T14:32:37.631124Z",
     "start_time": "2022-02-20T14:32:37.602940Z"
    }
   },
   "outputs": [],
   "source": [
    "train['bob_l'].value_counts()"
   ]
  },
  {
   "cell_type": "code",
   "execution_count": null,
   "metadata": {
    "ExecuteTime": {
     "end_time": "2022-02-20T14:32:42.820475Z",
     "start_time": "2022-02-20T14:32:42.790951Z"
    }
   },
   "outputs": [],
   "source": [
    "train['soup_l'].value_counts()"
   ]
  },
  {
   "cell_type": "code",
   "execution_count": null,
   "metadata": {
    "ExecuteTime": {
     "end_time": "2022-02-20T14:32:52.558575Z",
     "start_time": "2022-02-20T14:32:52.543921Z"
    }
   },
   "outputs": [],
   "source": [
    "train['main_l'].value_counts()"
   ]
  },
  {
   "cell_type": "code",
   "execution_count": null,
   "metadata": {
    "ExecuteTime": {
     "end_time": "2022-02-20T14:12:35.906104Z",
     "start_time": "2022-02-20T14:12:35.876289Z"
    }
   },
   "outputs": [],
   "source": [
    "# def seperate_lunch_menu_list(df):\n",
    "\n",
    "#   str = 'None'\n",
    "#   lunch_menu_list = df['중식메뉴리스트']\n",
    "\n",
    "#   print('######## 점심 데이터 구분 함수 시작 ########')\n",
    "\n",
    "#   #메뉴 종류별 구분 (10 피처)\n",
    "#   rice = []\n",
    "#   soup = []\n",
    "#   side_1 = []\n",
    "#   side_2 = []\n",
    "#   side_3 = []\n",
    "#   side_4 = []\n",
    "#   side_5 = []\n",
    "#   dessert_1 = []\n",
    "#   dessert_2 = []\n",
    "#   kimchi = []\n",
    "\n",
    "#   for idx, lunch_menu in enumerate(lunch_menu_list):\n",
    "\n",
    "#     print(\"현재 인덱스 :\", idx)\n",
    "#     # print(lunch_menu)\n",
    "\n",
    "#     #[밥 국 반찬2개 디저트 김치]\n",
    "#     if idx in [38,57,70,75,80,109,123,286,301,341,\n",
    "#                  361,366,449,482,549,553,687,747,786,843,\n",
    "#                  867,882,909,983,1023,1061]:   \n",
    "#       rice.append(lunch_menu[0])\n",
    "#       soup.append(lunch_menu[1])\n",
    "#       side_1.append(lunch_menu[2])\n",
    "#       side_2.append(lunch_menu[3])\n",
    "#       side_3.append(str)\n",
    "#       side_4.append(str)\n",
    "#       side_5.append(str)\n",
    "#       dessert_1.append(lunch_menu[4])\n",
    "#       dessert_2.append(str)\n",
    "#       kimchi.append(lunch_menu[5])\n",
    "#     #[밥 국 반찬3개 디저트 김치]\n",
    "#     elif idx in [0,1,2,3,4,5,6,7,8,9,\n",
    "#                11,12,13,15,16,17,19,169,378,705,\n",
    "#                951,956,1062,1064,1066]:   \n",
    "#       rice.append(lunch_menu[0])\n",
    "#       soup.append(lunch_menu[1])\n",
    "#       side_1.append(lunch_menu[2])\n",
    "#       side_2.append(lunch_menu[3])\n",
    "#       side_3.append(lunch_menu[4])\n",
    "#       side_4.append(str)\n",
    "#       side_5.append(str)\n",
    "#       dessert_1.append(lunch_menu[5])\n",
    "#       dessert_2.append(str)\n",
    "#       kimchi.append(lunch_menu[6])\n",
    "#     #[밥 국 반찬3개 디저트2개 김치]\n",
    "#     elif idx in [1026,1035,1040,1042,1045]:   \n",
    "#       rice.append(lunch_menu[0])\n",
    "#       soup.append(lunch_menu[1])\n",
    "#       side_1.append(lunch_menu[2])\n",
    "#       side_2.append(lunch_menu[3])\n",
    "#       side_3.append(lunch_menu[4])\n",
    "#       side_4.append(str)\n",
    "#       side_5.append(str)\n",
    "#       dessert_1.append(lunch_menu[5])\n",
    "#       dessert_2.append(lunch_menu[6])\n",
    "#       kimchi.append(lunch_menu[7])       \n",
    "#     #[밥 국 반찬4개 디저트 김치]\n",
    "#     elif idx in [1027,1032,1033,1034,1039,1041,1044,1046]:   \n",
    "#       rice.append(lunch_menu[0])\n",
    "#       soup.append(lunch_menu[1])\n",
    "#       side_1.append(lunch_menu[2])\n",
    "#       side_2.append(lunch_menu[3])\n",
    "#       side_3.append(lunch_menu[4])\n",
    "#       side_4.append(lunch_menu[5])\n",
    "#       side_5.append(str)\n",
    "#       dessert_1.append(lunch_menu[6])\n",
    "#       dessert_2.append(str)\n",
    "#       kimchi.append(lunch_menu[7])      \n",
    "#     #[밥 국 반찬5개 김치]\n",
    "#     elif idx in [1043]:   \n",
    "#       rice.append(lunch_menu[0])\n",
    "#       soup.append(lunch_menu[1])\n",
    "#       side_1.append(lunch_menu[2])\n",
    "#       side_2.append(lunch_menu[3])\n",
    "#       side_3.append(lunch_menu[4])\n",
    "#       side_4.append(lunch_menu[5])\n",
    "#       side_5.append(lunch_menu[6])\n",
    "#       dessert_1.append(str)\n",
    "#       dessert_2.append(str)\n",
    "#       kimchi.append(lunch_menu[7])        \n",
    "#     #[밥 국 반찬2개 김치]\n",
    "#     elif idx in [223,289,1036]:   \n",
    "#       rice.append(lunch_menu[0])\n",
    "#       soup.append(lunch_menu[1])\n",
    "#       side_1.append(lunch_menu[2])\n",
    "#       side_2.append(lunch_menu[3])\n",
    "#       side_3.append(str)\n",
    "#       side_4.append(str)\n",
    "#       side_5.append(str)\n",
    "#       dessert_1.append(str)\n",
    "#       dessert_2.append(str)\n",
    "#       kimchi.append(lunch_menu[4])\n",
    "#     #[밥 국 반찬4개 김치]\n",
    "#     elif idx in [373,873,1007,1029,1030]:   \n",
    "#       rice.append(lunch_menu[0])\n",
    "#       soup.append(lunch_menu[1])\n",
    "#       side_1.append(lunch_menu[2])\n",
    "#       side_2.append(lunch_menu[3])\n",
    "#       side_3.append(lunch_menu[4])\n",
    "#       side_4.append(lunch_menu[5])\n",
    "#       side_5.append(str)\n",
    "#       dessert_1.append(str)\n",
    "#       dessert_2.append(str)\n",
    "#       kimchi.append(lunch_menu[6])\n",
    "#     #[밥 국 반찬2개 반찬/디저트 김치]\n",
    "#     elif idx in [119,155,189,209,351,471,492,614,648,654,\n",
    "#                  720,742,872,907,914,924,929,937,979,1020,\n",
    "#                  1021]:   \n",
    "#       rice.append(lunch_menu[0])\n",
    "#       soup.append(lunch_menu[1])\n",
    "#       side_1.append(lunch_menu[2])\n",
    "#       side_2.append(lunch_menu[3])\n",
    "#       side_3.append(lunch_menu[4].split('/')[0])\n",
    "#       side_4.append(str)\n",
    "#       side_5.append(str)\n",
    "#       dessert_1.append(lunch_menu[4].split('/')[1])\n",
    "#       dessert_2.append(str)\n",
    "#       kimchi.append(lunch_menu[5])\n",
    "#     #[밥 반찬3개 김치]\n",
    "#     elif idx in [175,288]:   \n",
    "#       rice.append(lunch_menu[0])\n",
    "#       soup.append(str)\n",
    "#       side_1.append(lunch_menu[1])\n",
    "#       side_2.append(lunch_menu[2])\n",
    "#       side_3.append(lunch_menu[3])\n",
    "#       side_4.append(str)\n",
    "#       side_5.append(str)\n",
    "#       dessert_1.append(str)\n",
    "#       dessert_2.append(str)\n",
    "#       kimchi.append(lunch_menu[4])     \n",
    "#     #[밥 반찬3개 디저트2개 김치]\n",
    "#     elif idx in [1037]:   \n",
    "#       rice.append(lunch_menu[0])\n",
    "#       soup.append(str)\n",
    "#       side_1.append(lunch_menu[1])\n",
    "#       side_2.append(lunch_menu[2])\n",
    "#       side_3.append(lunch_menu[3])\n",
    "#       side_4.append(str)\n",
    "#       side_5.append(str)\n",
    "#       dessert_1.append(lunch_menu[4])\n",
    "#       dessert_2.append(lunch_menu[5])\n",
    "#       kimchi.append(lunch_menu[6])        \n",
    "#     #특이 케이스\n",
    "#     elif idx in [10]:   #[밥 국 반찬2개 디저트(중복2개) 김치]\n",
    "#       rice.append(lunch_menu[0])\n",
    "#       soup.append(lunch_menu[1])\n",
    "#       side_1.append(lunch_menu[2])\n",
    "#       side_2.append(lunch_menu[3])\n",
    "#       side_3.append(str)\n",
    "#       side_4.append(str)\n",
    "#       side_5.append(str)\n",
    "#       dessert_1.append(lunch_menu[4])\n",
    "#       dessert_2.append(str)\n",
    "#       kimchi.append(lunch_menu[6])\n",
    "#     elif idx in [14]:   #[밥 국 반찬2개 디저트2개 김치]\n",
    "#       rice.append(lunch_menu[0])\n",
    "#       soup.append(lunch_menu[1])\n",
    "#       side_1.append(lunch_menu[2])\n",
    "#       side_2.append(lunch_menu[3])\n",
    "#       side_3.append(str)\n",
    "#       side_4.append(str)\n",
    "#       side_5.append(str)\n",
    "#       dessert_1.append(lunch_menu[4])\n",
    "#       dessert_2.append(lunch_menu[5])\n",
    "#       kimchi.append(lunch_menu[6])\n",
    "#     elif idx in [116,400,459]:     #[밥 국 반찬2개 디저트/반찬 김치]\n",
    "#       rice.append(lunch_menu[0])\n",
    "#       soup.append(lunch_menu[1])\n",
    "#       side_1.append(lunch_menu[2])\n",
    "#       side_2.append(lunch_menu[3])\n",
    "#       side_3.append(lunch_menu[4].split('/')[1])\n",
    "#       side_4.append(str)\n",
    "#       side_5.append(str)\n",
    "#       dessert_1.append(lunch_menu[4].split('/')[0])\n",
    "#       dessert_2.append(str)\n",
    "#       kimchi.append(lunch_menu[5])  \n",
    "#     elif idx in [412,650]:     #[밥 국 반찬/반찬 반찬 디저트/디저트 김치]\n",
    "#       rice.append(lunch_menu[0])\n",
    "#       soup.append(lunch_menu[1])\n",
    "#       side_1.append(lunch_menu[2].split('/')[0])\n",
    "#       side_2.append(lunch_menu[2].split('/')[1])\n",
    "#       side_3.append(lunch_menu[3])\n",
    "#       side_4.append(str)\n",
    "#       side_5.append(str)\n",
    "#       dessert_1.append(lunch_menu[4].split('/')[0])\n",
    "#       dessert_2.append(lunch_menu[4].split('/')[1])\n",
    "#       kimchi.append(lunch_menu[5])  \n",
    "#     elif idx in [934]:     #[밥 국 반찬2개 디저트/디저트 김치]   \n",
    "#       rice.append(lunch_menu[0])\n",
    "#       soup.append(lunch_menu[1])\n",
    "#       side_1.append(lunch_menu[2])\n",
    "#       side_2.append(lunch_menu[3])\n",
    "#       side_3.append(str)\n",
    "#       side_4.append(str)\n",
    "#       side_5.append(str)\n",
    "#       dessert_1.append(lunch_menu[4].split('/')[0])\n",
    "#       dessert_2.append(lunch_menu[4].split('/')[1])\n",
    "#       kimchi.append(lunch_menu[5])  \n",
    "#     #[밥 국 반찬3개 디저트 김치]\n",
    "#     elif idx in [356,840]:     #[<초복특식> 국 밥 반찬 디저트 김치]  \n",
    "#       rice.append(lunch_menu[2])\n",
    "#       soup.append(lunch_menu[1])\n",
    "#       side_1.append(lunch_menu[3])\n",
    "#       side_2.append(str)\n",
    "#       side_3.append(str)\n",
    "#       side_4.append(str)\n",
    "#       side_5.append(str)\n",
    "#       dessert_1.append(lunch_menu[4])\n",
    "#       dessert_2.append(str)\n",
    "#       kimchi.append(lunch_menu[5])  \n",
    "#     elif idx in [603]:     #[국 밥 반찬2개 디저트 김치]  \n",
    "#       rice.append(lunch_menu[1])\n",
    "#       soup.append(lunch_menu[0])\n",
    "#       side_1.append(lunch_menu[2])\n",
    "#       side_2.append(lunch_menu[3])\n",
    "#       side_3.append(str)\n",
    "#       side_4.append(str)\n",
    "#       side_5.append(str)\n",
    "#       dessert_1.append(lunch_menu[4])\n",
    "#       dessert_2.append(str)\n",
    "#       kimchi.append(lunch_menu[5])  \n",
    "#     elif idx in [1031]:     #[밥 국 반찬5개 디저트 김치]  \n",
    "#       rice.append(lunch_menu[0])\n",
    "#       soup.append(lunch_menu[1])\n",
    "#       side_1.append(lunch_menu[2])\n",
    "#       side_2.append(lunch_menu[3])\n",
    "#       side_3.append(lunch_menu[4])\n",
    "#       side_4.append(lunch_menu[5])\n",
    "#       side_5.append(lunch_menu[6])\n",
    "#       dessert_1.append(lunch_menu[7])\n",
    "#       dessert_2.append(str)\n",
    "#       kimchi.append(lunch_menu[8])  \n",
    "#     elif idx in [511,741,980]:     #[밥 국 반찬3개 디저트/김치]  \n",
    "#       rice.append(lunch_menu[0])\n",
    "#       soup.append(lunch_menu[1])\n",
    "#       side_1.append(lunch_menu[2])\n",
    "#       side_2.append(lunch_menu[3])\n",
    "#       side_3.append(lunch_menu[4])\n",
    "#       side_4.append(str)\n",
    "#       side_5.append(str)\n",
    "#       dessert_1.append(lunch_menu[5].split('/')[0])\n",
    "#       dessert_2.append(str)\n",
    "#       kimchi.append(lunch_menu[5].split('/')[1])  \n",
    "#     #이상 케이스\n",
    "#     elif idx in [885]:     #[밥 국 반찬3개 ' /오렌지주스' 김치/디저트]  \n",
    "#       rice.append(lunch_menu[0])\n",
    "#       soup.append(lunch_menu[1])\n",
    "#       side_1.append(lunch_menu[2])\n",
    "#       side_2.append(lunch_menu[3])\n",
    "#       side_3.append(lunch_menu[4])\n",
    "#       side_4.append(str)\n",
    "#       side_5.append(str)\n",
    "#       dessert_1.append(lunch_menu[5].split('/')[1])\n",
    "#       dessert_2.append(lunch_menu[6].split('/')[1])\n",
    "#       kimchi.append(lunch_menu[6].split('/')[0])  \n",
    "#     elif idx in [1038]:     #[밥 국 반찬4개 청,적포도 디저트 김치]  \n",
    "#       rice.append(lunch_menu[0])\n",
    "#       soup.append(lunch_menu[1])\n",
    "#       side_1.append(lunch_menu[2])\n",
    "#       side_2.append(lunch_menu[3])\n",
    "#       side_3.append(lunch_menu[4])\n",
    "#       side_4.append(lunch_menu[5])\n",
    "#       side_5.append(str)\n",
    "#       dessert_1.append('청,적포도')\n",
    "#       dessert_2.append(lunch_menu[8])\n",
    "#       kimchi.append(lunch_menu[9]) \n",
    "#     elif idx in [1026]:   \n",
    "#       rice.append(lunch_menu[0])\n",
    "#       soup.append(lunch_menu[1])\n",
    "#       side_1.append(lunch_menu[2])\n",
    "#       side_2.append(lunch_menu[3])\n",
    "#       side_3.append(lunch_menu[4])\n",
    "#       side_4.append(str)\n",
    "#       side_5.append(str)\n",
    "#       dessert_1.append(lunch_menu[5].split(',')[0])\n",
    "#       dessert_2.append(lunch_menu[5].split(',')[0])\n",
    "#       kimchi.append(lunch_menu[6])        \n",
    "# ################## 20년 7월 ~ #####################\n",
    "# ####  1067 ~  ####\n",
    "#     #[밥 국 반찬3개 김치 반찬]\n",
    "#     elif idx in [1067,1068,1069,1070,1071,1073,1074,1075,1076,1077,\n",
    "#                  1078,1079,1080,1081,1082,1083,1084,1085,1086,1088,\n",
    "#                  1089,1090,1091,1094,1095,1097,1098,1099,1100,1101,\n",
    "#                  1104,1108,1112,1116,1117,1125,1126,1128,1130,1138,\n",
    "#                  1143,1145,1148,1150,1152,1153,1157,1162,1163,1176,\n",
    "#                  1177,1178,1180,1183,1191,1192,1193,1195,1196,1197,\n",
    "#                  1199,1200,1201,1202]:       \n",
    "#       rice.append(lunch_menu[0])\n",
    "#       soup.append(lunch_menu[1])\n",
    "#       side_1.append(lunch_menu[2])\n",
    "#       side_2.append(lunch_menu[3])\n",
    "#       side_3.append(lunch_menu[4])\n",
    "#       side_4.append(lunch_menu[6])\n",
    "#       side_5.append(str)\n",
    "#       dessert_1.append(str)\n",
    "#       dessert_2.append(str)\n",
    "#       kimchi.append(lunch_menu[5]) \n",
    "#     #[밥 국 반찬3개 김치 디저트]\n",
    "#     elif idx in [1131]:       \n",
    "#       rice.append(lunch_menu[0])\n",
    "#       soup.append(lunch_menu[1])\n",
    "#       side_1.append(lunch_menu[2])\n",
    "#       side_2.append(lunch_menu[3])\n",
    "#       side_3.append(lunch_menu[4])\n",
    "#       side_4.append(str)\n",
    "#       side_5.append(str)\n",
    "#       dessert_1.append(lunch_menu[6])\n",
    "#       dessert_2.append(str)\n",
    "#       kimchi.append(lunch_menu[5])       \n",
    "#     #[밥 국 반찬3개 김치/디저트 반찬]\n",
    "#     elif idx in [1096,1102,1103,1110,1113,1114,1115,1119,1120,1124,\n",
    "#                  1127,1132,1134,1135,1139,1140,1144,1155,1156,1158,\n",
    "#                  1159,1161,1166,1169,1170,1174,1175,1184,1185,1188,\n",
    "#                  1198,1204]:   \n",
    "#       rice.append(lunch_menu[0])\n",
    "#       soup.append(lunch_menu[1])\n",
    "#       side_1.append(lunch_menu[2])\n",
    "#       side_2.append(lunch_menu[3])\n",
    "#       side_3.append(lunch_menu[4])\n",
    "#       side_4.append(lunch_menu[6])\n",
    "#       side_5.append(str)\n",
    "#       dessert_1.append(lunch_menu[5].split('/')[1])\n",
    "#       dessert_2.append(str)\n",
    "#       kimchi.append(lunch_menu[5].split('/')[0]) \n",
    "#     #[밥 국 반찬3개 김치/디저트/디저트 반찬]\n",
    "#     elif idx in [1129]:   \n",
    "#       rice.append(lunch_menu[0])\n",
    "#       soup.append(lunch_menu[1])\n",
    "#       side_1.append(lunch_menu[2])\n",
    "#       side_2.append(lunch_menu[3])\n",
    "#       side_3.append(lunch_menu[4])\n",
    "#       side_4.append(lunch_menu[6])\n",
    "#       side_5.append(str)\n",
    "#       dessert_1.append(lunch_menu[5].split('/')[1])\n",
    "#       dessert_2.append(lunch_menu[5].split('/')[2])\n",
    "#       kimchi.append(lunch_menu[5].split('/')[0]) \n",
    "#     #[밥 국 반찬3개 김치 반찬/디저트]\n",
    "#     elif idx in [1107]:   \n",
    "#       rice.append(lunch_menu[0])\n",
    "#       soup.append(lunch_menu[1])\n",
    "#       side_1.append(lunch_menu[2])\n",
    "#       side_2.append(lunch_menu[3])\n",
    "#       side_3.append(lunch_menu[4])\n",
    "#       side_4.append(lunch_menu[6].split('/')[0])\n",
    "#       side_5.append(str)\n",
    "#       dessert_1.append(lunch_menu[6].split('/')[1])\n",
    "#       dessert_2.append(str)\n",
    "#       kimchi.append(lunch_menu[5]) \n",
    "#     #[밥 국 반찬3개 김치 디저트/반찬]\n",
    "#     elif idx in [1107]:   \n",
    "#       rice.append(lunch_menu[0])\n",
    "#       soup.append(lunch_menu[1])\n",
    "#       side_1.append(lunch_menu[2])\n",
    "#       side_2.append(lunch_menu[3])\n",
    "#       side_3.append(lunch_menu[4])\n",
    "#       side_4.append(lunch_menu[6].split('/')[1])\n",
    "#       side_5.append(str)\n",
    "#       dessert_1.append(lunch_menu[6].split('/')[0])\n",
    "#       dessert_2.append(str)\n",
    "#       kimchi.append(lunch_menu[5]) \n",
    "#     #[밥 국 반찬2개 김치/반찬 반찬]\n",
    "#     elif idx in [1141]:   \n",
    "#       rice.append(lunch_menu[0])\n",
    "#       soup.append(lunch_menu[1])\n",
    "#       side_1.append(lunch_menu[2])\n",
    "#       side_2.append(lunch_menu[3])\n",
    "#       side_3.append(lunch_menu[4].split('/')[1])\n",
    "#       side_4.append(lunch_menu[5])\n",
    "#       side_5.append(str)\n",
    "#       dessert_1.append(str)\n",
    "#       dessert_2.append(str)\n",
    "#       kimchi.append(lunch_menu[4].split('/')[0])  \n",
    "#     #[밥 국 반찬3개 김치/반찬 반찬]\n",
    "#     elif idx in [1160,1190,1203]:   \n",
    "#       rice.append(lunch_menu[0])\n",
    "#       soup.append(lunch_menu[1])\n",
    "#       side_1.append(lunch_menu[2])\n",
    "#       side_2.append(lunch_menu[3])\n",
    "#       side_3.append(lunch_menu[4])\n",
    "#       side_4.append(lunch_menu[5].split('/')[1])\n",
    "#       side_5.append(lunch_menu[6])\n",
    "#       dessert_1.append(str)\n",
    "#       dessert_2.append(str)\n",
    "#       kimchi.append(lunch_menu[5].split('/')[0])       \n",
    "#     #[밥 국 반찬3개 김치/반찬]\n",
    "#     elif idx in [94]:   \n",
    "#       rice.append(lunch_menu[0])\n",
    "#       soup.append(lunch_menu[1])\n",
    "#       side_1.append(lunch_menu[2])\n",
    "#       side_2.append(lunch_menu[3])\n",
    "#       side_3.append(lunch_menu[4])\n",
    "#       side_4.append(lunch_menu[5].split('/')[1])\n",
    "#       side_5.append(str)\n",
    "#       dessert_1.append(str)\n",
    "#       dessert_2.append(str)\n",
    "#       kimchi.append(lunch_menu[5].split('/')[0])       \n",
    "#     #[밥 국 반찬3개 반찬/김치 반찬]\n",
    "#     elif idx in [1189]:   \n",
    "#       rice.append(lunch_menu[0])\n",
    "#       soup.append(lunch_menu[1])\n",
    "#       side_1.append(lunch_menu[2])\n",
    "#       side_2.append(lunch_menu[3])\n",
    "#       side_3.append(lunch_menu[4])\n",
    "#       side_4.append(lunch_menu[5].split('/')[0])\n",
    "#       side_5.append(lunch_menu[6])\n",
    "#       dessert_1.append(str)\n",
    "#       dessert_2.append(str)\n",
    "#       kimchi.append(lunch_menu[5].split('/')[1])    \n",
    "#     #[밥 국 반찬2개 김치/디저트 반찬]\n",
    "#     elif idx in [1109,1149,1164]:   \n",
    "#       rice.append(lunch_menu[0])\n",
    "#       soup.append(lunch_menu[1])\n",
    "#       side_1.append(lunch_menu[2])\n",
    "#       side_2.append(lunch_menu[3])\n",
    "#       side_3.append(lunch_menu[5])\n",
    "#       side_4.append(str)\n",
    "#       side_5.append(str)\n",
    "#       dessert_1.append(lunch_menu[4].split('/')[1])\n",
    "#       dessert_2.append(str)\n",
    "#       kimchi.append(lunch_menu[4].split('/')[0]) \n",
    "#     #[밥 국 반찬3개 김치/디저트 반찬]\n",
    "#     elif idx in [1092]:   \n",
    "#       rice.append(lunch_menu[0])\n",
    "#       soup.append(lunch_menu[1])\n",
    "#       side_1.append(lunch_menu[2])\n",
    "#       side_2.append(lunch_menu[3])\n",
    "#       side_3.append(lunch_menu[4])\n",
    "#       side_4.append(lunch_menu[6])\n",
    "#       side_5.append(str)\n",
    "#       dessert_1.append(lunch_menu[5].split('/')[1])\n",
    "#       dessert_2.append(str)\n",
    "#       kimchi.append(lunch_menu[5].split('/')[0])       \n",
    "#     #[밥 국 반찬 반찬/반찬 반찬 김치/디저트 반찬]\n",
    "#     elif idx in [1093]:   \n",
    "#       rice.append(lunch_menu[0])\n",
    "#       soup.append(lunch_menu[1])\n",
    "#       side_1.append(lunch_menu[2])\n",
    "#       side_2.append(lunch_menu[3].split('/')[0])\n",
    "#       side_3.append(lunch_menu[3].split('/')[1])\n",
    "#       side_4.append(lunch_menu[4])\n",
    "#       side_5.append(lunch_menu[6])\n",
    "#       dessert_1.append(lunch_menu[5].split('/')[1])\n",
    "#       dessert_2.append(str)\n",
    "#       kimchi.append(lunch_menu[5].split('/')[0]) \n",
    "\n",
    "#     #[밥 국 반찬2개 반찬/김치 반찬]\n",
    "#     elif idx in [1146,1154]:   \n",
    "#       rice.append(lunch_menu[0])\n",
    "#       soup.append(lunch_menu[1])\n",
    "#       side_1.append(lunch_menu[2])\n",
    "#       side_2.append(lunch_menu[3])\n",
    "#       side_3.append(lunch_menu[4].split('/')[0])\n",
    "#       side_4.append(lunch_menu[5])\n",
    "#       side_5.append(str)\n",
    "#       dessert_1.append(str)\n",
    "#       dessert_2.append(str)\n",
    "#       kimchi.append(lunch_menu[4].split('/')[1]) \n",
    "#     #[밥 국 반찬2개 김치 반찬]\n",
    "#     elif idx in [1118,1121,1122,1123,1133,1136,1165,1167,1173,1194]:   \n",
    "#       rice.append(lunch_menu[0])\n",
    "#       soup.append(lunch_menu[1])\n",
    "#       side_1.append(lunch_menu[2])\n",
    "#       side_2.append(lunch_menu[3])\n",
    "#       side_3.append(lunch_menu[5])\n",
    "#       side_4.append(str)\n",
    "#       side_5.append(str)\n",
    "#       dessert_1.append(str)\n",
    "#       dessert_2.append(str)\n",
    "#       kimchi.append(lunch_menu[4]) \n",
    "#     #[밥 국 반찬 김치 반찬]\n",
    "#     elif idx in [1186]:   \n",
    "#       rice.append(lunch_menu[0])\n",
    "#       soup.append(lunch_menu[1])\n",
    "#       side_1.append(lunch_menu[2])\n",
    "#       side_2.append(lunch_menu[4])\n",
    "#       side_3.append(str)\n",
    "#       side_4.append(str)\n",
    "#       side_5.append(str)\n",
    "#       dessert_1.append(str)\n",
    "#       dessert_2.append(str)\n",
    "#       kimchi.append(lunch_menu[3])\n",
    "#     #[밥 국 반찬4개]\n",
    "#     elif idx in [1019,1137]:   \n",
    "#       rice.append(lunch_menu[0])\n",
    "#       soup.append(lunch_menu[1])\n",
    "#       side_1.append(lunch_menu[2])\n",
    "#       side_2.append(lunch_menu[3])\n",
    "#       side_3.append(lunch_menu[4])\n",
    "#       side_4.append(lunch_menu[5])\n",
    "#       side_5.append(str)\n",
    "#       dessert_1.append(str)\n",
    "#       dessert_2.append(str)\n",
    "#       kimchi.append(str)\n",
    "#     #[밥 국 반찬3개]\n",
    "#     elif idx in [1151]:   \n",
    "#       rice.append(lunch_menu[0])\n",
    "#       soup.append(lunch_menu[1])\n",
    "#       side_1.append(lunch_menu[2])\n",
    "#       side_2.append(lunch_menu[3])\n",
    "#       side_3.append(lunch_menu[4])\n",
    "#       side_4.append(str)\n",
    "#       side_5.append(str)\n",
    "#       dessert_1.append(str)\n",
    "#       dessert_2.append(str)\n",
    "#       kimchi.append(str)\n",
    "#     #[밥 반찬2개 김치/디저트 반찬]\n",
    "#     elif idx in [1111,1179]:   \n",
    "#       rice.append(lunch_menu[0])\n",
    "#       soup.append(str)\n",
    "#       side_1.append(lunch_menu[1])\n",
    "#       side_2.append(lunch_menu[2])\n",
    "#       side_3.append(lunch_menu[4])\n",
    "#       side_4.append(str)\n",
    "#       side_5.append(str)\n",
    "#       dessert_1.append(lunch_menu[3].split('/')[1])\n",
    "#       dessert_2.append(str)\n",
    "#       kimchi.append(lunch_menu[3].split('/')[0])    \n",
    "#     elif idx in [1142]:   \n",
    "#       rice.append(lunch_menu[0]+lunch_menu[1])\n",
    "#       soup.append(lunch_menu[2])\n",
    "#       side_1.append(lunch_menu[3])\n",
    "#       side_2.append(lunch_menu[4])\n",
    "#       side_3.append(lunch_menu[5])\n",
    "#       side_4.append(lunch_menu[6].split('/')[1])\n",
    "#       side_5.append(lunch_menu[7])\n",
    "#       dessert_1.append(str)\n",
    "#       dessert_2.append(str)\n",
    "#       kimchi.append(lunch_menu[6].split('/')[0]) \n",
    "#     elif idx in [1087]:   \n",
    "#       rice.append(lunch_menu[0])\n",
    "#       soup.append(lunch_menu[1])\n",
    "#       side_1.append(lunch_menu[2])\n",
    "#       side_2.append(lunch_menu[3])\n",
    "#       side_3.append(lunch_menu[4])\n",
    "#       side_4.append(lunch_menu[5].split('/')[0])\n",
    "#       side_5.append(lunch_menu[6])\n",
    "#       dessert_1.append(lunch_menu[5].split('/')[2])\n",
    "#       dessert_2.append(str)\n",
    "#       kimchi.append(lunch_menu[5].split('/')[1]) \n",
    "#     #[밥 반찬3개 김치/디저트 반찬]\n",
    "#     elif idx in [1147]:   \n",
    "#       rice.append(lunch_menu[0])\n",
    "#       soup.append(str)\n",
    "#       side_1.append(lunch_menu[1])\n",
    "#       side_2.append(lunch_menu[2])\n",
    "#       side_3.append(lunch_menu[3])\n",
    "#       side_4.append(lunch_menu[5])\n",
    "#       side_5.append(str)\n",
    "#       dessert_1.append(lunch_menu[4].split('/')[1])\n",
    "#       dessert_2.append(str)\n",
    "#       kimchi.append(lunch_menu[4].split('/')[0]) \n",
    "#     elif idx in [1168]:   \n",
    "#       rice.append(lunch_menu[0])\n",
    "#       soup.append(lunch_menu[1])\n",
    "#       side_1.append(lunch_menu[2])\n",
    "#       side_2.append(lunch_menu[3])\n",
    "#       side_3.append(lunch_menu[4]+' '+lunch_menu[5])\n",
    "#       side_4.append(lunch_menu[7])\n",
    "#       side_5.append(str)\n",
    "#       dessert_1.append(str)\n",
    "#       dessert_2.append(str)\n",
    "#       kimchi.append(lunch_menu[6]) \n",
    "#     #[국 반찬2개 반찬/김치 반찬]  \n",
    "#     elif idx in [1171]:   \n",
    "#       rice.append(str)\n",
    "#       soup.append(lunch_menu[0])\n",
    "#       side_1.append(lunch_menu[1])\n",
    "#       side_2.append(lunch_menu[2])\n",
    "#       side_3.append(lunch_menu[3].split('/')[0])\n",
    "#       side_4.append(lunch_menu[4])\n",
    "#       side_5.append(str)\n",
    "#       dessert_1.append(str)\n",
    "#       dessert_2.append(str)\n",
    "#       kimchi.append(lunch_menu[3].split('/')[1])  \n",
    "#     #[밥 반찬3개 김치 반찬]  \n",
    "#     elif idx in [1181]:   \n",
    "#       rice.append(lunch_menu[0])\n",
    "#       soup.append(str)\n",
    "#       side_1.append(lunch_menu[1])\n",
    "#       side_2.append(lunch_menu[2])\n",
    "#       side_3.append(lunch_menu[3])\n",
    "#       side_4.append(lunch_menu[5])\n",
    "#       side_5.append(str)\n",
    "#       dessert_1.append(str)\n",
    "#       dessert_2.append(str)\n",
    "#       kimchi.append(lunch_menu[4])     \n",
    "#     #[밥 반찬2개 김치 반찬]  \n",
    "#     elif idx in [1182]:   \n",
    "#       rice.append(lunch_menu[0])\n",
    "#       soup.append(str)\n",
    "#       side_1.append(lunch_menu[1])\n",
    "#       side_2.append(lunch_menu[2])\n",
    "#       side_3.append(lunch_menu[4])\n",
    "#       side_4.append(str)\n",
    "#       side_5.append(str)\n",
    "#       dessert_1.append(str)\n",
    "#       dessert_2.append(str)\n",
    "#       kimchi.append(lunch_menu[3])    \n",
    "#     #[국 반찬3개 김치 반찬]  \n",
    "#     elif idx in [1182,1187]:   \n",
    "#       rice.append(str)\n",
    "#       soup.append(lunch_menu[0])\n",
    "#       side_1.append(lunch_menu[1])\n",
    "#       side_2.append(lunch_menu[2])\n",
    "#       side_3.append(lunch_menu[3])\n",
    "#       side_4.append(lunch_menu[5])\n",
    "#       side_5.append(str)\n",
    "#       dessert_1.append(str)\n",
    "#       dessert_2.append(str)\n",
    "#       kimchi.append(lunch_menu[4])      \n",
    "#     elif idx in [762]:   \n",
    "#       rice.append(lunch_menu[0])\n",
    "#       soup.append(lunch_menu[1])\n",
    "#       side_1.append(lunch_menu[2])\n",
    "#       side_2.append(lunch_menu[3])\n",
    "#       side_3.append(lunch_menu[4])\n",
    "#       side_4.append(str)\n",
    "#       side_5.append(str)\n",
    "#       dessert_1.append(lunch_menu[5])\n",
    "#       dessert_2.append(lunch_menu[6]+'/'+lunch_menu[7])\n",
    "#       kimchi.append(lunch_menu[8])          \n",
    "# ##################################################\n",
    "#     else:   #[밥 국 반찬3개 김치]\n",
    "#       rice.append(lunch_menu[0])\n",
    "#       soup.append(lunch_menu[1])\n",
    "#       side_1.append(lunch_menu[2])\n",
    "#       side_2.append(lunch_menu[3])\n",
    "#       side_3.append(lunch_menu[4])\n",
    "#       side_4.append(str)\n",
    "#       side_5.append(str)\n",
    "#       dessert_1.append(str)\n",
    "#       dessert_2.append(str)\n",
    "#       kimchi.append(lunch_menu[5])\n",
    "\n",
    "#   print('######## 점심 데이터 구분 함수 종료 ########')\n",
    "\n",
    "#   # print(len(rice))\n",
    "#   # print(len(soup))\n",
    "#   # print(len(side_1))\n",
    "#   # print(len(side_2))\n",
    "#   # print(len(side_3))\n",
    "#   # print(len(side_4))\n",
    "#   # print(len(side_5))\n",
    "#   # print(len(dessert_1))\n",
    "#   # print(len(dessert_2))\n",
    "#   # print(len(kimchi))\n",
    "\n",
    "#   return rice, soup, side_1, side_2, side_3, side_4, side_5, dessert_1, dessert_2, kimchi"
   ]
  },
  {
   "cell_type": "code",
   "execution_count": null,
   "metadata": {
    "ExecuteTime": {
     "end_time": "2022-02-20T14:12:38.108371Z",
     "start_time": "2022-02-20T14:12:38.100294Z"
    }
   },
   "outputs": [],
   "source": [
    "# rice, soup, side_1, side_2, side_3, side_4, side_5, dessert_1, dessert_2, kimchi = seperate_lunch_menu_list(train_lunch)"
   ]
  },
  {
   "cell_type": "code",
   "execution_count": null,
   "metadata": {
    "ExecuteTime": {
     "end_time": "2022-02-20T14:12:40.658884Z",
     "start_time": "2022-02-20T14:12:40.653711Z"
    }
   },
   "outputs": [],
   "source": [
    "# train_lunch['밥'] = rice\n",
    "# train_lunch['국'] = soup\n",
    "# train_lunch['반찬1'] = side_1\n",
    "# train_lunch['반찬2'] = side_2\n",
    "# train_lunch['반찬3'] = side_3\n",
    "# train_lunch['반찬4'] = side_4\n",
    "# train_lunch['반찬5'] = side_5\n",
    "# train_lunch['디저트1'] = dessert_1\n",
    "# train_lunch['디저트2'] = dessert_2\n",
    "# train_lunch['김치'] = kimchi"
   ]
  },
  {
   "cell_type": "code",
   "execution_count": null,
   "metadata": {
    "ExecuteTime": {
     "end_time": "2022-02-20T14:33:03.454240Z",
     "start_time": "2022-02-20T14:33:03.424610Z"
    }
   },
   "outputs": [],
   "source": [
    "train.head()"
   ]
  },
  {
   "cell_type": "markdown",
   "metadata": {},
   "source": [
    "### 석식"
   ]
  },
  {
   "cell_type": "markdown",
   "metadata": {},
   "source": [
    "#### split"
   ]
  },
  {
   "cell_type": "code",
   "execution_count": null,
   "metadata": {
    "ExecuteTime": {
     "end_time": "2022-02-20T14:33:40.050911Z",
     "start_time": "2022-02-20T14:33:39.998358Z"
    }
   },
   "outputs": [],
   "source": [
    "train['석식메뉴리스트'] = split_menu(train['석식메뉴'])\n",
    "train.head()"
   ]
  },
  {
   "cell_type": "markdown",
   "metadata": {},
   "source": [
    "#### 메뉴 종류별 구분"
   ]
  },
  {
   "cell_type": "code",
   "execution_count": null,
   "metadata": {
    "ExecuteTime": {
     "end_time": "2022-02-20T14:33:50.736228Z",
     "start_time": "2022-02-20T14:33:50.707003Z"
    }
   },
   "outputs": [],
   "source": [
    "dinner_menu = train['석식메뉴리스트']\n",
    "\n",
    "bobd=[]\n",
    "soupd=[]\n",
    "maind=[]\n",
    "\n",
    "\n",
    "for word in  dinner_menu:\n",
    "    \n",
    "    \n",
    "    if len(word) == 0:\n",
    "        bobd.append('None') #비어있으면 그 날짜자체가 없어질수있으므로 'None' 값으로 대체\n",
    "        soupd.append('None')\n",
    "        maind.append('None')\n",
    "    elif '*' in word:\n",
    "        bobd.append('None')\n",
    "        soupd.append('None')\n",
    "        maind.append('None')\n",
    "    elif '가정의날' in word:\n",
    "        bobd.append('None')\n",
    "        soupd.append('None')\n",
    "        maind.append('None')\n",
    "    elif '가정의달' in word:\n",
    "        bobd.append('None')\n",
    "        soupd.append('None')\n",
    "        maind.append('None')\n",
    "    elif '자기계발의날' in word:\n",
    "        bobd.append('None')\n",
    "        soupd.append('None')\n",
    "        maind.append('None')\n",
    "    elif '*자기계발의날*' in word:\n",
    "        bobd.append('None')\n",
    "        soupd.append('None')\n",
    "        maind.append('None')\n",
    "    elif '자기개발의날' in word:\n",
    "        bobd.append('None')\n",
    "        soupd.append('None')\n",
    "        maind.append('None')\n",
    "\n",
    "    else:\n",
    "        bobd.append(word[0])\n",
    "        soupd.append(word[1])\n",
    "        maind.append(word[2])"
   ]
  },
  {
   "cell_type": "code",
   "execution_count": null,
   "metadata": {
    "ExecuteTime": {
     "end_time": "2022-02-20T14:33:50.736228Z",
     "start_time": "2022-02-20T14:33:50.707003Z"
    }
   },
   "outputs": [],
   "source": [
    "#다들어왔는지 확인\n",
    "print(len(dinner_menu))\n",
    "print(len(bobd))\n",
    "print(len(soupd))\n",
    "print(len(maind))"
   ]
  },
  {
   "cell_type": "code",
   "execution_count": null,
   "metadata": {
    "ExecuteTime": {
     "end_time": "2022-02-20T14:33:50.736228Z",
     "start_time": "2022-02-20T14:33:50.707003Z"
    }
   },
   "outputs": [],
   "source": [
    "train['bob_d'] = bobd\n",
    "train['soup_d'] = soupd\n",
    "train['main_d'] = maind"
   ]
  },
  {
   "cell_type": "code",
   "execution_count": null,
   "metadata": {
    "ExecuteTime": {
     "end_time": "2022-02-20T14:34:17.868609Z",
     "start_time": "2022-02-20T14:34:17.833430Z"
    }
   },
   "outputs": [],
   "source": [
    "train.head()"
   ]
  },
  {
   "cell_type": "code",
   "execution_count": null,
   "metadata": {
    "ExecuteTime": {
     "end_time": "2022-02-20T14:34:41.526053Z",
     "start_time": "2022-02-20T14:34:41.504193Z"
    }
   },
   "outputs": [],
   "source": [
    "train['bob_d'].value_counts()"
   ]
  },
  {
   "cell_type": "code",
   "execution_count": null,
   "metadata": {
    "ExecuteTime": {
     "end_time": "2022-02-20T14:34:42.144661Z",
     "start_time": "2022-02-20T14:34:42.122457Z"
    }
   },
   "outputs": [],
   "source": [
    "train['soup_d'].value_counts()"
   ]
  },
  {
   "cell_type": "code",
   "execution_count": null,
   "metadata": {
    "ExecuteTime": {
     "end_time": "2022-02-20T14:34:42.682604Z",
     "start_time": "2022-02-20T14:34:42.662099Z"
    }
   },
   "outputs": [],
   "source": [
    "train['main_d'].value_counts()"
   ]
  },
  {
   "cell_type": "code",
   "execution_count": null,
   "metadata": {
    "ExecuteTime": {
     "end_time": "2022-02-20T14:17:09.383771Z",
     "start_time": "2022-02-20T14:17:09.370459Z"
    }
   },
   "outputs": [],
   "source": [
    "# def seperate_dinner_menu_list(df):\n",
    "\n",
    "#   str = 'None'\n",
    "#   dinner_menu_list = df['석식메뉴리스트']\n",
    "\n",
    "#   print('######## 저녁 데이터 구분 함수 시작 ########')\n",
    "\n",
    "#   #메뉴 종류별 구분 (10 피처)\n",
    "#   rice = []\n",
    "#   soup = []\n",
    "#   side_1 = []\n",
    "#   side_2 = []\n",
    "#   side_3 = []\n",
    "#   side_4 = []\n",
    "#   side_5 = []\n",
    "#   dessert_1 = []\n",
    "#   dessert_2 = []\n",
    "#   kimchi = []\n",
    "\n",
    "#   for idx, dinner_menu in enumerate(dinner_menu_list):\n",
    "#     print(\"현재 인덱스 :\", idx)\n",
    "#     # print(dinner_menu)\n",
    "\n",
    "#     #[밥 국 반찬2개 디저트 김치]\n",
    "#     if idx in [1,9,11,34,37,47,48,64,66,71,74,81,85,88,100,124,\n",
    "#                134,144,154,170,173,188,203,220,228,230,238,240,\n",
    "#                253,258,261,287,302,321,332,340,352,355,367,381,\n",
    "#                386,404,435,455,473,481,486,488,493,496,513,523,\n",
    "#                525,535,548,550,570,580,588,593,600,608,610,624,\n",
    "#                629,639,647,653,656,678,683,686,693,701,726,729,\n",
    "#                741,760,777,782,819,832,834,842,847,852,859,873,\n",
    "#                901,906,921,946,952,966,1017,1042,1055,1065,110]:   \n",
    "#       rice.append(dinner_menu[0])\n",
    "#       soup.append(dinner_menu[1])\n",
    "#       side_1.append(dinner_menu[2])\n",
    "#       side_2.append(dinner_menu[3])\n",
    "#       side_3.append(str)\n",
    "#       side_4.append(str)\n",
    "#       side_5.append(str)\n",
    "#       dessert_1.append(dinner_menu[4])\n",
    "#       dessert_2.append(str)\n",
    "#       kimchi.append(dinner_menu[5])\n",
    "#     #[밥 국 반찬2개 반찬/디저트 김치]\n",
    "#     elif idx in [29,103,105,120,137,178,193,201,213,223,251,\n",
    "#                  256,280,285,296,297,300,305,310,318,320,328,342,\n",
    "#                  384,399,407,411,416,443,456,458,474,509,516,536,\n",
    "#                  540,545,563,590,605,632,642,661,663,703,716,719,\n",
    "#                  731,736,738,743,750,752,755,757,770,775,787,795,\n",
    "#                  798,803,808,813,822,854,866,876,886,891,913,943,\n",
    "#                  948,984,1009,1014,1155]:   \n",
    "#       rice.append(dinner_menu[0])\n",
    "#       soup.append(dinner_menu[1])\n",
    "#       side_1.append(dinner_menu[2])\n",
    "#       side_2.append(dinner_menu[3])\n",
    "#       side_3.append(dinner_menu[4].split('/')[0])\n",
    "#       side_4.append(str)\n",
    "#       side_5.append(str)\n",
    "#       dessert_1.append(dinner_menu[4].split('/')[1])\n",
    "#       dessert_2.append(str)\n",
    "#       kimchi.append(dinner_menu[5])    \n",
    "#     #[밥 국 반찬2개 디저트/반찬 김치]\n",
    "#     elif idx in [53,56,98,190,233,362,530,561,567,572,765,767,898,326]:   \n",
    "#       rice.append(dinner_menu[0])\n",
    "#       soup.append(dinner_menu[1])\n",
    "#       side_1.append(dinner_menu[2])\n",
    "#       side_2.append(dinner_menu[3])\n",
    "#       side_3.append(dinner_menu[4].split('/')[1])\n",
    "#       side_4.append(str)\n",
    "#       side_5.append(str)\n",
    "#       dessert_1.append(dinner_menu[4].split('/')[0])\n",
    "#       dessert_2.append(str)\n",
    "#       kimchi.append(dinner_menu[5]) \n",
    "#     #[밥 국 반찬2개 디저트/디저트 김치]\n",
    "#     elif idx in [62,69,113,132,246,267,483,964,1063]:   \n",
    "#       rice.append(dinner_menu[0])\n",
    "#       soup.append(dinner_menu[1])\n",
    "#       side_1.append(dinner_menu[2])\n",
    "#       side_2.append(dinner_menu[3])\n",
    "#       side_3.append(str)\n",
    "#       side_4.append(str)\n",
    "#       side_5.append(str)\n",
    "#       dessert_1.append(dinner_menu[4].split('/')[0])\n",
    "#       dessert_2.append(dinner_menu[4].split('/')[1])\n",
    "#       kimchi.append(dinner_menu[5]) \n",
    "#     #[밥 국 반찬2개 김치]\n",
    "#     elif idx in [214,273,1087,1094,1115,1119,1124,1127,1130,1131,1138,\n",
    "#                  1145,1148,1152,1156,1169,1180,1182,1191,565]:   \n",
    "#       rice.append(dinner_menu[0])\n",
    "#       soup.append(dinner_menu[1])\n",
    "#       side_1.append(dinner_menu[2])\n",
    "#       side_2.append(dinner_menu[3])\n",
    "#       side_3.append(str)\n",
    "#       side_4.append(str)\n",
    "#       side_5.append(str)\n",
    "#       dessert_1.append(str)\n",
    "#       dessert_2.append(str)\n",
    "#       kimchi.append(dinner_menu[4]) \n",
    "#     #[밥 국 반찬2개 김치/반찬]\n",
    "#     elif idx in [1143]:   \n",
    "#       rice.append(dinner_menu[0])\n",
    "#       soup.append(dinner_menu[1])\n",
    "#       side_1.append(dinner_menu[2])\n",
    "#       side_2.append(dinner_menu[3])\n",
    "#       side_3.append(dinner_menu[4].split('/')[1])\n",
    "#       side_4.append(str)\n",
    "#       side_5.append(str)\n",
    "#       dessert_1.append(str)\n",
    "#       dessert_2.append(str)\n",
    "#       kimchi.append(dinner_menu[4].split('/')[0]) \n",
    "#     #[밥 국 반찬3개 디저트 김치]\n",
    "#     elif idx in [225,373,620,627,951,1038,1039,1041]:   \n",
    "#       rice.append(dinner_menu[0])\n",
    "#       soup.append(dinner_menu[1])\n",
    "#       side_1.append(dinner_menu[2])\n",
    "#       side_2.append(dinner_menu[3])\n",
    "#       side_3.append(dinner_menu[4])\n",
    "#       side_4.append(str)\n",
    "#       side_5.append(str)\n",
    "#       dessert_1.append(dinner_menu[5])\n",
    "#       dessert_2.append(str)\n",
    "#       kimchi.append(dinner_menu[6]) \n",
    "#     #[밥 국 반찬3개 김치/반찬]\n",
    "#     elif idx in [49,1141]:   \n",
    "#       rice.append(dinner_menu[0])\n",
    "#       soup.append(dinner_menu[1])\n",
    "#       side_1.append(dinner_menu[2])\n",
    "#       side_2.append(dinner_menu[3])\n",
    "#       side_3.append(dinner_menu[4])\n",
    "#       side_4.append(dinner_menu[5].split('/')[1])\n",
    "#       side_5.append(str)\n",
    "#       dessert_1.append(str)\n",
    "#       dessert_2.append(str)\n",
    "#       kimchi.append(dinner_menu[5].split('/')[0]) \n",
    "#     #[밥 국 반찬3개 김치/디저트]\n",
    "#     elif idx in [1105,1111,1117]:   \n",
    "#       rice.append(dinner_menu[0])\n",
    "#       soup.append(dinner_menu[1])\n",
    "#       side_1.append(dinner_menu[2])\n",
    "#       side_2.append(dinner_menu[3])\n",
    "#       side_3.append(dinner_menu[4])\n",
    "#       side_4.append(str)\n",
    "#       side_5.append(str)\n",
    "#       dessert_1.append(dinner_menu[5].split('/')[1])\n",
    "#       dessert_2.append(str)\n",
    "#       kimchi.append(dinner_menu[5].split('/')[0])\n",
    "#     #[밥 국 반찬4개 김치]\n",
    "#     elif idx in [331,394,396,1031,1032,1035,1037,1043,1068]:   \n",
    "#       rice.append(dinner_menu[0])\n",
    "#       soup.append(dinner_menu[1])\n",
    "#       side_1.append(dinner_menu[2])\n",
    "#       side_2.append(dinner_menu[3])\n",
    "#       side_3.append(dinner_menu[4])\n",
    "#       side_4.append(dinner_menu[5])\n",
    "#       side_5.append(str)\n",
    "#       dessert_1.append(str)\n",
    "#       dessert_2.append(str)\n",
    "#       kimchi.append(dinner_menu[6])\n",
    "#     #[밥 국 반찬4개 디저트 김치]\n",
    "#     elif idx in [971]:   \n",
    "#       rice.append(dinner_menu[0])\n",
    "#       soup.append(dinner_menu[1])\n",
    "#       side_1.append(dinner_menu[2])\n",
    "#       side_2.append(dinner_menu[3])\n",
    "#       side_3.append(dinner_menu[4])\n",
    "#       side_4.append(dinner_menu[5])\n",
    "#       side_5.append(str)\n",
    "#       dessert_1.append(dinner_menu[6])\n",
    "#       dessert_2.append(str)\n",
    "#       kimchi.append(dinner_menu[7])\n",
    "#     #[밥 반찬 국 반찬 디저트 김치]\n",
    "#     elif idx in [58]:   \n",
    "#       rice.append(dinner_menu[0])\n",
    "#       soup.append(dinner_menu[2])\n",
    "#       side_1.append(dinner_menu[1])\n",
    "#       side_2.append(dinner_menu[3])\n",
    "#       side_3.append(str)\n",
    "#       side_4.append(str)\n",
    "#       side_5.append(str)\n",
    "#       dessert_1.append(dinner_menu[4])\n",
    "#       dessert_2.append(str)\n",
    "#       kimchi.append(dinner_menu[5])\n",
    "#     #[밥 국 반찬 반찬/디저트 반찬 김치]\n",
    "#     elif idx in [128,130,208]:   \n",
    "#       rice.append(dinner_menu[0])\n",
    "#       soup.append(dinner_menu[1])\n",
    "#       side_1.append(dinner_menu[2])\n",
    "#       side_2.append(dinner_menu[3].split('/')[0])\n",
    "#       side_3.append(dinner_menu[4])\n",
    "#       side_4.append(str)\n",
    "#       side_5.append(str)\n",
    "#       dessert_1.append(dinner_menu[3].split('/')[1])\n",
    "#       dessert_2.append(str)\n",
    "#       kimchi.append(dinner_menu[5])\n",
    "#     #[밥 국 반찬/디저트 반찬2개 김치]\n",
    "#     elif idx in [185]:   \n",
    "#       rice.append(dinner_menu[0])\n",
    "#       soup.append(dinner_menu[1])\n",
    "#       side_1.append(dinner_menu[2].split('/')[0])\n",
    "#       side_2.append(dinner_menu[3])\n",
    "#       side_3.append(dinner_menu[4])\n",
    "#       side_4.append(str)\n",
    "#       side_5.append(str)\n",
    "#       dessert_1.append(dinner_menu[2].split('/')[1])\n",
    "#       dessert_2.append(str)\n",
    "#       kimchi.append(dinner_menu[5])\n",
    "#     #[밥 국 반찬 디저트/디저트 반찬 김치]\n",
    "#     elif idx in [215]:   \n",
    "#       rice.append(dinner_menu[0])\n",
    "#       soup.append(dinner_menu[1])\n",
    "#       side_1.append(dinner_menu[2])\n",
    "#       side_2.append(dinner_menu[4])\n",
    "#       side_3.append(str)\n",
    "#       side_4.append(str)\n",
    "#       side_5.append(str)\n",
    "#       dessert_1.append(dinner_menu[3].split('/')[0])\n",
    "#       dessert_2.append(dinner_menu[3].split('/')[1])\n",
    "#       kimchi.append(dinner_menu[5])\n",
    "#     #[밥 국 반찬 디저트 디저트/반찬 김치]\n",
    "#     elif idx in [270]:   \n",
    "#       rice.append(dinner_menu[0])\n",
    "#       soup.append(dinner_menu[1])\n",
    "#       side_1.append(dinner_menu[2])\n",
    "#       side_2.append(dinner_menu[4].split('/')[1])\n",
    "#       side_3.append(str)\n",
    "#       side_4.append(str)\n",
    "#       side_5.append(str)\n",
    "#       dessert_1.append(dinner_menu[3])\n",
    "#       dessert_2.append(dinner_menu[4].split('/')[0])\n",
    "#       kimchi.append(dinner_menu[5])\n",
    "#     #[밥/국 반찬4개 김치]\n",
    "#     elif idx in [93]:   \n",
    "#       rice.append(dinner_menu[0].split('/')[0])\n",
    "#       soup.append(dinner_menu[0].split('/')[1])\n",
    "#       side_1.append(dinner_menu[1])\n",
    "#       side_2.append(dinner_menu[2])\n",
    "#       side_3.append(dinner_menu[3])\n",
    "#       side_4.append(dinner_menu[4])\n",
    "#       side_5.append(str)\n",
    "#       dessert_1.append(str)\n",
    "#       dessert_2.append(str)\n",
    "#       kimchi.append(dinner_menu[5])\n",
    "#     #[국 밥 반찬2개 디저트 김치]\n",
    "#     elif idx in [345]:   \n",
    "#       rice.append(dinner_menu[1])\n",
    "#       soup.append(dinner_menu[0])\n",
    "#       side_1.append(dinner_menu[2])\n",
    "#       side_2.append(dinner_menu[3])\n",
    "#       side_3.append(str)\n",
    "#       side_4.append(str)\n",
    "#       side_5.append(str)\n",
    "#       dessert_1.append(dinner_menu[4])\n",
    "#       dessert_2.append(str)\n",
    "#       kimchi.append(dinner_menu[5])\n",
    "#     #[밥 반찬 국 반찬2개 디저트 김치]\n",
    "#     elif idx in [391]:   \n",
    "#       rice.append(dinner_menu[0])\n",
    "#       soup.append(dinner_menu[2])\n",
    "#       side_1.append(dinner_menu[1])\n",
    "#       side_2.append(dinner_menu[3])\n",
    "#       side_3.append(dinner_menu[4])\n",
    "#       side_4.append(str)\n",
    "#       side_5.append(str)\n",
    "#       dessert_1.append(dinner_menu[5])\n",
    "#       dessert_2.append(str)\n",
    "#       kimchi.append(dinner_menu[6])\n",
    "#     #[밥 국 반찬 김치]\n",
    "#     elif idx in [1172]:   \n",
    "#       rice.append(dinner_menu[0])\n",
    "#       soup.append(dinner_menu[1])\n",
    "#       side_1.append(dinner_menu[2])\n",
    "#       side_2.append(str)\n",
    "#       side_3.append(str)\n",
    "#       side_4.append(str)\n",
    "#       side_5.append(str)\n",
    "#       dessert_1.append(str)\n",
    "#       dessert_2.append(str)\n",
    "#       kimchi.append(dinner_menu[3])\n",
    "#     #[밥 국 반찬 디저트 김치]\n",
    "#     elif idx in [528,790]:   \n",
    "#       rice.append(dinner_menu[0])\n",
    "#       soup.append(dinner_menu[1])\n",
    "#       side_1.append(dinner_menu[2])\n",
    "#       side_2.append(str)\n",
    "#       side_3.append(str)\n",
    "#       side_4.append(str)\n",
    "#       side_5.append(str)\n",
    "#       dessert_1.append(dinner_menu[3])\n",
    "#       dessert_2.append(str)\n",
    "#       kimchi.append(dinner_menu[4])\n",
    "#     #[밥 국 반찬 디저트 디저트 김치]\n",
    "#     elif idx in [1013]:   \n",
    "#       rice.append(dinner_menu[0])\n",
    "#       soup.append(dinner_menu[1])\n",
    "#       side_1.append(dinner_menu[2])\n",
    "#       side_2.append(str)\n",
    "#       side_3.append(str)\n",
    "#       side_4.append(str)\n",
    "#       side_5.append(str)\n",
    "#       dessert_1.append(dinner_menu[3])\n",
    "#       dessert_2.append(dinner_menu[4])\n",
    "#       kimchi.append(dinner_menu[5])\n",
    "#     #[밥 국 반찬 디저트 반찬 김치]\n",
    "#     elif idx in [44,151,161,335,453,3,19]:   \n",
    "#       rice.append(dinner_menu[0])\n",
    "#       soup.append(dinner_menu[1])\n",
    "#       side_1.append(dinner_menu[2])\n",
    "#       side_2.append(dinner_menu[4])\n",
    "#       side_3.append(str)\n",
    "#       side_4.append(str)\n",
    "#       side_5.append(str)\n",
    "#       dessert_1.append(dinner_menu[3])\n",
    "#       dessert_2.append(str)\n",
    "#       kimchi.append(dinner_menu[5])\n",
    "#     #[밥 국 반찬 x 반찬2개 김치]\n",
    "#     elif idx in [15]:   \n",
    "#       rice.append(dinner_menu[0])\n",
    "#       soup.append(dinner_menu[1])\n",
    "#       side_1.append(dinner_menu[2])\n",
    "#       side_2.append(dinner_menu[4])\n",
    "#       side_3.append(dinner_menu[5])\n",
    "#       side_4.append(str)\n",
    "#       side_5.append(str)\n",
    "#       dessert_1.append(str)\n",
    "#       dessert_2.append(str)\n",
    "#       kimchi.append(dinner_menu[6])\n",
    "#     #[]\n",
    "#     elif idx in [95]:   \n",
    "#       rice.append(dinner_menu[1])\n",
    "#       soup.append(dinner_menu[2])\n",
    "#       side_1.append(dinner_menu[3])\n",
    "#       side_2.append(dinner_menu[4].split('/')[0])\n",
    "#       side_3.append(str)\n",
    "#       side_4.append(str)\n",
    "#       side_5.append(str)\n",
    "#       dessert_1.append(dinner_menu[4].split('/')[1])\n",
    "#       dessert_2.append(str)\n",
    "#       kimchi.append(dinner_menu[5])\n",
    "#     #[밥 반찬2개 디저트/반찬 김치]\n",
    "#     elif idx in [506]:   \n",
    "#       rice.append(dinner_menu[0])\n",
    "#       soup.append(str)\n",
    "#       side_1.append(dinner_menu[1])\n",
    "#       side_2.append(dinner_menu[2])\n",
    "#       side_3.append(dinner_menu[3].split('/')[1])\n",
    "#       side_4.append(str)\n",
    "#       side_5.append(str)\n",
    "#       dessert_1.append(dinner_menu[3].split('/')[0])\n",
    "#       dessert_2.append(str)\n",
    "#       kimchi.append(dinner_menu[4])\n",
    "#     #[국 밥 반찬 반찬/디저트 김치]\n",
    "#     elif idx in [780]:   \n",
    "#       rice.append(dinner_menu[1])\n",
    "#       soup.append(dinner_menu[0])\n",
    "#       side_1.append(dinner_menu[2])\n",
    "#       side_2.append(dinner_menu[3].split('/')[0])\n",
    "#       side_3.append(str)\n",
    "#       side_4.append(str)\n",
    "#       side_5.append(str)\n",
    "#       dessert_1.append(dinner_menu[3].split('/')[1])\n",
    "#       dessert_2.append(str)\n",
    "#       kimchi.append(dinner_menu[4])\n",
    "#     #[]\n",
    "#     elif idx in [1010]:   \n",
    "#       rice.append(dinner_menu[0])\n",
    "#       soup.append(dinner_menu[1])\n",
    "#       side_1.append(dinner_menu[2])\n",
    "#       side_2.append(dinner_menu[5])\n",
    "#       side_3.append(dinner_menu[6])\n",
    "#       side_4.append(str)\n",
    "#       side_5.append(str)\n",
    "#       dessert_1.append(str)\n",
    "#       dessert_2.append(str)\n",
    "#       kimchi.append(dinner_menu[7])\n",
    "#     #[]\n",
    "#     elif idx in [1027]:   \n",
    "#       rice.append(dinner_menu[0])\n",
    "#       soup.append(dinner_menu[3])\n",
    "#       side_1.append(dinner_menu[1]+ ' '+dinner_menu[2])\n",
    "#       side_2.append(dinner_menu[4])\n",
    "#       side_3.append(dinner_menu[5])\n",
    "#       side_4.append(dinner_menu[6])\n",
    "#       side_5.append(str)\n",
    "#       dessert_1.append(str)\n",
    "#       dessert_2.append(str)\n",
    "#       kimchi.append(dinner_menu[7])\n",
    "#     #[]\n",
    "#     elif idx in [1048]:   \n",
    "#       rice.append(dinner_menu[0])\n",
    "#       soup.append(dinner_menu[1])\n",
    "#       side_1.append(dinner_menu[2])\n",
    "#       side_2.append(dinner_menu[3])\n",
    "#       side_3.append(str)\n",
    "#       side_4.append(str)\n",
    "#       side_5.append(str)\n",
    "#       dessert_1.append('배')\n",
    "#       dessert_2.append(dinner_menu[5])\n",
    "#       kimchi.append(dinner_menu[6])\n",
    "#     #[]\n",
    "#     elif idx in [1086]:   \n",
    "#       rice.append(dinner_menu[0])\n",
    "#       soup.append(dinner_menu[2])\n",
    "#       side_1.append(dinner_menu[3].split('/')[1])\n",
    "#       side_2.append(dinner_menu[4].split('/')[0])\n",
    "#       side_3.append(str)\n",
    "#       side_4.append(str)\n",
    "#       side_5.append(str)\n",
    "#       dessert_1.append(dinner_menu[3].split('/')[0])\n",
    "#       dessert_2.append(dinner_menu[4].split('/')[1])\n",
    "#       kimchi.append(dinner_menu[5])\n",
    "#     #[국 반찬3개 김치]\n",
    "#     elif idx in [1137,1140]:   \n",
    "#       rice.append(str)\n",
    "#       soup.append(dinner_menu[0])\n",
    "#       side_1.append(dinner_menu[1])\n",
    "#       side_2.append(dinner_menu[2])\n",
    "#       side_3.append(dinner_menu[3])\n",
    "#       side_4.append(str)\n",
    "#       side_5.append(str)\n",
    "#       dessert_1.append(str)\n",
    "#       dessert_2.append(str)\n",
    "#       kimchi.append(dinner_menu[4])\n",
    "#     #[밥 국 반찬/반찬 반찬2개]\n",
    "#     elif idx in [1167]:   \n",
    "#       rice.append(dinner_menu[0])\n",
    "#       soup.append(dinner_menu[1])\n",
    "#       side_1.append(dinner_menu[2].split('/')[0])\n",
    "#       side_2.append(dinner_menu[2].split('/')[1])\n",
    "#       side_3.append(dinner_menu[3])\n",
    "#       side_4.append(dinner_menu[4])\n",
    "#       side_5.append(str)\n",
    "#       dessert_1.append(str)\n",
    "#       dessert_2.append(str)\n",
    "#       kimchi.append(str)\n",
    "#     #[국 반찬2개 김치]\n",
    "#     elif idx in [1184]:   \n",
    "#       rice.append(str)\n",
    "#       soup.append(dinner_menu[0])\n",
    "#       side_1.append(dinner_menu[1])\n",
    "#       side_2.append(dinner_menu[2])\n",
    "#       side_3.append(str)\n",
    "#       side_4.append(str)\n",
    "#       side_5.append(str)\n",
    "#       dessert_1.append(str)\n",
    "#       dessert_2.append(str)\n",
    "#       kimchi.append(dinner_menu[3])\n",
    "#     #[밥 반찬3개 김치]\n",
    "#     elif idx in [1187]:   \n",
    "#       rice.append(dinner_menu[0])\n",
    "#       soup.append(str)\n",
    "#       side_1.append(dinner_menu[1])\n",
    "#       side_2.append(dinner_menu[2])\n",
    "#       side_3.append(dinner_menu[3])\n",
    "#       side_4.append(str)\n",
    "#       side_5.append(str)\n",
    "#       dessert_1.append(str)\n",
    "#       dessert_2.append(str)\n",
    "#       kimchi.append(dinner_menu[4])\n",
    "#     #[]\n",
    "#     elif idx in [1189]:   \n",
    "#       rice.append(dinner_menu[0])\n",
    "#       soup.append(str)\n",
    "#       side_1.append(dinner_menu[1])\n",
    "#       side_2.append(dinner_menu[2])\n",
    "#       side_3.append(dinner_menu[3])\n",
    "#       side_4.append(dinner_menu[4])\n",
    "#       side_5.append(str)\n",
    "#       dessert_1.append(str)\n",
    "#       dessert_2.append(str)\n",
    "#       kimchi.append(str)\n",
    "#     #[]\n",
    "#     elif idx in [1204]:   \n",
    "#       rice.append(dinner_menu[0])\n",
    "#       soup.append(str)\n",
    "#       side_1.append(dinner_menu[1])\n",
    "#       side_2.append(dinner_menu[2])\n",
    "#       side_3.append(dinner_menu[3])\n",
    "#       side_4.append(str)\n",
    "#       side_5.append(str)\n",
    "#       dessert_1.append(str)\n",
    "#       dessert_2.append(str)\n",
    "#       kimchi.append(dinner_menu[4])\n",
    "#     #[석식 없는 날]\n",
    "#     elif idx in [204,224,244,262,281,306,392,412,424,449,468,\n",
    "#                  492,510,529,549,571,586,589,609,633,648,687,\n",
    "#                  872,890,912,932,955,\n",
    "#                  327,346,667,706,730,747,766,786,809,828,853,\n",
    "#                  973,993,1166,\n",
    "#                  366]:   \n",
    "#       rice.append('No dinner')\n",
    "#       soup.append(str)\n",
    "#       side_1.append(str)\n",
    "#       side_2.append(str)\n",
    "#       side_3.append(str)\n",
    "#       side_4.append(str)\n",
    "#       side_5.append(str)\n",
    "#       dessert_1.append(str)\n",
    "#       dessert_2.append(str)\n",
    "#       kimchi.append(str)\n",
    "\n",
    "#     #[밥 국 반찬3개 김치]\n",
    "#     else:   \n",
    "#       rice.append(dinner_menu[0])\n",
    "#       soup.append(dinner_menu[1])\n",
    "#       side_1.append(dinner_menu[2])\n",
    "#       side_2.append(dinner_menu[3])\n",
    "#       side_3.append(dinner_menu[4])\n",
    "#       side_4.append(str)\n",
    "#       side_5.append(str)\n",
    "#       dessert_1.append(str)\n",
    "#       dessert_2.append(str)\n",
    "#       kimchi.append(dinner_menu[5])\n",
    "\n",
    "#   print('######## 저녁 데이터 구분 함수 종료 ########')\n",
    "\n",
    "#   # print(len(rice))\n",
    "#   # print(len(soup))\n",
    "#   # print(len(side_1))\n",
    "#   # print(len(side_2))\n",
    "#   # print(len(side_3))\n",
    "#   # print(len(side_4))\n",
    "#   # print(len(side_5))\n",
    "#   # print(len(dessert_1))\n",
    "#   # print(len(dessert_2))\n",
    "#   # print(len(kimchi))\n",
    "\n",
    "#   return rice, soup, side_1, side_2, side_3, side_4, dessert_1, dessert_2, kimchi"
   ]
  },
  {
   "cell_type": "code",
   "execution_count": null,
   "metadata": {
    "ExecuteTime": {
     "end_time": "2022-02-20T14:17:11.560500Z",
     "start_time": "2022-02-20T14:17:11.542594Z"
    }
   },
   "outputs": [],
   "source": [
    "# rice, soup, side_1, side_2, side_3, side_4, dessert_1, dessert_2, kimchi = seperate_dinner_menu_list(train_dinner)"
   ]
  },
  {
   "cell_type": "code",
   "execution_count": null,
   "metadata": {
    "ExecuteTime": {
     "end_time": "2022-02-20T14:17:13.442636Z",
     "start_time": "2022-02-20T14:17:13.434346Z"
    }
   },
   "outputs": [],
   "source": [
    "# train_dinner['밥'] = rice\n",
    "# train_dinner['국'] = soup\n",
    "# train_dinner['반찬1'] = side_1\n",
    "# train_dinner['반찬2'] = side_2\n",
    "# train_dinner['반찬3'] = side_3\n",
    "# train_dinner['반찬4'] = side_4\n",
    "# train_dinner['디저트1'] = dessert_1\n",
    "# train_dinner['디저트2'] = dessert_2\n",
    "# train_dinner['김치'] = kimchi"
   ]
  },
  {
   "cell_type": "markdown",
   "metadata": {},
   "source": [
    "## test"
   ]
  },
  {
   "cell_type": "code",
   "execution_count": null,
   "metadata": {
    "ExecuteTime": {
     "end_time": "2022-02-20T14:38:50.774902Z",
     "start_time": "2022-02-20T14:38:50.753091Z"
    }
   },
   "outputs": [],
   "source": [
    "test['중식메뉴리스트'] = split_menu(test['중식메뉴'])\n",
    "test['석식메뉴리스트'] = split_menu(test['석식메뉴'])"
   ]
  },
  {
   "cell_type": "code",
   "execution_count": null,
   "metadata": {
    "ExecuteTime": {
     "end_time": "2022-02-20T14:39:43.836816Z",
     "start_time": "2022-02-20T14:39:43.807817Z"
    }
   },
   "outputs": [],
   "source": [
    "# 위에서 언급한 메인, 국, 반찬만 나누어주기\n",
    "lunch_menu = test['중식메뉴리스트']\n",
    "\n",
    "bob=[]\n",
    "soup=[]\n",
    "main=[]\n",
    "\n",
    "for i in range(len(test)):\n",
    "    if lunch_menu[i][0]:\n",
    "        bob.append(lunch_menu[i][0])\n",
    "    if lunch_menu[i][1]:\n",
    "        soup.append(lunch_menu[i][1])\n",
    "    if lunch_menu[i][2]:\n",
    "        main.append(lunch_menu[i][2])"
   ]
  },
  {
   "cell_type": "code",
   "execution_count": null,
   "metadata": {
    "ExecuteTime": {
     "end_time": "2022-02-20T14:39:53.859308Z",
     "start_time": "2022-02-20T14:39:53.840328Z"
    }
   },
   "outputs": [],
   "source": [
    "#누락이 있으면 안되므로 확인해주자\n",
    "\n",
    "print(len(bob))\n",
    "print(len(soup))\n",
    "print(len(main))\n",
    "print('--')\n",
    "print(len(test))"
   ]
  },
  {
   "cell_type": "code",
   "execution_count": null,
   "metadata": {
    "ExecuteTime": {
     "end_time": "2022-02-20T14:40:03.227784Z",
     "start_time": "2022-02-20T14:40:03.212664Z"
    }
   },
   "outputs": [],
   "source": [
    "#확인후에 추가\n",
    "test['bob_l'] = bob\n",
    "test['soup_l'] = soup\n",
    "test['main_l'] = main"
   ]
  },
  {
   "cell_type": "code",
   "execution_count": null,
   "metadata": {
    "ExecuteTime": {
     "end_time": "2022-02-20T14:40:08.648282Z",
     "start_time": "2022-02-20T14:40:08.602832Z"
    }
   },
   "outputs": [],
   "source": [
    "test.head()"
   ]
  },
  {
   "cell_type": "code",
   "execution_count": null,
   "metadata": {
    "ExecuteTime": {
     "end_time": "2022-02-20T14:42:37.041230Z",
     "start_time": "2022-02-20T14:42:37.030627Z"
    }
   },
   "outputs": [],
   "source": [
    "dinner_menu = test['석식메뉴리스트']\n",
    "\n",
    "bobd=[]\n",
    "soupd=[]\n",
    "maind=[]\n",
    "\n",
    "\n",
    "for word in  dinner_menu:\n",
    "\n",
    "    bobd.append(word[0])\n",
    "    soupd.append(word[1])\n",
    "    maind.append(word[2])"
   ]
  },
  {
   "cell_type": "code",
   "execution_count": null,
   "metadata": {
    "ExecuteTime": {
     "end_time": "2022-02-20T14:42:51.701164Z",
     "start_time": "2022-02-20T14:42:51.688418Z"
    }
   },
   "outputs": [],
   "source": [
    "#다들어왔는지 확인\n",
    "print(len(dinner_menu))\n",
    "print(len(bobd))\n",
    "print(len(soupd))\n",
    "print('-'*10)\n",
    "print(len(maind))"
   ]
  },
  {
   "cell_type": "code",
   "execution_count": null,
   "metadata": {
    "ExecuteTime": {
     "end_time": "2022-02-20T14:43:00.086218Z",
     "start_time": "2022-02-20T14:43:00.069933Z"
    }
   },
   "outputs": [],
   "source": [
    "test['bob_d'] = bobd\n",
    "test['soup_d'] = soupd\n",
    "test['main_d'] = maind"
   ]
  },
  {
   "cell_type": "code",
   "execution_count": null,
   "metadata": {
    "ExecuteTime": {
     "end_time": "2022-02-20T14:43:06.563662Z",
     "start_time": "2022-02-20T14:43:06.517086Z"
    }
   },
   "outputs": [],
   "source": [
    "test.head()"
   ]
  },
  {
   "cell_type": "code",
   "execution_count": null,
   "metadata": {
    "ExecuteTime": {
     "end_time": "2022-02-20T13:10:36.400393Z",
     "start_time": "2022-02-20T13:10:36.372255Z"
    }
   },
   "outputs": [],
   "source": [
    "# def seperate_lunch_menu_list_ts(df):\n",
    "\n",
    "#   str = 'None'\n",
    "#   lunch_menu_list = df['중식메뉴리스트']\n",
    "\n",
    "#   print('######## 점심 데이터 구분 함수 시작 ########')\n",
    "\n",
    "#   #메뉴 종류별 구분 (10 피처)\n",
    "#   rice = []\n",
    "#   soup = []\n",
    "#   side_1 = []\n",
    "#   side_2 = []\n",
    "#   side_3 = []\n",
    "#   side_4 = []\n",
    "#   side_5 = []\n",
    "#   dessert_1 = []\n",
    "#   dessert_2 = []\n",
    "#   kimchi = []\n",
    "\n",
    "#   for idx, lunch_menu in enumerate(lunch_menu_list):\n",
    "#     print(\"현재 인덱스 :\", idx)\n",
    "#     # print(lunch_menu)\n",
    "\n",
    "#     #[밥 국 반찬3개 김치/디저트 반찬]\n",
    "#     if idx in [4,12,16,22,30,36,40,43]:   \n",
    "#       rice.append(lunch_menu[0])\n",
    "#       soup.append(lunch_menu[1])\n",
    "#       side_1.append(lunch_menu[2])\n",
    "#       side_2.append(lunch_menu[3])\n",
    "#       side_3.append(lunch_menu[4])\n",
    "#       side_4.append(lunch_menu[6])\n",
    "#       side_5.append(str)\n",
    "#       dessert_1.append(lunch_menu[5].split('/')[1])\n",
    "#       dessert_2.append(str)\n",
    "#       kimchi.append(lunch_menu[5].split('/')[0])\n",
    "#     #[밥 국 반찬2개 김치/디저트 반찬]\n",
    "#     elif idx in [20]:   \n",
    "#       rice.append(lunch_menu[0])\n",
    "#       soup.append(lunch_menu[1])\n",
    "#       side_1.append(lunch_menu[2])\n",
    "#       side_2.append(lunch_menu[3])\n",
    "#       side_3.append(lunch_menu[5])\n",
    "#       side_4.append(str)\n",
    "#       side_5.append(str)\n",
    "#       dessert_1.append(lunch_menu[4].split('/')[1])\n",
    "#       dessert_2.append(str)\n",
    "#       kimchi.append(lunch_menu[4].split('/')[0])\n",
    "#     #[밥 국 반찬2개 김치 반찬]\n",
    "#     elif idx in [25,34,48]:   \n",
    "#       rice.append(lunch_menu[0])\n",
    "#       soup.append(lunch_menu[1])\n",
    "#       side_1.append(lunch_menu[2])\n",
    "#       side_2.append(lunch_menu[3])\n",
    "#       side_3.append(lunch_menu[5])\n",
    "#       side_4.append(str)\n",
    "#       side_5.append(str)\n",
    "#       dessert_1.append(str)\n",
    "#       dessert_2.append(str)\n",
    "#       kimchi.append(lunch_menu[4])\n",
    "#     #[밥 국 반찬2개 디저트 김치 반찬]\n",
    "#     elif idx in [27]:   \n",
    "#       rice.append(lunch_menu[0])\n",
    "#       soup.append(lunch_menu[1])\n",
    "#       side_1.append(lunch_menu[2])\n",
    "#       side_2.append(lunch_menu[3])\n",
    "#       side_3.append(lunch_menu[6])\n",
    "#       side_4.append(str)\n",
    "#       side_5.append(str)\n",
    "#       dessert_1.append(lunch_menu[4])\n",
    "#       dessert_2.append(str)\n",
    "#       kimchi.append(lunch_menu[5])\n",
    "#     #[밥 국 반찬3개 김치 반찬]\n",
    "#     else:   \n",
    "#       rice.append(lunch_menu[0])\n",
    "#       soup.append(lunch_menu[1])\n",
    "#       side_1.append(lunch_menu[2])\n",
    "#       side_2.append(lunch_menu[3])\n",
    "#       side_3.append(lunch_menu[4])\n",
    "#       side_4.append(lunch_menu[6])\n",
    "#       side_5.append(str)\n",
    "#       dessert_1.append(str)\n",
    "#       dessert_2.append(str)\n",
    "#       kimchi.append(lunch_menu[5])\n",
    "\n",
    "#   print('######## 점심 데이터 구분 함수 종료 ########')\n",
    "\n",
    "#   return rice, soup, side_1, side_2, side_3, side_4, side_5, dessert_1, dessert_2, kimchi\n",
    "  "
   ]
  },
  {
   "cell_type": "code",
   "execution_count": null,
   "metadata": {
    "ExecuteTime": {
     "end_time": "2022-02-20T13:10:43.705144Z",
     "start_time": "2022-02-20T13:10:43.687099Z"
    },
    "scrolled": true
   },
   "outputs": [],
   "source": [
    "# rice, soup, side_1, side_2, side_3, side_4, side_5, dessert_1, dessert_2, kimchi = seperate_lunch_menu_list_ts(test_lunch)"
   ]
  },
  {
   "cell_type": "code",
   "execution_count": null,
   "metadata": {
    "ExecuteTime": {
     "end_time": "2022-02-20T13:10:50.569511Z",
     "start_time": "2022-02-20T13:10:50.539357Z"
    }
   },
   "outputs": [],
   "source": [
    "# test_lunch['밥'] = rice\n",
    "# test_lunch['국'] = soup\n",
    "# test_lunch['반찬1'] = side_1\n",
    "# test_lunch['반찬2'] = side_2\n",
    "# test_lunch['반찬3'] = side_3\n",
    "# test_lunch['반찬4'] = side_4\n",
    "# test_lunch['반찬5'] = side_5\n",
    "# test_lunch['디저트1'] = dessert_1\n",
    "# test_lunch['디저트2'] = dessert_2\n",
    "# test_lunch['김치'] = kimchi"
   ]
  },
  {
   "cell_type": "code",
   "execution_count": null,
   "metadata": {
    "ExecuteTime": {
     "end_time": "2022-02-20T13:11:01.387986Z",
     "start_time": "2022-02-20T13:11:01.351631Z"
    }
   },
   "outputs": [],
   "source": [
    "# def seperate_dinner_menu_list_ts(df):\n",
    "\n",
    "#   str = 'None'\n",
    "#   dinner_menu_list = df['석식메뉴리스트']\n",
    "\n",
    "#   print('######## 저녁 데이터 구분 함수 시작 ########')\n",
    "\n",
    "#   #메뉴 종류별 구분 (10 피처)\n",
    "#   rice = []\n",
    "#   soup = []\n",
    "#   side_1 = []\n",
    "#   side_2 = []\n",
    "#   side_3 = []\n",
    "#   side_4 = []\n",
    "#   side_5 = []\n",
    "#   dessert_1 = []\n",
    "#   dessert_2 = []\n",
    "#   kimchi = []\n",
    "\n",
    "#   for idx, dinner_menu in enumerate(dinner_menu_list):\n",
    "#     print(\"현재 인덱스 :\", idx)\n",
    "#     print(dinner_menu)\n",
    "\n",
    "#     #[밥 국 반찬2개 김치]\n",
    "#     if idx in [0,24,33]:   \n",
    "#       rice.append(dinner_menu[0])\n",
    "#       soup.append(dinner_menu[1])\n",
    "#       side_1.append(dinner_menu[2])\n",
    "#       side_2.append(dinner_menu[3])\n",
    "#       side_3.append(str)\n",
    "#       side_4.append(str)\n",
    "#       side_5.append(str)\n",
    "#       dessert_1.append(str)\n",
    "#       dessert_2.append(str)\n",
    "#       kimchi.append(dinner_menu[4])\n",
    "#     #[밥 국 반찬2개 디저트 김치]\n",
    "#     elif idx in [47]:   \n",
    "#       rice.append(dinner_menu[0])\n",
    "#       soup.append(dinner_menu[1])\n",
    "#       side_1.append(dinner_menu[2])\n",
    "#       side_2.append(dinner_menu[3])\n",
    "#       side_3.append(str)\n",
    "#       side_4.append(str)\n",
    "#       side_5.append(str)\n",
    "#       dessert_1.append(dinner_menu[4])\n",
    "#       dessert_2.append(str)\n",
    "#       kimchi.append(dinner_menu[5])\n",
    "#     #[밥 반찬3개 김치]\n",
    "#     elif idx in [22]:   \n",
    "#       rice.append(dinner_menu[0])\n",
    "#       soup.append(str)\n",
    "#       side_1.append(dinner_menu[1])\n",
    "#       side_2.append(dinner_menu[2])\n",
    "#       side_3.append(dinner_menu[3])\n",
    "#       side_4.append(str)\n",
    "#       side_5.append(str)\n",
    "#       dessert_1.append(str)\n",
    "#       dessert_2.append(str)\n",
    "#       kimchi.append(dinner_menu[4])\n",
    "#     #[밥 국 반찬4개 김치]\n",
    "#     elif idx in [32]:   \n",
    "#       rice.append(dinner_menu[0])\n",
    "#       soup.append(dinner_menu[1])\n",
    "#       side_1.append(dinner_menu[2])\n",
    "#       side_2.append(dinner_menu[3])\n",
    "#       side_3.append(dinner_menu[4])\n",
    "#       side_4.append(dinner_menu[5])\n",
    "#       side_5.append(str)\n",
    "#       dessert_1.append(str)\n",
    "#       dessert_2.append(str)\n",
    "#       kimchi.append(dinner_menu[6])\n",
    "#     #[]\n",
    "#     elif idx in [37]:   \n",
    "#       rice.append(dinner_menu[0])\n",
    "#       soup.append(dinner_menu[1])\n",
    "#       side_1.append(dinner_menu[2])\n",
    "#       side_2.append(dinner_menu[3])\n",
    "#       side_3.append(dinner_menu[5])\n",
    "#       side_4.append(dinner_menu[6])\n",
    "#       side_5.append(str)\n",
    "#       dessert_1.append(str)\n",
    "#       dessert_2.append(str)\n",
    "#       kimchi.append(dinner_menu[7])\n",
    "#     #[밥 국 반찬3개 김치]\n",
    "#     else:   \n",
    "#       rice.append(dinner_menu[0])\n",
    "#       soup.append(dinner_menu[1])\n",
    "#       side_1.append(dinner_menu[2])\n",
    "#       side_2.append(dinner_menu[3])\n",
    "#       side_3.append(dinner_menu[4])\n",
    "#       side_4.append(str)\n",
    "#       side_5.append(str)\n",
    "#       dessert_1.append(str)\n",
    "#       dessert_2.append(str)\n",
    "#       kimchi.append(dinner_menu[5])\n",
    "  \n",
    "#   print('######## 저녁 데이터 구분 함수 종료 ########')\n",
    "\n",
    "#   return rice, soup, side_1, side_2, side_3, side_4, dessert_1, dessert_2, kimchi\n",
    "  "
   ]
  },
  {
   "cell_type": "code",
   "execution_count": null,
   "metadata": {
    "ExecuteTime": {
     "end_time": "2022-02-20T13:11:05.409267Z",
     "start_time": "2022-02-20T13:11:05.387848Z"
    }
   },
   "outputs": [],
   "source": [
    "# rice, soup, side_1, side_2, side_3, side_4, dessert_1, dessert_2, kimchi = seperate_dinner_menu_list_ts(test_dinner)"
   ]
  },
  {
   "cell_type": "code",
   "execution_count": null,
   "metadata": {
    "ExecuteTime": {
     "end_time": "2022-02-20T13:11:09.206318Z",
     "start_time": "2022-02-20T13:11:09.181440Z"
    }
   },
   "outputs": [],
   "source": [
    "# test_dinner['밥'] = rice\n",
    "# test_dinner['국'] = soup\n",
    "# test_dinner['반찬1'] = side_1\n",
    "# test_dinner['반찬2'] = side_2\n",
    "# test_dinner['반찬3'] = side_3\n",
    "# test_dinner['반찬4'] = side_4\n",
    "# test_dinner['디저트1'] = dessert_1\n",
    "# test_dinner['디저트2'] = dessert_2\n",
    "# test_dinner['김치'] = kimchi"
   ]
  },
  {
   "cell_type": "markdown",
   "metadata": {
    "ExecuteTime": {
     "end_time": "2022-02-20T14:43:54.312490Z",
     "start_time": "2022-02-20T14:43:54.297152Z"
    }
   },
   "source": [
    "# 모델링"
   ]
  },
  {
   "cell_type": "code",
   "execution_count": null,
   "metadata": {
    "ExecuteTime": {
     "end_time": "2022-02-20T14:44:06.154939Z",
     "start_time": "2022-02-20T14:44:06.132695Z"
    }
   },
   "outputs": [],
   "source": [
    "train.shape"
   ]
  },
  {
   "cell_type": "code",
   "execution_count": null,
   "metadata": {
    "ExecuteTime": {
     "end_time": "2022-02-20T14:44:11.132997Z",
     "start_time": "2022-02-20T14:44:11.115698Z"
    }
   },
   "outputs": [],
   "source": [
    "test.shape"
   ]
  },
  {
   "cell_type": "code",
   "execution_count": null,
   "metadata": {},
   "outputs": [],
   "source": []
  }
 ],
 "metadata": {
  "hide_input": false,
  "kernelspec": {
   "display_name": "Python 3",
   "language": "python",
   "name": "python3"
  },
  "language_info": {
   "codemirror_mode": {
    "name": "ipython",
    "version": 3
   },
   "file_extension": ".py",
   "mimetype": "text/x-python",
   "name": "python",
   "nbconvert_exporter": "python",
   "pygments_lexer": "ipython3",
   "version": "3.8.3"
  },
  "toc": {
   "base_numbering": 1,
   "nav_menu": {},
   "number_sections": true,
   "sideBar": true,
   "skip_h1_title": false,
   "title_cell": "Table of Contents",
   "title_sidebar": "Contents",
   "toc_cell": false,
   "toc_position": {
    "height": "calc(100% - 180px)",
    "left": "10px",
    "top": "150px",
    "width": "242.458px"
   },
   "toc_section_display": true,
   "toc_window_display": true
  },
  "varInspector": {
   "cols": {
    "lenName": 16,
    "lenType": 16,
    "lenVar": 40
   },
   "kernels_config": {
    "python": {
     "delete_cmd_postfix": "",
     "delete_cmd_prefix": "del ",
     "library": "var_list.py",
     "varRefreshCmd": "print(var_dic_list())"
    },
    "r": {
     "delete_cmd_postfix": ") ",
     "delete_cmd_prefix": "rm(",
     "library": "var_list.r",
     "varRefreshCmd": "cat(var_dic_list()) "
    }
   },
   "types_to_exclude": [
    "module",
    "function",
    "builtin_function_or_method",
    "instance",
    "_Feature"
   ],
   "window_display": false
  }
 },
 "nbformat": 4,
 "nbformat_minor": 4
}
