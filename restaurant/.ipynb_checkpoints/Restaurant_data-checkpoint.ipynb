{
 "cells": [
  {
   "cell_type": "code",
   "execution_count": 63,
   "metadata": {
    "ExecuteTime": {
     "end_time": "2022-02-18T06:43:09.222277Z",
     "start_time": "2022-02-18T06:43:09.213114Z"
    }
   },
   "outputs": [],
   "source": [
    "import pandas as pd\n",
    "import numpy as np"
   ]
  },
  {
   "cell_type": "code",
   "execution_count": 64,
   "metadata": {
    "ExecuteTime": {
     "end_time": "2022-02-18T06:43:09.455836Z",
     "start_time": "2022-02-18T06:43:09.414585Z"
    }
   },
   "outputs": [],
   "source": [
    "df_train = pd.read_csv('./data/train.csv')\n",
    "df_test = pd.read_csv(\"./data/test.csv\")"
   ]
  },
  {
   "cell_type": "markdown",
   "metadata": {},
   "source": [
    "# 날씨 데이터\n",
    "\n",
    "> 날씨\n",
    "- 일조시간 : 태양광선이 구름의 방해없이 지표면을 비춘 시간\n",
    "- 일사량 : 일정한 시간 동안 지표편에 도달한 태양 복사에너지의 양"
   ]
  },
  {
   "cell_type": "code",
   "execution_count": 66,
   "metadata": {
    "ExecuteTime": {
     "end_time": "2022-02-18T06:43:09.999596Z",
     "start_time": "2022-02-18T06:43:09.922510Z"
    }
   },
   "outputs": [],
   "source": [
    "day_2016 = pd.read_csv('./data/weather/DAY_2016.csv', encoding='cp949')\n",
    "day_2017 = pd.read_csv('./data/weather/DAY_2017.csv', encoding='cp949')\n",
    "day_2018 = pd.read_csv('./data/weather/DAY_2018.csv', encoding='cp949')\n",
    "day_2019 = pd.read_csv('./data/weather/DAY_2019.csv', encoding='cp949')\n",
    "day_2020 = pd.read_csv('./data/weather/DAY_2020.csv', encoding='cp949')\n",
    "day_2021 = pd.read_csv('./data/weather/DAY_2021.csv', encoding='cp949')"
   ]
  },
  {
   "cell_type": "code",
   "execution_count": 68,
   "metadata": {
    "ExecuteTime": {
     "end_time": "2022-02-18T06:43:10.500396Z",
     "start_time": "2022-02-18T06:43:10.456725Z"
    }
   },
   "outputs": [],
   "source": [
    "df_weather = pd.concat([day_2016, day_2017, day_2018, day_2019, day_2020, day_2021], axis=0)"
   ]
  },
  {
   "cell_type": "code",
   "execution_count": 69,
   "metadata": {
    "ExecuteTime": {
     "end_time": "2022-02-18T06:43:10.763532Z",
     "start_time": "2022-02-18T06:43:10.750300Z"
    }
   },
   "outputs": [],
   "source": [
    "df_weather = df_weather.loc[:,['일시', '평균기온(°C)', '일강수량(mm)', '평균 지면온도(°C)']]"
   ]
  },
  {
   "cell_type": "code",
   "execution_count": 70,
   "metadata": {
    "ExecuteTime": {
     "end_time": "2022-02-18T06:43:11.247290Z",
     "start_time": "2022-02-18T06:43:10.966769Z"
    }
   },
   "outputs": [],
   "source": [
    "df_weather.to_excel(\"./data/weather/weather_2016_2021.xlsx\", index=False)"
   ]
  },
  {
   "cell_type": "markdown",
   "metadata": {},
   "source": [
    "# 데이터 병합"
   ]
  },
  {
   "cell_type": "code",
   "execution_count": 71,
   "metadata": {
    "ExecuteTime": {
     "end_time": "2022-02-18T06:43:12.226929Z",
     "start_time": "2022-02-18T06:43:12.215646Z"
    }
   },
   "outputs": [],
   "source": [
    "df_weather.rename(columns={'일시':'일자'}, inplace=True)"
   ]
  },
  {
   "cell_type": "code",
   "execution_count": 72,
   "metadata": {
    "ExecuteTime": {
     "end_time": "2022-02-18T06:43:12.789842Z",
     "start_time": "2022-02-18T06:43:12.754114Z"
    }
   },
   "outputs": [],
   "source": [
    "train_weather = pd.merge(df_train, df_weather, how='inner')\n",
    "test_weather = pd.merge(df_test, df_weather, how='inner')"
   ]
  },
  {
   "cell_type": "code",
   "execution_count": 73,
   "metadata": {
    "ExecuteTime": {
     "end_time": "2022-02-18T06:43:13.919796Z",
     "start_time": "2022-02-18T06:43:13.218175Z"
    }
   },
   "outputs": [],
   "source": [
    "train_weather.to_excel('./data/weather/train_weather.xlsx',index=False)\n",
    "test_weather.to_excel('./data/weather/test_weather.xlsx',index=False)"
   ]
  },
  {
   "cell_type": "code",
   "execution_count": null,
   "metadata": {},
   "outputs": [],
   "source": []
  }
 ],
 "metadata": {
  "hide_input": false,
  "kernelspec": {
   "display_name": "Python 3",
   "language": "python",
   "name": "python3"
  },
  "language_info": {
   "codemirror_mode": {
    "name": "ipython",
    "version": 3
   },
   "file_extension": ".py",
   "mimetype": "text/x-python",
   "name": "python",
   "nbconvert_exporter": "python",
   "pygments_lexer": "ipython3",
   "version": "3.8.3"
  },
  "toc": {
   "base_numbering": 1,
   "nav_menu": {},
   "number_sections": true,
   "sideBar": true,
   "skip_h1_title": false,
   "title_cell": "Table of Contents",
   "title_sidebar": "Contents",
   "toc_cell": false,
   "toc_position": {},
   "toc_section_display": true,
   "toc_window_display": false
  },
  "varInspector": {
   "cols": {
    "lenName": 16,
    "lenType": 16,
    "lenVar": 40
   },
   "kernels_config": {
    "python": {
     "delete_cmd_postfix": "",
     "delete_cmd_prefix": "del ",
     "library": "var_list.py",
     "varRefreshCmd": "print(var_dic_list())"
    },
    "r": {
     "delete_cmd_postfix": ") ",
     "delete_cmd_prefix": "rm(",
     "library": "var_list.r",
     "varRefreshCmd": "cat(var_dic_list()) "
    }
   },
   "types_to_exclude": [
    "module",
    "function",
    "builtin_function_or_method",
    "instance",
    "_Feature"
   ],
   "window_display": false
  }
 },
 "nbformat": 4,
 "nbformat_minor": 4
}
