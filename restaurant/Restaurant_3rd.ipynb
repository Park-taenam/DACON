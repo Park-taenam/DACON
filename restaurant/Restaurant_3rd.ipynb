{
 "cells": [
  {
   "cell_type": "markdown",
   "metadata": {},
   "source": [
    "# 구내식당 식수 인원 예측\n",
    "\n",
    "> 목적\n",
    "- 구내식당의 요일별 점심, 저녁식사를 먹는 인원을 예측\n",
    "\n",
    "> 평가\n",
    "- 평가산식 : MAE(Mean Absolute Error)"
   ]
  },
  {
   "cell_type": "code",
   "execution_count": 2,
   "metadata": {
    "ExecuteTime": {
     "end_time": "2022-02-17T10:31:24.307406Z",
     "start_time": "2022-02-17T10:31:24.279005Z"
    }
   },
   "outputs": [],
   "source": [
    "import pandas as pd\n",
    "import numpy as np\n",
    "import matplotlib.pyplot as plt\n",
    "import seaborn as sns\n",
    "\n",
    "plt.style.use('fivethirtyeight')\n",
    "plt.rcParams['font.size'] = 15\n",
    "\n",
    "from scipy.stats import norm\n",
    "from sklearn.preprocessing import StandardScaler\n",
    "from scipy import stats\n",
    "\n",
    "import warnings\n",
    "warnings.filterwarnings('ignore')\n",
    "\n",
    "%matplotlib inline"
   ]
  },
  {
   "cell_type": "code",
   "execution_count": 3,
   "metadata": {
    "ExecuteTime": {
     "end_time": "2022-02-17T10:31:26.523721Z",
     "start_time": "2022-02-17T10:31:24.871751Z"
    }
   },
   "outputs": [],
   "source": [
    "from sklearn.ensemble import VotingClassifier\n",
    "from sklearn.linear_model import LogisticRegression\n",
    "from sklearn.neighbors import KNeighborsClassifier\n",
    "from sklearn.svm import SVC\n",
    "from sklearn.naive_bayes import GaussianNB\n",
    "from sklearn.ensemble import GradientBoostingClassifier\n",
    "from xgboost import XGBRegressor\n",
    "import xgboost"
   ]
  },
  {
   "cell_type": "code",
   "execution_count": 5,
   "metadata": {
    "ExecuteTime": {
     "end_time": "2022-02-17T10:31:57.479433Z",
     "start_time": "2022-02-17T10:31:57.444117Z"
    }
   },
   "outputs": [],
   "source": [
    "# 사용자 운영체제 확인\n",
    "import os\n",
    "os.name\n",
    "\n",
    "# 운영체제별 한글 폰트 설정\n",
    "if os.name == 'posix': # Mac 환경 폰트 설정\n",
    "    plt.rc('font', family='AppleGothic')\n",
    "elif os.name == 'nt': # Windows 환경 폰트 설정\n",
    "    plt.rc('font', family='Malgun Gothic')\n",
    "\n",
    "plt.rc('axes', unicode_minus=False) # 마이너스 폰트 설정\n",
    "\n",
    "\n",
    "# 글씨 선명하게 출력하는 설정\n",
    "%config InlineBackend.figure_format = 'retina'"
   ]
  },
  {
   "cell_type": "markdown",
   "metadata": {},
   "source": [
    "# Dataset"
   ]
  },
  {
   "cell_type": "code",
   "execution_count": 8,
   "metadata": {
    "ExecuteTime": {
     "end_time": "2022-02-17T10:36:37.459883Z",
     "start_time": "2022-02-17T10:36:37.363931Z"
    }
   },
   "outputs": [
    {
     "data": {
      "text/html": [
       "<div>\n",
       "<style scoped>\n",
       "    .dataframe tbody tr th:only-of-type {\n",
       "        vertical-align: middle;\n",
       "    }\n",
       "\n",
       "    .dataframe tbody tr th {\n",
       "        vertical-align: top;\n",
       "    }\n",
       "\n",
       "    .dataframe thead th {\n",
       "        text-align: right;\n",
       "    }\n",
       "</style>\n",
       "<table border=\"1\" class=\"dataframe\">\n",
       "  <thead>\n",
       "    <tr style=\"text-align: right;\">\n",
       "      <th></th>\n",
       "      <th>일자</th>\n",
       "      <th>요일</th>\n",
       "      <th>본사정원수</th>\n",
       "      <th>본사휴가자수</th>\n",
       "      <th>본사출장자수</th>\n",
       "      <th>본사시간외근무명령서승인건수</th>\n",
       "      <th>현본사소속재택근무자수</th>\n",
       "      <th>조식메뉴</th>\n",
       "      <th>중식메뉴</th>\n",
       "      <th>석식메뉴</th>\n",
       "      <th>중식계</th>\n",
       "      <th>석식계</th>\n",
       "    </tr>\n",
       "  </thead>\n",
       "  <tbody>\n",
       "    <tr>\n",
       "      <th>0</th>\n",
       "      <td>2016-02-01</td>\n",
       "      <td>월</td>\n",
       "      <td>2601</td>\n",
       "      <td>50</td>\n",
       "      <td>150</td>\n",
       "      <td>238</td>\n",
       "      <td>0.0</td>\n",
       "      <td>모닝롤/찐빵  우유/두유/주스 계란후라이  호두죽/쌀밥 (쌀:국내산) 된장찌개  쥐...</td>\n",
       "      <td>쌀밥/잡곡밥 (쌀,현미흑미:국내산) 오징어찌개  쇠불고기 (쇠고기:호주산) 계란찜 ...</td>\n",
       "      <td>쌀밥/잡곡밥 (쌀,현미흑미:국내산) 육개장  자반고등어구이  두부조림  건파래무침 ...</td>\n",
       "      <td>1039.0</td>\n",
       "      <td>331.0</td>\n",
       "    </tr>\n",
       "    <tr>\n",
       "      <th>1</th>\n",
       "      <td>2016-02-02</td>\n",
       "      <td>화</td>\n",
       "      <td>2601</td>\n",
       "      <td>50</td>\n",
       "      <td>173</td>\n",
       "      <td>319</td>\n",
       "      <td>0.0</td>\n",
       "      <td>모닝롤/단호박샌드  우유/두유/주스 계란후라이  팥죽/쌀밥 (쌀:국내산) 호박젓국찌...</td>\n",
       "      <td>쌀밥/잡곡밥 (쌀,현미흑미:국내산) 김치찌개  가자미튀김  모둠소세지구이  마늘쫑무...</td>\n",
       "      <td>콩나물밥*양념장 (쌀,현미흑미:국내산) 어묵국  유산슬 (쇠고기:호주산) 아삭고추무...</td>\n",
       "      <td>867.0</td>\n",
       "      <td>560.0</td>\n",
       "    </tr>\n",
       "    <tr>\n",
       "      <th>2</th>\n",
       "      <td>2016-02-03</td>\n",
       "      <td>수</td>\n",
       "      <td>2601</td>\n",
       "      <td>56</td>\n",
       "      <td>180</td>\n",
       "      <td>111</td>\n",
       "      <td>0.0</td>\n",
       "      <td>모닝롤/베이글  우유/두유/주스 계란후라이  표고버섯죽/쌀밥 (쌀:국내산) 콩나물국...</td>\n",
       "      <td>카레덮밥 (쌀,현미흑미:국내산) 팽이장국  치킨핑거 (닭고기:국내산) 쫄면야채무침 ...</td>\n",
       "      <td>쌀밥/잡곡밥 (쌀,현미흑미:국내산) 청국장찌개  황태양념구이 (황태:러시아산) 고기...</td>\n",
       "      <td>1017.0</td>\n",
       "      <td>573.0</td>\n",
       "    </tr>\n",
       "    <tr>\n",
       "      <th>3</th>\n",
       "      <td>2016-02-04</td>\n",
       "      <td>목</td>\n",
       "      <td>2601</td>\n",
       "      <td>104</td>\n",
       "      <td>220</td>\n",
       "      <td>355</td>\n",
       "      <td>0.0</td>\n",
       "      <td>모닝롤/토마토샌드  우유/두유/주스 계란후라이  닭죽/쌀밥 (쌀,닭:국내산) 근대국...</td>\n",
       "      <td>쌀밥/잡곡밥 (쌀,현미흑미:국내산) 쇠고기무국  주꾸미볶음  부추전  시금치나물  ...</td>\n",
       "      <td>미니김밥*겨자장 (쌀,현미흑미:국내산) 우동  멕시칸샐러드  군고구마  무피클  포...</td>\n",
       "      <td>978.0</td>\n",
       "      <td>525.0</td>\n",
       "    </tr>\n",
       "    <tr>\n",
       "      <th>4</th>\n",
       "      <td>2016-02-05</td>\n",
       "      <td>금</td>\n",
       "      <td>2601</td>\n",
       "      <td>278</td>\n",
       "      <td>181</td>\n",
       "      <td>34</td>\n",
       "      <td>0.0</td>\n",
       "      <td>모닝롤/와플  우유/두유/주스 계란후라이  쇠고기죽/쌀밥 (쌀:국내산) 재첩국  방...</td>\n",
       "      <td>쌀밥/잡곡밥 (쌀,현미흑미:국내산) 떡국  돈육씨앗강정 (돼지고기:국내산) 우엉잡채...</td>\n",
       "      <td>쌀밥/잡곡밥 (쌀,현미흑미:국내산) 차돌박이찌개 (쇠고기:호주산) 닭갈비 (닭고기:...</td>\n",
       "      <td>925.0</td>\n",
       "      <td>330.0</td>\n",
       "    </tr>\n",
       "  </tbody>\n",
       "</table>\n",
       "</div>"
      ],
      "text/plain": [
       "           일자 요일  본사정원수  본사휴가자수  본사출장자수  본사시간외근무명령서승인건수  현본사소속재택근무자수  \\\n",
       "0  2016-02-01  월   2601      50     150             238          0.0   \n",
       "1  2016-02-02  화   2601      50     173             319          0.0   \n",
       "2  2016-02-03  수   2601      56     180             111          0.0   \n",
       "3  2016-02-04  목   2601     104     220             355          0.0   \n",
       "4  2016-02-05  금   2601     278     181              34          0.0   \n",
       "\n",
       "                                                조식메뉴  \\\n",
       "0  모닝롤/찐빵  우유/두유/주스 계란후라이  호두죽/쌀밥 (쌀:국내산) 된장찌개  쥐...   \n",
       "1  모닝롤/단호박샌드  우유/두유/주스 계란후라이  팥죽/쌀밥 (쌀:국내산) 호박젓국찌...   \n",
       "2  모닝롤/베이글  우유/두유/주스 계란후라이  표고버섯죽/쌀밥 (쌀:국내산) 콩나물국...   \n",
       "3  모닝롤/토마토샌드  우유/두유/주스 계란후라이  닭죽/쌀밥 (쌀,닭:국내산) 근대국...   \n",
       "4  모닝롤/와플  우유/두유/주스 계란후라이  쇠고기죽/쌀밥 (쌀:국내산) 재첩국  방...   \n",
       "\n",
       "                                                중식메뉴  \\\n",
       "0  쌀밥/잡곡밥 (쌀,현미흑미:국내산) 오징어찌개  쇠불고기 (쇠고기:호주산) 계란찜 ...   \n",
       "1  쌀밥/잡곡밥 (쌀,현미흑미:국내산) 김치찌개  가자미튀김  모둠소세지구이  마늘쫑무...   \n",
       "2  카레덮밥 (쌀,현미흑미:국내산) 팽이장국  치킨핑거 (닭고기:국내산) 쫄면야채무침 ...   \n",
       "3  쌀밥/잡곡밥 (쌀,현미흑미:국내산) 쇠고기무국  주꾸미볶음  부추전  시금치나물  ...   \n",
       "4  쌀밥/잡곡밥 (쌀,현미흑미:국내산) 떡국  돈육씨앗강정 (돼지고기:국내산) 우엉잡채...   \n",
       "\n",
       "                                                석식메뉴     중식계    석식계  \n",
       "0  쌀밥/잡곡밥 (쌀,현미흑미:국내산) 육개장  자반고등어구이  두부조림  건파래무침 ...  1039.0  331.0  \n",
       "1  콩나물밥*양념장 (쌀,현미흑미:국내산) 어묵국  유산슬 (쇠고기:호주산) 아삭고추무...   867.0  560.0  \n",
       "2  쌀밥/잡곡밥 (쌀,현미흑미:국내산) 청국장찌개  황태양념구이 (황태:러시아산) 고기...  1017.0  573.0  \n",
       "3  미니김밥*겨자장 (쌀,현미흑미:국내산) 우동  멕시칸샐러드  군고구마  무피클  포...   978.0  525.0  \n",
       "4  쌀밥/잡곡밥 (쌀,현미흑미:국내산) 차돌박이찌개 (쇠고기:호주산) 닭갈비 (닭고기:...   925.0  330.0  "
      ]
     },
     "execution_count": 8,
     "metadata": {},
     "output_type": "execute_result"
    }
   ],
   "source": [
    "df = pd.read_csv('./data/train.csv')\n",
    "df.head()"
   ]
  },
  {
   "cell_type": "code",
   "execution_count": 11,
   "metadata": {
    "ExecuteTime": {
     "end_time": "2022-02-17T12:05:22.630862Z",
     "start_time": "2022-02-17T12:05:22.612370Z"
    }
   },
   "outputs": [
    {
     "data": {
      "text/plain": [
       "(1205, 12)"
      ]
     },
     "execution_count": 11,
     "metadata": {},
     "output_type": "execute_result"
    }
   ],
   "source": [
    "df.shape"
   ]
  },
  {
   "cell_type": "code",
   "execution_count": 9,
   "metadata": {
    "ExecuteTime": {
     "end_time": "2022-02-17T10:37:15.730231Z",
     "start_time": "2022-02-17T10:37:15.685144Z"
    }
   },
   "outputs": [
    {
     "name": "stdout",
     "output_type": "stream",
     "text": [
      "<class 'pandas.core.frame.DataFrame'>\n",
      "RangeIndex: 1205 entries, 0 to 1204\n",
      "Data columns (total 12 columns):\n",
      " #   Column          Non-Null Count  Dtype  \n",
      "---  ------          --------------  -----  \n",
      " 0   일자              1205 non-null   object \n",
      " 1   요일              1205 non-null   object \n",
      " 2   본사정원수           1205 non-null   int64  \n",
      " 3   본사휴가자수          1205 non-null   int64  \n",
      " 4   본사출장자수          1205 non-null   int64  \n",
      " 5   본사시간외근무명령서승인건수  1205 non-null   int64  \n",
      " 6   현본사소속재택근무자수     1205 non-null   float64\n",
      " 7   조식메뉴            1205 non-null   object \n",
      " 8   중식메뉴            1205 non-null   object \n",
      " 9   석식메뉴            1205 non-null   object \n",
      " 10  중식계             1205 non-null   float64\n",
      " 11  석식계             1205 non-null   float64\n",
      "dtypes: float64(3), int64(4), object(5)\n",
      "memory usage: 113.1+ KB\n"
     ]
    }
   ],
   "source": [
    "df.info()"
   ]
  },
  {
   "cell_type": "markdown",
   "metadata": {},
   "source": [
    "# EDA"
   ]
  },
  {
   "cell_type": "markdown",
   "metadata": {},
   "source": [
    "## Correlation\n",
    "\n",
    "> 상관관계\n",
    "- 중식계, 석식계가 상관관계가 있다 (상관관계가 있다고 인과관계는 될수없지만,)\n",
    "- 점심에도 먹은 사람은 저녁에도 먹을 가능성이 크다고 생각. 점심때 밖에서 먹지 않은 사람들은 시간을 효율적으로 쓰고 싶어하거나\n",
    "- 음식에 대해 딱히 관심이 없을수도있다생각. 그냥 살기위해 먹는 사람들일수도 있다 생각.\n",
    "- 그래서 이 사람들은 시간이 가장 중요하다 생각.\n",
    "- 그래도 너무 맛이없으면 밖에서 사먹을 수도 있다는게 두번째 가설. 보통 음식은 밥, 국 , 메인반찬이 중요하므로\n",
    "- 음식이 너무 맛이없지않는한 웬만하면 구내식당을 이용할거라 예측."
   ]
  },
  {
   "cell_type": "code",
   "execution_count": 10,
   "metadata": {
    "ExecuteTime": {
     "end_time": "2022-02-17T12:04:48.237300Z",
     "start_time": "2022-02-17T12:04:48.197018Z"
    }
   },
   "outputs": [
    {
     "data": {
      "text/html": [
       "<div>\n",
       "<style scoped>\n",
       "    .dataframe tbody tr th:only-of-type {\n",
       "        vertical-align: middle;\n",
       "    }\n",
       "\n",
       "    .dataframe tbody tr th {\n",
       "        vertical-align: top;\n",
       "    }\n",
       "\n",
       "    .dataframe thead th {\n",
       "        text-align: right;\n",
       "    }\n",
       "</style>\n",
       "<table border=\"1\" class=\"dataframe\">\n",
       "  <thead>\n",
       "    <tr style=\"text-align: right;\">\n",
       "      <th></th>\n",
       "      <th>본사정원수</th>\n",
       "      <th>본사휴가자수</th>\n",
       "      <th>본사출장자수</th>\n",
       "      <th>본사시간외근무명령서승인건수</th>\n",
       "      <th>현본사소속재택근무자수</th>\n",
       "      <th>중식계</th>\n",
       "      <th>석식계</th>\n",
       "    </tr>\n",
       "  </thead>\n",
       "  <tbody>\n",
       "    <tr>\n",
       "      <th>본사정원수</th>\n",
       "      <td>1.000000</td>\n",
       "      <td>0.244666</td>\n",
       "      <td>-0.061688</td>\n",
       "      <td>0.146544</td>\n",
       "      <td>0.452293</td>\n",
       "      <td>-0.115529</td>\n",
       "      <td>-0.173852</td>\n",
       "    </tr>\n",
       "    <tr>\n",
       "      <th>본사휴가자수</th>\n",
       "      <td>0.244666</td>\n",
       "      <td>1.000000</td>\n",
       "      <td>-0.273318</td>\n",
       "      <td>-0.230789</td>\n",
       "      <td>0.065397</td>\n",
       "      <td>-0.391975</td>\n",
       "      <td>-0.316894</td>\n",
       "    </tr>\n",
       "    <tr>\n",
       "      <th>본사출장자수</th>\n",
       "      <td>-0.061688</td>\n",
       "      <td>-0.273318</td>\n",
       "      <td>1.000000</td>\n",
       "      <td>-0.308757</td>\n",
       "      <td>-0.352643</td>\n",
       "      <td>-0.512680</td>\n",
       "      <td>-0.188164</td>\n",
       "    </tr>\n",
       "    <tr>\n",
       "      <th>본사시간외근무명령서승인건수</th>\n",
       "      <td>0.146544</td>\n",
       "      <td>-0.230789</td>\n",
       "      <td>-0.308757</td>\n",
       "      <td>1.000000</td>\n",
       "      <td>0.156792</td>\n",
       "      <td>0.535611</td>\n",
       "      <td>0.571168</td>\n",
       "    </tr>\n",
       "    <tr>\n",
       "      <th>현본사소속재택근무자수</th>\n",
       "      <td>0.452293</td>\n",
       "      <td>0.065397</td>\n",
       "      <td>-0.352643</td>\n",
       "      <td>0.156792</td>\n",
       "      <td>1.000000</td>\n",
       "      <td>0.076509</td>\n",
       "      <td>-0.057534</td>\n",
       "    </tr>\n",
       "    <tr>\n",
       "      <th>중식계</th>\n",
       "      <td>-0.115529</td>\n",
       "      <td>-0.391975</td>\n",
       "      <td>-0.512680</td>\n",
       "      <td>0.535611</td>\n",
       "      <td>0.076509</td>\n",
       "      <td>1.000000</td>\n",
       "      <td>0.508287</td>\n",
       "    </tr>\n",
       "    <tr>\n",
       "      <th>석식계</th>\n",
       "      <td>-0.173852</td>\n",
       "      <td>-0.316894</td>\n",
       "      <td>-0.188164</td>\n",
       "      <td>0.571168</td>\n",
       "      <td>-0.057534</td>\n",
       "      <td>0.508287</td>\n",
       "      <td>1.000000</td>\n",
       "    </tr>\n",
       "  </tbody>\n",
       "</table>\n",
       "</div>"
      ],
      "text/plain": [
       "                   본사정원수    본사휴가자수    본사출장자수  본사시간외근무명령서승인건수  현본사소속재택근무자수  \\\n",
       "본사정원수           1.000000  0.244666 -0.061688        0.146544     0.452293   \n",
       "본사휴가자수          0.244666  1.000000 -0.273318       -0.230789     0.065397   \n",
       "본사출장자수         -0.061688 -0.273318  1.000000       -0.308757    -0.352643   \n",
       "본사시간외근무명령서승인건수  0.146544 -0.230789 -0.308757        1.000000     0.156792   \n",
       "현본사소속재택근무자수     0.452293  0.065397 -0.352643        0.156792     1.000000   \n",
       "중식계            -0.115529 -0.391975 -0.512680        0.535611     0.076509   \n",
       "석식계            -0.173852 -0.316894 -0.188164        0.571168    -0.057534   \n",
       "\n",
       "                     중식계       석식계  \n",
       "본사정원수          -0.115529 -0.173852  \n",
       "본사휴가자수         -0.391975 -0.316894  \n",
       "본사출장자수         -0.512680 -0.188164  \n",
       "본사시간외근무명령서승인건수  0.535611  0.571168  \n",
       "현본사소속재택근무자수     0.076509 -0.057534  \n",
       "중식계             1.000000  0.508287  \n",
       "석식계             0.508287  1.000000  "
      ]
     },
     "execution_count": 10,
     "metadata": {},
     "output_type": "execute_result"
    }
   ],
   "source": [
    "df.corr()"
   ]
  },
  {
   "cell_type": "markdown",
   "metadata": {},
   "source": [
    "## 요일별"
   ]
  },
  {
   "cell_type": "code",
   "execution_count": 19,
   "metadata": {
    "ExecuteTime": {
     "end_time": "2022-02-17T12:11:23.045091Z",
     "start_time": "2022-02-17T12:11:22.454291Z"
    }
   },
   "outputs": [
    {
     "data": {
      "image/png": "[encoded data removed]",
      "text/plain": [
       "<Figure size 576x576 with 1 Axes>"
      ]
     },
     "metadata": {
      "image/png": {
       "height": 496,
       "width": 557
      },
      "needs_background": "light"
     },
     "output_type": "display_data"
    }
   ],
   "source": [
    "# 월요일이 가장 많고 금요일로 갈수록 줄어든다.\n",
    "plt.figure(figsize=(8,8))\n",
    "\n",
    "sns.barplot(x=\"요일\", y=\"중식계\", data=df)\n",
    "plt.title(\"요일별 중식 인원 수\")\n",
    "plt.show()"
   ]
  },
  {
   "cell_type": "code",
   "execution_count": 18,
   "metadata": {
    "ExecuteTime": {
     "end_time": "2022-02-17T12:11:17.752149Z",
     "start_time": "2022-02-17T12:11:17.189678Z"
    }
   },
   "outputs": [
    {
     "data": {
      "image/png": "[encoded data removed]",
      "text/plain": [
       "<Figure size 576x576 with 1 Axes>"
      ]
     },
     "metadata": {
      "image/png": {
       "height": 496,
       "width": 552
      },
      "needs_background": "light"
     },
     "output_type": "display_data"
    }
   ],
   "source": [
    "#수요일 금요일이 가장 적은데\n",
    "#그이유는 수요일날 한번 쉬는 의미에서 약속이 많을수 있다 생각.\n",
    "#금요일 역시 약속이 있어서 나가서 먹을거라 생각\n",
    "#=> 월,화,목 일 열심히 // 수,금은 좀 힘들어서 쉬는시간 필요하다 생각.\n",
    "\n",
    "plt.figure(figsize=(8,8))\n",
    "\n",
    "sns.barplot(x=\"요일\", y=\"석식계\", data=df)\n",
    "plt.title(\"요일별 석식 인원 수\")\n",
    "plt.show()"
   ]
  },
  {
   "cell_type": "markdown",
   "metadata": {},
   "source": [
    "## 중식 / 석식"
   ]
  },
  {
   "cell_type": "code",
   "execution_count": 21,
   "metadata": {
    "ExecuteTime": {
     "end_time": "2022-02-17T12:12:19.353214Z",
     "start_time": "2022-02-17T12:12:19.326082Z"
    }
   },
   "outputs": [
    {
     "name": "stdout",
     "output_type": "stream",
     "text": [
      "3305\n",
      "\n",
      "\n",
      "count    1205.000000\n",
      "mean      890.334440\n",
      "std       209.505057\n",
      "min       296.000000\n",
      "25%       758.000000\n",
      "50%       879.000000\n",
      "75%      1032.000000\n",
      "max      1459.000000\n",
      "Name: 중식계, dtype: float64\n",
      "\n",
      "\n",
      "count    1205.000000\n",
      "mean      461.772614\n",
      "std       139.179202\n",
      "min         0.000000\n",
      "25%       406.000000\n",
      "50%       483.000000\n",
      "75%       545.000000\n",
      "max       905.000000\n",
      "Name: 석식계, dtype: float64\n"
     ]
    }
   ],
   "source": [
    "print(df['본사정원수'].max()) #총인원 3305\n",
    "print('\\n')\n",
    "print(df['중식계'].describe()) #최대 1459\n",
    "print('\\n')\n",
    "print(df['석식계'].describe()) #최대 905"
   ]
  },
  {
   "cell_type": "code",
   "execution_count": 17,
   "metadata": {
    "ExecuteTime": {
     "end_time": "2022-02-17T12:11:12.035834Z",
     "start_time": "2022-02-17T12:11:11.529238Z"
    }
   },
   "outputs": [
    {
     "data": {
      "image/png": "[encoded data removed]",
      "text/plain": [
       "<Figure size 576x576 with 1 Axes>"
      ]
     },
     "metadata": {
      "image/png": {
       "height": 496,
       "width": 570
      },
      "needs_background": "light"
     },
     "output_type": "display_data"
    }
   ],
   "source": [
    "plt.figure(figsize=(8,8))\n",
    "sns.kdeplot(df['중식계'])\n",
    "plt.title(\"중식계\")\n",
    "plt.show()"
   ]
  },
  {
   "cell_type": "code",
   "execution_count": 20,
   "metadata": {
    "ExecuteTime": {
     "end_time": "2022-02-17T12:11:55.369098Z",
     "start_time": "2022-02-17T12:11:54.984820Z"
    }
   },
   "outputs": [
    {
     "data": {
      "image/png": "[encoded data removed]",
      "text/plain": [
       "<Figure size 576x576 with 1 Axes>"
      ]
     },
     "metadata": {
      "image/png": {
       "height": 496,
       "width": 565
      },
      "needs_background": "light"
     },
     "output_type": "display_data"
    }
   ],
   "source": [
    "plt.figure(figsize=(8,8))\n",
    "sns.kdeplot(df['석식계'])\n",
    "plt.title(\"석식계\")\n",
    "plt.show()"
   ]
  },
  {
   "cell_type": "markdown",
   "metadata": {},
   "source": [
    "# 전처리"
   ]
  },
  {
   "cell_type": "markdown",
   "metadata": {},
   "source": [
    "## Train"
   ]
  },
  {
   "cell_type": "code",
   "execution_count": 25,
   "metadata": {
    "ExecuteTime": {
     "end_time": "2022-02-17T12:14:20.865312Z",
     "start_time": "2022-02-17T12:14:20.826052Z"
    }
   },
   "outputs": [
    {
     "data": {
      "text/html": [
       "<div>\n",
       "<style scoped>\n",
       "    .dataframe tbody tr th:only-of-type {\n",
       "        vertical-align: middle;\n",
       "    }\n",
       "\n",
       "    .dataframe tbody tr th {\n",
       "        vertical-align: top;\n",
       "    }\n",
       "\n",
       "    .dataframe thead th {\n",
       "        text-align: right;\n",
       "    }\n",
       "</style>\n",
       "<table border=\"1\" class=\"dataframe\">\n",
       "  <thead>\n",
       "    <tr style=\"text-align: right;\">\n",
       "      <th></th>\n",
       "      <th>date</th>\n",
       "      <th>day</th>\n",
       "      <th>numbers</th>\n",
       "      <th>dayoff</th>\n",
       "      <th>work</th>\n",
       "      <th>outsidework</th>\n",
       "      <th>workfhome</th>\n",
       "      <th>break</th>\n",
       "      <th>lunch</th>\n",
       "      <th>dinner</th>\n",
       "      <th>lunch_t</th>\n",
       "      <th>dinner_t</th>\n",
       "    </tr>\n",
       "  </thead>\n",
       "  <tbody>\n",
       "    <tr>\n",
       "      <th>0</th>\n",
       "      <td>2016-02-01</td>\n",
       "      <td>월</td>\n",
       "      <td>2601</td>\n",
       "      <td>50</td>\n",
       "      <td>150</td>\n",
       "      <td>238</td>\n",
       "      <td>0.0</td>\n",
       "      <td>모닝롤/찐빵  우유/두유/주스 계란후라이  호두죽/쌀밥 (쌀:국내산) 된장찌개  쥐...</td>\n",
       "      <td>쌀밥/잡곡밥 (쌀,현미흑미:국내산) 오징어찌개  쇠불고기 (쇠고기:호주산) 계란찜 ...</td>\n",
       "      <td>쌀밥/잡곡밥 (쌀,현미흑미:국내산) 육개장  자반고등어구이  두부조림  건파래무침 ...</td>\n",
       "      <td>1039.0</td>\n",
       "      <td>331.0</td>\n",
       "    </tr>\n",
       "    <tr>\n",
       "      <th>1</th>\n",
       "      <td>2016-02-02</td>\n",
       "      <td>화</td>\n",
       "      <td>2601</td>\n",
       "      <td>50</td>\n",
       "      <td>173</td>\n",
       "      <td>319</td>\n",
       "      <td>0.0</td>\n",
       "      <td>모닝롤/단호박샌드  우유/두유/주스 계란후라이  팥죽/쌀밥 (쌀:국내산) 호박젓국찌...</td>\n",
       "      <td>쌀밥/잡곡밥 (쌀,현미흑미:국내산) 김치찌개  가자미튀김  모둠소세지구이  마늘쫑무...</td>\n",
       "      <td>콩나물밥*양념장 (쌀,현미흑미:국내산) 어묵국  유산슬 (쇠고기:호주산) 아삭고추무...</td>\n",
       "      <td>867.0</td>\n",
       "      <td>560.0</td>\n",
       "    </tr>\n",
       "  </tbody>\n",
       "</table>\n",
       "</div>"
      ],
      "text/plain": [
       "         date day  numbers  dayoff  work  outsidework  workfhome  \\\n",
       "0  2016-02-01   월     2601      50   150          238        0.0   \n",
       "1  2016-02-02   화     2601      50   173          319        0.0   \n",
       "\n",
       "                                               break  \\\n",
       "0  모닝롤/찐빵  우유/두유/주스 계란후라이  호두죽/쌀밥 (쌀:국내산) 된장찌개  쥐...   \n",
       "1  모닝롤/단호박샌드  우유/두유/주스 계란후라이  팥죽/쌀밥 (쌀:국내산) 호박젓국찌...   \n",
       "\n",
       "                                               lunch  \\\n",
       "0  쌀밥/잡곡밥 (쌀,현미흑미:국내산) 오징어찌개  쇠불고기 (쇠고기:호주산) 계란찜 ...   \n",
       "1  쌀밥/잡곡밥 (쌀,현미흑미:국내산) 김치찌개  가자미튀김  모둠소세지구이  마늘쫑무...   \n",
       "\n",
       "                                              dinner  lunch_t  dinner_t  \n",
       "0  쌀밥/잡곡밥 (쌀,현미흑미:국내산) 육개장  자반고등어구이  두부조림  건파래무침 ...   1039.0     331.0  \n",
       "1  콩나물밥*양념장 (쌀,현미흑미:국내산) 어묵국  유산슬 (쇠고기:호주산) 아삭고추무...    867.0     560.0  "
      ]
     },
     "execution_count": 25,
     "metadata": {},
     "output_type": "execute_result"
    }
   ],
   "source": [
    "df.columns = ['date','day','numbers','dayoff','work','outsidework','workfhome','break','lunch','dinner','lunch_t','dinner_t']\n",
    "df.head(2)"
   ]
  },
  {
   "cell_type": "markdown",
   "metadata": {},
   "source": [
    "### 날짜 정리"
   ]
  },
  {
   "cell_type": "code",
   "execution_count": 26,
   "metadata": {
    "ExecuteTime": {
     "end_time": "2022-02-17T12:16:27.591568Z",
     "start_time": "2022-02-17T12:16:27.500692Z"
    }
   },
   "outputs": [],
   "source": [
    "df['date'] = pd.to_datetime(df['date'])\n",
    "df['yearmonth'] = df['date'].dt.strftime('%Y%m')\n",
    "df['date'] = df['date'].dt.strftime('%m%d')\n",
    "df['Month'] = df['date'].str[0:2]\n",
    "df['Date'] = df['date'].str[2:]\n",
    "\n",
    "df.drop(['date','break'], inplace=True , axis=1) # 아침은 영향이 없을것같으므로 삭제"
   ]
  },
  {
   "cell_type": "code",
   "execution_count": 28,
   "metadata": {
    "ExecuteTime": {
     "end_time": "2022-02-17T12:16:44.338535Z",
     "start_time": "2022-02-17T12:16:44.309670Z"
    }
   },
   "outputs": [
    {
     "data": {
      "text/html": [
       "<div>\n",
       "<style scoped>\n",
       "    .dataframe tbody tr th:only-of-type {\n",
       "        vertical-align: middle;\n",
       "    }\n",
       "\n",
       "    .dataframe tbody tr th {\n",
       "        vertical-align: top;\n",
       "    }\n",
       "\n",
       "    .dataframe thead th {\n",
       "        text-align: right;\n",
       "    }\n",
       "</style>\n",
       "<table border=\"1\" class=\"dataframe\">\n",
       "  <thead>\n",
       "    <tr style=\"text-align: right;\">\n",
       "      <th></th>\n",
       "      <th>day</th>\n",
       "      <th>numbers</th>\n",
       "      <th>dayoff</th>\n",
       "      <th>work</th>\n",
       "      <th>outsidework</th>\n",
       "      <th>workfhome</th>\n",
       "      <th>lunch</th>\n",
       "      <th>dinner</th>\n",
       "      <th>lunch_t</th>\n",
       "      <th>dinner_t</th>\n",
       "      <th>yearmonth</th>\n",
       "      <th>Month</th>\n",
       "      <th>Date</th>\n",
       "    </tr>\n",
       "  </thead>\n",
       "  <tbody>\n",
       "    <tr>\n",
       "      <th>0</th>\n",
       "      <td>월</td>\n",
       "      <td>2601</td>\n",
       "      <td>50</td>\n",
       "      <td>150</td>\n",
       "      <td>238</td>\n",
       "      <td>0.0</td>\n",
       "      <td>쌀밥/잡곡밥 (쌀,현미흑미:국내산) 오징어찌개  쇠불고기 (쇠고기:호주산) 계란찜 ...</td>\n",
       "      <td>쌀밥/잡곡밥 (쌀,현미흑미:국내산) 육개장  자반고등어구이  두부조림  건파래무침 ...</td>\n",
       "      <td>1039.0</td>\n",
       "      <td>331.0</td>\n",
       "      <td>201602</td>\n",
       "      <td>02</td>\n",
       "      <td>01</td>\n",
       "    </tr>\n",
       "    <tr>\n",
       "      <th>1</th>\n",
       "      <td>화</td>\n",
       "      <td>2601</td>\n",
       "      <td>50</td>\n",
       "      <td>173</td>\n",
       "      <td>319</td>\n",
       "      <td>0.0</td>\n",
       "      <td>쌀밥/잡곡밥 (쌀,현미흑미:국내산) 김치찌개  가자미튀김  모둠소세지구이  마늘쫑무...</td>\n",
       "      <td>콩나물밥*양념장 (쌀,현미흑미:국내산) 어묵국  유산슬 (쇠고기:호주산) 아삭고추무...</td>\n",
       "      <td>867.0</td>\n",
       "      <td>560.0</td>\n",
       "      <td>201602</td>\n",
       "      <td>02</td>\n",
       "      <td>02</td>\n",
       "    </tr>\n",
       "  </tbody>\n",
       "</table>\n",
       "</div>"
      ],
      "text/plain": [
       "  day  numbers  dayoff  work  outsidework  workfhome  \\\n",
       "0   월     2601      50   150          238        0.0   \n",
       "1   화     2601      50   173          319        0.0   \n",
       "\n",
       "                                               lunch  \\\n",
       "0  쌀밥/잡곡밥 (쌀,현미흑미:국내산) 오징어찌개  쇠불고기 (쇠고기:호주산) 계란찜 ...   \n",
       "1  쌀밥/잡곡밥 (쌀,현미흑미:국내산) 김치찌개  가자미튀김  모둠소세지구이  마늘쫑무...   \n",
       "\n",
       "                                              dinner  lunch_t  dinner_t  \\\n",
       "0  쌀밥/잡곡밥 (쌀,현미흑미:국내산) 육개장  자반고등어구이  두부조림  건파래무침 ...   1039.0     331.0   \n",
       "1  콩나물밥*양념장 (쌀,현미흑미:국내산) 어묵국  유산슬 (쇠고기:호주산) 아삭고추무...    867.0     560.0   \n",
       "\n",
       "  yearmonth Month Date  \n",
       "0    201602    02   01  \n",
       "1    201602    02   02  "
      ]
     },
     "execution_count": 28,
     "metadata": {},
     "output_type": "execute_result"
    }
   ],
   "source": [
    "df.head(2)"
   ]
  },
  {
   "cell_type": "code",
   "execution_count": 29,
   "metadata": {
    "ExecuteTime": {
     "end_time": "2022-02-17T12:18:58.427307Z",
     "start_time": "2022-02-17T12:18:55.512944Z"
    }
   },
   "outputs": [
    {
     "data": {
      "image/png": "[encoded data removed]",
      "text/plain": [
       "<Figure size 1440x720 with 1 Axes>"
      ]
     },
     "metadata": {
      "image/png": {
       "height": 611,
       "width": 1309
      },
      "needs_background": "light"
     },
     "output_type": "display_data"
    }
   ],
   "source": [
    "#월별 점심떄 사람수\n",
    "plt.figure(figsize=(20,10))\n",
    "rot = sns.boxplot(x='yearmonth',y='lunch_t', data = df)\n",
    "\n",
    "for item in rot.get_xticklabels():\n",
    "    item.set_rotation(90)\n",
    "#2017 년부 12월에 먹는 사람수가 좀 줄어든다.\n",
    "#연말이라 회식이많은것같다. 그래서 밖에서 사먹고 와서 그런것같다.\n",
    "#생각보다 코라나로인해 확 줄거나 그런것은 안보이는 것같다."
   ]
  },
  {
   "cell_type": "code",
   "execution_count": 30,
   "metadata": {
    "ExecuteTime": {
     "end_time": "2022-02-17T12:19:27.267455Z",
     "start_time": "2022-02-17T12:19:23.785500Z"
    }
   },
   "outputs": [
    {
     "data": {
      "image/png": "[encoded data removed]",
      "text/plain": [
       "<Figure size 1440x720 with 1 Axes>"
      ]
     },
     "metadata": {
      "image/png": {
       "height": 611,
       "width": 1303
      },
      "needs_background": "light"
     },
     "output_type": "display_data"
    }
   ],
   "source": [
    "#월별 저녁\n",
    "plt.figure(figsize=(20,10))\n",
    "rot = sns.boxplot(x='yearmonth',y='dinner_t', data = df)\n",
    "\n",
    "for item in rot.get_xticklabels():\n",
    "    item.set_rotation(90)"
   ]
  },
  {
   "cell_type": "code",
   "execution_count": 31,
   "metadata": {
    "ExecuteTime": {
     "end_time": "2022-02-17T12:19:32.154507Z",
     "start_time": "2022-02-17T12:19:32.133105Z"
    }
   },
   "outputs": [],
   "source": [
    "df.drop('yearmonth', inplace=True , axis=1)"
   ]
  },
  {
   "cell_type": "markdown",
   "metadata": {},
   "source": [
    "### 메뉴 구분"
   ]
  },
  {
   "cell_type": "markdown",
   "metadata": {
    "ExecuteTime": {
     "end_time": "2022-02-17T12:25:33.210006Z",
     "start_time": "2022-02-17T12:25:33.193528Z"
    }
   },
   "source": [
    "#### 점심"
   ]
  },
  {
   "cell_type": "code",
   "execution_count": 32,
   "metadata": {
    "ExecuteTime": {
     "end_time": "2022-02-17T12:20:58.876837Z",
     "start_time": "2022-02-17T12:20:58.846841Z"
    }
   },
   "outputs": [
    {
     "data": {
      "text/html": [
       "<div>\n",
       "<style scoped>\n",
       "    .dataframe tbody tr th:only-of-type {\n",
       "        vertical-align: middle;\n",
       "    }\n",
       "\n",
       "    .dataframe tbody tr th {\n",
       "        vertical-align: top;\n",
       "    }\n",
       "\n",
       "    .dataframe thead th {\n",
       "        text-align: right;\n",
       "    }\n",
       "</style>\n",
       "<table border=\"1\" class=\"dataframe\">\n",
       "  <thead>\n",
       "    <tr style=\"text-align: right;\">\n",
       "      <th></th>\n",
       "      <th>day</th>\n",
       "      <th>numbers</th>\n",
       "      <th>dayoff</th>\n",
       "      <th>work</th>\n",
       "      <th>outsidework</th>\n",
       "      <th>workfhome</th>\n",
       "      <th>lunch</th>\n",
       "      <th>dinner</th>\n",
       "      <th>lunch_t</th>\n",
       "      <th>dinner_t</th>\n",
       "      <th>Month</th>\n",
       "      <th>Date</th>\n",
       "    </tr>\n",
       "  </thead>\n",
       "  <tbody>\n",
       "    <tr>\n",
       "      <th>0</th>\n",
       "      <td>월</td>\n",
       "      <td>2601</td>\n",
       "      <td>50</td>\n",
       "      <td>150</td>\n",
       "      <td>238</td>\n",
       "      <td>0.0</td>\n",
       "      <td>쌀밥/잡곡밥 (쌀,현미흑미:국내산) 오징어찌개  쇠불고기 (쇠고기:호주산) 계란찜 ...</td>\n",
       "      <td>쌀밥/잡곡밥 (쌀,현미흑미:국내산) 육개장  자반고등어구이  두부조림  건파래무침 ...</td>\n",
       "      <td>1039.0</td>\n",
       "      <td>331.0</td>\n",
       "      <td>02</td>\n",
       "      <td>01</td>\n",
       "    </tr>\n",
       "    <tr>\n",
       "      <th>1</th>\n",
       "      <td>화</td>\n",
       "      <td>2601</td>\n",
       "      <td>50</td>\n",
       "      <td>173</td>\n",
       "      <td>319</td>\n",
       "      <td>0.0</td>\n",
       "      <td>쌀밥/잡곡밥 (쌀,현미흑미:국내산) 김치찌개  가자미튀김  모둠소세지구이  마늘쫑무...</td>\n",
       "      <td>콩나물밥*양념장 (쌀,현미흑미:국내산) 어묵국  유산슬 (쇠고기:호주산) 아삭고추무...</td>\n",
       "      <td>867.0</td>\n",
       "      <td>560.0</td>\n",
       "      <td>02</td>\n",
       "      <td>02</td>\n",
       "    </tr>\n",
       "  </tbody>\n",
       "</table>\n",
       "</div>"
      ],
      "text/plain": [
       "  day  numbers  dayoff  work  outsidework  workfhome  \\\n",
       "0   월     2601      50   150          238        0.0   \n",
       "1   화     2601      50   173          319        0.0   \n",
       "\n",
       "                                               lunch  \\\n",
       "0  쌀밥/잡곡밥 (쌀,현미흑미:국내산) 오징어찌개  쇠불고기 (쇠고기:호주산) 계란찜 ...   \n",
       "1  쌀밥/잡곡밥 (쌀,현미흑미:국내산) 김치찌개  가자미튀김  모둠소세지구이  마늘쫑무...   \n",
       "\n",
       "                                              dinner  lunch_t  dinner_t Month  \\\n",
       "0  쌀밥/잡곡밥 (쌀,현미흑미:국내산) 육개장  자반고등어구이  두부조림  건파래무침 ...   1039.0     331.0    02   \n",
       "1  콩나물밥*양념장 (쌀,현미흑미:국내산) 어묵국  유산슬 (쇠고기:호주산) 아삭고추무...    867.0     560.0    02   \n",
       "\n",
       "  Date  \n",
       "0   01  \n",
       "1   02  "
      ]
     },
     "execution_count": 32,
     "metadata": {},
     "output_type": "execute_result"
    }
   ],
   "source": [
    "df.head(2)"
   ]
  },
  {
   "cell_type": "code",
   "execution_count": 33,
   "metadata": {
    "ExecuteTime": {
     "end_time": "2022-02-17T12:21:46.433684Z",
     "start_time": "2022-02-17T12:21:46.374785Z"
    }
   },
   "outputs": [],
   "source": [
    "# 일별 점심메뉴를 작은 리스트로 갖고 있는 큰 리스트 (lunch) 만들기 \n",
    "lunch_menu = []\n",
    "\n",
    "for day in range(len(df)):\n",
    "    tmp = df.loc[day,'lunch'].split(' ') # 스페이스로 구분\n",
    "    tmp = ' '.join(tmp).split()    # 빈칸 제거\n",
    "\n",
    "    for menu in tmp:\n",
    "        if '(' in menu:\n",
    "            tmp.remove(menu)\n",
    "    lunch_menu.append(tmp) "
   ]
  },
  {
   "cell_type": "code",
   "execution_count": 34,
   "metadata": {
    "ExecuteTime": {
     "end_time": "2022-02-17T12:21:49.513326Z",
     "start_time": "2022-02-17T12:21:49.501867Z"
    }
   },
   "outputs": [],
   "source": [
    "for bob in range(len(df)): # 밥은 큰 차이가 없을것같으므로 쌀밥은 다 밥으로 통일\n",
    "    if '쌀밥' in lunch_menu[bob][0]:\n",
    "        lunch_menu[bob][0] = '밥'"
   ]
  },
  {
   "cell_type": "code",
   "execution_count": 35,
   "metadata": {
    "ExecuteTime": {
     "end_time": "2022-02-17T12:23:06.943971Z",
     "start_time": "2022-02-17T12:23:06.927473Z"
    }
   },
   "outputs": [
    {
     "data": {
      "text/plain": [
       "[['밥', '오징어찌개', '쇠불고기', '계란찜', '청포묵무침', '요구르트', '포기김치'],\n",
       " ['밥', '김치찌개', '가자미튀김', '모둠소세지구이', '마늘쫑무침', '요구르트', '배추겉절이'],\n",
       " ['카레덮밥', '팽이장국', '치킨핑거', '쫄면야채무침', '견과류조림', '요구르트', '포기김치']]"
      ]
     },
     "execution_count": 35,
     "metadata": {},
     "output_type": "execute_result"
    }
   ],
   "source": [
    "lunch_menu[:3]"
   ]
  },
  {
   "cell_type": "code",
   "execution_count": 36,
   "metadata": {
    "ExecuteTime": {
     "end_time": "2022-02-17T12:23:17.801839Z",
     "start_time": "2022-02-17T12:23:17.750440Z"
    }
   },
   "outputs": [
    {
     "data": {
      "text/html": [
       "<div>\n",
       "<style scoped>\n",
       "    .dataframe tbody tr th:only-of-type {\n",
       "        vertical-align: middle;\n",
       "    }\n",
       "\n",
       "    .dataframe tbody tr th {\n",
       "        vertical-align: top;\n",
       "    }\n",
       "\n",
       "    .dataframe thead th {\n",
       "        text-align: right;\n",
       "    }\n",
       "</style>\n",
       "<table border=\"1\" class=\"dataframe\">\n",
       "  <thead>\n",
       "    <tr style=\"text-align: right;\">\n",
       "      <th></th>\n",
       "      <th>day</th>\n",
       "      <th>numbers</th>\n",
       "      <th>dayoff</th>\n",
       "      <th>work</th>\n",
       "      <th>outsidework</th>\n",
       "      <th>workfhome</th>\n",
       "      <th>lunch</th>\n",
       "      <th>dinner</th>\n",
       "      <th>lunch_t</th>\n",
       "      <th>dinner_t</th>\n",
       "      <th>Month</th>\n",
       "      <th>Date</th>\n",
       "      <th>lunch_menu</th>\n",
       "    </tr>\n",
       "  </thead>\n",
       "  <tbody>\n",
       "    <tr>\n",
       "      <th>0</th>\n",
       "      <td>월</td>\n",
       "      <td>2601</td>\n",
       "      <td>50</td>\n",
       "      <td>150</td>\n",
       "      <td>238</td>\n",
       "      <td>0.0</td>\n",
       "      <td>쌀밥/잡곡밥 (쌀,현미흑미:국내산) 오징어찌개  쇠불고기 (쇠고기:호주산) 계란찜 ...</td>\n",
       "      <td>쌀밥/잡곡밥 (쌀,현미흑미:국내산) 육개장  자반고등어구이  두부조림  건파래무침 ...</td>\n",
       "      <td>1039.0</td>\n",
       "      <td>331.0</td>\n",
       "      <td>02</td>\n",
       "      <td>01</td>\n",
       "      <td>[밥, 오징어찌개, 쇠불고기, 계란찜, 청포묵무침, 요구르트, 포기김치]</td>\n",
       "    </tr>\n",
       "    <tr>\n",
       "      <th>1</th>\n",
       "      <td>화</td>\n",
       "      <td>2601</td>\n",
       "      <td>50</td>\n",
       "      <td>173</td>\n",
       "      <td>319</td>\n",
       "      <td>0.0</td>\n",
       "      <td>쌀밥/잡곡밥 (쌀,현미흑미:국내산) 김치찌개  가자미튀김  모둠소세지구이  마늘쫑무...</td>\n",
       "      <td>콩나물밥*양념장 (쌀,현미흑미:국내산) 어묵국  유산슬 (쇠고기:호주산) 아삭고추무...</td>\n",
       "      <td>867.0</td>\n",
       "      <td>560.0</td>\n",
       "      <td>02</td>\n",
       "      <td>02</td>\n",
       "      <td>[밥, 김치찌개, 가자미튀김, 모둠소세지구이, 마늘쫑무침, 요구르트, 배추겉절이]</td>\n",
       "    </tr>\n",
       "  </tbody>\n",
       "</table>\n",
       "</div>"
      ],
      "text/plain": [
       "  day  numbers  dayoff  work  outsidework  workfhome  \\\n",
       "0   월     2601      50   150          238        0.0   \n",
       "1   화     2601      50   173          319        0.0   \n",
       "\n",
       "                                               lunch  \\\n",
       "0  쌀밥/잡곡밥 (쌀,현미흑미:국내산) 오징어찌개  쇠불고기 (쇠고기:호주산) 계란찜 ...   \n",
       "1  쌀밥/잡곡밥 (쌀,현미흑미:국내산) 김치찌개  가자미튀김  모둠소세지구이  마늘쫑무...   \n",
       "\n",
       "                                              dinner  lunch_t  dinner_t Month  \\\n",
       "0  쌀밥/잡곡밥 (쌀,현미흑미:국내산) 육개장  자반고등어구이  두부조림  건파래무침 ...   1039.0     331.0    02   \n",
       "1  콩나물밥*양념장 (쌀,현미흑미:국내산) 어묵국  유산슬 (쇠고기:호주산) 아삭고추무...    867.0     560.0    02   \n",
       "\n",
       "  Date                                     lunch_menu  \n",
       "0   01       [밥, 오징어찌개, 쇠불고기, 계란찜, 청포묵무침, 요구르트, 포기김치]  \n",
       "1   02  [밥, 김치찌개, 가자미튀김, 모둠소세지구이, 마늘쫑무침, 요구르트, 배추겉절이]  "
      ]
     },
     "execution_count": 36,
     "metadata": {},
     "output_type": "execute_result"
    }
   ],
   "source": [
    "df['lunch_menu'] = lunch_menu\n",
    "df.head(2)"
   ]
  },
  {
   "cell_type": "code",
   "execution_count": 37,
   "metadata": {
    "ExecuteTime": {
     "end_time": "2022-02-17T12:23:44.445510Z",
     "start_time": "2022-02-17T12:23:44.428406Z"
    }
   },
   "outputs": [],
   "source": [
    "# 위에서 언급한 메인, 국, 반찬만 나누어주기\n",
    "\n",
    "bob=[]\n",
    "soup=[]\n",
    "main=[]\n",
    "\n",
    "for i in range(len(df)):\n",
    "    if lunch_menu[i][0]:\n",
    "        bob.append(lunch_menu[i][0])\n",
    "    if lunch_menu[i][1]:\n",
    "        soup.append(lunch_menu[i][1])\n",
    "    if lunch_menu[i][2]:\n",
    "        main.append(lunch_menu[i][2])"
   ]
  },
  {
   "cell_type": "code",
   "execution_count": 38,
   "metadata": {
    "ExecuteTime": {
     "end_time": "2022-02-17T12:23:50.355578Z",
     "start_time": "2022-02-17T12:23:50.343789Z"
    }
   },
   "outputs": [
    {
     "name": "stdout",
     "output_type": "stream",
     "text": [
      "1205\n",
      "1205\n",
      "1205\n",
      "--\n",
      "1205\n"
     ]
    }
   ],
   "source": [
    "#누락이 있으면 안되므로 확인해주자\n",
    "\n",
    "print(len(bob))\n",
    "print(len(soup))\n",
    "print(len(main))\n",
    "print('--')\n",
    "print(len(df))"
   ]
  },
  {
   "cell_type": "code",
   "execution_count": 39,
   "metadata": {
    "ExecuteTime": {
     "end_time": "2022-02-17T12:23:57.498305Z",
     "start_time": "2022-02-17T12:23:57.477790Z"
    }
   },
   "outputs": [],
   "source": [
    "#확인후에 추가\n",
    "df['bob'] = bob\n",
    "df['soup'] = soup\n",
    "df['main'] = main"
   ]
  },
  {
   "cell_type": "code",
   "execution_count": 40,
   "metadata": {
    "ExecuteTime": {
     "end_time": "2022-02-17T12:24:04.913071Z",
     "start_time": "2022-02-17T12:24:04.877332Z"
    }
   },
   "outputs": [
    {
     "data": {
      "text/html": [
       "<div>\n",
       "<style scoped>\n",
       "    .dataframe tbody tr th:only-of-type {\n",
       "        vertical-align: middle;\n",
       "    }\n",
       "\n",
       "    .dataframe tbody tr th {\n",
       "        vertical-align: top;\n",
       "    }\n",
       "\n",
       "    .dataframe thead th {\n",
       "        text-align: right;\n",
       "    }\n",
       "</style>\n",
       "<table border=\"1\" class=\"dataframe\">\n",
       "  <thead>\n",
       "    <tr style=\"text-align: right;\">\n",
       "      <th></th>\n",
       "      <th>day</th>\n",
       "      <th>numbers</th>\n",
       "      <th>dayoff</th>\n",
       "      <th>work</th>\n",
       "      <th>outsidework</th>\n",
       "      <th>workfhome</th>\n",
       "      <th>lunch</th>\n",
       "      <th>dinner</th>\n",
       "      <th>lunch_t</th>\n",
       "      <th>dinner_t</th>\n",
       "      <th>Month</th>\n",
       "      <th>Date</th>\n",
       "      <th>lunch_menu</th>\n",
       "      <th>bob</th>\n",
       "      <th>soup</th>\n",
       "      <th>main</th>\n",
       "    </tr>\n",
       "  </thead>\n",
       "  <tbody>\n",
       "    <tr>\n",
       "      <th>0</th>\n",
       "      <td>월</td>\n",
       "      <td>2601</td>\n",
       "      <td>50</td>\n",
       "      <td>150</td>\n",
       "      <td>238</td>\n",
       "      <td>0.0</td>\n",
       "      <td>쌀밥/잡곡밥 (쌀,현미흑미:국내산) 오징어찌개  쇠불고기 (쇠고기:호주산) 계란찜 ...</td>\n",
       "      <td>쌀밥/잡곡밥 (쌀,현미흑미:국내산) 육개장  자반고등어구이  두부조림  건파래무침 ...</td>\n",
       "      <td>1039.0</td>\n",
       "      <td>331.0</td>\n",
       "      <td>02</td>\n",
       "      <td>01</td>\n",
       "      <td>[밥, 오징어찌개, 쇠불고기, 계란찜, 청포묵무침, 요구르트, 포기김치]</td>\n",
       "      <td>밥</td>\n",
       "      <td>오징어찌개</td>\n",
       "      <td>쇠불고기</td>\n",
       "    </tr>\n",
       "    <tr>\n",
       "      <th>1</th>\n",
       "      <td>화</td>\n",
       "      <td>2601</td>\n",
       "      <td>50</td>\n",
       "      <td>173</td>\n",
       "      <td>319</td>\n",
       "      <td>0.0</td>\n",
       "      <td>쌀밥/잡곡밥 (쌀,현미흑미:국내산) 김치찌개  가자미튀김  모둠소세지구이  마늘쫑무...</td>\n",
       "      <td>콩나물밥*양념장 (쌀,현미흑미:국내산) 어묵국  유산슬 (쇠고기:호주산) 아삭고추무...</td>\n",
       "      <td>867.0</td>\n",
       "      <td>560.0</td>\n",
       "      <td>02</td>\n",
       "      <td>02</td>\n",
       "      <td>[밥, 김치찌개, 가자미튀김, 모둠소세지구이, 마늘쫑무침, 요구르트, 배추겉절이]</td>\n",
       "      <td>밥</td>\n",
       "      <td>김치찌개</td>\n",
       "      <td>가자미튀김</td>\n",
       "    </tr>\n",
       "  </tbody>\n",
       "</table>\n",
       "</div>"
      ],
      "text/plain": [
       "  day  numbers  dayoff  work  outsidework  workfhome  \\\n",
       "0   월     2601      50   150          238        0.0   \n",
       "1   화     2601      50   173          319        0.0   \n",
       "\n",
       "                                               lunch  \\\n",
       "0  쌀밥/잡곡밥 (쌀,현미흑미:국내산) 오징어찌개  쇠불고기 (쇠고기:호주산) 계란찜 ...   \n",
       "1  쌀밥/잡곡밥 (쌀,현미흑미:국내산) 김치찌개  가자미튀김  모둠소세지구이  마늘쫑무...   \n",
       "\n",
       "                                              dinner  lunch_t  dinner_t Month  \\\n",
       "0  쌀밥/잡곡밥 (쌀,현미흑미:국내산) 육개장  자반고등어구이  두부조림  건파래무침 ...   1039.0     331.0    02   \n",
       "1  콩나물밥*양념장 (쌀,현미흑미:국내산) 어묵국  유산슬 (쇠고기:호주산) 아삭고추무...    867.0     560.0    02   \n",
       "\n",
       "  Date                                     lunch_menu bob   soup   main  \n",
       "0   01       [밥, 오징어찌개, 쇠불고기, 계란찜, 청포묵무침, 요구르트, 포기김치]   밥  오징어찌개   쇠불고기  \n",
       "1   02  [밥, 김치찌개, 가자미튀김, 모둠소세지구이, 마늘쫑무침, 요구르트, 배추겉절이]   밥   김치찌개  가자미튀김  "
      ]
     },
     "execution_count": 40,
     "metadata": {},
     "output_type": "execute_result"
    }
   ],
   "source": [
    "df.head(2)"
   ]
  },
  {
   "cell_type": "code",
   "execution_count": 41,
   "metadata": {
    "ExecuteTime": {
     "end_time": "2022-02-17T12:24:20.280401Z",
     "start_time": "2022-02-17T12:24:20.246652Z"
    },
    "scrolled": true
   },
   "outputs": [
    {
     "data": {
      "text/plain": [
       "밥              1003\n",
       "콩나물밥             23\n",
       "카레덮밥             18\n",
       "나물비빔밥            15\n",
       "곤드레밥*강된장         12\n",
       "단호박영양밥           10\n",
       "곤드레밥*양념장          8\n",
       "카레라이스             8\n",
       "곤드레밥              8\n",
       "비빔밥               8\n",
       "김치제육덮밥            8\n",
       "짜장덮밥              6\n",
       "낙지비빔밥             6\n",
       "마파두부덮밥            5\n",
       "콩나물밥*양념장          5\n",
       "산채비빔밥             5\n",
       "짜장밥               4\n",
       "열무보리비빔밥           4\n",
       "소불고기덮밥            3\n",
       "열무비빔밥             3\n",
       "봄나물비빔밥            3\n",
       "참치회덮밥             2\n",
       "콩나물밥*달래장          2\n",
       "<초복특식>            2\n",
       "단호박카레라이스          2\n",
       "곤드레밥*간장양념         2\n",
       "전주비빔밥             1\n",
       "호박된장국             1\n",
       "소고기콩나물밥*양념        1\n",
       "닭살카레라이스           1\n",
       "오므라이스             1\n",
       "불고기비빔밥            1\n",
       "삼계탕               1\n",
       "고기듬뿍카레라이스         1\n",
       "파인애플볶음밥           1\n",
       "버섯영양밥             1\n",
       "계란채소볶음밥           1\n",
       "전주비빔밥*약고추장        1\n",
       "오곡밥               1\n",
       "돈육버섯고추장덮밥         1\n",
       "연복풍덮밥             1\n",
       "봄새싹비빔밥            1\n",
       "산채비빔밥*강된장         1\n",
       "비빔밥*약고추장          1\n",
       "야채볶음밥*짜장소스        1\n",
       "건강비빔밥*약고추장        1\n",
       "불고기덮밥             1\n",
       "열무보리비빔밥/강된장       1\n",
       "낙지볶음밥             1\n",
       "새우날치알볶음밥          1\n",
       "베이컨김치볶음밥          1\n",
       "낙지비빔밥*계란후라이       1\n",
       "김치볶음밥             1\n",
       "김치볶음밥/계란          1\n",
       "김치필라프             1\n",
       "김밥볶음밥             1\n",
       "Name: bob, dtype: int64"
      ]
     },
     "execution_count": 41,
     "metadata": {},
     "output_type": "execute_result"
    }
   ],
   "source": [
    "df['bob'].value_counts() #밥은 딱히 영향이 없을것같다."
   ]
  },
  {
   "cell_type": "code",
   "execution_count": 42,
   "metadata": {
    "ExecuteTime": {
     "end_time": "2022-02-17T12:25:10.283913Z",
     "start_time": "2022-02-17T12:25:10.265105Z"
    }
   },
   "outputs": [
    {
     "data": {
      "text/plain": [
       "맑은국       46\n",
       "콩나물국      44\n",
       "된장찌개      37\n",
       "어묵국       31\n",
       "아욱국       28\n",
       "          ..\n",
       "해물완자전      1\n",
       "호박잎된장국     1\n",
       "어묵매운탕      1\n",
       "쪽파국        1\n",
       "홍초콩나물국     1\n",
       "Name: soup, Length: 272, dtype: int64"
      ]
     },
     "execution_count": 42,
     "metadata": {},
     "output_type": "execute_result"
    }
   ],
   "source": [
    "df['soup'].value_counts()"
   ]
  },
  {
   "cell_type": "code",
   "execution_count": 43,
   "metadata": {
    "ExecuteTime": {
     "end_time": "2022-02-17T12:25:14.103589Z",
     "start_time": "2022-02-17T12:25:14.080208Z"
    }
   },
   "outputs": [
    {
     "data": {
      "text/plain": [
       "오징어볶음        32\n",
       "닭갈비          30\n",
       "버섯불고기        29\n",
       "훈제오리구이       27\n",
       "돈육굴소스볶음      25\n",
       "             ..\n",
       "꽁치한마리레몬구이     1\n",
       "묵은지닭볶음탕       1\n",
       "차돌비빔국수        1\n",
       "김치전           1\n",
       "바베큐폭립         1\n",
       "Name: main, Length: 391, dtype: int64"
      ]
     },
     "execution_count": 43,
     "metadata": {},
     "output_type": "execute_result"
    }
   ],
   "source": [
    "df['main'].value_counts()"
   ]
  },
  {
   "cell_type": "markdown",
   "metadata": {},
   "source": [
    "#### 저녁"
   ]
  },
  {
   "cell_type": "code",
   "execution_count": 45,
   "metadata": {
    "ExecuteTime": {
     "end_time": "2022-02-17T12:25:43.833921Z",
     "start_time": "2022-02-17T12:25:43.780734Z"
    }
   },
   "outputs": [],
   "source": [
    "dinner_menu = []\n",
    "for day in range(len(df)):\n",
    "    tmp = df.loc[day,'dinner'].split(' ')\n",
    "    tmp = ' '.join(tmp).split()    \n",
    "\n",
    "    for menu in tmp:\n",
    "        if '(' in menu:\n",
    "            tmp.remove(menu)\n",
    "    dinner_menu.append(tmp) "
   ]
  },
  {
   "cell_type": "code",
   "execution_count": 46,
   "metadata": {
    "ExecuteTime": {
     "end_time": "2022-02-17T12:25:47.018257Z",
     "start_time": "2022-02-17T12:25:46.999946Z"
    }
   },
   "outputs": [],
   "source": [
    "df['dinner_menu'] = dinner_menu"
   ]
  },
  {
   "cell_type": "code",
   "execution_count": 47,
   "metadata": {
    "ExecuteTime": {
     "end_time": "2022-02-17T12:25:49.384040Z",
     "start_time": "2022-02-17T12:25:49.360201Z"
    }
   },
   "outputs": [
    {
     "data": {
      "text/plain": [
       "1205"
      ]
     },
     "execution_count": 47,
     "metadata": {},
     "output_type": "execute_result"
    }
   ],
   "source": [
    "len(df['dinner_menu'])"
   ]
  },
  {
   "cell_type": "code",
   "execution_count": 48,
   "metadata": {
    "ExecuteTime": {
     "end_time": "2022-02-17T12:25:54.775974Z",
     "start_time": "2022-02-17T12:25:54.760973Z"
    }
   },
   "outputs": [
    {
     "data": {
      "text/plain": [
       "[['쌀밥/잡곡밥', '육개장', '자반고등어구이', '두부조림', '건파래무침', '포기김치'],\n",
       " ['콩나물밥*양념장', '어묵국', '유산슬', '아삭고추무침', '바나나', '포기김치'],\n",
       " ['쌀밥/잡곡밥', '청국장찌개', '황태양념구이', '고기전', '새송이버섯볶음', '포기김치'],\n",
       " ['미니김밥*겨자장', '우동', '멕시칸샐러드', '군고구마', '무피클', '포기김치'],\n",
       " ['쌀밥/잡곡밥', '차돌박이찌개', '닭갈비', '감자소세지볶음', '콩나물무침', '포기김치']]"
      ]
     },
     "execution_count": 48,
     "metadata": {},
     "output_type": "execute_result"
    }
   ],
   "source": [
    "dinner_menu[0:5]"
   ]
  },
  {
   "cell_type": "code",
   "execution_count": 49,
   "metadata": {
    "ExecuteTime": {
     "end_time": "2022-02-17T12:27:46.715670Z",
     "start_time": "2022-02-17T12:27:46.683761Z"
    }
   },
   "outputs": [],
   "source": [
    "bobd=[]\n",
    "soupd=[]\n",
    "maind=[]\n",
    "\n",
    "\n",
    "for word in  dinner_menu:\n",
    "    \n",
    "    \n",
    "    if len(word) == 0:\n",
    "        bobd.append('None') #비어있으면 그 날짜자체가 없어질수있으므로 'None' 값으로 대체\n",
    "        soupd.append('None')\n",
    "        maind.append('None')\n",
    "    elif '*' in word:\n",
    "        bobd.append('None')\n",
    "        soupd.append('None')\n",
    "        maind.append('None')\n",
    "    elif '가정의날' in word:\n",
    "        bobd.append('None')\n",
    "        soupd.append('None')\n",
    "        maind.append('None')\n",
    "    elif '가정의달' in word:\n",
    "        bobd.append('None')\n",
    "        soupd.append('None')\n",
    "        maind.append('None')\n",
    "    elif '자기계발의날' in word:\n",
    "        bobd.append('None')\n",
    "        soupd.append('None')\n",
    "        maind.append('None')\n",
    "    elif '*자기계발의날*' in word:\n",
    "        bobd.append('None')\n",
    "        soupd.append('None')\n",
    "        maind.append('None')\n",
    "    elif '자기개발의날' in word:\n",
    "        bobd.append('None')\n",
    "        soupd.append('None')\n",
    "        maind.append('None')\n",
    "\n",
    "    else:\n",
    "        bobd.append(word[0])\n",
    "        soupd.append(word[1])\n",
    "        maind.append(word[2])"
   ]
  },
  {
   "cell_type": "code",
   "execution_count": 50,
   "metadata": {
    "ExecuteTime": {
     "end_time": "2022-02-17T12:27:51.416604Z",
     "start_time": "2022-02-17T12:27:51.405836Z"
    }
   },
   "outputs": [
    {
     "name": "stdout",
     "output_type": "stream",
     "text": [
      "1205\n",
      "1205\n",
      "1205\n",
      "1205\n"
     ]
    }
   ],
   "source": [
    "#다들어왔는지 확인\n",
    "print(len(dinner_menu))\n",
    "print(len(bobd))\n",
    "print(len(soupd))\n",
    "print(len(maind))"
   ]
  },
  {
   "cell_type": "code",
   "execution_count": 51,
   "metadata": {
    "ExecuteTime": {
     "end_time": "2022-02-17T12:27:55.165539Z",
     "start_time": "2022-02-17T12:27:55.141027Z"
    }
   },
   "outputs": [],
   "source": [
    "df['bobd'] = bobd\n",
    "df['soupd'] = soupd\n",
    "df['maind'] = maind"
   ]
  },
  {
   "cell_type": "code",
   "execution_count": 52,
   "metadata": {
    "ExecuteTime": {
     "end_time": "2022-02-17T12:27:58.779603Z",
     "start_time": "2022-02-17T12:27:58.763473Z"
    }
   },
   "outputs": [
    {
     "data": {
      "text/plain": [
       "None       41\n",
       "떡볶이        16\n",
       "닭갈비        16\n",
       "돈육강정       15\n",
       "돈육장조림      14\n",
       "돈육굴소스볶음    14\n",
       "유린기        14\n",
       "깐풍기        14\n",
       "고추잡채*꽃빵    14\n",
       "주꾸미볶음      13\n",
       "Name: maind, dtype: int64"
      ]
     },
     "execution_count": 52,
     "metadata": {},
     "output_type": "execute_result"
    }
   ],
   "source": [
    "df['maind'].value_counts()[:10]"
   ]
  },
  {
   "cell_type": "code",
   "execution_count": 53,
   "metadata": {
    "ExecuteTime": {
     "end_time": "2022-02-17T12:28:02.211795Z",
     "start_time": "2022-02-17T12:28:02.184376Z"
    }
   },
   "outputs": [
    {
     "data": {
      "text/plain": [
       "None     41\n",
       "잔치국수     37\n",
       "맑은국      33\n",
       "된장찌개     30\n",
       "육개장      29\n",
       "가쯔오장국    29\n",
       "미소장국     28\n",
       "부대찌개     25\n",
       "우동       23\n",
       "닭개장      23\n",
       "Name: soupd, dtype: int64"
      ]
     },
     "execution_count": 53,
     "metadata": {},
     "output_type": "execute_result"
    }
   ],
   "source": [
    "df['soupd'].value_counts()[:10]"
   ]
  },
  {
   "cell_type": "markdown",
   "metadata": {},
   "source": [
    "### Lunch Train"
   ]
  },
  {
   "cell_type": "code",
   "execution_count": 54,
   "metadata": {
    "ExecuteTime": {
     "end_time": "2022-02-17T12:29:19.138679Z",
     "start_time": "2022-02-17T12:29:19.116212Z"
    }
   },
   "outputs": [],
   "source": [
    "# Lunch Train 완성\n",
    "#lunch_train\n",
    "train = df[\n",
    "    ['day','numbers','dayoff','work','outsidework','workfhome','lunch_t','Month','Date','bob','soup','main']\n",
    "]"
   ]
  },
  {
   "cell_type": "code",
   "execution_count": 55,
   "metadata": {
    "ExecuteTime": {
     "end_time": "2022-02-17T12:29:22.036733Z",
     "start_time": "2022-02-17T12:29:22.005651Z"
    }
   },
   "outputs": [],
   "source": [
    "# encoding\n",
    "\n",
    "train['day'] =  train['day'].astype('category')\n",
    "train['day'] = train.day.cat.codes # 0, 1, 2 ...로 변경\n",
    "\n",
    "\n",
    "train['bob'] =  train['bob'].astype('category')\n",
    "train['bob'] = train.bob.cat.codes\n",
    "\n",
    "train['soup'] =  train['soup'].astype('category')\n",
    "train['soup'] = train.soup.cat.codes\n",
    "\n",
    "train['main'] =  train['main'].astype('category')\n",
    "train['main'] = train.main.cat.codes"
   ]
  },
  {
   "cell_type": "code",
   "execution_count": 56,
   "metadata": {
    "ExecuteTime": {
     "end_time": "2022-02-17T12:29:25.735239Z",
     "start_time": "2022-02-17T12:29:25.684216Z"
    }
   },
   "outputs": [],
   "source": [
    "train['present'] = train['numbers']-train['dayoff']-train['work']-train['outsidework']"
   ]
  },
  {
   "cell_type": "code",
   "execution_count": 57,
   "metadata": {
    "ExecuteTime": {
     "end_time": "2022-02-17T12:29:30.301079Z",
     "start_time": "2022-02-17T12:29:30.274110Z"
    }
   },
   "outputs": [
    {
     "data": {
      "text/html": [
       "<div>\n",
       "<style scoped>\n",
       "    .dataframe tbody tr th:only-of-type {\n",
       "        vertical-align: middle;\n",
       "    }\n",
       "\n",
       "    .dataframe tbody tr th {\n",
       "        vertical-align: top;\n",
       "    }\n",
       "\n",
       "    .dataframe thead th {\n",
       "        text-align: right;\n",
       "    }\n",
       "</style>\n",
       "<table border=\"1\" class=\"dataframe\">\n",
       "  <thead>\n",
       "    <tr style=\"text-align: right;\">\n",
       "      <th></th>\n",
       "      <th>day</th>\n",
       "      <th>numbers</th>\n",
       "      <th>dayoff</th>\n",
       "      <th>work</th>\n",
       "      <th>outsidework</th>\n",
       "      <th>workfhome</th>\n",
       "      <th>lunch_t</th>\n",
       "      <th>Month</th>\n",
       "      <th>Date</th>\n",
       "      <th>bob</th>\n",
       "      <th>soup</th>\n",
       "      <th>main</th>\n",
       "      <th>present</th>\n",
       "    </tr>\n",
       "  </thead>\n",
       "  <tbody>\n",
       "    <tr>\n",
       "      <th>0</th>\n",
       "      <td>3</td>\n",
       "      <td>2601</td>\n",
       "      <td>50</td>\n",
       "      <td>150</td>\n",
       "      <td>238</td>\n",
       "      <td>0.0</td>\n",
       "      <td>1039.0</td>\n",
       "      <td>02</td>\n",
       "      <td>01</td>\n",
       "      <td>22</td>\n",
       "      <td>189</td>\n",
       "      <td>236</td>\n",
       "      <td>2163</td>\n",
       "    </tr>\n",
       "    <tr>\n",
       "      <th>1</th>\n",
       "      <td>4</td>\n",
       "      <td>2601</td>\n",
       "      <td>50</td>\n",
       "      <td>173</td>\n",
       "      <td>319</td>\n",
       "      <td>0.0</td>\n",
       "      <td>867.0</td>\n",
       "      <td>02</td>\n",
       "      <td>02</td>\n",
       "      <td>22</td>\n",
       "      <td>28</td>\n",
       "      <td>8</td>\n",
       "      <td>2059</td>\n",
       "    </tr>\n",
       "    <tr>\n",
       "      <th>2</th>\n",
       "      <td>2</td>\n",
       "      <td>2601</td>\n",
       "      <td>56</td>\n",
       "      <td>180</td>\n",
       "      <td>111</td>\n",
       "      <td>0.0</td>\n",
       "      <td>1017.0</td>\n",
       "      <td>02</td>\n",
       "      <td>03</td>\n",
       "      <td>49</td>\n",
       "      <td>249</td>\n",
       "      <td>334</td>\n",
       "      <td>2254</td>\n",
       "    </tr>\n",
       "    <tr>\n",
       "      <th>3</th>\n",
       "      <td>1</td>\n",
       "      <td>2601</td>\n",
       "      <td>104</td>\n",
       "      <td>220</td>\n",
       "      <td>355</td>\n",
       "      <td>0.0</td>\n",
       "      <td>978.0</td>\n",
       "      <td>02</td>\n",
       "      <td>04</td>\n",
       "      <td>22</td>\n",
       "      <td>149</td>\n",
       "      <td>309</td>\n",
       "      <td>1922</td>\n",
       "    </tr>\n",
       "    <tr>\n",
       "      <th>4</th>\n",
       "      <td>0</td>\n",
       "      <td>2601</td>\n",
       "      <td>278</td>\n",
       "      <td>181</td>\n",
       "      <td>34</td>\n",
       "      <td>0.0</td>\n",
       "      <td>925.0</td>\n",
       "      <td>02</td>\n",
       "      <td>05</td>\n",
       "      <td>22</td>\n",
       "      <td>75</td>\n",
       "      <td>106</td>\n",
       "      <td>2108</td>\n",
       "    </tr>\n",
       "  </tbody>\n",
       "</table>\n",
       "</div>"
      ],
      "text/plain": [
       "   day  numbers  dayoff  work  outsidework  workfhome  lunch_t Month Date  \\\n",
       "0    3     2601      50   150          238        0.0   1039.0    02   01   \n",
       "1    4     2601      50   173          319        0.0    867.0    02   02   \n",
       "2    2     2601      56   180          111        0.0   1017.0    02   03   \n",
       "3    1     2601     104   220          355        0.0    978.0    02   04   \n",
       "4    0     2601     278   181           34        0.0    925.0    02   05   \n",
       "\n",
       "   bob  soup  main  present  \n",
       "0   22   189   236     2163  \n",
       "1   22    28     8     2059  \n",
       "2   49   249   334     2254  \n",
       "3   22   149   309     1922  \n",
       "4   22    75   106     2108  "
      ]
     },
     "execution_count": 57,
     "metadata": {},
     "output_type": "execute_result"
    }
   ],
   "source": [
    "train.head()"
   ]
  },
  {
   "cell_type": "code",
   "execution_count": 58,
   "metadata": {
    "ExecuteTime": {
     "end_time": "2022-02-17T12:29:45.463101Z",
     "start_time": "2022-02-17T12:29:45.406656Z"
    }
   },
   "outputs": [
    {
     "data": {
      "text/html": [
       "<div>\n",
       "<style scoped>\n",
       "    .dataframe tbody tr th:only-of-type {\n",
       "        vertical-align: middle;\n",
       "    }\n",
       "\n",
       "    .dataframe tbody tr th {\n",
       "        vertical-align: top;\n",
       "    }\n",
       "\n",
       "    .dataframe thead th {\n",
       "        text-align: right;\n",
       "    }\n",
       "</style>\n",
       "<table border=\"1\" class=\"dataframe\">\n",
       "  <thead>\n",
       "    <tr style=\"text-align: right;\">\n",
       "      <th></th>\n",
       "      <th>day</th>\n",
       "      <th>numbers</th>\n",
       "      <th>dayoff</th>\n",
       "      <th>work</th>\n",
       "      <th>outsidework</th>\n",
       "      <th>workfhome</th>\n",
       "      <th>lunch_t</th>\n",
       "      <th>bob</th>\n",
       "      <th>soup</th>\n",
       "      <th>main</th>\n",
       "      <th>present</th>\n",
       "    </tr>\n",
       "  </thead>\n",
       "  <tbody>\n",
       "    <tr>\n",
       "      <th>day</th>\n",
       "      <td>1.000000</td>\n",
       "      <td>0.004999</td>\n",
       "      <td>-0.210219</td>\n",
       "      <td>-0.447183</td>\n",
       "      <td>0.539062</td>\n",
       "      <td>0.028364</td>\n",
       "      <td>0.584193</td>\n",
       "      <td>-0.051779</td>\n",
       "      <td>0.039582</td>\n",
       "      <td>0.033023</td>\n",
       "      <td>-0.327922</td>\n",
       "    </tr>\n",
       "    <tr>\n",
       "      <th>numbers</th>\n",
       "      <td>0.004999</td>\n",
       "      <td>1.000000</td>\n",
       "      <td>0.244666</td>\n",
       "      <td>-0.061688</td>\n",
       "      <td>0.146544</td>\n",
       "      <td>0.452293</td>\n",
       "      <td>-0.115529</td>\n",
       "      <td>0.008470</td>\n",
       "      <td>-0.047180</td>\n",
       "      <td>0.063892</td>\n",
       "      <td>0.409730</td>\n",
       "    </tr>\n",
       "    <tr>\n",
       "      <th>dayoff</th>\n",
       "      <td>-0.210219</td>\n",
       "      <td>0.244666</td>\n",
       "      <td>1.000000</td>\n",
       "      <td>-0.273318</td>\n",
       "      <td>-0.230789</td>\n",
       "      <td>0.065397</td>\n",
       "      <td>-0.391975</td>\n",
       "      <td>0.008260</td>\n",
       "      <td>-0.033509</td>\n",
       "      <td>0.022062</td>\n",
       "      <td>-0.134040</td>\n",
       "    </tr>\n",
       "    <tr>\n",
       "      <th>work</th>\n",
       "      <td>-0.447183</td>\n",
       "      <td>-0.061688</td>\n",
       "      <td>-0.273318</td>\n",
       "      <td>1.000000</td>\n",
       "      <td>-0.308757</td>\n",
       "      <td>-0.352643</td>\n",
       "      <td>-0.512680</td>\n",
       "      <td>0.062909</td>\n",
       "      <td>-0.016055</td>\n",
       "      <td>-0.038943</td>\n",
       "      <td>0.244995</td>\n",
       "    </tr>\n",
       "    <tr>\n",
       "      <th>outsidework</th>\n",
       "      <td>0.539062</td>\n",
       "      <td>0.146544</td>\n",
       "      <td>-0.230789</td>\n",
       "      <td>-0.308757</td>\n",
       "      <td>1.000000</td>\n",
       "      <td>0.156792</td>\n",
       "      <td>0.535611</td>\n",
       "      <td>-0.182796</td>\n",
       "      <td>0.078805</td>\n",
       "      <td>0.017750</td>\n",
       "      <td>-0.696646</td>\n",
       "    </tr>\n",
       "    <tr>\n",
       "      <th>workfhome</th>\n",
       "      <td>0.028364</td>\n",
       "      <td>0.452293</td>\n",
       "      <td>0.065397</td>\n",
       "      <td>-0.352643</td>\n",
       "      <td>0.156792</td>\n",
       "      <td>1.000000</td>\n",
       "      <td>0.076509</td>\n",
       "      <td>-0.057818</td>\n",
       "      <td>-0.006933</td>\n",
       "      <td>0.029749</td>\n",
       "      <td>0.178831</td>\n",
       "    </tr>\n",
       "    <tr>\n",
       "      <th>lunch_t</th>\n",
       "      <td>0.584193</td>\n",
       "      <td>-0.115529</td>\n",
       "      <td>-0.391975</td>\n",
       "      <td>-0.512680</td>\n",
       "      <td>0.535611</td>\n",
       "      <td>0.076509</td>\n",
       "      <td>1.000000</td>\n",
       "      <td>-0.041401</td>\n",
       "      <td>0.060575</td>\n",
       "      <td>0.041329</td>\n",
       "      <td>-0.290912</td>\n",
       "    </tr>\n",
       "    <tr>\n",
       "      <th>bob</th>\n",
       "      <td>-0.051779</td>\n",
       "      <td>0.008470</td>\n",
       "      <td>0.008260</td>\n",
       "      <td>0.062909</td>\n",
       "      <td>-0.182796</td>\n",
       "      <td>-0.057818</td>\n",
       "      <td>-0.041401</td>\n",
       "      <td>1.000000</td>\n",
       "      <td>-0.094330</td>\n",
       "      <td>-0.021443</td>\n",
       "      <td>0.169876</td>\n",
       "    </tr>\n",
       "    <tr>\n",
       "      <th>soup</th>\n",
       "      <td>0.039582</td>\n",
       "      <td>-0.047180</td>\n",
       "      <td>-0.033509</td>\n",
       "      <td>-0.016055</td>\n",
       "      <td>0.078805</td>\n",
       "      <td>-0.006933</td>\n",
       "      <td>0.060575</td>\n",
       "      <td>-0.094330</td>\n",
       "      <td>1.000000</td>\n",
       "      <td>0.030518</td>\n",
       "      <td>-0.087686</td>\n",
       "    </tr>\n",
       "    <tr>\n",
       "      <th>main</th>\n",
       "      <td>0.033023</td>\n",
       "      <td>0.063892</td>\n",
       "      <td>0.022062</td>\n",
       "      <td>-0.038943</td>\n",
       "      <td>0.017750</td>\n",
       "      <td>0.029749</td>\n",
       "      <td>0.041329</td>\n",
       "      <td>-0.021443</td>\n",
       "      <td>0.030518</td>\n",
       "      <td>1.000000</td>\n",
       "      <td>0.020313</td>\n",
       "    </tr>\n",
       "    <tr>\n",
       "      <th>present</th>\n",
       "      <td>-0.327922</td>\n",
       "      <td>0.409730</td>\n",
       "      <td>-0.134040</td>\n",
       "      <td>0.244995</td>\n",
       "      <td>-0.696646</td>\n",
       "      <td>0.178831</td>\n",
       "      <td>-0.290912</td>\n",
       "      <td>0.169876</td>\n",
       "      <td>-0.087686</td>\n",
       "      <td>0.020313</td>\n",
       "      <td>1.000000</td>\n",
       "    </tr>\n",
       "  </tbody>\n",
       "</table>\n",
       "</div>"
      ],
      "text/plain": [
       "                  day   numbers    dayoff      work  outsidework  workfhome  \\\n",
       "day          1.000000  0.004999 -0.210219 -0.447183     0.539062   0.028364   \n",
       "numbers      0.004999  1.000000  0.244666 -0.061688     0.146544   0.452293   \n",
       "dayoff      -0.210219  0.244666  1.000000 -0.273318    -0.230789   0.065397   \n",
       "work        -0.447183 -0.061688 -0.273318  1.000000    -0.308757  -0.352643   \n",
       "outsidework  0.539062  0.146544 -0.230789 -0.308757     1.000000   0.156792   \n",
       "workfhome    0.028364  0.452293  0.065397 -0.352643     0.156792   1.000000   \n",
       "lunch_t      0.584193 -0.115529 -0.391975 -0.512680     0.535611   0.076509   \n",
       "bob         -0.051779  0.008470  0.008260  0.062909    -0.182796  -0.057818   \n",
       "soup         0.039582 -0.047180 -0.033509 -0.016055     0.078805  -0.006933   \n",
       "main         0.033023  0.063892  0.022062 -0.038943     0.017750   0.029749   \n",
       "present     -0.327922  0.409730 -0.134040  0.244995    -0.696646   0.178831   \n",
       "\n",
       "              lunch_t       bob      soup      main   present  \n",
       "day          0.584193 -0.051779  0.039582  0.033023 -0.327922  \n",
       "numbers     -0.115529  0.008470 -0.047180  0.063892  0.409730  \n",
       "dayoff      -0.391975  0.008260 -0.033509  0.022062 -0.134040  \n",
       "work        -0.512680  0.062909 -0.016055 -0.038943  0.244995  \n",
       "outsidework  0.535611 -0.182796  0.078805  0.017750 -0.696646  \n",
       "workfhome    0.076509 -0.057818 -0.006933  0.029749  0.178831  \n",
       "lunch_t      1.000000 -0.041401  0.060575  0.041329 -0.290912  \n",
       "bob         -0.041401  1.000000 -0.094330 -0.021443  0.169876  \n",
       "soup         0.060575 -0.094330  1.000000  0.030518 -0.087686  \n",
       "main         0.041329 -0.021443  0.030518  1.000000  0.020313  \n",
       "present     -0.290912  0.169876 -0.087686  0.020313  1.000000  "
      ]
     },
     "execution_count": 58,
     "metadata": {},
     "output_type": "execute_result"
    }
   ],
   "source": [
    "train.corr() # 밥, 국, 메인 반찬이 약간의 상관관계를 보인다 "
   ]
  },
  {
   "cell_type": "code",
   "execution_count": 59,
   "metadata": {
    "ExecuteTime": {
     "end_time": "2022-02-17T12:31:13.583010Z",
     "start_time": "2022-02-17T12:31:13.533574Z"
    }
   },
   "outputs": [],
   "source": [
    "train.to_csv('enco_train_lunch.csv',index=False)"
   ]
  },
  {
   "cell_type": "markdown",
   "metadata": {},
   "source": [
    "### Dinner Train"
   ]
  },
  {
   "cell_type": "code",
   "execution_count": 60,
   "metadata": {
    "ExecuteTime": {
     "end_time": "2022-02-17T12:31:37.493486Z",
     "start_time": "2022-02-17T12:31:37.474284Z"
    }
   },
   "outputs": [],
   "source": [
    "train = df[\n",
    "    ['day','numbers','dayoff','work','outsidework','workfhome','dinner_t','Month','Date','bobd','soupd','maind']\n",
    "]"
   ]
  },
  {
   "cell_type": "code",
   "execution_count": 61,
   "metadata": {
    "ExecuteTime": {
     "end_time": "2022-02-17T12:31:49.127276Z",
     "start_time": "2022-02-17T12:31:49.105842Z"
    }
   },
   "outputs": [],
   "source": [
    "#train_dinner 데이터 같은 경우에는 'None' 값이 들어가있어서\n",
    "#제거 해주는게 가장 좋을것같아서 없애줬다.\n",
    "train = train[~train['bobd'].str.contains(\"None\", na=False, case=False)]"
   ]
  },
  {
   "cell_type": "code",
   "execution_count": 62,
   "metadata": {
    "ExecuteTime": {
     "end_time": "2022-02-17T12:31:51.549984Z",
     "start_time": "2022-02-17T12:31:51.500799Z"
    }
   },
   "outputs": [
    {
     "data": {
      "text/html": [
       "<div>\n",
       "<style scoped>\n",
       "    .dataframe tbody tr th:only-of-type {\n",
       "        vertical-align: middle;\n",
       "    }\n",
       "\n",
       "    .dataframe tbody tr th {\n",
       "        vertical-align: top;\n",
       "    }\n",
       "\n",
       "    .dataframe thead th {\n",
       "        text-align: right;\n",
       "    }\n",
       "</style>\n",
       "<table border=\"1\" class=\"dataframe\">\n",
       "  <thead>\n",
       "    <tr style=\"text-align: right;\">\n",
       "      <th></th>\n",
       "      <th>day</th>\n",
       "      <th>numbers</th>\n",
       "      <th>dayoff</th>\n",
       "      <th>work</th>\n",
       "      <th>outsidework</th>\n",
       "      <th>workfhome</th>\n",
       "      <th>dinner_t</th>\n",
       "      <th>Month</th>\n",
       "      <th>Date</th>\n",
       "      <th>bobd</th>\n",
       "      <th>soupd</th>\n",
       "      <th>maind</th>\n",
       "    </tr>\n",
       "  </thead>\n",
       "  <tbody>\n",
       "    <tr>\n",
       "      <th>0</th>\n",
       "      <td>월</td>\n",
       "      <td>2601</td>\n",
       "      <td>50</td>\n",
       "      <td>150</td>\n",
       "      <td>238</td>\n",
       "      <td>0.0</td>\n",
       "      <td>331.0</td>\n",
       "      <td>02</td>\n",
       "      <td>01</td>\n",
       "      <td>쌀밥/잡곡밥</td>\n",
       "      <td>육개장</td>\n",
       "      <td>자반고등어구이</td>\n",
       "    </tr>\n",
       "    <tr>\n",
       "      <th>1</th>\n",
       "      <td>화</td>\n",
       "      <td>2601</td>\n",
       "      <td>50</td>\n",
       "      <td>173</td>\n",
       "      <td>319</td>\n",
       "      <td>0.0</td>\n",
       "      <td>560.0</td>\n",
       "      <td>02</td>\n",
       "      <td>02</td>\n",
       "      <td>콩나물밥*양념장</td>\n",
       "      <td>어묵국</td>\n",
       "      <td>유산슬</td>\n",
       "    </tr>\n",
       "    <tr>\n",
       "      <th>2</th>\n",
       "      <td>수</td>\n",
       "      <td>2601</td>\n",
       "      <td>56</td>\n",
       "      <td>180</td>\n",
       "      <td>111</td>\n",
       "      <td>0.0</td>\n",
       "      <td>573.0</td>\n",
       "      <td>02</td>\n",
       "      <td>03</td>\n",
       "      <td>쌀밥/잡곡밥</td>\n",
       "      <td>청국장찌개</td>\n",
       "      <td>황태양념구이</td>\n",
       "    </tr>\n",
       "    <tr>\n",
       "      <th>3</th>\n",
       "      <td>목</td>\n",
       "      <td>2601</td>\n",
       "      <td>104</td>\n",
       "      <td>220</td>\n",
       "      <td>355</td>\n",
       "      <td>0.0</td>\n",
       "      <td>525.0</td>\n",
       "      <td>02</td>\n",
       "      <td>04</td>\n",
       "      <td>미니김밥*겨자장</td>\n",
       "      <td>우동</td>\n",
       "      <td>멕시칸샐러드</td>\n",
       "    </tr>\n",
       "    <tr>\n",
       "      <th>4</th>\n",
       "      <td>금</td>\n",
       "      <td>2601</td>\n",
       "      <td>278</td>\n",
       "      <td>181</td>\n",
       "      <td>34</td>\n",
       "      <td>0.0</td>\n",
       "      <td>330.0</td>\n",
       "      <td>02</td>\n",
       "      <td>05</td>\n",
       "      <td>쌀밥/잡곡밥</td>\n",
       "      <td>차돌박이찌개</td>\n",
       "      <td>닭갈비</td>\n",
       "    </tr>\n",
       "  </tbody>\n",
       "</table>\n",
       "</div>"
      ],
      "text/plain": [
       "  day  numbers  dayoff  work  outsidework  workfhome  dinner_t Month Date  \\\n",
       "0   월     2601      50   150          238        0.0     331.0    02   01   \n",
       "1   화     2601      50   173          319        0.0     560.0    02   02   \n",
       "2   수     2601      56   180          111        0.0     573.0    02   03   \n",
       "3   목     2601     104   220          355        0.0     525.0    02   04   \n",
       "4   금     2601     278   181           34        0.0     330.0    02   05   \n",
       "\n",
       "       bobd   soupd    maind  \n",
       "0    쌀밥/잡곡밥     육개장  자반고등어구이  \n",
       "1  콩나물밥*양념장     어묵국      유산슬  \n",
       "2    쌀밥/잡곡밥   청국장찌개   황태양념구이  \n",
       "3  미니김밥*겨자장      우동   멕시칸샐러드  \n",
       "4    쌀밥/잡곡밥  차돌박이찌개      닭갈비  "
      ]
     },
     "execution_count": 62,
     "metadata": {},
     "output_type": "execute_result"
    }
   ],
   "source": [
    "train.head()"
   ]
  },
  {
   "cell_type": "code",
   "execution_count": 63,
   "metadata": {
    "ExecuteTime": {
     "end_time": "2022-02-17T12:31:58.586414Z",
     "start_time": "2022-02-17T12:31:58.545074Z"
    }
   },
   "outputs": [],
   "source": [
    "# encoding\n",
    "\n",
    "train['day'] =  train['day'].astype('category')\n",
    "train['day'] = train.day.cat.codes\n",
    "\n",
    "\n",
    "train['bobd'] =  train['bobd'].astype('category')\n",
    "train['bobd'] = train.bobd.cat.codes\n",
    "\n",
    "train['soupd'] =  train['soupd'].astype('category')\n",
    "train['soupd'] = train.soupd.cat.codes\n",
    "\n",
    "train['maind'] =  train['maind'].astype('category')\n",
    "train['maind'] = train.maind.cat.codes"
   ]
  },
  {
   "cell_type": "code",
   "execution_count": 64,
   "metadata": {
    "ExecuteTime": {
     "end_time": "2022-02-17T12:32:06.892340Z",
     "start_time": "2022-02-17T12:32:06.870323Z"
    }
   },
   "outputs": [],
   "source": [
    "train['present'] = train['numbers']-train['dayoff']-train['work']-train['outsidework']"
   ]
  },
  {
   "cell_type": "code",
   "execution_count": 65,
   "metadata": {
    "ExecuteTime": {
     "end_time": "2022-02-17T12:32:09.394608Z",
     "start_time": "2022-02-17T12:32:09.344871Z"
    }
   },
   "outputs": [
    {
     "data": {
      "text/html": [
       "<div>\n",
       "<style scoped>\n",
       "    .dataframe tbody tr th:only-of-type {\n",
       "        vertical-align: middle;\n",
       "    }\n",
       "\n",
       "    .dataframe tbody tr th {\n",
       "        vertical-align: top;\n",
       "    }\n",
       "\n",
       "    .dataframe thead th {\n",
       "        text-align: right;\n",
       "    }\n",
       "</style>\n",
       "<table border=\"1\" class=\"dataframe\">\n",
       "  <thead>\n",
       "    <tr style=\"text-align: right;\">\n",
       "      <th></th>\n",
       "      <th>day</th>\n",
       "      <th>numbers</th>\n",
       "      <th>dayoff</th>\n",
       "      <th>work</th>\n",
       "      <th>outsidework</th>\n",
       "      <th>workfhome</th>\n",
       "      <th>dinner_t</th>\n",
       "      <th>bobd</th>\n",
       "      <th>soupd</th>\n",
       "      <th>maind</th>\n",
       "      <th>present</th>\n",
       "    </tr>\n",
       "  </thead>\n",
       "  <tbody>\n",
       "    <tr>\n",
       "      <th>day</th>\n",
       "      <td>1.000000</td>\n",
       "      <td>0.000103</td>\n",
       "      <td>-0.217477</td>\n",
       "      <td>-0.448551</td>\n",
       "      <td>0.550560</td>\n",
       "      <td>0.027610</td>\n",
       "      <td>0.367746</td>\n",
       "      <td>-0.031836</td>\n",
       "      <td>-0.049255</td>\n",
       "      <td>-0.027405</td>\n",
       "      <td>-0.339011</td>\n",
       "    </tr>\n",
       "    <tr>\n",
       "      <th>numbers</th>\n",
       "      <td>0.000103</td>\n",
       "      <td>1.000000</td>\n",
       "      <td>0.244031</td>\n",
       "      <td>-0.060470</td>\n",
       "      <td>0.148530</td>\n",
       "      <td>0.459453</td>\n",
       "      <td>-0.236324</td>\n",
       "      <td>0.233612</td>\n",
       "      <td>-0.040918</td>\n",
       "      <td>-0.016451</td>\n",
       "      <td>0.414056</td>\n",
       "    </tr>\n",
       "    <tr>\n",
       "      <th>dayoff</th>\n",
       "      <td>-0.217477</td>\n",
       "      <td>0.244031</td>\n",
       "      <td>1.000000</td>\n",
       "      <td>-0.267355</td>\n",
       "      <td>-0.247829</td>\n",
       "      <td>0.063480</td>\n",
       "      <td>-0.439108</td>\n",
       "      <td>0.095060</td>\n",
       "      <td>0.049480</td>\n",
       "      <td>-0.033118</td>\n",
       "      <td>-0.123294</td>\n",
       "    </tr>\n",
       "    <tr>\n",
       "      <th>work</th>\n",
       "      <td>-0.448551</td>\n",
       "      <td>-0.060470</td>\n",
       "      <td>-0.267355</td>\n",
       "      <td>1.000000</td>\n",
       "      <td>-0.304423</td>\n",
       "      <td>-0.352901</td>\n",
       "      <td>-0.188894</td>\n",
       "      <td>-0.134922</td>\n",
       "      <td>-0.012290</td>\n",
       "      <td>0.051699</td>\n",
       "      <td>0.239584</td>\n",
       "    </tr>\n",
       "    <tr>\n",
       "      <th>outsidework</th>\n",
       "      <td>0.550560</td>\n",
       "      <td>0.148530</td>\n",
       "      <td>-0.247829</td>\n",
       "      <td>-0.304423</td>\n",
       "      <td>1.000000</td>\n",
       "      <td>0.144985</td>\n",
       "      <td>0.577148</td>\n",
       "      <td>0.002529</td>\n",
       "      <td>-0.016797</td>\n",
       "      <td>0.047346</td>\n",
       "      <td>-0.689208</td>\n",
       "    </tr>\n",
       "    <tr>\n",
       "      <th>workfhome</th>\n",
       "      <td>0.027610</td>\n",
       "      <td>0.459453</td>\n",
       "      <td>0.063480</td>\n",
       "      <td>-0.352901</td>\n",
       "      <td>0.144985</td>\n",
       "      <td>1.000000</td>\n",
       "      <td>-0.130644</td>\n",
       "      <td>0.357199</td>\n",
       "      <td>-0.055294</td>\n",
       "      <td>-0.035213</td>\n",
       "      <td>0.200098</td>\n",
       "    </tr>\n",
       "    <tr>\n",
       "      <th>dinner_t</th>\n",
       "      <td>0.367746</td>\n",
       "      <td>-0.236324</td>\n",
       "      <td>-0.439108</td>\n",
       "      <td>-0.188894</td>\n",
       "      <td>0.577148</td>\n",
       "      <td>-0.130644</td>\n",
       "      <td>1.000000</td>\n",
       "      <td>-0.131424</td>\n",
       "      <td>0.028299</td>\n",
       "      <td>0.048750</td>\n",
       "      <td>-0.445447</td>\n",
       "    </tr>\n",
       "    <tr>\n",
       "      <th>bobd</th>\n",
       "      <td>-0.031836</td>\n",
       "      <td>0.233612</td>\n",
       "      <td>0.095060</td>\n",
       "      <td>-0.134922</td>\n",
       "      <td>0.002529</td>\n",
       "      <td>0.357199</td>\n",
       "      <td>-0.131424</td>\n",
       "      <td>1.000000</td>\n",
       "      <td>-0.039370</td>\n",
       "      <td>-0.085033</td>\n",
       "      <td>0.127680</td>\n",
       "    </tr>\n",
       "    <tr>\n",
       "      <th>soupd</th>\n",
       "      <td>-0.049255</td>\n",
       "      <td>-0.040918</td>\n",
       "      <td>0.049480</td>\n",
       "      <td>-0.012290</td>\n",
       "      <td>-0.016797</td>\n",
       "      <td>-0.055294</td>\n",
       "      <td>0.028299</td>\n",
       "      <td>-0.039370</td>\n",
       "      <td>1.000000</td>\n",
       "      <td>-0.000109</td>\n",
       "      <td>-0.038519</td>\n",
       "    </tr>\n",
       "    <tr>\n",
       "      <th>maind</th>\n",
       "      <td>-0.027405</td>\n",
       "      <td>-0.016451</td>\n",
       "      <td>-0.033118</td>\n",
       "      <td>0.051699</td>\n",
       "      <td>0.047346</td>\n",
       "      <td>-0.035213</td>\n",
       "      <td>0.048750</td>\n",
       "      <td>-0.085033</td>\n",
       "      <td>-0.000109</td>\n",
       "      <td>1.000000</td>\n",
       "      <td>-0.048079</td>\n",
       "    </tr>\n",
       "    <tr>\n",
       "      <th>present</th>\n",
       "      <td>-0.339011</td>\n",
       "      <td>0.414056</td>\n",
       "      <td>-0.123294</td>\n",
       "      <td>0.239584</td>\n",
       "      <td>-0.689208</td>\n",
       "      <td>0.200098</td>\n",
       "      <td>-0.445447</td>\n",
       "      <td>0.127680</td>\n",
       "      <td>-0.038519</td>\n",
       "      <td>-0.048079</td>\n",
       "      <td>1.000000</td>\n",
       "    </tr>\n",
       "  </tbody>\n",
       "</table>\n",
       "</div>"
      ],
      "text/plain": [
       "                  day   numbers    dayoff      work  outsidework  workfhome  \\\n",
       "day          1.000000  0.000103 -0.217477 -0.448551     0.550560   0.027610   \n",
       "numbers      0.000103  1.000000  0.244031 -0.060470     0.148530   0.459453   \n",
       "dayoff      -0.217477  0.244031  1.000000 -0.267355    -0.247829   0.063480   \n",
       "work        -0.448551 -0.060470 -0.267355  1.000000    -0.304423  -0.352901   \n",
       "outsidework  0.550560  0.148530 -0.247829 -0.304423     1.000000   0.144985   \n",
       "workfhome    0.027610  0.459453  0.063480 -0.352901     0.144985   1.000000   \n",
       "dinner_t     0.367746 -0.236324 -0.439108 -0.188894     0.577148  -0.130644   \n",
       "bobd        -0.031836  0.233612  0.095060 -0.134922     0.002529   0.357199   \n",
       "soupd       -0.049255 -0.040918  0.049480 -0.012290    -0.016797  -0.055294   \n",
       "maind       -0.027405 -0.016451 -0.033118  0.051699     0.047346  -0.035213   \n",
       "present     -0.339011  0.414056 -0.123294  0.239584    -0.689208   0.200098   \n",
       "\n",
       "             dinner_t      bobd     soupd     maind   present  \n",
       "day          0.367746 -0.031836 -0.049255 -0.027405 -0.339011  \n",
       "numbers     -0.236324  0.233612 -0.040918 -0.016451  0.414056  \n",
       "dayoff      -0.439108  0.095060  0.049480 -0.033118 -0.123294  \n",
       "work        -0.188894 -0.134922 -0.012290  0.051699  0.239584  \n",
       "outsidework  0.577148  0.002529 -0.016797  0.047346 -0.689208  \n",
       "workfhome   -0.130644  0.357199 -0.055294 -0.035213  0.200098  \n",
       "dinner_t     1.000000 -0.131424  0.028299  0.048750 -0.445447  \n",
       "bobd        -0.131424  1.000000 -0.039370 -0.085033  0.127680  \n",
       "soupd        0.028299 -0.039370  1.000000 -0.000109 -0.038519  \n",
       "maind        0.048750 -0.085033 -0.000109  1.000000 -0.048079  \n",
       "present     -0.445447  0.127680 -0.038519 -0.048079  1.000000  "
      ]
     },
     "execution_count": 65,
     "metadata": {},
     "output_type": "execute_result"
    }
   ],
   "source": [
    "train.corr() "
   ]
  },
  {
   "cell_type": "code",
   "execution_count": 66,
   "metadata": {
    "ExecuteTime": {
     "end_time": "2022-02-17T12:32:18.026299Z",
     "start_time": "2022-02-17T12:32:17.997076Z"
    }
   },
   "outputs": [],
   "source": [
    "train.to_csv('enco_train_dinner.csv',index=False)"
   ]
  },
  {
   "cell_type": "markdown",
   "metadata": {},
   "source": [
    "## Test"
   ]
  },
  {
   "cell_type": "code",
   "execution_count": 81,
   "metadata": {
    "ExecuteTime": {
     "end_time": "2022-02-17T12:36:32.150179Z",
     "start_time": "2022-02-17T12:36:32.131974Z"
    }
   },
   "outputs": [],
   "source": [
    "df = pd.read_csv('./data/test.csv')"
   ]
  },
  {
   "cell_type": "code",
   "execution_count": 82,
   "metadata": {
    "ExecuteTime": {
     "end_time": "2022-02-17T12:36:32.431949Z",
     "start_time": "2022-02-17T12:36:32.406216Z"
    }
   },
   "outputs": [
    {
     "name": "stdout",
     "output_type": "stream",
     "text": [
      "<class 'pandas.core.frame.DataFrame'>\n",
      "RangeIndex: 50 entries, 0 to 49\n",
      "Data columns (total 10 columns):\n",
      " #   Column          Non-Null Count  Dtype  \n",
      "---  ------          --------------  -----  \n",
      " 0   일자              50 non-null     object \n",
      " 1   요일              50 non-null     object \n",
      " 2   본사정원수           50 non-null     int64  \n",
      " 3   본사휴가자수          50 non-null     int64  \n",
      " 4   본사출장자수          50 non-null     int64  \n",
      " 5   본사시간외근무명령서승인건수  50 non-null     int64  \n",
      " 6   현본사소속재택근무자수     50 non-null     float64\n",
      " 7   조식메뉴            50 non-null     object \n",
      " 8   중식메뉴            50 non-null     object \n",
      " 9   석식메뉴            50 non-null     object \n",
      "dtypes: float64(1), int64(4), object(5)\n",
      "memory usage: 4.0+ KB\n"
     ]
    }
   ],
   "source": [
    "df.info()"
   ]
  },
  {
   "cell_type": "code",
   "execution_count": 83,
   "metadata": {
    "ExecuteTime": {
     "end_time": "2022-02-17T12:36:33.070118Z",
     "start_time": "2022-02-17T12:36:33.044261Z"
    }
   },
   "outputs": [
    {
     "data": {
      "text/html": [
       "<div>\n",
       "<style scoped>\n",
       "    .dataframe tbody tr th:only-of-type {\n",
       "        vertical-align: middle;\n",
       "    }\n",
       "\n",
       "    .dataframe tbody tr th {\n",
       "        vertical-align: top;\n",
       "    }\n",
       "\n",
       "    .dataframe thead th {\n",
       "        text-align: right;\n",
       "    }\n",
       "</style>\n",
       "<table border=\"1\" class=\"dataframe\">\n",
       "  <thead>\n",
       "    <tr style=\"text-align: right;\">\n",
       "      <th></th>\n",
       "      <th>date</th>\n",
       "      <th>day</th>\n",
       "      <th>numbers</th>\n",
       "      <th>dayoff</th>\n",
       "      <th>work</th>\n",
       "      <th>outsidework</th>\n",
       "      <th>workfhome</th>\n",
       "      <th>break</th>\n",
       "      <th>lunch</th>\n",
       "      <th>dinner</th>\n",
       "    </tr>\n",
       "  </thead>\n",
       "  <tbody>\n",
       "    <tr>\n",
       "      <th>0</th>\n",
       "      <td>2021-01-27</td>\n",
       "      <td>수</td>\n",
       "      <td>2983</td>\n",
       "      <td>88</td>\n",
       "      <td>182</td>\n",
       "      <td>5</td>\n",
       "      <td>358.0</td>\n",
       "      <td>모닝롤/연유버터베이글 우유/주스 계란후라이/찐계란 단호박죽/흑미밥 우거지국 고기완자...</td>\n",
       "      <td>쌀밥/흑미밥/찰현미밥 대구지리 매운돈갈비찜 오꼬노미계란말이 상추무침 포기김치 양상추...</td>\n",
       "      <td>흑미밥 얼큰순두부찌개 쇠고기우엉볶음 버섯햄볶음 (New)아삭이고추무절임 포기김치</td>\n",
       "    </tr>\n",
       "    <tr>\n",
       "      <th>1</th>\n",
       "      <td>2021-01-28</td>\n",
       "      <td>목</td>\n",
       "      <td>2983</td>\n",
       "      <td>104</td>\n",
       "      <td>212</td>\n",
       "      <td>409</td>\n",
       "      <td>348.0</td>\n",
       "      <td>모닝롤/대만샌드위치 우유/주스 계란후라이/찐계란 누룽지탕/흑미밥 황태국 시래기지짐 ...</td>\n",
       "      <td>쌀밥/보리밥/찰현미밥 우렁된장찌개 오리주물럭 청양부추전 수제삼색무쌈 겉절이김치 양상...</td>\n",
       "      <td>충무김밥 우동국물 오징어무침 꽃맛살샐러드 얼갈이쌈장무침 석박지</td>\n",
       "    </tr>\n",
       "  </tbody>\n",
       "</table>\n",
       "</div>"
      ],
      "text/plain": [
       "         date day  numbers  dayoff  work  outsidework  workfhome  \\\n",
       "0  2021-01-27   수     2983      88   182            5      358.0   \n",
       "1  2021-01-28   목     2983     104   212          409      348.0   \n",
       "\n",
       "                                               break  \\\n",
       "0  모닝롤/연유버터베이글 우유/주스 계란후라이/찐계란 단호박죽/흑미밥 우거지국 고기완자...   \n",
       "1  모닝롤/대만샌드위치 우유/주스 계란후라이/찐계란 누룽지탕/흑미밥 황태국 시래기지짐 ...   \n",
       "\n",
       "                                               lunch  \\\n",
       "0  쌀밥/흑미밥/찰현미밥 대구지리 매운돈갈비찜 오꼬노미계란말이 상추무침 포기김치 양상추...   \n",
       "1  쌀밥/보리밥/찰현미밥 우렁된장찌개 오리주물럭 청양부추전 수제삼색무쌈 겉절이김치 양상...   \n",
       "\n",
       "                                          dinner  \n",
       "0  흑미밥 얼큰순두부찌개 쇠고기우엉볶음 버섯햄볶음 (New)아삭이고추무절임 포기김치   \n",
       "1            충무김밥 우동국물 오징어무침 꽃맛살샐러드 얼갈이쌈장무침 석박지   "
      ]
     },
     "execution_count": 83,
     "metadata": {},
     "output_type": "execute_result"
    }
   ],
   "source": [
    "df.columns = ['date','day','numbers','dayoff','work','outsidework','workfhome','break','lunch','dinner']\n",
    "df.head(2)"
   ]
  },
  {
   "cell_type": "code",
   "execution_count": 84,
   "metadata": {
    "ExecuteTime": {
     "end_time": "2022-02-17T12:36:35.424061Z",
     "start_time": "2022-02-17T12:36:35.385511Z"
    }
   },
   "outputs": [
    {
     "data": {
      "text/html": [
       "<div>\n",
       "<style scoped>\n",
       "    .dataframe tbody tr th:only-of-type {\n",
       "        vertical-align: middle;\n",
       "    }\n",
       "\n",
       "    .dataframe tbody tr th {\n",
       "        vertical-align: top;\n",
       "    }\n",
       "\n",
       "    .dataframe thead th {\n",
       "        text-align: right;\n",
       "    }\n",
       "</style>\n",
       "<table border=\"1\" class=\"dataframe\">\n",
       "  <thead>\n",
       "    <tr style=\"text-align: right;\">\n",
       "      <th></th>\n",
       "      <th>date</th>\n",
       "      <th>day</th>\n",
       "      <th>numbers</th>\n",
       "      <th>dayoff</th>\n",
       "      <th>work</th>\n",
       "      <th>outsidework</th>\n",
       "      <th>workfhome</th>\n",
       "      <th>break</th>\n",
       "      <th>lunch</th>\n",
       "      <th>dinner</th>\n",
       "      <th>yearmonth</th>\n",
       "    </tr>\n",
       "  </thead>\n",
       "  <tbody>\n",
       "    <tr>\n",
       "      <th>0</th>\n",
       "      <td>0127</td>\n",
       "      <td>수</td>\n",
       "      <td>2983</td>\n",
       "      <td>88</td>\n",
       "      <td>182</td>\n",
       "      <td>5</td>\n",
       "      <td>358.0</td>\n",
       "      <td>모닝롤/연유버터베이글 우유/주스 계란후라이/찐계란 단호박죽/흑미밥 우거지국 고기완자...</td>\n",
       "      <td>쌀밥/흑미밥/찰현미밥 대구지리 매운돈갈비찜 오꼬노미계란말이 상추무침 포기김치 양상추...</td>\n",
       "      <td>흑미밥 얼큰순두부찌개 쇠고기우엉볶음 버섯햄볶음 (New)아삭이고추무절임 포기김치</td>\n",
       "      <td>202101</td>\n",
       "    </tr>\n",
       "    <tr>\n",
       "      <th>1</th>\n",
       "      <td>0128</td>\n",
       "      <td>목</td>\n",
       "      <td>2983</td>\n",
       "      <td>104</td>\n",
       "      <td>212</td>\n",
       "      <td>409</td>\n",
       "      <td>348.0</td>\n",
       "      <td>모닝롤/대만샌드위치 우유/주스 계란후라이/찐계란 누룽지탕/흑미밥 황태국 시래기지짐 ...</td>\n",
       "      <td>쌀밥/보리밥/찰현미밥 우렁된장찌개 오리주물럭 청양부추전 수제삼색무쌈 겉절이김치 양상...</td>\n",
       "      <td>충무김밥 우동국물 오징어무침 꽃맛살샐러드 얼갈이쌈장무침 석박지</td>\n",
       "      <td>202101</td>\n",
       "    </tr>\n",
       "  </tbody>\n",
       "</table>\n",
       "</div>"
      ],
      "text/plain": [
       "   date day  numbers  dayoff  work  outsidework  workfhome  \\\n",
       "0  0127   수     2983      88   182            5      358.0   \n",
       "1  0128   목     2983     104   212          409      348.0   \n",
       "\n",
       "                                               break  \\\n",
       "0  모닝롤/연유버터베이글 우유/주스 계란후라이/찐계란 단호박죽/흑미밥 우거지국 고기완자...   \n",
       "1  모닝롤/대만샌드위치 우유/주스 계란후라이/찐계란 누룽지탕/흑미밥 황태국 시래기지짐 ...   \n",
       "\n",
       "                                               lunch  \\\n",
       "0  쌀밥/흑미밥/찰현미밥 대구지리 매운돈갈비찜 오꼬노미계란말이 상추무침 포기김치 양상추...   \n",
       "1  쌀밥/보리밥/찰현미밥 우렁된장찌개 오리주물럭 청양부추전 수제삼색무쌈 겉절이김치 양상...   \n",
       "\n",
       "                                          dinner yearmonth  \n",
       "0  흑미밥 얼큰순두부찌개 쇠고기우엉볶음 버섯햄볶음 (New)아삭이고추무절임 포기김치     202101  \n",
       "1            충무김밥 우동국물 오징어무침 꽃맛살샐러드 얼갈이쌈장무침 석박지     202101  "
      ]
     },
     "execution_count": 84,
     "metadata": {},
     "output_type": "execute_result"
    }
   ],
   "source": [
    "df['date'] = pd.to_datetime(df['date'])\n",
    "df['yearmonth'] = df['date'].dt.strftime('%Y%m')\n",
    "df['date'] = pd.to_datetime(df['date'])\n",
    "df['date'] = df['date'].dt.strftime('%m%d')\n",
    "df.head(2)"
   ]
  },
  {
   "cell_type": "code",
   "execution_count": 85,
   "metadata": {
    "ExecuteTime": {
     "end_time": "2022-02-17T12:36:35.906058Z",
     "start_time": "2022-02-17T12:36:35.882592Z"
    }
   },
   "outputs": [],
   "source": [
    "df.drop('yearmonth', inplace=True , axis=1)"
   ]
  },
  {
   "cell_type": "code",
   "execution_count": 86,
   "metadata": {
    "ExecuteTime": {
     "end_time": "2022-02-17T12:36:36.385394Z",
     "start_time": "2022-02-17T12:36:36.366185Z"
    }
   },
   "outputs": [],
   "source": [
    "df['Month'] = df['date'].str[0:2]\n",
    "df['Date'] = df['date'].str[2:]\n",
    "df.drop(['date','break'], inplace=True , axis=1)"
   ]
  },
  {
   "cell_type": "code",
   "execution_count": 87,
   "metadata": {
    "ExecuteTime": {
     "end_time": "2022-02-17T12:36:36.696653Z",
     "start_time": "2022-02-17T12:36:36.685019Z"
    }
   },
   "outputs": [],
   "source": [
    "lunch_menu = []\n",
    "\n",
    "for day in range(len(df)):\n",
    "    tmp = df.loc[day,'lunch'].split(' ') # 스페이스로 구분\n",
    "    tmp = ' '.join(tmp).split()    # 빈칸 제거\n",
    "\n",
    "    for menu in tmp:\n",
    "        if '(' in menu:\n",
    "            tmp.remove(menu)\n",
    "    lunch_menu.append(tmp) "
   ]
  },
  {
   "cell_type": "code",
   "execution_count": 88,
   "metadata": {
    "ExecuteTime": {
     "end_time": "2022-02-17T12:36:37.115159Z",
     "start_time": "2022-02-17T12:36:37.100573Z"
    }
   },
   "outputs": [],
   "source": [
    "df['lunch_menu'] = lunch_menu"
   ]
  },
  {
   "cell_type": "code",
   "execution_count": 89,
   "metadata": {
    "ExecuteTime": {
     "end_time": "2022-02-17T12:36:37.178009Z",
     "start_time": "2022-02-17T12:36:37.162926Z"
    }
   },
   "outputs": [],
   "source": [
    "for bob in range(len(df)):\n",
    "    if '쌀밥' in lunch_menu[bob][0]:\n",
    "        lunch_menu[bob][0] = '밥'"
   ]
  },
  {
   "cell_type": "code",
   "execution_count": 90,
   "metadata": {
    "ExecuteTime": {
     "end_time": "2022-02-17T12:36:37.240817Z",
     "start_time": "2022-02-17T12:36:37.228933Z"
    }
   },
   "outputs": [],
   "source": [
    "bob=[]\n",
    "soup=[]\n",
    "main=[]\n",
    "\n",
    "for i in range(len(df)):\n",
    "    if lunch_menu[i][0]:\n",
    "        bob.append(lunch_menu[i][0])\n",
    "    if lunch_menu[i][1]:\n",
    "        soup.append(lunch_menu[i][1])\n",
    "    if lunch_menu[i][2]:\n",
    "        main.append(lunch_menu[i][2])"
   ]
  },
  {
   "cell_type": "code",
   "execution_count": 91,
   "metadata": {
    "ExecuteTime": {
     "end_time": "2022-02-17T12:36:37.334324Z",
     "start_time": "2022-02-17T12:36:37.317080Z"
    }
   },
   "outputs": [
    {
     "name": "stdout",
     "output_type": "stream",
     "text": [
      "50\n",
      "50\n",
      "50\n",
      "--\n",
      "50\n"
     ]
    }
   ],
   "source": [
    "print(len(bob))\n",
    "print(len(soup))\n",
    "print(len(main))\n",
    "print('--')\n",
    "print(len(df))"
   ]
  },
  {
   "cell_type": "code",
   "execution_count": 92,
   "metadata": {
    "ExecuteTime": {
     "end_time": "2022-02-17T12:36:37.428266Z",
     "start_time": "2022-02-17T12:36:37.410083Z"
    }
   },
   "outputs": [],
   "source": [
    "df['bob'] = bob\n",
    "df['soup'] = soup\n",
    "df['main'] = main"
   ]
  },
  {
   "cell_type": "code",
   "execution_count": 93,
   "metadata": {
    "ExecuteTime": {
     "end_time": "2022-02-17T12:36:50.511180Z",
     "start_time": "2022-02-17T12:36:50.494979Z"
    }
   },
   "outputs": [],
   "source": [
    "# 저녁도 바꾸어주자\n",
    "dinner_menu = []\n",
    "for day in range(len(df)):\n",
    "    tmp = df.loc[day,'dinner'].split(' ') \n",
    "    tmp = ' '.join(tmp).split()   \n",
    "    \n",
    "    for menu in tmp:\n",
    "        if '(' in menu:\n",
    "            tmp.remove(menu)\n",
    "    dinner_menu.append(tmp) "
   ]
  },
  {
   "cell_type": "code",
   "execution_count": 94,
   "metadata": {
    "ExecuteTime": {
     "end_time": "2022-02-17T12:36:54.079518Z",
     "start_time": "2022-02-17T12:36:54.071421Z"
    }
   },
   "outputs": [],
   "source": [
    "df['dinner_menu'] = dinner_menu"
   ]
  },
  {
   "cell_type": "code",
   "execution_count": 95,
   "metadata": {
    "ExecuteTime": {
     "end_time": "2022-02-17T12:36:56.851449Z",
     "start_time": "2022-02-17T12:36:56.827636Z"
    }
   },
   "outputs": [
    {
     "data": {
      "text/plain": [
       "50"
      ]
     },
     "execution_count": 95,
     "metadata": {},
     "output_type": "execute_result"
    }
   ],
   "source": [
    "len(dinner_menu)"
   ]
  },
  {
   "cell_type": "code",
   "execution_count": 96,
   "metadata": {
    "ExecuteTime": {
     "end_time": "2022-02-17T12:37:02.642157Z",
     "start_time": "2022-02-17T12:37:02.621979Z"
    }
   },
   "outputs": [],
   "source": [
    "bobd=[]\n",
    "soupd=[]\n",
    "maind=[]\n",
    "\n",
    "for i in range(len(df)):\n",
    "    if dinner_menu[i][0]:\n",
    "        bobd.append(dinner_menu[i][0])\n",
    "    if dinner_menu[i][1]:\n",
    "        soupd.append(dinner_menu[i][1])\n",
    "    if dinner_menu[i][2]:\n",
    "        maind.append(dinner_menu[i][2])"
   ]
  },
  {
   "cell_type": "code",
   "execution_count": 97,
   "metadata": {
    "ExecuteTime": {
     "end_time": "2022-02-17T12:37:06.693181Z",
     "start_time": "2022-02-17T12:37:06.681830Z"
    }
   },
   "outputs": [],
   "source": [
    "df['bobd'] = bobd\n",
    "df['soupd'] = soupd\n",
    "df['maind'] = maind"
   ]
  },
  {
   "cell_type": "code",
   "execution_count": 98,
   "metadata": {
    "ExecuteTime": {
     "end_time": "2022-02-17T12:37:12.059052Z",
     "start_time": "2022-02-17T12:37:12.037420Z"
    }
   },
   "outputs": [],
   "source": [
    "#lunch\n",
    "test = df[\n",
    "    ['day','numbers','dayoff','work','outsidework','workfhome','Month','Date','bob','soup','main']\n",
    "]"
   ]
  },
  {
   "cell_type": "code",
   "execution_count": 99,
   "metadata": {
    "ExecuteTime": {
     "end_time": "2022-02-17T12:37:15.098207Z",
     "start_time": "2022-02-17T12:37:15.065667Z"
    }
   },
   "outputs": [],
   "source": [
    "# encoding\n",
    "\n",
    "test['day'] =  test['day'].astype('category')\n",
    "test['day'] = test.day.cat.codes\n",
    "\n",
    "\n",
    "test['bob'] =  test['bob'].astype('category')\n",
    "test['bob'] = test.bob.cat.codes\n",
    "\n",
    "test['soup'] =  test['soup'].astype('category')\n",
    "test['soup'] = test.soup.cat.codes\n",
    "\n",
    "test['main'] =  test['main'].astype('category')\n",
    "test['main'] = test.main.cat.codes"
   ]
  },
  {
   "cell_type": "code",
   "execution_count": 100,
   "metadata": {
    "ExecuteTime": {
     "end_time": "2022-02-17T12:37:18.117048Z",
     "start_time": "2022-02-17T12:37:18.100869Z"
    }
   },
   "outputs": [],
   "source": [
    "test['present'] = test['numbers']-test['dayoff']-test['work']-test['outsidework']"
   ]
  },
  {
   "cell_type": "code",
   "execution_count": 101,
   "metadata": {
    "ExecuteTime": {
     "end_time": "2022-02-17T12:37:20.583962Z",
     "start_time": "2022-02-17T12:37:20.553964Z"
    }
   },
   "outputs": [
    {
     "data": {
      "text/html": [
       "<div>\n",
       "<style scoped>\n",
       "    .dataframe tbody tr th:only-of-type {\n",
       "        vertical-align: middle;\n",
       "    }\n",
       "\n",
       "    .dataframe tbody tr th {\n",
       "        vertical-align: top;\n",
       "    }\n",
       "\n",
       "    .dataframe thead th {\n",
       "        text-align: right;\n",
       "    }\n",
       "</style>\n",
       "<table border=\"1\" class=\"dataframe\">\n",
       "  <thead>\n",
       "    <tr style=\"text-align: right;\">\n",
       "      <th></th>\n",
       "      <th>day</th>\n",
       "      <th>numbers</th>\n",
       "      <th>dayoff</th>\n",
       "      <th>work</th>\n",
       "      <th>outsidework</th>\n",
       "      <th>workfhome</th>\n",
       "      <th>Month</th>\n",
       "      <th>Date</th>\n",
       "      <th>bob</th>\n",
       "      <th>soup</th>\n",
       "      <th>main</th>\n",
       "      <th>present</th>\n",
       "    </tr>\n",
       "  </thead>\n",
       "  <tbody>\n",
       "    <tr>\n",
       "      <th>0</th>\n",
       "      <td>2</td>\n",
       "      <td>2983</td>\n",
       "      <td>88</td>\n",
       "      <td>182</td>\n",
       "      <td>5</td>\n",
       "      <td>358.0</td>\n",
       "      <td>01</td>\n",
       "      <td>27</td>\n",
       "      <td>0</td>\n",
       "      <td>9</td>\n",
       "      <td>15</td>\n",
       "      <td>2708</td>\n",
       "    </tr>\n",
       "    <tr>\n",
       "      <th>1</th>\n",
       "      <td>1</td>\n",
       "      <td>2983</td>\n",
       "      <td>104</td>\n",
       "      <td>212</td>\n",
       "      <td>409</td>\n",
       "      <td>348.0</td>\n",
       "      <td>01</td>\n",
       "      <td>28</td>\n",
       "      <td>0</td>\n",
       "      <td>35</td>\n",
       "      <td>35</td>\n",
       "      <td>2258</td>\n",
       "    </tr>\n",
       "    <tr>\n",
       "      <th>2</th>\n",
       "      <td>0</td>\n",
       "      <td>2983</td>\n",
       "      <td>270</td>\n",
       "      <td>249</td>\n",
       "      <td>0</td>\n",
       "      <td>294.0</td>\n",
       "      <td>01</td>\n",
       "      <td>29</td>\n",
       "      <td>0</td>\n",
       "      <td>41</td>\n",
       "      <td>29</td>\n",
       "      <td>2464</td>\n",
       "    </tr>\n",
       "    <tr>\n",
       "      <th>3</th>\n",
       "      <td>3</td>\n",
       "      <td>2924</td>\n",
       "      <td>108</td>\n",
       "      <td>154</td>\n",
       "      <td>538</td>\n",
       "      <td>322.0</td>\n",
       "      <td>02</td>\n",
       "      <td>01</td>\n",
       "      <td>0</td>\n",
       "      <td>19</td>\n",
       "      <td>33</td>\n",
       "      <td>2124</td>\n",
       "    </tr>\n",
       "    <tr>\n",
       "      <th>4</th>\n",
       "      <td>4</td>\n",
       "      <td>2924</td>\n",
       "      <td>62</td>\n",
       "      <td>186</td>\n",
       "      <td>455</td>\n",
       "      <td>314.0</td>\n",
       "      <td>02</td>\n",
       "      <td>02</td>\n",
       "      <td>0</td>\n",
       "      <td>21</td>\n",
       "      <td>7</td>\n",
       "      <td>2221</td>\n",
       "    </tr>\n",
       "  </tbody>\n",
       "</table>\n",
       "</div>"
      ],
      "text/plain": [
       "   day  numbers  dayoff  work  outsidework  workfhome Month Date  bob  soup  \\\n",
       "0    2     2983      88   182            5      358.0    01   27    0     9   \n",
       "1    1     2983     104   212          409      348.0    01   28    0    35   \n",
       "2    0     2983     270   249            0      294.0    01   29    0    41   \n",
       "3    3     2924     108   154          538      322.0    02   01    0    19   \n",
       "4    4     2924      62   186          455      314.0    02   02    0    21   \n",
       "\n",
       "   main  present  \n",
       "0    15     2708  \n",
       "1    35     2258  \n",
       "2    29     2464  \n",
       "3    33     2124  \n",
       "4     7     2221  "
      ]
     },
     "execution_count": 101,
     "metadata": {},
     "output_type": "execute_result"
    }
   ],
   "source": [
    "test.head()"
   ]
  },
  {
   "cell_type": "code",
   "execution_count": 102,
   "metadata": {
    "ExecuteTime": {
     "end_time": "2022-02-17T12:37:24.562579Z",
     "start_time": "2022-02-17T12:37:24.546589Z"
    }
   },
   "outputs": [],
   "source": [
    "test.to_csv('enco_test_lunch.csv', index=False)"
   ]
  },
  {
   "cell_type": "code",
   "execution_count": 103,
   "metadata": {
    "ExecuteTime": {
     "end_time": "2022-02-17T12:37:28.020951Z",
     "start_time": "2022-02-17T12:37:28.002806Z"
    }
   },
   "outputs": [],
   "source": [
    "#dinner\n",
    "\n",
    "test = df[\n",
    "    ['day','numbers','dayoff','work','outsidework','workfhome','Month','Date', 'bobd','soupd','maind']\n",
    "]"
   ]
  },
  {
   "cell_type": "code",
   "execution_count": 104,
   "metadata": {
    "ExecuteTime": {
     "end_time": "2022-02-17T12:37:32.418439Z",
     "start_time": "2022-02-17T12:37:32.389611Z"
    }
   },
   "outputs": [],
   "source": [
    "# encoding\n",
    "\n",
    "test['day'] =  test['day'].astype('category')\n",
    "test['day'] = test.day.cat.codes\n",
    "\n",
    "\n",
    "test['bobd'] =  test['bobd'].astype('category')\n",
    "test['bobd'] = test.bobd.cat.codes\n",
    "\n",
    "test['soupd'] =  test['soupd'].astype('category')\n",
    "test['soupd'] = test.soupd.cat.codes\n",
    "\n",
    "test['maind'] =  test['maind'].astype('category')\n",
    "test['maind'] = test.maind.cat.codes"
   ]
  },
  {
   "cell_type": "code",
   "execution_count": 105,
   "metadata": {
    "ExecuteTime": {
     "end_time": "2022-02-17T12:37:35.951342Z",
     "start_time": "2022-02-17T12:37:35.934217Z"
    }
   },
   "outputs": [],
   "source": [
    "test['present'] = test['numbers']-test['dayoff']-test['work']-test['outsidework']"
   ]
  },
  {
   "cell_type": "code",
   "execution_count": 106,
   "metadata": {
    "ExecuteTime": {
     "end_time": "2022-02-17T12:37:39.156086Z",
     "start_time": "2022-02-17T12:37:39.137927Z"
    }
   },
   "outputs": [],
   "source": [
    "test.to_csv('enco_test_dinner.csv', index=False)"
   ]
  },
  {
   "cell_type": "markdown",
   "metadata": {},
   "source": [
    "## 점심/저녁 병합 데이터"
   ]
  },
  {
   "cell_type": "markdown",
   "metadata": {},
   "source": [
    "### Train"
   ]
  },
  {
   "cell_type": "code",
   "execution_count": 108,
   "metadata": {
    "ExecuteTime": {
     "end_time": "2022-02-17T12:38:00.461290Z",
     "start_time": "2022-02-17T12:38:00.416392Z"
    }
   },
   "outputs": [],
   "source": [
    "df = pd.read_csv('./data/train.csv')"
   ]
  },
  {
   "cell_type": "code",
   "execution_count": 109,
   "metadata": {
    "ExecuteTime": {
     "end_time": "2022-02-17T12:38:06.397298Z",
     "start_time": "2022-02-17T12:38:06.286178Z"
    }
   },
   "outputs": [],
   "source": [
    "df.columns = ['date','day','numbers','dayoff','work','outsidework','workfhome','break','lunch','dinner','lunch_t','dinner_t']\n",
    "\n",
    "df['date'] = pd.to_datetime(df['date'])\n",
    "df['yearmonth'] = df['date'].dt.strftime('%Y%m')\n",
    "\n",
    "df['date'] = pd.to_datetime(df['date'])\n",
    "df['date'] = df['date'].dt.strftime('%m%d')\n",
    "\n",
    "df['Month'] = df['date'].str[0:2]\n",
    "df['Date'] = df['date'].str[2:]\n",
    "df.drop(['date','break'], inplace=True , axis=1)"
   ]
  },
  {
   "cell_type": "code",
   "execution_count": 110,
   "metadata": {
    "ExecuteTime": {
     "end_time": "2022-02-17T12:39:53.570783Z",
     "start_time": "2022-02-17T12:39:53.550213Z"
    }
   },
   "outputs": [],
   "source": [
    "df.drop('yearmonth', inplace=True , axis=1)"
   ]
  },
  {
   "cell_type": "code",
   "execution_count": 111,
   "metadata": {
    "ExecuteTime": {
     "end_time": "2022-02-17T12:39:58.248484Z",
     "start_time": "2022-02-17T12:39:58.185282Z"
    }
   },
   "outputs": [],
   "source": [
    "# 일별 점심메뉴를 작은 리스트로 갖고 있는 큰 리스트 (lunch) 만들기 \n",
    "lunch_menu = []\n",
    "\n",
    "for day in range(len(df)):\n",
    "    tmp = df.loc[day,'lunch'].split(' ') # 스페이스로 구분\n",
    "    tmp = ' '.join(tmp).split()    # 빈칸 제거\n",
    "\n",
    "    for menu in tmp:\n",
    "        if '(' in menu:\n",
    "            tmp.remove(menu)\n",
    "    lunch_menu.append(tmp) "
   ]
  },
  {
   "cell_type": "code",
   "execution_count": 112,
   "metadata": {
    "ExecuteTime": {
     "end_time": "2022-02-17T12:40:02.884057Z",
     "start_time": "2022-02-17T12:40:02.865061Z"
    }
   },
   "outputs": [],
   "source": [
    "for bob in range(len(df)): # 밥은 큰 차이가 없을것같으므로 쌀밥은 다 밥으로 통일\n",
    "    if '쌀밥' in lunch_menu[bob][0]:\n",
    "        lunch_menu[bob][0] = '밥'"
   ]
  },
  {
   "cell_type": "code",
   "execution_count": 113,
   "metadata": {
    "ExecuteTime": {
     "end_time": "2022-02-17T12:40:06.540821Z",
     "start_time": "2022-02-17T12:40:06.532495Z"
    }
   },
   "outputs": [],
   "source": [
    "df['lunch_menu'] = lunch_menu"
   ]
  },
  {
   "cell_type": "code",
   "execution_count": 114,
   "metadata": {
    "ExecuteTime": {
     "end_time": "2022-02-17T12:40:09.783914Z",
     "start_time": "2022-02-17T12:40:09.761301Z"
    }
   },
   "outputs": [],
   "source": [
    "bob=[]\n",
    "soup=[]\n",
    "main=[]\n",
    "\n",
    "for i in range(len(df)):\n",
    "    if lunch_menu[i][0]:\n",
    "        bob.append(lunch_menu[i][0])\n",
    "    if lunch_menu[i][1]:\n",
    "        soup.append(lunch_menu[i][1])\n",
    "    if lunch_menu[i][2]:\n",
    "        main.append(lunch_menu[i][2])"
   ]
  },
  {
   "cell_type": "code",
   "execution_count": 115,
   "metadata": {
    "ExecuteTime": {
     "end_time": "2022-02-17T12:40:12.646636Z",
     "start_time": "2022-02-17T12:40:12.631644Z"
    }
   },
   "outputs": [],
   "source": [
    "df['bob'] = bob\n",
    "df['soup'] = soup\n",
    "df['main'] = main"
   ]
  },
  {
   "cell_type": "code",
   "execution_count": 116,
   "metadata": {
    "ExecuteTime": {
     "end_time": "2022-02-17T12:40:16.252713Z",
     "start_time": "2022-02-17T12:40:15.847109Z"
    }
   },
   "outputs": [],
   "source": [
    "dinner_menu = []\n",
    "for day in range(len(df)):\n",
    "    tmp = df.loc[day,'dinner'].split(' ')\n",
    "    tmp = ' '.join(tmp).split()    \n",
    "\n",
    "    for menu in tmp:\n",
    "        if '(' in menu:\n",
    "            tmp.remove(menu)\n",
    "    dinner_menu.append(tmp) "
   ]
  },
  {
   "cell_type": "code",
   "execution_count": 117,
   "metadata": {
    "ExecuteTime": {
     "end_time": "2022-02-17T12:40:20.297905Z",
     "start_time": "2022-02-17T12:40:20.280868Z"
    }
   },
   "outputs": [],
   "source": [
    "df['dinner_menu'] = dinner_menu"
   ]
  },
  {
   "cell_type": "code",
   "execution_count": 118,
   "metadata": {
    "ExecuteTime": {
     "end_time": "2022-02-17T12:40:29.941265Z",
     "start_time": "2022-02-17T12:40:29.920991Z"
    }
   },
   "outputs": [],
   "source": [
    "bobd=[]\n",
    "soupd=[]\n",
    "maind=[]\n",
    "\n",
    "\n",
    "for word in  dinner_menu:\n",
    "    \n",
    "    \n",
    "    if len(word) == 0:\n",
    "        bobd.append('None') #비어있으면 그 날짜자체가 없어질수있으므로 'None' 값으로 대체\n",
    "        soupd.append('None')\n",
    "        maind.append('None')\n",
    "    elif '*' in word:\n",
    "        bobd.append('None')\n",
    "        soupd.append('None')\n",
    "        maind.append('None')\n",
    "    elif '가정의날' in word:\n",
    "        bobd.append('None')\n",
    "        soupd.append('None')\n",
    "        maind.append('None')\n",
    "    elif '가정의달' in word:\n",
    "        bobd.append('None')\n",
    "        soupd.append('None')\n",
    "        maind.append('None')\n",
    "    elif '자기계발의날' in word:\n",
    "        bobd.append('None')\n",
    "        soupd.append('None')\n",
    "        maind.append('None')\n",
    "    elif '*자기계발의날*' in word:\n",
    "        bobd.append('None')\n",
    "        soupd.append('None')\n",
    "        maind.append('None')\n",
    "    elif '자기개발의날' in word:\n",
    "        bobd.append('None')\n",
    "        soupd.append('None')\n",
    "        maind.append('None')\n",
    "\n",
    "    else:\n",
    "        bobd.append(word[0])\n",
    "        soupd.append(word[1])\n",
    "        maind.append(word[2])\n"
   ]
  },
  {
   "cell_type": "code",
   "execution_count": 119,
   "metadata": {
    "ExecuteTime": {
     "end_time": "2022-02-17T12:40:32.930936Z",
     "start_time": "2022-02-17T12:40:32.906951Z"
    }
   },
   "outputs": [],
   "source": [
    "df['bobd'] = bobd\n",
    "df['soupd'] = soupd\n",
    "df['maind'] = maind"
   ]
  },
  {
   "cell_type": "code",
   "execution_count": 120,
   "metadata": {
    "ExecuteTime": {
     "end_time": "2022-02-17T12:40:35.614533Z",
     "start_time": "2022-02-17T12:40:35.592353Z"
    }
   },
   "outputs": [],
   "source": [
    "train = df[\n",
    "    ['day','numbers','dayoff','work','outsidework','workfhome','lunch_t','dinner_t','Month','Date','bob','soup','main','bobd','soupd','maind']\n",
    "]"
   ]
  },
  {
   "cell_type": "code",
   "execution_count": 121,
   "metadata": {
    "ExecuteTime": {
     "end_time": "2022-02-17T12:40:43.374612Z",
     "start_time": "2022-02-17T12:40:43.297839Z"
    }
   },
   "outputs": [],
   "source": [
    "# encoding\n",
    "\n",
    "\n",
    "train['day'] =  train['day'].astype('category')\n",
    "train['day'] = train.day.cat.codes\n",
    "\n",
    "\n",
    "train['bob'] =  train['bob'].astype('category')\n",
    "train['bob'] = train.bob.cat.codes\n",
    "\n",
    "train['soup'] =  train['soup'].astype('category')\n",
    "train['soup'] = train.soup.cat.codes\n",
    "\n",
    "train['main'] =  train['main'].astype('category')\n",
    "train['main'] = train.main.cat.codes\n",
    "\n",
    "\n",
    "train['day'] =  train['day'].astype('category')\n",
    "train['day'] = train.day.cat.codes\n",
    "\n",
    "\n",
    "train['bobd'] =  train['bobd'].astype('category')\n",
    "train['bobd'] = train.bobd.cat.codes\n",
    "\n",
    "train['soupd'] =  train['soupd'].astype('category')\n",
    "train['soupd'] = train.soupd.cat.codes\n",
    "\n",
    "train['maind'] =  train['maind'].astype('category')\n",
    "train['maind'] = train.maind.cat.codes"
   ]
  },
  {
   "cell_type": "code",
   "execution_count": 122,
   "metadata": {
    "ExecuteTime": {
     "end_time": "2022-02-17T12:40:46.656765Z",
     "start_time": "2022-02-17T12:40:46.640457Z"
    }
   },
   "outputs": [],
   "source": [
    "train['present'] = train['numbers']-train['dayoff']-train['work']-train['outsidework']"
   ]
  },
  {
   "cell_type": "code",
   "execution_count": 123,
   "metadata": {
    "ExecuteTime": {
     "end_time": "2022-02-17T12:40:49.685726Z",
     "start_time": "2022-02-17T12:40:49.643722Z"
    }
   },
   "outputs": [
    {
     "data": {
      "text/html": [
       "<div>\n",
       "<style scoped>\n",
       "    .dataframe tbody tr th:only-of-type {\n",
       "        vertical-align: middle;\n",
       "    }\n",
       "\n",
       "    .dataframe tbody tr th {\n",
       "        vertical-align: top;\n",
       "    }\n",
       "\n",
       "    .dataframe thead th {\n",
       "        text-align: right;\n",
       "    }\n",
       "</style>\n",
       "<table border=\"1\" class=\"dataframe\">\n",
       "  <thead>\n",
       "    <tr style=\"text-align: right;\">\n",
       "      <th></th>\n",
       "      <th>day</th>\n",
       "      <th>numbers</th>\n",
       "      <th>dayoff</th>\n",
       "      <th>work</th>\n",
       "      <th>outsidework</th>\n",
       "      <th>workfhome</th>\n",
       "      <th>lunch_t</th>\n",
       "      <th>dinner_t</th>\n",
       "      <th>Month</th>\n",
       "      <th>Date</th>\n",
       "      <th>bob</th>\n",
       "      <th>soup</th>\n",
       "      <th>main</th>\n",
       "      <th>bobd</th>\n",
       "      <th>soupd</th>\n",
       "      <th>maind</th>\n",
       "      <th>present</th>\n",
       "    </tr>\n",
       "  </thead>\n",
       "  <tbody>\n",
       "    <tr>\n",
       "      <th>0</th>\n",
       "      <td>3</td>\n",
       "      <td>2601</td>\n",
       "      <td>50</td>\n",
       "      <td>150</td>\n",
       "      <td>238</td>\n",
       "      <td>0.0</td>\n",
       "      <td>1039.0</td>\n",
       "      <td>331.0</td>\n",
       "      <td>02</td>\n",
       "      <td>01</td>\n",
       "      <td>22</td>\n",
       "      <td>189</td>\n",
       "      <td>236</td>\n",
       "      <td>66</td>\n",
       "      <td>224</td>\n",
       "      <td>341</td>\n",
       "      <td>2163</td>\n",
       "    </tr>\n",
       "    <tr>\n",
       "      <th>1</th>\n",
       "      <td>4</td>\n",
       "      <td>2601</td>\n",
       "      <td>50</td>\n",
       "      <td>173</td>\n",
       "      <td>319</td>\n",
       "      <td>0.0</td>\n",
       "      <td>867.0</td>\n",
       "      <td>560.0</td>\n",
       "      <td>02</td>\n",
       "      <td>02</td>\n",
       "      <td>22</td>\n",
       "      <td>28</td>\n",
       "      <td>8</td>\n",
       "      <td>110</td>\n",
       "      <td>183</td>\n",
       "      <td>335</td>\n",
       "      <td>2059</td>\n",
       "    </tr>\n",
       "    <tr>\n",
       "      <th>2</th>\n",
       "      <td>2</td>\n",
       "      <td>2601</td>\n",
       "      <td>56</td>\n",
       "      <td>180</td>\n",
       "      <td>111</td>\n",
       "      <td>0.0</td>\n",
       "      <td>1017.0</td>\n",
       "      <td>573.0</td>\n",
       "      <td>02</td>\n",
       "      <td>03</td>\n",
       "      <td>49</td>\n",
       "      <td>249</td>\n",
       "      <td>334</td>\n",
       "      <td>66</td>\n",
       "      <td>244</td>\n",
       "      <td>430</td>\n",
       "      <td>2254</td>\n",
       "    </tr>\n",
       "    <tr>\n",
       "      <th>3</th>\n",
       "      <td>1</td>\n",
       "      <td>2601</td>\n",
       "      <td>104</td>\n",
       "      <td>220</td>\n",
       "      <td>355</td>\n",
       "      <td>0.0</td>\n",
       "      <td>978.0</td>\n",
       "      <td>525.0</td>\n",
       "      <td>02</td>\n",
       "      <td>04</td>\n",
       "      <td>22</td>\n",
       "      <td>149</td>\n",
       "      <td>309</td>\n",
       "      <td>35</td>\n",
       "      <td>213</td>\n",
       "      <td>172</td>\n",
       "      <td>1922</td>\n",
       "    </tr>\n",
       "    <tr>\n",
       "      <th>4</th>\n",
       "      <td>0</td>\n",
       "      <td>2601</td>\n",
       "      <td>278</td>\n",
       "      <td>181</td>\n",
       "      <td>34</td>\n",
       "      <td>0.0</td>\n",
       "      <td>925.0</td>\n",
       "      <td>330.0</td>\n",
       "      <td>02</td>\n",
       "      <td>05</td>\n",
       "      <td>22</td>\n",
       "      <td>75</td>\n",
       "      <td>106</td>\n",
       "      <td>66</td>\n",
       "      <td>240</td>\n",
       "      <td>92</td>\n",
       "      <td>2108</td>\n",
       "    </tr>\n",
       "  </tbody>\n",
       "</table>\n",
       "</div>"
      ],
      "text/plain": [
       "   day  numbers  dayoff  work  outsidework  workfhome  lunch_t  dinner_t  \\\n",
       "0    3     2601      50   150          238        0.0   1039.0     331.0   \n",
       "1    4     2601      50   173          319        0.0    867.0     560.0   \n",
       "2    2     2601      56   180          111        0.0   1017.0     573.0   \n",
       "3    1     2601     104   220          355        0.0    978.0     525.0   \n",
       "4    0     2601     278   181           34        0.0    925.0     330.0   \n",
       "\n",
       "  Month Date  bob  soup  main  bobd  soupd  maind  present  \n",
       "0    02   01   22   189   236    66    224    341     2163  \n",
       "1    02   02   22    28     8   110    183    335     2059  \n",
       "2    02   03   49   249   334    66    244    430     2254  \n",
       "3    02   04   22   149   309    35    213    172     1922  \n",
       "4    02   05   22    75   106    66    240     92     2108  "
      ]
     },
     "execution_count": 123,
     "metadata": {},
     "output_type": "execute_result"
    }
   ],
   "source": [
    "train.head()"
   ]
  },
  {
   "cell_type": "code",
   "execution_count": 124,
   "metadata": {
    "ExecuteTime": {
     "end_time": "2022-02-17T12:40:53.939277Z",
     "start_time": "2022-02-17T12:40:53.908565Z"
    }
   },
   "outputs": [],
   "source": [
    "train.to_csv('enco_train_origin.csv',index=False)"
   ]
  },
  {
   "cell_type": "markdown",
   "metadata": {},
   "source": [
    "### Test"
   ]
  },
  {
   "cell_type": "code",
   "execution_count": 126,
   "metadata": {
    "ExecuteTime": {
     "end_time": "2022-02-17T12:41:35.832477Z",
     "start_time": "2022-02-17T12:41:35.818402Z"
    }
   },
   "outputs": [],
   "source": [
    "df = pd.read_csv('./data/test.csv')"
   ]
  },
  {
   "cell_type": "code",
   "execution_count": 127,
   "metadata": {
    "ExecuteTime": {
     "end_time": "2022-02-17T12:41:39.591372Z",
     "start_time": "2022-02-17T12:41:39.574323Z"
    }
   },
   "outputs": [],
   "source": [
    "df.columns = ['date','day','numbers','dayoff','work','outsidework','workfhome','break','lunch','dinner']"
   ]
  },
  {
   "cell_type": "code",
   "execution_count": 128,
   "metadata": {
    "ExecuteTime": {
     "end_time": "2022-02-17T12:41:44.234463Z",
     "start_time": "2022-02-17T12:41:44.208634Z"
    }
   },
   "outputs": [],
   "source": [
    "df['date'] = pd.to_datetime(df['date'])\n",
    "df['yearmonth'] = df['date'].dt.strftime('%Y%m')\n",
    "df['date'] = pd.to_datetime(df['date'])\n",
    "df['date'] = df['date'].dt.strftime('%m%d')"
   ]
  },
  {
   "cell_type": "code",
   "execution_count": 129,
   "metadata": {
    "ExecuteTime": {
     "end_time": "2022-02-17T12:41:48.781278Z",
     "start_time": "2022-02-17T12:41:48.766988Z"
    }
   },
   "outputs": [],
   "source": [
    "df.drop('yearmonth', inplace=True , axis=1)"
   ]
  },
  {
   "cell_type": "code",
   "execution_count": 130,
   "metadata": {
    "ExecuteTime": {
     "end_time": "2022-02-17T12:41:52.908820Z",
     "start_time": "2022-02-17T12:41:52.893554Z"
    }
   },
   "outputs": [],
   "source": [
    "df['Month'] = df['date'].str[0:2]\n",
    "df['Date'] = df['date'].str[2:]\n",
    "df.drop(['date','break'], inplace=True , axis=1)"
   ]
  },
  {
   "cell_type": "code",
   "execution_count": 131,
   "metadata": {
    "ExecuteTime": {
     "end_time": "2022-02-17T12:41:55.775147Z",
     "start_time": "2022-02-17T12:41:55.762315Z"
    }
   },
   "outputs": [],
   "source": [
    "lunch_menu = []\n",
    "\n",
    "for day in range(len(df)):\n",
    "    tmp = df.loc[day,'lunch'].split(' ') # 스페이스로 구분\n",
    "    tmp = ' '.join(tmp).split()    # 빈칸 제거\n",
    "\n",
    "    for menu in tmp:\n",
    "        if '(' in menu:\n",
    "            tmp.remove(menu)\n",
    "    lunch_menu.append(tmp) "
   ]
  },
  {
   "cell_type": "code",
   "execution_count": 132,
   "metadata": {
    "ExecuteTime": {
     "end_time": "2022-02-17T12:41:59.485758Z",
     "start_time": "2022-02-17T12:41:59.475328Z"
    }
   },
   "outputs": [],
   "source": [
    "df['lunch_menu'] = lunch_menu"
   ]
  },
  {
   "cell_type": "code",
   "execution_count": 133,
   "metadata": {
    "ExecuteTime": {
     "end_time": "2022-02-17T12:42:03.366440Z",
     "start_time": "2022-02-17T12:42:03.346897Z"
    }
   },
   "outputs": [],
   "source": [
    "for bob in range(len(df)):\n",
    "    if '쌀밥' in lunch_menu[bob][0]:\n",
    "        lunch_menu[bob][0] = '밥'"
   ]
  },
  {
   "cell_type": "code",
   "execution_count": 134,
   "metadata": {
    "ExecuteTime": {
     "end_time": "2022-02-17T12:42:06.418379Z",
     "start_time": "2022-02-17T12:42:06.405027Z"
    }
   },
   "outputs": [],
   "source": [
    "bob=[]\n",
    "soup=[]\n",
    "main=[]\n",
    "\n",
    "for i in range(len(df)):\n",
    "    if lunch_menu[i][0]:\n",
    "        bob.append(lunch_menu[i][0])\n",
    "    if lunch_menu[i][1]:\n",
    "        soup.append(lunch_menu[i][1])\n",
    "    if lunch_menu[i][2]:\n",
    "        main.append(lunch_menu[i][2])"
   ]
  },
  {
   "cell_type": "code",
   "execution_count": 135,
   "metadata": {
    "ExecuteTime": {
     "end_time": "2022-02-17T12:42:11.087419Z",
     "start_time": "2022-02-17T12:42:11.073991Z"
    }
   },
   "outputs": [],
   "source": [
    "df['bob'] = bob\n",
    "df['soup'] = soup\n",
    "df['main'] = main"
   ]
  },
  {
   "cell_type": "code",
   "execution_count": 136,
   "metadata": {
    "ExecuteTime": {
     "end_time": "2022-02-17T12:42:15.304023Z",
     "start_time": "2022-02-17T12:42:15.292085Z"
    }
   },
   "outputs": [],
   "source": [
    "# 저녁도 바꾸어주자\n",
    "dinner_menu = []\n",
    "for day in range(len(df)):\n",
    "    tmp = df.loc[day,'dinner'].split(' ') \n",
    "    tmp = ' '.join(tmp).split()   \n",
    "    \n",
    "    for menu in tmp:\n",
    "        if '(' in menu:\n",
    "            tmp.remove(menu)\n",
    "    dinner_menu.append(tmp) "
   ]
  },
  {
   "cell_type": "code",
   "execution_count": 137,
   "metadata": {
    "ExecuteTime": {
     "end_time": "2022-02-17T12:42:19.263884Z",
     "start_time": "2022-02-17T12:42:19.252057Z"
    }
   },
   "outputs": [],
   "source": [
    "df['dinner_menu'] = dinner_menu"
   ]
  },
  {
   "cell_type": "code",
   "execution_count": 138,
   "metadata": {
    "ExecuteTime": {
     "end_time": "2022-02-17T12:42:23.111522Z",
     "start_time": "2022-02-17T12:42:23.100220Z"
    }
   },
   "outputs": [],
   "source": [
    "bobd=[]\n",
    "soupd=[]\n",
    "maind=[]\n",
    "\n",
    "for i in range(len(df)):\n",
    "    if dinner_menu[i][0]:\n",
    "        bobd.append(dinner_menu[i][0])\n",
    "    if dinner_menu[i][1]:\n",
    "        soupd.append(dinner_menu[i][1])\n",
    "    if dinner_menu[i][2]:\n",
    "        maind.append(dinner_menu[i][2])"
   ]
  },
  {
   "cell_type": "code",
   "execution_count": 139,
   "metadata": {
    "ExecuteTime": {
     "end_time": "2022-02-17T12:42:26.217715Z",
     "start_time": "2022-02-17T12:42:26.205815Z"
    }
   },
   "outputs": [],
   "source": [
    "df['bobd'] = bobd\n",
    "df['soupd'] = soupd\n",
    "df['maind'] = maind"
   ]
  },
  {
   "cell_type": "code",
   "execution_count": 140,
   "metadata": {
    "ExecuteTime": {
     "end_time": "2022-02-17T12:42:30.604897Z",
     "start_time": "2022-02-17T12:42:30.581440Z"
    }
   },
   "outputs": [],
   "source": [
    "test = df[\n",
    "    ['day','numbers','dayoff','work','outsidework','workfhome','Month','Date','bob','soup','main','bobd','soupd','maind']\n",
    "]"
   ]
  },
  {
   "cell_type": "code",
   "execution_count": 141,
   "metadata": {
    "ExecuteTime": {
     "end_time": "2022-02-17T12:42:35.940960Z",
     "start_time": "2022-02-17T12:42:35.877244Z"
    }
   },
   "outputs": [],
   "source": [
    "# encoding\n",
    "\n",
    "test['day'] =  test['day'].astype('category')\n",
    "test['day'] = test.day.cat.codes\n",
    "\n",
    "\n",
    "test['bob'] =  test['bob'].astype('category')\n",
    "test['bob'] = test.bob.cat.codes\n",
    "\n",
    "test['soup'] =  test['soup'].astype('category')\n",
    "test['soup'] = test.soup.cat.codes\n",
    "\n",
    "test['main'] =  test['main'].astype('category')\n",
    "test['main'] = test.main.cat.codes\n",
    "\n",
    "\n",
    "test['day'] =  test['day'].astype('category')\n",
    "test['day'] = test.day.cat.codes\n",
    "\n",
    "\n",
    "test['bobd'] =  test['bobd'].astype('category')\n",
    "test['bobd'] = test.bobd.cat.codes\n",
    "\n",
    "test['soupd'] =  test['soupd'].astype('category')\n",
    "test['soupd'] = test.soupd.cat.codes\n",
    "\n",
    "test['maind'] =  test['maind'].astype('category')\n",
    "test['maind'] = test.maind.cat.codes"
   ]
  },
  {
   "cell_type": "code",
   "execution_count": 142,
   "metadata": {
    "ExecuteTime": {
     "end_time": "2022-02-17T12:42:39.212307Z",
     "start_time": "2022-02-17T12:42:39.201019Z"
    }
   },
   "outputs": [],
   "source": [
    "test['present'] = test['numbers']-test['dayoff']-test['work']-test['outsidework']"
   ]
  },
  {
   "cell_type": "code",
   "execution_count": 143,
   "metadata": {
    "ExecuteTime": {
     "end_time": "2022-02-17T12:42:42.675825Z",
     "start_time": "2022-02-17T12:42:42.654685Z"
    }
   },
   "outputs": [],
   "source": [
    "test.to_csv('enco_test_origin.csv', index=False)"
   ]
  },
  {
   "cell_type": "code",
   "execution_count": 144,
   "metadata": {
    "ExecuteTime": {
     "end_time": "2022-02-17T12:42:47.242021Z",
     "start_time": "2022-02-17T12:42:47.212148Z"
    }
   },
   "outputs": [
    {
     "data": {
      "text/html": [
       "<div>\n",
       "<style scoped>\n",
       "    .dataframe tbody tr th:only-of-type {\n",
       "        vertical-align: middle;\n",
       "    }\n",
       "\n",
       "    .dataframe tbody tr th {\n",
       "        vertical-align: top;\n",
       "    }\n",
       "\n",
       "    .dataframe thead th {\n",
       "        text-align: right;\n",
       "    }\n",
       "</style>\n",
       "<table border=\"1\" class=\"dataframe\">\n",
       "  <thead>\n",
       "    <tr style=\"text-align: right;\">\n",
       "      <th></th>\n",
       "      <th>day</th>\n",
       "      <th>numbers</th>\n",
       "      <th>dayoff</th>\n",
       "      <th>work</th>\n",
       "      <th>outsidework</th>\n",
       "      <th>workfhome</th>\n",
       "      <th>Month</th>\n",
       "      <th>Date</th>\n",
       "      <th>bob</th>\n",
       "      <th>soup</th>\n",
       "      <th>main</th>\n",
       "      <th>bobd</th>\n",
       "      <th>soupd</th>\n",
       "      <th>maind</th>\n",
       "      <th>present</th>\n",
       "    </tr>\n",
       "  </thead>\n",
       "  <tbody>\n",
       "    <tr>\n",
       "      <th>0</th>\n",
       "      <td>2</td>\n",
       "      <td>2983</td>\n",
       "      <td>88</td>\n",
       "      <td>182</td>\n",
       "      <td>5</td>\n",
       "      <td>358.0</td>\n",
       "      <td>01</td>\n",
       "      <td>27</td>\n",
       "      <td>0</td>\n",
       "      <td>9</td>\n",
       "      <td>15</td>\n",
       "      <td>14</td>\n",
       "      <td>32</td>\n",
       "      <td>25</td>\n",
       "      <td>2708</td>\n",
       "    </tr>\n",
       "    <tr>\n",
       "      <th>1</th>\n",
       "      <td>1</td>\n",
       "      <td>2983</td>\n",
       "      <td>104</td>\n",
       "      <td>212</td>\n",
       "      <td>409</td>\n",
       "      <td>348.0</td>\n",
       "      <td>01</td>\n",
       "      <td>28</td>\n",
       "      <td>0</td>\n",
       "      <td>35</td>\n",
       "      <td>35</td>\n",
       "      <td>12</td>\n",
       "      <td>34</td>\n",
       "      <td>35</td>\n",
       "      <td>2258</td>\n",
       "    </tr>\n",
       "    <tr>\n",
       "      <th>2</th>\n",
       "      <td>0</td>\n",
       "      <td>2983</td>\n",
       "      <td>270</td>\n",
       "      <td>249</td>\n",
       "      <td>0</td>\n",
       "      <td>294.0</td>\n",
       "      <td>01</td>\n",
       "      <td>29</td>\n",
       "      <td>0</td>\n",
       "      <td>41</td>\n",
       "      <td>29</td>\n",
       "      <td>14</td>\n",
       "      <td>14</td>\n",
       "      <td>44</td>\n",
       "      <td>2464</td>\n",
       "    </tr>\n",
       "    <tr>\n",
       "      <th>3</th>\n",
       "      <td>3</td>\n",
       "      <td>2924</td>\n",
       "      <td>108</td>\n",
       "      <td>154</td>\n",
       "      <td>538</td>\n",
       "      <td>322.0</td>\n",
       "      <td>02</td>\n",
       "      <td>01</td>\n",
       "      <td>0</td>\n",
       "      <td>19</td>\n",
       "      <td>33</td>\n",
       "      <td>14</td>\n",
       "      <td>10</td>\n",
       "      <td>9</td>\n",
       "      <td>2124</td>\n",
       "    </tr>\n",
       "    <tr>\n",
       "      <th>4</th>\n",
       "      <td>4</td>\n",
       "      <td>2924</td>\n",
       "      <td>62</td>\n",
       "      <td>186</td>\n",
       "      <td>455</td>\n",
       "      <td>314.0</td>\n",
       "      <td>02</td>\n",
       "      <td>02</td>\n",
       "      <td>0</td>\n",
       "      <td>21</td>\n",
       "      <td>7</td>\n",
       "      <td>14</td>\n",
       "      <td>19</td>\n",
       "      <td>26</td>\n",
       "      <td>2221</td>\n",
       "    </tr>\n",
       "  </tbody>\n",
       "</table>\n",
       "</div>"
      ],
      "text/plain": [
       "   day  numbers  dayoff  work  outsidework  workfhome Month Date  bob  soup  \\\n",
       "0    2     2983      88   182            5      358.0    01   27    0     9   \n",
       "1    1     2983     104   212          409      348.0    01   28    0    35   \n",
       "2    0     2983     270   249            0      294.0    01   29    0    41   \n",
       "3    3     2924     108   154          538      322.0    02   01    0    19   \n",
       "4    4     2924      62   186          455      314.0    02   02    0    21   \n",
       "\n",
       "   main  bobd  soupd  maind  present  \n",
       "0    15    14     32     25     2708  \n",
       "1    35    12     34     35     2258  \n",
       "2    29    14     14     44     2464  \n",
       "3    33    14     10      9     2124  \n",
       "4     7    14     19     26     2221  "
      ]
     },
     "execution_count": 144,
     "metadata": {},
     "output_type": "execute_result"
    }
   ],
   "source": [
    "test.head()"
   ]
  },
  {
   "cell_type": "markdown",
   "metadata": {
    "ExecuteTime": {
     "end_time": "2022-02-17T12:43:41.759779Z",
     "start_time": "2022-02-17T12:43:41.741342Z"
    }
   },
   "source": [
    "# 학습\n",
    "\n",
    "> 모델\n",
    "- 과연 점심과 저녁 관의 얼마나 관계가있는지 알기위해 저녁 메뉴는 추가하지 않은상태로 학슥 - model1\n",
    "- 그리고 나서 점심메뉴따로 저녁메뉴 따로해서 예측 - model2"
   ]
  },
  {
   "cell_type": "markdown",
   "metadata": {
    "ExecuteTime": {
     "end_time": "2022-02-17T12:44:40.847235Z",
     "start_time": "2022-02-17T12:44:40.828812Z"
    }
   },
   "source": [
    "## 점심 메뉴로만 구성해서 저녁까지 예측"
   ]
  },
  {
   "cell_type": "code",
   "execution_count": 147,
   "metadata": {
    "ExecuteTime": {
     "end_time": "2022-02-17T12:45:25.974472Z",
     "start_time": "2022-02-17T12:45:25.922690Z"
    }
   },
   "outputs": [],
   "source": [
    "# Lunch Machine Learning\n",
    "\n",
    "train = pd.read_csv('enco_train_origin.csv')\n",
    "test = pd.read_csv('enco_test_origin.csv')"
   ]
  },
  {
   "cell_type": "code",
   "execution_count": 148,
   "metadata": {
    "ExecuteTime": {
     "end_time": "2022-02-17T12:45:31.078820Z",
     "start_time": "2022-02-17T12:45:31.039727Z"
    }
   },
   "outputs": [
    {
     "data": {
      "text/html": [
       "<div>\n",
       "<style scoped>\n",
       "    .dataframe tbody tr th:only-of-type {\n",
       "        vertical-align: middle;\n",
       "    }\n",
       "\n",
       "    .dataframe tbody tr th {\n",
       "        vertical-align: top;\n",
       "    }\n",
       "\n",
       "    .dataframe thead th {\n",
       "        text-align: right;\n",
       "    }\n",
       "</style>\n",
       "<table border=\"1\" class=\"dataframe\">\n",
       "  <thead>\n",
       "    <tr style=\"text-align: right;\">\n",
       "      <th></th>\n",
       "      <th>day</th>\n",
       "      <th>numbers</th>\n",
       "      <th>dayoff</th>\n",
       "      <th>work</th>\n",
       "      <th>outsidework</th>\n",
       "      <th>workfhome</th>\n",
       "      <th>lunch_t</th>\n",
       "      <th>dinner_t</th>\n",
       "      <th>Month</th>\n",
       "      <th>Date</th>\n",
       "      <th>bob</th>\n",
       "      <th>soup</th>\n",
       "      <th>main</th>\n",
       "      <th>bobd</th>\n",
       "      <th>soupd</th>\n",
       "      <th>maind</th>\n",
       "      <th>present</th>\n",
       "    </tr>\n",
       "  </thead>\n",
       "  <tbody>\n",
       "    <tr>\n",
       "      <th>0</th>\n",
       "      <td>3</td>\n",
       "      <td>2601</td>\n",
       "      <td>50</td>\n",
       "      <td>150</td>\n",
       "      <td>238</td>\n",
       "      <td>0.0</td>\n",
       "      <td>1039.0</td>\n",
       "      <td>331.0</td>\n",
       "      <td>2</td>\n",
       "      <td>1</td>\n",
       "      <td>22</td>\n",
       "      <td>189</td>\n",
       "      <td>236</td>\n",
       "      <td>66</td>\n",
       "      <td>224</td>\n",
       "      <td>341</td>\n",
       "      <td>2163</td>\n",
       "    </tr>\n",
       "    <tr>\n",
       "      <th>1</th>\n",
       "      <td>4</td>\n",
       "      <td>2601</td>\n",
       "      <td>50</td>\n",
       "      <td>173</td>\n",
       "      <td>319</td>\n",
       "      <td>0.0</td>\n",
       "      <td>867.0</td>\n",
       "      <td>560.0</td>\n",
       "      <td>2</td>\n",
       "      <td>2</td>\n",
       "      <td>22</td>\n",
       "      <td>28</td>\n",
       "      <td>8</td>\n",
       "      <td>110</td>\n",
       "      <td>183</td>\n",
       "      <td>335</td>\n",
       "      <td>2059</td>\n",
       "    </tr>\n",
       "    <tr>\n",
       "      <th>2</th>\n",
       "      <td>2</td>\n",
       "      <td>2601</td>\n",
       "      <td>56</td>\n",
       "      <td>180</td>\n",
       "      <td>111</td>\n",
       "      <td>0.0</td>\n",
       "      <td>1017.0</td>\n",
       "      <td>573.0</td>\n",
       "      <td>2</td>\n",
       "      <td>3</td>\n",
       "      <td>49</td>\n",
       "      <td>249</td>\n",
       "      <td>334</td>\n",
       "      <td>66</td>\n",
       "      <td>244</td>\n",
       "      <td>430</td>\n",
       "      <td>2254</td>\n",
       "    </tr>\n",
       "    <tr>\n",
       "      <th>3</th>\n",
       "      <td>1</td>\n",
       "      <td>2601</td>\n",
       "      <td>104</td>\n",
       "      <td>220</td>\n",
       "      <td>355</td>\n",
       "      <td>0.0</td>\n",
       "      <td>978.0</td>\n",
       "      <td>525.0</td>\n",
       "      <td>2</td>\n",
       "      <td>4</td>\n",
       "      <td>22</td>\n",
       "      <td>149</td>\n",
       "      <td>309</td>\n",
       "      <td>35</td>\n",
       "      <td>213</td>\n",
       "      <td>172</td>\n",
       "      <td>1922</td>\n",
       "    </tr>\n",
       "    <tr>\n",
       "      <th>4</th>\n",
       "      <td>0</td>\n",
       "      <td>2601</td>\n",
       "      <td>278</td>\n",
       "      <td>181</td>\n",
       "      <td>34</td>\n",
       "      <td>0.0</td>\n",
       "      <td>925.0</td>\n",
       "      <td>330.0</td>\n",
       "      <td>2</td>\n",
       "      <td>5</td>\n",
       "      <td>22</td>\n",
       "      <td>75</td>\n",
       "      <td>106</td>\n",
       "      <td>66</td>\n",
       "      <td>240</td>\n",
       "      <td>92</td>\n",
       "      <td>2108</td>\n",
       "    </tr>\n",
       "  </tbody>\n",
       "</table>\n",
       "</div>"
      ],
      "text/plain": [
       "   day  numbers  dayoff  work  outsidework  workfhome  lunch_t  dinner_t  \\\n",
       "0    3     2601      50   150          238        0.0   1039.0     331.0   \n",
       "1    4     2601      50   173          319        0.0    867.0     560.0   \n",
       "2    2     2601      56   180          111        0.0   1017.0     573.0   \n",
       "3    1     2601     104   220          355        0.0    978.0     525.0   \n",
       "4    0     2601     278   181           34        0.0    925.0     330.0   \n",
       "\n",
       "   Month  Date  bob  soup  main  bobd  soupd  maind  present  \n",
       "0      2     1   22   189   236    66    224    341     2163  \n",
       "1      2     2   22    28     8   110    183    335     2059  \n",
       "2      2     3   49   249   334    66    244    430     2254  \n",
       "3      2     4   22   149   309    35    213    172     1922  \n",
       "4      2     5   22    75   106    66    240     92     2108  "
      ]
     },
     "execution_count": 148,
     "metadata": {},
     "output_type": "execute_result"
    }
   ],
   "source": [
    "train.head()"
   ]
  },
  {
   "cell_type": "code",
   "execution_count": 149,
   "metadata": {
    "ExecuteTime": {
     "end_time": "2022-02-17T12:45:38.869884Z",
     "start_time": "2022-02-17T12:45:38.836538Z"
    }
   },
   "outputs": [
    {
     "data": {
      "text/html": [
       "<div>\n",
       "<style scoped>\n",
       "    .dataframe tbody tr th:only-of-type {\n",
       "        vertical-align: middle;\n",
       "    }\n",
       "\n",
       "    .dataframe tbody tr th {\n",
       "        vertical-align: top;\n",
       "    }\n",
       "\n",
       "    .dataframe thead th {\n",
       "        text-align: right;\n",
       "    }\n",
       "</style>\n",
       "<table border=\"1\" class=\"dataframe\">\n",
       "  <thead>\n",
       "    <tr style=\"text-align: right;\">\n",
       "      <th></th>\n",
       "      <th>day</th>\n",
       "      <th>numbers</th>\n",
       "      <th>dayoff</th>\n",
       "      <th>work</th>\n",
       "      <th>outsidework</th>\n",
       "      <th>workfhome</th>\n",
       "      <th>Month</th>\n",
       "      <th>Date</th>\n",
       "      <th>bob</th>\n",
       "      <th>soup</th>\n",
       "      <th>main</th>\n",
       "      <th>bobd</th>\n",
       "      <th>soupd</th>\n",
       "      <th>maind</th>\n",
       "      <th>present</th>\n",
       "    </tr>\n",
       "  </thead>\n",
       "  <tbody>\n",
       "    <tr>\n",
       "      <th>0</th>\n",
       "      <td>2</td>\n",
       "      <td>2983</td>\n",
       "      <td>88</td>\n",
       "      <td>182</td>\n",
       "      <td>5</td>\n",
       "      <td>358.0</td>\n",
       "      <td>1</td>\n",
       "      <td>27</td>\n",
       "      <td>0</td>\n",
       "      <td>9</td>\n",
       "      <td>15</td>\n",
       "      <td>14</td>\n",
       "      <td>32</td>\n",
       "      <td>25</td>\n",
       "      <td>2708</td>\n",
       "    </tr>\n",
       "    <tr>\n",
       "      <th>1</th>\n",
       "      <td>1</td>\n",
       "      <td>2983</td>\n",
       "      <td>104</td>\n",
       "      <td>212</td>\n",
       "      <td>409</td>\n",
       "      <td>348.0</td>\n",
       "      <td>1</td>\n",
       "      <td>28</td>\n",
       "      <td>0</td>\n",
       "      <td>35</td>\n",
       "      <td>35</td>\n",
       "      <td>12</td>\n",
       "      <td>34</td>\n",
       "      <td>35</td>\n",
       "      <td>2258</td>\n",
       "    </tr>\n",
       "    <tr>\n",
       "      <th>2</th>\n",
       "      <td>0</td>\n",
       "      <td>2983</td>\n",
       "      <td>270</td>\n",
       "      <td>249</td>\n",
       "      <td>0</td>\n",
       "      <td>294.0</td>\n",
       "      <td>1</td>\n",
       "      <td>29</td>\n",
       "      <td>0</td>\n",
       "      <td>41</td>\n",
       "      <td>29</td>\n",
       "      <td>14</td>\n",
       "      <td>14</td>\n",
       "      <td>44</td>\n",
       "      <td>2464</td>\n",
       "    </tr>\n",
       "    <tr>\n",
       "      <th>3</th>\n",
       "      <td>3</td>\n",
       "      <td>2924</td>\n",
       "      <td>108</td>\n",
       "      <td>154</td>\n",
       "      <td>538</td>\n",
       "      <td>322.0</td>\n",
       "      <td>2</td>\n",
       "      <td>1</td>\n",
       "      <td>0</td>\n",
       "      <td>19</td>\n",
       "      <td>33</td>\n",
       "      <td>14</td>\n",
       "      <td>10</td>\n",
       "      <td>9</td>\n",
       "      <td>2124</td>\n",
       "    </tr>\n",
       "    <tr>\n",
       "      <th>4</th>\n",
       "      <td>4</td>\n",
       "      <td>2924</td>\n",
       "      <td>62</td>\n",
       "      <td>186</td>\n",
       "      <td>455</td>\n",
       "      <td>314.0</td>\n",
       "      <td>2</td>\n",
       "      <td>2</td>\n",
       "      <td>0</td>\n",
       "      <td>21</td>\n",
       "      <td>7</td>\n",
       "      <td>14</td>\n",
       "      <td>19</td>\n",
       "      <td>26</td>\n",
       "      <td>2221</td>\n",
       "    </tr>\n",
       "  </tbody>\n",
       "</table>\n",
       "</div>"
      ],
      "text/plain": [
       "   day  numbers  dayoff  work  outsidework  workfhome  Month  Date  bob  soup  \\\n",
       "0    2     2983      88   182            5      358.0      1    27    0     9   \n",
       "1    1     2983     104   212          409      348.0      1    28    0    35   \n",
       "2    0     2983     270   249            0      294.0      1    29    0    41   \n",
       "3    3     2924     108   154          538      322.0      2     1    0    19   \n",
       "4    4     2924      62   186          455      314.0      2     2    0    21   \n",
       "\n",
       "   main  bobd  soupd  maind  present  \n",
       "0    15    14     32     25     2708  \n",
       "1    35    12     34     35     2258  \n",
       "2    29    14     14     44     2464  \n",
       "3    33    14     10      9     2124  \n",
       "4     7    14     19     26     2221  "
      ]
     },
     "execution_count": 149,
     "metadata": {},
     "output_type": "execute_result"
    }
   ],
   "source": [
    "test.head()"
   ]
  },
  {
   "cell_type": "code",
   "execution_count": 150,
   "metadata": {
    "ExecuteTime": {
     "end_time": "2022-02-17T12:56:43.857224Z",
     "start_time": "2022-02-17T12:56:43.842720Z"
    }
   },
   "outputs": [],
   "source": [
    "x_train = train[['day', 'numbers', 'dayoff', 'work', 'outsidework', 'workfhome','Month','Date','bob','soup','main']]\n",
    "y_train = train['lunch_t'] "
   ]
  },
  {
   "cell_type": "code",
   "execution_count": 151,
   "metadata": {
    "ExecuteTime": {
     "end_time": "2022-02-17T12:56:48.505052Z",
     "start_time": "2022-02-17T12:56:48.496872Z"
    }
   },
   "outputs": [],
   "source": [
    "x_test = test[['day', 'numbers', 'dayoff', 'work', 'outsidework', 'workfhome','Month','Date','bob','soup','main']]"
   ]
  },
  {
   "cell_type": "code",
   "execution_count": 152,
   "metadata": {
    "ExecuteTime": {
     "end_time": "2022-02-17T12:56:54.740788Z",
     "start_time": "2022-02-17T12:56:54.730705Z"
    }
   },
   "outputs": [],
   "source": [
    "import numpy as np\n",
    "from sklearn.model_selection import KFold\n",
    "import warnings\n",
    "warnings.filterwarnings('ignore')\n",
    "\n",
    "import xgboost as xgb\n",
    "\n",
    "xgb_clf = xgb.XGBClassifier()"
   ]
  },
  {
   "cell_type": "code",
   "execution_count": 153,
   "metadata": {
    "ExecuteTime": {
     "end_time": "2022-02-17T12:59:17.571825Z",
     "start_time": "2022-02-17T12:57:00.965167Z"
    }
   },
   "outputs": [
    {
     "name": "stdout",
     "output_type": "stream",
     "text": [
      "{'colsample_bylevel': 0.5, 'colsample_bytree': 0.7, 'max_depth': 2, 'n_estimators': 300}\n"
     ]
    },
    {
     "data": {
      "text/plain": [
       "XGBRegressor(base_score=0.5, booster='gbtree', colsample_bylevel=0.5,\n",
       "             colsample_bynode=None, colsample_bytree=0.7, gamma=0, gpu_id=None,\n",
       "             importance_type='gain', interaction_constraints=None,\n",
       "             learning_rate=0.1, max_delta_step=0, max_depth=3,\n",
       "             min_child_weight=1, missing=None, monotone_constraints=None,\n",
       "             n_estimators=600, n_jobs=1, nthread=None, num_parallel_tree=None,\n",
       "             objective='reg:linear', random_state=0, reg_alpha=0, reg_lambda=1,\n",
       "             scale_pos_weight=1, seed=None, silent=True, subsample=1,\n",
       "             tree_method=None, validate_parameters=None, verbosity=None)"
      ]
     },
     "execution_count": 153,
     "metadata": {},
     "output_type": "execute_result"
    }
   ],
   "source": [
    "from sklearn.model_selection import GridSearchCV\n",
    "import xgboost as xgb\n",
    "from xgboost import XGBRegressor\n",
    "\n",
    "param = {\n",
    "    'max_depth':[2,3,4],\n",
    "    'n_estimators':range(300,600,100), #  'n_estimators':range(600,700,50) 여기에 cv 10 (이거와 별반차이가 없다.)\n",
    "    'colsample_bytree':[0.5,0.7,1],\n",
    "    'colsample_bylevel':[0.5,0.7,1],\n",
    "}\n",
    "model = xgb.XGBRegressor()\n",
    "grid_search = GridSearchCV(estimator=model, param_grid=param, cv=10, \n",
    "                           scoring='neg_mean_squared_error',\n",
    "                           n_jobs=-1)\n",
    "\n",
    "grid_search.fit(x_train, y_train)\n",
    "print(grid_search.best_params_)\n",
    "{'colsample_bylevel': 0.5, 'colsample_bytree': 0.5, 'max_depth': 3, 'n_estimators': 600}\n",
    "XGBRegressor(base_score=0.5, booster='gbtree', colsample_bylevel=0.5,\n",
    "             colsample_bytree=0.7, gamma=0, learning_rate=0.1, max_delta_step=0,\n",
    "             max_depth=3, min_child_weight=1, missing=None, n_estimators=600,\n",
    "             n_jobs=1, nthread=None, objective='reg:linear', random_state=0,\n",
    "             reg_alpha=0, reg_lambda=1, scale_pos_weight=1, seed=None,\n",
    "             silent=True, subsample=1)"
   ]
  },
  {
   "cell_type": "code",
   "execution_count": 154,
   "metadata": {
    "ExecuteTime": {
     "end_time": "2022-02-17T12:59:18.021281Z",
     "start_time": "2022-02-17T12:59:17.997488Z"
    }
   },
   "outputs": [],
   "source": [
    "y_pred = grid_search.predict(x_test)"
   ]
  },
  {
   "cell_type": "code",
   "execution_count": 155,
   "metadata": {
    "ExecuteTime": {
     "end_time": "2022-02-17T12:59:18.456307Z",
     "start_time": "2022-02-17T12:59:18.444309Z"
    }
   },
   "outputs": [
    {
     "data": {
      "text/plain": [
       "array([1094.4375 , 1050.659  ,  697.4613 , 1358.0463 ,  997.43365,\n",
       "       1001.03296,  979.05365,  710.2952 , 1355.1733 , 1094.7499 ,\n",
       "        761.5722 , 1395.8324 , 1198.562  , 1129.092  ,  997.4363 ,\n",
       "        732.23474, 1302.4109 , 1108.5001 ,  876.024  ,  866.6386 ,\n",
       "        666.00336, 1226.2607 , 1083.9829 , 1060.9589 ,  790.11365,\n",
       "       1460.5614 , 1307.8004 , 1007.73553, 1065.0653 ,  832.28595,\n",
       "       1383.7144 , 1199.0187 , 1154.6815 , 1073.5918 ,  724.0693 ,\n",
       "       1392.7854 , 1121.0884 ,  957.4054 ,  933.49945,  656.76447,\n",
       "       1334.7421 , 1079.5405 , 1078.4767 ,  935.6774 ,  708.30035,\n",
       "       1346.4854 , 1157.0953 , 1044.1443 ,  919.244  ,  703.1066 ],\n",
       "      dtype=float32)"
      ]
     },
     "execution_count": 155,
     "metadata": {},
     "output_type": "execute_result"
    }
   ],
   "source": [
    "y_pred"
   ]
  },
  {
   "cell_type": "code",
   "execution_count": 156,
   "metadata": {
    "ExecuteTime": {
     "end_time": "2022-02-17T12:59:50.361129Z",
     "start_time": "2022-02-17T12:59:50.352436Z"
    }
   },
   "outputs": [],
   "source": [
    "#석식\n",
    "x_train = train[['day', 'numbers', 'dayoff', 'work', 'outsidework', 'workfhome','Month','Date','bob','soup','main']]\n",
    "y_train = train['dinner_t'] "
   ]
  },
  {
   "cell_type": "code",
   "execution_count": 157,
   "metadata": {
    "ExecuteTime": {
     "end_time": "2022-02-17T12:59:53.283684Z",
     "start_time": "2022-02-17T12:59:53.266349Z"
    }
   },
   "outputs": [],
   "source": [
    "x_test = test[['day', 'numbers', 'dayoff', 'work', 'outsidework', 'workfhome','Month','Date','bob','soup','main']]"
   ]
  },
  {
   "cell_type": "code",
   "execution_count": 158,
   "metadata": {
    "ExecuteTime": {
     "end_time": "2022-02-17T13:02:13.589716Z",
     "start_time": "2022-02-17T12:59:57.664306Z"
    }
   },
   "outputs": [
    {
     "name": "stdout",
     "output_type": "stream",
     "text": [
      "{'colsample_bylevel': 0.7, 'colsample_bytree': 0.7, 'max_depth': 3, 'n_estimators': 300}\n"
     ]
    },
    {
     "data": {
      "text/plain": [
       "XGBRegressor(base_score=0.5, booster='gbtree', colsample_bylevel=0.5,\n",
       "             colsample_bynode=None, colsample_bytree=0.7, gamma=0, gpu_id=None,\n",
       "             importance_type='gain', interaction_constraints=None,\n",
       "             learning_rate=0.1, max_delta_step=0, max_depth=3,\n",
       "             min_child_weight=1, missing=None, monotone_constraints=None,\n",
       "             n_estimators=600, n_jobs=1, nthread=None, num_parallel_tree=None,\n",
       "             objective='reg:linear', random_state=0, reg_alpha=0, reg_lambda=1,\n",
       "             scale_pos_weight=1, seed=None, silent=True, subsample=1,\n",
       "             tree_method=None, validate_parameters=None, verbosity=None)"
      ]
     },
     "execution_count": 158,
     "metadata": {},
     "output_type": "execute_result"
    }
   ],
   "source": [
    "from sklearn.model_selection import GridSearchCV\n",
    "import xgboost as xgb\n",
    "from xgboost import XGBRegressor\n",
    "\n",
    "param = {\n",
    "    'max_depth':[2,3,4],\n",
    "    'n_estimators':range(300,600,100), #  'n_estimators':range(600,700,50) 여기에 cv 10 (이거와 별반차이가 없다.)\n",
    "    'colsample_bytree':[0.5,0.7,1],\n",
    "    'colsample_bylevel':[0.5,0.7,1],\n",
    "}\n",
    "model = xgb.XGBRegressor()\n",
    "grid_search = GridSearchCV(estimator=model, param_grid=param, cv=10, \n",
    "                           scoring='neg_mean_squared_error',\n",
    "                           n_jobs=-1)\n",
    "\n",
    "grid_search.fit(x_train, y_train)\n",
    "print(grid_search.best_params_)\n",
    "{'colsample_bylevel': 0.5, 'colsample_bytree': 0.5, 'max_depth': 3, 'n_estimators': 600}\n",
    "XGBRegressor(base_score=0.5, booster='gbtree', colsample_bylevel=0.5,\n",
    "             colsample_bytree=0.7, gamma=0, learning_rate=0.1, max_delta_step=0,\n",
    "             max_depth=3, min_child_weight=1, missing=None, n_estimators=600,\n",
    "             n_jobs=1, nthread=None, objective='reg:linear', random_state=0,\n",
    "             reg_alpha=0, reg_lambda=1, scale_pos_weight=1, seed=None,\n",
    "             silent=True, subsample=1)"
   ]
  },
  {
   "cell_type": "code",
   "execution_count": 159,
   "metadata": {
    "ExecuteTime": {
     "end_time": "2022-02-17T13:02:13.867886Z",
     "start_time": "2022-02-17T13:02:13.854155Z"
    }
   },
   "outputs": [],
   "source": [
    "y_pred_dinner = grid_search.predict(x_test)"
   ]
  },
  {
   "cell_type": "code",
   "execution_count": 160,
   "metadata": {
    "ExecuteTime": {
     "end_time": "2022-02-17T13:02:14.135626Z",
     "start_time": "2022-02-17T13:02:14.121543Z"
    }
   },
   "outputs": [
    {
     "data": {
      "text/plain": [
       "array([217.12686, 448.2368 , 318.44052, 624.3619 , 546.7752 , 493.5176 ,\n",
       "       507.9268 , 393.78094, 679.8953 , 592.4824 , 119.74602, 755.50995,\n",
       "       665.77734, 398.42084, 547.7014 , 413.04733, 688.56775, 642.8237 ,\n",
       "       301.46643, 428.56912, 227.31271, 697.8895 , 479.42105, 553.3889 ,\n",
       "       404.29813, 818.9788 , 738.0157 , 437.17883, 551.9948 , 381.08893,\n",
       "       687.5326 , 619.55554, 433.31073, 499.13068, 342.0743 , 692.178  ,\n",
       "       629.0179 , 428.46405, 464.52783, 303.1422 , 667.1533 , 716.30743,\n",
       "       414.71802, 476.97278, 346.22852, 632.23126, 638.81244, 448.8903 ,\n",
       "       470.44373, 328.34705], dtype=float32)"
      ]
     },
     "execution_count": 160,
     "metadata": {},
     "output_type": "execute_result"
    }
   ],
   "source": [
    "y_pred_dinner"
   ]
  },
  {
   "cell_type": "code",
   "execution_count": 162,
   "metadata": {
    "ExecuteTime": {
     "end_time": "2022-02-17T13:04:32.091699Z",
     "start_time": "2022-02-17T13:04:32.056621Z"
    }
   },
   "outputs": [],
   "source": [
    "submit = pd.read_csv('./data/sample_submission.csv')"
   ]
  },
  {
   "cell_type": "code",
   "execution_count": 163,
   "metadata": {
    "ExecuteTime": {
     "end_time": "2022-02-17T13:04:33.101623Z",
     "start_time": "2022-02-17T13:04:33.090369Z"
    }
   },
   "outputs": [],
   "source": [
    "submit['중식계'] = y_pred"
   ]
  },
  {
   "cell_type": "code",
   "execution_count": 164,
   "metadata": {
    "ExecuteTime": {
     "end_time": "2022-02-17T13:04:33.537301Z",
     "start_time": "2022-02-17T13:04:33.528257Z"
    }
   },
   "outputs": [],
   "source": [
    "submit['석식계'] = y_pred_dinner"
   ]
  },
  {
   "cell_type": "code",
   "execution_count": 165,
   "metadata": {
    "ExecuteTime": {
     "end_time": "2022-02-17T13:04:33.877572Z",
     "start_time": "2022-02-17T13:04:33.868518Z"
    }
   },
   "outputs": [],
   "source": [
    "submit.to_csv('submit_final2.csv.csv', index=False)"
   ]
  },
  {
   "cell_type": "code",
   "execution_count": 166,
   "metadata": {
    "ExecuteTime": {
     "end_time": "2022-02-17T13:04:34.253619Z",
     "start_time": "2022-02-17T13:04:34.234656Z"
    },
    "scrolled": true
   },
   "outputs": [
    {
     "data": {
      "text/html": [
       "<div>\n",
       "<style scoped>\n",
       "    .dataframe tbody tr th:only-of-type {\n",
       "        vertical-align: middle;\n",
       "    }\n",
       "\n",
       "    .dataframe tbody tr th {\n",
       "        vertical-align: top;\n",
       "    }\n",
       "\n",
       "    .dataframe thead th {\n",
       "        text-align: right;\n",
       "    }\n",
       "</style>\n",
       "<table border=\"1\" class=\"dataframe\">\n",
       "  <thead>\n",
       "    <tr style=\"text-align: right;\">\n",
       "      <th></th>\n",
       "      <th>일자</th>\n",
       "      <th>중식계</th>\n",
       "      <th>석식계</th>\n",
       "    </tr>\n",
       "  </thead>\n",
       "  <tbody>\n",
       "    <tr>\n",
       "      <th>0</th>\n",
       "      <td>2021-01-27</td>\n",
       "      <td>1094.437500</td>\n",
       "      <td>217.126862</td>\n",
       "    </tr>\n",
       "    <tr>\n",
       "      <th>1</th>\n",
       "      <td>2021-01-28</td>\n",
       "      <td>1050.659058</td>\n",
       "      <td>448.236786</td>\n",
       "    </tr>\n",
       "    <tr>\n",
       "      <th>2</th>\n",
       "      <td>2021-01-29</td>\n",
       "      <td>697.461304</td>\n",
       "      <td>318.440521</td>\n",
       "    </tr>\n",
       "    <tr>\n",
       "      <th>3</th>\n",
       "      <td>2021-02-01</td>\n",
       "      <td>1358.046265</td>\n",
       "      <td>624.361877</td>\n",
       "    </tr>\n",
       "    <tr>\n",
       "      <th>4</th>\n",
       "      <td>2021-02-02</td>\n",
       "      <td>997.433655</td>\n",
       "      <td>546.775208</td>\n",
       "    </tr>\n",
       "    <tr>\n",
       "      <th>5</th>\n",
       "      <td>2021-02-03</td>\n",
       "      <td>1001.032959</td>\n",
       "      <td>493.517609</td>\n",
       "    </tr>\n",
       "    <tr>\n",
       "      <th>6</th>\n",
       "      <td>2021-02-04</td>\n",
       "      <td>979.053650</td>\n",
       "      <td>507.926788</td>\n",
       "    </tr>\n",
       "    <tr>\n",
       "      <th>7</th>\n",
       "      <td>2021-02-05</td>\n",
       "      <td>710.295227</td>\n",
       "      <td>393.780945</td>\n",
       "    </tr>\n",
       "    <tr>\n",
       "      <th>8</th>\n",
       "      <td>2021-02-08</td>\n",
       "      <td>1355.173340</td>\n",
       "      <td>679.895325</td>\n",
       "    </tr>\n",
       "    <tr>\n",
       "      <th>9</th>\n",
       "      <td>2021-02-09</td>\n",
       "      <td>1094.749878</td>\n",
       "      <td>592.482422</td>\n",
       "    </tr>\n",
       "    <tr>\n",
       "      <th>10</th>\n",
       "      <td>2021-02-10</td>\n",
       "      <td>761.572205</td>\n",
       "      <td>119.746017</td>\n",
       "    </tr>\n",
       "    <tr>\n",
       "      <th>11</th>\n",
       "      <td>2021-02-15</td>\n",
       "      <td>1395.832397</td>\n",
       "      <td>755.509949</td>\n",
       "    </tr>\n",
       "    <tr>\n",
       "      <th>12</th>\n",
       "      <td>2021-02-16</td>\n",
       "      <td>1198.562012</td>\n",
       "      <td>665.777344</td>\n",
       "    </tr>\n",
       "    <tr>\n",
       "      <th>13</th>\n",
       "      <td>2021-02-17</td>\n",
       "      <td>1129.092041</td>\n",
       "      <td>398.420837</td>\n",
       "    </tr>\n",
       "    <tr>\n",
       "      <th>14</th>\n",
       "      <td>2021-02-18</td>\n",
       "      <td>997.436279</td>\n",
       "      <td>547.701416</td>\n",
       "    </tr>\n",
       "    <tr>\n",
       "      <th>15</th>\n",
       "      <td>2021-02-19</td>\n",
       "      <td>732.234741</td>\n",
       "      <td>413.047333</td>\n",
       "    </tr>\n",
       "    <tr>\n",
       "      <th>16</th>\n",
       "      <td>2021-02-22</td>\n",
       "      <td>1302.410889</td>\n",
       "      <td>688.567749</td>\n",
       "    </tr>\n",
       "    <tr>\n",
       "      <th>17</th>\n",
       "      <td>2021-02-23</td>\n",
       "      <td>1108.500122</td>\n",
       "      <td>642.823730</td>\n",
       "    </tr>\n",
       "    <tr>\n",
       "      <th>18</th>\n",
       "      <td>2021-02-24</td>\n",
       "      <td>876.023987</td>\n",
       "      <td>301.466431</td>\n",
       "    </tr>\n",
       "    <tr>\n",
       "      <th>19</th>\n",
       "      <td>2021-02-25</td>\n",
       "      <td>866.638611</td>\n",
       "      <td>428.569122</td>\n",
       "    </tr>\n",
       "    <tr>\n",
       "      <th>20</th>\n",
       "      <td>2021-02-26</td>\n",
       "      <td>666.003357</td>\n",
       "      <td>227.312714</td>\n",
       "    </tr>\n",
       "    <tr>\n",
       "      <th>21</th>\n",
       "      <td>2021-03-02</td>\n",
       "      <td>1226.260742</td>\n",
       "      <td>697.889526</td>\n",
       "    </tr>\n",
       "    <tr>\n",
       "      <th>22</th>\n",
       "      <td>2021-03-03</td>\n",
       "      <td>1083.982910</td>\n",
       "      <td>479.421051</td>\n",
       "    </tr>\n",
       "    <tr>\n",
       "      <th>23</th>\n",
       "      <td>2021-03-04</td>\n",
       "      <td>1060.958862</td>\n",
       "      <td>553.388916</td>\n",
       "    </tr>\n",
       "    <tr>\n",
       "      <th>24</th>\n",
       "      <td>2021-03-05</td>\n",
       "      <td>790.113647</td>\n",
       "      <td>404.298126</td>\n",
       "    </tr>\n",
       "    <tr>\n",
       "      <th>25</th>\n",
       "      <td>2021-03-08</td>\n",
       "      <td>1460.561401</td>\n",
       "      <td>818.978821</td>\n",
       "    </tr>\n",
       "    <tr>\n",
       "      <th>26</th>\n",
       "      <td>2021-03-09</td>\n",
       "      <td>1307.800415</td>\n",
       "      <td>738.015686</td>\n",
       "    </tr>\n",
       "    <tr>\n",
       "      <th>27</th>\n",
       "      <td>2021-03-10</td>\n",
       "      <td>1007.735535</td>\n",
       "      <td>437.178833</td>\n",
       "    </tr>\n",
       "    <tr>\n",
       "      <th>28</th>\n",
       "      <td>2021-03-11</td>\n",
       "      <td>1065.065308</td>\n",
       "      <td>551.994812</td>\n",
       "    </tr>\n",
       "    <tr>\n",
       "      <th>29</th>\n",
       "      <td>2021-03-12</td>\n",
       "      <td>832.285950</td>\n",
       "      <td>381.088928</td>\n",
       "    </tr>\n",
       "    <tr>\n",
       "      <th>30</th>\n",
       "      <td>2021-03-15</td>\n",
       "      <td>1383.714355</td>\n",
       "      <td>687.532593</td>\n",
       "    </tr>\n",
       "    <tr>\n",
       "      <th>31</th>\n",
       "      <td>2021-03-16</td>\n",
       "      <td>1199.018677</td>\n",
       "      <td>619.555542</td>\n",
       "    </tr>\n",
       "    <tr>\n",
       "      <th>32</th>\n",
       "      <td>2021-03-17</td>\n",
       "      <td>1154.681519</td>\n",
       "      <td>433.310730</td>\n",
       "    </tr>\n",
       "    <tr>\n",
       "      <th>33</th>\n",
       "      <td>2021-03-18</td>\n",
       "      <td>1073.591797</td>\n",
       "      <td>499.130676</td>\n",
       "    </tr>\n",
       "    <tr>\n",
       "      <th>34</th>\n",
       "      <td>2021-03-19</td>\n",
       "      <td>724.069275</td>\n",
       "      <td>342.074310</td>\n",
       "    </tr>\n",
       "    <tr>\n",
       "      <th>35</th>\n",
       "      <td>2021-03-22</td>\n",
       "      <td>1392.785400</td>\n",
       "      <td>692.177979</td>\n",
       "    </tr>\n",
       "    <tr>\n",
       "      <th>36</th>\n",
       "      <td>2021-03-23</td>\n",
       "      <td>1121.088379</td>\n",
       "      <td>629.017883</td>\n",
       "    </tr>\n",
       "    <tr>\n",
       "      <th>37</th>\n",
       "      <td>2021-03-24</td>\n",
       "      <td>957.405396</td>\n",
       "      <td>428.464050</td>\n",
       "    </tr>\n",
       "    <tr>\n",
       "      <th>38</th>\n",
       "      <td>2021-03-25</td>\n",
       "      <td>933.499451</td>\n",
       "      <td>464.527832</td>\n",
       "    </tr>\n",
       "    <tr>\n",
       "      <th>39</th>\n",
       "      <td>2021-03-26</td>\n",
       "      <td>656.764465</td>\n",
       "      <td>303.142212</td>\n",
       "    </tr>\n",
       "    <tr>\n",
       "      <th>40</th>\n",
       "      <td>2021-03-29</td>\n",
       "      <td>1334.742065</td>\n",
       "      <td>667.153320</td>\n",
       "    </tr>\n",
       "    <tr>\n",
       "      <th>41</th>\n",
       "      <td>2021-03-30</td>\n",
       "      <td>1079.540527</td>\n",
       "      <td>716.307434</td>\n",
       "    </tr>\n",
       "    <tr>\n",
       "      <th>42</th>\n",
       "      <td>2021-03-31</td>\n",
       "      <td>1078.476685</td>\n",
       "      <td>414.718018</td>\n",
       "    </tr>\n",
       "    <tr>\n",
       "      <th>43</th>\n",
       "      <td>2021-04-01</td>\n",
       "      <td>935.677429</td>\n",
       "      <td>476.972778</td>\n",
       "    </tr>\n",
       "    <tr>\n",
       "      <th>44</th>\n",
       "      <td>2021-04-02</td>\n",
       "      <td>708.300354</td>\n",
       "      <td>346.228516</td>\n",
       "    </tr>\n",
       "    <tr>\n",
       "      <th>45</th>\n",
       "      <td>2021-04-05</td>\n",
       "      <td>1346.485352</td>\n",
       "      <td>632.231262</td>\n",
       "    </tr>\n",
       "    <tr>\n",
       "      <th>46</th>\n",
       "      <td>2021-04-06</td>\n",
       "      <td>1157.095337</td>\n",
       "      <td>638.812439</td>\n",
       "    </tr>\n",
       "    <tr>\n",
       "      <th>47</th>\n",
       "      <td>2021-04-07</td>\n",
       "      <td>1044.144287</td>\n",
       "      <td>448.890289</td>\n",
       "    </tr>\n",
       "    <tr>\n",
       "      <th>48</th>\n",
       "      <td>2021-04-08</td>\n",
       "      <td>919.244019</td>\n",
       "      <td>470.443726</td>\n",
       "    </tr>\n",
       "    <tr>\n",
       "      <th>49</th>\n",
       "      <td>2021-04-09</td>\n",
       "      <td>703.106628</td>\n",
       "      <td>328.347046</td>\n",
       "    </tr>\n",
       "  </tbody>\n",
       "</table>\n",
       "</div>"
      ],
      "text/plain": [
       "            일자          중식계         석식계\n",
       "0   2021-01-27  1094.437500  217.126862\n",
       "1   2021-01-28  1050.659058  448.236786\n",
       "2   2021-01-29   697.461304  318.440521\n",
       "3   2021-02-01  1358.046265  624.361877\n",
       "4   2021-02-02   997.433655  546.775208\n",
       "5   2021-02-03  1001.032959  493.517609\n",
       "6   2021-02-04   979.053650  507.926788\n",
       "7   2021-02-05   710.295227  393.780945\n",
       "8   2021-02-08  1355.173340  679.895325\n",
       "9   2021-02-09  1094.749878  592.482422\n",
       "10  2021-02-10   761.572205  119.746017\n",
       "11  2021-02-15  1395.832397  755.509949\n",
       "12  2021-02-16  1198.562012  665.777344\n",
       "13  2021-02-17  1129.092041  398.420837\n",
       "14  2021-02-18   997.436279  547.701416\n",
       "15  2021-02-19   732.234741  413.047333\n",
       "16  2021-02-22  1302.410889  688.567749\n",
       "17  2021-02-23  1108.500122  642.823730\n",
       "18  2021-02-24   876.023987  301.466431\n",
       "19  2021-02-25   866.638611  428.569122\n",
       "20  2021-02-26   666.003357  227.312714\n",
       "21  2021-03-02  1226.260742  697.889526\n",
       "22  2021-03-03  1083.982910  479.421051\n",
       "23  2021-03-04  1060.958862  553.388916\n",
       "24  2021-03-05   790.113647  404.298126\n",
       "25  2021-03-08  1460.561401  818.978821\n",
       "26  2021-03-09  1307.800415  738.015686\n",
       "27  2021-03-10  1007.735535  437.178833\n",
       "28  2021-03-11  1065.065308  551.994812\n",
       "29  2021-03-12   832.285950  381.088928\n",
       "30  2021-03-15  1383.714355  687.532593\n",
       "31  2021-03-16  1199.018677  619.555542\n",
       "32  2021-03-17  1154.681519  433.310730\n",
       "33  2021-03-18  1073.591797  499.130676\n",
       "34  2021-03-19   724.069275  342.074310\n",
       "35  2021-03-22  1392.785400  692.177979\n",
       "36  2021-03-23  1121.088379  629.017883\n",
       "37  2021-03-24   957.405396  428.464050\n",
       "38  2021-03-25   933.499451  464.527832\n",
       "39  2021-03-26   656.764465  303.142212\n",
       "40  2021-03-29  1334.742065  667.153320\n",
       "41  2021-03-30  1079.540527  716.307434\n",
       "42  2021-03-31  1078.476685  414.718018\n",
       "43  2021-04-01   935.677429  476.972778\n",
       "44  2021-04-02   708.300354  346.228516\n",
       "45  2021-04-05  1346.485352  632.231262\n",
       "46  2021-04-06  1157.095337  638.812439\n",
       "47  2021-04-07  1044.144287  448.890289\n",
       "48  2021-04-08   919.244019  470.443726\n",
       "49  2021-04-09   703.106628  328.347046"
      ]
     },
     "execution_count": 166,
     "metadata": {},
     "output_type": "execute_result"
    }
   ],
   "source": [
    "submit"
   ]
  },
  {
   "cell_type": "markdown",
   "metadata": {},
   "source": [
    "## 점심, 저녁 메뉴 별 예측"
   ]
  },
  {
   "cell_type": "code",
   "execution_count": 167,
   "metadata": {
    "ExecuteTime": {
     "end_time": "2022-02-17T13:07:40.882930Z",
     "start_time": "2022-02-17T13:07:40.840636Z"
    }
   },
   "outputs": [],
   "source": [
    "#중식계\n",
    "train = pd.read_csv('enco_train_lunch.csv')\n",
    "test = pd.read_csv('enco_test_lunch.csv')"
   ]
  },
  {
   "cell_type": "code",
   "execution_count": 168,
   "metadata": {
    "ExecuteTime": {
     "end_time": "2022-02-17T13:07:44.450226Z",
     "start_time": "2022-02-17T13:07:44.428548Z"
    }
   },
   "outputs": [],
   "source": [
    "x_train = train[['day', 'numbers', 'dayoff', 'work', 'outsidework', 'workfhome','Month','Date','bob','soup','main']]\n",
    "y_train = train['lunch_t'] \n",
    "x_test = test[['day', 'numbers', 'dayoff', 'work', 'outsidework', 'workfhome','Month','Date','bob','soup','main']]"
   ]
  },
  {
   "cell_type": "code",
   "execution_count": 169,
   "metadata": {
    "ExecuteTime": {
     "end_time": "2022-02-17T13:09:37.506528Z",
     "start_time": "2022-02-17T13:07:48.604176Z"
    }
   },
   "outputs": [
    {
     "name": "stdout",
     "output_type": "stream",
     "text": [
      "{'colsample_bylevel': 0.5, 'colsample_bytree': 0.7, 'max_depth': 2, 'n_estimators': 300}\n"
     ]
    },
    {
     "data": {
      "text/plain": [
       "XGBRegressor(base_score=0.5, booster='gbtree', colsample_bylevel=0.5,\n",
       "             colsample_bynode=None, colsample_bytree=0.7, gamma=0, gpu_id=None,\n",
       "             importance_type='gain', interaction_constraints=None,\n",
       "             learning_rate=0.1, max_delta_step=0, max_depth=3,\n",
       "             min_child_weight=1, missing=None, monotone_constraints=None,\n",
       "             n_estimators=600, n_jobs=1, nthread=None, num_parallel_tree=None,\n",
       "             objective='reg:linear', random_state=0, reg_alpha=0, reg_lambda=1,\n",
       "             scale_pos_weight=1, seed=None, silent=True, subsample=1,\n",
       "             tree_method=None, validate_parameters=None, verbosity=None)"
      ]
     },
     "execution_count": 169,
     "metadata": {},
     "output_type": "execute_result"
    }
   ],
   "source": [
    "from sklearn.model_selection import GridSearchCV\n",
    "import xgboost as xgb\n",
    "from xgboost import XGBRegressor\n",
    "\n",
    "param = {\n",
    "    'max_depth':[2,3,4],\n",
    "    'n_estimators':range(300,600,100), #  'n_estimators':range(600,700,50) 여기에 cv 10 (이거와 별반차이가 없다.)\n",
    "    'colsample_bytree':[0.5,0.7,1],\n",
    "    'colsample_bylevel':[0.5,0.7,1],\n",
    "}\n",
    "model = xgb.XGBRegressor()\n",
    "grid_search = GridSearchCV(estimator=model, param_grid=param, cv=10, \n",
    "                           scoring='neg_mean_squared_error',\n",
    "                           n_jobs=-1)\n",
    "\n",
    "grid_search.fit(x_train, y_train)\n",
    "print(grid_search.best_params_)\n",
    "{'colsample_bylevel': 0.5, 'colsample_bytree': 0.5, 'max_depth': 3, 'n_estimators': 600}\n",
    "XGBRegressor(base_score=0.5, booster='gbtree', colsample_bylevel=0.5,\n",
    "             colsample_bytree=0.7, gamma=0, learning_rate=0.1, max_delta_step=0,\n",
    "             max_depth=3, min_child_weight=1, missing=None, n_estimators=600,\n",
    "             n_jobs=1, nthread=None, objective='reg:linear', random_state=0,\n",
    "             reg_alpha=0, reg_lambda=1, scale_pos_weight=1, seed=None,\n",
    "             silent=True, subsample=1)"
   ]
  },
  {
   "cell_type": "code",
   "execution_count": 170,
   "metadata": {
    "ExecuteTime": {
     "end_time": "2022-02-17T13:09:38.314611Z",
     "start_time": "2022-02-17T13:09:38.279383Z"
    }
   },
   "outputs": [],
   "source": [
    "y_pred2 = grid_search.predict(x_test)"
   ]
  },
  {
   "cell_type": "code",
   "execution_count": 171,
   "metadata": {
    "ExecuteTime": {
     "end_time": "2022-02-17T13:09:39.052381Z",
     "start_time": "2022-02-17T13:09:38.983391Z"
    }
   },
   "outputs": [],
   "source": [
    "# 석식계\n",
    "train = pd.read_csv('enco_train_dinner.csv')\n",
    "test = pd.read_csv('enco_test_dinner.csv')"
   ]
  },
  {
   "cell_type": "code",
   "execution_count": 172,
   "metadata": {
    "ExecuteTime": {
     "end_time": "2022-02-17T13:09:39.471831Z",
     "start_time": "2022-02-17T13:09:39.430185Z"
    }
   },
   "outputs": [
    {
     "data": {
      "text/html": [
       "<div>\n",
       "<style scoped>\n",
       "    .dataframe tbody tr th:only-of-type {\n",
       "        vertical-align: middle;\n",
       "    }\n",
       "\n",
       "    .dataframe tbody tr th {\n",
       "        vertical-align: top;\n",
       "    }\n",
       "\n",
       "    .dataframe thead th {\n",
       "        text-align: right;\n",
       "    }\n",
       "</style>\n",
       "<table border=\"1\" class=\"dataframe\">\n",
       "  <thead>\n",
       "    <tr style=\"text-align: right;\">\n",
       "      <th></th>\n",
       "      <th>day</th>\n",
       "      <th>numbers</th>\n",
       "      <th>dayoff</th>\n",
       "      <th>work</th>\n",
       "      <th>outsidework</th>\n",
       "      <th>workfhome</th>\n",
       "      <th>dinner_t</th>\n",
       "      <th>Month</th>\n",
       "      <th>Date</th>\n",
       "      <th>bobd</th>\n",
       "      <th>soupd</th>\n",
       "      <th>maind</th>\n",
       "      <th>present</th>\n",
       "    </tr>\n",
       "  </thead>\n",
       "  <tbody>\n",
       "    <tr>\n",
       "      <th>0</th>\n",
       "      <td>3</td>\n",
       "      <td>2601</td>\n",
       "      <td>50</td>\n",
       "      <td>150</td>\n",
       "      <td>238</td>\n",
       "      <td>0.0</td>\n",
       "      <td>331.0</td>\n",
       "      <td>2</td>\n",
       "      <td>1</td>\n",
       "      <td>65</td>\n",
       "      <td>223</td>\n",
       "      <td>340</td>\n",
       "      <td>2163</td>\n",
       "    </tr>\n",
       "    <tr>\n",
       "      <th>1</th>\n",
       "      <td>4</td>\n",
       "      <td>2601</td>\n",
       "      <td>50</td>\n",
       "      <td>173</td>\n",
       "      <td>319</td>\n",
       "      <td>0.0</td>\n",
       "      <td>560.0</td>\n",
       "      <td>2</td>\n",
       "      <td>2</td>\n",
       "      <td>109</td>\n",
       "      <td>182</td>\n",
       "      <td>334</td>\n",
       "      <td>2059</td>\n",
       "    </tr>\n",
       "    <tr>\n",
       "      <th>2</th>\n",
       "      <td>2</td>\n",
       "      <td>2601</td>\n",
       "      <td>56</td>\n",
       "      <td>180</td>\n",
       "      <td>111</td>\n",
       "      <td>0.0</td>\n",
       "      <td>573.0</td>\n",
       "      <td>2</td>\n",
       "      <td>3</td>\n",
       "      <td>65</td>\n",
       "      <td>243</td>\n",
       "      <td>429</td>\n",
       "      <td>2254</td>\n",
       "    </tr>\n",
       "    <tr>\n",
       "      <th>3</th>\n",
       "      <td>1</td>\n",
       "      <td>2601</td>\n",
       "      <td>104</td>\n",
       "      <td>220</td>\n",
       "      <td>355</td>\n",
       "      <td>0.0</td>\n",
       "      <td>525.0</td>\n",
       "      <td>2</td>\n",
       "      <td>4</td>\n",
       "      <td>34</td>\n",
       "      <td>212</td>\n",
       "      <td>171</td>\n",
       "      <td>1922</td>\n",
       "    </tr>\n",
       "    <tr>\n",
       "      <th>4</th>\n",
       "      <td>0</td>\n",
       "      <td>2601</td>\n",
       "      <td>278</td>\n",
       "      <td>181</td>\n",
       "      <td>34</td>\n",
       "      <td>0.0</td>\n",
       "      <td>330.0</td>\n",
       "      <td>2</td>\n",
       "      <td>5</td>\n",
       "      <td>65</td>\n",
       "      <td>239</td>\n",
       "      <td>91</td>\n",
       "      <td>2108</td>\n",
       "    </tr>\n",
       "  </tbody>\n",
       "</table>\n",
       "</div>"
      ],
      "text/plain": [
       "   day  numbers  dayoff  work  outsidework  workfhome  dinner_t  Month  Date  \\\n",
       "0    3     2601      50   150          238        0.0     331.0      2     1   \n",
       "1    4     2601      50   173          319        0.0     560.0      2     2   \n",
       "2    2     2601      56   180          111        0.0     573.0      2     3   \n",
       "3    1     2601     104   220          355        0.0     525.0      2     4   \n",
       "4    0     2601     278   181           34        0.0     330.0      2     5   \n",
       "\n",
       "   bobd  soupd  maind  present  \n",
       "0    65    223    340     2163  \n",
       "1   109    182    334     2059  \n",
       "2    65    243    429     2254  \n",
       "3    34    212    171     1922  \n",
       "4    65    239     91     2108  "
      ]
     },
     "execution_count": 172,
     "metadata": {},
     "output_type": "execute_result"
    }
   ],
   "source": [
    "train.head()"
   ]
  },
  {
   "cell_type": "code",
   "execution_count": 173,
   "metadata": {
    "ExecuteTime": {
     "end_time": "2022-02-17T13:09:39.832831Z",
     "start_time": "2022-02-17T13:09:39.822843Z"
    }
   },
   "outputs": [],
   "source": [
    "x_train = train[['day', 'numbers', 'dayoff', 'work', 'outsidework', 'workfhome','Month','Date','bobd','soupd','maind']]\n",
    "y_train = train['dinner_t'] "
   ]
  },
  {
   "cell_type": "code",
   "execution_count": 174,
   "metadata": {
    "ExecuteTime": {
     "end_time": "2022-02-17T13:09:40.143392Z",
     "start_time": "2022-02-17T13:09:40.134284Z"
    }
   },
   "outputs": [],
   "source": [
    "x_test = test[['day', 'numbers', 'dayoff', 'work', 'outsidework', 'workfhome','Month','Date','bobd','soupd','maind']]"
   ]
  },
  {
   "cell_type": "code",
   "execution_count": 175,
   "metadata": {
    "ExecuteTime": {
     "end_time": "2022-02-17T13:12:10.484450Z",
     "start_time": "2022-02-17T13:09:40.439831Z"
    }
   },
   "outputs": [
    {
     "name": "stdout",
     "output_type": "stream",
     "text": [
      "{'colsample_bylevel': 0.5, 'colsample_bytree': 0.7, 'max_depth': 2, 'n_estimators': 300}\n"
     ]
    },
    {
     "data": {
      "text/plain": [
       "XGBRegressor(base_score=0.5, booster='gbtree', colsample_bylevel=0.5,\n",
       "             colsample_bynode=None, colsample_bytree=0.7, gamma=0, gpu_id=None,\n",
       "             importance_type='gain', interaction_constraints=None,\n",
       "             learning_rate=0.1, max_delta_step=0, max_depth=3,\n",
       "             min_child_weight=1, missing=None, monotone_constraints=None,\n",
       "             n_estimators=600, n_jobs=1, nthread=None, num_parallel_tree=None,\n",
       "             objective='reg:linear', random_state=0, reg_alpha=0, reg_lambda=1,\n",
       "             scale_pos_weight=1, seed=None, silent=True, subsample=1,\n",
       "             tree_method=None, validate_parameters=None, verbosity=None)"
      ]
     },
     "execution_count": 175,
     "metadata": {},
     "output_type": "execute_result"
    }
   ],
   "source": [
    "from sklearn.model_selection import GridSearchCV\n",
    "import xgboost as xgb\n",
    "from xgboost import XGBRegressor\n",
    "\n",
    "param = {\n",
    "    'max_depth':[2,3,4],\n",
    "    'n_estimators':range(300,600,100), #  'n_estimators':range(600,700,50) 여기에 cv 10 (이거와 별반차이가 없다.)\n",
    "    'colsample_bytree':[0.5,0.7,1],\n",
    "    'colsample_bylevel':[0.5,0.7,1],\n",
    "}\n",
    "model = xgb.XGBRegressor()\n",
    "grid_search = GridSearchCV(estimator=model, param_grid=param, cv=10, \n",
    "                           scoring='neg_mean_squared_error',\n",
    "                           n_jobs=-1)\n",
    "\n",
    "grid_search.fit(x_train, y_train)\n",
    "print(grid_search.best_params_)\n",
    "{'colsample_bylevel': 0.5, 'colsample_bytree': 0.5, 'max_depth': 3, 'n_estimators': 600}\n",
    "XGBRegressor(base_score=0.5, booster='gbtree', colsample_bylevel=0.5,\n",
    "             colsample_bytree=0.7, gamma=0, learning_rate=0.1, max_delta_step=0,\n",
    "             max_depth=3, min_child_weight=1, missing=None, n_estimators=600,\n",
    "             n_jobs=1, nthread=None, objective='reg:linear', random_state=0,\n",
    "             reg_alpha=0, reg_lambda=1, scale_pos_weight=1, seed=None,\n",
    "             silent=True, subsample=1)"
   ]
  },
  {
   "cell_type": "code",
   "execution_count": 176,
   "metadata": {
    "ExecuteTime": {
     "end_time": "2022-02-17T13:12:11.139050Z",
     "start_time": "2022-02-17T13:12:11.128628Z"
    }
   },
   "outputs": [],
   "source": [
    "y_pred_dinner2 = grid_search.predict(x_test)"
   ]
  },
  {
   "cell_type": "code",
   "execution_count": 177,
   "metadata": {
    "ExecuteTime": {
     "end_time": "2022-02-17T13:12:11.651544Z",
     "start_time": "2022-02-17T13:12:11.633459Z"
    }
   },
   "outputs": [],
   "source": [
    "submit = pd.read_csv('./data/sample_submission.csv')"
   ]
  },
  {
   "cell_type": "code",
   "execution_count": 178,
   "metadata": {
    "ExecuteTime": {
     "end_time": "2022-02-17T13:12:12.273296Z",
     "start_time": "2022-02-17T13:12:12.251595Z"
    }
   },
   "outputs": [],
   "source": [
    "submit['중식계'] = y_pred2"
   ]
  },
  {
   "cell_type": "code",
   "execution_count": 179,
   "metadata": {
    "ExecuteTime": {
     "end_time": "2022-02-17T13:12:12.831769Z",
     "start_time": "2022-02-17T13:12:12.806122Z"
    }
   },
   "outputs": [],
   "source": [
    "submit['석식계'] = y_pred_dinner2"
   ]
  },
  {
   "cell_type": "code",
   "execution_count": 180,
   "metadata": {
    "ExecuteTime": {
     "end_time": "2022-02-17T13:12:13.419203Z",
     "start_time": "2022-02-17T13:12:13.374674Z"
    },
    "scrolled": true
   },
   "outputs": [
    {
     "data": {
      "text/html": [
       "<div>\n",
       "<style scoped>\n",
       "    .dataframe tbody tr th:only-of-type {\n",
       "        vertical-align: middle;\n",
       "    }\n",
       "\n",
       "    .dataframe tbody tr th {\n",
       "        vertical-align: top;\n",
       "    }\n",
       "\n",
       "    .dataframe thead th {\n",
       "        text-align: right;\n",
       "    }\n",
       "</style>\n",
       "<table border=\"1\" class=\"dataframe\">\n",
       "  <thead>\n",
       "    <tr style=\"text-align: right;\">\n",
       "      <th></th>\n",
       "      <th>일자</th>\n",
       "      <th>중식계</th>\n",
       "      <th>석식계</th>\n",
       "    </tr>\n",
       "  </thead>\n",
       "  <tbody>\n",
       "    <tr>\n",
       "      <th>0</th>\n",
       "      <td>2021-01-27</td>\n",
       "      <td>1094.437500</td>\n",
       "      <td>420.320465</td>\n",
       "    </tr>\n",
       "    <tr>\n",
       "      <th>1</th>\n",
       "      <td>2021-01-28</td>\n",
       "      <td>1050.659058</td>\n",
       "      <td>465.205414</td>\n",
       "    </tr>\n",
       "    <tr>\n",
       "      <th>2</th>\n",
       "      <td>2021-01-29</td>\n",
       "      <td>697.461304</td>\n",
       "      <td>289.036316</td>\n",
       "    </tr>\n",
       "    <tr>\n",
       "      <th>3</th>\n",
       "      <td>2021-02-01</td>\n",
       "      <td>1358.046265</td>\n",
       "      <td>615.862976</td>\n",
       "    </tr>\n",
       "    <tr>\n",
       "      <th>4</th>\n",
       "      <td>2021-02-02</td>\n",
       "      <td>997.433655</td>\n",
       "      <td>487.579834</td>\n",
       "    </tr>\n",
       "    <tr>\n",
       "      <th>5</th>\n",
       "      <td>2021-02-03</td>\n",
       "      <td>1001.032959</td>\n",
       "      <td>412.635010</td>\n",
       "    </tr>\n",
       "    <tr>\n",
       "      <th>6</th>\n",
       "      <td>2021-02-04</td>\n",
       "      <td>979.053650</td>\n",
       "      <td>483.790771</td>\n",
       "    </tr>\n",
       "    <tr>\n",
       "      <th>7</th>\n",
       "      <td>2021-02-05</td>\n",
       "      <td>710.295227</td>\n",
       "      <td>375.334839</td>\n",
       "    </tr>\n",
       "    <tr>\n",
       "      <th>8</th>\n",
       "      <td>2021-02-08</td>\n",
       "      <td>1355.173340</td>\n",
       "      <td>657.330688</td>\n",
       "    </tr>\n",
       "    <tr>\n",
       "      <th>9</th>\n",
       "      <td>2021-02-09</td>\n",
       "      <td>1094.749878</td>\n",
       "      <td>540.873474</td>\n",
       "    </tr>\n",
       "    <tr>\n",
       "      <th>10</th>\n",
       "      <td>2021-02-10</td>\n",
       "      <td>761.572205</td>\n",
       "      <td>169.224152</td>\n",
       "    </tr>\n",
       "    <tr>\n",
       "      <th>11</th>\n",
       "      <td>2021-02-15</td>\n",
       "      <td>1395.832397</td>\n",
       "      <td>731.150330</td>\n",
       "    </tr>\n",
       "    <tr>\n",
       "      <th>12</th>\n",
       "      <td>2021-02-16</td>\n",
       "      <td>1198.562012</td>\n",
       "      <td>657.510864</td>\n",
       "    </tr>\n",
       "    <tr>\n",
       "      <th>13</th>\n",
       "      <td>2021-02-17</td>\n",
       "      <td>1129.092041</td>\n",
       "      <td>423.376343</td>\n",
       "    </tr>\n",
       "    <tr>\n",
       "      <th>14</th>\n",
       "      <td>2021-02-18</td>\n",
       "      <td>997.436279</td>\n",
       "      <td>539.846008</td>\n",
       "    </tr>\n",
       "    <tr>\n",
       "      <th>15</th>\n",
       "      <td>2021-02-19</td>\n",
       "      <td>732.234741</td>\n",
       "      <td>359.788208</td>\n",
       "    </tr>\n",
       "    <tr>\n",
       "      <th>16</th>\n",
       "      <td>2021-02-22</td>\n",
       "      <td>1302.410889</td>\n",
       "      <td>687.928833</td>\n",
       "    </tr>\n",
       "    <tr>\n",
       "      <th>17</th>\n",
       "      <td>2021-02-23</td>\n",
       "      <td>1108.500122</td>\n",
       "      <td>654.960999</td>\n",
       "    </tr>\n",
       "    <tr>\n",
       "      <th>18</th>\n",
       "      <td>2021-02-24</td>\n",
       "      <td>876.023987</td>\n",
       "      <td>333.622864</td>\n",
       "    </tr>\n",
       "    <tr>\n",
       "      <th>19</th>\n",
       "      <td>2021-02-25</td>\n",
       "      <td>866.638611</td>\n",
       "      <td>520.611206</td>\n",
       "    </tr>\n",
       "    <tr>\n",
       "      <th>20</th>\n",
       "      <td>2021-02-26</td>\n",
       "      <td>666.003357</td>\n",
       "      <td>265.144592</td>\n",
       "    </tr>\n",
       "    <tr>\n",
       "      <th>21</th>\n",
       "      <td>2021-03-02</td>\n",
       "      <td>1226.260742</td>\n",
       "      <td>723.187683</td>\n",
       "    </tr>\n",
       "    <tr>\n",
       "      <th>22</th>\n",
       "      <td>2021-03-03</td>\n",
       "      <td>1083.982910</td>\n",
       "      <td>459.163818</td>\n",
       "    </tr>\n",
       "    <tr>\n",
       "      <th>23</th>\n",
       "      <td>2021-03-04</td>\n",
       "      <td>1060.958862</td>\n",
       "      <td>574.403870</td>\n",
       "    </tr>\n",
       "    <tr>\n",
       "      <th>24</th>\n",
       "      <td>2021-03-05</td>\n",
       "      <td>790.113647</td>\n",
       "      <td>393.146545</td>\n",
       "    </tr>\n",
       "    <tr>\n",
       "      <th>25</th>\n",
       "      <td>2021-03-08</td>\n",
       "      <td>1460.561401</td>\n",
       "      <td>820.805237</td>\n",
       "    </tr>\n",
       "    <tr>\n",
       "      <th>26</th>\n",
       "      <td>2021-03-09</td>\n",
       "      <td>1307.800415</td>\n",
       "      <td>819.940918</td>\n",
       "    </tr>\n",
       "    <tr>\n",
       "      <th>27</th>\n",
       "      <td>2021-03-10</td>\n",
       "      <td>1007.735535</td>\n",
       "      <td>448.749084</td>\n",
       "    </tr>\n",
       "    <tr>\n",
       "      <th>28</th>\n",
       "      <td>2021-03-11</td>\n",
       "      <td>1065.065308</td>\n",
       "      <td>544.287842</td>\n",
       "    </tr>\n",
       "    <tr>\n",
       "      <th>29</th>\n",
       "      <td>2021-03-12</td>\n",
       "      <td>832.285950</td>\n",
       "      <td>328.517700</td>\n",
       "    </tr>\n",
       "    <tr>\n",
       "      <th>30</th>\n",
       "      <td>2021-03-15</td>\n",
       "      <td>1383.714355</td>\n",
       "      <td>813.642517</td>\n",
       "    </tr>\n",
       "    <tr>\n",
       "      <th>31</th>\n",
       "      <td>2021-03-16</td>\n",
       "      <td>1199.018677</td>\n",
       "      <td>627.012695</td>\n",
       "    </tr>\n",
       "    <tr>\n",
       "      <th>32</th>\n",
       "      <td>2021-03-17</td>\n",
       "      <td>1154.681519</td>\n",
       "      <td>459.379761</td>\n",
       "    </tr>\n",
       "    <tr>\n",
       "      <th>33</th>\n",
       "      <td>2021-03-18</td>\n",
       "      <td>1073.591797</td>\n",
       "      <td>506.362976</td>\n",
       "    </tr>\n",
       "    <tr>\n",
       "      <th>34</th>\n",
       "      <td>2021-03-19</td>\n",
       "      <td>724.069275</td>\n",
       "      <td>353.007111</td>\n",
       "    </tr>\n",
       "    <tr>\n",
       "      <th>35</th>\n",
       "      <td>2021-03-22</td>\n",
       "      <td>1392.785400</td>\n",
       "      <td>711.773438</td>\n",
       "    </tr>\n",
       "    <tr>\n",
       "      <th>36</th>\n",
       "      <td>2021-03-23</td>\n",
       "      <td>1121.088379</td>\n",
       "      <td>627.487976</td>\n",
       "    </tr>\n",
       "    <tr>\n",
       "      <th>37</th>\n",
       "      <td>2021-03-24</td>\n",
       "      <td>957.405396</td>\n",
       "      <td>409.774628</td>\n",
       "    </tr>\n",
       "    <tr>\n",
       "      <th>38</th>\n",
       "      <td>2021-03-25</td>\n",
       "      <td>933.499451</td>\n",
       "      <td>494.016541</td>\n",
       "    </tr>\n",
       "    <tr>\n",
       "      <th>39</th>\n",
       "      <td>2021-03-26</td>\n",
       "      <td>656.764465</td>\n",
       "      <td>254.723846</td>\n",
       "    </tr>\n",
       "    <tr>\n",
       "      <th>40</th>\n",
       "      <td>2021-03-29</td>\n",
       "      <td>1334.742065</td>\n",
       "      <td>683.557861</td>\n",
       "    </tr>\n",
       "    <tr>\n",
       "      <th>41</th>\n",
       "      <td>2021-03-30</td>\n",
       "      <td>1079.540527</td>\n",
       "      <td>622.511230</td>\n",
       "    </tr>\n",
       "    <tr>\n",
       "      <th>42</th>\n",
       "      <td>2021-03-31</td>\n",
       "      <td>1078.476685</td>\n",
       "      <td>439.840179</td>\n",
       "    </tr>\n",
       "    <tr>\n",
       "      <th>43</th>\n",
       "      <td>2021-04-01</td>\n",
       "      <td>935.677429</td>\n",
       "      <td>475.799103</td>\n",
       "    </tr>\n",
       "    <tr>\n",
       "      <th>44</th>\n",
       "      <td>2021-04-02</td>\n",
       "      <td>708.300354</td>\n",
       "      <td>270.540802</td>\n",
       "    </tr>\n",
       "    <tr>\n",
       "      <th>45</th>\n",
       "      <td>2021-04-05</td>\n",
       "      <td>1346.485352</td>\n",
       "      <td>651.644897</td>\n",
       "    </tr>\n",
       "    <tr>\n",
       "      <th>46</th>\n",
       "      <td>2021-04-06</td>\n",
       "      <td>1157.095337</td>\n",
       "      <td>620.214172</td>\n",
       "    </tr>\n",
       "    <tr>\n",
       "      <th>47</th>\n",
       "      <td>2021-04-07</td>\n",
       "      <td>1044.144287</td>\n",
       "      <td>406.660858</td>\n",
       "    </tr>\n",
       "    <tr>\n",
       "      <th>48</th>\n",
       "      <td>2021-04-08</td>\n",
       "      <td>919.244019</td>\n",
       "      <td>488.170685</td>\n",
       "    </tr>\n",
       "    <tr>\n",
       "      <th>49</th>\n",
       "      <td>2021-04-09</td>\n",
       "      <td>703.106628</td>\n",
       "      <td>282.040131</td>\n",
       "    </tr>\n",
       "  </tbody>\n",
       "</table>\n",
       "</div>"
      ],
      "text/plain": [
       "            일자          중식계         석식계\n",
       "0   2021-01-27  1094.437500  420.320465\n",
       "1   2021-01-28  1050.659058  465.205414\n",
       "2   2021-01-29   697.461304  289.036316\n",
       "3   2021-02-01  1358.046265  615.862976\n",
       "4   2021-02-02   997.433655  487.579834\n",
       "5   2021-02-03  1001.032959  412.635010\n",
       "6   2021-02-04   979.053650  483.790771\n",
       "7   2021-02-05   710.295227  375.334839\n",
       "8   2021-02-08  1355.173340  657.330688\n",
       "9   2021-02-09  1094.749878  540.873474\n",
       "10  2021-02-10   761.572205  169.224152\n",
       "11  2021-02-15  1395.832397  731.150330\n",
       "12  2021-02-16  1198.562012  657.510864\n",
       "13  2021-02-17  1129.092041  423.376343\n",
       "14  2021-02-18   997.436279  539.846008\n",
       "15  2021-02-19   732.234741  359.788208\n",
       "16  2021-02-22  1302.410889  687.928833\n",
       "17  2021-02-23  1108.500122  654.960999\n",
       "18  2021-02-24   876.023987  333.622864\n",
       "19  2021-02-25   866.638611  520.611206\n",
       "20  2021-02-26   666.003357  265.144592\n",
       "21  2021-03-02  1226.260742  723.187683\n",
       "22  2021-03-03  1083.982910  459.163818\n",
       "23  2021-03-04  1060.958862  574.403870\n",
       "24  2021-03-05   790.113647  393.146545\n",
       "25  2021-03-08  1460.561401  820.805237\n",
       "26  2021-03-09  1307.800415  819.940918\n",
       "27  2021-03-10  1007.735535  448.749084\n",
       "28  2021-03-11  1065.065308  544.287842\n",
       "29  2021-03-12   832.285950  328.517700\n",
       "30  2021-03-15  1383.714355  813.642517\n",
       "31  2021-03-16  1199.018677  627.012695\n",
       "32  2021-03-17  1154.681519  459.379761\n",
       "33  2021-03-18  1073.591797  506.362976\n",
       "34  2021-03-19   724.069275  353.007111\n",
       "35  2021-03-22  1392.785400  711.773438\n",
       "36  2021-03-23  1121.088379  627.487976\n",
       "37  2021-03-24   957.405396  409.774628\n",
       "38  2021-03-25   933.499451  494.016541\n",
       "39  2021-03-26   656.764465  254.723846\n",
       "40  2021-03-29  1334.742065  683.557861\n",
       "41  2021-03-30  1079.540527  622.511230\n",
       "42  2021-03-31  1078.476685  439.840179\n",
       "43  2021-04-01   935.677429  475.799103\n",
       "44  2021-04-02   708.300354  270.540802\n",
       "45  2021-04-05  1346.485352  651.644897\n",
       "46  2021-04-06  1157.095337  620.214172\n",
       "47  2021-04-07  1044.144287  406.660858\n",
       "48  2021-04-08   919.244019  488.170685\n",
       "49  2021-04-09   703.106628  282.040131"
      ]
     },
     "execution_count": 180,
     "metadata": {},
     "output_type": "execute_result"
    }
   ],
   "source": [
    "submit"
   ]
  },
  {
   "cell_type": "code",
   "execution_count": 181,
   "metadata": {
    "ExecuteTime": {
     "end_time": "2022-02-17T13:12:13.943044Z",
     "start_time": "2022-02-17T13:12:13.920841Z"
    }
   },
   "outputs": [],
   "source": [
    "submit.to_csv('final_w_new.csv', index=False)"
   ]
  },
  {
   "cell_type": "code",
   "execution_count": null,
   "metadata": {},
   "outputs": [],
   "source": []
  }
 ],
 "metadata": {
  "hide_input": false,
  "kernelspec": {
   "display_name": "Python 3",
   "language": "python",
   "name": "python3"
  },
  "language_info": {
   "codemirror_mode": {
    "name": "ipython",
    "version": 3
   },
   "file_extension": ".py",
   "mimetype": "text/x-python",
   "name": "python",
   "nbconvert_exporter": "python",
   "pygments_lexer": "ipython3",
   "version": "3.8.3"
  },
  "toc": {
   "base_numbering": 1,
   "nav_menu": {},
   "number_sections": true,
   "sideBar": true,
   "skip_h1_title": false,
   "title_cell": "Table of Contents",
   "title_sidebar": "Contents",
   "toc_cell": false,
   "toc_position": {
    "height": "calc(100% - 180px)",
    "left": "10px",
    "top": "150px",
    "width": "228.979px"
   },
   "toc_section_display": true,
   "toc_window_display": true
  },
  "varInspector": {
   "cols": {
    "lenName": 16,
    "lenType": 16,
    "lenVar": 40
   },
   "kernels_config": {
    "python": {
     "delete_cmd_postfix": "",
     "delete_cmd_prefix": "del ",
     "library": "var_list.py",
     "varRefreshCmd": "print(var_dic_list())"
    },
    "r": {
     "delete_cmd_postfix": ") ",
     "delete_cmd_prefix": "rm(",
     "library": "var_list.r",
     "varRefreshCmd": "cat(var_dic_list()) "
    }
   },
   "types_to_exclude": [
    "module",
    "function",
    "builtin_function_or_method",
    "instance",
    "_Feature"
   ],
   "window_display": false
  }
 },
 "nbformat": 4,
 "nbformat_minor": 4
}
