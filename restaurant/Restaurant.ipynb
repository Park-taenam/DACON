{
 "cells": [
  {
   "cell_type": "markdown",
   "metadata": {},
   "source": [
    "# 구내식당 식사인원 예측"
   ]
  },
  {
   "cell_type": "code",
   "execution_count": 1,
   "metadata": {
    "ExecuteTime": {
     "end_time": "2022-02-23T16:22:54.015745Z",
     "start_time": "2022-02-23T16:22:52.409091Z"
    }
   },
   "outputs": [],
   "source": [
    "import numpy as np\n",
    "import pandas as pd\n",
    "import matplotlib.pyplot as plt\n",
    "import seaborn as sns\n",
    "\n",
    "import holidays\n",
    "import datetime\n",
    "from datetime import timedelta\n",
    "\n",
    "import warnings\n",
    "warnings.filterwarnings('ignore')\n",
    "\n",
    "%matplotlib inline"
   ]
  },
  {
   "cell_type": "code",
   "execution_count": 2,
   "metadata": {
    "ExecuteTime": {
     "end_time": "2022-02-23T16:22:54.045758Z",
     "start_time": "2022-02-23T16:22:54.017747Z"
    }
   },
   "outputs": [],
   "source": [
    "# 사용자 운영체제 확인\n",
    "import os\n",
    "os.name\n",
    "\n",
    "# 운영체제별 한글 폰트 설정\n",
    "if os.name == 'posix': # Mac 환경 폰트 설정\n",
    "    plt.rc('font', family='AppleGothic')\n",
    "elif os.name == 'nt': # Windows 환경 폰트 설정\n",
    "    plt.rc('font', family='Malgun Gothic')\n",
    "\n",
    "plt.rc('axes', unicode_minus=False) # 마이너스 폰트 설정\n",
    "\n",
    "\n",
    "# 글씨 선명하게 출력하는 설정\n",
    "%config InlineBackend.figure_format = 'retina'"
   ]
  },
  {
   "cell_type": "markdown",
   "metadata": {},
   "source": [
    "# Dataset"
   ]
  },
  {
   "cell_type": "code",
   "execution_count": 3,
   "metadata": {
    "ExecuteTime": {
     "end_time": "2022-02-23T16:22:54.090930Z",
     "start_time": "2022-02-23T16:22:54.048737Z"
    }
   },
   "outputs": [],
   "source": [
    "train = pd.read_csv(\"./data/weather_corona_train.csv\", encoding='cp949')\n",
    "test = pd.read_csv(\"./data/weather_corona_test.csv\", encoding='cp949')\n",
    "\n",
    "train = train.iloc[:,1:]\n",
    "test = test.iloc[:,1:]"
   ]
  },
  {
   "cell_type": "code",
   "execution_count": 4,
   "metadata": {
    "ExecuteTime": {
     "end_time": "2022-02-23T16:22:54.121108Z",
     "start_time": "2022-02-23T16:22:54.094239Z"
    }
   },
   "outputs": [
    {
     "data": {
      "text/html": [
       "<div>\n",
       "<style scoped>\n",
       "    .dataframe tbody tr th:only-of-type {\n",
       "        vertical-align: middle;\n",
       "    }\n",
       "\n",
       "    .dataframe tbody tr th {\n",
       "        vertical-align: top;\n",
       "    }\n",
       "\n",
       "    .dataframe thead th {\n",
       "        text-align: right;\n",
       "    }\n",
       "</style>\n",
       "<table border=\"1\" class=\"dataframe\">\n",
       "  <thead>\n",
       "    <tr style=\"text-align: right;\">\n",
       "      <th></th>\n",
       "      <th>일자</th>\n",
       "      <th>요일</th>\n",
       "      <th>본사정원수</th>\n",
       "      <th>본사휴가자수</th>\n",
       "      <th>본사출장자수</th>\n",
       "      <th>본사시간외근무명령서승인건수</th>\n",
       "      <th>현본사소속재택근무자수</th>\n",
       "      <th>조식메뉴</th>\n",
       "      <th>중식메뉴</th>\n",
       "      <th>석식메뉴</th>\n",
       "      <th>중식계</th>\n",
       "      <th>석식계</th>\n",
       "      <th>평균기온(°C)</th>\n",
       "      <th>일강수량(mm)</th>\n",
       "      <th>평균 지면온도(°C)</th>\n",
       "      <th>확진자수</th>\n",
       "    </tr>\n",
       "  </thead>\n",
       "  <tbody>\n",
       "    <tr>\n",
       "      <th>0</th>\n",
       "      <td>2016-02-01</td>\n",
       "      <td>월</td>\n",
       "      <td>2601</td>\n",
       "      <td>50</td>\n",
       "      <td>150</td>\n",
       "      <td>238</td>\n",
       "      <td>0</td>\n",
       "      <td>모닝롤/찐빵  우유/두유/주스 계란후라이  호두죽/쌀밥 (쌀:국내산) 된장찌개  쥐...</td>\n",
       "      <td>쌀밥/잡곡밥 (쌀,현미흑미:국내산) 오징어찌개  쇠불고기 (쇠고기:호주산) 계란찜 ...</td>\n",
       "      <td>쌀밥/잡곡밥 (쌀,현미흑미:국내산) 육개장  자반고등어구이  두부조림  건파래무침 ...</td>\n",
       "      <td>1039</td>\n",
       "      <td>331</td>\n",
       "      <td>-0.6</td>\n",
       "      <td>NaN</td>\n",
       "      <td>2.3</td>\n",
       "      <td>0</td>\n",
       "    </tr>\n",
       "    <tr>\n",
       "      <th>1</th>\n",
       "      <td>2016-02-02</td>\n",
       "      <td>화</td>\n",
       "      <td>2601</td>\n",
       "      <td>50</td>\n",
       "      <td>173</td>\n",
       "      <td>319</td>\n",
       "      <td>0</td>\n",
       "      <td>모닝롤/단호박샌드  우유/두유/주스 계란후라이  팥죽/쌀밥 (쌀:국내산) 호박젓국찌...</td>\n",
       "      <td>쌀밥/잡곡밥 (쌀,현미흑미:국내산) 김치찌개  가자미튀김  모둠소세지구이  마늘쫑무...</td>\n",
       "      <td>콩나물밥*양념장 (쌀,현미흑미:국내산) 어묵국  유산슬 (쇠고기:호주산) 아삭고추무...</td>\n",
       "      <td>867</td>\n",
       "      <td>560</td>\n",
       "      <td>-2.3</td>\n",
       "      <td>NaN</td>\n",
       "      <td>1.2</td>\n",
       "      <td>0</td>\n",
       "    </tr>\n",
       "    <tr>\n",
       "      <th>2</th>\n",
       "      <td>2016-02-03</td>\n",
       "      <td>수</td>\n",
       "      <td>2601</td>\n",
       "      <td>56</td>\n",
       "      <td>180</td>\n",
       "      <td>111</td>\n",
       "      <td>0</td>\n",
       "      <td>모닝롤/베이글  우유/두유/주스 계란후라이  표고버섯죽/쌀밥 (쌀:국내산) 콩나물국...</td>\n",
       "      <td>카레덮밥 (쌀,현미흑미:국내산) 팽이장국  치킨핑거 (닭고기:국내산) 쫄면야채무침 ...</td>\n",
       "      <td>쌀밥/잡곡밥 (쌀,현미흑미:국내산) 청국장찌개  황태양념구이 (황태:러시아산) 고기...</td>\n",
       "      <td>1017</td>\n",
       "      <td>573</td>\n",
       "      <td>-1.7</td>\n",
       "      <td>NaN</td>\n",
       "      <td>1.3</td>\n",
       "      <td>0</td>\n",
       "    </tr>\n",
       "    <tr>\n",
       "      <th>3</th>\n",
       "      <td>2016-02-04</td>\n",
       "      <td>목</td>\n",
       "      <td>2601</td>\n",
       "      <td>104</td>\n",
       "      <td>220</td>\n",
       "      <td>355</td>\n",
       "      <td>0</td>\n",
       "      <td>모닝롤/토마토샌드  우유/두유/주스 계란후라이  닭죽/쌀밥 (쌀,닭:국내산) 근대국...</td>\n",
       "      <td>쌀밥/잡곡밥 (쌀,현미흑미:국내산) 쇠고기무국  주꾸미볶음  부추전  시금치나물  ...</td>\n",
       "      <td>미니김밥*겨자장 (쌀,현미흑미:국내산) 우동  멕시칸샐러드  군고구마  무피클  포...</td>\n",
       "      <td>978</td>\n",
       "      <td>525</td>\n",
       "      <td>-0.2</td>\n",
       "      <td>NaN</td>\n",
       "      <td>1.0</td>\n",
       "      <td>0</td>\n",
       "    </tr>\n",
       "    <tr>\n",
       "      <th>4</th>\n",
       "      <td>2016-02-05</td>\n",
       "      <td>금</td>\n",
       "      <td>2601</td>\n",
       "      <td>278</td>\n",
       "      <td>181</td>\n",
       "      <td>34</td>\n",
       "      <td>0</td>\n",
       "      <td>모닝롤/와플  우유/두유/주스 계란후라이  쇠고기죽/쌀밥 (쌀:국내산) 재첩국  방...</td>\n",
       "      <td>쌀밥/잡곡밥 (쌀,현미흑미:국내산) 떡국  돈육씨앗강정 (돼지고기:국내산) 우엉잡채...</td>\n",
       "      <td>쌀밥/잡곡밥 (쌀,현미흑미:국내산) 차돌박이찌개 (쇠고기:호주산) 닭갈비 (닭고기:...</td>\n",
       "      <td>925</td>\n",
       "      <td>330</td>\n",
       "      <td>1.3</td>\n",
       "      <td>NaN</td>\n",
       "      <td>2.4</td>\n",
       "      <td>0</td>\n",
       "    </tr>\n",
       "  </tbody>\n",
       "</table>\n",
       "</div>"
      ],
      "text/plain": [
       "           일자 요일  본사정원수  본사휴가자수  본사출장자수  본사시간외근무명령서승인건수  현본사소속재택근무자수  \\\n",
       "0  2016-02-01  월   2601      50     150             238            0   \n",
       "1  2016-02-02  화   2601      50     173             319            0   \n",
       "2  2016-02-03  수   2601      56     180             111            0   \n",
       "3  2016-02-04  목   2601     104     220             355            0   \n",
       "4  2016-02-05  금   2601     278     181              34            0   \n",
       "\n",
       "                                                조식메뉴  \\\n",
       "0  모닝롤/찐빵  우유/두유/주스 계란후라이  호두죽/쌀밥 (쌀:국내산) 된장찌개  쥐...   \n",
       "1  모닝롤/단호박샌드  우유/두유/주스 계란후라이  팥죽/쌀밥 (쌀:국내산) 호박젓국찌...   \n",
       "2  모닝롤/베이글  우유/두유/주스 계란후라이  표고버섯죽/쌀밥 (쌀:국내산) 콩나물국...   \n",
       "3  모닝롤/토마토샌드  우유/두유/주스 계란후라이  닭죽/쌀밥 (쌀,닭:국내산) 근대국...   \n",
       "4  모닝롤/와플  우유/두유/주스 계란후라이  쇠고기죽/쌀밥 (쌀:국내산) 재첩국  방...   \n",
       "\n",
       "                                                중식메뉴  \\\n",
       "0  쌀밥/잡곡밥 (쌀,현미흑미:국내산) 오징어찌개  쇠불고기 (쇠고기:호주산) 계란찜 ...   \n",
       "1  쌀밥/잡곡밥 (쌀,현미흑미:국내산) 김치찌개  가자미튀김  모둠소세지구이  마늘쫑무...   \n",
       "2  카레덮밥 (쌀,현미흑미:국내산) 팽이장국  치킨핑거 (닭고기:국내산) 쫄면야채무침 ...   \n",
       "3  쌀밥/잡곡밥 (쌀,현미흑미:국내산) 쇠고기무국  주꾸미볶음  부추전  시금치나물  ...   \n",
       "4  쌀밥/잡곡밥 (쌀,현미흑미:국내산) 떡국  돈육씨앗강정 (돼지고기:국내산) 우엉잡채...   \n",
       "\n",
       "                                                석식메뉴   중식계  석식계  평균기온(°C)  \\\n",
       "0  쌀밥/잡곡밥 (쌀,현미흑미:국내산) 육개장  자반고등어구이  두부조림  건파래무침 ...  1039  331      -0.6   \n",
       "1  콩나물밥*양념장 (쌀,현미흑미:국내산) 어묵국  유산슬 (쇠고기:호주산) 아삭고추무...   867  560      -2.3   \n",
       "2  쌀밥/잡곡밥 (쌀,현미흑미:국내산) 청국장찌개  황태양념구이 (황태:러시아산) 고기...  1017  573      -1.7   \n",
       "3  미니김밥*겨자장 (쌀,현미흑미:국내산) 우동  멕시칸샐러드  군고구마  무피클  포...   978  525      -0.2   \n",
       "4  쌀밥/잡곡밥 (쌀,현미흑미:국내산) 차돌박이찌개 (쇠고기:호주산) 닭갈비 (닭고기:...   925  330       1.3   \n",
       "\n",
       "   일강수량(mm)  평균 지면온도(°C)  확진자수  \n",
       "0       NaN          2.3     0  \n",
       "1       NaN          1.2     0  \n",
       "2       NaN          1.3     0  \n",
       "3       NaN          1.0     0  \n",
       "4       NaN          2.4     0  "
      ]
     },
     "execution_count": 4,
     "metadata": {},
     "output_type": "execute_result"
    }
   ],
   "source": [
    "train.head()"
   ]
  },
  {
   "cell_type": "markdown",
   "metadata": {},
   "source": [
    "# 전처리 및 EDA"
   ]
  },
  {
   "cell_type": "markdown",
   "metadata": {},
   "source": [
    "## EDA"
   ]
  },
  {
   "cell_type": "code",
   "execution_count": 5,
   "metadata": {
    "ExecuteTime": {
     "end_time": "2022-02-23T16:22:54.500323Z",
     "start_time": "2022-02-23T16:22:54.122960Z"
    }
   },
   "outputs": [
    {
     "data": {
      "image/png": "[encoded data removed]",
      "text/plain": [
       "<Figure size 576x576 with 1 Axes>"
      ]
     },
     "metadata": {
      "image/png": {
       "height": 496,
       "width": 504
      },
      "needs_background": "light"
     },
     "output_type": "display_data"
    }
   ],
   "source": [
    "plt.figure(figsize=(8,8))\n",
    "\n",
    "\n",
    "sns.barplot(x=\"요일\", y=\"중식계\", data=train)\n",
    "plt.title(\"요일별 점시시간 수\")\n",
    "plt.show()"
   ]
  },
  {
   "cell_type": "code",
   "execution_count": 6,
   "metadata": {
    "ExecuteTime": {
     "end_time": "2022-02-23T16:22:54.803950Z",
     "start_time": "2022-02-23T16:22:54.502066Z"
    }
   },
   "outputs": [
    {
     "data": {
      "image/png": "[encoded data removed]",
      "text/plain": [
       "<Figure size 576x576 with 1 Axes>"
      ]
     },
     "metadata": {
      "image/png": {
       "height": 496,
       "width": 498
      },
      "needs_background": "light"
     },
     "output_type": "display_data"
    }
   ],
   "source": [
    "plt.figure(figsize=(8,8))\n",
    "\n",
    "\n",
    "sns.barplot(x=\"요일\", y=\"석식계\", data=train)\n",
    "plt.title(\"요일별 점시시간 수\")\n",
    "plt.show()"
   ]
  },
  {
   "cell_type": "markdown",
   "metadata": {},
   "source": [
    "## 날씨"
   ]
  },
  {
   "cell_type": "code",
   "execution_count": 7,
   "metadata": {
    "ExecuteTime": {
     "end_time": "2022-02-23T16:22:54.818753Z",
     "start_time": "2022-02-23T16:22:54.806738Z"
    }
   },
   "outputs": [
    {
     "data": {
      "text/plain": [
       "Index(['일자', '요일', '본사정원수', '본사휴가자수', '본사출장자수', '본사시간외근무명령서승인건수',\n",
       "       '현본사소속재택근무자수', '조식메뉴', '중식메뉴', '석식메뉴', '중식계', '석식계', '평균기온(°C)',\n",
       "       '일강수량(mm)', '평균 지면온도(°C)', '확진자수'],\n",
       "      dtype='object')"
      ]
     },
     "execution_count": 7,
     "metadata": {},
     "output_type": "execute_result"
    }
   ],
   "source": [
    "train.columns"
   ]
  },
  {
   "cell_type": "code",
   "execution_count": 8,
   "metadata": {
    "ExecuteTime": {
     "end_time": "2022-02-23T16:22:54.848614Z",
     "start_time": "2022-02-23T16:22:54.821717Z"
    },
    "scrolled": true
   },
   "outputs": [
    {
     "data": {
      "text/html": [
       "<div>\n",
       "<style scoped>\n",
       "    .dataframe tbody tr th:only-of-type {\n",
       "        vertical-align: middle;\n",
       "    }\n",
       "\n",
       "    .dataframe tbody tr th {\n",
       "        vertical-align: top;\n",
       "    }\n",
       "\n",
       "    .dataframe thead th {\n",
       "        text-align: right;\n",
       "    }\n",
       "</style>\n",
       "<table border=\"1\" class=\"dataframe\">\n",
       "  <thead>\n",
       "    <tr style=\"text-align: right;\">\n",
       "      <th></th>\n",
       "      <th>일자</th>\n",
       "      <th>요일</th>\n",
       "      <th>본사정원수</th>\n",
       "      <th>본사휴가자수</th>\n",
       "      <th>본사출장자수</th>\n",
       "      <th>본사시간외근무명령서승인건수</th>\n",
       "      <th>현본사소속재택근무자수</th>\n",
       "      <th>조식메뉴</th>\n",
       "      <th>중식메뉴</th>\n",
       "      <th>석식메뉴</th>\n",
       "      <th>중식계</th>\n",
       "      <th>석식계</th>\n",
       "      <th>평균기온(°C)</th>\n",
       "      <th>일강수량(mm)</th>\n",
       "      <th>평균 지면온도(°C)</th>\n",
       "      <th>확진자수</th>\n",
       "    </tr>\n",
       "  </thead>\n",
       "  <tbody>\n",
       "    <tr>\n",
       "      <th>0</th>\n",
       "      <td>2016-02-01</td>\n",
       "      <td>월</td>\n",
       "      <td>2601</td>\n",
       "      <td>50</td>\n",
       "      <td>150</td>\n",
       "      <td>238</td>\n",
       "      <td>0</td>\n",
       "      <td>모닝롤/찐빵  우유/두유/주스 계란후라이  호두죽/쌀밥 (쌀:국내산) 된장찌개  쥐...</td>\n",
       "      <td>쌀밥/잡곡밥 (쌀,현미흑미:국내산) 오징어찌개  쇠불고기 (쇠고기:호주산) 계란찜 ...</td>\n",
       "      <td>쌀밥/잡곡밥 (쌀,현미흑미:국내산) 육개장  자반고등어구이  두부조림  건파래무침 ...</td>\n",
       "      <td>1039</td>\n",
       "      <td>331</td>\n",
       "      <td>-0.6</td>\n",
       "      <td>NaN</td>\n",
       "      <td>2.3</td>\n",
       "      <td>0</td>\n",
       "    </tr>\n",
       "    <tr>\n",
       "      <th>1</th>\n",
       "      <td>2016-02-02</td>\n",
       "      <td>화</td>\n",
       "      <td>2601</td>\n",
       "      <td>50</td>\n",
       "      <td>173</td>\n",
       "      <td>319</td>\n",
       "      <td>0</td>\n",
       "      <td>모닝롤/단호박샌드  우유/두유/주스 계란후라이  팥죽/쌀밥 (쌀:국내산) 호박젓국찌...</td>\n",
       "      <td>쌀밥/잡곡밥 (쌀,현미흑미:국내산) 김치찌개  가자미튀김  모둠소세지구이  마늘쫑무...</td>\n",
       "      <td>콩나물밥*양념장 (쌀,현미흑미:국내산) 어묵국  유산슬 (쇠고기:호주산) 아삭고추무...</td>\n",
       "      <td>867</td>\n",
       "      <td>560</td>\n",
       "      <td>-2.3</td>\n",
       "      <td>NaN</td>\n",
       "      <td>1.2</td>\n",
       "      <td>0</td>\n",
       "    </tr>\n",
       "    <tr>\n",
       "      <th>2</th>\n",
       "      <td>2016-02-03</td>\n",
       "      <td>수</td>\n",
       "      <td>2601</td>\n",
       "      <td>56</td>\n",
       "      <td>180</td>\n",
       "      <td>111</td>\n",
       "      <td>0</td>\n",
       "      <td>모닝롤/베이글  우유/두유/주스 계란후라이  표고버섯죽/쌀밥 (쌀:국내산) 콩나물국...</td>\n",
       "      <td>카레덮밥 (쌀,현미흑미:국내산) 팽이장국  치킨핑거 (닭고기:국내산) 쫄면야채무침 ...</td>\n",
       "      <td>쌀밥/잡곡밥 (쌀,현미흑미:국내산) 청국장찌개  황태양념구이 (황태:러시아산) 고기...</td>\n",
       "      <td>1017</td>\n",
       "      <td>573</td>\n",
       "      <td>-1.7</td>\n",
       "      <td>NaN</td>\n",
       "      <td>1.3</td>\n",
       "      <td>0</td>\n",
       "    </tr>\n",
       "    <tr>\n",
       "      <th>3</th>\n",
       "      <td>2016-02-04</td>\n",
       "      <td>목</td>\n",
       "      <td>2601</td>\n",
       "      <td>104</td>\n",
       "      <td>220</td>\n",
       "      <td>355</td>\n",
       "      <td>0</td>\n",
       "      <td>모닝롤/토마토샌드  우유/두유/주스 계란후라이  닭죽/쌀밥 (쌀,닭:국내산) 근대국...</td>\n",
       "      <td>쌀밥/잡곡밥 (쌀,현미흑미:국내산) 쇠고기무국  주꾸미볶음  부추전  시금치나물  ...</td>\n",
       "      <td>미니김밥*겨자장 (쌀,현미흑미:국내산) 우동  멕시칸샐러드  군고구마  무피클  포...</td>\n",
       "      <td>978</td>\n",
       "      <td>525</td>\n",
       "      <td>-0.2</td>\n",
       "      <td>NaN</td>\n",
       "      <td>1.0</td>\n",
       "      <td>0</td>\n",
       "    </tr>\n",
       "    <tr>\n",
       "      <th>4</th>\n",
       "      <td>2016-02-05</td>\n",
       "      <td>금</td>\n",
       "      <td>2601</td>\n",
       "      <td>278</td>\n",
       "      <td>181</td>\n",
       "      <td>34</td>\n",
       "      <td>0</td>\n",
       "      <td>모닝롤/와플  우유/두유/주스 계란후라이  쇠고기죽/쌀밥 (쌀:국내산) 재첩국  방...</td>\n",
       "      <td>쌀밥/잡곡밥 (쌀,현미흑미:국내산) 떡국  돈육씨앗강정 (돼지고기:국내산) 우엉잡채...</td>\n",
       "      <td>쌀밥/잡곡밥 (쌀,현미흑미:국내산) 차돌박이찌개 (쇠고기:호주산) 닭갈비 (닭고기:...</td>\n",
       "      <td>925</td>\n",
       "      <td>330</td>\n",
       "      <td>1.3</td>\n",
       "      <td>NaN</td>\n",
       "      <td>2.4</td>\n",
       "      <td>0</td>\n",
       "    </tr>\n",
       "  </tbody>\n",
       "</table>\n",
       "</div>"
      ],
      "text/plain": [
       "           일자 요일  본사정원수  본사휴가자수  본사출장자수  본사시간외근무명령서승인건수  현본사소속재택근무자수  \\\n",
       "0  2016-02-01  월   2601      50     150             238            0   \n",
       "1  2016-02-02  화   2601      50     173             319            0   \n",
       "2  2016-02-03  수   2601      56     180             111            0   \n",
       "3  2016-02-04  목   2601     104     220             355            0   \n",
       "4  2016-02-05  금   2601     278     181              34            0   \n",
       "\n",
       "                                                조식메뉴  \\\n",
       "0  모닝롤/찐빵  우유/두유/주스 계란후라이  호두죽/쌀밥 (쌀:국내산) 된장찌개  쥐...   \n",
       "1  모닝롤/단호박샌드  우유/두유/주스 계란후라이  팥죽/쌀밥 (쌀:국내산) 호박젓국찌...   \n",
       "2  모닝롤/베이글  우유/두유/주스 계란후라이  표고버섯죽/쌀밥 (쌀:국내산) 콩나물국...   \n",
       "3  모닝롤/토마토샌드  우유/두유/주스 계란후라이  닭죽/쌀밥 (쌀,닭:국내산) 근대국...   \n",
       "4  모닝롤/와플  우유/두유/주스 계란후라이  쇠고기죽/쌀밥 (쌀:국내산) 재첩국  방...   \n",
       "\n",
       "                                                중식메뉴  \\\n",
       "0  쌀밥/잡곡밥 (쌀,현미흑미:국내산) 오징어찌개  쇠불고기 (쇠고기:호주산) 계란찜 ...   \n",
       "1  쌀밥/잡곡밥 (쌀,현미흑미:국내산) 김치찌개  가자미튀김  모둠소세지구이  마늘쫑무...   \n",
       "2  카레덮밥 (쌀,현미흑미:국내산) 팽이장국  치킨핑거 (닭고기:국내산) 쫄면야채무침 ...   \n",
       "3  쌀밥/잡곡밥 (쌀,현미흑미:국내산) 쇠고기무국  주꾸미볶음  부추전  시금치나물  ...   \n",
       "4  쌀밥/잡곡밥 (쌀,현미흑미:국내산) 떡국  돈육씨앗강정 (돼지고기:국내산) 우엉잡채...   \n",
       "\n",
       "                                                석식메뉴   중식계  석식계  평균기온(°C)  \\\n",
       "0  쌀밥/잡곡밥 (쌀,현미흑미:국내산) 육개장  자반고등어구이  두부조림  건파래무침 ...  1039  331      -0.6   \n",
       "1  콩나물밥*양념장 (쌀,현미흑미:국내산) 어묵국  유산슬 (쇠고기:호주산) 아삭고추무...   867  560      -2.3   \n",
       "2  쌀밥/잡곡밥 (쌀,현미흑미:국내산) 청국장찌개  황태양념구이 (황태:러시아산) 고기...  1017  573      -1.7   \n",
       "3  미니김밥*겨자장 (쌀,현미흑미:국내산) 우동  멕시칸샐러드  군고구마  무피클  포...   978  525      -0.2   \n",
       "4  쌀밥/잡곡밥 (쌀,현미흑미:국내산) 차돌박이찌개 (쇠고기:호주산) 닭갈비 (닭고기:...   925  330       1.3   \n",
       "\n",
       "   일강수량(mm)  평균 지면온도(°C)  확진자수  \n",
       "0       NaN          2.3     0  \n",
       "1       NaN          1.2     0  \n",
       "2       NaN          1.3     0  \n",
       "3       NaN          1.0     0  \n",
       "4       NaN          2.4     0  "
      ]
     },
     "execution_count": 8,
     "metadata": {},
     "output_type": "execute_result"
    }
   ],
   "source": [
    "train.head()"
   ]
  },
  {
   "cell_type": "code",
   "execution_count": 9,
   "metadata": {
    "ExecuteTime": {
     "end_time": "2022-02-23T16:22:54.863964Z",
     "start_time": "2022-02-23T16:22:54.852671Z"
    }
   },
   "outputs": [],
   "source": [
    "train.drop(['평균 지면온도(°C)'], axis=1, inplace=True)\n",
    "test.drop(['평균 지면온도(°C)'], axis=1, inplace=True)"
   ]
  },
  {
   "cell_type": "markdown",
   "metadata": {},
   "source": [
    "### Null"
   ]
  },
  {
   "cell_type": "code",
   "execution_count": 10,
   "metadata": {
    "ExecuteTime": {
     "end_time": "2022-02-23T16:22:54.878728Z",
     "start_time": "2022-02-23T16:22:54.868502Z"
    }
   },
   "outputs": [
    {
     "name": "stdout",
     "output_type": "stream",
     "text": [
      "train\n",
      " 평균기온(°C)      1\n",
      "일강수량(mm)    819\n",
      "dtype: int64 \n",
      "\n",
      "test\n",
      " 평균기온(°C)     0\n",
      "일강수량(mm)    38\n",
      "dtype: int64\n"
     ]
    }
   ],
   "source": [
    "print('train\\n', train.loc[:,['평균기온(°C)','일강수량(mm)']].isnull().sum(), '\\n')\n",
    "print('test\\n', test.loc[:,['평균기온(°C)','일강수량(mm)']].isnull().sum())"
   ]
  },
  {
   "cell_type": "code",
   "execution_count": 11,
   "metadata": {
    "ExecuteTime": {
     "end_time": "2022-02-23T16:22:54.893851Z",
     "start_time": "2022-02-23T16:22:54.883764Z"
    }
   },
   "outputs": [],
   "source": [
    "train['평균기온(°C)'].fillna(method='ffill', inplace=True)"
   ]
  },
  {
   "cell_type": "code",
   "execution_count": 12,
   "metadata": {
    "ExecuteTime": {
     "end_time": "2022-02-23T16:22:54.908818Z",
     "start_time": "2022-02-23T16:22:54.899753Z"
    }
   },
   "outputs": [],
   "source": [
    "train['일강수량(mm)'].fillna(0, inplace=True)\n",
    "test['일강수량(mm)'].fillna(0, inplace=True)"
   ]
  },
  {
   "cell_type": "code",
   "execution_count": 13,
   "metadata": {
    "ExecuteTime": {
     "end_time": "2022-02-23T16:22:54.923956Z",
     "start_time": "2022-02-23T16:22:54.911219Z"
    }
   },
   "outputs": [
    {
     "name": "stdout",
     "output_type": "stream",
     "text": [
      "train\n",
      " 평균기온(°C)    0\n",
      "일강수량(mm)    0\n",
      "dtype: int64 \n",
      "\n",
      "test\n",
      " 평균기온(°C)    0\n",
      "일강수량(mm)    0\n",
      "dtype: int64\n"
     ]
    }
   ],
   "source": [
    "print('train\\n', train.loc[:,['평균기온(°C)','일강수량(mm)']].isnull().sum(), '\\n')\n",
    "print('test\\n', test.loc[:,['평균기온(°C)','일강수량(mm)']].isnull().sum())"
   ]
  },
  {
   "cell_type": "markdown",
   "metadata": {},
   "source": [
    "### 강수량"
   ]
  },
  {
   "cell_type": "code",
   "execution_count": 14,
   "metadata": {
    "ExecuteTime": {
     "end_time": "2022-02-23T16:22:54.939006Z",
     "start_time": "2022-02-23T16:22:54.925958Z"
    }
   },
   "outputs": [],
   "source": [
    "train['일강수량(mm)'] = np.where(train.loc[:,'일강수량(mm)']==0, 0, 1)"
   ]
  },
  {
   "cell_type": "code",
   "execution_count": 15,
   "metadata": {
    "ExecuteTime": {
     "end_time": "2022-02-23T16:22:54.954704Z",
     "start_time": "2022-02-23T16:22:54.942959Z"
    }
   },
   "outputs": [
    {
     "data": {
      "text/plain": [
       "0    896\n",
       "1    309\n",
       "Name: 일강수량(mm), dtype: int64"
      ]
     },
     "execution_count": 15,
     "metadata": {},
     "output_type": "execute_result"
    }
   ],
   "source": [
    "train['일강수량(mm)'].value_counts()"
   ]
  },
  {
   "cell_type": "markdown",
   "metadata": {},
   "source": [
    "### 기온\n",
    "- test가 21.01.27 ~ 21.04.09 까지임"
   ]
  },
  {
   "cell_type": "code",
   "execution_count": 91,
   "metadata": {
    "ExecuteTime": {
     "end_time": "2022-02-23T16:38:40.485964Z",
     "start_time": "2022-02-23T16:38:40.458588Z"
    }
   },
   "outputs": [
    {
     "data": {
      "text/html": [
       "<div>\n",
       "<style scoped>\n",
       "    .dataframe tbody tr th:only-of-type {\n",
       "        vertical-align: middle;\n",
       "    }\n",
       "\n",
       "    .dataframe tbody tr th {\n",
       "        vertical-align: top;\n",
       "    }\n",
       "\n",
       "    .dataframe thead th {\n",
       "        text-align: right;\n",
       "    }\n",
       "</style>\n",
       "<table border=\"1\" class=\"dataframe\">\n",
       "  <thead>\n",
       "    <tr style=\"text-align: right;\">\n",
       "      <th></th>\n",
       "      <th>평균기온(°C)</th>\n",
       "      <th>중식계</th>\n",
       "      <th>석식계</th>\n",
       "    </tr>\n",
       "  </thead>\n",
       "  <tbody>\n",
       "    <tr>\n",
       "      <th>평균기온(°C)</th>\n",
       "      <td>1.000000</td>\n",
       "      <td>-0.094672</td>\n",
       "      <td>0.008495</td>\n",
       "    </tr>\n",
       "    <tr>\n",
       "      <th>중식계</th>\n",
       "      <td>-0.094672</td>\n",
       "      <td>1.000000</td>\n",
       "      <td>0.508287</td>\n",
       "    </tr>\n",
       "    <tr>\n",
       "      <th>석식계</th>\n",
       "      <td>0.008495</td>\n",
       "      <td>0.508287</td>\n",
       "      <td>1.000000</td>\n",
       "    </tr>\n",
       "  </tbody>\n",
       "</table>\n",
       "</div>"
      ],
      "text/plain": [
       "          평균기온(°C)       중식계       석식계\n",
       "평균기온(°C)  1.000000 -0.094672  0.008495\n",
       "중식계      -0.094672  1.000000  0.508287\n",
       "석식계       0.008495  0.508287  1.000000"
      ]
     },
     "execution_count": 91,
     "metadata": {},
     "output_type": "execute_result"
    }
   ],
   "source": [
    "train.loc[:,['평균기온(°C)', '중식계', '석식계']].corr()"
   ]
  },
  {
   "cell_type": "code",
   "execution_count": 86,
   "metadata": {
    "ExecuteTime": {
     "end_time": "2022-02-23T16:34:11.515275Z",
     "start_time": "2022-02-23T16:34:11.307802Z"
    }
   },
   "outputs": [
    {
     "data": {
      "image/png": "[encoded data removed]",
      "text/plain": [
       "<Figure size 720x360 with 1 Axes>"
      ]
     },
     "metadata": {
      "image/png": {
       "height": 303,
       "width": 594
      },
      "needs_background": "light"
     },
     "output_type": "display_data"
    }
   ],
   "source": [
    "plt.figure(figsize=(10,5))\n",
    "plt.plot(train.index, train['평균기온(°C)'])\n",
    "plt.show()"
   ]
  },
  {
   "cell_type": "code",
   "execution_count": 90,
   "metadata": {
    "ExecuteTime": {
     "end_time": "2022-02-23T16:37:13.731793Z",
     "start_time": "2022-02-23T16:37:13.554797Z"
    }
   },
   "outputs": [
    {
     "data": {
      "image/png": "[encoded data removed]",
      "text/plain": [
       "<Figure size 720x360 with 1 Axes>"
      ]
     },
     "metadata": {
      "image/png": {
       "height": 303,
       "width": 594
      },
      "needs_background": "light"
     },
     "output_type": "display_data"
    }
   ],
   "source": [
    "plt.figure(figsize=(10,5))\n",
    "plt.boxplot(train['평균기온(°C)'])\n",
    "plt.show()"
   ]
  },
  {
   "cell_type": "code",
   "execution_count": 88,
   "metadata": {
    "ExecuteTime": {
     "end_time": "2022-02-23T16:36:00.597961Z",
     "start_time": "2022-02-23T16:36:00.570023Z"
    }
   },
   "outputs": [
    {
     "data": {
      "text/plain": [
       "count    1205.000000\n",
       "mean       13.679585\n",
       "std         9.326654\n",
       "min        -9.100000\n",
       "25%         5.700000\n",
       "50%        13.800000\n",
       "75%        21.900000\n",
       "max        30.600000\n",
       "Name: 평균기온(°C), dtype: float64"
      ]
     },
     "execution_count": 88,
     "metadata": {},
     "output_type": "execute_result"
    }
   ],
   "source": [
    "train['평균기온(°C)'].describe()"
   ]
  },
  {
   "cell_type": "code",
   "execution_count": 89,
   "metadata": {
    "ExecuteTime": {
     "end_time": "2022-02-23T16:36:59.868785Z",
     "start_time": "2022-02-23T16:36:59.700806Z"
    }
   },
   "outputs": [
    {
     "data": {
      "image/png": "[encoded data removed]",
      "text/plain": [
       "<Figure size 720x360 with 1 Axes>"
      ]
     },
     "metadata": {
      "image/png": {
       "height": 303,
       "width": 594
      },
      "needs_background": "light"
     },
     "output_type": "display_data"
    }
   ],
   "source": []
  },
  {
   "cell_type": "markdown",
   "metadata": {},
   "source": [
    "## 확진자수"
   ]
  },
  {
   "cell_type": "code",
   "execution_count": 16,
   "metadata": {
    "ExecuteTime": {
     "end_time": "2022-02-23T16:22:54.969832Z",
     "start_time": "2022-02-23T16:22:54.957706Z"
    }
   },
   "outputs": [
    {
     "data": {
      "text/plain": [
       "0"
      ]
     },
     "execution_count": 16,
     "metadata": {},
     "output_type": "execute_result"
    }
   ],
   "source": [
    "train['확진자수'].isnull().sum()"
   ]
  },
  {
   "cell_type": "code",
   "execution_count": 17,
   "metadata": {
    "ExecuteTime": {
     "end_time": "2022-02-23T16:22:54.985055Z",
     "start_time": "2022-02-23T16:22:54.971711Z"
    }
   },
   "outputs": [
    {
     "data": {
      "text/plain": [
       "0"
      ]
     },
     "execution_count": 17,
     "metadata": {},
     "output_type": "execute_result"
    }
   ],
   "source": [
    "test['확진자수'].isnull().sum()"
   ]
  },
  {
   "cell_type": "markdown",
   "metadata": {},
   "source": [
    "## 휴일 & 공휴일 전 후"
   ]
  },
  {
   "cell_type": "code",
   "execution_count": 18,
   "metadata": {
    "ExecuteTime": {
     "end_time": "2022-02-23T16:22:55.091834Z",
     "start_time": "2022-02-23T16:22:54.987770Z"
    }
   },
   "outputs": [],
   "source": [
    "holiday_list = [] \n",
    "for i in range(2016,2022):\n",
    "    for date in holidays.KR(years=i).keys():  # 한국 공휴일 가져오기\n",
    "        holiday_list.append(date)"
   ]
  },
  {
   "cell_type": "code",
   "execution_count": 19,
   "metadata": {
    "ExecuteTime": {
     "end_time": "2022-02-23T16:22:55.106900Z",
     "start_time": "2022-02-23T16:22:55.094839Z"
    }
   },
   "outputs": [],
   "source": [
    "holiday_before_list=[]\n",
    "for_mat='%Y-%m-%d'\n",
    "for i in holiday_list:\n",
    "    holiday_before_list.append((i - timedelta(days=1)).strftime(for_mat))\n",
    "        # i - timedelta(days=1): datetime에서 날짜 하루 빼기\n",
    "        # .strftime(for_mat): 포맷과 같은 형식으로 datetime에서 str로 변환"
   ]
  },
  {
   "cell_type": "code",
   "execution_count": 20,
   "metadata": {
    "ExecuteTime": {
     "end_time": "2022-02-23T16:22:55.121999Z",
     "start_time": "2022-02-23T16:22:55.108857Z"
    }
   },
   "outputs": [],
   "source": [
    "def holiday_before(x):\n",
    "    if x in holiday_before_list:\n",
    "        return 1\n",
    "    else:\n",
    "        return 0\n",
    "train['공휴일전'] = train.일자.apply(holiday_before)\n",
    "test['공휴일전'] = test.일자.apply(holiday_before)"
   ]
  },
  {
   "cell_type": "code",
   "execution_count": 21,
   "metadata": {
    "ExecuteTime": {
     "end_time": "2022-02-23T16:22:55.136843Z",
     "start_time": "2022-02-23T16:22:55.126010Z"
    }
   },
   "outputs": [],
   "source": [
    "holiday_after_list=[]\n",
    "for_mat='%Y-%m-%d'\n",
    "for i in holiday_list:\n",
    "    holiday_after_list.append((i + timedelta(days=1)).strftime(for_mat))"
   ]
  },
  {
   "cell_type": "code",
   "execution_count": 22,
   "metadata": {
    "ExecuteTime": {
     "end_time": "2022-02-23T16:22:55.152843Z",
     "start_time": "2022-02-23T16:22:55.138838Z"
    }
   },
   "outputs": [],
   "source": [
    "def holiday_after(x):\n",
    "    if x in holiday_after_list:\n",
    "        return 1\n",
    "    else:\n",
    "        return 0\n",
    "train['공휴일후'] = train.일자.apply(holiday_after)\n",
    "test['공휴일후'] = test.일자.apply(holiday_after)"
   ]
  },
  {
   "cell_type": "code",
   "execution_count": 23,
   "metadata": {
    "ExecuteTime": {
     "end_time": "2022-02-23T16:22:55.167885Z",
     "start_time": "2022-02-23T16:22:55.158883Z"
    }
   },
   "outputs": [],
   "source": [
    "## 누락된 것은 찾아서 넣음\n",
    "\n",
    "# 16-4-13 국회의원 선거\n",
    "train['공휴일전'][47]=1\n",
    "train['공휴일후'][48]=1\n",
    "\n",
    "# 17-5-9 대통령 선거\n",
    "train['공휴일전'][311]=1\n",
    "train['공휴일후'][312]=1\n",
    "\n",
    "# 18-6-13 지방선거\n",
    "train['공휴일전'][579]=1\n",
    "train['공휴일후'][580]=1\n",
    "\n",
    "# 20-4-15 국회의원 선거\n",
    "train['공휴일전'][1027]=1\n",
    "train['공휴일후'][1028]=1\n",
    "\n",
    "# 20-9-30 추석\n",
    "train['공휴일전'][1129]=1"
   ]
  },
  {
   "cell_type": "code",
   "execution_count": 24,
   "metadata": {
    "ExecuteTime": {
     "end_time": "2022-02-23T16:22:55.182841Z",
     "start_time": "2022-02-23T16:22:55.171839Z"
    }
   },
   "outputs": [
    {
     "data": {
      "text/plain": [
       "0    1164\n",
       "1      41\n",
       "Name: 공휴일전, dtype: int64"
      ]
     },
     "execution_count": 24,
     "metadata": {},
     "output_type": "execute_result"
    }
   ],
   "source": [
    "train.공휴일전.value_counts()"
   ]
  },
  {
   "cell_type": "code",
   "execution_count": 25,
   "metadata": {
    "ExecuteTime": {
     "end_time": "2022-02-23T16:22:55.197904Z",
     "start_time": "2022-02-23T16:22:55.184841Z"
    }
   },
   "outputs": [
    {
     "data": {
      "text/plain": [
       "0    1160\n",
       "1      45\n",
       "Name: 공휴일후, dtype: int64"
      ]
     },
     "execution_count": 25,
     "metadata": {},
     "output_type": "execute_result"
    }
   ],
   "source": [
    "train.공휴일후.value_counts()"
   ]
  },
  {
   "cell_type": "code",
   "execution_count": 26,
   "metadata": {
    "ExecuteTime": {
     "end_time": "2022-02-23T16:22:55.212996Z",
     "start_time": "2022-02-23T16:22:55.201844Z"
    }
   },
   "outputs": [
    {
     "data": {
      "text/plain": [
       "공휴일전    41\n",
       "공휴일후    45\n",
       "dtype: int64"
      ]
     },
     "execution_count": 26,
     "metadata": {},
     "output_type": "execute_result"
    }
   ],
   "source": [
    "train.loc[:,['공휴일전', '공휴일후']].sum()"
   ]
  },
  {
   "cell_type": "code",
   "execution_count": 27,
   "metadata": {
    "ExecuteTime": {
     "end_time": "2022-02-23T16:22:55.227969Z",
     "start_time": "2022-02-23T16:22:55.217012Z"
    }
   },
   "outputs": [
    {
     "data": {
      "text/plain": [
       "공휴일전    1\n",
       "공휴일후    1\n",
       "dtype: int64"
      ]
     },
     "execution_count": 27,
     "metadata": {},
     "output_type": "execute_result"
    }
   ],
   "source": [
    "test.loc[:,['공휴일전', '공휴일후']].sum()"
   ]
  },
  {
   "cell_type": "markdown",
   "metadata": {},
   "source": [
    "## 파생변수"
   ]
  },
  {
   "cell_type": "code",
   "execution_count": 28,
   "metadata": {
    "ExecuteTime": {
     "end_time": "2022-02-23T16:22:55.243244Z",
     "start_time": "2022-02-23T16:22:55.230973Z"
    }
   },
   "outputs": [],
   "source": [
    "train.일자 = train.일자.astype('datetime64')\n",
    "test.일자 = test.일자.astype('datetime64')"
   ]
  },
  {
   "cell_type": "code",
   "execution_count": 29,
   "metadata": {
    "ExecuteTime": {
     "end_time": "2022-02-23T16:22:55.273919Z",
     "start_time": "2022-02-23T16:22:55.245208Z"
    }
   },
   "outputs": [],
   "source": [
    "train['월'] = train.일자.dt.month\n",
    "train['일'] = train.일자.dt.day\n",
    "train['년'] = train.일자.dt.year\n",
    "\n",
    "test['월'] = test.일자.dt.month\n",
    "test['일'] = test.일자.dt.day\n",
    "test['년'] = test.일자.dt.year"
   ]
  },
  {
   "cell_type": "code",
   "execution_count": 30,
   "metadata": {
    "ExecuteTime": {
     "end_time": "2022-02-23T16:22:55.304186Z",
     "start_time": "2022-02-23T16:22:55.276661Z"
    }
   },
   "outputs": [],
   "source": [
    "train['식사가능자수'] = train['본사정원수'] - train['본사출장자수'] - train['본사휴가자수'] - train['현본사소속재택근무자수']\n",
    "test['식사가능자수'] = test['본사정원수'] - test['본사출장자수'] - test['본사휴가자수'] - test['현본사소속재택근무자수']\n",
    "\n",
    "# train['휴가비율'] = train['본사휴가자수']/train['본사정원수']\n",
    "# test['휴가비율'] = test['본사휴가자수']/test['본사정원수']\n",
    "\n",
    "# train['출장비율'] = train['본사출장자수']/train['본사정원수']\n",
    "# test['출장비율'] = test['본사출장자수']/test['본사정원수']\n",
    "\n",
    "train['야근비율'] = train['본사시간외근무명령서승인건수']/train['식사가능자수']\n",
    "test['야근비율'] = test['본사시간외근무명령서승인건수']/test['식사가능자수']\n",
    "\n",
    "# train['재택비율'] = train['현본사소속재택근무자수']/train['본사정원수']\n",
    "# test['재택비율'] = test['현본사소속재택근무자수']/test['본사정원수']"
   ]
  },
  {
   "cell_type": "code",
   "execution_count": 31,
   "metadata": {
    "ExecuteTime": {
     "end_time": "2022-02-23T16:22:55.319116Z",
     "start_time": "2022-02-23T16:22:55.307115Z"
    }
   },
   "outputs": [
    {
     "data": {
      "text/html": [
       "<div>\n",
       "<style scoped>\n",
       "    .dataframe tbody tr th:only-of-type {\n",
       "        vertical-align: middle;\n",
       "    }\n",
       "\n",
       "    .dataframe tbody tr th {\n",
       "        vertical-align: top;\n",
       "    }\n",
       "\n",
       "    .dataframe thead th {\n",
       "        text-align: right;\n",
       "    }\n",
       "</style>\n",
       "<table border=\"1\" class=\"dataframe\">\n",
       "  <thead>\n",
       "    <tr style=\"text-align: right;\">\n",
       "      <th></th>\n",
       "      <th>일자</th>\n",
       "      <th>요일</th>\n",
       "      <th>석식메뉴</th>\n",
       "    </tr>\n",
       "  </thead>\n",
       "  <tbody>\n",
       "  </tbody>\n",
       "</table>\n",
       "</div>"
      ],
      "text/plain": [
       "Empty DataFrame\n",
       "Columns: [일자, 요일, 석식메뉴]\n",
       "Index: []"
      ]
     },
     "execution_count": 31,
     "metadata": {},
     "output_type": "execute_result"
    }
   ],
   "source": [
    "train.loc[train.중식계==0,['일자','요일','석식메뉴']]\n",
    "# 중식 = 0 인 날 없음"
   ]
  },
  {
   "cell_type": "code",
   "execution_count": 32,
   "metadata": {
    "ExecuteTime": {
     "end_time": "2022-02-23T16:22:55.349105Z",
     "start_time": "2022-02-23T16:22:55.322115Z"
    },
    "scrolled": true
   },
   "outputs": [
    {
     "data": {
      "text/html": [
       "<div>\n",
       "<style scoped>\n",
       "    .dataframe tbody tr th:only-of-type {\n",
       "        vertical-align: middle;\n",
       "    }\n",
       "\n",
       "    .dataframe tbody tr th {\n",
       "        vertical-align: top;\n",
       "    }\n",
       "\n",
       "    .dataframe thead th {\n",
       "        text-align: right;\n",
       "    }\n",
       "</style>\n",
       "<table border=\"1\" class=\"dataframe\">\n",
       "  <thead>\n",
       "    <tr style=\"text-align: right;\">\n",
       "      <th></th>\n",
       "      <th>일자</th>\n",
       "      <th>요일</th>\n",
       "      <th>석식메뉴</th>\n",
       "    </tr>\n",
       "  </thead>\n",
       "  <tbody>\n",
       "    <tr>\n",
       "      <th>204</th>\n",
       "      <td>2016-11-30</td>\n",
       "      <td>수</td>\n",
       "      <td>*</td>\n",
       "    </tr>\n",
       "    <tr>\n",
       "      <th>224</th>\n",
       "      <td>2016-12-28</td>\n",
       "      <td>수</td>\n",
       "      <td>*</td>\n",
       "    </tr>\n",
       "    <tr>\n",
       "      <th>244</th>\n",
       "      <td>2017-01-25</td>\n",
       "      <td>수</td>\n",
       "      <td>*</td>\n",
       "    </tr>\n",
       "    <tr>\n",
       "      <th>262</th>\n",
       "      <td>2017-02-22</td>\n",
       "      <td>수</td>\n",
       "      <td>*</td>\n",
       "    </tr>\n",
       "    <tr>\n",
       "      <th>281</th>\n",
       "      <td>2017-03-22</td>\n",
       "      <td>수</td>\n",
       "      <td>*</td>\n",
       "    </tr>\n",
       "    <tr>\n",
       "      <th>306</th>\n",
       "      <td>2017-04-26</td>\n",
       "      <td>수</td>\n",
       "      <td>*</td>\n",
       "    </tr>\n",
       "    <tr>\n",
       "      <th>327</th>\n",
       "      <td>2017-05-31</td>\n",
       "      <td>수</td>\n",
       "      <td>자기계발의날</td>\n",
       "    </tr>\n",
       "    <tr>\n",
       "      <th>346</th>\n",
       "      <td>2017-06-28</td>\n",
       "      <td>수</td>\n",
       "      <td>*자기계발의날*</td>\n",
       "    </tr>\n",
       "    <tr>\n",
       "      <th>366</th>\n",
       "      <td>2017-07-26</td>\n",
       "      <td>수</td>\n",
       "      <td>가정의날</td>\n",
       "    </tr>\n",
       "    <tr>\n",
       "      <th>392</th>\n",
       "      <td>2017-09-01</td>\n",
       "      <td>금</td>\n",
       "      <td>*</td>\n",
       "    </tr>\n",
       "    <tr>\n",
       "      <th>410</th>\n",
       "      <td>2017-09-27</td>\n",
       "      <td>수</td>\n",
       "      <td>쌀밥/잡곡밥 (쌀:국내산) 된장찌개  미니함박조림  계란말이  비름나물  포기김치 ...</td>\n",
       "    </tr>\n",
       "    <tr>\n",
       "      <th>412</th>\n",
       "      <td>2017-09-29</td>\n",
       "      <td>금</td>\n",
       "      <td>*</td>\n",
       "    </tr>\n",
       "    <tr>\n",
       "      <th>424</th>\n",
       "      <td>2017-10-25</td>\n",
       "      <td>수</td>\n",
       "      <td>*</td>\n",
       "    </tr>\n",
       "    <tr>\n",
       "      <th>449</th>\n",
       "      <td>2017-11-29</td>\n",
       "      <td>수</td>\n",
       "      <td>*</td>\n",
       "    </tr>\n",
       "    <tr>\n",
       "      <th>468</th>\n",
       "      <td>2017-12-27</td>\n",
       "      <td>수</td>\n",
       "      <td>*</td>\n",
       "    </tr>\n",
       "    <tr>\n",
       "      <th>492</th>\n",
       "      <td>2018-01-31</td>\n",
       "      <td>수</td>\n",
       "      <td>*</td>\n",
       "    </tr>\n",
       "    <tr>\n",
       "      <th>502</th>\n",
       "      <td>2018-02-14</td>\n",
       "      <td>수</td>\n",
       "      <td>쌀밥/잡곡밥 (쌀:국내산) 쇠고기무국  고추잡채*꽃빵  계란찜  오이무침  포기김치...</td>\n",
       "    </tr>\n",
       "    <tr>\n",
       "      <th>510</th>\n",
       "      <td>2018-02-28</td>\n",
       "      <td>수</td>\n",
       "      <td>*</td>\n",
       "    </tr>\n",
       "    <tr>\n",
       "      <th>529</th>\n",
       "      <td>2018-03-28</td>\n",
       "      <td>수</td>\n",
       "      <td>*</td>\n",
       "    </tr>\n",
       "    <tr>\n",
       "      <th>549</th>\n",
       "      <td>2018-04-25</td>\n",
       "      <td>수</td>\n",
       "      <td></td>\n",
       "    </tr>\n",
       "    <tr>\n",
       "      <th>571</th>\n",
       "      <td>2018-05-30</td>\n",
       "      <td>수</td>\n",
       "      <td></td>\n",
       "    </tr>\n",
       "    <tr>\n",
       "      <th>589</th>\n",
       "      <td>2018-06-27</td>\n",
       "      <td>수</td>\n",
       "      <td>*</td>\n",
       "    </tr>\n",
       "    <tr>\n",
       "      <th>609</th>\n",
       "      <td>2018-07-25</td>\n",
       "      <td>수</td>\n",
       "      <td></td>\n",
       "    </tr>\n",
       "    <tr>\n",
       "      <th>633</th>\n",
       "      <td>2018-08-29</td>\n",
       "      <td>수</td>\n",
       "      <td>*</td>\n",
       "    </tr>\n",
       "    <tr>\n",
       "      <th>648</th>\n",
       "      <td>2018-09-19</td>\n",
       "      <td>수</td>\n",
       "      <td></td>\n",
       "    </tr>\n",
       "    <tr>\n",
       "      <th>667</th>\n",
       "      <td>2018-10-31</td>\n",
       "      <td>수</td>\n",
       "      <td>자기계발의날</td>\n",
       "    </tr>\n",
       "    <tr>\n",
       "      <th>687</th>\n",
       "      <td>2018-11-28</td>\n",
       "      <td>수</td>\n",
       "      <td>*</td>\n",
       "    </tr>\n",
       "    <tr>\n",
       "      <th>706</th>\n",
       "      <td>2018-12-26</td>\n",
       "      <td>수</td>\n",
       "      <td>자기계발의날</td>\n",
       "    </tr>\n",
       "    <tr>\n",
       "      <th>730</th>\n",
       "      <td>2019-01-30</td>\n",
       "      <td>수</td>\n",
       "      <td>자기개발의날</td>\n",
       "    </tr>\n",
       "    <tr>\n",
       "      <th>747</th>\n",
       "      <td>2019-02-27</td>\n",
       "      <td>수</td>\n",
       "      <td>*  자기계발의날  *</td>\n",
       "    </tr>\n",
       "    <tr>\n",
       "      <th>766</th>\n",
       "      <td>2019-03-27</td>\n",
       "      <td>수</td>\n",
       "      <td>*  자기개발의날  *</td>\n",
       "    </tr>\n",
       "    <tr>\n",
       "      <th>786</th>\n",
       "      <td>2019-04-24</td>\n",
       "      <td>수</td>\n",
       "      <td>*  자기계발의날  *</td>\n",
       "    </tr>\n",
       "    <tr>\n",
       "      <th>809</th>\n",
       "      <td>2019-05-29</td>\n",
       "      <td>수</td>\n",
       "      <td>*  자기개발의날  *</td>\n",
       "    </tr>\n",
       "    <tr>\n",
       "      <th>828</th>\n",
       "      <td>2019-06-26</td>\n",
       "      <td>수</td>\n",
       "      <td>*  자기개발의날  *</td>\n",
       "    </tr>\n",
       "    <tr>\n",
       "      <th>853</th>\n",
       "      <td>2019-07-31</td>\n",
       "      <td>수</td>\n",
       "      <td>자기계발의날</td>\n",
       "    </tr>\n",
       "    <tr>\n",
       "      <th>872</th>\n",
       "      <td>2019-08-28</td>\n",
       "      <td>수</td>\n",
       "      <td>*</td>\n",
       "    </tr>\n",
       "    <tr>\n",
       "      <th>890</th>\n",
       "      <td>2019-09-25</td>\n",
       "      <td>수</td>\n",
       "      <td>*</td>\n",
       "    </tr>\n",
       "    <tr>\n",
       "      <th>912</th>\n",
       "      <td>2019-10-30</td>\n",
       "      <td>수</td>\n",
       "      <td>*</td>\n",
       "    </tr>\n",
       "    <tr>\n",
       "      <th>932</th>\n",
       "      <td>2019-11-27</td>\n",
       "      <td>수</td>\n",
       "      <td>*</td>\n",
       "    </tr>\n",
       "    <tr>\n",
       "      <th>955</th>\n",
       "      <td>2019-12-31</td>\n",
       "      <td>화</td>\n",
       "      <td>*</td>\n",
       "    </tr>\n",
       "    <tr>\n",
       "      <th>973</th>\n",
       "      <td>2020-01-29</td>\n",
       "      <td>수</td>\n",
       "      <td>자기개발의날</td>\n",
       "    </tr>\n",
       "    <tr>\n",
       "      <th>993</th>\n",
       "      <td>2020-02-26</td>\n",
       "      <td>수</td>\n",
       "      <td>자기개발의날</td>\n",
       "    </tr>\n",
       "    <tr>\n",
       "      <th>1166</th>\n",
       "      <td>2020-11-25</td>\n",
       "      <td>수</td>\n",
       "      <td>＜자기 계발의 날＞</td>\n",
       "    </tr>\n",
       "  </tbody>\n",
       "</table>\n",
       "</div>"
      ],
      "text/plain": [
       "             일자 요일                                               석식메뉴\n",
       "204  2016-11-30  수                                          *        \n",
       "224  2016-12-28  수                                          *        \n",
       "244  2017-01-25  수                                           *       \n",
       "262  2017-02-22  수                                          *        \n",
       "281  2017-03-22  수                                          *        \n",
       "306  2017-04-26  수                                          *        \n",
       "327  2017-05-31  수                                       자기계발의날      \n",
       "346  2017-06-28  수                                     *자기계발의날*      \n",
       "366  2017-07-26  수                                         가정의날      \n",
       "392  2017-09-01  금                                          *        \n",
       "410  2017-09-27  수  쌀밥/잡곡밥 (쌀:국내산) 된장찌개  미니함박조림  계란말이  비름나물  포기김치 ...\n",
       "412  2017-09-29  금                                          *        \n",
       "424  2017-10-25  수                                          *        \n",
       "449  2017-11-29  수                                          *        \n",
       "468  2017-12-27  수                                          *        \n",
       "492  2018-01-31  수                                          *        \n",
       "502  2018-02-14  수  쌀밥/잡곡밥 (쌀:국내산) 쇠고기무국  고추잡채*꽃빵  계란찜  오이무침  포기김치...\n",
       "510  2018-02-28  수                                          *        \n",
       "529  2018-03-28  수                                            *      \n",
       "549  2018-04-25  수                                                   \n",
       "571  2018-05-30  수                                                   \n",
       "589  2018-06-27  수                                           *       \n",
       "609  2018-07-25  수                                                   \n",
       "633  2018-08-29  수                                          *        \n",
       "648  2018-09-19  수                                                   \n",
       "667  2018-10-31  수                                     자기계발의날        \n",
       "687  2018-11-28  수                                          *        \n",
       "706  2018-12-26  수                                     자기계발의날        \n",
       "730  2019-01-30  수                                     자기개발의날        \n",
       "747  2019-02-27  수                                   *  자기계발의날  *    \n",
       "766  2019-03-27  수                                   *  자기개발의날  *    \n",
       "786  2019-04-24  수                                   *  자기계발의날  *    \n",
       "809  2019-05-29  수                                   *  자기개발의날  *    \n",
       "828  2019-06-26  수                                  *  자기개발의날  *     \n",
       "853  2019-07-31  수                                     자기계발의날        \n",
       "872  2019-08-28  수                                          *        \n",
       "890  2019-09-25  수                                          *        \n",
       "912  2019-10-30  수                                          *        \n",
       "932  2019-11-27  수                                          *        \n",
       "955  2019-12-31  화                                          *        \n",
       "973  2020-01-29  수                                     자기개발의날        \n",
       "993  2020-02-26  수                                     자기개발의날        \n",
       "1166 2020-11-25  수                                   ＜자기 계발의 날＞      "
      ]
     },
     "execution_count": 32,
     "metadata": {},
     "output_type": "execute_result"
    }
   ],
   "source": [
    "train.loc[train.석식계==0,['일자','요일','석식메뉴']]\n",
    "# 마지막주(4주차도 있고 5주차도 있는거보면 애매) 수요일\n",
    "# 17-9-29: 추석 전 금요일\n",
    "# 18-2-14: 설날 전 수요일\n",
    "# 18-9-19: 다음주 수요일이 추석이라서 마지막주 수요일이긴 함\n",
    "# 19-12-31: 마지막주 수요일이 성탄절, 다음날이 설날이라서 이때 안하는듯"
   ]
  },
  {
   "cell_type": "code",
   "execution_count": 33,
   "metadata": {
    "ExecuteTime": {
     "end_time": "2022-02-23T16:22:55.380103Z",
     "start_time": "2022-02-23T16:22:55.350995Z"
    },
    "scrolled": true
   },
   "outputs": [
    {
     "data": {
      "text/html": [
       "<div>\n",
       "<style scoped>\n",
       "    .dataframe tbody tr th:only-of-type {\n",
       "        vertical-align: middle;\n",
       "    }\n",
       "\n",
       "    .dataframe tbody tr th {\n",
       "        vertical-align: top;\n",
       "    }\n",
       "\n",
       "    .dataframe thead th {\n",
       "        text-align: right;\n",
       "    }\n",
       "</style>\n",
       "<table border=\"1\" class=\"dataframe\">\n",
       "  <thead>\n",
       "    <tr style=\"text-align: right;\">\n",
       "      <th></th>\n",
       "      <th>일자</th>\n",
       "      <th>요일</th>\n",
       "      <th>석식메뉴</th>\n",
       "    </tr>\n",
       "  </thead>\n",
       "  <tbody>\n",
       "    <tr>\n",
       "      <th>0</th>\n",
       "      <td>2021-01-27</td>\n",
       "      <td>수</td>\n",
       "      <td>흑미밥 얼큰순두부찌개 쇠고기우엉볶음 버섯햄볶음 (New)아삭이고추무절임 포기김치</td>\n",
       "    </tr>\n",
       "    <tr>\n",
       "      <th>1</th>\n",
       "      <td>2021-01-28</td>\n",
       "      <td>목</td>\n",
       "      <td>충무김밥 우동국물 오징어무침 꽃맛살샐러드 얼갈이쌈장무침 석박지</td>\n",
       "    </tr>\n",
       "    <tr>\n",
       "      <th>2</th>\n",
       "      <td>2021-01-29</td>\n",
       "      <td>금</td>\n",
       "      <td>흑미밥 물만둣국 카레찜닭 숯불양념꼬지어묵 꼬시래기무침 포기김치</td>\n",
       "    </tr>\n",
       "    <tr>\n",
       "      <th>3</th>\n",
       "      <td>2021-02-01</td>\n",
       "      <td>월</td>\n",
       "      <td>흑미밥 동태탕 돈육꽈리고추장조림 당면채소무침 모자반무침 포기김치</td>\n",
       "    </tr>\n",
       "    <tr>\n",
       "      <th>4</th>\n",
       "      <td>2021-02-02</td>\n",
       "      <td>화</td>\n",
       "      <td>흑미밥 바지락살국 쇠고기청경채볶음 두부구이*볶은김치 머위된장무침 백김치</td>\n",
       "    </tr>\n",
       "    <tr>\n",
       "      <th>5</th>\n",
       "      <td>2021-02-03</td>\n",
       "      <td>수</td>\n",
       "      <td>오므라이스 가쓰오장국 빌소세지구이*구운채소 단감치커리무침 양념고추지 겉절이김치</td>\n",
       "    </tr>\n",
       "    <tr>\n",
       "      <th>6</th>\n",
       "      <td>2021-02-04</td>\n",
       "      <td>목</td>\n",
       "      <td>흑미밥 계란파국 돈육두루치기 감자채파프리카볶음 세발나물오리엔탈무침 포기김치</td>\n",
       "    </tr>\n",
       "    <tr>\n",
       "      <th>7</th>\n",
       "      <td>2021-02-05</td>\n",
       "      <td>금</td>\n",
       "      <td>유부초밥/추가밥 온메밀소바 국물떡볶이 순대찜*소금 청경채겉절이 포기김치</td>\n",
       "    </tr>\n",
       "    <tr>\n",
       "      <th>8</th>\n",
       "      <td>2021-02-08</td>\n",
       "      <td>월</td>\n",
       "      <td>흑미밥 냉이국 반반치킨 꼬막채소무침 청경채찜 포기김치</td>\n",
       "    </tr>\n",
       "    <tr>\n",
       "      <th>9</th>\n",
       "      <td>2021-02-09</td>\n",
       "      <td>화</td>\n",
       "      <td>흑미밥 미역국 매운소불고기 단호박두부탕수 메추리알장조림 석박지</td>\n",
       "    </tr>\n",
       "    <tr>\n",
       "      <th>10</th>\n",
       "      <td>2021-02-10</td>\n",
       "      <td>수</td>\n",
       "      <td>흑미밥 참치김치찌개 오징어굴소스볶음 차돌비빔국수 건새우무나물 포기김치</td>\n",
       "    </tr>\n",
       "    <tr>\n",
       "      <th>11</th>\n",
       "      <td>2021-02-15</td>\n",
       "      <td>월</td>\n",
       "      <td>흑미밥 순두부백탕 수제치킨까스 쫄면채소무침 얼갈이나물 포기김치</td>\n",
       "    </tr>\n",
       "    <tr>\n",
       "      <th>12</th>\n",
       "      <td>2021-02-16</td>\n",
       "      <td>화</td>\n",
       "      <td>흑미밥 손수제비국 쇠고기낙지볶음 카레홍합찜 쑥갓나물 포기김치</td>\n",
       "    </tr>\n",
       "    <tr>\n",
       "      <th>13</th>\n",
       "      <td>2021-02-17</td>\n",
       "      <td>수</td>\n",
       "      <td>곤드레밥 황태국 찰떡떡갈비조림 계란후라이 재래김*달래양념장 무생채</td>\n",
       "    </tr>\n",
       "    <tr>\n",
       "      <th>14</th>\n",
       "      <td>2021-02-18</td>\n",
       "      <td>목</td>\n",
       "      <td>흑미밥 바지락된장찌개 제육볶음 양배추숙*쌈장 노가리고추조림 겉절이김치</td>\n",
       "    </tr>\n",
       "    <tr>\n",
       "      <th>15</th>\n",
       "      <td>2021-02-19</td>\n",
       "      <td>금</td>\n",
       "      <td>흑미밥 버섯들깨탕 아귀콩나물찜 콤비네이션피자 돌나물&amp;된장소스 포기김치</td>\n",
       "    </tr>\n",
       "    <tr>\n",
       "      <th>16</th>\n",
       "      <td>2021-02-22</td>\n",
       "      <td>월</td>\n",
       "      <td>흑미밥 동태알탕 깐풍육 고사리볶음 오이무침 포기김치</td>\n",
       "    </tr>\n",
       "    <tr>\n",
       "      <th>17</th>\n",
       "      <td>2021-02-23</td>\n",
       "      <td>화</td>\n",
       "      <td>흑미밥 쇠고기무국 춘전닭갈비 뉴욕핫도그 유채나물된장무침 포기김치</td>\n",
       "    </tr>\n",
       "    <tr>\n",
       "      <th>18</th>\n",
       "      <td>2021-02-24</td>\n",
       "      <td>수</td>\n",
       "      <td>애플카레라이스 팽이장국 가지탕수 소떡소떡 오복지무침 포기김치</td>\n",
       "    </tr>\n",
       "    <tr>\n",
       "      <th>19</th>\n",
       "      <td>2021-02-25</td>\n",
       "      <td>목</td>\n",
       "      <td>흑미밥 계란파국 쭈꾸미불고기 모둠채소전*장 씨앗콩자반 포기김치</td>\n",
       "    </tr>\n",
       "    <tr>\n",
       "      <th>20</th>\n",
       "      <td>2021-02-26</td>\n",
       "      <td>금</td>\n",
       "      <td>흑미밥 스팸김치찌개 삼치구이*와사비장 브로콜리깨소스무침 연근조림 포기김치</td>\n",
       "    </tr>\n",
       "    <tr>\n",
       "      <th>21</th>\n",
       "      <td>2021-03-02</td>\n",
       "      <td>화</td>\n",
       "      <td>흑미밥 냉이김칫국 해물우동볶음 날치알계란찜 솎음열무나물 포기김치</td>\n",
       "    </tr>\n",
       "    <tr>\n",
       "      <th>22</th>\n",
       "      <td>2021-03-03</td>\n",
       "      <td>수</td>\n",
       "      <td>흑미밥 (New)수제오떡탕 매운족발볶음 크래미오이보트샐러드 청경채나물 겉절이김치</td>\n",
       "    </tr>\n",
       "    <tr>\n",
       "      <th>23</th>\n",
       "      <td>2021-03-04</td>\n",
       "      <td>목</td>\n",
       "      <td>흑미밥 짬뽕국 쇠고기탕수 고추잡채*꽃빵 해초배무침 포기김치</td>\n",
       "    </tr>\n",
       "    <tr>\n",
       "      <th>24</th>\n",
       "      <td>2021-03-05</td>\n",
       "      <td>금</td>\n",
       "      <td>샐러드김밥 미소시루 라볶이 상추튀김(모둠튀김*양념장) 단무지채무침 포기김치</td>\n",
       "    </tr>\n",
       "    <tr>\n",
       "      <th>25</th>\n",
       "      <td>2021-03-08</td>\n",
       "      <td>월</td>\n",
       "      <td>흑미밥 달래된장찌개 코코뱅 고구마치즈구이 치커리무침 포기김치</td>\n",
       "    </tr>\n",
       "    <tr>\n",
       "      <th>26</th>\n",
       "      <td>2021-03-09</td>\n",
       "      <td>화</td>\n",
       "      <td>흑미밥 맑은콩나물국 돈육김치볶음 수제두부동그랑땡 유채나물무침 포기김치</td>\n",
       "    </tr>\n",
       "    <tr>\n",
       "      <th>27</th>\n",
       "      <td>2021-03-10</td>\n",
       "      <td>수</td>\n",
       "      <td>흑미밥 순두부백탕 낙지볶음 쇠고기들깨소스무침 쪽파무침 포기김치</td>\n",
       "    </tr>\n",
       "    <tr>\n",
       "      <th>28</th>\n",
       "      <td>2021-03-11</td>\n",
       "      <td>목</td>\n",
       "      <td>꽁보리밥*볶음고추장 닭칼국수 왕만두찜*양념장 버섯맛살볶음 양파장아찌 얼갈이열무겉절이</td>\n",
       "    </tr>\n",
       "    <tr>\n",
       "      <th>29</th>\n",
       "      <td>2021-03-12</td>\n",
       "      <td>금</td>\n",
       "      <td>흑미밥 뼈해장국 가자미유린기 매운감자조림 배추흑임자무침 포기김치</td>\n",
       "    </tr>\n",
       "    <tr>\n",
       "      <th>30</th>\n",
       "      <td>2021-03-15</td>\n",
       "      <td>월</td>\n",
       "      <td>해물짜장면 계란파국 사천탕수육 세발나물무침 짜사이볶음 포기김치</td>\n",
       "    </tr>\n",
       "    <tr>\n",
       "      <th>31</th>\n",
       "      <td>2021-03-16</td>\n",
       "      <td>화</td>\n",
       "      <td>흑미밥 사골파국*소면사리 매콤돈육메추리알장조림 명엽채볶음 참나물초장무침 포기김치</td>\n",
       "    </tr>\n",
       "    <tr>\n",
       "      <th>32</th>\n",
       "      <td>2021-03-17</td>\n",
       "      <td>수</td>\n",
       "      <td>흑미밥 김칫국 닭살채소굴소스볶음 애호박나물 알배기,케일숙쌈*쌈장 포기김치</td>\n",
       "    </tr>\n",
       "    <tr>\n",
       "      <th>33</th>\n",
       "      <td>2021-03-18</td>\n",
       "      <td>목</td>\n",
       "      <td>쇠고기규동덮밥 가쓰오장국 (New)피자핫도그 연근땅콩조림 청경채겉절이 포기김치</td>\n",
       "    </tr>\n",
       "    <tr>\n",
       "      <th>34</th>\n",
       "      <td>2021-03-19</td>\n",
       "      <td>금</td>\n",
       "      <td>흑미밥 부대찌개 삼치엿장구이 부추전 치커리사과무침 무생채</td>\n",
       "    </tr>\n",
       "    <tr>\n",
       "      <th>35</th>\n",
       "      <td>2021-03-22</td>\n",
       "      <td>월</td>\n",
       "      <td>흑미밥 순두부찌개 닭간장조림 매콤어묵볶음 미나리숙주나물 포기김치</td>\n",
       "    </tr>\n",
       "    <tr>\n",
       "      <th>36</th>\n",
       "      <td>2021-03-23</td>\n",
       "      <td>화</td>\n",
       "      <td>베이컨김치볶음밥 우동국물 알리오올리오 계란후라이 수제오이피클 포기김치</td>\n",
       "    </tr>\n",
       "    <tr>\n",
       "      <th>37</th>\n",
       "      <td>2021-03-24</td>\n",
       "      <td>수</td>\n",
       "      <td>흑미밥 맑은버섯국 오삼불고기 양상추, 쇠미역쌈*강된장 고들빼기무침 포기김치</td>\n",
       "    </tr>\n",
       "    <tr>\n",
       "      <th>38</th>\n",
       "      <td>2021-03-25</td>\n",
       "      <td>목</td>\n",
       "      <td>흑미밥 짬뽕수제비 생선까스*타르타르D 더덕무침 쑥갓무침 포기김치</td>\n",
       "    </tr>\n",
       "    <tr>\n",
       "      <th>39</th>\n",
       "      <td>2021-03-26</td>\n",
       "      <td>금</td>\n",
       "      <td>흑미밥/미니팥칼국수 차돌된장찌개 적어양념구이 미트볼채소볶음 오복지무침 포기김치</td>\n",
       "    </tr>\n",
       "    <tr>\n",
       "      <th>40</th>\n",
       "      <td>2021-03-29</td>\n",
       "      <td>월</td>\n",
       "      <td>셀프충무김밥 미소시루 오징어어묵무침 콩나물간장볶음 꽃맛살샐러드 포기김치</td>\n",
       "    </tr>\n",
       "    <tr>\n",
       "      <th>41</th>\n",
       "      <td>2021-03-30</td>\n",
       "      <td>화</td>\n",
       "      <td>오므라이스/추가밥 애호박새우젓국 빌소세지구이*구운채소 도토리묵채소무침 수제연근유자피...</td>\n",
       "    </tr>\n",
       "    <tr>\n",
       "      <th>42</th>\n",
       "      <td>2021-03-31</td>\n",
       "      <td>수</td>\n",
       "      <td>흑미밥 쇠고기무국 마파두부소스 납작군만두*장 참나물생채무침 포기김치</td>\n",
       "    </tr>\n",
       "    <tr>\n",
       "      <th>43</th>\n",
       "      <td>2021-04-01</td>\n",
       "      <td>목</td>\n",
       "      <td>흑미밥 미니우동 치킨까스김치나베 미나리전 양념고추지 열무김치</td>\n",
       "    </tr>\n",
       "    <tr>\n",
       "      <th>44</th>\n",
       "      <td>2021-04-02</td>\n",
       "      <td>금</td>\n",
       "      <td>흑미밥 근대국 코다리무조림 오꼬노미계란말이 상추무침 포기김치</td>\n",
       "    </tr>\n",
       "    <tr>\n",
       "      <th>45</th>\n",
       "      <td>2021-04-05</td>\n",
       "      <td>월</td>\n",
       "      <td>흑미밥 돈육고추장찌개 갈치구이 김치전 취나물무침 깍두기</td>\n",
       "    </tr>\n",
       "    <tr>\n",
       "      <th>46</th>\n",
       "      <td>2021-04-06</td>\n",
       "      <td>화</td>\n",
       "      <td>추가밥 짬뽕*생면 수제찹쌀꿔바로우 메추리알곤약장조림 단무지무침 포기김치</td>\n",
       "    </tr>\n",
       "    <tr>\n",
       "      <th>47</th>\n",
       "      <td>2021-04-07</td>\n",
       "      <td>수</td>\n",
       "      <td>단호박카레라이스 시금치된장국 소떡소떡 파프리카해초무침 감귤쥬스 포기김치</td>\n",
       "    </tr>\n",
       "    <tr>\n",
       "      <th>48</th>\n",
       "      <td>2021-04-08</td>\n",
       "      <td>목</td>\n",
       "      <td>흑미밥 어묵매운탕 쇠고기숙주볶음 채소계란찜 쑥갓생무침 김치볶음</td>\n",
       "    </tr>\n",
       "    <tr>\n",
       "      <th>49</th>\n",
       "      <td>2021-04-09</td>\n",
       "      <td>금</td>\n",
       "      <td>흑미밥 맑은버섯국 매운사태조림 춘권*타르타르D 열무나물무침 포기김치</td>\n",
       "    </tr>\n",
       "  </tbody>\n",
       "</table>\n",
       "</div>"
      ],
      "text/plain": [
       "           일자 요일                                               석식메뉴\n",
       "0  2021-01-27  수      흑미밥 얼큰순두부찌개 쇠고기우엉볶음 버섯햄볶음 (New)아삭이고추무절임 포기김치 \n",
       "1  2021-01-28  목                충무김밥 우동국물 오징어무침 꽃맛살샐러드 얼갈이쌈장무침 석박지 \n",
       "2  2021-01-29  금                흑미밥 물만둣국 카레찜닭 숯불양념꼬지어묵 꼬시래기무침 포기김치 \n",
       "3  2021-02-01  월               흑미밥 동태탕 돈육꽈리고추장조림 당면채소무침 모자반무침 포기김치 \n",
       "4  2021-02-02  화           흑미밥 바지락살국 쇠고기청경채볶음 두부구이*볶은김치 머위된장무침 백김치 \n",
       "5  2021-02-03  수       오므라이스 가쓰오장국 빌소세지구이*구운채소 단감치커리무침 양념고추지 겉절이김치 \n",
       "6  2021-02-04  목         흑미밥 계란파국 돈육두루치기 감자채파프리카볶음 세발나물오리엔탈무침 포기김치 \n",
       "7  2021-02-05  금           유부초밥/추가밥 온메밀소바 국물떡볶이 순대찜*소금 청경채겉절이 포기김치 \n",
       "8  2021-02-08  월                     흑미밥 냉이국 반반치킨 꼬막채소무침 청경채찜 포기김치 \n",
       "9  2021-02-09  화                흑미밥 미역국 매운소불고기 단호박두부탕수 메추리알장조림 석박지 \n",
       "10 2021-02-10  수            흑미밥 참치김치찌개 오징어굴소스볶음 차돌비빔국수 건새우무나물 포기김치 \n",
       "11 2021-02-15  월                흑미밥 순두부백탕 수제치킨까스 쫄면채소무침 얼갈이나물 포기김치 \n",
       "12 2021-02-16  화                 흑미밥 손수제비국 쇠고기낙지볶음 카레홍합찜 쑥갓나물 포기김치 \n",
       "13 2021-02-17  수              곤드레밥 황태국 찰떡떡갈비조림 계란후라이 재래김*달래양념장 무생채 \n",
       "14 2021-02-18  목            흑미밥 바지락된장찌개 제육볶음 양배추숙*쌈장 노가리고추조림 겉절이김치 \n",
       "15 2021-02-19  금            흑미밥 버섯들깨탕 아귀콩나물찜 콤비네이션피자 돌나물&된장소스 포기김치 \n",
       "16 2021-02-22  월                      흑미밥 동태알탕 깐풍육 고사리볶음 오이무침 포기김치 \n",
       "17 2021-02-23  화               흑미밥 쇠고기무국 춘전닭갈비 뉴욕핫도그 유채나물된장무침 포기김치 \n",
       "18 2021-02-24  수                 애플카레라이스 팽이장국 가지탕수 소떡소떡 오복지무침 포기김치 \n",
       "19 2021-02-25  목                흑미밥 계란파국 쭈꾸미불고기 모둠채소전*장 씨앗콩자반 포기김치 \n",
       "20 2021-02-26  금          흑미밥 스팸김치찌개 삼치구이*와사비장 브로콜리깨소스무침 연근조림 포기김치 \n",
       "21 2021-03-02  화               흑미밥 냉이김칫국 해물우동볶음 날치알계란찜 솎음열무나물 포기김치 \n",
       "22 2021-03-03  수      흑미밥 (New)수제오떡탕 매운족발볶음 크래미오이보트샐러드 청경채나물 겉절이김치 \n",
       "23 2021-03-04  목                  흑미밥 짬뽕국 쇠고기탕수 고추잡채*꽃빵 해초배무침 포기김치 \n",
       "24 2021-03-05  금         샐러드김밥 미소시루 라볶이 상추튀김(모둠튀김*양념장) 단무지채무침 포기김치 \n",
       "25 2021-03-08  월                 흑미밥 달래된장찌개 코코뱅 고구마치즈구이 치커리무침 포기김치 \n",
       "26 2021-03-09  화            흑미밥 맑은콩나물국 돈육김치볶음 수제두부동그랑땡 유채나물무침 포기김치 \n",
       "27 2021-03-10  수                흑미밥 순두부백탕 낙지볶음 쇠고기들깨소스무침 쪽파무침 포기김치 \n",
       "28 2021-03-11  목    꽁보리밥*볶음고추장 닭칼국수 왕만두찜*양념장 버섯맛살볶음 양파장아찌 얼갈이열무겉절이 \n",
       "29 2021-03-12  금               흑미밥 뼈해장국 가자미유린기 매운감자조림 배추흑임자무침 포기김치 \n",
       "30 2021-03-15  월                해물짜장면 계란파국 사천탕수육 세발나물무침 짜사이볶음 포기김치 \n",
       "31 2021-03-16  화      흑미밥 사골파국*소면사리 매콤돈육메추리알장조림 명엽채볶음 참나물초장무침 포기김치 \n",
       "32 2021-03-17  수          흑미밥 김칫국 닭살채소굴소스볶음 애호박나물 알배기,케일숙쌈*쌈장 포기김치 \n",
       "33 2021-03-18  목       쇠고기규동덮밥 가쓰오장국 (New)피자핫도그 연근땅콩조림 청경채겉절이 포기김치 \n",
       "34 2021-03-19  금                   흑미밥 부대찌개 삼치엿장구이 부추전 치커리사과무침 무생채 \n",
       "35 2021-03-22  월               흑미밥 순두부찌개 닭간장조림 매콤어묵볶음 미나리숙주나물 포기김치 \n",
       "36 2021-03-23  화            베이컨김치볶음밥 우동국물 알리오올리오 계란후라이 수제오이피클 포기김치 \n",
       "37 2021-03-24  수         흑미밥 맑은버섯국 오삼불고기 양상추, 쇠미역쌈*강된장 고들빼기무침 포기김치 \n",
       "38 2021-03-25  목               흑미밥 짬뽕수제비 생선까스*타르타르D 더덕무침 쑥갓무침 포기김치 \n",
       "39 2021-03-26  금       흑미밥/미니팥칼국수 차돌된장찌개 적어양념구이 미트볼채소볶음 오복지무침 포기김치 \n",
       "40 2021-03-29  월           셀프충무김밥 미소시루 오징어어묵무침 콩나물간장볶음 꽃맛살샐러드 포기김치 \n",
       "41 2021-03-30  화  오므라이스/추가밥 애호박새우젓국 빌소세지구이*구운채소 도토리묵채소무침 수제연근유자피...\n",
       "42 2021-03-31  수             흑미밥 쇠고기무국 마파두부소스 납작군만두*장 참나물생채무침 포기김치 \n",
       "43 2021-04-01  목                 흑미밥 미니우동 치킨까스김치나베 미나리전 양념고추지 열무김치 \n",
       "44 2021-04-02  금                 흑미밥 근대국 코다리무조림 오꼬노미계란말이 상추무침 포기김치 \n",
       "45 2021-04-05  월                    흑미밥 돈육고추장찌개 갈치구이 김치전 취나물무침 깍두기 \n",
       "46 2021-04-06  화           추가밥 짬뽕*생면 수제찹쌀꿔바로우 메추리알곤약장조림 단무지무침 포기김치 \n",
       "47 2021-04-07  수           단호박카레라이스 시금치된장국 소떡소떡 파프리카해초무침 감귤쥬스 포기김치 \n",
       "48 2021-04-08  목                흑미밥 어묵매운탕 쇠고기숙주볶음 채소계란찜 쑥갓생무침 김치볶음 \n",
       "49 2021-04-09  금             흑미밥 맑은버섯국 매운사태조림 춘권*타르타르D 열무나물무침 포기김치 "
      ]
     },
     "execution_count": 33,
     "metadata": {},
     "output_type": "execute_result"
    }
   ],
   "source": [
    "# test : 메뉴가 비워져있는 경우는 없음 -> 공휴일이 존재하긴함\n",
    "test.loc[:,['일자','요일','석식메뉴']]"
   ]
  },
  {
   "cell_type": "markdown",
   "metadata": {},
   "source": [
    "## 메뉴정리"
   ]
  },
  {
   "cell_type": "code",
   "execution_count": 34,
   "metadata": {
    "ExecuteTime": {
     "end_time": "2022-02-23T16:22:55.394933Z",
     "start_time": "2022-02-23T16:22:55.381933Z"
    }
   },
   "outputs": [
    {
     "data": {
      "text/plain": [
       "Index(['일자', '요일', '본사정원수', '본사휴가자수', '본사출장자수', '본사시간외근무명령서승인건수',\n",
       "       '현본사소속재택근무자수', '조식메뉴', '중식메뉴', '석식메뉴', '중식계', '석식계', '평균기온(°C)',\n",
       "       '일강수량(mm)', '확진자수', '공휴일전', '공휴일후', '월', '일', '년', '식사가능자수', '야근비율'],\n",
       "      dtype='object')"
      ]
     },
     "execution_count": 34,
     "metadata": {},
     "output_type": "execute_result"
    }
   ],
   "source": [
    "train.columns"
   ]
  },
  {
   "cell_type": "markdown",
   "metadata": {},
   "source": [
    "### 중식"
   ]
  },
  {
   "cell_type": "markdown",
   "metadata": {},
   "source": [
    "#### split"
   ]
  },
  {
   "cell_type": "code",
   "execution_count": 35,
   "metadata": {
    "ExecuteTime": {
     "end_time": "2022-02-23T16:22:55.410050Z",
     "start_time": "2022-02-23T16:22:55.396932Z"
    }
   },
   "outputs": [],
   "source": [
    "def split_menu(x):\n",
    "  menu_return = []  #return할 메뉴 데이터. 메뉴 스플릿 & 원산지 제외\n",
    "  for data in x:\n",
    "    menus = []              #전처리된 메뉴\n",
    "    menus_sp = data.split() #띄어쓰기 split\n",
    "    for menu_sp in menus_sp:\n",
    "      if '(' in menu_sp:\n",
    "        pass\n",
    "      elif ',' in menu_sp:  #comma split\n",
    "        menus_comma = menu_sp.split(',')\n",
    "        for menu_comma in menus_comma:\n",
    "          menus.append(menu_comma)\n",
    "      else:\n",
    "        menus.append(menu_sp)\n",
    "    menu_return.append(menus)\n",
    "  return menu_return"
   ]
  },
  {
   "cell_type": "code",
   "execution_count": 36,
   "metadata": {
    "ExecuteTime": {
     "end_time": "2022-02-23T16:22:55.424968Z",
     "start_time": "2022-02-23T16:22:55.412935Z"
    }
   },
   "outputs": [],
   "source": [
    "train['중식메뉴리스트'] = split_menu(train['중식메뉴'])"
   ]
  },
  {
   "cell_type": "markdown",
   "metadata": {},
   "source": [
    "#### 메뉴 종류별 구분\n"
   ]
  },
  {
   "cell_type": "code",
   "execution_count": 37,
   "metadata": {
    "ExecuteTime": {
     "end_time": "2022-02-23T16:22:55.561046Z",
     "start_time": "2022-02-23T16:22:55.426933Z"
    }
   },
   "outputs": [],
   "source": [
    "# 위에서 언급한 메인, 국, 반찬만 나누어주기\n",
    "lunch_menu = train['중식메뉴리스트']\n",
    "\n",
    "bob=[]\n",
    "soup=[]\n",
    "main=[]\n",
    "\n",
    "for i in range(len(train)):\n",
    "    if lunch_menu[i][0]:\n",
    "        bob.append(lunch_menu[i][0])\n",
    "    if lunch_menu[i][1]:\n",
    "        soup.append(lunch_menu[i][1])\n",
    "    if lunch_menu[i][2]:\n",
    "        main.append(lunch_menu[i][2])"
   ]
  },
  {
   "cell_type": "code",
   "execution_count": 38,
   "metadata": {
    "ExecuteTime": {
     "end_time": "2022-02-23T16:22:55.576243Z",
     "start_time": "2022-02-23T16:22:55.563891Z"
    }
   },
   "outputs": [
    {
     "name": "stdout",
     "output_type": "stream",
     "text": [
      "1205\n",
      "1205\n",
      "1205\n",
      "--\n",
      "1205\n"
     ]
    }
   ],
   "source": [
    "#누락이 있으면 안되므로 확인해주자\n",
    "\n",
    "print(len(bob))\n",
    "print(len(soup))\n",
    "print(len(main))\n",
    "print('--')\n",
    "print(len(train))"
   ]
  },
  {
   "cell_type": "code",
   "execution_count": 39,
   "metadata": {
    "ExecuteTime": {
     "end_time": "2022-02-23T16:22:55.606938Z",
     "start_time": "2022-02-23T16:22:55.578068Z"
    }
   },
   "outputs": [
    {
     "data": {
      "text/plain": [
       "['쌀밥/잡곡밥',\n",
       " '쌀밥/잡곡밥',\n",
       " '카레덮밥',\n",
       " '쌀밥/잡곡밥',\n",
       " '쌀밥/잡곡밥',\n",
       " '쌀밥/잡곡밥',\n",
       " '쌀밥/잡곡밥',\n",
       " '쌀밥/잡곡밥',\n",
       " '쌀밥/잡곡밥',\n",
       " '쌀밥/잡곡밥',\n",
       " '낙지비빔밥',\n",
       " '쌀밥/잡곡밥',\n",
       " '쌀밥/오곡밥',\n",
       " '쌀밥/잡곡밥',\n",
       " '비빔밥',\n",
       " '쌀밥/잡곡밥',\n",
       " '쌀밥/잡곡밥',\n",
       " '쌀밥/잡곡밥',\n",
       " '쌀밥/잡곡밥',\n",
       " '쌀밥/잡곡밥',\n",
       " '쌀밥/잡곡밥',\n",
       " '쌀밥/잡곡밥',\n",
       " '쌀밥/잡곡밥',\n",
       " '쌀밥/잡곡밥',\n",
       " '쌀밥/잡곡밥',\n",
       " '쌀밥/잡곡밥',\n",
       " '쌀밥/잡곡밥',\n",
       " '쌀밥/잡곡밥',\n",
       " '곤드레밥',\n",
       " '쌀밥/잡곡밥',\n",
       " '쌀밥/잡곡밥',\n",
       " '쌀밥/잡곡밥',\n",
       " '쌀밥/잡곡밥',\n",
       " '콩나물밥*달래장',\n",
       " '쌀밥/잡곡밥',\n",
       " '쌀밥/잡곡밥',\n",
       " '쌀밥/잡곡밥',\n",
       " '쌀밥/잡곡밥',\n",
       " '봄새싹비빔밥',\n",
       " '쌀밥/잡곡밥',\n",
       " '쌀밥/잡곡밥',\n",
       " '쌀밥/잡곡밥',\n",
       " '쌀밥/잡곡밥',\n",
       " '쌀밥/잡곡밥',\n",
       " '쌀밥/잡곡밥',\n",
       " '쌀밥/잡곡밥',\n",
       " '쌀밥/잡곡밥',\n",
       " '쌀밥/잡곡밥',\n",
       " '쌀밥/잡곡밥',\n",
       " '쌀밥/잡곡밥',\n",
       " '쌀밥/잡곡밥',\n",
       " '쌀밥/잡곡밥',\n",
       " '콩나물밥',\n",
       " '쌀밥/잡곡밥',\n",
       " '쌀밥/잡곡밥',\n",
       " '쌀밥/잡곡밥',\n",
       " '쌀밥/잡곡밥',\n",
       " '나물비빔밥',\n",
       " '쌀밥/잡곡밥',\n",
       " '쌀밥/잡곡밥',\n",
       " '쌀밥/잡곡밥',\n",
       " '곤드레밥',\n",
       " '쌀밥/잡곡밥',\n",
       " '쌀밥/잡곡밥',\n",
       " '쌀밥/잡곡밥',\n",
       " '단호박영양밥',\n",
       " '쌀밥/잡곡밥',\n",
       " '쌀밥/잡곡밥',\n",
       " '쌀밥/잡곡밥',\n",
       " '쌀밥/잡곡밥',\n",
       " '산채비빔밥',\n",
       " '쌀밥/잡곡밥',\n",
       " '쌀밥/잡곡밥',\n",
       " '쌀밥/잡곡밥',\n",
       " '쌀밥/잡곡밥',\n",
       " '낙지볶음밥',\n",
       " '쌀밥/잡곡밥',\n",
       " '쌀밥/잡곡밥',\n",
       " '쌀밥/잡곡밥',\n",
       " '쌀밥/잡곡밥',\n",
       " '열무비빔밥',\n",
       " '쌀밥/잡곡밥',\n",
       " '쌀밥/잡곡밥',\n",
       " '쌀밥/잡곡밥',\n",
       " '쌀밥/잡곡밥',\n",
       " '쌀밥/잡곡밥',\n",
       " '쌀밥/잡곡밥',\n",
       " '쌀밥/잡곡밥',\n",
       " '쌀밥/잡곡밥',\n",
       " '카레덮밥',\n",
       " '쌀밥/잡곡밥',\n",
       " '쌀밥/잡곡밥',\n",
       " '쌀밥/잡곡밥',\n",
       " '쌀밥/잡곡밥',\n",
       " '쌀밥/잡곡밥',\n",
       " '쌀밥/잡곡밥',\n",
       " '쌀밥/잡곡밥',\n",
       " '쌀밥/잡곡밥',\n",
       " '쌀밥/잡곡밥',\n",
       " '쌀밥/잡곡밥',\n",
       " '쌀밥/잡곡밥',\n",
       " '쌀밥/잡곡밥',\n",
       " '쌀밥/잡곡밥',\n",
       " '쌀밥/잡곡밥',\n",
       " '곤드레밥',\n",
       " '쌀밥/잡곡밥',\n",
       " '쌀밥/잡곡밥',\n",
       " '쌀밥/잡곡밥',\n",
       " '쌀밥/잡곡밥',\n",
       " '나물비빔밥',\n",
       " '쌀밥/잡곡밥',\n",
       " '쌀밥/잡곡밥',\n",
       " '쌀밥/잡곡밥',\n",
       " '쌀밥/잡곡밥',\n",
       " '쌀밥/잡곡밥',\n",
       " '쌀밥/잡곡밥',\n",
       " '참치회덮밥',\n",
       " '쌀밥/잡곡밥',\n",
       " '쌀밥/잡곡밥',\n",
       " '쌀밥/잡곡밥',\n",
       " '쌀밥/잡곡밥',\n",
       " '연복풍덮밥',\n",
       " '쌀밥/잡곡밥',\n",
       " '열무보리비빔밥',\n",
       " '쌀밥/잡곡밥',\n",
       " '쌀밥/잡곡밥',\n",
       " '쌀밥/잡곡밥',\n",
       " '쌀밥/잡곡밥',\n",
       " '쌀밥/잡곡밥',\n",
       " '쌀밥/잡곡밥',\n",
       " '쌀밥/잡곡밥',\n",
       " '불고기덮밥',\n",
       " '쌀밥/잡곡밥',\n",
       " '쌀밥/잡곡밥',\n",
       " '쌀밥/잡곡밥',\n",
       " '단호박영양밥',\n",
       " '쌀밥/잡곡밥',\n",
       " '쌀밥/잡곡밥',\n",
       " '쌀밥/잡곡밥',\n",
       " '쌀밥/잡곡밥',\n",
       " '쌀밥/잡곡밥',\n",
       " '쌀밥/잡곡밥',\n",
       " '쌀밥/잡곡밥',\n",
       " '낙지비빔밥',\n",
       " '쌀밥/잡곡밥',\n",
       " '쌀밥/잡곡밥',\n",
       " '쌀밥/잡곡밥',\n",
       " '쌀밥/잡곡밥',\n",
       " '곤드레밥',\n",
       " '쌀밥/잡곡밥',\n",
       " '쌀밥/잡곡밥',\n",
       " '쌀밥/잡곡밥',\n",
       " '쌀밥/잡곡밥',\n",
       " '쌀밥/잡곡밥',\n",
       " '쌀밥/잡곡밥',\n",
       " '열무비빔밥',\n",
       " '쌀밥/잡곡밥',\n",
       " '쌀밥/잡곡밥',\n",
       " '쌀밥/잡곡밥',\n",
       " '쌀밥/잡곡밥',\n",
       " '카레덮밥',\n",
       " '쌀밥/잡곡밥',\n",
       " '쌀밥/잡곡밥',\n",
       " '쌀밥/잡곡밥',\n",
       " '쌀밥/잡곡밥',\n",
       " '쌀밥/잡곡밥',\n",
       " '쌀밥/잡곡밥',\n",
       " '쌀밥/잡곡밥',\n",
       " '쌀밥/잡곡밥',\n",
       " '산채비빔밥*강된장',\n",
       " '쌀밥/잡곡밥',\n",
       " '쌀밥/잡곡밥',\n",
       " '쌀밥/잡곡밥',\n",
       " '쌀밥/잡곡밥',\n",
       " '쌀밥/잡곡밥',\n",
       " '쌀밥/잡곡밥',\n",
       " '짜장밥',\n",
       " '쌀밥/잡곡밥',\n",
       " '쌀밥/잡곡밥',\n",
       " '곤드레밥',\n",
       " '쌀밥/잡곡밥',\n",
       " '쌀밥/잡곡밥',\n",
       " '쌀밥/잡곡밥',\n",
       " '쌀밥/잡곡밥',\n",
       " '콩나물밥',\n",
       " '쌀밥/잡곡밥',\n",
       " '쌀밥/잡곡밥',\n",
       " '쌀밥/잡곡밥',\n",
       " '쌀밥/잡곡밥',\n",
       " '단호박영양밥',\n",
       " '쌀밥/잡곡밥',\n",
       " '쌀밥/잡곡밥',\n",
       " '쌀밥/잡곡밥',\n",
       " '쌀밥/잡곡밥',\n",
       " '버섯영양밥',\n",
       " '쌀밥/잡곡밥',\n",
       " '쌀밥/잡곡밥',\n",
       " '쌀밥/잡곡밥',\n",
       " '쌀밥/잡곡밥',\n",
       " '쌀밥/잡곡밥',\n",
       " '쌀밥/잡곡밥',\n",
       " '카레덮밥',\n",
       " '쌀밥/잡곡밥',\n",
       " '쌀밥/잡곡밥',\n",
       " '나물비빔밥',\n",
       " '쌀밥/잡곡밥',\n",
       " '쌀밥/잡곡밥',\n",
       " '쌀밥/잡곡밥',\n",
       " '쌀밥/잡곡밥',\n",
       " '짜장밥',\n",
       " '쌀밥/잡곡밥',\n",
       " '쌀밥/잡곡밥',\n",
       " '쌀밥/잡곡밥',\n",
       " '쌀밥/잡곡밥',\n",
       " '소불고기덮밥',\n",
       " '쌀밥/잡곡밥',\n",
       " '쌀밥/잡곡밥',\n",
       " '쌀밥/잡곡밥',\n",
       " '쌀밥/잡곡밥',\n",
       " '쌀밥/잡곡밥',\n",
       " '쌀밥/잡곡밥',\n",
       " '쌀밥/잡곡밥',\n",
       " '쌀밥/잡곡밥',\n",
       " '쌀밥/잡곡밥',\n",
       " '콩나물밥',\n",
       " '쌀밥/잡곡밥',\n",
       " '쌀밥/잡곡밥',\n",
       " '쌀밥/잡곡밥',\n",
       " '쌀밥/잡곡밥',\n",
       " '곤드레밥',\n",
       " '쌀밥/잡곡밥',\n",
       " '쌀밥/잡곡밥',\n",
       " '쌀밥/잡곡밥',\n",
       " '쌀밥/잡곡밥',\n",
       " '비빔밥',\n",
       " '쌀밥/잡곡밥',\n",
       " '쌀밥/잡곡밥',\n",
       " '쌀밥/잡곡밥',\n",
       " '쌀밥/잡곡밥',\n",
       " '쌀밥/잡곡밥',\n",
       " '쌀밥/잡곡밥',\n",
       " '쌀밥/잡곡밥',\n",
       " '쌀밥/잡곡밥',\n",
       " '쌀밥/잡곡밥',\n",
       " '카레덮밥',\n",
       " '쌀밥/잡곡밥',\n",
       " '쌀밥/잡곡밥',\n",
       " '쌀밥/잡곡밥',\n",
       " '쌀밥/잡곡밥',\n",
       " '쌀밥/잡곡밥',\n",
       " '쌀밥/잡곡밥',\n",
       " '쌀밥/잡곡밥',\n",
       " '콩나물밥',\n",
       " '쌀밥/잡곡밥',\n",
       " '오곡밥',\n",
       " '쌀밥/잡곡밥',\n",
       " '쌀밥/잡곡밥',\n",
       " '쌀밥/잡곡밥',\n",
       " '쌀밥/잡곡밥',\n",
       " '쌀밥/잡곡밥',\n",
       " '쌀밥/잡곡밥',\n",
       " '쌀밥/잡곡밥',\n",
       " '나물비빔밥',\n",
       " '쌀밥/잡곡밥',\n",
       " '쌀밥/잡곡밥',\n",
       " '쌀밥/잡곡밥',\n",
       " '쌀밥/잡곡밥',\n",
       " '쌀밥/잡곡밥',\n",
       " '카레덮밥',\n",
       " '쌀밥/잡곡밥',\n",
       " '쌀밥/잡곡밥',\n",
       " '곤드레밥*강된장',\n",
       " '쌀밥/잡곡밥',\n",
       " '쌀밥/잡곡밥',\n",
       " '쌀밥/잡곡밥',\n",
       " '쌀밥/잡곡밥',\n",
       " '쌀밥/잡곡밥',\n",
       " '쌀밥/잡곡밥',\n",
       " '쌀밥/잡곡밥',\n",
       " '쌀밥/잡곡밥',\n",
       " '쌀밥/잡곡밥',\n",
       " '쌀밥/잡곡밥',\n",
       " '쌀밥/잡곡밥',\n",
       " '쌀밥/잡곡밥',\n",
       " '쌀밥/잡곡밥',\n",
       " '쌀밥/잡곡밥',\n",
       " '봄나물비빔밥',\n",
       " '쌀밥/잡곡밥',\n",
       " '쌀밥/잡곡밥',\n",
       " '쌀밥/잡곡밥',\n",
       " '쌀밥/잡곡밥',\n",
       " '짜장밥',\n",
       " '쌀밥/잡곡밥',\n",
       " '쌀밥/잡곡밥',\n",
       " '쌀밥/잡곡밥',\n",
       " '쌀밥/잡곡밥',\n",
       " '쌀밥/잡곡밥',\n",
       " '쌀밥/잡곡밥',\n",
       " '쌀밥/잡곡밥',\n",
       " '쌀밥/잡곡밥',\n",
       " '쌀밥/잡곡밥',\n",
       " '곤드레밥',\n",
       " '쌀밥/잡곡밥',\n",
       " '쌀밥/잡곡밥',\n",
       " '쌀밥/잡곡밥',\n",
       " '쌀밥/잡곡밥',\n",
       " '비빔밥',\n",
       " '쌀밥/잡곡밥',\n",
       " '쌀밥/잡곡밥',\n",
       " '쌀밥/잡곡밥',\n",
       " '쌀밥/잡곡밥',\n",
       " '쌀밥/잡곡밥',\n",
       " '쌀밥/잡곡밥',\n",
       " '쌀밥/잡곡밥',\n",
       " '쌀밥/잡곡밥',\n",
       " '쌀밥/잡곡밥',\n",
       " '쌀밥/잡곡밥',\n",
       " '쌀밥/잡곡밥',\n",
       " '쌀밥/잡곡밥',\n",
       " '쌀밥/잡곡밥',\n",
       " '쌀밥/잡곡밥',\n",
       " '쌀밥/잡곡밥',\n",
       " '콩나물밥',\n",
       " '쌀밥/잡곡밥',\n",
       " '쌀밥/잡곡밥',\n",
       " '쌀밥/잡곡밥',\n",
       " '쌀밥/잡곡밥',\n",
       " '열무보리비빔밥',\n",
       " '쌀밥/잡곡밥',\n",
       " '쌀밥/잡곡밥',\n",
       " '쌀밥/잡곡밥',\n",
       " '쌀밥/잡곡밥',\n",
       " '쌀밥/잡곡밥',\n",
       " '쌀밥/잡곡밥',\n",
       " '쌀밥/잡곡밥',\n",
       " '쌀밥/잡곡밥',\n",
       " '곤드레밥*강된장',\n",
       " '쌀밥/잡곡밥',\n",
       " '쌀밥/잡곡밥',\n",
       " '쌀밥/잡곡밥',\n",
       " '쌀밥/잡곡밥',\n",
       " '카레라이스',\n",
       " '쌀밥/잡곡밥',\n",
       " '쌀밥/잡곡밥',\n",
       " '쌀밥/잡곡밥',\n",
       " '쌀밥/잡곡밥',\n",
       " '콩나물밥',\n",
       " '쌀밥/잡곡밥',\n",
       " '쌀밥/잡곡밥',\n",
       " '쌀밥/잡곡밥',\n",
       " '쌀밥/잡곡밥',\n",
       " '짜장덮밥',\n",
       " '쌀밥/잡곡밥',\n",
       " '쌀밥/잡곡밥',\n",
       " '쌀밥/잡곡밥',\n",
       " '쌀밥/잡곡밥',\n",
       " '<초복특식>',\n",
       " '쌀밥/잡곡밥',\n",
       " '쌀밥/잡곡밥',\n",
       " '쌀밥/잡곡밥',\n",
       " '쌀밥/잡곡밥',\n",
       " '김치제육덮밥',\n",
       " '쌀밥/잡곡밥',\n",
       " '쌀밥/잡곡밥',\n",
       " '쌀밥/잡곡밥',\n",
       " '쌀밥/잡곡밥',\n",
       " '나물비빔밥',\n",
       " '쌀밥/잡곡밥',\n",
       " '쌀밥/잡곡밥',\n",
       " '쌀밥/잡곡밥',\n",
       " '쌀밥/잡곡밥',\n",
       " '쌀밥/잡곡밥',\n",
       " '쌀밥/잡곡밥',\n",
       " '쌀밥/잡곡밥',\n",
       " '쌀밥/잡곡밥',\n",
       " '쌀밥/잡곡밥',\n",
       " '쌀밥/잡곡밥',\n",
       " '쌀밥/잡곡밥',\n",
       " '쌀밥/잡곡밥',\n",
       " '쌀밥/잡곡밥',\n",
       " '쌀밥/잡곡밥',\n",
       " '쌀밥/잡곡밥',\n",
       " '짜장밥',\n",
       " '쌀밥/잡곡밥',\n",
       " '쌀밥/잡곡밥',\n",
       " '곤드레밥*강된장',\n",
       " '쌀밥/잡곡밥',\n",
       " '쌀밥/잡곡밥',\n",
       " '쌀밥/잡곡밥',\n",
       " '쌀밥/잡곡밥',\n",
       " '산채비빔밥',\n",
       " '쌀밥/잡곡밥',\n",
       " '쌀밥/잡곡밥',\n",
       " '쌀밥/잡곡밥',\n",
       " '쌀밥/잡곡밥',\n",
       " '쌀밥/잡곡밥',\n",
       " '쌀밥/잡곡밥',\n",
       " '쌀밥/잡곡밥',\n",
       " '쌀밥/잡곡밥',\n",
       " '쌀밥/잡곡밥',\n",
       " '카레라이스',\n",
       " '쌀밥/잡곡밥',\n",
       " '쌀밥/잡곡밥',\n",
       " '쌀밥/잡곡밥',\n",
       " '쌀밥/잡곡밥',\n",
       " '콩나물밥',\n",
       " '쌀밥/잡곡밥',\n",
       " '쌀밥/잡곡밥',\n",
       " '쌀밥/잡곡밥',\n",
       " '쌀밥/잡곡밥',\n",
       " '쌀밥/잡곡밥',\n",
       " '쌀밥/잡곡밥',\n",
       " '쌀밥/잡곡밥',\n",
       " '쌀밥/잡곡밥',\n",
       " '쌀밥/잡곡밥',\n",
       " '쌀밥/잡곡밥',\n",
       " '쌀밥/잡곡밥',\n",
       " '쌀밥/잡곡밥',\n",
       " '쌀밥/잡곡밥',\n",
       " '쌀밥/잡곡밥',\n",
       " '쌀밥/잡곡밥',\n",
       " '쌀밥/잡곡밥',\n",
       " '쌀밥/잡곡밥',\n",
       " '쌀밥/잡곡밥',\n",
       " '곤드레밥*강된장',\n",
       " '쌀밥/잡곡밥',\n",
       " '쌀밥/잡곡밥',\n",
       " '쌀밥/잡곡밥',\n",
       " '쌀밥/잡곡밥',\n",
       " '카레덮밥',\n",
       " '쌀밥/잡곡밥',\n",
       " '쌀밥/잡곡밥',\n",
       " '쌀밥/잡곡밥',\n",
       " '쌀밥/잡곡밥',\n",
       " '콩나물밥',\n",
       " '쌀밥/잡곡밥',\n",
       " '쌀밥/잡곡밥',\n",
       " '쌀밥/잡곡밥',\n",
       " '쌀밥/잡곡밥',\n",
       " '곤드레밥*간장양념',\n",
       " '쌀밥/잡곡밥',\n",
       " '쌀밥/잡곡밥',\n",
       " '쌀밥/잡곡밥',\n",
       " '쌀밥/잡곡밥',\n",
       " '단호박영양밥',\n",
       " '쌀밥/잡곡밥',\n",
       " '쌀밥/잡곡밥',\n",
       " '쌀밥/잡곡밥',\n",
       " '쌀밥/잡곡밥',\n",
       " '나물비빔밥',\n",
       " '쌀밥/잡곡밥',\n",
       " '쌀밥/잡곡밥',\n",
       " '쌀밥/잡곡밥',\n",
       " '쌀밥/잡곡밥',\n",
       " '콩나물밥',\n",
       " '쌀밥/잡곡밥',\n",
       " '쌀밥/잡곡밥',\n",
       " '쌀밥/잡곡밥',\n",
       " '쌀밥/잡곡밥',\n",
       " '카레라이스',\n",
       " '쌀밥/잡곡밥',\n",
       " '쌀밥/잡곡밥',\n",
       " '쌀밥/잡곡밥',\n",
       " '쌀밥/잡곡밥',\n",
       " '쌀밥/잡곡밥',\n",
       " '쌀밥/잡곡밥',\n",
       " '쌀밥/잡곡밥',\n",
       " '쌀밥/잡곡밥',\n",
       " '쌀밥/잡곡밥',\n",
       " '쌀밥/잡곡밥',\n",
       " '쌀밥/잡곡밥',\n",
       " '쌀밥/잡곡밥',\n",
       " '곤드레밥*간장양념',\n",
       " '쌀밥/잡곡밥',\n",
       " '쌀밥/잡곡밥',\n",
       " '쌀밥/잡곡밥',\n",
       " '쌀밥/잡곡밥',\n",
       " '콩나물밥',\n",
       " '쌀밥/잡곡밥',\n",
       " '쌀밥/잡곡밥',\n",
       " '쌀밥/잡곡밥',\n",
       " '쌀밥/잡곡밥',\n",
       " '나물비빔밥',\n",
       " '쌀밥/잡곡밥',\n",
       " '쌀밥/잡곡밥',\n",
       " '쌀밥/잡곡밥',\n",
       " '쌀밥/잡곡밥',\n",
       " '짜장덮밥',\n",
       " '쌀밥/잡곡밥',\n",
       " '쌀밥/잡곡밥',\n",
       " '쌀밥/잡곡밥',\n",
       " '쌀밥/잡곡밥',\n",
       " '김치제육덮밥',\n",
       " '쌀밥/잡곡밥',\n",
       " '쌀밥/잡곡밥',\n",
       " '쌀밥/잡곡밥',\n",
       " '쌀밥/잡곡밥',\n",
       " '콩나물밥',\n",
       " '쌀밥/잡곡밥',\n",
       " '쌀밥/잡곡밥',\n",
       " '쌀밥/잡곡밥',\n",
       " '쌀밥/잡곡밥',\n",
       " '쌀밥/잡곡밥',\n",
       " '쌀밥/잡곡밥',\n",
       " '쌀밥/잡곡밥',\n",
       " '카레덮밥',\n",
       " '쌀밥/잡곡밥',\n",
       " '쌀밥/잡곡밥',\n",
       " '쌀밥/잡곡밥',\n",
       " '쌀밥/잡곡밥',\n",
       " '곤드레밥*강된장',\n",
       " '쌀밥/오곡밥',\n",
       " '쌀밥/잡곡밥',\n",
       " '쌀밥/잡곡밥',\n",
       " '콩나물밥',\n",
       " '쌀밥/잡곡밥',\n",
       " '쌀밥/잡곡밥',\n",
       " '쌀밥/잡곡밥',\n",
       " '쌀밥/잡곡밥',\n",
       " '쌀밥/잡곡밥',\n",
       " '쌀밥/잡곡밥',\n",
       " '쌀밥/잡곡밥',\n",
       " '쌀밥/잡곡밥',\n",
       " '쌀밥/잡곡밥',\n",
       " '쌀밥/잡곡밥',\n",
       " '쌀밥/잡곡밥',\n",
       " '쌀밥/잡곡밥',\n",
       " '쌀밥/잡곡밥',\n",
       " '쌀밥/잡곡밥',\n",
       " '단호박카레라이스',\n",
       " '쌀밥/잡곡밥',\n",
       " '쌀밥/잡곡밥',\n",
       " '쌀밥/잡곡밥',\n",
       " '쌀밥/잡곡밥',\n",
       " '곤드레밥*강된장',\n",
       " '쌀밥/잡곡밥',\n",
       " '쌀밥/잡곡밥',\n",
       " '쌀밥/잡곡밥',\n",
       " '쌀밥/잡곡밥',\n",
       " '쌀밥/잡곡밥',\n",
       " '쌀밥/잡곡밥',\n",
       " '쌀밥/잡곡밥',\n",
       " '쌀밥/잡곡밥',\n",
       " '쌀밥/잡곡밥',\n",
       " '콩나물밥',\n",
       " '쌀밥/잡곡밥',\n",
       " '쌀밥/잡곡밥',\n",
       " '쌀밥/잡곡밥',\n",
       " '쌀밥/잡곡밥',\n",
       " '비빔밥',\n",
       " '쌀밥/잡곡밥',\n",
       " '쌀밥/잡곡밥',\n",
       " '쌀밥/잡곡밥',\n",
       " '김치제육덮밥',\n",
       " '쌀밥/잡곡밥',\n",
       " '쌀밥/잡곡밥',\n",
       " '쌀밥/잡곡밥',\n",
       " '쌀밥/잡곡밥',\n",
       " '쌀밥/잡곡밥',\n",
       " '쌀밥/잡곡밥',\n",
       " '쌀밥/잡곡밥',\n",
       " '쌀밥/잡곡밥',\n",
       " '카레덮밥',\n",
       " '쌀밥/잡곡밥',\n",
       " '쌀밥/잡곡밥',\n",
       " '쌀밥/잡곡밥',\n",
       " '곤드레밥*강된장',\n",
       " '쌀밥/잡곡밥',\n",
       " '쌀밥/잡곡밥',\n",
       " '쌀밥/잡곡밥',\n",
       " '쌀밥/잡곡밥',\n",
       " '콩나물밥',\n",
       " '쌀밥/잡곡밥',\n",
       " '쌀밥/잡곡밥',\n",
       " '쌀밥/잡곡밥',\n",
       " '쌀밥/잡곡밥',\n",
       " '쌀밥/잡곡밥',\n",
       " '쌀밥/잡곡밥',\n",
       " '쌀밥/잡곡밥',\n",
       " '쌀밥/잡곡밥',\n",
       " '쌀밥/잡곡밥',\n",
       " '쌀밥/잡곡밥',\n",
       " '쌀밥/잡곡밥',\n",
       " '쌀밥/잡곡밥',\n",
       " '열무비빔밥',\n",
       " '쌀밥/잡곡밥',\n",
       " '쌀밥/잡곡밥',\n",
       " '쌀밥/잡곡밥',\n",
       " '쌀밥/잡곡밥',\n",
       " '카레덮밥',\n",
       " '쌀밥/잡곡밥',\n",
       " '쌀밥/잡곡밥',\n",
       " '쌀밥/잡곡밥',\n",
       " '쌀밥/잡곡밥',\n",
       " '곤드레밥*양념장',\n",
       " '쌀밥/잡곡밥',\n",
       " '쌀밥/잡곡밥',\n",
       " '쌀밥/잡곡밥',\n",
       " '쌀밥/잡곡밥',\n",
       " '나물비빔밥',\n",
       " '쌀밥/잡곡밥',\n",
       " '쌀밥/잡곡밥',\n",
       " '쌀밥/잡곡밥',\n",
       " '삼계탕',\n",
       " '콩나물밥',\n",
       " '쌀밥/잡곡밥',\n",
       " '쌀밥/잡곡밥',\n",
       " '쌀밥/잡곡밥',\n",
       " '쌀밥/잡곡밥',\n",
       " '쌀밥/잡곡밥',\n",
       " '쌀밥/잡곡밥',\n",
       " '쌀밥/잡곡밥',\n",
       " '쌀밥/잡곡밥',\n",
       " '쌀밥/잡곡밥',\n",
       " '카레덮밥',\n",
       " '쌀밥/잡곡밥',\n",
       " '쌀밥/잡곡밥',\n",
       " '쌀밥/잡곡밥',\n",
       " '쌀밥/잡곡밥',\n",
       " '열무보리비빔밥',\n",
       " '쌀밥/잡곡밥',\n",
       " '쌀밥/잡곡밥',\n",
       " '쌀밥/잡곡밥',\n",
       " '쌀밥/잡곡밥',\n",
       " '쌀밥/잡곡밥',\n",
       " '쌀밥/잡곡밥',\n",
       " '쌀밥/잡곡밥',\n",
       " '쌀밥/잡곡밥',\n",
       " '비빔밥',\n",
       " '쌀밥/잡곡밥',\n",
       " '쌀밥/잡곡밥',\n",
       " '쌀밥/잡곡밥',\n",
       " '쌀밥/잡곡밥',\n",
       " '콩나물밥',\n",
       " '쌀밥/잡곡밥',\n",
       " '쌀밥/잡곡밥',\n",
       " '쌀밥/잡곡밥',\n",
       " '쌀밥/잡곡밥',\n",
       " '김치제육덮밥',\n",
       " '쌀밥/잡곡밥',\n",
       " '쌀밥/잡곡밥',\n",
       " '쌀밥/잡곡밥',\n",
       " '쌀밥/잡곡밥',\n",
       " '소불고기덮밥',\n",
       " '쌀밥/잡곡밥',\n",
       " '쌀밥/잡곡밥',\n",
       " '쌀밥/잡곡밥',\n",
       " '쌀밥/잡곡밥',\n",
       " '카레덮밥',\n",
       " '쌀밥/잡곡밥',\n",
       " '쌀밥/잡곡밥',\n",
       " '쌀밥/잡곡밥',\n",
       " '곤드레밥*강된장',\n",
       " '쌀밥/잡곡밥',\n",
       " '쌀밥/잡곡밥',\n",
       " '쌀밥/잡곡밥',\n",
       " '쌀밥/잡곡밥',\n",
       " '콩나물밥',\n",
       " '쌀밥/잡곡밥',\n",
       " '쌀밥/잡곡밥',\n",
       " '쌀밥/잡곡밥',\n",
       " '쌀밥/잡곡밥',\n",
       " '쌀밥/잡곡밥',\n",
       " '쌀밥/잡곡밥',\n",
       " '쌀밥/잡곡밥',\n",
       " '쌀밥/잡곡밥',\n",
       " '쌀밥/잡곡밥',\n",
       " '쌀밥/잡곡밥',\n",
       " '쌀밥/잡곡밥',\n",
       " '쌀밥/잡곡밥',\n",
       " '쌀밥/잡곡밥',\n",
       " '쌀밥/잡곡밥',\n",
       " '곤드레밥*강된장',\n",
       " '쌀밥/잡곡밥',\n",
       " '쌀밥/잡곡밥',\n",
       " '쌀밥/잡곡밥',\n",
       " '쌀밥/잡곡밥',\n",
       " '콩나물밥*양념장',\n",
       " '쌀밥/잡곡밥',\n",
       " '쌀밥/잡곡밥',\n",
       " '쌀밥/잡곡밥',\n",
       " '쌀밥/잡곡밥',\n",
       " '카레덮밥',\n",
       " '쌀밥/잡곡밥',\n",
       " '쌀밥/잡곡밥',\n",
       " '쌀밥/잡곡밥',\n",
       " '쌀밥/잡곡밥',\n",
       " '나물비빔밥',\n",
       " '쌀밥/잡곡밥',\n",
       " '쌀밥/잡곡밥',\n",
       " '쌀밥/잡곡밥',\n",
       " '쌀밥/잡곡밥',\n",
       " '단호박영양밥',\n",
       " '쌀밥/잡곡밥',\n",
       " '쌀밥/잡곡밥',\n",
       " '쌀밥/잡곡밥',\n",
       " '쌀밥/잡곡밥',\n",
       " '콩나물밥*양념장',\n",
       " '쌀밥/잡곡밥',\n",
       " '쌀밥/잡곡밥',\n",
       " '쌀밥/잡곡밥',\n",
       " '쌀밥/잡곡밥',\n",
       " '곤드레밥*강된장',\n",
       " '쌀밥/잡곡밥',\n",
       " '쌀밥/잡곡밥',\n",
       " '쌀밥/잡곡밥',\n",
       " '쌀밥/잡곡밥',\n",
       " '쌀밥/잡곡밥',\n",
       " '쌀밥/잡곡밥',\n",
       " '쌀밥/잡곡밥',\n",
       " '쌀밥/잡곡밥',\n",
       " '쌀밥/잡곡밥',\n",
       " '쌀밥/잡곡밥',\n",
       " '쌀밥/잡곡밥',\n",
       " '쌀밥/잡곡밥',\n",
       " '비빔밥',\n",
       " '쌀밥/잡곡밥',\n",
       " '쌀밥/잡곡밥',\n",
       " '쌀밥/잡곡밥',\n",
       " '쌀밥/잡곡밥',\n",
       " '짜장덮밥',\n",
       " '쌀밥/잡곡밥',\n",
       " '쌀밥/잡곡밥',\n",
       " '쌀밥/잡곡밥',\n",
       " '쌀밥/잡곡밥',\n",
       " '콩나물밥',\n",
       " '쌀밥/잡곡밥',\n",
       " '쌀밥/잡곡밥',\n",
       " '쌀밥/잡곡밥',\n",
       " '쌀밥/잡곡밥',\n",
       " '카레덮밥',\n",
       " '쌀밥/잡곡밥',\n",
       " '쌀밥/잡곡밥',\n",
       " '쌀밥/잡곡밥',\n",
       " '쌀밥/잡곡밥',\n",
       " '쌀밥/잡곡밥',\n",
       " '쌀밥/잡곡밥',\n",
       " '낙지비빔밥',\n",
       " '쌀밥/잡곡밥',\n",
       " '쌀밥/잡곡밥',\n",
       " '쌀밥/잡곡밥',\n",
       " '쌀밥/오곡밥',\n",
       " '곤드레밥*양념장',\n",
       " '쌀밥/잡곡밥',\n",
       " '쌀밥/잡곡밥',\n",
       " '쌀밥/잡곡밥',\n",
       " '쌀밥/잡곡밥',\n",
       " '비빔밥',\n",
       " '쌀밥/잡곡밥',\n",
       " '쌀밥/잡곡밥',\n",
       " '쌀밥/잡곡밥',\n",
       " '콩나물밥',\n",
       " '쌀밥/잡곡밥',\n",
       " '쌀밥/잡곡밥',\n",
       " '쌀밥/잡곡밥',\n",
       " '쌀밥/잡곡밥',\n",
       " '카레덮밥',\n",
       " '쌀밥/잡곡밥',\n",
       " '쌀밥/잡곡밥',\n",
       " '쌀밥/잡곡밥',\n",
       " '쌀밥/잡곡밥',\n",
       " '김치제육덮밥',\n",
       " '쌀밥/잡곡밥',\n",
       " '쌀밥/잡곡밥',\n",
       " '쌀밥/잡곡밥',\n",
       " '쌀밥/잡곡밥',\n",
       " '단호박영양밥',\n",
       " '쌀밥/잡곡밥',\n",
       " '쌀밥/잡곡밥',\n",
       " '쌀밥/잡곡밥',\n",
       " '쌀밥/잡곡밥',\n",
       " '곤드레밥*강된장',\n",
       " '쌀밥/잡곡밥',\n",
       " '쌀밥/잡곡밥',\n",
       " '쌀밥/잡곡밥',\n",
       " '쌀밥/잡곡밥',\n",
       " '나물비빔밥',\n",
       " '쌀밥/잡곡밥',\n",
       " '쌀밥/잡곡밥',\n",
       " '쌀밥/잡곡밥',\n",
       " '쌀밥/잡곡밥',\n",
       " '쌀밥/잡곡밥',\n",
       " '쌀밥/잡곡밥',\n",
       " '짜장덮밥',\n",
       " '쌀밥/잡곡밥',\n",
       " '쌀밥/잡곡밥',\n",
       " '카레라이스',\n",
       " '쌀밥/잡곡밥',\n",
       " '쌀밥/잡곡밥',\n",
       " '쌀밥/잡곡밥',\n",
       " '쌀밥/잡곡밥',\n",
       " '쌀밥/잡곡밥',\n",
       " '쌀밥/잡곡밥',\n",
       " '쌀밥/잡곡밥',\n",
       " '콩나물밥',\n",
       " '쌀밥/잡곡밥',\n",
       " '쌀밥/잡곡밥',\n",
       " '쌀밥/잡곡밥',\n",
       " '쌀밥/잡곡밥',\n",
       " '산채비빔밥',\n",
       " '쌀밥/잡곡밥',\n",
       " '쌀밥/잡곡밥',\n",
       " '쌀밥/잡곡밥',\n",
       " '쌀밥/잡곡밥',\n",
       " '쌀밥/잡곡밥',\n",
       " '쌀밥/잡곡밥',\n",
       " '낙지비빔밥',\n",
       " '쌀밥/잡곡밥',\n",
       " '쌀밥/잡곡밥',\n",
       " '쌀밥/잡곡밥',\n",
       " '쌀밥/잡곡밥',\n",
       " '봄나물비빔밥',\n",
       " '쌀밥/잡곡밥',\n",
       " '쌀밥/잡곡밥',\n",
       " '곤드레밥*양념장',\n",
       " '쌀밥/잡곡밥',\n",
       " '쌀밥/잡곡밥',\n",
       " '쌀밥/잡곡밥',\n",
       " '김치제육덮밥',\n",
       " '쌀밥/잡곡밥',\n",
       " '쌀밥/잡곡밥',\n",
       " '쌀밥/잡곡밥',\n",
       " '쌀밥/잡곡밥',\n",
       " '짜장덮밥',\n",
       " '쌀밥/잡곡밥',\n",
       " '쌀밥/잡곡밥',\n",
       " '쌀밥/잡곡밥',\n",
       " '쌀밥/잡곡밥',\n",
       " '카레덮밥',\n",
       " '쌀밥/잡곡밥',\n",
       " '콩나물밥*양념장',\n",
       " '쌀밥/잡곡밥',\n",
       " '쌀밥/잡곡밥',\n",
       " '마파두부덮밥',\n",
       " '쌀밥/잡곡밥',\n",
       " '쌀밥/잡곡밥',\n",
       " '쌀밥/잡곡밥',\n",
       " '쌀밥/잡곡밥',\n",
       " '열무보리비빔밥',\n",
       " '쌀밥/잡곡밥',\n",
       " '<초복특식>',\n",
       " '쌀밥/잡곡밥',\n",
       " '쌀밥/잡곡밥',\n",
       " '산채비빔밥',\n",
       " '쌀밥/잡곡밥',\n",
       " '쌀밥/잡곡밥',\n",
       " '쌀밥/잡곡밥',\n",
       " '쌀밥/잡곡밥',\n",
       " '카레라이스',\n",
       " '쌀밥/잡곡밥',\n",
       " '쌀밥/잡곡밥',\n",
       " '쌀밥/잡곡밥',\n",
       " '쌀밥/잡곡밥',\n",
       " '곤드레밥*양념장',\n",
       " '쌀밥/잡곡밥',\n",
       " '쌀밥/잡곡밥',\n",
       " '쌀밥/잡곡밥',\n",
       " '쌀밥/잡곡밥',\n",
       " '짜장덮밥',\n",
       " '쌀밥/잡곡밥',\n",
       " '쌀밥/잡곡밥',\n",
       " '쌀밥/잡곡밥',\n",
       " '쌀밥/잡곡밥',\n",
       " '콩나물밥',\n",
       " '쌀밥/잡곡밥',\n",
       " '쌀밥/잡곡밥',\n",
       " '쌀밥/잡곡밥',\n",
       " '산채비빔밥',\n",
       " '쌀밥/잡곡밥',\n",
       " '쌀밥/잡곡밥',\n",
       " '쌀밥/잡곡밥',\n",
       " '쌀밥/잡곡밥',\n",
       " '카레덮밥',\n",
       " '쌀밥/잡곡밥',\n",
       " '쌀밥/잡곡밥',\n",
       " '쌀밥/잡곡밥',\n",
       " '쌀밥/잡곡밥',\n",
       " '단호박영양밥',\n",
       " '쌀밥/잡곡밥',\n",
       " '쌀밥/잡곡밥',\n",
       " '쌀밥/잡곡밥',\n",
       " '쌀밥/잡곡밥',\n",
       " '나물비빔밥',\n",
       " '쌀밥/잡곡밥',\n",
       " '쌀밥/잡곡밥',\n",
       " '쌀밥/잡곡밥',\n",
       " '쌀밥/잡곡밥',\n",
       " '쌀밥/잡곡밥',\n",
       " '쌀밥/잡곡밥',\n",
       " '쌀밥/잡곡밥',\n",
       " '곤드레밥*양념장',\n",
       " '쌀밥/잡곡밥',\n",
       " '쌀밥/잡곡밥',\n",
       " '쌀밥/잡곡밥',\n",
       " '쌀밥/잡곡밥',\n",
       " '쌀밥/잡곡밥',\n",
       " '쌀밥/잡곡밥',\n",
       " '쌀밥/잡곡밥',\n",
       " '쌀밥/잡곡밥',\n",
       " '쌀밥/잡곡밥',\n",
       " '쌀밥/잡곡밥',\n",
       " '쌀밥/잡곡밥',\n",
       " '콩나물밥',\n",
       " '쌀밥/잡곡밥',\n",
       " '쌀밥/잡곡밥',\n",
       " '쌀밥/잡곡밥',\n",
       " '쌀밥/잡곡밥',\n",
       " '카레라이스',\n",
       " '쌀밥/잡곡밥',\n",
       " '나물비빔밥',\n",
       " '쌀밥/잡곡밥',\n",
       " '쌀밥/잡곡밥',\n",
       " '마파두부덮밥',\n",
       " '쌀밥/잡곡밥',\n",
       " '쌀밥/옛날돈까스',\n",
       " '쌀밥/잡곡밥',\n",
       " '쌀밥/잡곡밥',\n",
       " '김치제육덮밥',\n",
       " '쌀밥/잡곡밥',\n",
       " '야채볶음밥*짜장소스',\n",
       " '쌀밥/잡곡밥',\n",
       " '쌀밥/잡곡밥',\n",
       " '곤드레밥*양념장',\n",
       " '쌀밥/잡곡밥',\n",
       " '김치볶음밥',\n",
       " '쌀밥/잡곡밥',\n",
       " '쌀밥/잡곡밥',\n",
       " '콩나물밥*양념장',\n",
       " '쌀밥/잡곡밥',\n",
       " '카레덮밥',\n",
       " '쌀밥/잡곡밥',\n",
       " '쌀밥/잡곡밥',\n",
       " '나물비빔밥',\n",
       " '쌀밥/잡곡밥',\n",
       " '오므라이스',\n",
       " '쌀밥/잡곡밥',\n",
       " '쌀밥/잡곡밥',\n",
       " '김치볶음밥/계란',\n",
       " '쌀밥/잡곡밥',\n",
       " '쌀밥/잡곡밥',\n",
       " '쌀밥/잡곡밥',\n",
       " '쌀밥/잡곡밥',\n",
       " '단호박영양밥',\n",
       " '쌀밥/잡곡밥',\n",
       " '쌀밥/잡곡밥',\n",
       " '쌀밥/잡곡밥',\n",
       " '쌀밥/잡곡밥',\n",
       " '콩나물밥',\n",
       " '쌀밥/잡곡밥',\n",
       " '쌀밥/잡곡밥',\n",
       " '쌀밥/잡곡밥',\n",
       " '쌀밥/잡곡밥',\n",
       " '쌀밥/잡곡밥',\n",
       " '파인애플볶음밥',\n",
       " '쌀밥/잡곡밥',\n",
       " '쌀밥/잡곡밥',\n",
       " '쌀밥/잡곡밥',\n",
       " '비빔밥',\n",
       " '쌀밥/잡곡밥',\n",
       " '쌀밥/잡곡밥',\n",
       " '곤드레밥*양념장',\n",
       " '쌀밥/잡곡밥',\n",
       " '참치회덮밥',\n",
       " '쌀밥/잡곡밥',\n",
       " '쌀밥/잡곡밥',\n",
       " '단호박영양밥',\n",
       " '쌀밥/잡곡밥',\n",
       " '김치필라프',\n",
       " '쌀밥/잡곡밥',\n",
       " '쌀밥/잡곡밥',\n",
       " '불고기비빔밥',\n",
       " '쌀밥/잡곡밥',\n",
       " '쌀밥/잡곡밥',\n",
       " '콩나물밥*양념장',\n",
       " '쌀밥/잡곡밥',\n",
       " '김치제육덮밥',\n",
       " '쌀밥/잡곡밥',\n",
       " '쌀밥/잡곡밥',\n",
       " '단호박영양밥',\n",
       " '쌀밥/잡곡밥',\n",
       " '쌀밥/오곡밥',\n",
       " '쌀밥/잡곡밥',\n",
       " '쌀밥/잡곡밥',\n",
       " '곤드레밥*강된장',\n",
       " '쌀밥/잡곡밥',\n",
       " '김밥볶음밥',\n",
       " '쌀밥/잡곡밥',\n",
       " '쌀밥/잡곡밥',\n",
       " '나물비빔밥',\n",
       " '쌀밥/잡곡밥',\n",
       " '쌀밥/잡곡밥',\n",
       " '쌀밥/잡곡밥',\n",
       " '쌀밥/잡곡밥',\n",
       " '낙지비빔밥',\n",
       " '쌀밥/잡곡밥',\n",
       " '쌀밥/잡곡밥',\n",
       " '쌀밥/잡곡밥',\n",
       " '쌀밥/잡곡밥',\n",
       " '콩나물밥*달래장',\n",
       " '쌀밥/잡곡밥',\n",
       " ...]"
      ]
     },
     "execution_count": 39,
     "metadata": {},
     "output_type": "execute_result"
    }
   ],
   "source": [
    "bob"
   ]
  },
  {
   "cell_type": "code",
   "execution_count": 40,
   "metadata": {
    "ExecuteTime": {
     "end_time": "2022-02-23T16:22:55.621739Z",
     "start_time": "2022-02-23T16:22:55.609735Z"
    }
   },
   "outputs": [],
   "source": [
    "temp = []\n",
    "for b in bob:\n",
    "    if b.split('/')[0] == \"쌀밥\":\n",
    "        temp.append(\"쌀밥\")\n",
    "    else:\n",
    "        temp.append(b)\n",
    "        \n",
    "bob = temp"
   ]
  },
  {
   "cell_type": "code",
   "execution_count": 41,
   "metadata": {
    "ExecuteTime": {
     "end_time": "2022-02-23T16:22:55.652191Z",
     "start_time": "2022-02-23T16:22:55.627709Z"
    }
   },
   "outputs": [],
   "source": [
    "#확인후에 추가\n",
    "train['bob_l'] = bob\n",
    "train['soup_l'] = soup\n",
    "train['main_l'] = main"
   ]
  },
  {
   "cell_type": "code",
   "execution_count": 42,
   "metadata": {
    "ExecuteTime": {
     "end_time": "2022-02-23T16:22:55.666711Z",
     "start_time": "2022-02-23T16:22:55.654714Z"
    },
    "scrolled": true
   },
   "outputs": [
    {
     "data": {
      "text/plain": [
       "쌀밥             1002\n",
       "콩나물밥             23\n",
       "카레덮밥             18\n",
       "나물비빔밥            15\n",
       "곤드레밥*강된장         12\n",
       "단호박영양밥           10\n",
       "곤드레밥              8\n",
       "카레라이스             8\n",
       "곤드레밥*양념장          8\n",
       "김치제육덮밥            8\n",
       "비빔밥               8\n",
       "짜장덮밥              6\n",
       "낙지비빔밥             6\n",
       "콩나물밥*양념장          5\n",
       "산채비빔밥             5\n",
       "마파두부덮밥            5\n",
       "짜장밥               4\n",
       "열무보리비빔밥           4\n",
       "소불고기덮밥            3\n",
       "열무비빔밥             3\n",
       "봄나물비빔밥            3\n",
       "참치회덮밥             2\n",
       "곤드레밥*간장양념         2\n",
       "콩나물밥*달래장          2\n",
       "단호박카레라이스          2\n",
       "<초복특식>            2\n",
       "베이컨김치볶음밥          1\n",
       "전주비빔밥*약고추장        1\n",
       "김치볶음밥             1\n",
       "팽이장국              1\n",
       "호박된장국             1\n",
       "연복풍덮밥             1\n",
       "오곡밥               1\n",
       "파인애플볶음밥           1\n",
       "계란채소볶음밥           1\n",
       "오므라이스             1\n",
       "소고기콩나물밥*양념        1\n",
       "낙지비빔밥*계란후라이       1\n",
       "버섯영양밥             1\n",
       "김치볶음밥/계란          1\n",
       "새우날치알볶음밥          1\n",
       "불고기비빔밥            1\n",
       "김치필라프             1\n",
       "돈육버섯고추장덮밥         1\n",
       "김밥볶음밥             1\n",
       "삼계탕               1\n",
       "건강비빔밥*약고추장        1\n",
       "전주비빔밥             1\n",
       "열무보리비빔밥/강된장       1\n",
       "봄새싹비빔밥            1\n",
       "산채비빔밥*강된장         1\n",
       "낙지볶음밥             1\n",
       "비빔밥*약고추장          1\n",
       "불고기덮밥             1\n",
       "닭살카레라이스           1\n",
       "야채볶음밥*짜장소스        1\n",
       "고기듬뿍카레라이스         1\n",
       "Name: bob_l, dtype: int64"
      ]
     },
     "execution_count": 42,
     "metadata": {},
     "output_type": "execute_result"
    }
   ],
   "source": [
    "train['bob_l'].value_counts()"
   ]
  },
  {
   "cell_type": "code",
   "execution_count": 43,
   "metadata": {
    "ExecuteTime": {
     "end_time": "2022-02-23T16:22:55.681763Z",
     "start_time": "2022-02-23T16:22:55.669709Z"
    }
   },
   "outputs": [
    {
     "data": {
      "text/plain": [
       "맑은국         46\n",
       "콩나물국        44\n",
       "된장찌개        37\n",
       "어묵국         31\n",
       "배추된장국       28\n",
       "            ..\n",
       "장각삼계탕        1\n",
       "유부주머니된장국     1\n",
       "사골우거지국       1\n",
       "전복장각삼계탕      1\n",
       "바지락살무국       1\n",
       "Name: soup_l, Length: 273, dtype: int64"
      ]
     },
     "execution_count": 43,
     "metadata": {},
     "output_type": "execute_result"
    }
   ],
   "source": [
    "train['soup_l'].value_counts()"
   ]
  },
  {
   "cell_type": "code",
   "execution_count": 44,
   "metadata": {
    "ExecuteTime": {
     "end_time": "2022-02-23T16:22:55.696761Z",
     "start_time": "2022-02-23T16:22:55.684762Z"
    }
   },
   "outputs": [
    {
     "data": {
      "text/plain": [
       "오징어볶음        32\n",
       "닭갈비          30\n",
       "버섯불고기        29\n",
       "훈제오리구이       27\n",
       "돈육굴소스볶음      25\n",
       "             ..\n",
       "육전            1\n",
       "당면채소무침        1\n",
       "생선까스&탈탈소스     1\n",
       "간장파닭          1\n",
       "매운쇠고기버섯볶음     1\n",
       "Name: main_l, Length: 391, dtype: int64"
      ]
     },
     "execution_count": 44,
     "metadata": {},
     "output_type": "execute_result"
    }
   ],
   "source": [
    "train['main_l'].value_counts()"
   ]
  },
  {
   "cell_type": "code",
   "execution_count": 45,
   "metadata": {
    "ExecuteTime": {
     "end_time": "2022-02-23T16:22:55.726675Z",
     "start_time": "2022-02-23T16:22:55.699771Z"
    }
   },
   "outputs": [
    {
     "data": {
      "text/html": [
       "<div>\n",
       "<style scoped>\n",
       "    .dataframe tbody tr th:only-of-type {\n",
       "        vertical-align: middle;\n",
       "    }\n",
       "\n",
       "    .dataframe tbody tr th {\n",
       "        vertical-align: top;\n",
       "    }\n",
       "\n",
       "    .dataframe thead th {\n",
       "        text-align: right;\n",
       "    }\n",
       "</style>\n",
       "<table border=\"1\" class=\"dataframe\">\n",
       "  <thead>\n",
       "    <tr style=\"text-align: right;\">\n",
       "      <th></th>\n",
       "      <th>일자</th>\n",
       "      <th>요일</th>\n",
       "      <th>본사정원수</th>\n",
       "      <th>본사휴가자수</th>\n",
       "      <th>본사출장자수</th>\n",
       "      <th>본사시간외근무명령서승인건수</th>\n",
       "      <th>현본사소속재택근무자수</th>\n",
       "      <th>조식메뉴</th>\n",
       "      <th>중식메뉴</th>\n",
       "      <th>석식메뉴</th>\n",
       "      <th>...</th>\n",
       "      <th>공휴일후</th>\n",
       "      <th>월</th>\n",
       "      <th>일</th>\n",
       "      <th>년</th>\n",
       "      <th>식사가능자수</th>\n",
       "      <th>야근비율</th>\n",
       "      <th>중식메뉴리스트</th>\n",
       "      <th>bob_l</th>\n",
       "      <th>soup_l</th>\n",
       "      <th>main_l</th>\n",
       "    </tr>\n",
       "  </thead>\n",
       "  <tbody>\n",
       "    <tr>\n",
       "      <th>0</th>\n",
       "      <td>2016-02-01</td>\n",
       "      <td>월</td>\n",
       "      <td>2601</td>\n",
       "      <td>50</td>\n",
       "      <td>150</td>\n",
       "      <td>238</td>\n",
       "      <td>0</td>\n",
       "      <td>모닝롤/찐빵  우유/두유/주스 계란후라이  호두죽/쌀밥 (쌀:국내산) 된장찌개  쥐...</td>\n",
       "      <td>쌀밥/잡곡밥 (쌀,현미흑미:국내산) 오징어찌개  쇠불고기 (쇠고기:호주산) 계란찜 ...</td>\n",
       "      <td>쌀밥/잡곡밥 (쌀,현미흑미:국내산) 육개장  자반고등어구이  두부조림  건파래무침 ...</td>\n",
       "      <td>...</td>\n",
       "      <td>0</td>\n",
       "      <td>2</td>\n",
       "      <td>1</td>\n",
       "      <td>2016</td>\n",
       "      <td>2401</td>\n",
       "      <td>0.099125</td>\n",
       "      <td>[쌀밥/잡곡밥, 오징어찌개, 쇠불고기, 계란찜, 청포묵무침, 요구르트, 포기김치]</td>\n",
       "      <td>쌀밥</td>\n",
       "      <td>오징어찌개</td>\n",
       "      <td>쇠불고기</td>\n",
       "    </tr>\n",
       "    <tr>\n",
       "      <th>1</th>\n",
       "      <td>2016-02-02</td>\n",
       "      <td>화</td>\n",
       "      <td>2601</td>\n",
       "      <td>50</td>\n",
       "      <td>173</td>\n",
       "      <td>319</td>\n",
       "      <td>0</td>\n",
       "      <td>모닝롤/단호박샌드  우유/두유/주스 계란후라이  팥죽/쌀밥 (쌀:국내산) 호박젓국찌...</td>\n",
       "      <td>쌀밥/잡곡밥 (쌀,현미흑미:국내산) 김치찌개  가자미튀김  모둠소세지구이  마늘쫑무...</td>\n",
       "      <td>콩나물밥*양념장 (쌀,현미흑미:국내산) 어묵국  유산슬 (쇠고기:호주산) 아삭고추무...</td>\n",
       "      <td>...</td>\n",
       "      <td>0</td>\n",
       "      <td>2</td>\n",
       "      <td>2</td>\n",
       "      <td>2016</td>\n",
       "      <td>2378</td>\n",
       "      <td>0.134146</td>\n",
       "      <td>[쌀밥/잡곡밥, 김치찌개, 가자미튀김, 모둠소세지구이, 마늘쫑무침, 요구르트, 배추...</td>\n",
       "      <td>쌀밥</td>\n",
       "      <td>김치찌개</td>\n",
       "      <td>가자미튀김</td>\n",
       "    </tr>\n",
       "    <tr>\n",
       "      <th>2</th>\n",
       "      <td>2016-02-03</td>\n",
       "      <td>수</td>\n",
       "      <td>2601</td>\n",
       "      <td>56</td>\n",
       "      <td>180</td>\n",
       "      <td>111</td>\n",
       "      <td>0</td>\n",
       "      <td>모닝롤/베이글  우유/두유/주스 계란후라이  표고버섯죽/쌀밥 (쌀:국내산) 콩나물국...</td>\n",
       "      <td>카레덮밥 (쌀,현미흑미:국내산) 팽이장국  치킨핑거 (닭고기:국내산) 쫄면야채무침 ...</td>\n",
       "      <td>쌀밥/잡곡밥 (쌀,현미흑미:국내산) 청국장찌개  황태양념구이 (황태:러시아산) 고기...</td>\n",
       "      <td>...</td>\n",
       "      <td>0</td>\n",
       "      <td>2</td>\n",
       "      <td>3</td>\n",
       "      <td>2016</td>\n",
       "      <td>2365</td>\n",
       "      <td>0.046934</td>\n",
       "      <td>[카레덮밥, 팽이장국, 치킨핑거, 쫄면야채무침, 견과류조림, 요구르트, 포기김치]</td>\n",
       "      <td>카레덮밥</td>\n",
       "      <td>팽이장국</td>\n",
       "      <td>치킨핑거</td>\n",
       "    </tr>\n",
       "    <tr>\n",
       "      <th>3</th>\n",
       "      <td>2016-02-04</td>\n",
       "      <td>목</td>\n",
       "      <td>2601</td>\n",
       "      <td>104</td>\n",
       "      <td>220</td>\n",
       "      <td>355</td>\n",
       "      <td>0</td>\n",
       "      <td>모닝롤/토마토샌드  우유/두유/주스 계란후라이  닭죽/쌀밥 (쌀,닭:국내산) 근대국...</td>\n",
       "      <td>쌀밥/잡곡밥 (쌀,현미흑미:국내산) 쇠고기무국  주꾸미볶음  부추전  시금치나물  ...</td>\n",
       "      <td>미니김밥*겨자장 (쌀,현미흑미:국내산) 우동  멕시칸샐러드  군고구마  무피클  포...</td>\n",
       "      <td>...</td>\n",
       "      <td>0</td>\n",
       "      <td>2</td>\n",
       "      <td>4</td>\n",
       "      <td>2016</td>\n",
       "      <td>2277</td>\n",
       "      <td>0.155907</td>\n",
       "      <td>[쌀밥/잡곡밥, 쇠고기무국, 주꾸미볶음, 부추전, 시금치나물, 요구르트, 포기김치]</td>\n",
       "      <td>쌀밥</td>\n",
       "      <td>쇠고기무국</td>\n",
       "      <td>주꾸미볶음</td>\n",
       "    </tr>\n",
       "    <tr>\n",
       "      <th>4</th>\n",
       "      <td>2016-02-05</td>\n",
       "      <td>금</td>\n",
       "      <td>2601</td>\n",
       "      <td>278</td>\n",
       "      <td>181</td>\n",
       "      <td>34</td>\n",
       "      <td>0</td>\n",
       "      <td>모닝롤/와플  우유/두유/주스 계란후라이  쇠고기죽/쌀밥 (쌀:국내산) 재첩국  방...</td>\n",
       "      <td>쌀밥/잡곡밥 (쌀,현미흑미:국내산) 떡국  돈육씨앗강정 (돼지고기:국내산) 우엉잡채...</td>\n",
       "      <td>쌀밥/잡곡밥 (쌀,현미흑미:국내산) 차돌박이찌개 (쇠고기:호주산) 닭갈비 (닭고기:...</td>\n",
       "      <td>...</td>\n",
       "      <td>0</td>\n",
       "      <td>2</td>\n",
       "      <td>5</td>\n",
       "      <td>2016</td>\n",
       "      <td>2142</td>\n",
       "      <td>0.015873</td>\n",
       "      <td>[쌀밥/잡곡밥, 떡국, 돈육씨앗강정, 우엉잡채, 청경채무침, 요구르트, 포기김치]</td>\n",
       "      <td>쌀밥</td>\n",
       "      <td>떡국</td>\n",
       "      <td>돈육씨앗강정</td>\n",
       "    </tr>\n",
       "  </tbody>\n",
       "</table>\n",
       "<p>5 rows × 26 columns</p>\n",
       "</div>"
      ],
      "text/plain": [
       "          일자 요일  본사정원수  본사휴가자수  본사출장자수  본사시간외근무명령서승인건수  현본사소속재택근무자수  \\\n",
       "0 2016-02-01  월   2601      50     150             238            0   \n",
       "1 2016-02-02  화   2601      50     173             319            0   \n",
       "2 2016-02-03  수   2601      56     180             111            0   \n",
       "3 2016-02-04  목   2601     104     220             355            0   \n",
       "4 2016-02-05  금   2601     278     181              34            0   \n",
       "\n",
       "                                                조식메뉴  \\\n",
       "0  모닝롤/찐빵  우유/두유/주스 계란후라이  호두죽/쌀밥 (쌀:국내산) 된장찌개  쥐...   \n",
       "1  모닝롤/단호박샌드  우유/두유/주스 계란후라이  팥죽/쌀밥 (쌀:국내산) 호박젓국찌...   \n",
       "2  모닝롤/베이글  우유/두유/주스 계란후라이  표고버섯죽/쌀밥 (쌀:국내산) 콩나물국...   \n",
       "3  모닝롤/토마토샌드  우유/두유/주스 계란후라이  닭죽/쌀밥 (쌀,닭:국내산) 근대국...   \n",
       "4  모닝롤/와플  우유/두유/주스 계란후라이  쇠고기죽/쌀밥 (쌀:국내산) 재첩국  방...   \n",
       "\n",
       "                                                중식메뉴  \\\n",
       "0  쌀밥/잡곡밥 (쌀,현미흑미:국내산) 오징어찌개  쇠불고기 (쇠고기:호주산) 계란찜 ...   \n",
       "1  쌀밥/잡곡밥 (쌀,현미흑미:국내산) 김치찌개  가자미튀김  모둠소세지구이  마늘쫑무...   \n",
       "2  카레덮밥 (쌀,현미흑미:국내산) 팽이장국  치킨핑거 (닭고기:국내산) 쫄면야채무침 ...   \n",
       "3  쌀밥/잡곡밥 (쌀,현미흑미:국내산) 쇠고기무국  주꾸미볶음  부추전  시금치나물  ...   \n",
       "4  쌀밥/잡곡밥 (쌀,현미흑미:국내산) 떡국  돈육씨앗강정 (돼지고기:국내산) 우엉잡채...   \n",
       "\n",
       "                                                석식메뉴  ...  공휴일후  월  일     년  \\\n",
       "0  쌀밥/잡곡밥 (쌀,현미흑미:국내산) 육개장  자반고등어구이  두부조림  건파래무침 ...  ...     0  2  1  2016   \n",
       "1  콩나물밥*양념장 (쌀,현미흑미:국내산) 어묵국  유산슬 (쇠고기:호주산) 아삭고추무...  ...     0  2  2  2016   \n",
       "2  쌀밥/잡곡밥 (쌀,현미흑미:국내산) 청국장찌개  황태양념구이 (황태:러시아산) 고기...  ...     0  2  3  2016   \n",
       "3  미니김밥*겨자장 (쌀,현미흑미:국내산) 우동  멕시칸샐러드  군고구마  무피클  포...  ...     0  2  4  2016   \n",
       "4  쌀밥/잡곡밥 (쌀,현미흑미:국내산) 차돌박이찌개 (쇠고기:호주산) 닭갈비 (닭고기:...  ...     0  2  5  2016   \n",
       "\n",
       "   식사가능자수      야근비율                                            중식메뉴리스트  bob_l  \\\n",
       "0    2401  0.099125      [쌀밥/잡곡밥, 오징어찌개, 쇠불고기, 계란찜, 청포묵무침, 요구르트, 포기김치]     쌀밥   \n",
       "1    2378  0.134146  [쌀밥/잡곡밥, 김치찌개, 가자미튀김, 모둠소세지구이, 마늘쫑무침, 요구르트, 배추...     쌀밥   \n",
       "2    2365  0.046934      [카레덮밥, 팽이장국, 치킨핑거, 쫄면야채무침, 견과류조림, 요구르트, 포기김치]   카레덮밥   \n",
       "3    2277  0.155907     [쌀밥/잡곡밥, 쇠고기무국, 주꾸미볶음, 부추전, 시금치나물, 요구르트, 포기김치]     쌀밥   \n",
       "4    2142  0.015873      [쌀밥/잡곡밥, 떡국, 돈육씨앗강정, 우엉잡채, 청경채무침, 요구르트, 포기김치]     쌀밥   \n",
       "\n",
       "   soup_l  main_l  \n",
       "0   오징어찌개    쇠불고기  \n",
       "1    김치찌개   가자미튀김  \n",
       "2    팽이장국    치킨핑거  \n",
       "3   쇠고기무국   주꾸미볶음  \n",
       "4      떡국  돈육씨앗강정  \n",
       "\n",
       "[5 rows x 26 columns]"
      ]
     },
     "execution_count": 45,
     "metadata": {},
     "output_type": "execute_result"
    }
   ],
   "source": [
    "train.head()"
   ]
  },
  {
   "cell_type": "markdown",
   "metadata": {},
   "source": [
    "### 석식"
   ]
  },
  {
   "cell_type": "markdown",
   "metadata": {},
   "source": [
    "#### split"
   ]
  },
  {
   "cell_type": "code",
   "execution_count": 46,
   "metadata": {
    "ExecuteTime": {
     "end_time": "2022-02-23T16:22:55.741764Z",
     "start_time": "2022-02-23T16:22:55.729680Z"
    }
   },
   "outputs": [],
   "source": [
    "train['석식메뉴리스트'] = split_menu(train['석식메뉴'])"
   ]
  },
  {
   "cell_type": "markdown",
   "metadata": {},
   "source": [
    "#### 메뉴 종류별 구분"
   ]
  },
  {
   "cell_type": "code",
   "execution_count": 47,
   "metadata": {
    "ExecuteTime": {
     "end_time": "2022-02-23T16:22:55.772418Z",
     "start_time": "2022-02-23T16:22:55.744674Z"
    }
   },
   "outputs": [],
   "source": [
    "dinner_menu = train['석식메뉴리스트']\n",
    "\n",
    "bobd=[]\n",
    "soupd=[]\n",
    "maind=[]\n",
    "\n",
    "\n",
    "for word in  dinner_menu:\n",
    "    \n",
    "    \n",
    "    if len(word) == 0:\n",
    "        bobd.append('None') #비어있으면 그 날짜자체가 없어질수있으므로 'None' 값으로 대체\n",
    "        soupd.append('None')\n",
    "        maind.append('None')\n",
    "    elif '*' in word:\n",
    "        bobd.append('None')\n",
    "        soupd.append('None')\n",
    "        maind.append('None')\n",
    "    elif '가정의날' in word:\n",
    "        bobd.append('None')\n",
    "        soupd.append('None')\n",
    "        maind.append('None')\n",
    "    elif '가정의달' in word:\n",
    "        bobd.append('None')\n",
    "        soupd.append('None')\n",
    "        maind.append('None')\n",
    "    elif '자기계발의날' in word:\n",
    "        bobd.append('None')\n",
    "        soupd.append('None')\n",
    "        maind.append('None')\n",
    "    elif '*자기계발의날*' in word:\n",
    "        bobd.append('None')\n",
    "        soupd.append('None')\n",
    "        maind.append('None')\n",
    "    elif '자기개발의날' in word:\n",
    "        bobd.append('None')\n",
    "        soupd.append('None')\n",
    "        maind.append('None')\n",
    "\n",
    "    else:\n",
    "        bobd.append(word[0])\n",
    "        soupd.append(word[1])\n",
    "        maind.append(word[2])"
   ]
  },
  {
   "cell_type": "code",
   "execution_count": 48,
   "metadata": {
    "ExecuteTime": {
     "end_time": "2022-02-23T16:22:55.787284Z",
     "start_time": "2022-02-23T16:22:55.775940Z"
    }
   },
   "outputs": [
    {
     "name": "stdout",
     "output_type": "stream",
     "text": [
      "1205\n",
      "1205\n",
      "1205\n",
      "1205\n"
     ]
    }
   ],
   "source": [
    "#다들어왔는지 확인\n",
    "print(len(dinner_menu))\n",
    "print(len(bobd))\n",
    "print(len(soupd))\n",
    "print(len(maind))"
   ]
  },
  {
   "cell_type": "code",
   "execution_count": 49,
   "metadata": {
    "ExecuteTime": {
     "end_time": "2022-02-23T16:22:55.803171Z",
     "start_time": "2022-02-23T16:22:55.790271Z"
    }
   },
   "outputs": [],
   "source": [
    "temp = []\n",
    "for b in bobd:\n",
    "    if b.split('/')[0] == \"쌀밥\":\n",
    "        temp.append(\"쌀밥\")\n",
    "    else:\n",
    "        temp.append(b)\n",
    "        \n",
    "bobd = temp"
   ]
  },
  {
   "cell_type": "code",
   "execution_count": 50,
   "metadata": {
    "ExecuteTime": {
     "end_time": "2022-02-23T16:22:55.818320Z",
     "start_time": "2022-02-23T16:22:55.806186Z"
    }
   },
   "outputs": [],
   "source": [
    "train['bob_d'] = bobd\n",
    "train['soup_d'] = soupd\n",
    "train['main_d'] = maind"
   ]
  },
  {
   "cell_type": "code",
   "execution_count": 51,
   "metadata": {
    "ExecuteTime": {
     "end_time": "2022-02-23T16:22:55.833373Z",
     "start_time": "2022-02-23T16:22:55.821178Z"
    }
   },
   "outputs": [
    {
     "data": {
      "text/plain": [
       "쌀밥         662\n",
       "흑미밥         92\n",
       "None        41\n",
       "유부초밥        25\n",
       "김밥          25\n",
       "          ... \n",
       "잔치국수         1\n",
       "크림스프         1\n",
       "짜장잡채밥        1\n",
       "애플카레라이스      1\n",
       "폭탄주먹밥        1\n",
       "Name: bob_d, Length: 125, dtype: int64"
      ]
     },
     "execution_count": 51,
     "metadata": {},
     "output_type": "execute_result"
    }
   ],
   "source": [
    "train['bob_d'].value_counts()"
   ]
  },
  {
   "cell_type": "code",
   "execution_count": 52,
   "metadata": {
    "ExecuteTime": {
     "end_time": "2022-02-23T16:22:55.849004Z",
     "start_time": "2022-02-23T16:22:55.835219Z"
    }
   },
   "outputs": [
    {
     "data": {
      "text/plain": [
       "None       41\n",
       "잔치국수       37\n",
       "맑은국        33\n",
       "된장찌개       30\n",
       "육개장        29\n",
       "           ..\n",
       "사골우거지국      1\n",
       "춘권*칠리소스     1\n",
       "콩나물냉국       1\n",
       "매운어묵국       1\n",
       "오징어무국       1\n",
       "Name: soup_d, Length: 291, dtype: int64"
      ]
     },
     "execution_count": 52,
     "metadata": {},
     "output_type": "execute_result"
    }
   ],
   "source": [
    "train['soup_d'].value_counts()"
   ]
  },
  {
   "cell_type": "code",
   "execution_count": 53,
   "metadata": {
    "ExecuteTime": {
     "end_time": "2022-02-23T16:22:55.863897Z",
     "start_time": "2022-02-23T16:22:55.850855Z"
    }
   },
   "outputs": [
    {
     "data": {
      "text/plain": [
       "None          41\n",
       "닭갈비           16\n",
       "떡볶이           16\n",
       "돈육강정          15\n",
       "유린기           14\n",
       "              ..\n",
       "꽁치허브구이         1\n",
       "브로컬리크림스프       1\n",
       "통마늘너비아니조림      1\n",
       "바베큐함박찹스테이크     1\n",
       "묵은지닭볶음탕        1\n",
       "Name: main_d, Length: 440, dtype: int64"
      ]
     },
     "execution_count": 53,
     "metadata": {},
     "output_type": "execute_result"
    }
   ],
   "source": [
    "train['main_d'].value_counts()"
   ]
  },
  {
   "cell_type": "markdown",
   "metadata": {},
   "source": [
    "### test"
   ]
  },
  {
   "cell_type": "code",
   "execution_count": 54,
   "metadata": {
    "ExecuteTime": {
     "end_time": "2022-02-23T16:22:55.879057Z",
     "start_time": "2022-02-23T16:22:55.866898Z"
    }
   },
   "outputs": [],
   "source": [
    "test['중식메뉴리스트'] = split_menu(test['중식메뉴'])\n",
    "test['석식메뉴리스트'] = split_menu(test['석식메뉴'])"
   ]
  },
  {
   "cell_type": "code",
   "execution_count": 55,
   "metadata": {
    "ExecuteTime": {
     "end_time": "2022-02-23T16:22:55.909917Z",
     "start_time": "2022-02-23T16:22:55.881893Z"
    }
   },
   "outputs": [],
   "source": [
    "# 위에서 언급한 메인, 국, 반찬만 나누어주기\n",
    "lunch_menu = test['중식메뉴리스트']\n",
    "\n",
    "bob=[]\n",
    "soup=[]\n",
    "main=[]\n",
    "\n",
    "for i in range(len(test)):\n",
    "    if lunch_menu[i][0]:\n",
    "        bob.append(lunch_menu[i][0])\n",
    "    if lunch_menu[i][1]:\n",
    "        soup.append(lunch_menu[i][1])\n",
    "    if lunch_menu[i][2]:\n",
    "        main.append(lunch_menu[i][2])"
   ]
  },
  {
   "cell_type": "code",
   "execution_count": 56,
   "metadata": {
    "ExecuteTime": {
     "end_time": "2022-02-23T16:22:55.924863Z",
     "start_time": "2022-02-23T16:22:55.911792Z"
    }
   },
   "outputs": [
    {
     "name": "stdout",
     "output_type": "stream",
     "text": [
      "50\n",
      "50\n",
      "50\n",
      "--\n",
      "50\n"
     ]
    }
   ],
   "source": [
    "#누락이 있으면 안되므로 확인해주자\n",
    "\n",
    "print(len(bob))\n",
    "print(len(soup))\n",
    "print(len(main))\n",
    "print('--')\n",
    "print(len(test))"
   ]
  },
  {
   "cell_type": "code",
   "execution_count": 57,
   "metadata": {
    "ExecuteTime": {
     "end_time": "2022-02-23T16:22:55.940260Z",
     "start_time": "2022-02-23T16:22:55.926761Z"
    }
   },
   "outputs": [],
   "source": [
    "temp = []\n",
    "for b in bob:\n",
    "    if b.split('/')[0] == \"쌀밥\":\n",
    "        temp.append(\"쌀밥\")\n",
    "    else:\n",
    "        temp.append(b)\n",
    "        \n",
    "bob = temp"
   ]
  },
  {
   "cell_type": "code",
   "execution_count": 58,
   "metadata": {
    "ExecuteTime": {
     "end_time": "2022-02-23T16:22:55.955681Z",
     "start_time": "2022-02-23T16:22:55.942262Z"
    }
   },
   "outputs": [],
   "source": [
    "#확인후에 추가\n",
    "test['bob_l'] = bob\n",
    "test['soup_l'] = soup\n",
    "test['main_l'] = main"
   ]
  },
  {
   "cell_type": "code",
   "execution_count": 59,
   "metadata": {
    "ExecuteTime": {
     "end_time": "2022-02-23T16:22:56.001559Z",
     "start_time": "2022-02-23T16:22:55.958682Z"
    }
   },
   "outputs": [
    {
     "data": {
      "text/html": [
       "<div>\n",
       "<style scoped>\n",
       "    .dataframe tbody tr th:only-of-type {\n",
       "        vertical-align: middle;\n",
       "    }\n",
       "\n",
       "    .dataframe tbody tr th {\n",
       "        vertical-align: top;\n",
       "    }\n",
       "\n",
       "    .dataframe thead th {\n",
       "        text-align: right;\n",
       "    }\n",
       "</style>\n",
       "<table border=\"1\" class=\"dataframe\">\n",
       "  <thead>\n",
       "    <tr style=\"text-align: right;\">\n",
       "      <th></th>\n",
       "      <th>일자</th>\n",
       "      <th>요일</th>\n",
       "      <th>본사정원수</th>\n",
       "      <th>본사휴가자수</th>\n",
       "      <th>본사출장자수</th>\n",
       "      <th>본사시간외근무명령서승인건수</th>\n",
       "      <th>현본사소속재택근무자수</th>\n",
       "      <th>조식메뉴</th>\n",
       "      <th>중식메뉴</th>\n",
       "      <th>석식메뉴</th>\n",
       "      <th>...</th>\n",
       "      <th>월</th>\n",
       "      <th>일</th>\n",
       "      <th>년</th>\n",
       "      <th>식사가능자수</th>\n",
       "      <th>야근비율</th>\n",
       "      <th>중식메뉴리스트</th>\n",
       "      <th>석식메뉴리스트</th>\n",
       "      <th>bob_l</th>\n",
       "      <th>soup_l</th>\n",
       "      <th>main_l</th>\n",
       "    </tr>\n",
       "  </thead>\n",
       "  <tbody>\n",
       "    <tr>\n",
       "      <th>0</th>\n",
       "      <td>2021-01-27</td>\n",
       "      <td>수</td>\n",
       "      <td>2983</td>\n",
       "      <td>88</td>\n",
       "      <td>182</td>\n",
       "      <td>5</td>\n",
       "      <td>358</td>\n",
       "      <td>모닝롤/연유버터베이글 우유/주스 계란후라이/찐계란 단호박죽/흑미밥 우거지국 고기완자...</td>\n",
       "      <td>쌀밥/흑미밥/찰현미밥 대구지리 매운돈갈비찜 오꼬노미계란말이 상추무침 포기김치 양상추...</td>\n",
       "      <td>흑미밥 얼큰순두부찌개 쇠고기우엉볶음 버섯햄볶음 (New)아삭이고추무절임 포기김치</td>\n",
       "      <td>...</td>\n",
       "      <td>1</td>\n",
       "      <td>27</td>\n",
       "      <td>2021</td>\n",
       "      <td>2355</td>\n",
       "      <td>0.002123</td>\n",
       "      <td>[쌀밥/흑미밥/찰현미밥, 대구지리, 매운돈갈비찜, 오꼬노미계란말이, 상추무침, 포기...</td>\n",
       "      <td>[흑미밥, 얼큰순두부찌개, 쇠고기우엉볶음, 버섯햄볶음, 포기김치]</td>\n",
       "      <td>쌀밥</td>\n",
       "      <td>대구지리</td>\n",
       "      <td>매운돈갈비찜</td>\n",
       "    </tr>\n",
       "    <tr>\n",
       "      <th>1</th>\n",
       "      <td>2021-01-28</td>\n",
       "      <td>목</td>\n",
       "      <td>2983</td>\n",
       "      <td>104</td>\n",
       "      <td>212</td>\n",
       "      <td>409</td>\n",
       "      <td>348</td>\n",
       "      <td>모닝롤/대만샌드위치 우유/주스 계란후라이/찐계란 누룽지탕/흑미밥 황태국 시래기지짐 ...</td>\n",
       "      <td>쌀밥/보리밥/찰현미밥 우렁된장찌개 오리주물럭 청양부추전 수제삼색무쌈 겉절이김치 양상...</td>\n",
       "      <td>충무김밥 우동국물 오징어무침 꽃맛살샐러드 얼갈이쌈장무침 석박지</td>\n",
       "      <td>...</td>\n",
       "      <td>1</td>\n",
       "      <td>28</td>\n",
       "      <td>2021</td>\n",
       "      <td>2319</td>\n",
       "      <td>0.176369</td>\n",
       "      <td>[쌀밥/보리밥/찰현미밥, 우렁된장찌개, 오리주물럭, 청양부추전, 수제삼색무쌈, 겉절...</td>\n",
       "      <td>[충무김밥, 우동국물, 오징어무침, 꽃맛살샐러드, 얼갈이쌈장무침, 석박지]</td>\n",
       "      <td>쌀밥</td>\n",
       "      <td>우렁된장찌개</td>\n",
       "      <td>오리주물럭</td>\n",
       "    </tr>\n",
       "    <tr>\n",
       "      <th>2</th>\n",
       "      <td>2021-01-29</td>\n",
       "      <td>금</td>\n",
       "      <td>2983</td>\n",
       "      <td>270</td>\n",
       "      <td>249</td>\n",
       "      <td>0</td>\n",
       "      <td>294</td>\n",
       "      <td>모닝롤/핫케익 우유/주스 계란후라이/찐계란 오곡죽/흑미밥 매생이굴국 고구마순볶음 양...</td>\n",
       "      <td>쌀밥/흑미밥/찰현미밥 팽이장국 수제돈까스*소스 가자미조림 동초나물무침 포기김치 양상...</td>\n",
       "      <td>흑미밥 물만둣국 카레찜닭 숯불양념꼬지어묵 꼬시래기무침 포기김치</td>\n",
       "      <td>...</td>\n",
       "      <td>1</td>\n",
       "      <td>29</td>\n",
       "      <td>2021</td>\n",
       "      <td>2170</td>\n",
       "      <td>0.000000</td>\n",
       "      <td>[쌀밥/흑미밥/찰현미밥, 팽이장국, 수제돈까스*소스, 가자미조림, 동초나물무침, 포...</td>\n",
       "      <td>[흑미밥, 물만둣국, 카레찜닭, 숯불양념꼬지어묵, 꼬시래기무침, 포기김치]</td>\n",
       "      <td>쌀밥</td>\n",
       "      <td>팽이장국</td>\n",
       "      <td>수제돈까스*소스</td>\n",
       "    </tr>\n",
       "    <tr>\n",
       "      <th>3</th>\n",
       "      <td>2021-02-01</td>\n",
       "      <td>월</td>\n",
       "      <td>2924</td>\n",
       "      <td>108</td>\n",
       "      <td>154</td>\n",
       "      <td>538</td>\n",
       "      <td>322</td>\n",
       "      <td>모닝롤/촉촉한치즈케익 우유/주스 계란후라이/찐계란 누룽지탕/흑미밥 두부김칫국 새우완...</td>\n",
       "      <td>쌀밥/흑미밥/찰현미밥 배추들깨국 오리대패불고기 시금치프리타타 부추고추장무침 포기김치...</td>\n",
       "      <td>흑미밥 동태탕 돈육꽈리고추장조림 당면채소무침 모자반무침 포기김치</td>\n",
       "      <td>...</td>\n",
       "      <td>2</td>\n",
       "      <td>1</td>\n",
       "      <td>2021</td>\n",
       "      <td>2340</td>\n",
       "      <td>0.229915</td>\n",
       "      <td>[쌀밥/흑미밥/찰현미밥, 배추들깨국, 오리대패불고기, 시금치프리타타, 부추고추장무침...</td>\n",
       "      <td>[흑미밥, 동태탕, 돈육꽈리고추장조림, 당면채소무침, 모자반무침, 포기김치]</td>\n",
       "      <td>쌀밥</td>\n",
       "      <td>배추들깨국</td>\n",
       "      <td>오리대패불고기</td>\n",
       "    </tr>\n",
       "    <tr>\n",
       "      <th>4</th>\n",
       "      <td>2021-02-02</td>\n",
       "      <td>화</td>\n",
       "      <td>2924</td>\n",
       "      <td>62</td>\n",
       "      <td>186</td>\n",
       "      <td>455</td>\n",
       "      <td>314</td>\n",
       "      <td>모닝롤/토마토샌드 우유/주스 계란후라이/찐계란 채소죽/흑미밥 호박맑은국 오이생채 양...</td>\n",
       "      <td>쌀밥/팥밥/찰현미밥 부대찌개 닭살데리야끼조림 버섯탕수 세발나물무침 알타리김치/사과푸...</td>\n",
       "      <td>흑미밥 바지락살국 쇠고기청경채볶음 두부구이*볶은김치 머위된장무침 백김치</td>\n",
       "      <td>...</td>\n",
       "      <td>2</td>\n",
       "      <td>2</td>\n",
       "      <td>2021</td>\n",
       "      <td>2362</td>\n",
       "      <td>0.192633</td>\n",
       "      <td>[쌀밥/팥밥/찰현미밥, 부대찌개, 닭살데리야끼조림, 버섯탕수, 세발나물무침, 알타리...</td>\n",
       "      <td>[흑미밥, 바지락살국, 쇠고기청경채볶음, 두부구이*볶은김치, 머위된장무침, 백김치]</td>\n",
       "      <td>쌀밥</td>\n",
       "      <td>부대찌개</td>\n",
       "      <td>닭살데리야끼조림</td>\n",
       "    </tr>\n",
       "  </tbody>\n",
       "</table>\n",
       "<p>5 rows × 25 columns</p>\n",
       "</div>"
      ],
      "text/plain": [
       "          일자 요일  본사정원수  본사휴가자수  본사출장자수  본사시간외근무명령서승인건수  현본사소속재택근무자수  \\\n",
       "0 2021-01-27  수   2983      88     182               5          358   \n",
       "1 2021-01-28  목   2983     104     212             409          348   \n",
       "2 2021-01-29  금   2983     270     249               0          294   \n",
       "3 2021-02-01  월   2924     108     154             538          322   \n",
       "4 2021-02-02  화   2924      62     186             455          314   \n",
       "\n",
       "                                                조식메뉴  \\\n",
       "0  모닝롤/연유버터베이글 우유/주스 계란후라이/찐계란 단호박죽/흑미밥 우거지국 고기완자...   \n",
       "1  모닝롤/대만샌드위치 우유/주스 계란후라이/찐계란 누룽지탕/흑미밥 황태국 시래기지짐 ...   \n",
       "2  모닝롤/핫케익 우유/주스 계란후라이/찐계란 오곡죽/흑미밥 매생이굴국 고구마순볶음 양...   \n",
       "3  모닝롤/촉촉한치즈케익 우유/주스 계란후라이/찐계란 누룽지탕/흑미밥 두부김칫국 새우완...   \n",
       "4  모닝롤/토마토샌드 우유/주스 계란후라이/찐계란 채소죽/흑미밥 호박맑은국 오이생채 양...   \n",
       "\n",
       "                                                중식메뉴  \\\n",
       "0  쌀밥/흑미밥/찰현미밥 대구지리 매운돈갈비찜 오꼬노미계란말이 상추무침 포기김치 양상추...   \n",
       "1  쌀밥/보리밥/찰현미밥 우렁된장찌개 오리주물럭 청양부추전 수제삼색무쌈 겉절이김치 양상...   \n",
       "2  쌀밥/흑미밥/찰현미밥 팽이장국 수제돈까스*소스 가자미조림 동초나물무침 포기김치 양상...   \n",
       "3  쌀밥/흑미밥/찰현미밥 배추들깨국 오리대패불고기 시금치프리타타 부추고추장무침 포기김치...   \n",
       "4  쌀밥/팥밥/찰현미밥 부대찌개 닭살데리야끼조림 버섯탕수 세발나물무침 알타리김치/사과푸...   \n",
       "\n",
       "                                            석식메뉴  ...  월   일     년  식사가능자수  \\\n",
       "0  흑미밥 얼큰순두부찌개 쇠고기우엉볶음 버섯햄볶음 (New)아삭이고추무절임 포기김치   ...  1  27  2021    2355   \n",
       "1            충무김밥 우동국물 오징어무침 꽃맛살샐러드 얼갈이쌈장무침 석박지   ...  1  28  2021    2319   \n",
       "2            흑미밥 물만둣국 카레찜닭 숯불양념꼬지어묵 꼬시래기무침 포기김치   ...  1  29  2021    2170   \n",
       "3           흑미밥 동태탕 돈육꽈리고추장조림 당면채소무침 모자반무침 포기김치   ...  2   1  2021    2340   \n",
       "4       흑미밥 바지락살국 쇠고기청경채볶음 두부구이*볶은김치 머위된장무침 백김치   ...  2   2  2021    2362   \n",
       "\n",
       "       야근비율                                            중식메뉴리스트  \\\n",
       "0  0.002123  [쌀밥/흑미밥/찰현미밥, 대구지리, 매운돈갈비찜, 오꼬노미계란말이, 상추무침, 포기...   \n",
       "1  0.176369  [쌀밥/보리밥/찰현미밥, 우렁된장찌개, 오리주물럭, 청양부추전, 수제삼색무쌈, 겉절...   \n",
       "2  0.000000  [쌀밥/흑미밥/찰현미밥, 팽이장국, 수제돈까스*소스, 가자미조림, 동초나물무침, 포...   \n",
       "3  0.229915  [쌀밥/흑미밥/찰현미밥, 배추들깨국, 오리대패불고기, 시금치프리타타, 부추고추장무침...   \n",
       "4  0.192633  [쌀밥/팥밥/찰현미밥, 부대찌개, 닭살데리야끼조림, 버섯탕수, 세발나물무침, 알타리...   \n",
       "\n",
       "                                          석식메뉴리스트  bob_l  soup_l    main_l  \n",
       "0            [흑미밥, 얼큰순두부찌개, 쇠고기우엉볶음, 버섯햄볶음, 포기김치]     쌀밥    대구지리    매운돈갈비찜  \n",
       "1       [충무김밥, 우동국물, 오징어무침, 꽃맛살샐러드, 얼갈이쌈장무침, 석박지]     쌀밥  우렁된장찌개     오리주물럭  \n",
       "2       [흑미밥, 물만둣국, 카레찜닭, 숯불양념꼬지어묵, 꼬시래기무침, 포기김치]     쌀밥    팽이장국  수제돈까스*소스  \n",
       "3      [흑미밥, 동태탕, 돈육꽈리고추장조림, 당면채소무침, 모자반무침, 포기김치]     쌀밥   배추들깨국   오리대패불고기  \n",
       "4  [흑미밥, 바지락살국, 쇠고기청경채볶음, 두부구이*볶은김치, 머위된장무침, 백김치]     쌀밥    부대찌개  닭살데리야끼조림  \n",
       "\n",
       "[5 rows x 25 columns]"
      ]
     },
     "execution_count": 59,
     "metadata": {},
     "output_type": "execute_result"
    }
   ],
   "source": [
    "test.head()"
   ]
  },
  {
   "cell_type": "code",
   "execution_count": 60,
   "metadata": {
    "ExecuteTime": {
     "end_time": "2022-02-23T16:22:56.016730Z",
     "start_time": "2022-02-23T16:22:56.004562Z"
    }
   },
   "outputs": [],
   "source": [
    "dinner_menu = test['석식메뉴리스트']\n",
    "\n",
    "bobd=[]\n",
    "soupd=[]\n",
    "maind=[]\n",
    "\n",
    "\n",
    "for word in  dinner_menu:\n",
    "\n",
    "    bobd.append(word[0])\n",
    "    soupd.append(word[1])\n",
    "    maind.append(word[2])"
   ]
  },
  {
   "cell_type": "code",
   "execution_count": 61,
   "metadata": {
    "ExecuteTime": {
     "end_time": "2022-02-23T16:22:56.031731Z",
     "start_time": "2022-02-23T16:22:56.018560Z"
    }
   },
   "outputs": [
    {
     "name": "stdout",
     "output_type": "stream",
     "text": [
      "50\n",
      "50\n",
      "50\n",
      "----------\n",
      "50\n"
     ]
    }
   ],
   "source": [
    "#다들어왔는지 확인\n",
    "print(len(dinner_menu))\n",
    "print(len(bobd))\n",
    "print(len(soupd))\n",
    "print('-'*10)\n",
    "print(len(maind))"
   ]
  },
  {
   "cell_type": "code",
   "execution_count": 62,
   "metadata": {
    "ExecuteTime": {
     "end_time": "2022-02-23T16:22:56.046887Z",
     "start_time": "2022-02-23T16:22:56.034562Z"
    }
   },
   "outputs": [],
   "source": [
    "temp = []\n",
    "for b in bobd:\n",
    "    if b.split('/')[0] == \"쌀밥\":\n",
    "        temp.append(\"쌀밥\")\n",
    "    else:\n",
    "        temp.append(b)\n",
    "        \n",
    "bobd = temp"
   ]
  },
  {
   "cell_type": "code",
   "execution_count": 63,
   "metadata": {
    "ExecuteTime": {
     "end_time": "2022-02-23T16:22:56.062066Z",
     "start_time": "2022-02-23T16:22:56.048888Z"
    }
   },
   "outputs": [],
   "source": [
    "test['bob_d'] = bobd\n",
    "test['soup_d'] = soupd\n",
    "test['main_d'] = maind"
   ]
  },
  {
   "cell_type": "code",
   "execution_count": 64,
   "metadata": {
    "ExecuteTime": {
     "end_time": "2022-02-23T16:22:56.106886Z",
     "start_time": "2022-02-23T16:22:56.063888Z"
    }
   },
   "outputs": [
    {
     "data": {
      "text/html": [
       "<div>\n",
       "<style scoped>\n",
       "    .dataframe tbody tr th:only-of-type {\n",
       "        vertical-align: middle;\n",
       "    }\n",
       "\n",
       "    .dataframe tbody tr th {\n",
       "        vertical-align: top;\n",
       "    }\n",
       "\n",
       "    .dataframe thead th {\n",
       "        text-align: right;\n",
       "    }\n",
       "</style>\n",
       "<table border=\"1\" class=\"dataframe\">\n",
       "  <thead>\n",
       "    <tr style=\"text-align: right;\">\n",
       "      <th></th>\n",
       "      <th>일자</th>\n",
       "      <th>요일</th>\n",
       "      <th>본사정원수</th>\n",
       "      <th>본사휴가자수</th>\n",
       "      <th>본사출장자수</th>\n",
       "      <th>본사시간외근무명령서승인건수</th>\n",
       "      <th>현본사소속재택근무자수</th>\n",
       "      <th>조식메뉴</th>\n",
       "      <th>중식메뉴</th>\n",
       "      <th>석식메뉴</th>\n",
       "      <th>...</th>\n",
       "      <th>식사가능자수</th>\n",
       "      <th>야근비율</th>\n",
       "      <th>중식메뉴리스트</th>\n",
       "      <th>석식메뉴리스트</th>\n",
       "      <th>bob_l</th>\n",
       "      <th>soup_l</th>\n",
       "      <th>main_l</th>\n",
       "      <th>bob_d</th>\n",
       "      <th>soup_d</th>\n",
       "      <th>main_d</th>\n",
       "    </tr>\n",
       "  </thead>\n",
       "  <tbody>\n",
       "    <tr>\n",
       "      <th>0</th>\n",
       "      <td>2021-01-27</td>\n",
       "      <td>수</td>\n",
       "      <td>2983</td>\n",
       "      <td>88</td>\n",
       "      <td>182</td>\n",
       "      <td>5</td>\n",
       "      <td>358</td>\n",
       "      <td>모닝롤/연유버터베이글 우유/주스 계란후라이/찐계란 단호박죽/흑미밥 우거지국 고기완자...</td>\n",
       "      <td>쌀밥/흑미밥/찰현미밥 대구지리 매운돈갈비찜 오꼬노미계란말이 상추무침 포기김치 양상추...</td>\n",
       "      <td>흑미밥 얼큰순두부찌개 쇠고기우엉볶음 버섯햄볶음 (New)아삭이고추무절임 포기김치</td>\n",
       "      <td>...</td>\n",
       "      <td>2355</td>\n",
       "      <td>0.002123</td>\n",
       "      <td>[쌀밥/흑미밥/찰현미밥, 대구지리, 매운돈갈비찜, 오꼬노미계란말이, 상추무침, 포기...</td>\n",
       "      <td>[흑미밥, 얼큰순두부찌개, 쇠고기우엉볶음, 버섯햄볶음, 포기김치]</td>\n",
       "      <td>쌀밥</td>\n",
       "      <td>대구지리</td>\n",
       "      <td>매운돈갈비찜</td>\n",
       "      <td>흑미밥</td>\n",
       "      <td>얼큰순두부찌개</td>\n",
       "      <td>쇠고기우엉볶음</td>\n",
       "    </tr>\n",
       "    <tr>\n",
       "      <th>1</th>\n",
       "      <td>2021-01-28</td>\n",
       "      <td>목</td>\n",
       "      <td>2983</td>\n",
       "      <td>104</td>\n",
       "      <td>212</td>\n",
       "      <td>409</td>\n",
       "      <td>348</td>\n",
       "      <td>모닝롤/대만샌드위치 우유/주스 계란후라이/찐계란 누룽지탕/흑미밥 황태국 시래기지짐 ...</td>\n",
       "      <td>쌀밥/보리밥/찰현미밥 우렁된장찌개 오리주물럭 청양부추전 수제삼색무쌈 겉절이김치 양상...</td>\n",
       "      <td>충무김밥 우동국물 오징어무침 꽃맛살샐러드 얼갈이쌈장무침 석박지</td>\n",
       "      <td>...</td>\n",
       "      <td>2319</td>\n",
       "      <td>0.176369</td>\n",
       "      <td>[쌀밥/보리밥/찰현미밥, 우렁된장찌개, 오리주물럭, 청양부추전, 수제삼색무쌈, 겉절...</td>\n",
       "      <td>[충무김밥, 우동국물, 오징어무침, 꽃맛살샐러드, 얼갈이쌈장무침, 석박지]</td>\n",
       "      <td>쌀밥</td>\n",
       "      <td>우렁된장찌개</td>\n",
       "      <td>오리주물럭</td>\n",
       "      <td>충무김밥</td>\n",
       "      <td>우동국물</td>\n",
       "      <td>오징어무침</td>\n",
       "    </tr>\n",
       "    <tr>\n",
       "      <th>2</th>\n",
       "      <td>2021-01-29</td>\n",
       "      <td>금</td>\n",
       "      <td>2983</td>\n",
       "      <td>270</td>\n",
       "      <td>249</td>\n",
       "      <td>0</td>\n",
       "      <td>294</td>\n",
       "      <td>모닝롤/핫케익 우유/주스 계란후라이/찐계란 오곡죽/흑미밥 매생이굴국 고구마순볶음 양...</td>\n",
       "      <td>쌀밥/흑미밥/찰현미밥 팽이장국 수제돈까스*소스 가자미조림 동초나물무침 포기김치 양상...</td>\n",
       "      <td>흑미밥 물만둣국 카레찜닭 숯불양념꼬지어묵 꼬시래기무침 포기김치</td>\n",
       "      <td>...</td>\n",
       "      <td>2170</td>\n",
       "      <td>0.000000</td>\n",
       "      <td>[쌀밥/흑미밥/찰현미밥, 팽이장국, 수제돈까스*소스, 가자미조림, 동초나물무침, 포...</td>\n",
       "      <td>[흑미밥, 물만둣국, 카레찜닭, 숯불양념꼬지어묵, 꼬시래기무침, 포기김치]</td>\n",
       "      <td>쌀밥</td>\n",
       "      <td>팽이장국</td>\n",
       "      <td>수제돈까스*소스</td>\n",
       "      <td>흑미밥</td>\n",
       "      <td>물만둣국</td>\n",
       "      <td>카레찜닭</td>\n",
       "    </tr>\n",
       "    <tr>\n",
       "      <th>3</th>\n",
       "      <td>2021-02-01</td>\n",
       "      <td>월</td>\n",
       "      <td>2924</td>\n",
       "      <td>108</td>\n",
       "      <td>154</td>\n",
       "      <td>538</td>\n",
       "      <td>322</td>\n",
       "      <td>모닝롤/촉촉한치즈케익 우유/주스 계란후라이/찐계란 누룽지탕/흑미밥 두부김칫국 새우완...</td>\n",
       "      <td>쌀밥/흑미밥/찰현미밥 배추들깨국 오리대패불고기 시금치프리타타 부추고추장무침 포기김치...</td>\n",
       "      <td>흑미밥 동태탕 돈육꽈리고추장조림 당면채소무침 모자반무침 포기김치</td>\n",
       "      <td>...</td>\n",
       "      <td>2340</td>\n",
       "      <td>0.229915</td>\n",
       "      <td>[쌀밥/흑미밥/찰현미밥, 배추들깨국, 오리대패불고기, 시금치프리타타, 부추고추장무침...</td>\n",
       "      <td>[흑미밥, 동태탕, 돈육꽈리고추장조림, 당면채소무침, 모자반무침, 포기김치]</td>\n",
       "      <td>쌀밥</td>\n",
       "      <td>배추들깨국</td>\n",
       "      <td>오리대패불고기</td>\n",
       "      <td>흑미밥</td>\n",
       "      <td>동태탕</td>\n",
       "      <td>돈육꽈리고추장조림</td>\n",
       "    </tr>\n",
       "    <tr>\n",
       "      <th>4</th>\n",
       "      <td>2021-02-02</td>\n",
       "      <td>화</td>\n",
       "      <td>2924</td>\n",
       "      <td>62</td>\n",
       "      <td>186</td>\n",
       "      <td>455</td>\n",
       "      <td>314</td>\n",
       "      <td>모닝롤/토마토샌드 우유/주스 계란후라이/찐계란 채소죽/흑미밥 호박맑은국 오이생채 양...</td>\n",
       "      <td>쌀밥/팥밥/찰현미밥 부대찌개 닭살데리야끼조림 버섯탕수 세발나물무침 알타리김치/사과푸...</td>\n",
       "      <td>흑미밥 바지락살국 쇠고기청경채볶음 두부구이*볶은김치 머위된장무침 백김치</td>\n",
       "      <td>...</td>\n",
       "      <td>2362</td>\n",
       "      <td>0.192633</td>\n",
       "      <td>[쌀밥/팥밥/찰현미밥, 부대찌개, 닭살데리야끼조림, 버섯탕수, 세발나물무침, 알타리...</td>\n",
       "      <td>[흑미밥, 바지락살국, 쇠고기청경채볶음, 두부구이*볶은김치, 머위된장무침, 백김치]</td>\n",
       "      <td>쌀밥</td>\n",
       "      <td>부대찌개</td>\n",
       "      <td>닭살데리야끼조림</td>\n",
       "      <td>흑미밥</td>\n",
       "      <td>바지락살국</td>\n",
       "      <td>쇠고기청경채볶음</td>\n",
       "    </tr>\n",
       "  </tbody>\n",
       "</table>\n",
       "<p>5 rows × 28 columns</p>\n",
       "</div>"
      ],
      "text/plain": [
       "          일자 요일  본사정원수  본사휴가자수  본사출장자수  본사시간외근무명령서승인건수  현본사소속재택근무자수  \\\n",
       "0 2021-01-27  수   2983      88     182               5          358   \n",
       "1 2021-01-28  목   2983     104     212             409          348   \n",
       "2 2021-01-29  금   2983     270     249               0          294   \n",
       "3 2021-02-01  월   2924     108     154             538          322   \n",
       "4 2021-02-02  화   2924      62     186             455          314   \n",
       "\n",
       "                                                조식메뉴  \\\n",
       "0  모닝롤/연유버터베이글 우유/주스 계란후라이/찐계란 단호박죽/흑미밥 우거지국 고기완자...   \n",
       "1  모닝롤/대만샌드위치 우유/주스 계란후라이/찐계란 누룽지탕/흑미밥 황태국 시래기지짐 ...   \n",
       "2  모닝롤/핫케익 우유/주스 계란후라이/찐계란 오곡죽/흑미밥 매생이굴국 고구마순볶음 양...   \n",
       "3  모닝롤/촉촉한치즈케익 우유/주스 계란후라이/찐계란 누룽지탕/흑미밥 두부김칫국 새우완...   \n",
       "4  모닝롤/토마토샌드 우유/주스 계란후라이/찐계란 채소죽/흑미밥 호박맑은국 오이생채 양...   \n",
       "\n",
       "                                                중식메뉴  \\\n",
       "0  쌀밥/흑미밥/찰현미밥 대구지리 매운돈갈비찜 오꼬노미계란말이 상추무침 포기김치 양상추...   \n",
       "1  쌀밥/보리밥/찰현미밥 우렁된장찌개 오리주물럭 청양부추전 수제삼색무쌈 겉절이김치 양상...   \n",
       "2  쌀밥/흑미밥/찰현미밥 팽이장국 수제돈까스*소스 가자미조림 동초나물무침 포기김치 양상...   \n",
       "3  쌀밥/흑미밥/찰현미밥 배추들깨국 오리대패불고기 시금치프리타타 부추고추장무침 포기김치...   \n",
       "4  쌀밥/팥밥/찰현미밥 부대찌개 닭살데리야끼조림 버섯탕수 세발나물무침 알타리김치/사과푸...   \n",
       "\n",
       "                                            석식메뉴  ...  식사가능자수      야근비율  \\\n",
       "0  흑미밥 얼큰순두부찌개 쇠고기우엉볶음 버섯햄볶음 (New)아삭이고추무절임 포기김치   ...    2355  0.002123   \n",
       "1            충무김밥 우동국물 오징어무침 꽃맛살샐러드 얼갈이쌈장무침 석박지   ...    2319  0.176369   \n",
       "2            흑미밥 물만둣국 카레찜닭 숯불양념꼬지어묵 꼬시래기무침 포기김치   ...    2170  0.000000   \n",
       "3           흑미밥 동태탕 돈육꽈리고추장조림 당면채소무침 모자반무침 포기김치   ...    2340  0.229915   \n",
       "4       흑미밥 바지락살국 쇠고기청경채볶음 두부구이*볶은김치 머위된장무침 백김치   ...    2362  0.192633   \n",
       "\n",
       "                                             중식메뉴리스트  \\\n",
       "0  [쌀밥/흑미밥/찰현미밥, 대구지리, 매운돈갈비찜, 오꼬노미계란말이, 상추무침, 포기...   \n",
       "1  [쌀밥/보리밥/찰현미밥, 우렁된장찌개, 오리주물럭, 청양부추전, 수제삼색무쌈, 겉절...   \n",
       "2  [쌀밥/흑미밥/찰현미밥, 팽이장국, 수제돈까스*소스, 가자미조림, 동초나물무침, 포...   \n",
       "3  [쌀밥/흑미밥/찰현미밥, 배추들깨국, 오리대패불고기, 시금치프리타타, 부추고추장무침...   \n",
       "4  [쌀밥/팥밥/찰현미밥, 부대찌개, 닭살데리야끼조림, 버섯탕수, 세발나물무침, 알타리...   \n",
       "\n",
       "                                          석식메뉴리스트  bob_l  soup_l    main_l  \\\n",
       "0            [흑미밥, 얼큰순두부찌개, 쇠고기우엉볶음, 버섯햄볶음, 포기김치]     쌀밥    대구지리    매운돈갈비찜   \n",
       "1       [충무김밥, 우동국물, 오징어무침, 꽃맛살샐러드, 얼갈이쌈장무침, 석박지]     쌀밥  우렁된장찌개     오리주물럭   \n",
       "2       [흑미밥, 물만둣국, 카레찜닭, 숯불양념꼬지어묵, 꼬시래기무침, 포기김치]     쌀밥    팽이장국  수제돈까스*소스   \n",
       "3      [흑미밥, 동태탕, 돈육꽈리고추장조림, 당면채소무침, 모자반무침, 포기김치]     쌀밥   배추들깨국   오리대패불고기   \n",
       "4  [흑미밥, 바지락살국, 쇠고기청경채볶음, 두부구이*볶은김치, 머위된장무침, 백김치]     쌀밥    부대찌개  닭살데리야끼조림   \n",
       "\n",
       "   bob_d   soup_d     main_d  \n",
       "0    흑미밥  얼큰순두부찌개    쇠고기우엉볶음  \n",
       "1   충무김밥     우동국물      오징어무침  \n",
       "2    흑미밥     물만둣국       카레찜닭  \n",
       "3    흑미밥      동태탕  돈육꽈리고추장조림  \n",
       "4    흑미밥    바지락살국   쇠고기청경채볶음  \n",
       "\n",
       "[5 rows x 28 columns]"
      ]
     },
     "execution_count": 64,
     "metadata": {},
     "output_type": "execute_result"
    }
   ],
   "source": [
    "test.head()"
   ]
  },
  {
   "cell_type": "markdown",
   "metadata": {},
   "source": [
    "### 쌀밥 or not"
   ]
  },
  {
   "cell_type": "code",
   "execution_count": 68,
   "metadata": {
    "ExecuteTime": {
     "end_time": "2022-02-23T16:25:35.323749Z",
     "start_time": "2022-02-23T16:25:35.299713Z"
    }
   },
   "outputs": [
    {
     "data": {
      "text/plain": [
       "1    1002\n",
       "0     203\n",
       "Name: 쌀밥_l, dtype: int64"
      ]
     },
     "execution_count": 68,
     "metadata": {},
     "output_type": "execute_result"
    }
   ],
   "source": [
    "train['쌀밥_l'] = np.where(train.loc[:,'bob_l']=='쌀밥', 1, 0)\n",
    "train['쌀밥_l'].value_counts()"
   ]
  },
  {
   "cell_type": "code",
   "execution_count": 75,
   "metadata": {
    "ExecuteTime": {
     "end_time": "2022-02-23T16:28:43.774436Z",
     "start_time": "2022-02-23T16:28:43.751257Z"
    }
   },
   "outputs": [
    {
     "name": "stdout",
     "output_type": "stream",
     "text": [
      "1    662\n",
      "0    543\n",
      "Name: 쌀밥_d, dtype: int64\n",
      "0    1113\n",
      "1      92\n",
      "Name: 흑미밥_d, dtype: int64\n"
     ]
    }
   ],
   "source": [
    "train['쌀밥_d'] = np.where(train.loc[:,'bob_d']=='쌀밥', 1, 0)\n",
    "train['흑미밥_d'] = np.where(train.loc[:,'bob_d']=='흑미밥', 1, 0)\n",
    "print(train['쌀밥_d'].value_counts())\n",
    "print(train['흑미밥_d'].value_counts())"
   ]
  },
  {
   "cell_type": "code",
   "execution_count": 73,
   "metadata": {
    "ExecuteTime": {
     "end_time": "2022-02-23T16:27:34.308275Z",
     "start_time": "2022-02-23T16:27:34.284704Z"
    }
   },
   "outputs": [
    {
     "data": {
      "text/plain": [
       "1    48\n",
       "0     2\n",
       "Name: 쌀밥_l, dtype: int64"
      ]
     },
     "execution_count": 73,
     "metadata": {},
     "output_type": "execute_result"
    }
   ],
   "source": [
    "test['쌀밥_l'] = np.where(test.loc[:,'bob_l']=='쌀밥', 1, 0)\n",
    "test['쌀밥_l'].value_counts()"
   ]
  },
  {
   "cell_type": "code",
   "execution_count": 76,
   "metadata": {
    "ExecuteTime": {
     "end_time": "2022-02-23T16:29:13.114890Z",
     "start_time": "2022-02-23T16:29:13.091082Z"
    }
   },
   "outputs": [
    {
     "name": "stdout",
     "output_type": "stream",
     "text": [
      "0    50\n",
      "Name: 쌀밥_d, dtype: int64\n",
      "1    35\n",
      "0    15\n",
      "Name: 흑미밥_d, dtype: int64\n"
     ]
    }
   ],
   "source": [
    "test['쌀밥_d'] = np.where(test.loc[:,'bob_d']=='쌀밥', 1, 0)\n",
    "test['흑미밥_d'] = np.where(test.loc[:,'bob_d']=='흑미밥', 1, 0)\n",
    "print(test['쌀밥_d'].value_counts())\n",
    "print(test['흑미밥_d'].value_counts())"
   ]
  },
  {
   "cell_type": "markdown",
   "metadata": {},
   "source": [
    "## Encoding"
   ]
  },
  {
   "cell_type": "code",
   "execution_count": null,
   "metadata": {
    "ExecuteTime": {
     "end_time": "2022-02-23T16:19:46.266544Z",
     "start_time": "2022-02-23T16:19:46.252564Z"
    }
   },
   "outputs": [],
   "source": [
    "train.columns"
   ]
  },
  {
   "cell_type": "code",
   "execution_count": null,
   "metadata": {
    "ExecuteTime": {
     "end_time": "2022-02-23T16:19:47.175664Z",
     "start_time": "2022-02-23T16:19:46.269436Z"
    }
   },
   "outputs": [],
   "source": [
    "from sklearn.preprocessing import LabelEncoder\n",
    "\n",
    "le = LabelEncoder()\n",
    "le.fit(pd.concat([train['bob_l'],test['bob_l']]).unique())\n",
    "train['bob_l']  = le.transform(train['bob_l'])\n",
    "\n",
    "test['bob_l'] = le.transform(test['bob_l'])"
   ]
  },
  {
   "cell_type": "code",
   "execution_count": null,
   "metadata": {
    "ExecuteTime": {
     "end_time": "2022-02-23T16:19:47.190861Z",
     "start_time": "2022-02-23T16:19:47.178652Z"
    }
   },
   "outputs": [],
   "source": [
    "le = LabelEncoder()\n",
    "le.fit(pd.concat([train['soup_l'],test['soup_l']]).unique())\n",
    "train['soup_l']  = le.transform(train['soup_l'])\n",
    "\n",
    "test['soup_l'] = le.transform(test['soup_l'])"
   ]
  },
  {
   "cell_type": "code",
   "execution_count": null,
   "metadata": {
    "ExecuteTime": {
     "end_time": "2022-02-23T16:19:47.221620Z",
     "start_time": "2022-02-23T16:19:47.201117Z"
    }
   },
   "outputs": [],
   "source": [
    "le = LabelEncoder()\n",
    "le.fit(pd.concat([train['main_l'],test['main_l']]).unique())\n",
    "train['main_l']  = le.transform(train['main_l'])\n",
    "\n",
    "test['main_l'] = le.transform(test['main_l'])"
   ]
  },
  {
   "cell_type": "code",
   "execution_count": null,
   "metadata": {
    "ExecuteTime": {
     "end_time": "2022-02-23T16:19:47.252277Z",
     "start_time": "2022-02-23T16:19:47.230136Z"
    }
   },
   "outputs": [],
   "source": [
    "le = LabelEncoder()\n",
    "le.fit(pd.concat([train['bob_d'],test['bob_d']]).unique())\n",
    "train['bob_d']  = le.transform(train['bob_d'])\n",
    "\n",
    "test['bob_d'] = le.transform(test['bob_d'])"
   ]
  },
  {
   "cell_type": "code",
   "execution_count": null,
   "metadata": {
    "ExecuteTime": {
     "end_time": "2022-02-23T16:19:47.282621Z",
     "start_time": "2022-02-23T16:19:47.254189Z"
    }
   },
   "outputs": [],
   "source": [
    "le = LabelEncoder()\n",
    "le.fit(pd.concat([train['soup_d'],test['soup_d']]).unique())\n",
    "train['soup_d']  = le.transform(train['soup_d'])\n",
    "\n",
    "test['soup_d'] = le.transform(test['soup_d'])"
   ]
  },
  {
   "cell_type": "code",
   "execution_count": null,
   "metadata": {
    "ExecuteTime": {
     "end_time": "2022-02-23T16:19:47.297658Z",
     "start_time": "2022-02-23T16:19:47.284576Z"
    }
   },
   "outputs": [],
   "source": [
    "le = LabelEncoder()\n",
    "le.fit(pd.concat([train['main_d'],test['main_d']]).unique())\n",
    "train['main_d']  = le.transform(train['main_d'])\n",
    "\n",
    "test['main_d'] = le.transform(test['main_d'])"
   ]
  },
  {
   "cell_type": "markdown",
   "metadata": {},
   "source": [
    "## Correlation"
   ]
  },
  {
   "cell_type": "code",
   "execution_count": null,
   "metadata": {},
   "outputs": [],
   "source": []
  },
  {
   "cell_type": "markdown",
   "metadata": {
    "ExecuteTime": {
     "end_time": "2022-02-20T14:43:54.312490Z",
     "start_time": "2022-02-20T14:43:54.297152Z"
    }
   },
   "source": [
    "# 모델링"
   ]
  },
  {
   "cell_type": "code",
   "execution_count": null,
   "metadata": {
    "ExecuteTime": {
     "end_time": "2022-02-23T16:19:47.312622Z",
     "start_time": "2022-02-23T16:19:47.299624Z"
    },
    "scrolled": true
   },
   "outputs": [],
   "source": [
    "print('train shape : {}'.format(train.shape))\n",
    "print('test shape : {}'.format(test.shape))"
   ]
  },
  {
   "cell_type": "code",
   "execution_count": null,
   "metadata": {
    "ExecuteTime": {
     "end_time": "2022-02-23T16:19:47.327899Z",
     "start_time": "2022-02-23T16:19:47.314823Z"
    }
   },
   "outputs": [],
   "source": [
    "# from pycaret.regression import *"
   ]
  },
  {
   "cell_type": "code",
   "execution_count": null,
   "metadata": {
    "ExecuteTime": {
     "end_time": "2022-02-23T16:19:47.342718Z",
     "start_time": "2022-02-23T16:19:47.331780Z"
    }
   },
   "outputs": [],
   "source": [
    "train.columns"
   ]
  },
  {
   "cell_type": "code",
   "execution_count": null,
   "metadata": {
    "ExecuteTime": {
     "end_time": "2022-02-23T16:19:47.358487Z",
     "start_time": "2022-02-23T16:19:47.345243Z"
    }
   },
   "outputs": [],
   "source": [
    "test.columns"
   ]
  },
  {
   "cell_type": "code",
   "execution_count": null,
   "metadata": {
    "ExecuteTime": {
     "end_time": "2022-02-23T16:19:47.388596Z",
     "start_time": "2022-02-23T16:19:47.360271Z"
    }
   },
   "outputs": [],
   "source": [
    "train_ln = train[['중식계','요일', '본사정원수', '본사휴가자수', '본사출장자수', '본사시간외근무명령서승인건수','현본사소속재택근무자수',\n",
    "                  '평균기온(°C)', '일강수량(mm)', '확진자수', '공휴일전', '공휴일후', '월', '일', '년', '식사가능자수', '야근비율','bob_l', 'soup_l', 'main_l']]\n",
    "train_din = train[['석식계','요일', '본사정원수', '본사휴가자수', '본사출장자수', '본사시간외근무명령서승인건수','현본사소속재택근무자수',\n",
    "                   '평균기온(°C)', '일강수량(mm)', '확진자수', '공휴일전', '공휴일후', '월', '일', '년', '식사가능자수', '야근비율','bob_d', 'soup_d', 'main_d']]\n",
    "\n",
    "test_ln = test[['요일', '본사정원수', '본사휴가자수', '본사출장자수', '본사시간외근무명령서승인건수','현본사소속재택근무자수',\n",
    "                '평균기온(°C)', '일강수량(mm)', '확진자수', '공휴일전', '공휴일후', '월', '일', '년', '식사가능자수', '야근비율','bob_l', 'soup_l', 'main_l']]\n",
    "test_din = test[['요일', '본사정원수', '본사휴가자수', '본사출장자수', '본사시간외근무명령서승인건수','현본사소속재택근무자수',\n",
    "                 '평균기온(°C)', '일강수량(mm)', '확진자수', '공휴일전', '공휴일후', '월', '일', '년', '식사가능자수', '야근비율','bob_d', 'soup_d', 'main_d']]"
   ]
  },
  {
   "cell_type": "markdown",
   "metadata": {},
   "source": [
    "## 중식계"
   ]
  },
  {
   "cell_type": "code",
   "execution_count": null,
   "metadata": {
    "ExecuteTime": {
     "end_time": "2022-02-23T16:19:47.403399Z",
     "start_time": "2022-02-23T16:19:47.391863Z"
    }
   },
   "outputs": [],
   "source": [
    "# # 분석 환경 만들기 (setup)\n",
    "# s = setup(train_ln, target='중식계')"
   ]
  },
  {
   "cell_type": "code",
   "execution_count": null,
   "metadata": {
    "ExecuteTime": {
     "end_time": "2022-02-23T16:19:47.418398Z",
     "start_time": "2022-02-23T16:19:47.407399Z"
    }
   },
   "outputs": [],
   "source": [
    "# # 모델 비교\n",
    "# best = compare_models(sort='MAE')"
   ]
  },
  {
   "cell_type": "code",
   "execution_count": null,
   "metadata": {
    "ExecuteTime": {
     "end_time": "2022-02-23T16:19:47.433528Z",
     "start_time": "2022-02-23T16:19:47.420434Z"
    }
   },
   "outputs": [],
   "source": [
    "# # 모델 생성\n",
    "# et = create_model('et', cross_validation = False)\n",
    "# gbr = create_model('gbr', cross_validation = False)\n",
    "# lgbm = create_model('lightgbm', cross_validation = False)\n",
    "# rf = create_model('rf', cross_validation = False)"
   ]
  },
  {
   "cell_type": "code",
   "execution_count": null,
   "metadata": {
    "ExecuteTime": {
     "end_time": "2022-02-23T16:19:47.448489Z",
     "start_time": "2022-02-23T16:19:47.435447Z"
    }
   },
   "outputs": [],
   "source": [
    "# # 모델 하이퍼파라미터 튜닝\n",
    "# tuned_et = tune_model(et, optimize='MAE', n_iter=10)\n",
    "# tuned_gbr = tune_model(gbr, optimize='MAE', n_iter=10)\n",
    "# tuned_lgbm = tune_model(lgbm, optimize='MAE', n_iter=10)\n",
    "# tuned_rf = tune_model(rf, optimize='MAE', n_iter=10)"
   ]
  },
  {
   "cell_type": "code",
   "execution_count": null,
   "metadata": {
    "ExecuteTime": {
     "end_time": "2022-02-23T16:19:47.463631Z",
     "start_time": "2022-02-23T16:19:47.450447Z"
    }
   },
   "outputs": [],
   "source": [
    "# # 모델 블렌딩\n",
    "# blender_specific = blend_models(estimator_list = [tuned_et,tuned_gbr,tuned_lgbm, tuned_rf],\n",
    "#                                 optimize = 'MAE')"
   ]
  },
  {
   "cell_type": "code",
   "execution_count": null,
   "metadata": {
    "ExecuteTime": {
     "end_time": "2022-02-23T16:19:47.479414Z",
     "start_time": "2022-02-23T16:19:47.465576Z"
    }
   },
   "outputs": [],
   "source": [
    "# # 학습 및 예측\n",
    "# # 마지막 학습(Finalize)\n",
    "# final_model = finalize_model(blender_specific)\n",
    "\n",
    "# # 예측(Predict)\n",
    "# pred_ln = predict_model(final_model, data = test_ln)"
   ]
  },
  {
   "cell_type": "markdown",
   "metadata": {
    "ExecuteTime": {
     "end_time": "2022-02-21T14:32:14.044055Z",
     "start_time": "2022-02-21T14:32:14.026868Z"
    }
   },
   "source": [
    "## 석식계"
   ]
  },
  {
   "cell_type": "code",
   "execution_count": null,
   "metadata": {
    "ExecuteTime": {
     "end_time": "2022-02-23T16:19:47.494428Z",
     "start_time": "2022-02-23T16:19:47.482148Z"
    }
   },
   "outputs": [],
   "source": [
    "# # 분석 환경 만들기 (setup)\n",
    "# s = setup(train_din, target='석식계')"
   ]
  },
  {
   "cell_type": "code",
   "execution_count": null,
   "metadata": {
    "ExecuteTime": {
     "end_time": "2022-02-23T16:19:47.509220Z",
     "start_time": "2022-02-23T16:19:47.497320Z"
    }
   },
   "outputs": [],
   "source": [
    "# # 모델 비교\n",
    "# best = compare_models(sort='MAE')"
   ]
  },
  {
   "cell_type": "code",
   "execution_count": null,
   "metadata": {
    "ExecuteTime": {
     "end_time": "2022-02-23T16:19:47.524163Z",
     "start_time": "2022-02-23T16:19:47.513149Z"
    }
   },
   "outputs": [],
   "source": [
    "# # 모델 생성\n",
    "# et = create_model('et', cross_validation = False)\n",
    "# gbr = create_model('gbr', cross_validation = False)\n",
    "# lgbm = create_model('lightgbm', cross_validation = False)\n",
    "# rf = create_model('rf', cross_validation = False)"
   ]
  },
  {
   "cell_type": "code",
   "execution_count": null,
   "metadata": {
    "ExecuteTime": {
     "end_time": "2022-02-23T16:19:47.539350Z",
     "start_time": "2022-02-23T16:19:47.526153Z"
    }
   },
   "outputs": [],
   "source": [
    "# # 모델 하이퍼파라미터 튜닝\n",
    "# tuned_et = tune_model(et, optimize='MAE', n_iter=10)\n",
    "# tuned_gbr = tune_model(gbr, optimize='MAE', n_iter=10)\n",
    "# tuned_lgbm = tune_model(lgbm, optimize='MAE', n_iter=10)\n",
    "# tuned_rf = tune_model(rf, optimize='MAE', n_iter=10)"
   ]
  },
  {
   "cell_type": "code",
   "execution_count": null,
   "metadata": {
    "ExecuteTime": {
     "end_time": "2022-02-23T16:19:47.554242Z",
     "start_time": "2022-02-23T16:19:47.541162Z"
    }
   },
   "outputs": [],
   "source": [
    "# # 모델 블렌딩\n",
    "# blender_specific = blend_models(estimator_list = [tuned_et,tuned_gbr,tuned_lgbm, tuned_rf],\n",
    "#                                 optimize = 'MAE')"
   ]
  },
  {
   "cell_type": "code",
   "execution_count": null,
   "metadata": {
    "ExecuteTime": {
     "end_time": "2022-02-23T16:19:47.569148Z",
     "start_time": "2022-02-23T16:19:47.556151Z"
    }
   },
   "outputs": [],
   "source": [
    "# # 학습 및 예측\n",
    "# # 마지막 학습(Finalize)\n",
    "# final_model = finalize_model(blender_specific)\n",
    "\n",
    "# # 예측(Predict)\n",
    "# pred_din = predict_model(final_model, data = test_din)"
   ]
  },
  {
   "cell_type": "markdown",
   "metadata": {},
   "source": [
    "# Submission"
   ]
  },
  {
   "cell_type": "code",
   "execution_count": null,
   "metadata": {
    "ExecuteTime": {
     "end_time": "2022-02-23T16:19:47.599680Z",
     "start_time": "2022-02-23T16:19:47.573151Z"
    }
   },
   "outputs": [],
   "source": [
    "submission = pd.read_csv(\"./data/sample_submission.csv\")"
   ]
  },
  {
   "cell_type": "code",
   "execution_count": null,
   "metadata": {
    "ExecuteTime": {
     "end_time": "2022-02-23T16:19:48.072377Z",
     "start_time": "2022-02-23T16:19:47.601581Z"
    }
   },
   "outputs": [],
   "source": [
    "submission['중식계'] = pred_ln['Label']\n",
    "submission['석식계'] = pred_din['Label']"
   ]
  },
  {
   "cell_type": "code",
   "execution_count": null,
   "metadata": {
    "ExecuteTime": {
     "end_time": "2022-02-23T16:19:48.101474Z",
     "start_time": "2022-02-23T16:19:42.352Z"
    }
   },
   "outputs": [],
   "source": [
    "submission.to_csv(\"./data/submission_pycaret.csv\",index=False)"
   ]
  },
  {
   "cell_type": "code",
   "execution_count": null,
   "metadata": {},
   "outputs": [],
   "source": []
  }
 ],
 "metadata": {
  "hide_input": false,
  "kernelspec": {
   "display_name": "Python 3",
   "language": "python",
   "name": "python3"
  },
  "language_info": {
   "codemirror_mode": {
    "name": "ipython",
    "version": 3
   },
   "file_extension": ".py",
   "mimetype": "text/x-python",
   "name": "python",
   "nbconvert_exporter": "python",
   "pygments_lexer": "ipython3",
   "version": "3.8.3"
  },
  "toc": {
   "base_numbering": 1,
   "nav_menu": {},
   "number_sections": true,
   "sideBar": true,
   "skip_h1_title": false,
   "title_cell": "Table of Contents",
   "title_sidebar": "Contents",
   "toc_cell": false,
   "toc_position": {
    "height": "calc(100% - 180px)",
    "left": "10px",
    "top": "150px",
    "width": "242.438px"
   },
   "toc_section_display": true,
   "toc_window_display": true
  },
  "varInspector": {
   "cols": {
    "lenName": 16,
    "lenType": 16,
    "lenVar": 40
   },
   "kernels_config": {
    "python": {
     "delete_cmd_postfix": "",
     "delete_cmd_prefix": "del ",
     "library": "var_list.py",
     "varRefreshCmd": "print(var_dic_list())"
    },
    "r": {
     "delete_cmd_postfix": ") ",
     "delete_cmd_prefix": "rm(",
     "library": "var_list.r",
     "varRefreshCmd": "cat(var_dic_list()) "
    }
   },
   "types_to_exclude": [
    "module",
    "function",
    "builtin_function_or_method",
    "instance",
    "_Feature"
   ],
   "window_display": false
  }
 },
 "nbformat": 4,
 "nbformat_minor": 4
}
