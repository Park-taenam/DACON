{
 "cells": [
  {
   "cell_type": "markdown",
   "metadata": {
    "id": "By_RHrV2t6Fm"
   },
   "source": [
    "# 데이터 전처리"
   ]
  },
  {
   "cell_type": "markdown",
   "metadata": {
    "id": "STJctOlpwcfI"
   },
   "source": [
    "- 기존데이터에 평균기온(°C), 일강수량(mm), 평균 지면온도(°C), 확진자수 피처가 추가된 데이터 사용"
   ]
  },
  {
   "cell_type": "code",
   "execution_count": 1,
   "metadata": {
    "ExecuteTime": {
     "end_time": "2022-02-28T07:06:34.678133Z",
     "start_time": "2022-02-28T07:06:32.241712Z"
    },
    "id": "Zi2zhM3esJNz"
   },
   "outputs": [],
   "source": [
    "import pandas as pd\n",
    "import numpy as np\n",
    "import warnings \n",
    "import os\n",
    "import holidays\n",
    "import datetime\n",
    "from datetime import timedelta\n",
    "\n",
    "\n",
    "\n",
    "from lightgbm import LGBMRegressor\n",
    "from xgboost import XGBRegressor\n",
    "\n",
    "from sklearn.preprocessing import LabelEncoder\n",
    "\n",
    "warnings.filterwarnings('ignore')\n"
   ]
  },
  {
   "cell_type": "code",
   "execution_count": 2,
   "metadata": {
    "ExecuteTime": {
     "end_time": "2022-02-28T07:06:35.089087Z",
     "start_time": "2022-02-28T07:06:34.679893Z"
    },
    "id": "9LgkN4kBt6Fp"
   },
   "outputs": [],
   "source": [
    "import matplotlib.pyplot as plt\n",
    "import seaborn as sns\n",
    "import matplotlib\n",
    "import matplotlib.font_manager as fm\n",
    "matplotlib.rcParams['axes.unicode_minus'] = False\n",
    "\n",
    "\n",
    "# plt.rc('font', family=fm.FontProperties(fname=\"c:/Windows/Fonts/malgun.ttf\").get_name())\n",
    "plt.rc('font', family='AppleGothic')\n",
    "\n",
    "plt.style.use('fivethirtyeight')"
   ]
  },
  {
   "cell_type": "code",
   "execution_count": 70,
   "metadata": {
    "ExecuteTime": {
     "end_time": "2022-02-28T12:23:34.194685Z",
     "start_time": "2022-02-28T12:23:34.143618Z"
    }
   },
   "outputs": [],
   "source": [
    "# 사용자 운영체제 확인\n",
    "import os\n",
    "os.name\n",
    "\n",
    "# 운영체제별 한글 폰트 설정\n",
    "if os.name == 'posix': # Mac 환경 폰트 설정\n",
    "    plt.rc('font', family='AppleGothic')\n",
    "elif os.name == 'nt': # Windows 환경 폰트 설정\n",
    "    plt.rc('font', family='Malgun Gothic')\n",
    "\n",
    "plt.rc('axes', unicode_minus=False) # 마이너스 폰트 설정\n",
    "\n",
    "\n",
    "# 글씨 선명하게 출력하는 설정\n",
    "%config InlineBackend.figure_format = 'retina'"
   ]
  },
  {
   "cell_type": "code",
   "execution_count": 3,
   "metadata": {
    "ExecuteTime": {
     "end_time": "2022-02-28T07:06:35.104058Z",
     "start_time": "2022-02-28T07:06:35.092060Z"
    },
    "id": "MKovWL41t6Fp"
   },
   "outputs": [],
   "source": [
    "# # 재민\n",
    "\n",
    "# from google import colab\n",
    "# colab.drive.mount(\"/content/drive\")\n",
    "\n",
    "# data = \"/content/drive/MyDrive/colab/cook/\"\n",
    "\n",
    "# sub = pd.read_csv(f'{data}sample_submission.csv')\n",
    "# train = pd.read_csv(f'{data}weather_corona_train.csv', encoding='cp949', index_col = 0)\n",
    "# test = pd.read_csv(f'{data}weather_corona_test.csv', encoding='cp949', index_col = 0)"
   ]
  },
  {
   "cell_type": "code",
   "execution_count": 4,
   "metadata": {
    "ExecuteTime": {
     "end_time": "2022-02-28T07:06:35.118854Z",
     "start_time": "2022-02-28T07:06:35.106058Z"
    },
    "id": "5KqoDLL6uqYj"
   },
   "outputs": [],
   "source": [
    "# # 효진\n",
    "# train = pd.read_csv('/Users/hyojin/Desktop/miniProject/weather_corona_train.csv', encoding='cp949', index_col = 0)\n",
    "# test = pd.read_csv('/Users/hyojin/Desktop/miniProject/weather_corona_test.csv', encoding='cp949', index_col = 0)\n",
    "# sub = pd.read_csv('/Users/hyojin/Desktop/miniProject/sample_submission.csv')"
   ]
  },
  {
   "cell_type": "code",
   "execution_count": 5,
   "metadata": {
    "ExecuteTime": {
     "end_time": "2022-02-28T07:06:35.164139Z",
     "start_time": "2022-02-28T07:06:35.120821Z"
    },
    "id": "oChsXAfuIcWm"
   },
   "outputs": [],
   "source": [
    "# 태남\n",
    "train = pd.read_csv('./data/weather_corona_train.csv', encoding='cp949', index_col = 0)\n",
    "test = pd.read_csv('./data/weather_corona_test.csv', encoding='cp949', index_col = 0)\n",
    "sub = pd.read_csv('./data/sample_submission.csv')"
   ]
  },
  {
   "cell_type": "code",
   "execution_count": 6,
   "metadata": {
    "ExecuteTime": {
     "end_time": "2022-02-28T07:06:35.179034Z",
     "start_time": "2022-02-28T07:06:35.166035Z"
    },
    "id": "HJX-G6QIt6Fp"
   },
   "outputs": [],
   "source": [
    "## 필요없는거 일단 지우기\n",
    "train = train.drop(['평균 지면온도(°C)','확진자수','조식메뉴'],axis=1)\n",
    "test = test.drop(['평균 지면온도(°C)','확진자수','조식메뉴'],axis=1)"
   ]
  },
  {
   "cell_type": "code",
   "execution_count": 7,
   "metadata": {
    "ExecuteTime": {
     "end_time": "2022-02-28T07:06:35.194049Z",
     "start_time": "2022-02-28T07:06:35.181083Z"
    },
    "id": "Be-dWeH1es8J"
   },
   "outputs": [],
   "source": [
    "## 열 이름이 지저분해서 변경\n",
    "train.rename(columns={'평균기온(°C)':'평균기온','일강수량(mm)':'일강수량'},inplace=True)\n",
    "test.rename(columns={'평균기온(°C)':'평균기온','일강수량(mm)':'일강수량'},inplace=True)"
   ]
  },
  {
   "cell_type": "markdown",
   "metadata": {
    "id": "1m7Rfsypt6Fq"
   },
   "source": [
    "## 기온 피쳐"
   ]
  },
  {
   "cell_type": "markdown",
   "metadata": {
    "id": "I2lmlIBOwQtL"
   },
   "source": [
    "- 평균기온(°C) -> 영하는 1, 영상은 0으로 변경"
   ]
  },
  {
   "cell_type": "code",
   "execution_count": 8,
   "metadata": {
    "ExecuteTime": {
     "end_time": "2022-02-28T07:06:35.209552Z",
     "start_time": "2022-02-28T07:06:35.196309Z"
    },
    "colab": {
     "base_uri": "https://localhost:8080/"
    },
    "id": "mUHRdPUEt6Fq",
    "outputId": "c5650ac5-26d6-4b40-a433-07fa23f74e27"
   },
   "outputs": [
    {
     "name": "stdout",
     "output_type": "stream",
     "text": [
      "12.4 12.6\n"
     ]
    }
   ],
   "source": [
    "## 659인덱스가 널값이라서 양 옆 기온 확인\n",
    "print(train['평균기온'][658],train['평균기온'][660])"
   ]
  },
  {
   "cell_type": "code",
   "execution_count": 9,
   "metadata": {
    "ExecuteTime": {
     "end_time": "2022-02-28T07:06:35.225094Z",
     "start_time": "2022-02-28T07:06:35.213607Z"
    },
    "id": "QNnRTM8-t6Fr"
   },
   "outputs": [],
   "source": [
    "# 양옆기온의 평균으로 결측치 채우기\n",
    "train['평균기온'][659]=12.5"
   ]
  },
  {
   "cell_type": "code",
   "execution_count": 10,
   "metadata": {
    "ExecuteTime": {
     "end_time": "2022-02-28T07:06:35.240089Z",
     "start_time": "2022-02-28T07:06:35.228091Z"
    },
    "id": "d33eV-5ht6Fr"
   },
   "outputs": [],
   "source": [
    "## 테스트데이터가 1~2월이기에 영하의 온도를 체크할 필요가 있어보임\n",
    "## 온도가 영하면 1, 영상이면 0으로 기온피쳐를 변경\n",
    "\n",
    "def cold(x):\n",
    "    if x<0:\n",
    "        return 1\n",
    "    else:\n",
    "        return 0\n",
    "\n",
    "train['평균기온'] = train['평균기온'].apply(cold)\n",
    "test['평균기온'] = test['평균기온'].apply(cold)"
   ]
  },
  {
   "cell_type": "code",
   "execution_count": 11,
   "metadata": {
    "ExecuteTime": {
     "end_time": "2022-02-28T07:06:35.255085Z",
     "start_time": "2022-02-28T07:06:35.244090Z"
    },
    "colab": {
     "base_uri": "https://localhost:8080/"
    },
    "id": "q_9BK-Ojt6Fr",
    "outputId": "00ff0073-a634-43c3-94b1-883aa6593b0c"
   },
   "outputs": [
    {
     "name": "stdout",
     "output_type": "stream",
     "text": [
      "영하 중식계: 917.7386363636364 영하 석식계:  424.2386363636364 \n",
      " 영상 중식계:  888.1754700089525 영상 석식계:  464.7296329453894\n"
     ]
    }
   ],
   "source": [
    "## 중식은 영하온도면 더 먹고, 석식은 영하면 덜먹음  영하면 집에 빨리가나..?\n",
    "\n",
    "print('영하 중식계:',train.loc[train['평균기온']==1,'중식계'].mean(),\n",
    "     '영하 석식계: ',train.loc[train['평균기온']==1,'석식계'].mean(),'\\n',\n",
    "     '영상 중식계: ',train.loc[train['평균기온']==0,'중식계'].mean(),\n",
    "     '영상 석식계: ', train.loc[train['평균기온']==0,'석식계'].mean())"
   ]
  },
  {
   "cell_type": "markdown",
   "metadata": {
    "id": "ABQpkOJpt6Fs"
   },
   "source": [
    "## 강수량 피쳐"
   ]
  },
  {
   "cell_type": "markdown",
   "metadata": {
    "id": "OD-TZeCGw0B-"
   },
   "source": [
    "- 일강수량(mm) -> 비 내린 날 1, 비 안 내린 날 0"
   ]
  },
  {
   "cell_type": "code",
   "execution_count": 12,
   "metadata": {
    "ExecuteTime": {
     "end_time": "2022-02-28T07:11:06.922137Z",
     "start_time": "2022-02-28T07:11:06.906583Z"
    },
    "id": "7jeeJmclt6Fs"
   },
   "outputs": [],
   "source": [
    "# 널값은 0으로 채우자\n",
    "train['일강수량']=train['일강수량'].fillna(0)\n",
    "test['일강수량']=test['일강수량'].fillna(0)"
   ]
  },
  {
   "cell_type": "code",
   "execution_count": 13,
   "metadata": {
    "ExecuteTime": {
     "end_time": "2022-02-28T07:11:07.346214Z",
     "start_time": "2022-02-28T07:11:07.329582Z"
    },
    "id": "fa-HaEWCt6Fs"
   },
   "outputs": [],
   "source": [
    "# 비가 안오면 0, 비가 온날은 1로 강수량 피쳐 변경\n",
    "def rain(x):\n",
    "    if x==0:\n",
    "        return 0\n",
    "    else:\n",
    "        return 1\n",
    "\n",
    "train['일강수량'] = train['일강수량'].apply(rain)\n",
    "test['일강수량'] = test['일강수량'].apply(rain)"
   ]
  },
  {
   "cell_type": "code",
   "execution_count": 14,
   "metadata": {
    "ExecuteTime": {
     "end_time": "2022-02-28T07:11:07.785598Z",
     "start_time": "2022-02-28T07:11:07.769160Z"
    },
    "colab": {
     "base_uri": "https://localhost:8080/"
    },
    "id": "1qCjxBF6t6Fs",
    "outputId": "c5e383f5-5a19-4aaa-acb8-6a154be4154d"
   },
   "outputs": [
    {
     "name": "stdout",
     "output_type": "stream",
     "text": [
      "비o 중식계: 924.0291262135922 비o 석식계:  463.1618122977346 \n",
      " 비x 중식계:  878.7142857142857 비x 석식계:  461.2935267857143\n"
     ]
    }
   ],
   "source": [
    "## 비가 올때 중,석식 다 많이 먹음 (차이는 중식이 더 큼)\n",
    "\n",
    "print('비o 중식계:',train.loc[train['일강수량']==1,'중식계'].mean(),\n",
    "     '비o 석식계: ',train.loc[train['일강수량']==1,'석식계'].mean(),'\\n',\n",
    "     '비x 중식계: ',train.loc[train['일강수량']==0,'중식계'].mean(),\n",
    "     '비x 석식계: ', train.loc[train['일강수량']==0,'석식계'].mean())"
   ]
  },
  {
   "cell_type": "markdown",
   "metadata": {
    "id": "M1cFtjRRt6Ft"
   },
   "source": [
    "## 날짜 피쳐 생성"
   ]
  },
  {
   "cell_type": "markdown",
   "metadata": {
    "id": "SZyWrhv_xBhP"
   },
   "source": [
    "- 공휴일전 : 공휴일 전날은 1, 아니면 0\n",
    "- 공휴일후 : 공휴일 다음 날은 1, 아니면 0"
   ]
  },
  {
   "cell_type": "code",
   "execution_count": 15,
   "metadata": {
    "ExecuteTime": {
     "end_time": "2022-02-28T07:14:07.417317Z",
     "start_time": "2022-02-28T07:14:07.321290Z"
    },
    "id": "0pRep-eFt6Ft"
   },
   "outputs": [],
   "source": [
    "holiday_list = [] \n",
    "for i in range(2016,2022):\n",
    "    for date in holidays.KR(years=i).keys():  # 한국 공휴일 가져오기\n",
    "        holiday_list.append(date)"
   ]
  },
  {
   "cell_type": "code",
   "execution_count": 16,
   "metadata": {
    "ExecuteTime": {
     "end_time": "2022-02-28T07:14:08.054818Z",
     "start_time": "2022-02-28T07:14:08.049660Z"
    },
    "id": "3t6z589Et6Ft"
   },
   "outputs": [],
   "source": [
    "holiday_before_list=[]\n",
    "for_mat='%Y-%m-%d'\n",
    "for i in holiday_list:\n",
    "    holiday_before_list.append((i - timedelta(days=1)).strftime(for_mat))\n",
    "        # i - timedelta(days=1): datetime에서 날짜 하루 빼기\n",
    "        # .strftime(for_mat): 포맷과 같은 형식으로 datetime에서 str로 변환"
   ]
  },
  {
   "cell_type": "code",
   "execution_count": 17,
   "metadata": {
    "ExecuteTime": {
     "end_time": "2022-02-28T07:14:08.690862Z",
     "start_time": "2022-02-28T07:14:08.672716Z"
    },
    "id": "MLYahcbTt6Ft"
   },
   "outputs": [],
   "source": [
    "def holiday_before(x):\n",
    "    if x in holiday_before_list:\n",
    "        return 1\n",
    "    else:\n",
    "        return 0\n",
    "train['공휴일전'] = train.일자.apply(holiday_before)\n",
    "test['공휴일전'] = test.일자.apply(holiday_before)"
   ]
  },
  {
   "cell_type": "code",
   "execution_count": 18,
   "metadata": {
    "ExecuteTime": {
     "end_time": "2022-02-28T07:21:36.089785Z",
     "start_time": "2022-02-28T07:21:36.082254Z"
    },
    "id": "Qk58XHGAt6Fu"
   },
   "outputs": [],
   "source": [
    "holiday_after_list=[]\n",
    "for_mat='%Y-%m-%d'\n",
    "for i in holiday_list:\n",
    "    holiday_after_list.append((i + timedelta(days=1)).strftime(for_mat))"
   ]
  },
  {
   "cell_type": "code",
   "execution_count": 19,
   "metadata": {
    "ExecuteTime": {
     "end_time": "2022-02-28T07:21:36.517409Z",
     "start_time": "2022-02-28T07:21:36.492553Z"
    },
    "id": "PSlIiK4wt6Fu"
   },
   "outputs": [],
   "source": [
    "def holiday_after(x):\n",
    "    if x in holiday_after_list:\n",
    "        return 1\n",
    "    else:\n",
    "        return 0\n",
    "train['공휴일후'] = train.일자.apply(holiday_after)\n",
    "test['공휴일후'] = test.일자.apply(holiday_after)"
   ]
  },
  {
   "cell_type": "code",
   "execution_count": 20,
   "metadata": {
    "ExecuteTime": {
     "end_time": "2022-02-28T07:21:37.110527Z",
     "start_time": "2022-02-28T07:21:37.096738Z"
    },
    "id": "htWQEnSLt6Fu"
   },
   "outputs": [],
   "source": [
    "## 누락된 것은 찾아서 넣음\n",
    "\n",
    "# 16-4-13 국회의원 선거\n",
    "train['공휴일전'][47]=1\n",
    "train['공휴일후'][48]=1\n",
    "\n",
    "# 17-5-9 대통령 선거\n",
    "train['공휴일전'][311]=1\n",
    "train['공휴일후'][312]=1\n",
    "\n",
    "# 18-6-13 지방선거\n",
    "train['공휴일전'][579]=1\n",
    "train['공휴일후'][580]=1\n",
    "\n",
    "# 20-4-15 국회의원 선거\n",
    "train['공휴일전'][1027]=1\n",
    "train['공휴일후'][1028]=1\n",
    "\n",
    "# 20-9-30 추석\n",
    "train['공휴일전'][1129]=1\n"
   ]
  },
  {
   "cell_type": "markdown",
   "metadata": {
    "id": "oS8zHYA0xT1l"
   },
   "source": [
    "- 요일 : 레이블 인코딩"
   ]
  },
  {
   "cell_type": "code",
   "execution_count": 21,
   "metadata": {
    "ExecuteTime": {
     "end_time": "2022-02-28T07:28:33.821788Z",
     "start_time": "2022-02-28T07:28:33.790055Z"
    },
    "id": "6eULvtFBnzlq"
   },
   "outputs": [],
   "source": [
    "train.일자 = train.일자.astype('datetime64')\n",
    "test.일자 = test.일자.astype('datetime64')"
   ]
  },
  {
   "cell_type": "code",
   "execution_count": 22,
   "metadata": {
    "ExecuteTime": {
     "end_time": "2022-02-28T07:28:34.359643Z",
     "start_time": "2022-02-28T07:28:34.344400Z"
    },
    "id": "qDLywtmisJOM"
   },
   "outputs": [],
   "source": [
    "train['월'] = train.일자.dt.month\n",
    "train['일'] = train.일자.dt.day\n",
    "\n",
    "test['월'] = test.일자.dt.month\n",
    "test['일'] = test.일자.dt.day"
   ]
  },
  {
   "cell_type": "code",
   "execution_count": 23,
   "metadata": {
    "ExecuteTime": {
     "end_time": "2022-02-28T07:28:35.322417Z",
     "start_time": "2022-02-28T07:28:35.309407Z"
    },
    "id": "0P5npZcat6Fv"
   },
   "outputs": [],
   "source": [
    "def dayofweek1(x):\n",
    "    if '월' in x:\n",
    "        return 1\n",
    "    elif \"화\" in x:\n",
    "        return 2\n",
    "    elif \"수\" in x:\n",
    "        return 3\n",
    "    elif \"목\" in x:\n",
    "        return 4\n",
    "    else:\n",
    "        return 5\n",
    "\n",
    "train['요일'] = train.요일.apply(dayofweek1)\n",
    "test['요일'] = test.요일.apply(dayofweek1)"
   ]
  },
  {
   "cell_type": "markdown",
   "metadata": {
    "id": "ABBg8tWsxWNS"
   },
   "source": [
    "- 요일_야근 : 석식의 경우 평균 석식계가 낮은 수, 금에 1값 부여, 나머지는 0"
   ]
  },
  {
   "cell_type": "code",
   "execution_count": 24,
   "metadata": {
    "ExecuteTime": {
     "end_time": "2022-02-28T07:30:18.817184Z",
     "start_time": "2022-02-28T07:30:18.806711Z"
    },
    "id": "yM-MYdcet6Fv"
   },
   "outputs": [],
   "source": [
    "## 석식계의 수, 금이 낮은 경향\n",
    "## 수,금요일은 1, 아닌날은 0인 피쳐 생성\n",
    "## 아마 이 피쳐는 석식에만 넣어도 될듯?\n",
    "\n",
    "def dayofweek2(x):\n",
    "    if x in [3,5]:\n",
    "        return 1\n",
    "    else:\n",
    "        return 0\n",
    "\n",
    "train['요일_야근'] = train.요일.apply(dayofweek2)\n",
    "test['요일_야근'] = test.요일.apply(dayofweek2)"
   ]
  },
  {
   "cell_type": "code",
   "execution_count": 77,
   "metadata": {
    "ExecuteTime": {
     "end_time": "2022-02-28T12:28:26.417326Z",
     "start_time": "2022-02-28T12:28:26.105589Z"
    }
   },
   "outputs": [
    {
     "data": {
      "image/png": "[encoded data removed]",
      "text/plain": [
       "<Figure size 432x432 with 1 Axes>"
      ]
     },
     "metadata": {
      "image/png": {
       "height": 424,
       "width": 440
      }
     },
     "output_type": "display_data"
    }
   ],
   "source": [
    "plt.figure(figsize=(6,6))\n",
    "\n",
    "sns.barplot(x=\"요일\", y=\"중식계비율\", data=train)\n",
    "plt.title(\"요일별 중식계비율\")\n",
    "plt.show()"
   ]
  },
  {
   "cell_type": "code",
   "execution_count": 78,
   "metadata": {
    "ExecuteTime": {
     "end_time": "2022-02-28T12:28:34.301936Z",
     "start_time": "2022-02-28T12:28:33.980603Z"
    }
   },
   "outputs": [
    {
     "data": {
      "image/png": "[encoded data removed]",
      "text/plain": [
       "<Figure size 432x432 with 1 Axes>"
      ]
     },
     "metadata": {
      "image/png": {
       "height": 424,
       "width": 448
      }
     },
     "output_type": "display_data"
    }
   ],
   "source": [
    "plt.figure(figsize=(6,6))\n",
    "\n",
    "sns.barplot(x=\"요일\", y=\"석식계비율\", data=train)\n",
    "plt.title(\"요일별 석식계비율\")\n",
    "plt.show()"
   ]
  },
  {
   "cell_type": "markdown",
   "metadata": {
    "id": "bmjj8vOrxiGd"
   },
   "source": [
    "- 일_초중말 : 월 초반, 중반, 말을 10일 단위로 구분"
   ]
  },
  {
   "cell_type": "code",
   "execution_count": 25,
   "metadata": {
    "ExecuteTime": {
     "end_time": "2022-02-28T07:31:42.496047Z",
     "start_time": "2022-02-28T07:31:42.473039Z"
    },
    "id": "cwU9ee_Rt6Fw"
   },
   "outputs": [],
   "source": [
    "## 10, 20, 31 기준으로 일 초, 중, 말을 표현하는 피쳐생성\n",
    "def dayofweek3(x):\n",
    "    if x < 11:\n",
    "        return 1\n",
    "    elif x < 21:\n",
    "        return 2\n",
    "    else:\n",
    "        return 3\n",
    "\n",
    "train['일_초중말'] = train.일.apply(dayofweek3)\n",
    "test['일_초중말'] = test.일.apply(dayofweek3)"
   ]
  },
  {
   "cell_type": "markdown",
   "metadata": {
    "id": "N__3DbQAt6Fw"
   },
   "source": [
    "## 인원 피쳐"
   ]
  },
  {
   "cell_type": "markdown",
   "metadata": {
    "id": "inmcgyedxuRL"
   },
   "source": [
    "- 출근 : 본사정원수 - 본사출장자수 - 본사휴가자수 - 현본사소속재택근무\n",
    "- 휴가비율 : 본사휴가자수 / 본사정원수\n",
    "- 출장비율 : 본사출장자수 / 본사정원수\n",
    "- 야근비율 : 본사시간외근무 / 본사정원수\n",
    "- 재택비율 : 현본사재택근무 / 본사정원수"
   ]
  },
  {
   "cell_type": "code",
   "execution_count": 26,
   "metadata": {
    "ExecuteTime": {
     "end_time": "2022-02-28T07:38:15.940045Z",
     "start_time": "2022-02-28T07:38:15.902866Z"
    },
    "id": "J2voWfQpqUwP"
   },
   "outputs": [],
   "source": [
    "train['출근'] = train['본사정원수'] - train['본사출장자수'] - train['본사휴가자수'] - train['현본사소속재택근무자수']\n",
    "test['출근'] = test['본사정원수'] - test['본사출장자수'] - test['본사휴가자수'] - test['현본사소속재택근무자수']\n",
    "\n",
    "train['휴가비율'] = train['본사휴가자수']/train['본사정원수']\n",
    "test['휴가비율'] = test['본사휴가자수']/test['본사정원수']\n",
    "\n",
    "train['출장비율'] = train['본사출장자수']/train['본사정원수']\n",
    "test['출장비율'] = test['본사출장자수']/test['본사정원수']\n",
    "\n",
    "train['야근비율'] = train['본사시간외근무명령서승인건수']/train['출근']\n",
    "test['야근비율'] = test['본사시간외근무명령서승인건수']/test['출근']\n",
    "\n",
    "train['재택비율'] = train['현본사소속재택근무자수']/train['본사정원수']\n",
    "test['재택비율'] = test['현본사소속재택근무자수']/test['본사정원수']"
   ]
  },
  {
   "cell_type": "markdown",
   "metadata": {
    "id": "fcR7cQrit6Fx"
   },
   "source": [
    "## 메뉴정리(중식)\n",
    "- 밥_중식\n",
    "- 국_중식\n",
    "- 반찬_중식\n",
    "=> 모두 레이블 인코딩"
   ]
  },
  {
   "cell_type": "code",
   "execution_count": 27,
   "metadata": {
    "ExecuteTime": {
     "end_time": "2022-02-28T07:41:20.997845Z",
     "start_time": "2022-02-28T07:41:20.685629Z"
    },
    "id": "z6Wp4oEAfoHL"
   },
   "outputs": [],
   "source": [
    "#메뉴 구분 함수\n",
    "def split_menu(x):\n",
    "  menu_return = []  #return할 메뉴 데이터. 메뉴 스플릿 & 원산지 제외\n",
    "  for data in x:\n",
    "    menus = []              #전처리된 메뉴\n",
    "    menus_sp = data.split() #띄어쓰기 split\n",
    "    for menu_sp in menus_sp:\n",
    "      if '(' in menu_sp:\n",
    "        pass\n",
    "      elif ',' in menu_sp:  #comma split\n",
    "        menus_comma = menu_sp.split(',')\n",
    "        for menu_comma in menus_comma:\n",
    "          menus.append(menu_comma)\n",
    "      else:\n",
    "        menus.append(menu_sp)\n",
    "    menu_return.append(menus)\n",
    "  return menu_return\n",
    "#train 데이터 중식메뉴 카테고리별 분류\n",
    "def seperate_lunch_menu_list(df):\n",
    "\n",
    "  str = 'None'\n",
    "  lunch_menu_list = df['중식메뉴리스트']\n",
    "\n",
    "  print('######## 점심 데이터 구분 함수 시작 ########')\n",
    "\n",
    "  #메뉴 종류별 구분 (10 피처)\n",
    "  rice = []\n",
    "  soup = []\n",
    "  side_1 = []\n",
    "  side_2 = []\n",
    "  side_3 = []\n",
    "  side_4 = []\n",
    "  side_5 = []\n",
    "  dessert_1 = []\n",
    "  dessert_2 = []\n",
    "  kimchi = []\n",
    "\n",
    "  for idx, lunch_menu in enumerate(lunch_menu_list):\n",
    "\n",
    "    # print(\"현재 인덱스 :\", idx)\n",
    "    # print(lunch_menu)\n",
    "\n",
    "    #[밥 국 반찬2개 디저트 김치]\n",
    "    if idx in [38,57,70,75,80,109,123,286,301,341,\n",
    "                 361,366,449,482,549,553,687,747,786,843,\n",
    "                 867,882,909,983,1023,1061]:   \n",
    "      rice.append(lunch_menu[0])\n",
    "      soup.append(lunch_menu[1])\n",
    "      side_1.append(lunch_menu[2])\n",
    "      side_2.append(lunch_menu[3])\n",
    "      side_3.append(str)\n",
    "      side_4.append(str)\n",
    "      side_5.append(str)\n",
    "      dessert_1.append(lunch_menu[4])\n",
    "      dessert_2.append(str)\n",
    "      kimchi.append(lunch_menu[5])\n",
    "    #[밥 국 반찬3개 디저트 김치]\n",
    "    elif idx in [0,1,2,3,4,5,6,7,8,9,\n",
    "               11,12,13,15,16,17,19,169,378,705,\n",
    "               951,956,1062,1064,1066]:   \n",
    "      rice.append(lunch_menu[0])\n",
    "      soup.append(lunch_menu[1])\n",
    "      side_1.append(lunch_menu[2])\n",
    "      side_2.append(lunch_menu[3])\n",
    "      side_3.append(lunch_menu[4])\n",
    "      side_4.append(str)\n",
    "      side_5.append(str)\n",
    "      dessert_1.append(lunch_menu[5])\n",
    "      dessert_2.append(str)\n",
    "      kimchi.append(lunch_menu[6])\n",
    "    #[밥 국 반찬3개 디저트2개 김치]\n",
    "    elif idx in [1026,1035,1040,1042,1045]:   \n",
    "      rice.append(lunch_menu[0])\n",
    "      soup.append(lunch_menu[1])\n",
    "      side_1.append(lunch_menu[2])\n",
    "      side_2.append(lunch_menu[3])\n",
    "      side_3.append(lunch_menu[4])\n",
    "      side_4.append(str)\n",
    "      side_5.append(str)\n",
    "      dessert_1.append(lunch_menu[5])\n",
    "      dessert_2.append(lunch_menu[6])\n",
    "      kimchi.append(lunch_menu[7])       \n",
    "    #[밥 국 반찬4개 디저트 김치]\n",
    "    elif idx in [1027,1032,1033,1034,1039,1041,1044,1046]:   \n",
    "      rice.append(lunch_menu[0])\n",
    "      soup.append(lunch_menu[1])\n",
    "      side_1.append(lunch_menu[2])\n",
    "      side_2.append(lunch_menu[3])\n",
    "      side_3.append(lunch_menu[4])\n",
    "      side_4.append(lunch_menu[5])\n",
    "      side_5.append(str)\n",
    "      dessert_1.append(lunch_menu[6])\n",
    "      dessert_2.append(str)\n",
    "      kimchi.append(lunch_menu[7])      \n",
    "    #[밥 국 반찬5개 김치]\n",
    "    elif idx in [1043]:   \n",
    "      rice.append(lunch_menu[0])\n",
    "      soup.append(lunch_menu[1])\n",
    "      side_1.append(lunch_menu[2])\n",
    "      side_2.append(lunch_menu[3])\n",
    "      side_3.append(lunch_menu[4])\n",
    "      side_4.append(lunch_menu[5])\n",
    "      side_5.append(lunch_menu[6])\n",
    "      dessert_1.append(str)\n",
    "      dessert_2.append(str)\n",
    "      kimchi.append(lunch_menu[7])        \n",
    "    #[밥 국 반찬2개 김치]\n",
    "    elif idx in [223,289,1036]:   \n",
    "      rice.append(lunch_menu[0])\n",
    "      soup.append(lunch_menu[1])\n",
    "      side_1.append(lunch_menu[2])\n",
    "      side_2.append(lunch_menu[3])\n",
    "      side_3.append(str)\n",
    "      side_4.append(str)\n",
    "      side_5.append(str)\n",
    "      dessert_1.append(str)\n",
    "      dessert_2.append(str)\n",
    "      kimchi.append(lunch_menu[4])\n",
    "    #[밥 국 반찬4개 김치]\n",
    "    elif idx in [373,873,1007,1029,1030]:   \n",
    "      rice.append(lunch_menu[0])\n",
    "      soup.append(lunch_menu[1])\n",
    "      side_1.append(lunch_menu[2])\n",
    "      side_2.append(lunch_menu[3])\n",
    "      side_3.append(lunch_menu[4])\n",
    "      side_4.append(lunch_menu[5])\n",
    "      side_5.append(str)\n",
    "      dessert_1.append(str)\n",
    "      dessert_2.append(str)\n",
    "      kimchi.append(lunch_menu[6])\n",
    "    #[밥 국 반찬2개 반찬/디저트 김치]\n",
    "    elif idx in [119,155,189,209,351,471,492,614,648,654,\n",
    "                 720,742,872,907,914,924,929,937,979,1020,\n",
    "                 1021]:   \n",
    "      rice.append(lunch_menu[0])\n",
    "      soup.append(lunch_menu[1])\n",
    "      side_1.append(lunch_menu[2])\n",
    "      side_2.append(lunch_menu[3])\n",
    "      side_3.append(lunch_menu[4].split('/')[0])\n",
    "      side_4.append(str)\n",
    "      side_5.append(str)\n",
    "      dessert_1.append(lunch_menu[4].split('/')[1])\n",
    "      dessert_2.append(str)\n",
    "      kimchi.append(lunch_menu[5])\n",
    "    #[밥 반찬3개 김치]\n",
    "    elif idx in [175,288]:   \n",
    "      rice.append(lunch_menu[0])\n",
    "      soup.append(str)\n",
    "      side_1.append(lunch_menu[1])\n",
    "      side_2.append(lunch_menu[2])\n",
    "      side_3.append(lunch_menu[3])\n",
    "      side_4.append(str)\n",
    "      side_5.append(str)\n",
    "      dessert_1.append(str)\n",
    "      dessert_2.append(str)\n",
    "      kimchi.append(lunch_menu[4])     \n",
    "    #[밥 반찬3개 디저트2개 김치]\n",
    "    elif idx in [1037]:   \n",
    "      rice.append(lunch_menu[0])\n",
    "      soup.append(str)\n",
    "      side_1.append(lunch_menu[1])\n",
    "      side_2.append(lunch_menu[2])\n",
    "      side_3.append(lunch_menu[3])\n",
    "      side_4.append(str)\n",
    "      side_5.append(str)\n",
    "      dessert_1.append(lunch_menu[4])\n",
    "      dessert_2.append(lunch_menu[5])\n",
    "      kimchi.append(lunch_menu[6])        \n",
    "    #특이 케이스\n",
    "    elif idx in [10]:   #[밥 국 반찬2개 디저트(중복2개) 김치]\n",
    "      rice.append(lunch_menu[0])\n",
    "      soup.append(lunch_menu[1])\n",
    "      side_1.append(lunch_menu[2])\n",
    "      side_2.append(lunch_menu[3])\n",
    "      side_3.append(str)\n",
    "      side_4.append(str)\n",
    "      side_5.append(str)\n",
    "      dessert_1.append(lunch_menu[4])\n",
    "      dessert_2.append(str)\n",
    "      kimchi.append(lunch_menu[6])\n",
    "    elif idx in [14]:   #[밥 국 반찬2개 디저트2개 김치]\n",
    "      rice.append(lunch_menu[0])\n",
    "      soup.append(lunch_menu[1])\n",
    "      side_1.append(lunch_menu[2])\n",
    "      side_2.append(lunch_menu[3])\n",
    "      side_3.append(str)\n",
    "      side_4.append(str)\n",
    "      side_5.append(str)\n",
    "      dessert_1.append(lunch_menu[4])\n",
    "      dessert_2.append(lunch_menu[5])\n",
    "      kimchi.append(lunch_menu[6])\n",
    "    elif idx in [116,400,459]:     #[밥 국 반찬2개 디저트/반찬 김치]\n",
    "      rice.append(lunch_menu[0])\n",
    "      soup.append(lunch_menu[1])\n",
    "      side_1.append(lunch_menu[2])\n",
    "      side_2.append(lunch_menu[3])\n",
    "      side_3.append(lunch_menu[4].split('/')[1])\n",
    "      side_4.append(str)\n",
    "      side_5.append(str)\n",
    "      dessert_1.append(lunch_menu[4].split('/')[0])\n",
    "      dessert_2.append(str)\n",
    "      kimchi.append(lunch_menu[5])  \n",
    "    elif idx in [412,650]:     #[밥 국 반찬/반찬 반찬 디저트/디저트 김치]\n",
    "      rice.append(lunch_menu[0])\n",
    "      soup.append(lunch_menu[1])\n",
    "      side_1.append(lunch_menu[2].split('/')[0])\n",
    "      side_2.append(lunch_menu[2].split('/')[1])\n",
    "      side_3.append(lunch_menu[3])\n",
    "      side_4.append(str)\n",
    "      side_5.append(str)\n",
    "      dessert_1.append(lunch_menu[4].split('/')[0])\n",
    "      dessert_2.append(lunch_menu[4].split('/')[1])\n",
    "      kimchi.append(lunch_menu[5])  \n",
    "    elif idx in [934]:     #[밥 국 반찬2개 디저트/디저트 김치]   \n",
    "      rice.append(lunch_menu[0])\n",
    "      soup.append(lunch_menu[1])\n",
    "      side_1.append(lunch_menu[2])\n",
    "      side_2.append(lunch_menu[3])\n",
    "      side_3.append(str)\n",
    "      side_4.append(str)\n",
    "      side_5.append(str)\n",
    "      dessert_1.append(lunch_menu[4].split('/')[0])\n",
    "      dessert_2.append(lunch_menu[4].split('/')[1])\n",
    "      kimchi.append(lunch_menu[5])  \n",
    "    #[밥 국 반찬3개 디저트 김치]\n",
    "    elif idx in [356,840]:     #[<초복특식> 국 밥 반찬 디저트 김치]  \n",
    "      rice.append(lunch_menu[2])\n",
    "      soup.append(lunch_menu[1])\n",
    "      side_1.append(lunch_menu[3])\n",
    "      side_2.append(str)\n",
    "      side_3.append(str)\n",
    "      side_4.append(str)\n",
    "      side_5.append(str)\n",
    "      dessert_1.append(lunch_menu[4])\n",
    "      dessert_2.append(str)\n",
    "      kimchi.append(lunch_menu[5])  \n",
    "    elif idx in [603]:     #[국 밥 반찬2개 디저트 김치]  \n",
    "      rice.append(lunch_menu[1])\n",
    "      soup.append(lunch_menu[0])\n",
    "      side_1.append(lunch_menu[2])\n",
    "      side_2.append(lunch_menu[3])\n",
    "      side_3.append(str)\n",
    "      side_4.append(str)\n",
    "      side_5.append(str)\n",
    "      dessert_1.append(lunch_menu[4])\n",
    "      dessert_2.append(str)\n",
    "      kimchi.append(lunch_menu[5])  \n",
    "    elif idx in [1031]:     #[밥 국 반찬5개 디저트 김치]  \n",
    "      rice.append(lunch_menu[0])\n",
    "      soup.append(lunch_menu[1])\n",
    "      side_1.append(lunch_menu[2])\n",
    "      side_2.append(lunch_menu[3])\n",
    "      side_3.append(lunch_menu[4])\n",
    "      side_4.append(lunch_menu[5])\n",
    "      side_5.append(lunch_menu[6])\n",
    "      dessert_1.append(lunch_menu[7])\n",
    "      dessert_2.append(str)\n",
    "      kimchi.append(lunch_menu[8])  \n",
    "    elif idx in [511,741,980]:     #[밥 국 반찬3개 디저트/김치]  \n",
    "      rice.append(lunch_menu[0])\n",
    "      soup.append(lunch_menu[1])\n",
    "      side_1.append(lunch_menu[2])\n",
    "      side_2.append(lunch_menu[3])\n",
    "      side_3.append(lunch_menu[4])\n",
    "      side_4.append(str)\n",
    "      side_5.append(str)\n",
    "      dessert_1.append(lunch_menu[5].split('/')[0])\n",
    "      dessert_2.append(str)\n",
    "      kimchi.append(lunch_menu[5].split('/')[1])  \n",
    "    #이상 케이스\n",
    "    elif idx in [885]:     #[밥 국 반찬3개 ' /오렌지주스' 김치/디저트]  \n",
    "      rice.append(lunch_menu[0])\n",
    "      soup.append(lunch_menu[1])\n",
    "      side_1.append(lunch_menu[2])\n",
    "      side_2.append(lunch_menu[3])\n",
    "      side_3.append(lunch_menu[4])\n",
    "      side_4.append(str)\n",
    "      side_5.append(str)\n",
    "      dessert_1.append(lunch_menu[5].split('/')[1])\n",
    "      dessert_2.append(lunch_menu[6].split('/')[1])\n",
    "      kimchi.append(lunch_menu[6].split('/')[0])  \n",
    "    elif idx in [1038]:     #[밥 국 반찬4개 청,적포도 디저트 김치]  \n",
    "      rice.append(lunch_menu[0])\n",
    "      soup.append(lunch_menu[1])\n",
    "      side_1.append(lunch_menu[2])\n",
    "      side_2.append(lunch_menu[3])\n",
    "      side_3.append(lunch_menu[4])\n",
    "      side_4.append(lunch_menu[5])\n",
    "      side_5.append(str)\n",
    "      dessert_1.append('청,적포도')\n",
    "      dessert_2.append(lunch_menu[8])\n",
    "      kimchi.append(lunch_menu[9]) \n",
    "    elif idx in [1026]:   \n",
    "      rice.append(lunch_menu[0])\n",
    "      soup.append(lunch_menu[1])\n",
    "      side_1.append(lunch_menu[2])\n",
    "      side_2.append(lunch_menu[3])\n",
    "      side_3.append(lunch_menu[4])\n",
    "      side_4.append(str)\n",
    "      side_5.append(str)\n",
    "      dessert_1.append(lunch_menu[5].split(',')[0])\n",
    "      dessert_2.append(lunch_menu[5].split(',')[0])\n",
    "    #[밥 국 반찬3개 김치 반찬]\n",
    "    elif idx in [1067,1068,1069,1070,1071,1073,1074,1075,1076,1077,\n",
    "                 1078,1079,1080,1081,1082,1083,1084,1085,1086,1088,\n",
    "                 1089,1090,1091,1094,1095,1097,1098,1099,1100,1101,\n",
    "                 1104,1108,1112,1116,1117,1125,1126,1128,1130,1138,\n",
    "                 1143,1145,1148,1150,1152,1153,1157,1162,1163,1176,\n",
    "                 1177,1178,1180,1183,1191,1192,1193,1195,1196,1197,\n",
    "                 1199,1200,1201,1202]:       \n",
    "      rice.append(lunch_menu[0])\n",
    "      soup.append(lunch_menu[1])\n",
    "      side_1.append(lunch_menu[2])\n",
    "      side_2.append(lunch_menu[3])\n",
    "      side_3.append(lunch_menu[4])\n",
    "      side_4.append(lunch_menu[6])\n",
    "      side_5.append(str)\n",
    "      dessert_1.append(str)\n",
    "      dessert_2.append(str)\n",
    "      kimchi.append(lunch_menu[5]) \n",
    "    #[밥 국 반찬3개 김치 디저트]\n",
    "    elif idx in [1131]:       \n",
    "      rice.append(lunch_menu[0])\n",
    "      soup.append(lunch_menu[1])\n",
    "      side_1.append(lunch_menu[2])\n",
    "      side_2.append(lunch_menu[3])\n",
    "      side_3.append(lunch_menu[4])\n",
    "      side_4.append(str)\n",
    "      side_5.append(str)\n",
    "      dessert_1.append(lunch_menu[6])\n",
    "      dessert_2.append(str)\n",
    "      kimchi.append(lunch_menu[5])       \n",
    "    #[밥 국 반찬3개 김치/디저트 반찬]\n",
    "    elif idx in [1096,1102,1103,1110,1113,1114,1115,1119,1120,1124,\n",
    "                 1127,1132,1134,1135,1139,1140,1144,1155,1156,1158,\n",
    "                 1159,1161,1166,1169,1170,1174,1175,1184,1185,1188,\n",
    "                 1198,1204]:   \n",
    "      rice.append(lunch_menu[0])\n",
    "      soup.append(lunch_menu[1])\n",
    "      side_1.append(lunch_menu[2])\n",
    "      side_2.append(lunch_menu[3])\n",
    "      side_3.append(lunch_menu[4])\n",
    "      side_4.append(lunch_menu[6])\n",
    "      side_5.append(str)\n",
    "      dessert_1.append(lunch_menu[5].split('/')[1])\n",
    "      dessert_2.append(str)\n",
    "      kimchi.append(lunch_menu[5].split('/')[0]) \n",
    "    #[밥 국 반찬3개 김치/디저트/디저트 반찬]\n",
    "    elif idx in [1129]:   \n",
    "      rice.append(lunch_menu[0])\n",
    "      soup.append(lunch_menu[1])\n",
    "      side_1.append(lunch_menu[2])\n",
    "      side_2.append(lunch_menu[3])\n",
    "      side_3.append(lunch_menu[4])\n",
    "      side_4.append(lunch_menu[6])\n",
    "      side_5.append(str)\n",
    "      dessert_1.append(lunch_menu[5].split('/')[1])\n",
    "      dessert_2.append(lunch_menu[5].split('/')[2])\n",
    "      kimchi.append(lunch_menu[5].split('/')[0]) \n",
    "    #[밥 국 반찬3개 김치 반찬/디저트]\n",
    "    elif idx in [1107]:   \n",
    "      rice.append(lunch_menu[0])\n",
    "      soup.append(lunch_menu[1])\n",
    "      side_1.append(lunch_menu[2])\n",
    "      side_2.append(lunch_menu[3])\n",
    "      side_3.append(lunch_menu[4])\n",
    "      side_4.append(lunch_menu[6].split('/')[0])\n",
    "      side_5.append(str)\n",
    "      dessert_1.append(lunch_menu[6].split('/')[1])\n",
    "      dessert_2.append(str)\n",
    "      kimchi.append(lunch_menu[5]) \n",
    "    #[밥 국 반찬3개 김치 디저트/반찬]\n",
    "    elif idx in [1107]:   \n",
    "      rice.append(lunch_menu[0])\n",
    "      soup.append(lunch_menu[1])\n",
    "      side_1.append(lunch_menu[2])\n",
    "      side_2.append(lunch_menu[3])\n",
    "      side_3.append(lunch_menu[4])\n",
    "      side_4.append(lunch_menu[6].split('/')[1])\n",
    "      side_5.append(str)\n",
    "      dessert_1.append(lunch_menu[6].split('/')[0])\n",
    "      dessert_2.append(str)\n",
    "      kimchi.append(lunch_menu[5]) \n",
    "    #[밥 국 반찬2개 김치/반찬 반찬]\n",
    "    elif idx in [1141]:   \n",
    "      rice.append(lunch_menu[0])\n",
    "      soup.append(lunch_menu[1])\n",
    "      side_1.append(lunch_menu[2])\n",
    "      side_2.append(lunch_menu[3])\n",
    "      side_3.append(lunch_menu[4].split('/')[1])\n",
    "      side_4.append(lunch_menu[5])\n",
    "      side_5.append(str)\n",
    "      dessert_1.append(str)\n",
    "      dessert_2.append(str)\n",
    "      kimchi.append(lunch_menu[4].split('/')[0])  \n",
    "    #[밥 국 반찬3개 김치/반찬 반찬]\n",
    "    elif idx in [1160,1190,1203]:   \n",
    "      rice.append(lunch_menu[0])\n",
    "      soup.append(lunch_menu[1])\n",
    "      side_1.append(lunch_menu[2])\n",
    "      side_2.append(lunch_menu[3])\n",
    "      side_3.append(lunch_menu[4])\n",
    "      side_4.append(lunch_menu[5].split('/')[1])\n",
    "      side_5.append(lunch_menu[6])\n",
    "      dessert_1.append(str)\n",
    "      dessert_2.append(str)\n",
    "      kimchi.append(lunch_menu[5].split('/')[0])       \n",
    "    #[밥 국 반찬3개 김치/반찬]\n",
    "    elif idx in [94]:   \n",
    "      rice.append(lunch_menu[0])\n",
    "      soup.append(lunch_menu[1])\n",
    "      side_1.append(lunch_menu[2])\n",
    "      side_2.append(lunch_menu[3])\n",
    "      side_3.append(lunch_menu[4])\n",
    "      side_4.append(lunch_menu[5].split('/')[1])\n",
    "      side_5.append(str)\n",
    "      dessert_1.append(str)\n",
    "      dessert_2.append(str)\n",
    "      kimchi.append(lunch_menu[5].split('/')[0])       \n",
    "    #[밥 국 반찬3개 반찬/김치 반찬]\n",
    "    elif idx in [1189]:   \n",
    "      rice.append(lunch_menu[0])\n",
    "      soup.append(lunch_menu[1])\n",
    "      side_1.append(lunch_menu[2])\n",
    "      side_2.append(lunch_menu[3])\n",
    "      side_3.append(lunch_menu[4])\n",
    "      side_4.append(lunch_menu[5].split('/')[0])\n",
    "      side_5.append(lunch_menu[6])\n",
    "      dessert_1.append(str)\n",
    "      dessert_2.append(str)\n",
    "      kimchi.append(lunch_menu[5].split('/')[1])    \n",
    "    #[밥 국 반찬2개 김치/디저트 반찬]\n",
    "    elif idx in [1109,1149,1164]:   \n",
    "      rice.append(lunch_menu[0])\n",
    "      soup.append(lunch_menu[1])\n",
    "      side_1.append(lunch_menu[2])\n",
    "      side_2.append(lunch_menu[3])\n",
    "      side_3.append(lunch_menu[5])\n",
    "      side_4.append(str)\n",
    "      side_5.append(str)\n",
    "      dessert_1.append(lunch_menu[4].split('/')[1])\n",
    "      dessert_2.append(str)\n",
    "      kimchi.append(lunch_menu[4].split('/')[0]) \n",
    "    #[밥 국 반찬3개 김치/디저트 반찬]\n",
    "    elif idx in [1092]:   \n",
    "      rice.append(lunch_menu[0])\n",
    "      soup.append(lunch_menu[1])\n",
    "      side_1.append(lunch_menu[2])\n",
    "      side_2.append(lunch_menu[3])\n",
    "      side_3.append(lunch_menu[4])\n",
    "      side_4.append(lunch_menu[6])\n",
    "      side_5.append(str)\n",
    "      dessert_1.append(lunch_menu[5].split('/')[1])\n",
    "      dessert_2.append(str)\n",
    "      kimchi.append(lunch_menu[5].split('/')[0])       \n",
    "    #[밥 국 반찬 반찬/반찬 반찬 김치/디저트 반찬]\n",
    "    elif idx in [1093]:   \n",
    "      rice.append(lunch_menu[0])\n",
    "      soup.append(lunch_menu[1])\n",
    "      side_1.append(lunch_menu[2])\n",
    "      side_2.append(lunch_menu[3].split('/')[0])\n",
    "      side_3.append(lunch_menu[3].split('/')[1])\n",
    "      side_4.append(lunch_menu[4])\n",
    "      side_5.append(lunch_menu[6])\n",
    "      dessert_1.append(lunch_menu[5].split('/')[1])\n",
    "      dessert_2.append(str)\n",
    "      kimchi.append(lunch_menu[5].split('/')[0]) \n",
    "\n",
    "    #[밥 국 반찬2개 반찬/김치 반찬]\n",
    "    elif idx in [1146,1154]:   \n",
    "      rice.append(lunch_menu[0])\n",
    "      soup.append(lunch_menu[1])\n",
    "      side_1.append(lunch_menu[2])\n",
    "      side_2.append(lunch_menu[3])\n",
    "      side_3.append(lunch_menu[4].split('/')[0])\n",
    "      side_4.append(lunch_menu[5])\n",
    "      side_5.append(str)\n",
    "      dessert_1.append(str)\n",
    "      dessert_2.append(str)\n",
    "      kimchi.append(lunch_menu[4].split('/')[1]) \n",
    "    #[밥 국 반찬2개 김치 반찬]\n",
    "    elif idx in [1118,1121,1122,1123,1133,1136,1165,1167,1173,1194]:   \n",
    "      rice.append(lunch_menu[0])\n",
    "      soup.append(lunch_menu[1])\n",
    "      side_1.append(lunch_menu[2])\n",
    "      side_2.append(lunch_menu[3])\n",
    "      side_3.append(lunch_menu[5])\n",
    "      side_4.append(str)\n",
    "      side_5.append(str)\n",
    "      dessert_1.append(str)\n",
    "      dessert_2.append(str)\n",
    "      kimchi.append(lunch_menu[4]) \n",
    "    #[밥 국 반찬 김치 반찬]\n",
    "    elif idx in [1186]:   \n",
    "      rice.append(lunch_menu[0])\n",
    "      soup.append(lunch_menu[1])\n",
    "      side_1.append(lunch_menu[2])\n",
    "      side_2.append(lunch_menu[4])\n",
    "      side_3.append(str)\n",
    "      side_4.append(str)\n",
    "      side_5.append(str)\n",
    "      dessert_1.append(str)\n",
    "      dessert_2.append(str)\n",
    "      kimchi.append(lunch_menu[3])\n",
    "    #[밥 국 반찬4개]\n",
    "    elif idx in [1019,1137]:   \n",
    "      rice.append(lunch_menu[0])\n",
    "      soup.append(lunch_menu[1])\n",
    "      side_1.append(lunch_menu[2])\n",
    "      side_2.append(lunch_menu[3])\n",
    "      side_3.append(lunch_menu[4])\n",
    "      side_4.append(lunch_menu[5])\n",
    "      side_5.append(str)\n",
    "      dessert_1.append(str)\n",
    "      dessert_2.append(str)\n",
    "      kimchi.append(str)\n",
    "    #[밥 국 반찬3개]\n",
    "    elif idx in [1151]:   \n",
    "      rice.append(lunch_menu[0])\n",
    "      soup.append(lunch_menu[1])\n",
    "      side_1.append(lunch_menu[2])\n",
    "      side_2.append(lunch_menu[3])\n",
    "      side_3.append(lunch_menu[4])\n",
    "      side_4.append(str)\n",
    "      side_5.append(str)\n",
    "      dessert_1.append(str)\n",
    "      dessert_2.append(str)\n",
    "      kimchi.append(str)\n",
    "    #[밥 반찬2개 김치/디저트 반찬]\n",
    "    elif idx in [1111,1179]:   \n",
    "      rice.append(lunch_menu[0])\n",
    "      soup.append(str)\n",
    "      side_1.append(lunch_menu[1])\n",
    "      side_2.append(lunch_menu[2])\n",
    "      side_3.append(lunch_menu[4])\n",
    "      side_4.append(str)\n",
    "      side_5.append(str)\n",
    "      dessert_1.append(lunch_menu[3].split('/')[1])\n",
    "      dessert_2.append(str)\n",
    "      kimchi.append(lunch_menu[3].split('/')[0])    \n",
    "    elif idx in [1142]:   \n",
    "      rice.append(lunch_menu[0]+lunch_menu[1])\n",
    "      soup.append(lunch_menu[2])\n",
    "      side_1.append(lunch_menu[3])\n",
    "      side_2.append(lunch_menu[4])\n",
    "      side_3.append(lunch_menu[5])\n",
    "      side_4.append(lunch_menu[6].split('/')[1])\n",
    "      side_5.append(lunch_menu[7])\n",
    "      dessert_1.append(str)\n",
    "      dessert_2.append(str)\n",
    "      kimchi.append(lunch_menu[6].split('/')[0]) \n",
    "    elif idx in [1087]:   \n",
    "      rice.append(lunch_menu[0])\n",
    "      soup.append(lunch_menu[1])\n",
    "      side_1.append(lunch_menu[2])\n",
    "      side_2.append(lunch_menu[3])\n",
    "      side_3.append(lunch_menu[4])\n",
    "      side_4.append(lunch_menu[5].split('/')[0])\n",
    "      side_5.append(lunch_menu[6])\n",
    "      dessert_1.append(lunch_menu[5].split('/')[2])\n",
    "      dessert_2.append(str)\n",
    "      kimchi.append(lunch_menu[5].split('/')[1]) \n",
    "    #[밥 반찬3개 김치/디저트 반찬]\n",
    "    elif idx in [1147]:   \n",
    "      rice.append(lunch_menu[0])\n",
    "      soup.append(str)\n",
    "      side_1.append(lunch_menu[1])\n",
    "      side_2.append(lunch_menu[2])\n",
    "      side_3.append(lunch_menu[3])\n",
    "      side_4.append(lunch_menu[5])\n",
    "      side_5.append(str)\n",
    "      dessert_1.append(lunch_menu[4].split('/')[1])\n",
    "      dessert_2.append(str)\n",
    "      kimchi.append(lunch_menu[4].split('/')[0]) \n",
    "    elif idx in [1168]:   \n",
    "      rice.append(lunch_menu[0])\n",
    "      soup.append(lunch_menu[1])\n",
    "      side_1.append(lunch_menu[2])\n",
    "      side_2.append(lunch_menu[3])\n",
    "      side_3.append(lunch_menu[4]+' '+lunch_menu[5])\n",
    "      side_4.append(lunch_menu[7])\n",
    "      side_5.append(str)\n",
    "      dessert_1.append(str)\n",
    "      dessert_2.append(str)\n",
    "      kimchi.append(lunch_menu[6]) \n",
    "    #[국 반찬2개 반찬/김치 반찬]  \n",
    "    elif idx in [1171]:   \n",
    "      rice.append(str)\n",
    "      soup.append(lunch_menu[0])\n",
    "      side_1.append(lunch_menu[1])\n",
    "      side_2.append(lunch_menu[2])\n",
    "      side_3.append(lunch_menu[3].split('/')[0])\n",
    "      side_4.append(lunch_menu[4])\n",
    "      side_5.append(str)\n",
    "      dessert_1.append(str)\n",
    "      dessert_2.append(str)\n",
    "      kimchi.append(lunch_menu[3].split('/')[1])  \n",
    "    #[밥 반찬3개 김치 반찬]  \n",
    "    elif idx in [1181]:   \n",
    "      rice.append(lunch_menu[0])\n",
    "      soup.append(str)\n",
    "      side_1.append(lunch_menu[1])\n",
    "      side_2.append(lunch_menu[2])\n",
    "      side_3.append(lunch_menu[3])\n",
    "      side_4.append(lunch_menu[5])\n",
    "      side_5.append(str)\n",
    "      dessert_1.append(str)\n",
    "      dessert_2.append(str)\n",
    "      kimchi.append(lunch_menu[4])     \n",
    "    #[밥 반찬2개 김치 반찬]  \n",
    "    elif idx in [1182]:   \n",
    "      rice.append(lunch_menu[0])\n",
    "      soup.append(str)\n",
    "      side_1.append(lunch_menu[1])\n",
    "      side_2.append(lunch_menu[2])\n",
    "      side_3.append(lunch_menu[4])\n",
    "      side_4.append(str)\n",
    "      side_5.append(str)\n",
    "      dessert_1.append(str)\n",
    "      dessert_2.append(str)\n",
    "      kimchi.append(lunch_menu[3])    \n",
    "    #[국 반찬3개 김치 반찬]  \n",
    "    elif idx in [1182,1187]:   \n",
    "      rice.append(str)\n",
    "      soup.append(lunch_menu[0])\n",
    "      side_1.append(lunch_menu[1])\n",
    "      side_2.append(lunch_menu[2])\n",
    "      side_3.append(lunch_menu[3])\n",
    "      side_4.append(lunch_menu[5])\n",
    "      side_5.append(str)\n",
    "      dessert_1.append(str)\n",
    "      dessert_2.append(str)\n",
    "      kimchi.append(lunch_menu[4])      \n",
    "    elif idx in [762]:   \n",
    "      rice.append(lunch_menu[0])\n",
    "      soup.append(lunch_menu[1])\n",
    "      side_1.append(lunch_menu[2])\n",
    "      side_2.append(lunch_menu[3])\n",
    "      side_3.append(lunch_menu[4])\n",
    "      side_4.append(str)\n",
    "      side_5.append(str)\n",
    "      dessert_1.append(lunch_menu[5])\n",
    "      dessert_2.append(lunch_menu[6]+'/'+lunch_menu[7])\n",
    "      kimchi.append(lunch_menu[8])          \n",
    "    else:   #[밥 국 반찬3개 김치]\n",
    "      rice.append(lunch_menu[0])\n",
    "      soup.append(lunch_menu[1])\n",
    "      side_1.append(lunch_menu[2])\n",
    "      side_2.append(lunch_menu[3])\n",
    "      side_3.append(lunch_menu[4])\n",
    "      side_4.append(str)\n",
    "      side_5.append(str)\n",
    "      dessert_1.append(str)\n",
    "      dessert_2.append(str)\n",
    "      kimchi.append(lunch_menu[5])\n",
    "\n",
    "  print('######## 점심 데이터 구분 함수 종료 ########')\n",
    "\n",
    "  return rice, soup, side_1, side_2, side_3, side_4, side_5, dessert_1, dessert_2, kimchi\n",
    "#train 데이터 석식메뉴 카테고리별 분류\n",
    "def seperate_dinner_menu_list(df):\n",
    "\n",
    "  str = 'None'\n",
    "  dinner_menu_list = df['석식메뉴리스트']\n",
    "\n",
    "  print('######## 저녁 데이터 구분 함수 시작 ########')\n",
    "\n",
    "  #메뉴 종류별 구분 (10 피처)\n",
    "  rice = []\n",
    "  soup = []\n",
    "  side_1 = []\n",
    "  side_2 = []\n",
    "  side_3 = []\n",
    "  side_4 = []\n",
    "  side_5 = []\n",
    "  dessert_1 = []\n",
    "  dessert_2 = []\n",
    "  kimchi = []\n",
    "\n",
    "  for idx, dinner_menu in enumerate(dinner_menu_list):\n",
    "\n",
    "    # print(\"현재 인덱스 :\", idx)\n",
    "    # print(dinner_menu)\n",
    "\n",
    "    #[밥 국 반찬2개 디저트 김치]\n",
    "    if idx in [1,9,11,34,37,47,48,64,66,71,74,81,85,88,100,124,\n",
    "               134,144,154,170,173,188,203,220,228,230,238,240,\n",
    "               253,258,261,287,302,321,332,340,352,355,367,381,\n",
    "               386,404,435,455,473,481,486,488,493,496,513,523,\n",
    "               525,535,548,550,570,580,588,593,600,608,610,624,\n",
    "               629,639,647,653,656,678,683,686,693,701,726,729,\n",
    "               741,760,777,782,819,832,834,842,847,852,859,873,\n",
    "               901,906,921,946,952,966,1017,1042,1055,1065,110]:   \n",
    "      rice.append(dinner_menu[0])\n",
    "      soup.append(dinner_menu[1])\n",
    "      side_1.append(dinner_menu[2])\n",
    "      side_2.append(dinner_menu[3])\n",
    "      side_3.append(str)\n",
    "      side_4.append(str)\n",
    "      side_5.append(str)\n",
    "      dessert_1.append(dinner_menu[4])\n",
    "      dessert_2.append(str)\n",
    "      kimchi.append(dinner_menu[5])\n",
    "    #[밥 국 반찬2개 반찬/디저트 김치]\n",
    "    elif idx in [29,103,105,120,137,178,193,201,213,223,251,\n",
    "                 256,280,285,296,297,300,305,310,318,320,328,342,\n",
    "                 384,399,407,411,416,443,456,458,474,509,516,536,\n",
    "                 540,545,563,590,605,632,642,661,663,703,716,719,\n",
    "                 731,736,738,743,750,752,755,757,770,775,787,795,\n",
    "                 798,803,808,813,822,854,866,876,886,891,913,943,\n",
    "                 948,984,1009,1014,1155]:   \n",
    "      rice.append(dinner_menu[0])\n",
    "      soup.append(dinner_menu[1])\n",
    "      side_1.append(dinner_menu[2])\n",
    "      side_2.append(dinner_menu[3])\n",
    "      side_3.append(dinner_menu[4].split('/')[0])\n",
    "      side_4.append(str)\n",
    "      side_5.append(str)\n",
    "      dessert_1.append(dinner_menu[4].split('/')[1])\n",
    "      dessert_2.append(str)\n",
    "      kimchi.append(dinner_menu[5])    \n",
    "    #[밥 국 반찬2개 디저트/반찬 김치]\n",
    "    elif idx in [53,56,98,190,233,362,530,561,567,572,765,767,898,326]:   \n",
    "      rice.append(dinner_menu[0])\n",
    "      soup.append(dinner_menu[1])\n",
    "      side_1.append(dinner_menu[2])\n",
    "      side_2.append(dinner_menu[3])\n",
    "      side_3.append(dinner_menu[4].split('/')[1])\n",
    "      side_4.append(str)\n",
    "      side_5.append(str)\n",
    "      dessert_1.append(dinner_menu[4].split('/')[0])\n",
    "      dessert_2.append(str)\n",
    "      kimchi.append(dinner_menu[5]) \n",
    "    #[밥 국 반찬2개 디저트/디저트 김치]\n",
    "    elif idx in [62,69,113,132,246,267,483,964,1063]:   \n",
    "      rice.append(dinner_menu[0])\n",
    "      soup.append(dinner_menu[1])\n",
    "      side_1.append(dinner_menu[2])\n",
    "      side_2.append(dinner_menu[3])\n",
    "      side_3.append(str)\n",
    "      side_4.append(str)\n",
    "      side_5.append(str)\n",
    "      dessert_1.append(dinner_menu[4].split('/')[0])\n",
    "      dessert_2.append(dinner_menu[4].split('/')[1])\n",
    "      kimchi.append(dinner_menu[5]) \n",
    "    #[밥 국 반찬2개 김치]\n",
    "    elif idx in [214,273,1087,1094,1115,1119,1124,1127,1130,1131,1138,\n",
    "                 1145,1148,1152,1156,1169,1180,1182,1191,565]:   \n",
    "      rice.append(dinner_menu[0])\n",
    "      soup.append(dinner_menu[1])\n",
    "      side_1.append(dinner_menu[2])\n",
    "      side_2.append(dinner_menu[3])\n",
    "      side_3.append(str)\n",
    "      side_4.append(str)\n",
    "      side_5.append(str)\n",
    "      dessert_1.append(str)\n",
    "      dessert_2.append(str)\n",
    "      kimchi.append(dinner_menu[4]) \n",
    "    #[밥 국 반찬2개 김치/반찬]\n",
    "    elif idx in [1143]:   \n",
    "      rice.append(dinner_menu[0])\n",
    "      soup.append(dinner_menu[1])\n",
    "      side_1.append(dinner_menu[2])\n",
    "      side_2.append(dinner_menu[3])\n",
    "      side_3.append(dinner_menu[4].split('/')[1])\n",
    "      side_4.append(str)\n",
    "      side_5.append(str)\n",
    "      dessert_1.append(str)\n",
    "      dessert_2.append(str)\n",
    "      kimchi.append(dinner_menu[4].split('/')[0]) \n",
    "    #[밥 국 반찬3개 디저트 김치]\n",
    "    elif idx in [225,373,620,627,951,1038,1039,1041]:   \n",
    "      rice.append(dinner_menu[0])\n",
    "      soup.append(dinner_menu[1])\n",
    "      side_1.append(dinner_menu[2])\n",
    "      side_2.append(dinner_menu[3])\n",
    "      side_3.append(dinner_menu[4])\n",
    "      side_4.append(str)\n",
    "      side_5.append(str)\n",
    "      dessert_1.append(dinner_menu[5])\n",
    "      dessert_2.append(str)\n",
    "      kimchi.append(dinner_menu[6]) \n",
    "    #[밥 국 반찬3개 김치/반찬]\n",
    "    elif idx in [49,1141]:   \n",
    "      rice.append(dinner_menu[0])\n",
    "      soup.append(dinner_menu[1])\n",
    "      side_1.append(dinner_menu[2])\n",
    "      side_2.append(dinner_menu[3])\n",
    "      side_3.append(dinner_menu[4])\n",
    "      side_4.append(dinner_menu[5].split('/')[1])\n",
    "      side_5.append(str)\n",
    "      dessert_1.append(str)\n",
    "      dessert_2.append(str)\n",
    "      kimchi.append(dinner_menu[5].split('/')[0]) \n",
    "    #[밥 국 반찬3개 김치/디저트]\n",
    "    elif idx in [1105,1111,1117]:   \n",
    "      rice.append(dinner_menu[0])\n",
    "      soup.append(dinner_menu[1])\n",
    "      side_1.append(dinner_menu[2])\n",
    "      side_2.append(dinner_menu[3])\n",
    "      side_3.append(dinner_menu[4])\n",
    "      side_4.append(str)\n",
    "      side_5.append(str)\n",
    "      dessert_1.append(dinner_menu[5].split('/')[1])\n",
    "      dessert_2.append(str)\n",
    "      kimchi.append(dinner_menu[5].split('/')[0])\n",
    "    #[밥 국 반찬4개 김치]\n",
    "    elif idx in [331,394,396,1031,1032,1035,1037,1043,1068]:   \n",
    "      rice.append(dinner_menu[0])\n",
    "      soup.append(dinner_menu[1])\n",
    "      side_1.append(dinner_menu[2])\n",
    "      side_2.append(dinner_menu[3])\n",
    "      side_3.append(dinner_menu[4])\n",
    "      side_4.append(dinner_menu[5])\n",
    "      side_5.append(str)\n",
    "      dessert_1.append(str)\n",
    "      dessert_2.append(str)\n",
    "      kimchi.append(dinner_menu[6])\n",
    "    #[밥 국 반찬4개 디저트 김치]\n",
    "    elif idx in [971]:   \n",
    "      rice.append(dinner_menu[0])\n",
    "      soup.append(dinner_menu[1])\n",
    "      side_1.append(dinner_menu[2])\n",
    "      side_2.append(dinner_menu[3])\n",
    "      side_3.append(dinner_menu[4])\n",
    "      side_4.append(dinner_menu[5])\n",
    "      side_5.append(str)\n",
    "      dessert_1.append(dinner_menu[6])\n",
    "      dessert_2.append(str)\n",
    "      kimchi.append(dinner_menu[7])\n",
    "    #[밥 반찬 국 반찬 디저트 김치]\n",
    "    elif idx in [58]:   \n",
    "      rice.append(dinner_menu[0])\n",
    "      soup.append(dinner_menu[2])\n",
    "      side_1.append(dinner_menu[1])\n",
    "      side_2.append(dinner_menu[3])\n",
    "      side_3.append(str)\n",
    "      side_4.append(str)\n",
    "      side_5.append(str)\n",
    "      dessert_1.append(dinner_menu[4])\n",
    "      dessert_2.append(str)\n",
    "      kimchi.append(dinner_menu[5])\n",
    "    #[밥 국 반찬 반찬/디저트 반찬 김치]\n",
    "    elif idx in [128,130,208]:   \n",
    "      rice.append(dinner_menu[0])\n",
    "      soup.append(dinner_menu[1])\n",
    "      side_1.append(dinner_menu[2])\n",
    "      side_2.append(dinner_menu[3].split('/')[0])\n",
    "      side_3.append(dinner_menu[4])\n",
    "      side_4.append(str)\n",
    "      side_5.append(str)\n",
    "      dessert_1.append(dinner_menu[3].split('/')[1])\n",
    "      dessert_2.append(str)\n",
    "      kimchi.append(dinner_menu[5])\n",
    "    #[밥 국 반찬/디저트 반찬2개 김치]\n",
    "    elif idx in [185]:   \n",
    "      rice.append(dinner_menu[0])\n",
    "      soup.append(dinner_menu[1])\n",
    "      side_1.append(dinner_menu[2].split('/')[0])\n",
    "      side_2.append(dinner_menu[3])\n",
    "      side_3.append(dinner_menu[4])\n",
    "      side_4.append(str)\n",
    "      side_5.append(str)\n",
    "      dessert_1.append(dinner_menu[2].split('/')[1])\n",
    "      dessert_2.append(str)\n",
    "      kimchi.append(dinner_menu[5])\n",
    "    #[밥 국 반찬 디저트/디저트 반찬 김치]\n",
    "    elif idx in [215]:   \n",
    "      rice.append(dinner_menu[0])\n",
    "      soup.append(dinner_menu[1])\n",
    "      side_1.append(dinner_menu[2])\n",
    "      side_2.append(dinner_menu[4])\n",
    "      side_3.append(str)\n",
    "      side_4.append(str)\n",
    "      side_5.append(str)\n",
    "      dessert_1.append(dinner_menu[3].split('/')[0])\n",
    "      dessert_2.append(dinner_menu[3].split('/')[1])\n",
    "      kimchi.append(dinner_menu[5])\n",
    "    #[밥 국 반찬 디저트 디저트/반찬 김치]\n",
    "    elif idx in [270]:   \n",
    "      rice.append(dinner_menu[0])\n",
    "      soup.append(dinner_menu[1])\n",
    "      side_1.append(dinner_menu[2])\n",
    "      side_2.append(dinner_menu[4].split('/')[1])\n",
    "      side_3.append(str)\n",
    "      side_4.append(str)\n",
    "      side_5.append(str)\n",
    "      dessert_1.append(dinner_menu[3])\n",
    "      dessert_2.append(dinner_menu[4].split('/')[0])\n",
    "      kimchi.append(dinner_menu[5])\n",
    "    #[밥/국 반찬4개 김치]\n",
    "    elif idx in [93]:   \n",
    "      rice.append(dinner_menu[0].split('/')[0])\n",
    "      soup.append(dinner_menu[0].split('/')[1])\n",
    "      side_1.append(dinner_menu[1])\n",
    "      side_2.append(dinner_menu[2])\n",
    "      side_3.append(dinner_menu[3])\n",
    "      side_4.append(dinner_menu[4])\n",
    "      side_5.append(str)\n",
    "      dessert_1.append(str)\n",
    "      dessert_2.append(str)\n",
    "      kimchi.append(dinner_menu[5])\n",
    "    #[국 밥 반찬2개 디저트 김치]\n",
    "    elif idx in [345]:   \n",
    "      rice.append(dinner_menu[1])\n",
    "      soup.append(dinner_menu[0])\n",
    "      side_1.append(dinner_menu[2])\n",
    "      side_2.append(dinner_menu[3])\n",
    "      side_3.append(str)\n",
    "      side_4.append(str)\n",
    "      side_5.append(str)\n",
    "      dessert_1.append(dinner_menu[4])\n",
    "      dessert_2.append(str)\n",
    "      kimchi.append(dinner_menu[5])\n",
    "    #[밥 반찬 국 반찬2개 디저트 김치]\n",
    "    elif idx in [391]:   \n",
    "      rice.append(dinner_menu[0])\n",
    "      soup.append(dinner_menu[2])\n",
    "      side_1.append(dinner_menu[1])\n",
    "      side_2.append(dinner_menu[3])\n",
    "      side_3.append(dinner_menu[4])\n",
    "      side_4.append(str)\n",
    "      side_5.append(str)\n",
    "      dessert_1.append(dinner_menu[5])\n",
    "      dessert_2.append(str)\n",
    "      kimchi.append(dinner_menu[6])\n",
    "    #[밥 국 반찬 김치]\n",
    "    elif idx in [1172]:   \n",
    "      rice.append(dinner_menu[0])\n",
    "      soup.append(dinner_menu[1])\n",
    "      side_1.append(dinner_menu[2])\n",
    "      side_2.append(str)\n",
    "      side_3.append(str)\n",
    "      side_4.append(str)\n",
    "      side_5.append(str)\n",
    "      dessert_1.append(str)\n",
    "      dessert_2.append(str)\n",
    "      kimchi.append(dinner_menu[3])\n",
    "    #[밥 국 반찬 디저트 김치]\n",
    "    elif idx in [528,790]:   \n",
    "      rice.append(dinner_menu[0])\n",
    "      soup.append(dinner_menu[1])\n",
    "      side_1.append(dinner_menu[2])\n",
    "      side_2.append(str)\n",
    "      side_3.append(str)\n",
    "      side_4.append(str)\n",
    "      side_5.append(str)\n",
    "      dessert_1.append(dinner_menu[3])\n",
    "      dessert_2.append(str)\n",
    "      kimchi.append(dinner_menu[4])\n",
    "    #[밥 국 반찬 디저트 디저트 김치]\n",
    "    elif idx in [1013]:   \n",
    "      rice.append(dinner_menu[0])\n",
    "      soup.append(dinner_menu[1])\n",
    "      side_1.append(dinner_menu[2])\n",
    "      side_2.append(str)\n",
    "      side_3.append(str)\n",
    "      side_4.append(str)\n",
    "      side_5.append(str)\n",
    "      dessert_1.append(dinner_menu[3])\n",
    "      dessert_2.append(dinner_menu[4])\n",
    "      kimchi.append(dinner_menu[5])\n",
    "    #[밥 국 반찬 디저트 반찬 김치]\n",
    "    elif idx in [44,151,161,335,453,3,19]:   \n",
    "      rice.append(dinner_menu[0])\n",
    "      soup.append(dinner_menu[1])\n",
    "      side_1.append(dinner_menu[2])\n",
    "      side_2.append(dinner_menu[4])\n",
    "      side_3.append(str)\n",
    "      side_4.append(str)\n",
    "      side_5.append(str)\n",
    "      dessert_1.append(dinner_menu[3])\n",
    "      dessert_2.append(str)\n",
    "      kimchi.append(dinner_menu[5])\n",
    "    #[밥 국 반찬 x 반찬2개 김치]\n",
    "    elif idx in [15]:   \n",
    "      rice.append(dinner_menu[0])\n",
    "      soup.append(dinner_menu[1])\n",
    "      side_1.append(dinner_menu[2])\n",
    "      side_2.append(dinner_menu[4])\n",
    "      side_3.append(dinner_menu[5])\n",
    "      side_4.append(str)\n",
    "      side_5.append(str)\n",
    "      dessert_1.append(str)\n",
    "      dessert_2.append(str)\n",
    "      kimchi.append(dinner_menu[6])\n",
    "    #[]\n",
    "    elif idx in [95]:   \n",
    "      rice.append(dinner_menu[1])\n",
    "      soup.append(dinner_menu[2])\n",
    "      side_1.append(dinner_menu[3])\n",
    "      side_2.append(dinner_menu[4].split('/')[0])\n",
    "      side_3.append(str)\n",
    "      side_4.append(str)\n",
    "      side_5.append(str)\n",
    "      dessert_1.append(dinner_menu[4].split('/')[1])\n",
    "      dessert_2.append(str)\n",
    "      kimchi.append(dinner_menu[5])\n",
    "    #[밥 반찬2개 디저트/반찬 김치]\n",
    "    elif idx in [506]:   \n",
    "      rice.append(dinner_menu[0])\n",
    "      soup.append(str)\n",
    "      side_1.append(dinner_menu[1])\n",
    "      side_2.append(dinner_menu[2])\n",
    "      side_3.append(dinner_menu[3].split('/')[1])\n",
    "      side_4.append(str)\n",
    "      side_5.append(str)\n",
    "      dessert_1.append(dinner_menu[3].split('/')[0])\n",
    "      dessert_2.append(str)\n",
    "      kimchi.append(dinner_menu[4])\n",
    "    #[국 밥 반찬 반찬/디저트 김치]\n",
    "    elif idx in [780]:   \n",
    "      rice.append(dinner_menu[1])\n",
    "      soup.append(dinner_menu[0])\n",
    "      side_1.append(dinner_menu[2])\n",
    "      side_2.append(dinner_menu[3].split('/')[0])\n",
    "      side_3.append(str)\n",
    "      side_4.append(str)\n",
    "      side_5.append(str)\n",
    "      dessert_1.append(dinner_menu[3].split('/')[1])\n",
    "      dessert_2.append(str)\n",
    "      kimchi.append(dinner_menu[4])\n",
    "    #[]\n",
    "    elif idx in [1010]:   \n",
    "      rice.append(dinner_menu[0])\n",
    "      soup.append(dinner_menu[1])\n",
    "      side_1.append(dinner_menu[2])\n",
    "      side_2.append(dinner_menu[5])\n",
    "      side_3.append(dinner_menu[6])\n",
    "      side_4.append(str)\n",
    "      side_5.append(str)\n",
    "      dessert_1.append(str)\n",
    "      dessert_2.append(str)\n",
    "      kimchi.append(dinner_menu[7])\n",
    "    #[]\n",
    "    elif idx in [1027]:   \n",
    "      rice.append(dinner_menu[0])\n",
    "      soup.append(dinner_menu[3])\n",
    "      side_1.append(dinner_menu[1]+ ' '+dinner_menu[2])\n",
    "      side_2.append(dinner_menu[4])\n",
    "      side_3.append(dinner_menu[5])\n",
    "      side_4.append(dinner_menu[6])\n",
    "      side_5.append(str)\n",
    "      dessert_1.append(str)\n",
    "      dessert_2.append(str)\n",
    "      kimchi.append(dinner_menu[7])\n",
    "    #[]\n",
    "    elif idx in [1048]:   \n",
    "      rice.append(dinner_menu[0])\n",
    "      soup.append(dinner_menu[1])\n",
    "      side_1.append(dinner_menu[2])\n",
    "      side_2.append(dinner_menu[3])\n",
    "      side_3.append(str)\n",
    "      side_4.append(str)\n",
    "      side_5.append(str)\n",
    "      dessert_1.append('배')\n",
    "      dessert_2.append(dinner_menu[5])\n",
    "      kimchi.append(dinner_menu[6])\n",
    "    #[]\n",
    "    elif idx in [1086]:   \n",
    "      rice.append(dinner_menu[0])\n",
    "      soup.append(dinner_menu[2])\n",
    "      side_1.append(dinner_menu[3].split('/')[1])\n",
    "      side_2.append(dinner_menu[4].split('/')[0])\n",
    "      side_3.append(str)\n",
    "      side_4.append(str)\n",
    "      side_5.append(str)\n",
    "      dessert_1.append(dinner_menu[3].split('/')[0])\n",
    "      dessert_2.append(dinner_menu[4].split('/')[1])\n",
    "      kimchi.append(dinner_menu[5])\n",
    "    #[국 반찬3개 김치]\n",
    "    elif idx in [1137,1140]:   \n",
    "      rice.append(str)\n",
    "      soup.append(dinner_menu[0])\n",
    "      side_1.append(dinner_menu[1])\n",
    "      side_2.append(dinner_menu[2])\n",
    "      side_3.append(dinner_menu[3])\n",
    "      side_4.append(str)\n",
    "      side_5.append(str)\n",
    "      dessert_1.append(str)\n",
    "      dessert_2.append(str)\n",
    "      kimchi.append(dinner_menu[4])\n",
    "    #[밥 국 반찬/반찬 반찬2개]\n",
    "    elif idx in [1167]:   \n",
    "      rice.append(dinner_menu[0])\n",
    "      soup.append(dinner_menu[1])\n",
    "      side_1.append(dinner_menu[2].split('/')[0])\n",
    "      side_2.append(dinner_menu[2].split('/')[1])\n",
    "      side_3.append(dinner_menu[3])\n",
    "      side_4.append(dinner_menu[4])\n",
    "      side_5.append(str)\n",
    "      dessert_1.append(str)\n",
    "      dessert_2.append(str)\n",
    "      kimchi.append(str)\n",
    "    #[국 반찬2개 김치]\n",
    "    elif idx in [1184]:   \n",
    "      rice.append(str)\n",
    "      soup.append(dinner_menu[0])\n",
    "      side_1.append(dinner_menu[1])\n",
    "      side_2.append(dinner_menu[2])\n",
    "      side_3.append(str)\n",
    "      side_4.append(str)\n",
    "      side_5.append(str)\n",
    "      dessert_1.append(str)\n",
    "      dessert_2.append(str)\n",
    "      kimchi.append(dinner_menu[3])\n",
    "    #[밥 반찬3개 김치]\n",
    "    elif idx in [1187]:   \n",
    "      rice.append(dinner_menu[0])\n",
    "      soup.append(str)\n",
    "      side_1.append(dinner_menu[1])\n",
    "      side_2.append(dinner_menu[2])\n",
    "      side_3.append(dinner_menu[3])\n",
    "      side_4.append(str)\n",
    "      side_5.append(str)\n",
    "      dessert_1.append(str)\n",
    "      dessert_2.append(str)\n",
    "      kimchi.append(dinner_menu[4])\n",
    "    #[]\n",
    "    elif idx in [1189]:   \n",
    "      rice.append(dinner_menu[0])\n",
    "      soup.append(str)\n",
    "      side_1.append(dinner_menu[1])\n",
    "      side_2.append(dinner_menu[2])\n",
    "      side_3.append(dinner_menu[3])\n",
    "      side_4.append(dinner_menu[4])\n",
    "      side_5.append(str)\n",
    "      dessert_1.append(str)\n",
    "      dessert_2.append(str)\n",
    "      kimchi.append(str)\n",
    "    #[]\n",
    "    elif idx in [1204]:   \n",
    "      rice.append(dinner_menu[0])\n",
    "      soup.append(str)\n",
    "      side_1.append(dinner_menu[1])\n",
    "      side_2.append(dinner_menu[2])\n",
    "      side_3.append(dinner_menu[3])\n",
    "      side_4.append(str)\n",
    "      side_5.append(str)\n",
    "      dessert_1.append(str)\n",
    "      dessert_2.append(str)\n",
    "      kimchi.append(dinner_menu[4])\n",
    "    #[석식 없는 날]\n",
    "    elif idx in [204,224,244,262,281,306,392,412,424,449,468,\n",
    "                 492,510,529,549,571,586,589,609,633,648,687,\n",
    "                 872,890,912,932,955,\n",
    "                 327,346,667,706,730,747,766,786,809,828,853,\n",
    "                 973,993,1166,\n",
    "                 366]:   \n",
    "      rice.append('No dinner')\n",
    "      soup.append(str)\n",
    "      side_1.append(str)\n",
    "      side_2.append(str)\n",
    "      side_3.append(str)\n",
    "      side_4.append(str)\n",
    "      side_5.append(str)\n",
    "      dessert_1.append(str)\n",
    "      dessert_2.append(str)\n",
    "      kimchi.append(str)\n",
    "\n",
    "    #[밥 국 반찬3개 김치]\n",
    "    else:   \n",
    "      rice.append(dinner_menu[0])\n",
    "      soup.append(dinner_menu[1])\n",
    "      side_1.append(dinner_menu[2])\n",
    "      side_2.append(dinner_menu[3])\n",
    "      side_3.append(dinner_menu[4])\n",
    "      side_4.append(str)\n",
    "      side_5.append(str)\n",
    "      dessert_1.append(str)\n",
    "      dessert_2.append(str)\n",
    "      kimchi.append(dinner_menu[5])\n",
    "\n",
    "  print('######## 저녁 데이터 구분 함수 종료 ########')\n",
    "\n",
    "  return rice, soup, side_1, side_2, side_3, side_4, dessert_1, dessert_2, kimchi\n",
    "#test 데이터 중식메뉴 카테고리별 분류\n",
    "def seperate_lunch_menu_list_ts(df):\n",
    "\n",
    "  str = 'None'\n",
    "  lunch_menu_list = df['중식메뉴리스트']\n",
    "\n",
    "  print('######## 점심 데이터 구분 함수 시작 ########')\n",
    "\n",
    "  #메뉴 종류별 구분 (10 피처)\n",
    "  rice = []\n",
    "  soup = []\n",
    "  side_1 = []\n",
    "  side_2 = []\n",
    "  side_3 = []\n",
    "  side_4 = []\n",
    "  side_5 = []\n",
    "  dessert_1 = []\n",
    "  dessert_2 = []\n",
    "  kimchi = []\n",
    "\n",
    "  for idx, lunch_menu in enumerate(lunch_menu_list):\n",
    "\n",
    "    # print(\"현재 인덱스 :\", idx)\n",
    "    # print(lunch_menu)\n",
    "\n",
    "    #[밥 국 반찬3개 김치/디저트 반찬]\n",
    "    if idx in [4,12,16,22,30,36,40,43]:   \n",
    "      rice.append(lunch_menu[0])\n",
    "      soup.append(lunch_menu[1])\n",
    "      side_1.append(lunch_menu[2])\n",
    "      side_2.append(lunch_menu[3])\n",
    "      side_3.append(lunch_menu[4])\n",
    "      side_4.append(lunch_menu[6])\n",
    "      side_5.append(str)\n",
    "      dessert_1.append(lunch_menu[5].split('/')[1])\n",
    "      dessert_2.append(str)\n",
    "      kimchi.append(lunch_menu[5].split('/')[0])\n",
    "    #[밥 국 반찬2개 김치/디저트 반찬]\n",
    "    elif idx in [20]:   \n",
    "      rice.append(lunch_menu[0])\n",
    "      soup.append(lunch_menu[1])\n",
    "      side_1.append(lunch_menu[2])\n",
    "      side_2.append(lunch_menu[3])\n",
    "      side_3.append(lunch_menu[5])\n",
    "      side_4.append(str)\n",
    "      side_5.append(str)\n",
    "      dessert_1.append(lunch_menu[4].split('/')[1])\n",
    "      dessert_2.append(str)\n",
    "      kimchi.append(lunch_menu[4].split('/')[0])\n",
    "    #[밥 국 반찬2개 김치 반찬]\n",
    "    elif idx in [25,34,48]:   \n",
    "      rice.append(lunch_menu[0])\n",
    "      soup.append(lunch_menu[1])\n",
    "      side_1.append(lunch_menu[2])\n",
    "      side_2.append(lunch_menu[3])\n",
    "      side_3.append(lunch_menu[5])\n",
    "      side_4.append(str)\n",
    "      side_5.append(str)\n",
    "      dessert_1.append(str)\n",
    "      dessert_2.append(str)\n",
    "      kimchi.append(lunch_menu[4])\n",
    "    #[밥 국 반찬2개 디저트 김치 반찬]\n",
    "    elif idx in [27]:   \n",
    "      rice.append(lunch_menu[0])\n",
    "      soup.append(lunch_menu[1])\n",
    "      side_1.append(lunch_menu[2])\n",
    "      side_2.append(lunch_menu[3])\n",
    "      side_3.append(lunch_menu[6])\n",
    "      side_4.append(str)\n",
    "      side_5.append(str)\n",
    "      dessert_1.append(lunch_menu[4])\n",
    "      dessert_2.append(str)\n",
    "      kimchi.append(lunch_menu[5])\n",
    "    #[밥 국 반찬3개 김치 반찬]\n",
    "    else:   \n",
    "      rice.append(lunch_menu[0])\n",
    "      soup.append(lunch_menu[1])\n",
    "      side_1.append(lunch_menu[2])\n",
    "      side_2.append(lunch_menu[3])\n",
    "      side_3.append(lunch_menu[4])\n",
    "      side_4.append(lunch_menu[6])\n",
    "      side_5.append(str)\n",
    "      dessert_1.append(str)\n",
    "      dessert_2.append(str)\n",
    "      kimchi.append(lunch_menu[5])\n",
    "\n",
    "  print('######## 점심 데이터 구분 함수 종료 ########')\n",
    "\n",
    "  return rice, soup, side_1, side_2, side_3, side_4, side_5, dessert_1, dessert_2, kimchi\n",
    "#test 데이터 석식메뉴 카테고리별 분류\n",
    "def seperate_dinner_menu_list_ts(df):\n",
    "\n",
    "  str = 'None'\n",
    "  dinner_menu_list = df['석식메뉴리스트']\n",
    "\n",
    "  print('######## 저녁 데이터 구분 함수 시작 ########')\n",
    "\n",
    "  #메뉴 종류별 구분 (10 피처)\n",
    "  rice = []\n",
    "  soup = []\n",
    "  side_1 = []\n",
    "  side_2 = []\n",
    "  side_3 = []\n",
    "  side_4 = []\n",
    "  side_5 = []\n",
    "  dessert_1 = []\n",
    "  dessert_2 = []\n",
    "  kimchi = []\n",
    "\n",
    "  for idx, dinner_menu in enumerate(dinner_menu_list):\n",
    "    \n",
    "    # print(\"현재 인덱스 :\", idx)\n",
    "    # print(dinner_menu)\n",
    "\n",
    "    #[밥 국 반찬2개 김치]\n",
    "    if idx in [0,24,33]:   \n",
    "      rice.append(dinner_menu[0])\n",
    "      soup.append(dinner_menu[1])\n",
    "      side_1.append(dinner_menu[2])\n",
    "      side_2.append(dinner_menu[3])\n",
    "      side_3.append(str)\n",
    "      side_4.append(str)\n",
    "      side_5.append(str)\n",
    "      dessert_1.append(str)\n",
    "      dessert_2.append(str)\n",
    "      kimchi.append(dinner_menu[4])\n",
    "    #[밥 국 반찬2개 디저트 김치]\n",
    "    elif idx in [47]:   \n",
    "      rice.append(dinner_menu[0])\n",
    "      soup.append(dinner_menu[1])\n",
    "      side_1.append(dinner_menu[2])\n",
    "      side_2.append(dinner_menu[3])\n",
    "      side_3.append(str)\n",
    "      side_4.append(str)\n",
    "      side_5.append(str)\n",
    "      dessert_1.append(dinner_menu[4])\n",
    "      dessert_2.append(str)\n",
    "      kimchi.append(dinner_menu[5])\n",
    "    #[밥 반찬3개 김치]\n",
    "    elif idx in [22]:   \n",
    "      rice.append(dinner_menu[0])\n",
    "      soup.append(str)\n",
    "      side_1.append(dinner_menu[1])\n",
    "      side_2.append(dinner_menu[2])\n",
    "      side_3.append(dinner_menu[3])\n",
    "      side_4.append(str)\n",
    "      side_5.append(str)\n",
    "      dessert_1.append(str)\n",
    "      dessert_2.append(str)\n",
    "      kimchi.append(dinner_menu[4])\n",
    "    #[밥 국 반찬4개 김치]\n",
    "    elif idx in [32]:   \n",
    "      rice.append(dinner_menu[0])\n",
    "      soup.append(dinner_menu[1])\n",
    "      side_1.append(dinner_menu[2])\n",
    "      side_2.append(dinner_menu[3])\n",
    "      side_3.append(dinner_menu[4])\n",
    "      side_4.append(dinner_menu[5])\n",
    "      side_5.append(str)\n",
    "      dessert_1.append(str)\n",
    "      dessert_2.append(str)\n",
    "      kimchi.append(dinner_menu[6])\n",
    "    #[]\n",
    "    elif idx in [37]:   \n",
    "      rice.append(dinner_menu[0])\n",
    "      soup.append(dinner_menu[1])\n",
    "      side_1.append(dinner_menu[2])\n",
    "      side_2.append(dinner_menu[3])\n",
    "      side_3.append(dinner_menu[5])\n",
    "      side_4.append(dinner_menu[6])\n",
    "      side_5.append(str)\n",
    "      dessert_1.append(str)\n",
    "      dessert_2.append(str)\n",
    "      kimchi.append(dinner_menu[7])\n",
    "    #[밥 국 반찬3개 김치]\n",
    "    else:   \n",
    "      rice.append(dinner_menu[0])\n",
    "      soup.append(dinner_menu[1])\n",
    "      side_1.append(dinner_menu[2])\n",
    "      side_2.append(dinner_menu[3])\n",
    "      side_3.append(dinner_menu[4])\n",
    "      side_4.append(str)\n",
    "      side_5.append(str)\n",
    "      dessert_1.append(str)\n",
    "      dessert_2.append(str)\n",
    "      kimchi.append(dinner_menu[5])\n",
    "  \n",
    "  print('######## 저녁 데이터 구분 함수 종료 ########')\n",
    "\n",
    "  return rice, soup, side_1, side_2, side_3, side_4, dessert_1, dessert_2, kimchi\n",
    "  "
   ]
  },
  {
   "cell_type": "code",
   "execution_count": 28,
   "metadata": {
    "ExecuteTime": {
     "end_time": "2022-02-28T07:42:33.293255Z",
     "start_time": "2022-02-28T07:42:33.262258Z"
    },
    "id": "XQKQOzbof25N"
   },
   "outputs": [],
   "source": [
    "#메뉴 리스트로 반환\n",
    "train['중식메뉴리스트'] = split_menu(train['중식메뉴'])\n",
    "train['석식메뉴리스트'] = split_menu(train['석식메뉴'])\n",
    "\n",
    "test['중식메뉴리스트'] = split_menu(test['중식메뉴'])\n",
    "test['석식메뉴리스트'] = split_menu(test['석식메뉴'])"
   ]
  },
  {
   "cell_type": "code",
   "execution_count": 29,
   "metadata": {
    "ExecuteTime": {
     "end_time": "2022-02-28T07:43:04.765977Z",
     "start_time": "2022-02-28T07:43:04.736576Z"
    },
    "colab": {
     "base_uri": "https://localhost:8080/"
    },
    "id": "xQ7IHVrEf5Op",
    "outputId": "dce57e44-4c77-4c35-9280-da4009dbd49c"
   },
   "outputs": [
    {
     "name": "stdout",
     "output_type": "stream",
     "text": [
      "######## 점심 데이터 구분 함수 시작 ########\n",
      "######## 점심 데이터 구분 함수 종료 ########\n"
     ]
    }
   ],
   "source": [
    "#lunch 카테고리별 분류\u0003\n",
    "rice, soup, side_1, side_2, side_3, side_4, side_5, dessert_1, dessert_2, kimchi = seperate_lunch_menu_list(train)\n",
    "\n",
    "train['밥_중식'] = rice\n",
    "train['국_중식'] = soup\n",
    "train['반찬1_중식'] = side_1\n",
    "train['반찬2_중식'] = side_2\n",
    "train['반찬3_중식'] = side_3"
   ]
  },
  {
   "cell_type": "code",
   "execution_count": 30,
   "metadata": {
    "ExecuteTime": {
     "end_time": "2022-02-28T07:43:06.434688Z",
     "start_time": "2022-02-28T07:43:06.410259Z"
    },
    "colab": {
     "base_uri": "https://localhost:8080/"
    },
    "id": "59-UWNYzf5K8",
    "outputId": "ecba3076-b9d0-4ae2-e1e1-43db93e4f0d8"
   },
   "outputs": [
    {
     "name": "stdout",
     "output_type": "stream",
     "text": [
      "######## 저녁 데이터 구분 함수 시작 ########\n",
      "######## 저녁 데이터 구분 함수 종료 ########\n"
     ]
    }
   ],
   "source": [
    "#dinner 카테고리별 분류\u0003\n",
    "rice, soup, side_1, side_2, side_3, side_4, dessert_1, dessert_2, kimchi = seperate_dinner_menu_list(train)\n",
    "\n",
    "train['밥_석식'] = rice\n",
    "train['국_석식'] = soup\n",
    "train['반찬1_석식'] = side_1\n",
    "train['반찬2_석식'] = side_2\n",
    "train['반찬3_석식'] = side_3"
   ]
  },
  {
   "cell_type": "code",
   "execution_count": 31,
   "metadata": {
    "ExecuteTime": {
     "end_time": "2022-02-28T07:43:19.144111Z",
     "start_time": "2022-02-28T07:43:19.130338Z"
    },
    "colab": {
     "base_uri": "https://localhost:8080/"
    },
    "id": "lZa4UpfAf5IA",
    "outputId": "948c612c-d3d0-4146-df1d-c00aa3da4999"
   },
   "outputs": [
    {
     "name": "stdout",
     "output_type": "stream",
     "text": [
      "######## 점심 데이터 구분 함수 시작 ########\n",
      "######## 점심 데이터 구분 함수 종료 ########\n"
     ]
    }
   ],
   "source": [
    "#test_lunch 카테고리별 분류\u0003\n",
    "rice, soup, side_1, side_2, side_3, side_4, side_5, dessert_1, dessert_2, kimchi = seperate_lunch_menu_list_ts(test)\n",
    "\n",
    "test['밥_중식'] = rice\n",
    "test['국_중식'] = soup\n",
    "test['반찬1_중식'] = side_1\n",
    "test['반찬2_중식'] = side_2\n",
    "test['반찬3_중식'] = side_3"
   ]
  },
  {
   "cell_type": "code",
   "execution_count": 32,
   "metadata": {
    "ExecuteTime": {
     "end_time": "2022-02-28T07:43:19.721896Z",
     "start_time": "2022-02-28T07:43:19.712539Z"
    },
    "colab": {
     "base_uri": "https://localhost:8080/"
    },
    "id": "D7fQL5zIf5FF",
    "outputId": "421eec0a-7d7f-4c79-fa72-19ce37ff51c8"
   },
   "outputs": [
    {
     "name": "stdout",
     "output_type": "stream",
     "text": [
      "######## 저녁 데이터 구분 함수 시작 ########\n",
      "######## 저녁 데이터 구분 함수 종료 ########\n"
     ]
    }
   ],
   "source": [
    "#test_dinner 카테고리별 분류\u0003\n",
    "rice, soup, side_1, side_2, side_3, side_4, dessert_1, dessert_2, kimchi = seperate_dinner_menu_list_ts(test)\n",
    "\n",
    "test['밥_석식'] = rice\n",
    "test['국_석식'] = soup\n",
    "test['반찬1_석식'] = side_1\n",
    "test['반찬2_석식'] = side_2\n",
    "test['반찬3_석식'] = side_3"
   ]
  },
  {
   "cell_type": "code",
   "execution_count": 79,
   "metadata": {
    "ExecuteTime": {
     "end_time": "2022-02-28T12:30:49.070234Z",
     "start_time": "2022-02-28T12:30:49.047660Z"
    }
   },
   "outputs": [
    {
     "data": {
      "text/plain": [
       "Index(['일자', '요일', '본사정원수', '본사휴가자수', '본사출장자수', '본사시간외근무명령서승인건수',\n",
       "       '현본사소속재택근무자수', '중식메뉴', '석식메뉴', '중식계', '석식계', '평균기온', '일강수량', '공휴일전',\n",
       "       '공휴일후', '월', '일', '요일_야근', '일_초중말', '출근', '휴가비율', '출장비율', '야근비율',\n",
       "       '재택비율', '중식메뉴리스트', '석식메뉴리스트', '밥_중식', '국_중식', '반찬1_중식', '반찬2_중식',\n",
       "       '반찬3_중식', '밥_석식', '국_석식', '반찬1_석식', '반찬2_석식', '반찬3_석식', '반찬상위1_중식',\n",
       "       '반찬상위2_중식', '반찬상위3_중식', '상위반찬수_중식', '반찬상위1_석식', '반찬상위2_석식', '반찬상위3_석식',\n",
       "       '상위반찬수_석식', '쌀밥_중식', '흑미밥_석식', '식사가능비율', '중식계비율', '석식계비율'],\n",
       "      dtype='object')"
      ]
     },
     "execution_count": 79,
     "metadata": {},
     "output_type": "execute_result"
    }
   ],
   "source": [
    "train.columns"
   ]
  },
  {
   "cell_type": "code",
   "execution_count": 85,
   "metadata": {
    "ExecuteTime": {
     "end_time": "2022-02-28T12:47:55.956750Z",
     "start_time": "2022-02-28T12:47:55.843290Z"
    }
   },
   "outputs": [
    {
     "data": {
      "text/plain": [
       "중식메뉴        쌀밥/잡곡밥 (쌀,현미흑미:국내산) 오징어찌개  쇠불고기 (쇠고기:호주산) 계란찜 ...\n",
       "중식메뉴리스트         [쌀밥/잡곡밥, 오징어찌개, 쇠불고기, 계란찜, 청포묵무침, 요구르트, 포기김치]\n",
       "밥_중식                                                        밥\n",
       "국_중식                                                       찌개\n",
       "반찬1_중식                                                    불고기\n",
       "반찬2_중식                                                    계란찜\n",
       "반찬3_중식                                                  청포묵무침\n",
       "반찬상위1_중식                                                    1\n",
       "반찬상위2_중식                                                    1\n",
       "반찬상위3_중식                                                    0\n",
       "상위반찬수_중식                                                    2\n",
       "쌀밥_중식                                                       1\n",
       "Name: 0, dtype: object"
      ]
     },
     "execution_count": 85,
     "metadata": {},
     "output_type": "execute_result"
    }
   ],
   "source": [
    "train.loc[0, ['중식메뉴', '중식메뉴리스트','밥_중식','국_중식','반찬1_중식', '반찬2_중식','반찬3_중식','반찬상위1_중식','반찬상위2_중식', '반찬상위3_중식', '상위반찬수_중식','쌀밥_중식']]"
   ]
  },
  {
   "cell_type": "markdown",
   "metadata": {
    "id": "spQv3fc2gCKQ"
   },
   "source": [
    "- 반찬상위1, 반찬상위2, 반찬상위3 : 반찬1,2,3의 반찬 중 중식계가 1220이상인 반찬은 1값, 나머지는 0\n",
    "- 상위반찬수 : 반찬상위1 + 반찬상위2 + 반찬상위3"
   ]
  },
  {
   "cell_type": "code",
   "execution_count": 33,
   "metadata": {
    "ExecuteTime": {
     "end_time": "2022-02-28T07:45:38.722495Z",
     "start_time": "2022-02-28T07:45:38.685845Z"
    },
    "colab": {
     "base_uri": "https://localhost:8080/"
    },
    "id": "qyAXsTEXgElx",
    "outputId": "12f74b82-b24b-4b3e-91ea-b1f11c25cb65"
   },
   "outputs": [
    {
     "data": {
      "text/plain": [
       "195"
      ]
     },
     "execution_count": 33,
     "metadata": {},
     "output_type": "execute_result"
    }
   ],
   "source": [
    "# 중식\n",
    "point = 1220\n",
    "\n",
    "for str in ['반찬상위1_중식','반찬상위2_중식','반찬상위3_중식','상위반찬수_중식']:\n",
    "       train[str] = np.zeros(len(train))\n",
    "\n",
    "ban1 = train[train.중식계 > point]['반찬1_중식'].tolist()\n",
    "ban2 = train[train.중식계 > point]['반찬2_중식'].tolist()\n",
    "ban3 = train[train.중식계 > point]['반찬3_중식'].tolist()\n",
    "\n",
    "ban_75 = list(set(ban1 + ban2 + ban3))\n",
    "try:\n",
    "  ban_75.remove('None')\n",
    "except:\n",
    "  pass\n",
    "len(ban_75)"
   ]
  },
  {
   "cell_type": "code",
   "execution_count": 34,
   "metadata": {
    "ExecuteTime": {
     "end_time": "2022-02-28T07:45:45.874751Z",
     "start_time": "2022-02-28T07:45:45.643863Z"
    },
    "id": "7zBZqLJogG_2"
   },
   "outputs": [],
   "source": [
    "# train_lunch\n",
    "for idx, data in enumerate(train['반찬1_중식']):\n",
    "  if data in ban_75:\n",
    "    train['반찬상위1_중식'][idx]=1\n",
    "  else:\n",
    "    train['반찬상위1_중식'][idx]=0\n",
    "    \n",
    "for idx, data in enumerate(train['반찬2_중식']):\n",
    "  if data in ban_75:\n",
    "    train['반찬상위2_중식'][idx]=1\n",
    "  else:\n",
    "    train['반찬상위2_중식'][idx]=0\n",
    "\n",
    "for idx, data in enumerate(train['반찬3_중식']):\n",
    "  if data in ban_75:\n",
    "    train['반찬상위3_중식'][idx]=1\n",
    "  else:\n",
    "    train['반찬상위3_중식'][idx]=0\n",
    "\n",
    "train[['반찬상위1_중식','반찬상위2_중식','반찬상위3_중식','상위반찬수_중식']]=train[['반찬상위1_중식','반찬상위2_중식','반찬상위3_중식','상위반찬수_중식']].astype(int)\n",
    "train['상위반찬수_중식'] = train['반찬상위1_중식']+train['반찬상위2_중식']+train['반찬상위3_중식']"
   ]
  },
  {
   "cell_type": "code",
   "execution_count": 35,
   "metadata": {
    "ExecuteTime": {
     "end_time": "2022-02-28T07:45:47.357577Z",
     "start_time": "2022-02-28T07:45:47.314909Z"
    },
    "id": "gsRLBilcgEi9"
   },
   "outputs": [],
   "source": [
    "# test_lunch\n",
    "for str in ['반찬상위1_중식','반찬상위2_중식','반찬상위3_중식','상위반찬수_중식']:\n",
    "       test[str] = np.zeros(len(test))\n",
    "\n",
    "for idx, data in enumerate(test['반찬1_중식']):\n",
    "  if data in ban_75:\n",
    "    test['반찬상위1_중식'].iloc[idx]=1\n",
    "  else:\n",
    "    test['반찬상위1_중식'].iloc[idx]=0\n",
    "    \n",
    "for idx, data in enumerate(test['반찬2_중식']):\n",
    "  if data in ban_75:\n",
    "    test['반찬상위2_중식'].iloc[idx]=1\n",
    "  else:\n",
    "    test['반찬상위2_중식'].iloc[idx]=0\n",
    "\n",
    "for idx, data in enumerate(test['반찬3_중식']):\n",
    "  if data in ban_75:\n",
    "    test['반찬상위3_중식'].iloc[idx]=1\n",
    "  else:\n",
    "    test['반찬상위3_중식'].iloc[idx]=0\n",
    "\n",
    "test[['반찬상위1_중식','반찬상위2_중식','반찬상위3_중식','상위반찬수_중식']]=test[['반찬상위1_중식','반찬상위2_중식','반찬상위3_중식','상위반찬수_중식']].astype(int)\n",
    "test['상위반찬수_중식'] = test['반찬상위1_중식']+test['반찬상위2_중식']+test['반찬상위3_중식']"
   ]
  },
  {
   "cell_type": "markdown",
   "metadata": {
    "id": "n_C92vJ2gQ_p"
   },
   "source": [
    "- 반찬상위1, 반찬상위2, 반찬상위3 : 반찬1,2,3의 반찬 중 석식계가 670이상인 반찬은 1값, 나머지는 0\n",
    "- 상위반찬수 : 반찬상위1 + 반찬상위2 + 반찬상위3"
   ]
  },
  {
   "cell_type": "code",
   "execution_count": 36,
   "metadata": {
    "ExecuteTime": {
     "end_time": "2022-02-28T07:49:07.684260Z",
     "start_time": "2022-02-28T07:49:07.649160Z"
    },
    "colab": {
     "base_uri": "https://localhost:8080/"
    },
    "id": "RSzkgqIggEgA",
    "outputId": "fbaad0d1-2682-4b80-9ec5-093f71e97e96"
   },
   "outputs": [
    {
     "data": {
      "text/plain": [
       "369"
      ]
     },
     "execution_count": 36,
     "metadata": {},
     "output_type": "execute_result"
    }
   ],
   "source": [
    "# 석식\n",
    "for str in ['반찬상위1_석식','반찬상위2_석식','반찬상위3_석식','상위반찬수_석식']:\n",
    "       train[str] = np.zeros(len(train))\n",
    "\n",
    "point = 570\n",
    "\n",
    "ban1 = train[train.석식계 > point]['반찬1_석식'].tolist()\n",
    "ban2 = train[train.석식계 > point]['반찬2_석식'].tolist()\n",
    "ban3 = train[train.석식계 > point]['반찬3_석식'].tolist()\n",
    "\n",
    "ban_75 = list(set(ban1 + ban2 + ban3))\n",
    "try:\n",
    "  ban_75.remove('None')\n",
    "except:\n",
    "  pass\n",
    "len(ban_75)"
   ]
  },
  {
   "cell_type": "code",
   "execution_count": 37,
   "metadata": {
    "ExecuteTime": {
     "end_time": "2022-02-28T07:49:08.322291Z",
     "start_time": "2022-02-28T07:49:08.054817Z"
    },
    "id": "JmzybbzNgEPj"
   },
   "outputs": [],
   "source": [
    "for idx, data in enumerate(train['반찬1_석식']):\n",
    "  if data in ban_75:\n",
    "    train['반찬상위1_석식'][idx]=1\n",
    "  else:\n",
    "    train['반찬상위1_석식'][idx]=0\n",
    "    \n",
    "for idx, data in enumerate(train['반찬2_석식']):\n",
    "  if data in ban_75:\n",
    "    train['반찬상위2_석식'][idx]=1\n",
    "  else:\n",
    "    train['반찬상위2_석식'][idx]=0\n",
    "\n",
    "for idx, data in enumerate(train['반찬3_석식']):\n",
    "  if data in ban_75:\n",
    "    train['반찬상위3_석식'][idx]=1\n",
    "  else:\n",
    "    train['반찬상위3_석식'][idx]=0\n",
    "\n",
    "train[['반찬상위1_석식','반찬상위2_석식','반찬상위3_석식','상위반찬수_석식']]=train[['반찬상위1_석식','반찬상위2_석식','반찬상위3_석식','상위반찬수_석식']].astype(int)\n",
    "train['상위반찬수_석식'] = train['반찬상위1_석식']+train['반찬상위2_석식']+train['반찬상위3_석식']"
   ]
  },
  {
   "cell_type": "code",
   "execution_count": 38,
   "metadata": {
    "ExecuteTime": {
     "end_time": "2022-02-28T07:49:08.549007Z",
     "start_time": "2022-02-28T07:49:08.501509Z"
    },
    "id": "EeDLiXFKgbeq"
   },
   "outputs": [],
   "source": [
    "for str in ['반찬상위1_석식','반찬상위2_석식','반찬상위3_석식','상위반찬수_석식']:\n",
    "       test[str] = np.zeros(len(test))\n",
    "\n",
    "for idx, data in enumerate(test['반찬1_석식']):\n",
    "  if data in ban_75:\n",
    "    test['반찬상위1_석식'].iloc[idx]=1\n",
    "  else:\n",
    "    test['반찬상위1_석식'].iloc[idx]=0\n",
    "    \n",
    "for idx, data in enumerate(test['반찬2_석식']):\n",
    "  if data in ban_75:\n",
    "    test['반찬상위2_석식'].iloc[idx]=1\n",
    "  else:\n",
    "    test['반찬상위2_석식'].iloc[idx]=0\n",
    "\n",
    "for idx, data in enumerate(test['반찬3_석식']):\n",
    "  if data in ban_75:\n",
    "    test['반찬상위3_석식'].iloc[idx]=1\n",
    "  else:\n",
    "    test['반찬상위3_석식'].iloc[idx]=0\n",
    "\n",
    "test[['반찬상위1_석식','반찬상위2_석식','반찬상위3_석식','상위반찬수_석식']]=test[['반찬상위1_석식','반찬상위2_석식','반찬상위3_석식','상위반찬수_석식']].astype(int)\n",
    "test['상위반찬수_석식'] = test['반찬상위1_석식']+test['반찬상위2_석식']+test['반찬상위3_석식']"
   ]
  },
  {
   "cell_type": "markdown",
   "metadata": {
    "id": "MAnZ6A3igcvJ"
   },
   "source": [
    "밥, 국"
   ]
  },
  {
   "cell_type": "code",
   "execution_count": 39,
   "metadata": {
    "ExecuteTime": {
     "end_time": "2022-02-28T07:51:27.561073Z",
     "start_time": "2022-02-28T07:51:27.546812Z"
    },
    "id": "9xZONBbIt6Fx"
   },
   "outputs": [],
   "source": [
    "def bob_handle(x):\n",
    "    if '쌀밥' in x:\n",
    "        return \"밥\"\n",
    "    elif \"카레\" in x:\n",
    "        return '카레'\n",
    "    elif \"비빔\" in x:\n",
    "        return '비빔밥'\n",
    "    elif (\"볶음\" in x) or (\"필라프\" in x) or (\"오므라이스\" in x):\n",
    "        return '볶음밥'    \n",
    "    elif \"곤드레\" in x:\n",
    "        return '곤드레밥' \n",
    "    elif \"콩나물\" in x:\n",
    "        return '콩나물밥' \n",
    "    elif \"영양밥\" in x:\n",
    "        return '영양밥'\n",
    "    elif \"오곡밥\" in x:\n",
    "        return '밥'\n",
    "    elif \"덮밥\" in x:\n",
    "        return '덮밥'\n",
    "    elif \"짜장\" in x:\n",
    "        return '짜장밥'\n",
    "    else:\n",
    "        return x\n",
    "\n",
    "train.밥_중식 = train.밥_중식.apply(bob_handle)"
   ]
  },
  {
   "cell_type": "code",
   "execution_count": 40,
   "metadata": {
    "ExecuteTime": {
     "end_time": "2022-02-28T07:52:08.689818Z",
     "start_time": "2022-02-28T07:52:08.669674Z"
    },
    "id": "F6XvSoLmt6Fx"
   },
   "outputs": [],
   "source": [
    "def guk_handle(x):\n",
    "    if ('된장' in x) or ('냉이' in x) or ('배추' in x) or ('쑥' in x) or (\"아욱\" in x) or (\"근대\" in x):\n",
    "        return \"된장\"  \n",
    "    elif (\"김치\" in x) or (\"김칫\" in x):\n",
    "        return '김치'  \n",
    "    elif \"찌개\" in x:\n",
    "        return '찌개'\n",
    "    elif \"맑은\" in x:\n",
    "        return '맑은국'\n",
    "    elif \"해장\" in x:\n",
    "        return '해장국' \n",
    "    elif (\"장국\" in x) or (\"미소\" in x):\n",
    "        return '미소국'\n",
    "    elif \"스프\" in x:\n",
    "        return '스프'    \n",
    "    elif (\"만두\" in x) or (\"만둣\" in x):\n",
    "        return '만두국' \n",
    "    elif (\"소고기\" in x) or (\"쇠고기\" in x):\n",
    "        return '고깃국'\n",
    "    elif \"떡국\" in x:\n",
    "        return '떡국'\n",
    "    elif \"냉국\" in x:\n",
    "        return '냉국'\n",
    "    elif (\"북어\" in x) or ('북엇' in x) or ('황태' in x):\n",
    "        return '북어국' \n",
    "    elif \"미역\" in x:\n",
    "        return '미역국' \n",
    "    elif \"계란\" in x:\n",
    "        return '계란국' \n",
    "    elif \"들깨국\" in x:\n",
    "        return '들깨국'\n",
    "    elif \"두부국\" in x:\n",
    "        return '두부국' \n",
    "    elif \"버섯\" in x:\n",
    "        return '버섯국'\n",
    "    elif \"어묵\" in x:\n",
    "        return '어묵국'\n",
    "    elif \"육개장\" in x:\n",
    "        return '육개장' \n",
    "    elif \"콩나물\" in x:\n",
    "        return '콩나물국'\n",
    "    elif (\"국수\" in x) or (\"우동\" in x) :\n",
    "        return '면'\n",
    "    elif \"갈비탕\" in x:\n",
    "        return '갈비탕'  \n",
    "    elif \"국밥\" in x:\n",
    "        return '국밥'\n",
    "    elif (\"닭\" in x) or (\"삼계탕\" in x) or (\"백숙\" in x):\n",
    "        return '닭국'\n",
    "    elif \"탕\" in x:\n",
    "        return '탕'\n",
    "    elif \"국\" in x:\n",
    "        return '국'\n",
    "    else:\n",
    "        return x\n",
    "\n",
    "train.국_중식 = train.국_중식.apply(guk_handle)"
   ]
  },
  {
   "cell_type": "code",
   "execution_count": 41,
   "metadata": {
    "ExecuteTime": {
     "end_time": "2022-02-28T07:52:18.829581Z",
     "start_time": "2022-02-28T07:52:18.809498Z"
    },
    "id": "SvVzBMf2t6Fy"
   },
   "outputs": [],
   "source": [
    "def banchan1_handle(x):\n",
    "    if '오징어' in x:\n",
    "        return \"오징어\"  \n",
    "    elif \"닭\" in x:\n",
    "        return '닭고기'\n",
    "    elif \"오리\" in x:\n",
    "        return '오리고기'\n",
    "    elif \"불고기\" in x:\n",
    "        return '불고기' \n",
    "    elif \"까스\" in x:\n",
    "        return '돈가스'\n",
    "    elif \"가스\" in x:\n",
    "        return '돈가스'    \n",
    "    elif \"치킨\" in x:\n",
    "        return '치킨' \n",
    "    elif \"장조림\" in x:\n",
    "        return '장조림'   \n",
    "    elif \"강정\" in x:\n",
    "        return '강정' \n",
    "    elif (\"고등어\" in x) or (\"삼치\" in x) or (\"갈치\" in x) or (\"굴비\" in x) or (\"가자미\" in x):\n",
    "        return '생선'\n",
    "    elif \"낙지\" in x:\n",
    "        return '낙지'  \n",
    "    elif \"주꾸미\" in x:\n",
    "        return '주꾸미' \n",
    "    elif (\"돼지갈비\" in x) or (\"소갈비\" in x):\n",
    "        return '갈비'\n",
    "    elif \"스테이크\" in x:\n",
    "        if \"함박\" in x:\n",
    "            return '함박스테이크'\n",
    "        else:\n",
    "            return '스테이크'\n",
    "    elif \"함박\" in x:\n",
    "        return '함박스테이크'\n",
    "    elif (\"돈육\" in x) or (\"육\" in x) or (\"삼겹살\" in x) or (\"돼지\" in x) or (\"보쌈\" in x):\n",
    "        return '돼지고기'\n",
    "    elif \"순대\" in x:\n",
    "        return '순대'\n",
    "    elif \"탕수\" in x:\n",
    "        return '탕수'\n",
    "    elif \"새우\" in x:\n",
    "        return '새우'\n",
    "    else:\n",
    "        return x\n",
    "\n",
    "train. 반찬1_중식 = train.반찬1_중식.apply(banchan1_handle)"
   ]
  },
  {
   "cell_type": "code",
   "execution_count": 42,
   "metadata": {
    "ExecuteTime": {
     "end_time": "2022-02-28T07:53:34.583665Z",
     "start_time": "2022-02-28T07:53:34.572235Z"
    },
    "id": "cWvqQp4Et6Fy"
   },
   "outputs": [],
   "source": [
    "test.밥_중식 = test.밥_중식.apply(bob_handle)\n",
    "test.국_중식 = test.국_중식.apply(guk_handle)\n",
    "test. 반찬1_중식 = test.반찬1_중식.apply(banchan1_handle)"
   ]
  },
  {
   "cell_type": "markdown",
   "metadata": {
    "id": "YKItQ_rct6Fy"
   },
   "source": [
    "## 메뉴정리(저녁)\n",
    "- 밥_석식\n",
    "- 국_석식\n",
    "- 반찬_석식\n",
    "=> 모두 레이블 인코딩"
   ]
  },
  {
   "cell_type": "code",
   "execution_count": 43,
   "metadata": {
    "ExecuteTime": {
     "end_time": "2022-02-28T07:53:41.090713Z",
     "start_time": "2022-02-28T07:53:41.069857Z"
    },
    "id": "WDKqMb2Bt6Fz"
   },
   "outputs": [],
   "source": [
    "train.밥_석식 = train.밥_석식.apply(bob_handle)\n",
    "train.국_석식 = train.국_석식.apply(guk_handle)\n",
    "train. 반찬1_석식 = train.반찬1_석식.apply(banchan1_handle)"
   ]
  },
  {
   "cell_type": "code",
   "execution_count": 44,
   "metadata": {
    "ExecuteTime": {
     "end_time": "2022-02-28T07:53:43.078243Z",
     "start_time": "2022-02-28T07:53:43.067441Z"
    },
    "id": "xGH-PLAkt6Fz"
   },
   "outputs": [],
   "source": [
    "## 이거는 누락되어서 넣어줌\n",
    "test.국_석식[22]='수제오떡탕'\n",
    "test.반찬1_석식[22]='매운족발볶음'"
   ]
  },
  {
   "cell_type": "code",
   "execution_count": 45,
   "metadata": {
    "ExecuteTime": {
     "end_time": "2022-02-28T07:53:45.896700Z",
     "start_time": "2022-02-28T07:53:45.884527Z"
    },
    "id": "pmQ0NPPXt6Fz"
   },
   "outputs": [],
   "source": [
    "test.밥_석식 = test.밥_석식.apply(bob_handle)\n",
    "test.국_석식 = test.국_석식.apply(guk_handle)\n",
    "test. 반찬1_석식 = test.반찬1_석식.apply(banchan1_handle)"
   ]
  },
  {
   "cell_type": "markdown",
   "metadata": {
    "id": "cISyPO7dIcW0"
   },
   "source": [
    "## 쌀밥/흑미밥\n",
    "\n",
    "- 쌀밥_중식 : 중식 밥이 '밥'인 경우 = 1 (밥_중식 이름이 있어 쌀밥으로 함)\n",
    "- 흑미밥_석식 : 석식 밥이 '흑미밥'인 경우 = 1"
   ]
  },
  {
   "cell_type": "code",
   "execution_count": 46,
   "metadata": {
    "ExecuteTime": {
     "end_time": "2022-02-28T07:56:04.754012Z",
     "start_time": "2022-02-28T07:56:04.723189Z"
    },
    "id": "037LAn79IcW1"
   },
   "outputs": [],
   "source": [
    "train['쌀밥_중식'] = np.where(train.loc[:,'밥_중식']=='밥', 1, 0)\n",
    "test['쌀밥_중식'] = np.where(test.loc[:,'밥_중식']=='밥', 1, 0)\n",
    "\n",
    "train['흑미밥_석식'] = np.where(train.loc[:,'밥_석식']=='흑미밥', 1, 0)\n",
    "test['흑미밥_석식'] = np.where(test.loc[:,'밥_석식']=='흑미밥', 1, 0)"
   ]
  },
  {
   "cell_type": "code",
   "execution_count": 47,
   "metadata": {
    "ExecuteTime": {
     "end_time": "2022-02-28T07:56:05.300840Z",
     "start_time": "2022-02-28T07:56:05.264071Z"
    },
    "colab": {
     "base_uri": "https://localhost:8080/"
    },
    "id": "Ec7W-GESIcW1",
    "outputId": "fa73b225-da16-4e7e-ffc4-42fbb1a323b0"
   },
   "outputs": [
    {
     "name": "stdout",
     "output_type": "stream",
     "text": [
      "1    1006\n",
      "0     199\n",
      "Name: 쌀밥_중식, dtype: int64\n",
      "1    48\n",
      "0     2\n",
      "Name: 쌀밥_중식, dtype: int64\n",
      "0    1113\n",
      "1      92\n",
      "Name: 흑미밥_석식, dtype: int64\n",
      "1    35\n",
      "0    15\n",
      "Name: 흑미밥_석식, dtype: int64\n"
     ]
    }
   ],
   "source": [
    "print(train['쌀밥_중식'].value_counts())\n",
    "print(test['쌀밥_중식'].value_counts())\n",
    "\n",
    "print(train['흑미밥_석식'].value_counts())\n",
    "print(test['흑미밥_석식'].value_counts())"
   ]
  },
  {
   "cell_type": "markdown",
   "metadata": {
    "id": "YjbsMV3MJtC1"
   },
   "source": [
    "## 중/석식계 비율, 식사가능비율"
   ]
  },
  {
   "cell_type": "markdown",
   "metadata": {
    "id": "6loSWLuaMHLh"
   },
   "source": [
    "- 식사가능비율 : 출근 / 본사정원수\n",
    "- 중식계비율 : 중식계 / 본사정원수\n",
    "- 석식계비율 : 석식계 / 본사정원수"
   ]
  },
  {
   "cell_type": "code",
   "execution_count": 50,
   "metadata": {
    "ExecuteTime": {
     "end_time": "2022-02-28T08:12:55.185706Z",
     "start_time": "2022-02-28T08:12:55.175738Z"
    },
    "id": "y0COSSJ0iUR1"
   },
   "outputs": [],
   "source": [
    "# 효진\n",
    "train['식사가능비율'] = train['출근']/train['본사정원수']\n",
    "test['식사가능비율'] = test['출근']/train['본사정원수']\n",
    "train['중식계비율'] = train['중식계']/train['본사정원수']\n",
    "train['석식계비율'] = train['석식계']/train['본사정원수']"
   ]
  },
  {
   "cell_type": "code",
   "execution_count": 51,
   "metadata": {
    "ExecuteTime": {
     "end_time": "2022-02-28T08:12:55.200820Z",
     "start_time": "2022-02-28T08:12:55.188715Z"
    },
    "colab": {
     "base_uri": "https://localhost:8080/"
    },
    "id": "84JCBwrD9Fw8",
    "outputId": "962469a4-8086-49a8-886a-32c87371fea9"
   },
   "outputs": [
    {
     "data": {
      "text/plain": [
       "Index(['일자', '요일', '본사정원수', '본사휴가자수', '본사출장자수', '본사시간외근무명령서승인건수',\n",
       "       '현본사소속재택근무자수', '중식메뉴', '석식메뉴', '중식계', '석식계', '평균기온', '일강수량', '공휴일전',\n",
       "       '공휴일후', '월', '일', '요일_야근', '일_초중말', '출근', '휴가비율', '출장비율', '야근비율',\n",
       "       '재택비율', '중식메뉴리스트', '석식메뉴리스트', '밥_중식', '국_중식', '반찬1_중식', '반찬2_중식',\n",
       "       '반찬3_중식', '밥_석식', '국_석식', '반찬1_석식', '반찬2_석식', '반찬3_석식', '반찬상위1_중식',\n",
       "       '반찬상위2_중식', '반찬상위3_중식', '상위반찬수_중식', '반찬상위1_석식', '반찬상위2_석식', '반찬상위3_석식',\n",
       "       '상위반찬수_석식', '쌀밥_중식', '흑미밥_석식', '식사가능비율', '중식계비율', '석식계비율'],\n",
       "      dtype='object')"
      ]
     },
     "execution_count": 51,
     "metadata": {},
     "output_type": "execute_result"
    }
   ],
   "source": [
    "train.columns"
   ]
  },
  {
   "cell_type": "markdown",
   "metadata": {
    "id": "6EenCdc6LN1i"
   },
   "source": [
    "- lunch_target : 중식계\n",
    "- lunch_target_ratio : 중식계비율\n",
    "- dinner_target : 석식계\n",
    "- dinner_target_ratio : 석식계비율"
   ]
  },
  {
   "cell_type": "code",
   "execution_count": 52,
   "metadata": {
    "ExecuteTime": {
     "end_time": "2022-02-28T08:12:57.126671Z",
     "start_time": "2022-02-28T08:12:57.105363Z"
    },
    "id": "LR9d8vuPBipN"
   },
   "outputs": [],
   "source": [
    "lunch_target = train['중식계'].copy()\n",
    "lunch_target_ratio = train['중식계비율'].copy()\n",
    "train_lunch = train[['본사정원수', '월', '일','휴가비율', '출장비율', '야근비율', '재택비율', '식사가능비율',\n",
    "                     '일_초중말', '요일', '평균기온', '일강수량', '밥_중식', '국_중식', '반찬1_중식','쌀밥_중식',\n",
    "                     '반찬상위1_중식', '반찬상위2_중식', '반찬상위3_중식',  '상위반찬수_중식']].copy()\n",
    "\n",
    "test_lunch = test[['본사정원수', '월', '일','휴가비율', '출장비율', '야근비율', '재택비율', '식사가능비율',\n",
    "                     '일_초중말', '요일', '평균기온', '일강수량', '밥_중식', '국_중식', '반찬1_중식','쌀밥_중식',\n",
    "                     '반찬상위1_중식', '반찬상위2_중식', '반찬상위3_중식',  '상위반찬수_중식']].copy()"
   ]
  },
  {
   "cell_type": "code",
   "execution_count": 53,
   "metadata": {
    "ExecuteTime": {
     "end_time": "2022-02-28T08:12:57.832556Z",
     "start_time": "2022-02-28T08:12:57.809879Z"
    },
    "id": "mn_o2952Bimr"
   },
   "outputs": [],
   "source": [
    "dinner_target = train['석식계'].copy()\n",
    "dinner_target_ratio = train['석식계비율'].copy()\n",
    "train_dinner = train[['본사정원수', '공휴일전', '공휴일후', '휴가비율', '출장비율', '야근비율', '재택비율',\n",
    "                      '식사가능비율', '평균기온', '일강수량', '요일', '요일_야근', '월', '일', '일_초중말', \n",
    "                      '밥_석식', '국_석식', '반찬1_석식', '흑미밥_석식','반찬상위1_석식', \n",
    "                             '반찬상위2_석식', '반찬상위3_석식', '상위반찬수_석식']].copy()               \n",
    "test_dinner = test[['본사정원수', '공휴일전', '공휴일후', '휴가비율', '출장비율', '야근비율', '재택비율',\n",
    "                     '식사가능비율', '평균기온', '일강수량', '요일', '요일_야근', '월', '일', '일_초중말', \n",
    "                     '밥_석식', '국_석식', '반찬1_석식', '흑미밥_석식','반찬상위1_석식', \n",
    "                     '반찬상위2_석식', '반찬상위3_석식', '상위반찬수_석식']].copy()"
   ]
  },
  {
   "cell_type": "markdown",
   "metadata": {
    "id": "FHccHQXRn4Ga"
   },
   "source": [
    "## 인코딩"
   ]
  },
  {
   "cell_type": "code",
   "execution_count": 54,
   "metadata": {
    "ExecuteTime": {
     "end_time": "2022-02-28T08:14:21.447901Z",
     "start_time": "2022-02-28T08:14:21.426959Z"
    },
    "id": "SkLFyEt7n4bs"
   },
   "outputs": [],
   "source": [
    "cat_features=['밥_중식','국_중식','반찬1_중식']\n",
    "features = pd.concat([train_lunch, test_lunch]).reset_index(drop=True)\n",
    "\n",
    "for i in cat_features:\n",
    "    features[i] = LabelEncoder().fit_transform(features[i])\n",
    "    \n",
    "train_lunch = features[:train_lunch.shape[0]]\n",
    "test_lunch = features[train_lunch.shape[0]:]"
   ]
  },
  {
   "cell_type": "code",
   "execution_count": 55,
   "metadata": {
    "ExecuteTime": {
     "end_time": "2022-02-28T08:14:23.902422Z",
     "start_time": "2022-02-28T08:14:23.874866Z"
    },
    "id": "AOZcFQdgn5Pl"
   },
   "outputs": [],
   "source": [
    "cat_features2=['밥_석식','국_석식','반찬1_석식']\n",
    "features2 = pd.concat([train_dinner, test_dinner]).reset_index(drop=True)\n",
    "\n",
    "for i in cat_features2:\n",
    "    features2[i] = LabelEncoder().fit_transform(features2[i])\n",
    "    \n",
    "train_dinner = features2[:train_dinner.shape[0]]\n",
    "test_dinner = features2[train_dinner.shape[0]:]"
   ]
  },
  {
   "cell_type": "markdown",
   "metadata": {
    "id": "2sbYqSmkolmk"
   },
   "source": [
    "## 상관관계"
   ]
  },
  {
   "cell_type": "code",
   "execution_count": 56,
   "metadata": {
    "ExecuteTime": {
     "end_time": "2022-02-28T08:15:43.035904Z",
     "start_time": "2022-02-28T08:15:43.020885Z"
    },
    "id": "yxWwHPq8pEd1"
   },
   "outputs": [],
   "source": [
    "pd.set_option('display.max_columns', None)"
   ]
  },
  {
   "cell_type": "code",
   "execution_count": 65,
   "metadata": {
    "ExecuteTime": {
     "end_time": "2022-02-28T08:22:17.063429Z",
     "start_time": "2022-02-28T08:22:17.022943Z"
    },
    "colab": {
     "base_uri": "https://localhost:8080/",
     "height": 170
    },
    "id": "FuGmFp3Monqt",
    "outputId": "2044744e-1ef7-431d-e941-0697e108c27b"
   },
   "outputs": [
    {
     "data": {
      "text/html": [
       "<div>\n",
       "<style scoped>\n",
       "    .dataframe tbody tr th:only-of-type {\n",
       "        vertical-align: middle;\n",
       "    }\n",
       "\n",
       "    .dataframe tbody tr th {\n",
       "        vertical-align: top;\n",
       "    }\n",
       "\n",
       "    .dataframe thead th {\n",
       "        text-align: right;\n",
       "    }\n",
       "</style>\n",
       "<table border=\"1\" class=\"dataframe\">\n",
       "  <thead>\n",
       "    <tr style=\"text-align: right;\">\n",
       "      <th></th>\n",
       "      <th>중식계</th>\n",
       "      <th>야근비율</th>\n",
       "      <th>식사가능비율</th>\n",
       "      <th>상위반찬수_중식</th>\n",
       "      <th>반찬상위1_중식</th>\n",
       "      <th>반찬상위2_중식</th>\n",
       "      <th>반찬상위3_중식</th>\n",
       "      <th>일강수량</th>\n",
       "      <th>쌀밥_중식</th>\n",
       "      <th>재택비율</th>\n",
       "      <th>국_중식</th>\n",
       "      <th>평균기온</th>\n",
       "      <th>밥_중식</th>\n",
       "      <th>반찬1_중식</th>\n",
       "      <th>일_초중말</th>\n",
       "      <th>일</th>\n",
       "      <th>본사정원수</th>\n",
       "      <th>월</th>\n",
       "      <th>휴가비율</th>\n",
       "      <th>출장비율</th>\n",
       "      <th>요일</th>\n",
       "    </tr>\n",
       "  </thead>\n",
       "  <tbody>\n",
       "    <tr>\n",
       "      <th>중식계</th>\n",
       "      <td>1.0</td>\n",
       "      <td>0.535956</td>\n",
       "      <td>0.423875</td>\n",
       "      <td>0.367988</td>\n",
       "      <td>0.342672</td>\n",
       "      <td>0.243718</td>\n",
       "      <td>0.200609</td>\n",
       "      <td>0.094487</td>\n",
       "      <td>0.082941</td>\n",
       "      <td>0.076757</td>\n",
       "      <td>0.053019</td>\n",
       "      <td>0.03673</td>\n",
       "      <td>-0.026088</td>\n",
       "      <td>-0.038159</td>\n",
       "      <td>-0.084108</td>\n",
       "      <td>-0.097392</td>\n",
       "      <td>-0.115529</td>\n",
       "      <td>-0.154664</td>\n",
       "      <td>-0.388266</td>\n",
       "      <td>-0.442041</td>\n",
       "      <td>-0.731563</td>\n",
       "    </tr>\n",
       "  </tbody>\n",
       "</table>\n",
       "</div>"
      ],
      "text/plain": [
       "     중식계      야근비율    식사가능비율  상위반찬수_중식  반찬상위1_중식  반찬상위2_중식  반찬상위3_중식  \\\n",
       "중식계  1.0  0.535956  0.423875  0.367988  0.342672  0.243718  0.200609   \n",
       "\n",
       "         일강수량     쌀밥_중식      재택비율      국_중식     평균기온      밥_중식    반찬1_중식  \\\n",
       "중식계  0.094487  0.082941  0.076757  0.053019  0.03673 -0.026088 -0.038159   \n",
       "\n",
       "        일_초중말         일     본사정원수         월      휴가비율      출장비율        요일  \n",
       "중식계 -0.084108 -0.097392 -0.115529 -0.154664 -0.388266 -0.442041 -0.731563  "
      ]
     },
     "execution_count": 65,
     "metadata": {},
     "output_type": "execute_result"
    }
   ],
   "source": [
    "pd.concat([train_lunch,lunch_target], axis=1).corr()[['중식계']].sort_values(by='중식계', ascending = False).transpose()"
   ]
  },
  {
   "cell_type": "code",
   "execution_count": 66,
   "metadata": {
    "ExecuteTime": {
     "end_time": "2022-02-28T08:22:28.858231Z",
     "start_time": "2022-02-28T08:22:28.810441Z"
    },
    "colab": {
     "base_uri": "https://localhost:8080/",
     "height": 239
    },
    "id": "CQw1h8YGonol",
    "outputId": "864cc364-908d-4b6b-ca9d-46479f776841"
   },
   "outputs": [
    {
     "data": {
      "text/html": [
       "<div>\n",
       "<style scoped>\n",
       "    .dataframe tbody tr th:only-of-type {\n",
       "        vertical-align: middle;\n",
       "    }\n",
       "\n",
       "    .dataframe tbody tr th {\n",
       "        vertical-align: top;\n",
       "    }\n",
       "\n",
       "    .dataframe thead th {\n",
       "        text-align: right;\n",
       "    }\n",
       "</style>\n",
       "<table border=\"1\" class=\"dataframe\">\n",
       "  <thead>\n",
       "    <tr style=\"text-align: right;\">\n",
       "      <th></th>\n",
       "      <th>본사정원수</th>\n",
       "      <th>월</th>\n",
       "      <th>일</th>\n",
       "      <th>휴가비율</th>\n",
       "      <th>출장비율</th>\n",
       "      <th>야근비율</th>\n",
       "      <th>재택비율</th>\n",
       "      <th>식사가능비율</th>\n",
       "      <th>일_초중말</th>\n",
       "      <th>요일</th>\n",
       "      <th>평균기온</th>\n",
       "      <th>일강수량</th>\n",
       "      <th>밥_중식</th>\n",
       "      <th>국_중식</th>\n",
       "      <th>반찬1_중식</th>\n",
       "      <th>쌀밥_중식</th>\n",
       "      <th>반찬상위1_중식</th>\n",
       "      <th>반찬상위2_중식</th>\n",
       "      <th>반찬상위3_중식</th>\n",
       "      <th>상위반찬수_중식</th>\n",
       "      <th>중식계비율</th>\n",
       "    </tr>\n",
       "  </thead>\n",
       "  <tbody>\n",
       "    <tr>\n",
       "      <th>중식계비율</th>\n",
       "      <td>-0.34123</td>\n",
       "      <td>-0.202151</td>\n",
       "      <td>-0.086323</td>\n",
       "      <td>-0.403885</td>\n",
       "      <td>-0.331146</td>\n",
       "      <td>0.475166</td>\n",
       "      <td>-0.042985</td>\n",
       "      <td>0.482764</td>\n",
       "      <td>-0.07367</td>\n",
       "      <td>-0.69161</td>\n",
       "      <td>0.040108</td>\n",
       "      <td>0.085257</td>\n",
       "      <td>-0.024645</td>\n",
       "      <td>0.063571</td>\n",
       "      <td>-0.035056</td>\n",
       "      <td>0.081348</td>\n",
       "      <td>0.33003</td>\n",
       "      <td>0.261014</td>\n",
       "      <td>0.203396</td>\n",
       "      <td>0.371681</td>\n",
       "      <td>1.0</td>\n",
       "    </tr>\n",
       "  </tbody>\n",
       "</table>\n",
       "</div>"
      ],
      "text/plain": [
       "         본사정원수         월         일      휴가비율      출장비율      야근비율      재택비율  \\\n",
       "중식계비율 -0.34123 -0.202151 -0.086323 -0.403885 -0.331146  0.475166 -0.042985   \n",
       "\n",
       "         식사가능비율    일_초중말       요일      평균기온      일강수량      밥_중식      국_중식  \\\n",
       "중식계비율  0.482764 -0.07367 -0.69161  0.040108  0.085257 -0.024645  0.063571   \n",
       "\n",
       "         반찬1_중식     쌀밥_중식  반찬상위1_중식  반찬상위2_중식  반찬상위3_중식  상위반찬수_중식  중식계비율  \n",
       "중식계비율 -0.035056  0.081348   0.33003  0.261014  0.203396  0.371681    1.0  "
      ]
     },
     "execution_count": 66,
     "metadata": {},
     "output_type": "execute_result"
    }
   ],
   "source": [
    "pd.concat([train_lunch,lunch_target_ratio], axis=1).corr()[['중식계비율']].transpose()"
   ]
  },
  {
   "cell_type": "code",
   "execution_count": 67,
   "metadata": {
    "ExecuteTime": {
     "end_time": "2022-02-28T08:22:29.372687Z",
     "start_time": "2022-02-28T08:22:29.331531Z"
    },
    "colab": {
     "base_uri": "https://localhost:8080/",
     "height": 170
    },
    "id": "mYuRp4iwonl4",
    "outputId": "11acbe05-8a07-4fa0-ec0d-f8c5d990314a"
   },
   "outputs": [
    {
     "data": {
      "text/html": [
       "<div>\n",
       "<style scoped>\n",
       "    .dataframe tbody tr th:only-of-type {\n",
       "        vertical-align: middle;\n",
       "    }\n",
       "\n",
       "    .dataframe tbody tr th {\n",
       "        vertical-align: top;\n",
       "    }\n",
       "\n",
       "    .dataframe thead th {\n",
       "        text-align: right;\n",
       "    }\n",
       "</style>\n",
       "<table border=\"1\" class=\"dataframe\">\n",
       "  <thead>\n",
       "    <tr style=\"text-align: right;\">\n",
       "      <th></th>\n",
       "      <th>본사정원수</th>\n",
       "      <th>공휴일전</th>\n",
       "      <th>공휴일후</th>\n",
       "      <th>휴가비율</th>\n",
       "      <th>출장비율</th>\n",
       "      <th>야근비율</th>\n",
       "      <th>재택비율</th>\n",
       "      <th>식사가능비율</th>\n",
       "      <th>평균기온</th>\n",
       "      <th>일강수량</th>\n",
       "      <th>요일</th>\n",
       "      <th>요일_야근</th>\n",
       "      <th>월</th>\n",
       "      <th>일</th>\n",
       "      <th>일_초중말</th>\n",
       "      <th>밥_석식</th>\n",
       "      <th>국_석식</th>\n",
       "      <th>반찬1_석식</th>\n",
       "      <th>흑미밥_석식</th>\n",
       "      <th>반찬상위1_석식</th>\n",
       "      <th>반찬상위2_석식</th>\n",
       "      <th>반찬상위3_석식</th>\n",
       "      <th>상위반찬수_석식</th>\n",
       "      <th>석식계</th>\n",
       "    </tr>\n",
       "  </thead>\n",
       "  <tbody>\n",
       "    <tr>\n",
       "      <th>석식계</th>\n",
       "      <td>-0.173852</td>\n",
       "      <td>-0.201357</td>\n",
       "      <td>0.052893</td>\n",
       "      <td>-0.308355</td>\n",
       "      <td>-0.119128</td>\n",
       "      <td>0.572467</td>\n",
       "      <td>-0.056949</td>\n",
       "      <td>0.345174</td>\n",
       "      <td>-0.075726</td>\n",
       "      <td>0.005864</td>\n",
       "      <td>-0.312112</td>\n",
       "      <td>-0.452625</td>\n",
       "      <td>-0.127142</td>\n",
       "      <td>-0.185565</td>\n",
       "      <td>-0.165672</td>\n",
       "      <td>0.156591</td>\n",
       "      <td>0.189932</td>\n",
       "      <td>0.208818</td>\n",
       "      <td>-0.10214</td>\n",
       "      <td>0.354812</td>\n",
       "      <td>0.356647</td>\n",
       "      <td>0.299125</td>\n",
       "      <td>0.483543</td>\n",
       "      <td>1.0</td>\n",
       "    </tr>\n",
       "  </tbody>\n",
       "</table>\n",
       "</div>"
      ],
      "text/plain": [
       "        본사정원수      공휴일전      공휴일후      휴가비율      출장비율      야근비율      재택비율  \\\n",
       "석식계 -0.173852 -0.201357  0.052893 -0.308355 -0.119128  0.572467 -0.056949   \n",
       "\n",
       "       식사가능비율      평균기온      일강수량        요일     요일_야근         월         일  \\\n",
       "석식계  0.345174 -0.075726  0.005864 -0.312112 -0.452625 -0.127142 -0.185565   \n",
       "\n",
       "        일_초중말      밥_석식      국_석식    반찬1_석식   흑미밥_석식  반찬상위1_석식  반찬상위2_석식  \\\n",
       "석식계 -0.165672  0.156591  0.189932  0.208818 -0.10214  0.354812  0.356647   \n",
       "\n",
       "     반찬상위3_석식  상위반찬수_석식  석식계  \n",
       "석식계  0.299125  0.483543  1.0  "
      ]
     },
     "execution_count": 67,
     "metadata": {},
     "output_type": "execute_result"
    }
   ],
   "source": [
    "pd.concat([train_dinner,dinner_target], axis=1).corr()[['석식계']].transpose()"
   ]
  },
  {
   "cell_type": "code",
   "execution_count": 68,
   "metadata": {
    "ExecuteTime": {
     "end_time": "2022-02-28T08:22:29.892405Z",
     "start_time": "2022-02-28T08:22:29.864411Z"
    },
    "colab": {
     "base_uri": "https://localhost:8080/",
     "height": 239
    },
    "id": "sfo7zbauonhH",
    "outputId": "ba793f21-249c-421f-ee84-5815fee08266"
   },
   "outputs": [
    {
     "data": {
      "text/html": [
       "<div>\n",
       "<style scoped>\n",
       "    .dataframe tbody tr th:only-of-type {\n",
       "        vertical-align: middle;\n",
       "    }\n",
       "\n",
       "    .dataframe tbody tr th {\n",
       "        vertical-align: top;\n",
       "    }\n",
       "\n",
       "    .dataframe thead th {\n",
       "        text-align: right;\n",
       "    }\n",
       "</style>\n",
       "<table border=\"1\" class=\"dataframe\">\n",
       "  <thead>\n",
       "    <tr style=\"text-align: right;\">\n",
       "      <th></th>\n",
       "      <th>본사정원수</th>\n",
       "      <th>공휴일전</th>\n",
       "      <th>공휴일후</th>\n",
       "      <th>휴가비율</th>\n",
       "      <th>출장비율</th>\n",
       "      <th>야근비율</th>\n",
       "      <th>재택비율</th>\n",
       "      <th>식사가능비율</th>\n",
       "      <th>평균기온</th>\n",
       "      <th>일강수량</th>\n",
       "      <th>요일</th>\n",
       "      <th>요일_야근</th>\n",
       "      <th>월</th>\n",
       "      <th>일</th>\n",
       "      <th>일_초중말</th>\n",
       "      <th>밥_석식</th>\n",
       "      <th>국_석식</th>\n",
       "      <th>반찬1_석식</th>\n",
       "      <th>흑미밥_석식</th>\n",
       "      <th>반찬상위1_석식</th>\n",
       "      <th>반찬상위2_석식</th>\n",
       "      <th>반찬상위3_석식</th>\n",
       "      <th>상위반찬수_석식</th>\n",
       "      <th>석식계비율</th>\n",
       "    </tr>\n",
       "  </thead>\n",
       "  <tbody>\n",
       "    <tr>\n",
       "      <th>석식계비율</th>\n",
       "      <td>-0.346229</td>\n",
       "      <td>-0.196432</td>\n",
       "      <td>0.056187</td>\n",
       "      <td>-0.321686</td>\n",
       "      <td>-0.044011</td>\n",
       "      <td>0.516629</td>\n",
       "      <td>-0.139232</td>\n",
       "      <td>0.388263</td>\n",
       "      <td>-0.066609</td>\n",
       "      <td>-0.000037</td>\n",
       "      <td>-0.292228</td>\n",
       "      <td>-0.426547</td>\n",
       "      <td>-0.164187</td>\n",
       "      <td>-0.173273</td>\n",
       "      <td>-0.153883</td>\n",
       "      <td>0.107013</td>\n",
       "      <td>0.196475</td>\n",
       "      <td>0.206802</td>\n",
       "      <td>-0.161313</td>\n",
       "      <td>0.370674</td>\n",
       "      <td>0.363044</td>\n",
       "      <td>0.304949</td>\n",
       "      <td>0.49695</td>\n",
       "      <td>1.0</td>\n",
       "    </tr>\n",
       "  </tbody>\n",
       "</table>\n",
       "</div>"
      ],
      "text/plain": [
       "          본사정원수      공휴일전      공휴일후      휴가비율      출장비율      야근비율      재택비율  \\\n",
       "석식계비율 -0.346229 -0.196432  0.056187 -0.321686 -0.044011  0.516629 -0.139232   \n",
       "\n",
       "         식사가능비율      평균기온      일강수량        요일     요일_야근         월         일  \\\n",
       "석식계비율  0.388263 -0.066609 -0.000037 -0.292228 -0.426547 -0.164187 -0.173273   \n",
       "\n",
       "          일_초중말      밥_석식      국_석식    반찬1_석식    흑미밥_석식  반찬상위1_석식  반찬상위2_석식  \\\n",
       "석식계비율 -0.153883  0.107013  0.196475  0.206802 -0.161313  0.370674  0.363044   \n",
       "\n",
       "       반찬상위3_석식  상위반찬수_석식  석식계비율  \n",
       "석식계비율  0.304949   0.49695    1.0  "
      ]
     },
     "execution_count": 68,
     "metadata": {},
     "output_type": "execute_result"
    }
   ],
   "source": [
    "pd.concat([train_dinner,dinner_target_ratio], axis=1).corr()[['석식계비율']].transpose()"
   ]
  },
  {
   "cell_type": "markdown",
   "metadata": {
    "id": "uDmUvixuzLbB"
   },
   "source": [
    "# 모델링"
   ]
  },
  {
   "cell_type": "code",
   "execution_count": null,
   "metadata": {
    "id": "u9cVhAgBEftt"
   },
   "outputs": [],
   "source": [
    "import optuna\n",
    "from optuna import Trial\n",
    "from optuna.samplers import TPESampler\n",
    "\n",
    "from sklearn.model_selection import train_test_split\n",
    "from sklearn.model_selection import cross_val_score\n",
    "from sklearn.metrics import mean_absolute_error\n",
    "\n",
    "from catboost import CatBoostRegressor\n",
    "from ngboost import NGBRegressor\n",
    "from xgboost import XGBRegressor\n",
    "from lightgbm import LGBMRegressor\n",
    "from sklearn.ensemble import GradientBoostingRegressor, RandomForestRegressor\n",
    "\n",
    "import pycaret\n",
    "from pycaret.regression import *\n",
    "\n",
    "sampler = TPESampler(seed=10)"
   ]
  },
  {
   "cell_type": "markdown",
   "metadata": {
    "id": "dkIaKTErMikb"
   },
   "source": [
    "## 최적 모델 찾기(Pycaret)"
   ]
  },
  {
   "cell_type": "markdown",
   "metadata": {
    "id": "sTQhqIUgNciC"
   },
   "source": [
    "### 중식계 예측"
   ]
  },
  {
   "cell_type": "code",
   "execution_count": null,
   "metadata": {
    "id": "XR2v_KjKNOM3"
   },
   "outputs": [],
   "source": [
    "data = pd.concat([train_lunch, lunch_target], axis=1)"
   ]
  },
  {
   "cell_type": "code",
   "execution_count": null,
   "metadata": {
    "colab": {
     "base_uri": "https://localhost:8080/",
     "height": 1000,
     "referenced_widgets": [
      "94673599422c40a6a1ea4d452595770e",
      "60b3b8fbbfb4470dbad4186effdcd5ad",
      "419fda4b50784f63962216d0757a0f33"
     ]
    },
    "id": "irNiOGa2NOHl",
    "outputId": "57391dce-0855-4208-b4d4-ebd73dc647dd"
   },
   "outputs": [],
   "source": [
    "reg = setup(data= data,\n",
    "            target= '중식계',\n",
    "            normalize = True,\n",
    "            silent= True,\n",
    "            fold_shuffle=True,\n",
    "            imputation_type='iterative',           \n",
    "            )"
   ]
  },
  {
   "cell_type": "code",
   "execution_count": null,
   "metadata": {
    "colab": {
     "base_uri": "https://localhost:8080/",
     "height": 457,
     "referenced_widgets": [
      "ac8d7b458c8240d5aa0048f2e9218273",
      "6c2139753e08448bbfe9192078dbd95f",
      "c63af0b7f3254daca9ce82e1cff3e8e8"
     ]
    },
    "id": "MMjkXeNfNTFa",
    "outputId": "8ec026fd-b1ae-4723-a195-5817230f5225"
   },
   "outputs": [],
   "source": [
    "compare_models()"
   ]
  },
  {
   "cell_type": "markdown",
   "metadata": {
    "id": "qD25upinNgsS"
   },
   "source": [
    "### 중식계비율 예측"
   ]
  },
  {
   "cell_type": "code",
   "execution_count": null,
   "metadata": {
    "id": "4Xe3eAzyMx13"
   },
   "outputs": [],
   "source": [
    "data = pd.concat([train_lunch, lunch_target_ratio], axis=1)"
   ]
  },
  {
   "cell_type": "code",
   "execution_count": null,
   "metadata": {
    "colab": {
     "base_uri": "https://localhost:8080/",
     "height": 1000,
     "referenced_widgets": [
      "aefbaf2cc4b14518a2e7b2e3434829aa",
      "bc0ae70a3d4145eab7d373420b07a6b8",
      "3cc749a68d7744be894244337540b9d5"
     ]
    },
    "id": "nTzmdLr6MmgA",
    "outputId": "babd1c83-26f6-46ff-dca8-6023d01911ed"
   },
   "outputs": [],
   "source": [
    "reg = setup(data= data,\n",
    "            target= '중식계비율',\n",
    "            normalize = True,\n",
    "            silent= True,\n",
    "            fold_shuffle=True,\n",
    "            imputation_type='iterative',           \n",
    "            )"
   ]
  },
  {
   "cell_type": "code",
   "execution_count": null,
   "metadata": {
    "colab": {
     "base_uri": "https://localhost:8080/",
     "height": 457,
     "referenced_widgets": [
      "0b583ab483f540178f355e1e4db2e4cd",
      "0ac8ba48c4274159920819c170d0390e",
      "bb6c01058903444e971ee2bbadd957d8"
     ]
    },
    "id": "6vpHiZ4PMmcT",
    "outputId": "f94afc45-6ae6-466b-c408-5d9cb86bb0dc"
   },
   "outputs": [],
   "source": [
    "compare_models()"
   ]
  },
  {
   "cell_type": "markdown",
   "metadata": {
    "id": "HIzZ7ulFNmBq"
   },
   "source": [
    "### 석식계 예측"
   ]
  },
  {
   "cell_type": "code",
   "execution_count": null,
   "metadata": {
    "id": "sZMVV4OkMmXW"
   },
   "outputs": [],
   "source": [
    "data = pd.concat([train_dinner, dinner_target], axis=1)"
   ]
  },
  {
   "cell_type": "code",
   "execution_count": null,
   "metadata": {
    "colab": {
     "base_uri": "https://localhost:8080/",
     "height": 1000,
     "referenced_widgets": [
      "430ed36c7a094e2f995e4191624f404f",
      "0007aa85f4fa420aa162d59f8605ff7f",
      "a786550406e044a8a39f1a7132a2a4f6"
     ]
    },
    "id": "sz7ZlE2CNsLb",
    "outputId": "21a92263-eead-402f-8791-a9035bff5713"
   },
   "outputs": [],
   "source": [
    "reg = setup(data= data,\n",
    "            target= '석식계',\n",
    "            normalize = True,\n",
    "            silent= True,\n",
    "            fold_shuffle=True,\n",
    "            imputation_type='iterative',           \n",
    "            )"
   ]
  },
  {
   "cell_type": "code",
   "execution_count": null,
   "metadata": {
    "colab": {
     "base_uri": "https://localhost:8080/",
     "height": 582,
     "referenced_widgets": [
      "10945186de11426a829fb07d19c3eafe",
      "76244b1be42d49c5a252ccf23c6fdd7d",
      "26edd118a04f4448b7ca8183d13a156e"
     ]
    },
    "id": "0nmRaKtlMmUO",
    "outputId": "93e8f759-55c8-4a51-ecf9-072700560825"
   },
   "outputs": [],
   "source": [
    "compare_models()"
   ]
  },
  {
   "cell_type": "markdown",
   "metadata": {
    "id": "W2e6ZJk4N2WL"
   },
   "source": [
    "### 석식계비율 예측"
   ]
  },
  {
   "cell_type": "code",
   "execution_count": null,
   "metadata": {
    "id": "7QV_So2eMmPq"
   },
   "outputs": [],
   "source": [
    "data = pd.concat([train_dinner, dinner_target_ratio], axis=1)"
   ]
  },
  {
   "cell_type": "code",
   "execution_count": null,
   "metadata": {
    "colab": {
     "base_uri": "https://localhost:8080/",
     "height": 1000,
     "referenced_widgets": [
      "082620171275431fb70ed369bacc5abf",
      "c6af81dc1e624f3c88370f4d9f59feb3",
      "eae5c769088a4f09888fdfc88b1e4564"
     ]
    },
    "id": "l-HMe6NmNtA6",
    "outputId": "f2c78cfd-9da7-402d-9353-02c96adbbee2"
   },
   "outputs": [],
   "source": [
    "reg = setup(data= data,\n",
    "            target= '석식계비율',\n",
    "            normalize = True,\n",
    "            silent= True,\n",
    "            fold_shuffle=True,\n",
    "            imputation_type='iterative',           \n",
    "            )"
   ]
  },
  {
   "cell_type": "code",
   "execution_count": null,
   "metadata": {
    "colab": {
     "base_uri": "https://localhost:8080/",
     "height": 457,
     "referenced_widgets": [
      "2acef5ea92c5490283c4a0d15b97f853",
      "b66d5b36c4d84aef99a5d480b1b73e6d",
      "24bf5e205bdd484cb9ddf9a6f1c1d0d8"
     ]
    },
    "id": "o-1v0OpmNsqW",
    "outputId": "4f2aea1b-254e-4bb0-bc06-f9eeea770459"
   },
   "outputs": [],
   "source": [
    "compare_models()"
   ]
  },
  {
   "cell_type": "markdown",
   "metadata": {
    "id": "V4fJt4koGh3o"
   },
   "source": [
    "## 개별 모델 최적화(Optuna)"
   ]
  },
  {
   "cell_type": "markdown",
   "metadata": {
    "id": "R8-oOcZAAvRt"
   },
   "source": [
    "### CatBoost"
   ]
  },
  {
   "cell_type": "code",
   "execution_count": null,
   "metadata": {
    "id": "rMj3pGucFvG6"
   },
   "outputs": [],
   "source": [
    "def objective(trial: Trial,X,y,test):\n",
    "\n",
    "    cbrm_param = {\n",
    "        'iterations':trial.suggest_int(\"iterations\", 4000, 25000),\n",
    "        'od_wait':trial.suggest_int('od_wait', 500, 2300),\n",
    "        'learning_rate' : trial.suggest_uniform('learning_rate',0.001, 1),\n",
    "        'reg_lambda': trial.suggest_uniform('reg_lambda',1e-5,100),\n",
    "        # 'subsample': trial.suggest_uniform('subsample',0,1),\n",
    "        'random_strength': trial.suggest_uniform('random_strength',10,50),\n",
    "        'depth': trial.suggest_int('depth',1, 10),\n",
    "        'min_data_in_leaf': trial.suggest_int('min_data_in_leaf',1,10),\n",
    "        'leaf_estimation_iterations': trial.suggest_int('leaf_estimation_iterations',1,15),\n",
    "        'bagging_temperature' :trial.suggest_loguniform('bagging_temperature', 0.01, 100.00),\n",
    "        'colsample_bylevel':trial.suggest_float('colsample_bylevel', 0.4, 1.0),\n",
    "    }\n",
    "\n",
    "    # Generate model\n",
    "    model_cbrm = CatBoostRegressor(eval_metric='MAE',**cbrm_param)\n",
    "    model_cbrm = model_cbrm.fit(X_train, y_train, eval_set=[(X_val, y_val)], \n",
    "                           verbose=0, early_stopping_rounds=25)\n",
    "                           \n",
    "\t# 평가지표 원하는 평가 지표가 있을 시 바꾸어 준다.\n",
    "    MAE = mean_absolute_error(y_val, model_cbrm.predict(X_val))\n",
    "    return MAE"
   ]
  },
  {
   "cell_type": "markdown",
   "metadata": {
    "id": "FAZP8J64BCyE"
   },
   "source": [
    "1. train_lunch (모든피처) -> lunch_target(중식계)"
   ]
  },
  {
   "cell_type": "code",
   "execution_count": null,
   "metadata": {
    "id": "IFdsBGBBFkfR"
   },
   "outputs": [],
   "source": [
    "# X_train, X_val, y_train, y_val = train_test_split(train_lunch, lunch_target, test_size=0.2, random_state=42)"
   ]
  },
  {
   "cell_type": "code",
   "execution_count": null,
   "metadata": {
    "id": "ApLf8-u7AyEz"
   },
   "outputs": [],
   "source": [
    "# study = optuna.create_study(direction='minimize', sampler=sampler)\n",
    "# study.optimize(lambda trial : objective(trial, X_train, y_train, X_test), n_trials=50)"
   ]
  },
  {
   "cell_type": "code",
   "execution_count": null,
   "metadata": {
    "id": "h8jVgeOeAy4j"
   },
   "outputs": [],
   "source": [
    "# cbrm_trial = study.best_trial\n",
    "# cbrm_trial_params = cbrm_trial.params\n",
    "# print('Best Trial: score {},\\nparams {}'.format(cbrm_trial.value, cbrm_trial_params))"
   ]
  },
  {
   "cell_type": "markdown",
   "metadata": {
    "id": "2f4HcFbxBKyb"
   },
   "source": [
    "2. train_lunch (모든피처) -> lunch_target_ratio(중식계비율)"
   ]
  },
  {
   "cell_type": "code",
   "execution_count": null,
   "metadata": {
    "colab": {
     "base_uri": "https://localhost:8080/"
    },
    "id": "oQvjQ4weAy18",
    "outputId": "c45320ba-2c50-48ae-8105-068b1c5da133"
   },
   "outputs": [],
   "source": [
    "X_train, X_val, y_train, y_val = train_test_split(train_lunch, lunch_target_ratio, test_size=0.2, random_state=42)\n",
    "\n",
    "study = optuna.create_study(direction='minimize', sampler=sampler)\n",
    "study.optimize(lambda trial : objective(trial, X_train, y_train, X_val), n_trials=50)\n",
    "\n",
    "cbrm_trial = study.best_trial\n",
    "cbrm_trial_params = cbrm_trial.params\n",
    "print('Best Trial: score {},\\nparams {}'.format(cbrm_trial.value, cbrm_trial_params))"
   ]
  },
  {
   "cell_type": "markdown",
   "metadata": {
    "id": "sJ7knolLN4ED"
   },
   "source": [
    "3. train_dinner(모든피처) -> dinner_target"
   ]
  },
  {
   "cell_type": "code",
   "execution_count": null,
   "metadata": {
    "id": "AwSh5nRKOF8K"
   },
   "outputs": [],
   "source": [
    "# X_train, X_val, y_train, y_val = train_test_split(train_dinner, dinner_target, test_size=0.2, random_state=42)\n",
    "\n",
    "# study = optuna.create_study(direction='minimize', sampler=sampler)\n",
    "# study.optimize(lambda trial : objective(trial, X_train, y_train, X_test), n_trials=50)\n",
    "\n",
    "# cbrm_trial = study.best_trial\n",
    "# cbrm_trial_params = cbrm_trial.params\n",
    "# print('Best Trial: score {},\\nparams {}'.format(cbrm_trial.value, cbrm_trial_params))"
   ]
  },
  {
   "cell_type": "markdown",
   "metadata": {
    "id": "wZM9Ij62N4BJ"
   },
   "source": [
    "4. train_dinner(모든피처) -> dinner_target_ratio"
   ]
  },
  {
   "cell_type": "code",
   "execution_count": null,
   "metadata": {
    "colab": {
     "base_uri": "https://localhost:8080/"
    },
    "id": "_rZovSjLOGXx",
    "outputId": "193845ff-72d5-427d-ee7d-64b9573a8f72"
   },
   "outputs": [],
   "source": [
    "X_train, X_val, y_train, y_val = train_test_split(train_dinner, dinner_target_ratio, test_size=0.2, random_state=42)\n",
    "\n",
    "study = optuna.create_study(direction='minimize', sampler=sampler)\n",
    "study.optimize(lambda trial : objective(trial, X_train, y_train, X_val), n_trials=50)\n",
    "\n",
    "cbrm_trial = study.best_trial\n",
    "cbrm_trial_params = cbrm_trial.params\n",
    "print('Best Trial: score {},\\nparams {}'.format(cbrm_trial.value, cbrm_trial_params))"
   ]
  },
  {
   "cell_type": "markdown",
   "metadata": {
    "id": "nqZkrN76A6xZ"
   },
   "source": [
    "### GBM"
   ]
  },
  {
   "cell_type": "code",
   "execution_count": null,
   "metadata": {
    "id": "EiVZj1OfnJu1"
   },
   "outputs": [],
   "source": [
    "def obj_gbm(trial, X, y):\n",
    "  params = {\n",
    "      'max_depth': trial.suggest_int('max_depth',2,10),\n",
    "      'n_estimators': trial.suggest_int('n_estimators',100,1000),\n",
    "      'learning_rate': trial.suggest_categorical('learning_rate', [0.01,0.02,0.05,0.1,0.15,0.2]),\n",
    "      'subsample': trial.suggest_float(\"subsample\", 0.6, 1, step=0.1),\n",
    "      'min_samples_split': trial.suggest_int('min_samples_split', 2,4),\n",
    "      'min_samples_leaf': trial.suggest_int('min_samples_leaf', 1,5)\n",
    "      # 'criterion':trial.suggest_categorical('criterion',['friedman_mse','mse','absolute_error'])\n",
    "  }\n",
    "\n",
    "  model = GradientBoostingRegressor(**params, random_state=42)\n",
    "  score = np.mean(cross_val_score(model, X, y, cv=10, scoring=\"neg_mean_absolute_error\", n_jobs=-1))\n",
    "\n",
    "  return -score"
   ]
  },
  {
   "cell_type": "markdown",
   "metadata": {
    "id": "Dpk8nF0IjEZQ"
   },
   "source": [
    "1. train_lunch (모든피처) -> lunch_target_ratio(중식계비율)"
   ]
  },
  {
   "cell_type": "code",
   "execution_count": null,
   "metadata": {
    "colab": {
     "base_uri": "https://localhost:8080/"
    },
    "id": "s621ZzgaA8b3",
    "outputId": "7c6dad3f-4445-4315-8036-c9581b0d648b"
   },
   "outputs": [],
   "source": [
    "study_gbm = optuna.create_study(direction='minimize')\n",
    "study_gbm.optimize(lambda trial: obj_gbm(trial, train_lunch, lunch_target_ratio), n_trials=50)\n",
    "\n",
    "gbm_trial = study_gbm.best_trial\n",
    "gbm_trial_params = gbm_trial.params\n",
    "print('Best Trial: score {},\\nparams {}'.format(gbm_trial.value, gbm_trial_params))"
   ]
  },
  {
   "cell_type": "markdown",
   "metadata": {
    "id": "JObToS7GjJX_"
   },
   "source": [
    "2. train_dinner (모든피처) -> dinner_target_ratio(석식계비율)"
   ]
  },
  {
   "cell_type": "code",
   "execution_count": null,
   "metadata": {
    "colab": {
     "base_uri": "https://localhost:8080/"
    },
    "id": "yV3kYHzqA8XA",
    "outputId": "08db8a68-5630-4060-e353-21e0801baea6"
   },
   "outputs": [],
   "source": [
    "study_gbm = optuna.create_study(direction='minimize')\n",
    "study_gbm.optimize(lambda trial: obj_gbm(trial, train_dinner, dinner_target_ratio), n_trials=50)\n",
    "\n",
    "gbm_trial = study_gbm.best_trial\n",
    "gbm_trial_params = gbm_trial.params\n",
    "print('Best Trial: score {},\\nparams {}'.format(gbm_trial.value, gbm_trial_params))"
   ]
  },
  {
   "cell_type": "markdown",
   "metadata": {
    "id": "_2dGo1IFA8zV"
   },
   "source": [
    "### LGBM"
   ]
  },
  {
   "cell_type": "code",
   "execution_count": null,
   "metadata": {
    "id": "m3W3LYaAmsKJ"
   },
   "outputs": [],
   "source": [
    "def obj_lgbm(trial, X, y):\n",
    "  params = {\n",
    "        'n_estimators': trial.suggest_int(\"n_estimators\", 100, 5000),\n",
    "        'learning_rate': trial.suggest_float(\"learning_rate\", 0.001, 0.1),\n",
    "        'max_depth': trial.suggest_int(\"max_depth\", 2, 10),\n",
    "        'num_leaves': trial.suggest_int(\"num_leaves\", 3, 50),\n",
    "        'subsample': trial.suggest_float(\"subsample\", 0.6, 1, step=0.1),\n",
    "        'colsample': trial.suggest_float(\"colsample\", 0.6, 1, step=0.1),\n",
    "  }\n",
    "\n",
    "  model = LGBMRegressor(**params, random_state=42)\n",
    "  score = np.mean(cross_val_score(model, X, y, cv=10, scoring=\"neg_mean_absolute_error\", n_jobs=-1))\n",
    "\n",
    "  return -score"
   ]
  },
  {
   "cell_type": "markdown",
   "metadata": {
    "id": "SIiuDkWijO9i"
   },
   "source": [
    "1. train_lunch (모든피처) -> lunch_target_ratio(중식계비율)"
   ]
  },
  {
   "cell_type": "code",
   "execution_count": null,
   "metadata": {
    "id": "8wpOheFNA-jR"
   },
   "outputs": [],
   "source": [
    "study = optuna.create_study(direction='minimize', sampler=sampler)\n",
    "study.optimize(lambda trial : obj_lgbm(trial, train_lunch, lunch_target_ratio), n_trials=100)\n",
    "\n",
    "lgbm_trial = study.best_trial\n",
    "lgbm_trial_params = lgbm_trial.params\n",
    "print('Best Trial: score {},\\nparams {}'.format(lgbm_trial.value, lgbm_trial_params))"
   ]
  },
  {
   "cell_type": "markdown",
   "metadata": {
    "id": "Z1x9mm_ljP4B"
   },
   "source": [
    "2. train_dinner (모든피처) -> dinner_target_ratio(석식계비율)"
   ]
  },
  {
   "cell_type": "code",
   "execution_count": null,
   "metadata": {
    "id": "DlPLZ_qWA-d_"
   },
   "outputs": [],
   "source": [
    "study = optuna.create_study(direction='minimize', sampler=sampler)\n",
    "study.optimize(lambda trial : obj_lgbm(trial, train_dinner, dinner_target_ratio), n_trials=100)\n",
    "\n",
    "lgbm_trial = study.best_trial\n",
    "lgbm_trial_params = lgbm_trial.params\n",
    "print('Best Trial: score {},\\nparams {}'.format(lgbm_trial.value, lgbm_trial_params))"
   ]
  },
  {
   "cell_type": "markdown",
   "metadata": {
    "id": "ZTLPgVkJA_BB"
   },
   "source": [
    "### XGBoost"
   ]
  },
  {
   "cell_type": "code",
   "execution_count": null,
   "metadata": {
    "id": "5KlGO6ynelaf"
   },
   "outputs": [],
   "source": [
    "def obj_xgb(trial, X, y):\n",
    "  params = {\n",
    "      'eta': trial.suggest_uniform('eta',0.03,0.3),\n",
    "      'max_depth': trial.suggest_int('max_depth',2,7),\n",
    "      'n_estimator': trial.suggest_int('n_estimator',300,1000),\n",
    "      # 'learning_rate': trial.suggest_categorical('learning_rate', [0.008,0.009,0.01,0.012,0.014,0.016,0.018, 0.02]),\n",
    "      'lambda': trial.suggest_loguniform('lambda', 1e-3, 10.0),\n",
    "      'alpha': trial.suggest_loguniform('alpha', 1e-3, 10.0),\n",
    "  }\n",
    "\n",
    "  model = XGBRegressor(**params, random_state=42)\n",
    "  score = np.mean(cross_val_score(model, X, y, cv=10, scoring=\"neg_mean_absolute_error\", n_jobs=-1))\n",
    "\n",
    "  return -score"
   ]
  },
  {
   "cell_type": "markdown",
   "metadata": {
    "id": "jGt5X8AjjXLO"
   },
   "source": [
    "1. train_lunch (모든피처) -> lunch_target_ratio(중식계비율)"
   ]
  },
  {
   "cell_type": "code",
   "execution_count": null,
   "metadata": {
    "colab": {
     "base_uri": "https://localhost:8080/"
    },
    "id": "OesqveLJBBfh",
    "outputId": "1d25cb2a-1ba4-45c9-869c-daefa9d112de"
   },
   "outputs": [],
   "source": [
    "study_xgb = optuna.create_study(direction='minimize')\n",
    "study_xgb.optimize(lambda trial: obj_xgb(trial, train_lunch, lunch_target_ratio), n_trials=50)\n",
    "\n",
    "xgb_trial = study_xgb.best_trial\n",
    "xgb_trial_params = xgb_trial.params\n",
    "print('Best Trial: score {},\\nparams {}'.format(xgb_trial.value, xgb_trial_params))"
   ]
  },
  {
   "cell_type": "markdown",
   "metadata": {
    "id": "qL_VRLEIjc4A"
   },
   "source": [
    "2. train_dinner (모든피처) -> dinner_target_ratio(석식계비율)"
   ]
  },
  {
   "cell_type": "code",
   "execution_count": null,
   "metadata": {
    "colab": {
     "base_uri": "https://localhost:8080/"
    },
    "id": "QfmpZvFuBBaI",
    "outputId": "5645213b-5da8-4ff5-aa3d-5a8f07e32670"
   },
   "outputs": [],
   "source": [
    "study_xgb = optuna.create_study(direction='minimize')\n",
    "study_xgb.optimize(lambda trial: obj_xgb(trial, train_dinner, dinner_target_ratio), n_trials=50)\n",
    "\n",
    "xgb_trial = study_xgb.best_trial\n",
    "xgb_trial_params = xgb_trial.params\n",
    "print('Best Trial: score {},\\nparams {}'.format(xgb_trial.value, xgb_trial_params))"
   ]
  },
  {
   "cell_type": "markdown",
   "metadata": {
    "id": "W6ooeJwHGYIK"
   },
   "source": [
    "### NGBoost"
   ]
  },
  {
   "cell_type": "code",
   "execution_count": null,
   "metadata": {
    "id": "Ci_glFawIpvP"
   },
   "outputs": [],
   "source": [
    "def obj_ngb(trial, X, y, test):\n",
    "  params = {\n",
    "      'n_estimators': trial.suggest_int('n_estimators',100,1500),\n",
    "      'learning_rate': trial.suggest_categorical('learning_rate', [0.01,0.02,0.05,0.1,0.15,0.2]),\n",
    "      'minibatch_frac': trial.suggest_categorical('minibatch_frac',[0.5,0.6,0.7,0.8,0.9]),\n",
    "      'col_sample': trial.suggest_categorical('col_sample',[0.5,0.6,0.7,0.8,0.9])\n",
    "  }\n",
    "\n",
    "  model = NGBRegressor(**params, random_state=42)\n",
    "  model.fit(X_train, y_train, X_val = X_val, Y_val = y_val, \n",
    "                            early_stopping_rounds=20)\n",
    "  MAE = mean_absolute_error(y_val, model.predict(X_val))\n",
    "\n",
    "  return MAE"
   ]
  },
  {
   "cell_type": "code",
   "execution_count": null,
   "metadata": {
    "colab": {
     "base_uri": "https://localhost:8080/"
    },
    "id": "P85WE1E4IrQB",
    "outputId": "6f7d2c2e-890b-4aa5-fbae-ed690caa4d52"
   },
   "outputs": [],
   "source": [
    "X_train, X_val, y_train, y_val = train_test_split(train_lunch, lunch_target_ratio, test_size=0.2, random_state=42)\n",
    "\n",
    "study = optuna.create_study(direction='minimize', sampler=sampler)\n",
    "study.optimize(lambda trial : obj_ngb(trial, X_train, y_train, X_val), n_trials=100)\n",
    "\n",
    "ngb_trial = study.best_trial\n",
    "ngb_trial_params = ngb_trial.params\n",
    "print('Best Trial: score {},\\nparams {}'.format(ngb_trial.value, ngb_trial_params))"
   ]
  },
  {
   "cell_type": "code",
   "execution_count": null,
   "metadata": {
    "colab": {
     "base_uri": "https://localhost:8080/"
    },
    "id": "K1tmpqtUIrFy",
    "outputId": "33b2f6be-c40f-4251-8150-31687d0b9595"
   },
   "outputs": [],
   "source": [
    "X_train, X_val, y_train, y_val = train_test_split(train_dinner, dinner_target_ratio, test_size=0.2, random_state=42)\n",
    "\n",
    "study = optuna.create_study(direction='minimize', sampler=sampler)\n",
    "study.optimize(lambda trial : obj_ngb(trial, X_train, y_train, X_val), n_trials=100)\n",
    "\n",
    "ngb_trial = study.best_trial\n",
    "ngb_trial_params = ngb_trial.params\n",
    "print('Best Trial: score {},\\nparams {}'.format(ngb_trial.value, ngb_trial_params))"
   ]
  },
  {
   "cell_type": "markdown",
   "metadata": {
    "id": "AzZscAyGG3P5"
   },
   "source": [
    "## 최적화 모델 학습 및 예측"
   ]
  },
  {
   "cell_type": "markdown",
   "metadata": {
    "id": "DNOssfZsFg5f"
   },
   "source": [
    "### CatBoostRegressor"
   ]
  },
  {
   "cell_type": "code",
   "execution_count": null,
   "metadata": {
    "id": "TWQTuWQ1JURY"
   },
   "outputs": [],
   "source": [
    "cb1 = CatBoostRegressor(iterations = 5011, \n",
    "               od_wait = 1497, \n",
    "               learning_rate = 0.25429508391524436, \n",
    "               reg_lambda = 78.92546528478539, \n",
    "               subsample = 0.800383062259294, \n",
    "               random_strength = 49.232617819734195, \n",
    "               depth = 1, \n",
    "               min_data_in_leaf = 7, \n",
    "               leaf_estimation_iterations = 3, \n",
    "               bagging_temperature = 0.012766594718060586, \n",
    "               colsample_bylevel = 0.4802368351386238,\n",
    "               eval_metric = 'MAE')\n",
    "cb2 = CatBoostRegressor(iterations = 14173, \n",
    "               od_wait = 942, \n",
    "               learning_rate = 0.08395122927625016, \n",
    "               reg_lambda = 25.95582254725829, \n",
    "               subsample = 0.44462216414096833, \n",
    "               random_strength = 26.079209360152074, \n",
    "               depth = 3, \n",
    "               min_data_in_leaf = 5, \n",
    "               leaf_estimation_iterations = 1, \n",
    "               bagging_temperature = 7.767903199306927, \n",
    "               colsample_bylevel = 0.9328598067842374,\n",
    "               eval_metric = 'MAE')\n",
    "cb1.fit(train_lunch, lunch_target_ratio, verbose=0)\n",
    "cb2.fit(train_dinner, dinner_target_ratio, verbose=0)\n",
    "\n",
    "pred_l_cat = cb1.predict(test_lunch)\n",
    "pred_d_cat = cb2.predict(test_dinner)\n"
   ]
  },
  {
   "cell_type": "markdown",
   "metadata": {
    "id": "7ICOHEdMKsCX"
   },
   "source": [
    "![image.png](data:image/png;base64,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)"
   ]
  },
  {
   "cell_type": "markdown",
   "metadata": {
    "id": "BFxwd2awK09-"
   },
   "source": [
    "![image.png](data:image/png;base64,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)"
   ]
  },
  {
   "cell_type": "markdown",
   "metadata": {
    "id": "8nAf1i2PjMYK"
   },
   "source": [
    "### XGBRegressor"
   ]
  },
  {
   "cell_type": "code",
   "execution_count": null,
   "metadata": {
    "colab": {
     "base_uri": "https://localhost:8080/"
    },
    "id": "riaffcDIJdAv",
    "outputId": "bc446421-dec2-44ba-d1ae-7e6caa50d329"
   },
   "outputs": [],
   "source": [
    "xgb1 = XGBRegressor(eta = 0.10407759844919826, \n",
    "                    max_depth = 4, \n",
    "                    n_estimator = 826, \n",
    "                    reg_lambda = 0.004012514673133838, \n",
    "                    alpha = 1.0985422191815084)\n",
    "xgb2 = XGBRegressor(eta = 0.2563261004629465, \n",
    "                    max_depth = 3, \n",
    "                    n_estimator = 392, \n",
    "                    reg_lambda = 6.31710462619399, \n",
    "                    alpha = 0.0684781529856677)\n",
    "xgb1.fit(train_lunch, lunch_target_ratio)\n",
    "xgb2.fit(train_dinner, dinner_target_ratio)\n",
    "\n",
    "pred_l_xgb = xgb1.predict(test_lunch)\n",
    "pred_d_xgb = xgb2.predict(test_dinner)"
   ]
  },
  {
   "cell_type": "markdown",
   "metadata": {
    "id": "JRXnSPp0K7Hc"
   },
   "source": [
    "![image.png](data:image/png;base64,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)"
   ]
  },
  {
   "cell_type": "markdown",
   "metadata": {
    "id": "MZxilqedldPu"
   },
   "source": [
    "### GradientBoostingRegressor"
   ]
  },
  {
   "cell_type": "code",
   "execution_count": null,
   "metadata": {
    "id": "vMOqdf7vsMwC"
   },
   "outputs": [],
   "source": [
    "gbm1 = GradientBoostingRegressor(max_depth = 2, \n",
    "                                 n_estimators = 901, \n",
    "                                 learning_rate = 0.05, \n",
    "                                 subsample = 0.8, \n",
    "                                 min_samples_split = 4, \n",
    "                                 min_samples_leaf = 4)\n",
    "gbm2 = GradientBoostingRegressor(max_depth = 3, \n",
    "                                 n_estimators = 576, \n",
    "                                 learning_rate = 0.02, \n",
    "                                 subsample = 0.6, \n",
    "                                 min_samples_split = 2, \n",
    "                                 min_samples_leaf = 1)\n",
    "gbm1.fit(train_lunch, lunch_target_ratio)\n",
    "gbm2.fit(train_dinner, dinner_target_ratio)\n",
    "\n",
    "pred_l_gbm = gbm1.predict(test_lunch)\n",
    "pred_d_gbm = gbm2.predict(test_dinner)"
   ]
  },
  {
   "cell_type": "markdown",
   "metadata": {
    "id": "X4j8wZ1DK-ZH"
   },
   "source": [
    "![image.png](data:image/png;base64,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)"
   ]
  },
  {
   "cell_type": "markdown",
   "metadata": {
    "id": "ssJlnLHxiyY1"
   },
   "source": [
    "### NGBRegressor"
   ]
  },
  {
   "cell_type": "code",
   "execution_count": null,
   "metadata": {
    "colab": {
     "base_uri": "https://localhost:8080/"
    },
    "id": "gbQOcODgJ95U",
    "outputId": "9d2491e1-b8e3-429c-ee85-5ea9422f6a08"
   },
   "outputs": [],
   "source": [
    "ngb1 = NGBRegressor(n_estimators = 703, \n",
    "                    learning_rate = 0.2, \n",
    "                    minibatch_frac = 0.6, \n",
    "                    col_sample = 0.8)\n",
    "ngb2 = NGBRegressor(n_estimators = 1474, \n",
    "                    learning_rate = 0.15, \n",
    "                    minibatch_frac = 0.8, \n",
    "                    col_sample = 0.6)\n",
    "ngb1.fit(train_lunch, lunch_target_ratio)\n",
    "ngb2.fit(train_dinner, dinner_target_ratio)\n",
    "\n",
    "pred_l_ngb = ngb1.predict(test_lunch)\n",
    "pred_d_ngb = ngb2.predict(test_dinner)"
   ]
  },
  {
   "cell_type": "markdown",
   "metadata": {
    "id": "morae7nwLBbE"
   },
   "source": [
    "![image.png](data:image/png;base64,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)"
   ]
  },
  {
   "cell_type": "markdown",
   "metadata": {
    "id": "jNl_ewss0IE7"
   },
   "source": [
    "### LGBMRegressor"
   ]
  },
  {
   "cell_type": "code",
   "execution_count": null,
   "metadata": {
    "colab": {
     "base_uri": "https://localhost:8080/"
    },
    "id": "pGpi4w30JkPb",
    "outputId": "245c89d4-42ca-4def-8483-9549c98b5df0"
   },
   "outputs": [],
   "source": [
    "lgbm1 = LGBMRegressor(n_estimators = 957, \n",
    "                      learning_rate = 0.05875244820384787, \n",
    "                      max_depth = 2, \n",
    "                      num_leaves = 14, \n",
    "                      subsample = 0.6, \n",
    "                      colsample = 1.0)\n",
    "lgbm2 = LGBMRegressor(n_estimators = 2013, \n",
    "                      learning_rate = 0.0199698710226176, \n",
    "                      max_depth = 2, \n",
    "                      num_leaves = 9, \n",
    "                      subsample = 1.0, \n",
    "                      colsample = 0.6)\n",
    "lgbm1.fit(train_lunch, lunch_target_ratio, verbose=0)\n",
    "lgbm2.fit(train_dinner, dinner_target_ratio, verbose=0)\n",
    "\n",
    "pred_l_lgbm = lgbm1.predict(test_lunch)\n",
    "pred_d_lgbm = lgbm2.predict(test_dinner)\n",
    "\n",
    "# sub['중식계'] = (0.5*pred_l_cat + 0.3*pred_l_xgb + 0.2*pred_l_lgbm) * test_lunch.reset_index(drop=True)['본사정원수']\n",
    "# sub['석식계'] = (0.5*pred_d_cat + 0.3*pred_d_xgb + 0.2*pred_d_lgbm) * test_dinner.reset_index(drop=True)['본사정원수']\n",
    "# sub.to_csv(\"./ensemble_ratio(C5X3L2).csv\", index=False)"
   ]
  },
  {
   "cell_type": "markdown",
   "metadata": {
    "id": "_K6SdBEBLE3-"
   },
   "source": [
    "![image.png](data:image/png;base64,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)"
   ]
  },
  {
   "cell_type": "markdown",
   "metadata": {
    "id": "u6gmZm6ZCujn"
   },
   "source": [
    "## 앙상블"
   ]
  },
  {
   "cell_type": "code",
   "execution_count": null,
   "metadata": {
    "id": "BUA_cVDpjQH-"
   },
   "outputs": [],
   "source": [
    "sub['중식계'] = (0.4*pred_l_cat + 0.3*pred_l_xgb + 0.3*pred_l_lgbm) * test_lunch.reset_index(drop=True)['본사정원수']\n",
    "sub['석식계'] = (0.4*pred_d_cat + 0.3*pred_d_xgb + 0.3*pred_d_lgbm) * test_dinner.reset_index(drop=True)['본사정원수']\n",
    "# sub.to_csv(\"./ensemble_ratio(C4X3L3).csv\", index=False)\n",
    "\n",
    "sub['중식계'] = (0.5*pred_l_cat + 0.3*pred_l_xgb + 0.2*pred_l_lgbm) * test_lunch.reset_index(drop=True)['본사정원수']\n",
    "sub['석식계'] = (0.5*pred_d_cat + 0.3*pred_d_xgb + 0.2*pred_d_lgbm) * test_dinner.reset_index(drop=True)['본사정원수']\n",
    "# sub.to_csv(\"./ensemble_ratio(C5X3L2).csv\", index=False)\n",
    "\n",
    "sub['중식계'] = (0.5*pred_l_cat + 0.3*pred_l_xgb + 0.2*pred_l_ngb) * test_lunch.reset_index(drop=True)['본사정원수']\n",
    "sub['석식계'] = (0.5*pred_d_cat + 0.3*pred_d_xgb + 0.2*pred_d_ngb) * test_dinner.reset_index(drop=True)['본사정원수']\n",
    "# sub.to_csv(\"./ensemble_ratio(C5X3N2).csv\", index=False)\n",
    "\n",
    "sub['중식계'] = (0.6*pred_l_cat + 0.4*pred_l_xgb) * test_lunch.reset_index(drop=True)['본사정원수']\n",
    "sub['석식계'] = (0.6*pred_d_cat + 0.4*pred_d_xgb ) * test_dinner.reset_index(drop=True)['본사정원수']\n",
    "# sub.to_csv(\"./ensemble_ratio(C6X4).csv\", index=False)\n",
    "\n",
    "sub['중식계'] = (0.7*pred_l_cat + 0.3*pred_l_xgb) * test_lunch.reset_index(drop=True)['본사정원수']\n",
    "sub['석식계'] = (0.7*pred_d_cat + 0.3*pred_d_xgb ) * test_dinner.reset_index(drop=True)['본사정원수']\n",
    "# sub.to_csv(\"./ensemble_ratio(C7X3).csv\", index=False)\n",
    "\n",
    "sub['중식계'] = (0.8*pred_l_cat + 0.2*pred_l_xgb) * test_lunch.reset_index(drop=True)['본사정원수']\n",
    "sub['석식계'] = (0.8*pred_d_cat + 0.2*pred_d_xgb ) * test_dinner.reset_index(drop=True)['본사정원수']\n",
    "# sub.to_csv(\"./ensemble_ratio(C8X2).csv\", index=False)"
   ]
  },
  {
   "cell_type": "markdown",
   "metadata": {
    "id": "tZyB5U9zLMqN"
   },
   "source": [
    "![image.png](data:image/png;base64,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)"
   ]
  },
  {
   "cell_type": "markdown",
   "metadata": {
    "id": "YAaTGbbsLMmp"
   },
   "source": [
    "![image.png](data:image/png;base64,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)"
   ]
  },
  {
   "cell_type": "markdown",
   "metadata": {
    "id": "7ly6JpJzLMi-"
   },
   "source": [
    "![image.png](data:image/png;base64,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)"
   ]
  }
 ],
 "metadata": {
  "accelerator": "GPU",
  "colab": {
   "collapsed_sections": [],
   "name": "구내식당_Modeling_1",
   "provenance": [],
   "toc_visible": true
  },
  "hide_input": false,
  "kernelspec": {
   "display_name": "Python 3",
   "language": "python",
   "name": "python3"
  },
  "language_info": {
   "codemirror_mode": {
    "name": "ipython",
    "version": 3
   },
   "file_extension": ".py",
   "mimetype": "text/x-python",
   "name": "python",
   "nbconvert_exporter": "python",
   "pygments_lexer": "ipython3",
   "version": "3.8.3"
  },
  "toc": {
   "base_numbering": 1,
   "nav_menu": {},
   "number_sections": true,
   "sideBar": true,
   "skip_h1_title": false,
   "title_cell": "Table of Contents",
   "title_sidebar": "Contents",
   "toc_cell": false,
   "toc_position": {
    "height": "calc(100% - 180px)",
    "left": "10px",
    "top": "150px",
    "width": "320px"
   },
   "toc_section_display": true,
   "toc_window_display": true
  },
  "varInspector": {
   "cols": {
    "lenName": 16,
    "lenType": 16,
    "lenVar": 40
   },
   "kernels_config": {
    "python": {
     "delete_cmd_postfix": "",
     "delete_cmd_prefix": "del ",
     "library": "var_list.py",
     "varRefreshCmd": "print(var_dic_list())"
    },
    "r": {
     "delete_cmd_postfix": ") ",
     "delete_cmd_prefix": "rm(",
     "library": "var_list.r",
     "varRefreshCmd": "cat(var_dic_list()) "
    }
   },
   "types_to_exclude": [
    "module",
    "function",
    "builtin_function_or_method",
    "instance",
    "_Feature"
   ],
   "window_display": false
  },
  "widgets": {
   "application/vnd.jupyter.widget-state+json": {
    "0007aa85f4fa420aa162d59f8605ff7f": {
     "model_module": "@jupyter-widgets/base",
     "model_module_version": "1.2.0",
     "model_name": "LayoutModel",
     "state": {
      "_model_module": "@jupyter-widgets/base",
      "_model_module_version": "1.2.0",
      "_model_name": "LayoutModel",
      "_view_count": null,
      "_view_module": "@jupyter-widgets/base",
      "_view_module_version": "1.2.0",
      "_view_name": "LayoutView",
      "align_content": null,
      "align_items": null,
      "align_self": null,
      "border": null,
      "bottom": null,
      "display": null,
      "flex": null,
      "flex_flow": null,
      "grid_area": null,
      "grid_auto_columns": null,
      "grid_auto_flow": null,
      "grid_auto_rows": null,
      "grid_column": null,
      "grid_gap": null,
      "grid_row": null,
      "grid_template_areas": null,
      "grid_template_columns": null,
      "grid_template_rows": null,
      "height": null,
      "justify_content": null,
      "justify_items": null,
      "left": null,
      "margin": null,
      "max_height": null,
      "max_width": null,
      "min_height": null,
      "min_width": null,
      "object_fit": null,
      "object_position": null,
      "order": null,
      "overflow": null,
      "overflow_x": null,
      "overflow_y": null,
      "padding": null,
      "right": null,
      "top": null,
      "visibility": null,
      "width": null
     }
    },
    "082620171275431fb70ed369bacc5abf": {
     "model_module": "@jupyter-widgets/controls",
     "model_module_version": "1.5.0",
     "model_name": "IntProgressModel",
     "state": {
      "_dom_classes": [],
      "_model_module": "@jupyter-widgets/controls",
      "_model_module_version": "1.5.0",
      "_model_name": "IntProgressModel",
      "_view_count": null,
      "_view_module": "@jupyter-widgets/controls",
      "_view_module_version": "1.5.0",
      "_view_name": "ProgressView",
      "bar_style": "",
      "description": "Processing: ",
      "description_tooltip": null,
      "layout": "IPY_MODEL_c6af81dc1e624f3c88370f4d9f59feb3",
      "max": 3,
      "min": 0,
      "orientation": "horizontal",
      "style": "IPY_MODEL_eae5c769088a4f09888fdfc88b1e4564",
      "value": 3
     }
    },
    "0ac8ba48c4274159920819c170d0390e": {
     "model_module": "@jupyter-widgets/base",
     "model_module_version": "1.2.0",
     "model_name": "LayoutModel",
     "state": {
      "_model_module": "@jupyter-widgets/base",
      "_model_module_version": "1.2.0",
      "_model_name": "LayoutModel",
      "_view_count": null,
      "_view_module": "@jupyter-widgets/base",
      "_view_module_version": "1.2.0",
      "_view_name": "LayoutView",
      "align_content": null,
      "align_items": null,
      "align_self": null,
      "border": null,
      "bottom": null,
      "display": null,
      "flex": null,
      "flex_flow": null,
      "grid_area": null,
      "grid_auto_columns": null,
      "grid_auto_flow": null,
      "grid_auto_rows": null,
      "grid_column": null,
      "grid_gap": null,
      "grid_row": null,
      "grid_template_areas": null,
      "grid_template_columns": null,
      "grid_template_rows": null,
      "height": null,
      "justify_content": null,
      "justify_items": null,
      "left": null,
      "margin": null,
      "max_height": null,
      "max_width": null,
      "min_height": null,
      "min_width": null,
      "object_fit": null,
      "object_position": null,
      "order": null,
      "overflow": null,
      "overflow_x": null,
      "overflow_y": null,
      "padding": null,
      "right": null,
      "top": null,
      "visibility": null,
      "width": null
     }
    },
    "0b583ab483f540178f355e1e4db2e4cd": {
     "model_module": "@jupyter-widgets/controls",
     "model_module_version": "1.5.0",
     "model_name": "IntProgressModel",
     "state": {
      "_dom_classes": [],
      "_model_module": "@jupyter-widgets/controls",
      "_model_module_version": "1.5.0",
      "_model_name": "IntProgressModel",
      "_view_count": null,
      "_view_module": "@jupyter-widgets/controls",
      "_view_module_version": "1.5.0",
      "_view_name": "ProgressView",
      "bar_style": "",
      "description": "Processing: ",
      "description_tooltip": null,
      "layout": "IPY_MODEL_0ac8ba48c4274159920819c170d0390e",
      "max": 99,
      "min": 0,
      "orientation": "horizontal",
      "style": "IPY_MODEL_bb6c01058903444e971ee2bbadd957d8",
      "value": 99
     }
    },
    "10945186de11426a829fb07d19c3eafe": {
     "model_module": "@jupyter-widgets/controls",
     "model_module_version": "1.5.0",
     "model_name": "IntProgressModel",
     "state": {
      "_dom_classes": [],
      "_model_module": "@jupyter-widgets/controls",
      "_model_module_version": "1.5.0",
      "_model_name": "IntProgressModel",
      "_view_count": null,
      "_view_module": "@jupyter-widgets/controls",
      "_view_module_version": "1.5.0",
      "_view_name": "ProgressView",
      "bar_style": "",
      "description": "Processing: ",
      "description_tooltip": null,
      "layout": "IPY_MODEL_76244b1be42d49c5a252ccf23c6fdd7d",
      "max": 99,
      "min": 0,
      "orientation": "horizontal",
      "style": "IPY_MODEL_26edd118a04f4448b7ca8183d13a156e",
      "value": 99
     }
    },
    "24bf5e205bdd484cb9ddf9a6f1c1d0d8": {
     "model_module": "@jupyter-widgets/controls",
     "model_module_version": "1.5.0",
     "model_name": "ProgressStyleModel",
     "state": {
      "_model_module": "@jupyter-widgets/controls",
      "_model_module_version": "1.5.0",
      "_model_name": "ProgressStyleModel",
      "_view_count": null,
      "_view_module": "@jupyter-widgets/base",
      "_view_module_version": "1.2.0",
      "_view_name": "StyleView",
      "bar_color": null,
      "description_width": ""
     }
    },
    "26edd118a04f4448b7ca8183d13a156e": {
     "model_module": "@jupyter-widgets/controls",
     "model_module_version": "1.5.0",
     "model_name": "ProgressStyleModel",
     "state": {
      "_model_module": "@jupyter-widgets/controls",
      "_model_module_version": "1.5.0",
      "_model_name": "ProgressStyleModel",
      "_view_count": null,
      "_view_module": "@jupyter-widgets/base",
      "_view_module_version": "1.2.0",
      "_view_name": "StyleView",
      "bar_color": null,
      "description_width": ""
     }
    },
    "2acef5ea92c5490283c4a0d15b97f853": {
     "model_module": "@jupyter-widgets/controls",
     "model_module_version": "1.5.0",
     "model_name": "IntProgressModel",
     "state": {
      "_dom_classes": [],
      "_model_module": "@jupyter-widgets/controls",
      "_model_module_version": "1.5.0",
      "_model_name": "IntProgressModel",
      "_view_count": null,
      "_view_module": "@jupyter-widgets/controls",
      "_view_module_version": "1.5.0",
      "_view_name": "ProgressView",
      "bar_style": "",
      "description": "Processing: ",
      "description_tooltip": null,
      "layout": "IPY_MODEL_b66d5b36c4d84aef99a5d480b1b73e6d",
      "max": 99,
      "min": 0,
      "orientation": "horizontal",
      "style": "IPY_MODEL_24bf5e205bdd484cb9ddf9a6f1c1d0d8",
      "value": 99
     }
    },
    "3cc749a68d7744be894244337540b9d5": {
     "model_module": "@jupyter-widgets/controls",
     "model_module_version": "1.5.0",
     "model_name": "ProgressStyleModel",
     "state": {
      "_model_module": "@jupyter-widgets/controls",
      "_model_module_version": "1.5.0",
      "_model_name": "ProgressStyleModel",
      "_view_count": null,
      "_view_module": "@jupyter-widgets/base",
      "_view_module_version": "1.2.0",
      "_view_name": "StyleView",
      "bar_color": null,
      "description_width": ""
     }
    },
    "419fda4b50784f63962216d0757a0f33": {
     "model_module": "@jupyter-widgets/controls",
     "model_module_version": "1.5.0",
     "model_name": "ProgressStyleModel",
     "state": {
      "_model_module": "@jupyter-widgets/controls",
      "_model_module_version": "1.5.0",
      "_model_name": "ProgressStyleModel",
      "_view_count": null,
      "_view_module": "@jupyter-widgets/base",
      "_view_module_version": "1.2.0",
      "_view_name": "StyleView",
      "bar_color": null,
      "description_width": ""
     }
    },
    "430ed36c7a094e2f995e4191624f404f": {
     "model_module": "@jupyter-widgets/controls",
     "model_module_version": "1.5.0",
     "model_name": "IntProgressModel",
     "state": {
      "_dom_classes": [],
      "_model_module": "@jupyter-widgets/controls",
      "_model_module_version": "1.5.0",
      "_model_name": "IntProgressModel",
      "_view_count": null,
      "_view_module": "@jupyter-widgets/controls",
      "_view_module_version": "1.5.0",
      "_view_name": "ProgressView",
      "bar_style": "",
      "description": "Processing: ",
      "description_tooltip": null,
      "layout": "IPY_MODEL_0007aa85f4fa420aa162d59f8605ff7f",
      "max": 3,
      "min": 0,
      "orientation": "horizontal",
      "style": "IPY_MODEL_a786550406e044a8a39f1a7132a2a4f6",
      "value": 3
     }
    },
    "60b3b8fbbfb4470dbad4186effdcd5ad": {
     "model_module": "@jupyter-widgets/base",
     "model_module_version": "1.2.0",
     "model_name": "LayoutModel",
     "state": {
      "_model_module": "@jupyter-widgets/base",
      "_model_module_version": "1.2.0",
      "_model_name": "LayoutModel",
      "_view_count": null,
      "_view_module": "@jupyter-widgets/base",
      "_view_module_version": "1.2.0",
      "_view_name": "LayoutView",
      "align_content": null,
      "align_items": null,
      "align_self": null,
      "border": null,
      "bottom": null,
      "display": null,
      "flex": null,
      "flex_flow": null,
      "grid_area": null,
      "grid_auto_columns": null,
      "grid_auto_flow": null,
      "grid_auto_rows": null,
      "grid_column": null,
      "grid_gap": null,
      "grid_row": null,
      "grid_template_areas": null,
      "grid_template_columns": null,
      "grid_template_rows": null,
      "height": null,
      "justify_content": null,
      "justify_items": null,
      "left": null,
      "margin": null,
      "max_height": null,
      "max_width": null,
      "min_height": null,
      "min_width": null,
      "object_fit": null,
      "object_position": null,
      "order": null,
      "overflow": null,
      "overflow_x": null,
      "overflow_y": null,
      "padding": null,
      "right": null,
      "top": null,
      "visibility": null,
      "width": null
     }
    },
    "6c2139753e08448bbfe9192078dbd95f": {
     "model_module": "@jupyter-widgets/base",
     "model_module_version": "1.2.0",
     "model_name": "LayoutModel",
     "state": {
      "_model_module": "@jupyter-widgets/base",
      "_model_module_version": "1.2.0",
      "_model_name": "LayoutModel",
      "_view_count": null,
      "_view_module": "@jupyter-widgets/base",
      "_view_module_version": "1.2.0",
      "_view_name": "LayoutView",
      "align_content": null,
      "align_items": null,
      "align_self": null,
      "border": null,
      "bottom": null,
      "display": null,
      "flex": null,
      "flex_flow": null,
      "grid_area": null,
      "grid_auto_columns": null,
      "grid_auto_flow": null,
      "grid_auto_rows": null,
      "grid_column": null,
      "grid_gap": null,
      "grid_row": null,
      "grid_template_areas": null,
      "grid_template_columns": null,
      "grid_template_rows": null,
      "height": null,
      "justify_content": null,
      "justify_items": null,
      "left": null,
      "margin": null,
      "max_height": null,
      "max_width": null,
      "min_height": null,
      "min_width": null,
      "object_fit": null,
      "object_position": null,
      "order": null,
      "overflow": null,
      "overflow_x": null,
      "overflow_y": null,
      "padding": null,
      "right": null,
      "top": null,
      "visibility": null,
      "width": null
     }
    },
    "76244b1be42d49c5a252ccf23c6fdd7d": {
     "model_module": "@jupyter-widgets/base",
     "model_module_version": "1.2.0",
     "model_name": "LayoutModel",
     "state": {
      "_model_module": "@jupyter-widgets/base",
      "_model_module_version": "1.2.0",
      "_model_name": "LayoutModel",
      "_view_count": null,
      "_view_module": "@jupyter-widgets/base",
      "_view_module_version": "1.2.0",
      "_view_name": "LayoutView",
      "align_content": null,
      "align_items": null,
      "align_self": null,
      "border": null,
      "bottom": null,
      "display": null,
      "flex": null,
      "flex_flow": null,
      "grid_area": null,
      "grid_auto_columns": null,
      "grid_auto_flow": null,
      "grid_auto_rows": null,
      "grid_column": null,
      "grid_gap": null,
      "grid_row": null,
      "grid_template_areas": null,
      "grid_template_columns": null,
      "grid_template_rows": null,
      "height": null,
      "justify_content": null,
      "justify_items": null,
      "left": null,
      "margin": null,
      "max_height": null,
      "max_width": null,
      "min_height": null,
      "min_width": null,
      "object_fit": null,
      "object_position": null,
      "order": null,
      "overflow": null,
      "overflow_x": null,
      "overflow_y": null,
      "padding": null,
      "right": null,
      "top": null,
      "visibility": null,
      "width": null
     }
    },
    "94673599422c40a6a1ea4d452595770e": {
     "model_module": "@jupyter-widgets/controls",
     "model_module_version": "1.5.0",
     "model_name": "IntProgressModel",
     "state": {
      "_dom_classes": [],
      "_model_module": "@jupyter-widgets/controls",
      "_model_module_version": "1.5.0",
      "_model_name": "IntProgressModel",
      "_view_count": null,
      "_view_module": "@jupyter-widgets/controls",
      "_view_module_version": "1.5.0",
      "_view_name": "ProgressView",
      "bar_style": "",
      "description": "Processing: ",
      "description_tooltip": null,
      "layout": "IPY_MODEL_60b3b8fbbfb4470dbad4186effdcd5ad",
      "max": 3,
      "min": 0,
      "orientation": "horizontal",
      "style": "IPY_MODEL_419fda4b50784f63962216d0757a0f33",
      "value": 3
     }
    },
    "a786550406e044a8a39f1a7132a2a4f6": {
     "model_module": "@jupyter-widgets/controls",
     "model_module_version": "1.5.0",
     "model_name": "ProgressStyleModel",
     "state": {
      "_model_module": "@jupyter-widgets/controls",
      "_model_module_version": "1.5.0",
      "_model_name": "ProgressStyleModel",
      "_view_count": null,
      "_view_module": "@jupyter-widgets/base",
      "_view_module_version": "1.2.0",
      "_view_name": "StyleView",
      "bar_color": null,
      "description_width": ""
     }
    },
    "ac8d7b458c8240d5aa0048f2e9218273": {
     "model_module": "@jupyter-widgets/controls",
     "model_module_version": "1.5.0",
     "model_name": "IntProgressModel",
     "state": {
      "_dom_classes": [],
      "_model_module": "@jupyter-widgets/controls",
      "_model_module_version": "1.5.0",
      "_model_name": "IntProgressModel",
      "_view_count": null,
      "_view_module": "@jupyter-widgets/controls",
      "_view_module_version": "1.5.0",
      "_view_name": "ProgressView",
      "bar_style": "",
      "description": "Processing: ",
      "description_tooltip": null,
      "layout": "IPY_MODEL_6c2139753e08448bbfe9192078dbd95f",
      "max": 99,
      "min": 0,
      "orientation": "horizontal",
      "style": "IPY_MODEL_c63af0b7f3254daca9ce82e1cff3e8e8",
      "value": 99
     }
    },
    "aefbaf2cc4b14518a2e7b2e3434829aa": {
     "model_module": "@jupyter-widgets/controls",
     "model_module_version": "1.5.0",
     "model_name": "IntProgressModel",
     "state": {
      "_dom_classes": [],
      "_model_module": "@jupyter-widgets/controls",
      "_model_module_version": "1.5.0",
      "_model_name": "IntProgressModel",
      "_view_count": null,
      "_view_module": "@jupyter-widgets/controls",
      "_view_module_version": "1.5.0",
      "_view_name": "ProgressView",
      "bar_style": "",
      "description": "Processing: ",
      "description_tooltip": null,
      "layout": "IPY_MODEL_bc0ae70a3d4145eab7d373420b07a6b8",
      "max": 3,
      "min": 0,
      "orientation": "horizontal",
      "style": "IPY_MODEL_3cc749a68d7744be894244337540b9d5",
      "value": 3
     }
    },
    "b66d5b36c4d84aef99a5d480b1b73e6d": {
     "model_module": "@jupyter-widgets/base",
     "model_module_version": "1.2.0",
     "model_name": "LayoutModel",
     "state": {
      "_model_module": "@jupyter-widgets/base",
      "_model_module_version": "1.2.0",
      "_model_name": "LayoutModel",
      "_view_count": null,
      "_view_module": "@jupyter-widgets/base",
      "_view_module_version": "1.2.0",
      "_view_name": "LayoutView",
      "align_content": null,
      "align_items": null,
      "align_self": null,
      "border": null,
      "bottom": null,
      "display": null,
      "flex": null,
      "flex_flow": null,
      "grid_area": null,
      "grid_auto_columns": null,
      "grid_auto_flow": null,
      "grid_auto_rows": null,
      "grid_column": null,
      "grid_gap": null,
      "grid_row": null,
      "grid_template_areas": null,
      "grid_template_columns": null,
      "grid_template_rows": null,
      "height": null,
      "justify_content": null,
      "justify_items": null,
      "left": null,
      "margin": null,
      "max_height": null,
      "max_width": null,
      "min_height": null,
      "min_width": null,
      "object_fit": null,
      "object_position": null,
      "order": null,
      "overflow": null,
      "overflow_x": null,
      "overflow_y": null,
      "padding": null,
      "right": null,
      "top": null,
      "visibility": null,
      "width": null
     }
    },
    "bb6c01058903444e971ee2bbadd957d8": {
     "model_module": "@jupyter-widgets/controls",
     "model_module_version": "1.5.0",
     "model_name": "ProgressStyleModel",
     "state": {
      "_model_module": "@jupyter-widgets/controls",
      "_model_module_version": "1.5.0",
      "_model_name": "ProgressStyleModel",
      "_view_count": null,
      "_view_module": "@jupyter-widgets/base",
      "_view_module_version": "1.2.0",
      "_view_name": "StyleView",
      "bar_color": null,
      "description_width": ""
     }
    },
    "bc0ae70a3d4145eab7d373420b07a6b8": {
     "model_module": "@jupyter-widgets/base",
     "model_module_version": "1.2.0",
     "model_name": "LayoutModel",
     "state": {
      "_model_module": "@jupyter-widgets/base",
      "_model_module_version": "1.2.0",
      "_model_name": "LayoutModel",
      "_view_count": null,
      "_view_module": "@jupyter-widgets/base",
      "_view_module_version": "1.2.0",
      "_view_name": "LayoutView",
      "align_content": null,
      "align_items": null,
      "align_self": null,
      "border": null,
      "bottom": null,
      "display": null,
      "flex": null,
      "flex_flow": null,
      "grid_area": null,
      "grid_auto_columns": null,
      "grid_auto_flow": null,
      "grid_auto_rows": null,
      "grid_column": null,
      "grid_gap": null,
      "grid_row": null,
      "grid_template_areas": null,
      "grid_template_columns": null,
      "grid_template_rows": null,
      "height": null,
      "justify_content": null,
      "justify_items": null,
      "left": null,
      "margin": null,
      "max_height": null,
      "max_width": null,
      "min_height": null,
      "min_width": null,
      "object_fit": null,
      "object_position": null,
      "order": null,
      "overflow": null,
      "overflow_x": null,
      "overflow_y": null,
      "padding": null,
      "right": null,
      "top": null,
      "visibility": null,
      "width": null
     }
    },
    "c63af0b7f3254daca9ce82e1cff3e8e8": {
     "model_module": "@jupyter-widgets/controls",
     "model_module_version": "1.5.0",
     "model_name": "ProgressStyleModel",
     "state": {
      "_model_module": "@jupyter-widgets/controls",
      "_model_module_version": "1.5.0",
      "_model_name": "ProgressStyleModel",
      "_view_count": null,
      "_view_module": "@jupyter-widgets/base",
      "_view_module_version": "1.2.0",
      "_view_name": "StyleView",
      "bar_color": null,
      "description_width": ""
     }
    },
    "c6af81dc1e624f3c88370f4d9f59feb3": {
     "model_module": "@jupyter-widgets/base",
     "model_module_version": "1.2.0",
     "model_name": "LayoutModel",
     "state": {
      "_model_module": "@jupyter-widgets/base",
      "_model_module_version": "1.2.0",
      "_model_name": "LayoutModel",
      "_view_count": null,
      "_view_module": "@jupyter-widgets/base",
      "_view_module_version": "1.2.0",
      "_view_name": "LayoutView",
      "align_content": null,
      "align_items": null,
      "align_self": null,
      "border": null,
      "bottom": null,
      "display": null,
      "flex": null,
      "flex_flow": null,
      "grid_area": null,
      "grid_auto_columns": null,
      "grid_auto_flow": null,
      "grid_auto_rows": null,
      "grid_column": null,
      "grid_gap": null,
      "grid_row": null,
      "grid_template_areas": null,
      "grid_template_columns": null,
      "grid_template_rows": null,
      "height": null,
      "justify_content": null,
      "justify_items": null,
      "left": null,
      "margin": null,
      "max_height": null,
      "max_width": null,
      "min_height": null,
      "min_width": null,
      "object_fit": null,
      "object_position": null,
      "order": null,
      "overflow": null,
      "overflow_x": null,
      "overflow_y": null,
      "padding": null,
      "right": null,
      "top": null,
      "visibility": null,
      "width": null
     }
    },
    "eae5c769088a4f09888fdfc88b1e4564": {
     "model_module": "@jupyter-widgets/controls",
     "model_module_version": "1.5.0",
     "model_name": "ProgressStyleModel",
     "state": {
      "_model_module": "@jupyter-widgets/controls",
      "_model_module_version": "1.5.0",
      "_model_name": "ProgressStyleModel",
      "_view_count": null,
      "_view_module": "@jupyter-widgets/base",
      "_view_module_version": "1.2.0",
      "_view_name": "StyleView",
      "bar_color": null,
      "description_width": ""
     }
    }
   }
  }
 },
 "nbformat": 4,
 "nbformat_minor": 1
}
