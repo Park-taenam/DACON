{
 "cells": [
  {
   "cell_type": "code",
   "execution_count": 1,
   "metadata": {
    "executionInfo": {
     "elapsed": 312,
     "status": "ok",
     "timestamp": 1644750861728,
     "user": {
      "displayName": "김재민",
      "photoUrl": "https://lh3.googleusercontent.com/a/default-user=s64",
      "userId": "14133616262020169823"
     },
     "user_tz": -540
    },
    "id": "Zi2zhM3esJNz"
   },
   "outputs": [],
   "source": [
    "import pandas as pd\n",
    "import numpy as np\n",
    "import warnings \n",
    "import os\n",
    "import holidays\n",
    "import datetime\n",
    "from datetime import timedelta\n",
    "\n",
    "\n",
    "\n",
    "from lightgbm import LGBMRegressor\n",
    "from xgboost import XGBRegressor\n",
    "\n",
    "from sklearn.preprocessing import LabelEncoder\n",
    "\n",
    "warnings.filterwarnings('ignore')\n"
   ]
  },
  {
   "cell_type": "code",
   "execution_count": 472,
   "metadata": {},
   "outputs": [],
   "source": [
    "sample = pd.read_csv('sample_submission.csv')\n",
    "train = pd.read_csv('train.csv')\n",
    "test = pd.read_csv('test.csv')"
   ]
  },
  {
   "cell_type": "markdown",
   "metadata": {},
   "source": [
    "### 날짜 피쳐 생성"
   ]
  },
  {
   "cell_type": "code",
   "execution_count": 473,
   "metadata": {},
   "outputs": [],
   "source": [
    "#pip install holidays\n",
    "# 파이썬 공휴일 함수?"
   ]
  },
  {
   "cell_type": "code",
   "execution_count": 474,
   "metadata": {},
   "outputs": [],
   "source": [
    "# https://github.com/dr-prodigy/python-holidays"
   ]
  },
  {
   "cell_type": "code",
   "execution_count": 475,
   "metadata": {},
   "outputs": [],
   "source": [
    "#일반 평일 : 0 / 공휴일 1일짜리 전 : 1 / 공휴일 2일짜리 전 : 2  이런 식으로 하면 오히려 점수 떨어짐 하루만 따지는게 점수 더 나음"
   ]
  },
  {
   "cell_type": "code",
   "execution_count": 476,
   "metadata": {},
   "outputs": [],
   "source": [
    "holiday_list = [] \n",
    "for i in range(2016,2022):\n",
    "    for date in holidays.KR(years=i).keys():  # 한국 공휴일 가져오기\n",
    "        holiday_list.append(date)"
   ]
  },
  {
   "cell_type": "code",
   "execution_count": 477,
   "metadata": {},
   "outputs": [],
   "source": [
    "holiday_before_list=[]\n",
    "for_mat='%Y-%m-%d'\n",
    "for i in holiday_list:\n",
    "    holiday_before_list.append((i - timedelta(days=1)).strftime(for_mat))\n",
    "        # i - timedelta(days=1): datetime에서 날짜 하루 빼기\n",
    "        # .strftime(for_mat): 포맷과 같은 형식으로 datetime에서 str로 변환"
   ]
  },
  {
   "cell_type": "code",
   "execution_count": 478,
   "metadata": {},
   "outputs": [],
   "source": [
    "def holiday_before(x):\n",
    "    if x in holiday_before_list:\n",
    "        return 1\n",
    "    else:\n",
    "        return 0\n",
    "train['공휴일전'] = train.일자.apply(holiday_before)\n",
    "test['공휴일전'] = test.일자.apply(holiday_before)"
   ]
  },
  {
   "cell_type": "code",
   "execution_count": 479,
   "metadata": {},
   "outputs": [],
   "source": [
    "holiday_after_list=[]\n",
    "for_mat='%Y-%m-%d'\n",
    "for i in holiday_list:\n",
    "    holiday_after_list.append((i + timedelta(days=1)).strftime(for_mat))"
   ]
  },
  {
   "cell_type": "code",
   "execution_count": 480,
   "metadata": {},
   "outputs": [],
   "source": [
    "def holiday_after(x):\n",
    "    if x in holiday_after_list:\n",
    "        return 1\n",
    "    else:\n",
    "        return 0\n",
    "train['공휴일후'] = train.일자.apply(holiday_after)\n",
    "test['공휴일후'] = test.일자.apply(holiday_after)"
   ]
  },
  {
   "cell_type": "code",
   "execution_count": 481,
   "metadata": {},
   "outputs": [],
   "source": [
    "## 누락된 것은 찾아서 넣음\n",
    "\n",
    "# 16-4-13 국회의원 선거\n",
    "train['공휴일전'][47]=1\n",
    "train['공휴일후'][48]=1\n",
    "\n",
    "# 17-5-9 대통령 선거\n",
    "train['공휴일전'][311]=1\n",
    "train['공휴일후'][312]=1\n",
    "\n",
    "# 18-6-13 지방선거\n",
    "train['공휴일전'][579]=1\n",
    "train['공휴일후'][580]=1\n",
    "\n",
    "# 20-4-15 국회의원 선거\n",
    "train['공휴일전'][1027]=1\n",
    "train['공휴일후'][1028]=1\n",
    "\n",
    "# 20-9-30 추석\n",
    "train['공휴일전'][1129]=1\n"
   ]
  },
  {
   "cell_type": "code",
   "execution_count": 482,
   "metadata": {
    "executionInfo": {
     "elapsed": 313,
     "status": "ok",
     "timestamp": 1644765607255,
     "user": {
      "displayName": "김재민",
      "photoUrl": "https://lh3.googleusercontent.com/a/default-user=s64",
      "userId": "14133616262020169823"
     },
     "user_tz": -540
    },
    "id": "6eULvtFBnzlq"
   },
   "outputs": [],
   "source": [
    "train.일자 = train.일자.astype('datetime64')\n",
    "test.일자 = test.일자.astype('datetime64')"
   ]
  },
  {
   "cell_type": "code",
   "execution_count": 483,
   "metadata": {
    "executionInfo": {
     "elapsed": 7,
     "status": "ok",
     "timestamp": 1644765608489,
     "user": {
      "displayName": "김재민",
      "photoUrl": "https://lh3.googleusercontent.com/a/default-user=s64",
      "userId": "14133616262020169823"
     },
     "user_tz": -540
    },
    "id": "qDLywtmisJOM"
   },
   "outputs": [],
   "source": [
    "train['월'] = train.일자.dt.month\n",
    "train['일'] = train.일자.dt.day\n",
    "train['년'] = train.일자.dt.year\n",
    "\n",
    "test['월'] = test.일자.dt.month\n",
    "test['일'] = test.일자.dt.day\n",
    "test['년'] = test.일자.dt.year"
   ]
  },
  {
   "cell_type": "code",
   "execution_count": 484,
   "metadata": {
    "executionInfo": {
     "elapsed": 319,
     "status": "ok",
     "timestamp": 1644765614007,
     "user": {
      "displayName": "김재민",
      "photoUrl": "https://lh3.googleusercontent.com/a/default-user=s64",
      "userId": "14133616262020169823"
     },
     "user_tz": -540
    },
    "id": "J2voWfQpqUwP"
   },
   "outputs": [],
   "source": [
    "train['식사가능자수'] = train['본사정원수'] - train['본사출장자수'] - train['본사휴가자수'] - train['현본사소속재택근무자수']\n",
    "test['식사가능자수'] = test['본사정원수'] - test['본사출장자수'] - test['본사휴가자수'] - test['현본사소속재택근무자수']\n",
    "\n",
    "train['휴가비율'] = train['본사휴가자수']/train['본사정원수']\n",
    "test['휴가비율'] = test['본사휴가자수']/test['본사정원수']\n",
    "\n",
    "train['출장비율'] = train['본사출장자수']/train['본사정원수']\n",
    "test['출장비율'] = test['본사출장자수']/test['본사정원수']\n",
    "\n",
    "train['야근비율'] = train['본사시간외근무명령서승인건수']/train['식사가능자수']\n",
    "test['야근비율'] = test['본사시간외근무명령서승인건수']/test['식사가능자수']\n",
    "\n",
    "train['재택비율'] = train['현본사소속재택근무자수']/train['본사정원수']\n",
    "test['재택비율'] = test['현본사소속재택근무자수']/test['본사정원수']"
   ]
  },
  {
   "cell_type": "code",
   "execution_count": 485,
   "metadata": {},
   "outputs": [],
   "source": [
    "def dayofweek1(x):\n",
    "    if '월' in x:\n",
    "        return 5\n",
    "    elif \"화\" in x:\n",
    "        return 4\n",
    "    elif \"수\" in x:\n",
    "        return 3\n",
    "    elif \"목\" in x:\n",
    "        return 2\n",
    "    else:\n",
    "        return 1\n",
    "\n",
    "train['요일_중식'] = train.요일.apply(dayofweek1)\n",
    "test['요일_중식'] = test.요일.apply(dayofweek1)"
   ]
  },
  {
   "cell_type": "code",
   "execution_count": 486,
   "metadata": {},
   "outputs": [],
   "source": [
    "def dayofweek2(x):\n",
    "    if '월' in x:\n",
    "        return 5\n",
    "    elif \"화\" in x:\n",
    "        return 4\n",
    "    elif \"수\" in x:\n",
    "        return 1\n",
    "    elif \"목\" in x:\n",
    "        return 3\n",
    "    else:\n",
    "        return 2\n",
    "\n",
    "train['요일_석식'] = train.요일.apply(dayofweek2)\n",
    "test['요일_석식'] = test.요일.apply(dayofweek2)"
   ]
  },
  {
   "cell_type": "code",
   "execution_count": 487,
   "metadata": {},
   "outputs": [
    {
     "data": {
      "text/html": [
       "<div>\n",
       "<style scoped>\n",
       "    .dataframe tbody tr th:only-of-type {\n",
       "        vertical-align: middle;\n",
       "    }\n",
       "\n",
       "    .dataframe tbody tr th {\n",
       "        vertical-align: top;\n",
       "    }\n",
       "\n",
       "    .dataframe thead th {\n",
       "        text-align: right;\n",
       "    }\n",
       "</style>\n",
       "<table border=\"1\" class=\"dataframe\">\n",
       "  <thead>\n",
       "    <tr style=\"text-align: right;\">\n",
       "      <th></th>\n",
       "      <th>일자</th>\n",
       "      <th>요일</th>\n",
       "      <th>석식메뉴</th>\n",
       "    </tr>\n",
       "  </thead>\n",
       "  <tbody>\n",
       "    <tr>\n",
       "      <th>204</th>\n",
       "      <td>2016-11-30</td>\n",
       "      <td>수</td>\n",
       "      <td>*</td>\n",
       "    </tr>\n",
       "    <tr>\n",
       "      <th>224</th>\n",
       "      <td>2016-12-28</td>\n",
       "      <td>수</td>\n",
       "      <td>*</td>\n",
       "    </tr>\n",
       "    <tr>\n",
       "      <th>244</th>\n",
       "      <td>2017-01-25</td>\n",
       "      <td>수</td>\n",
       "      <td>*</td>\n",
       "    </tr>\n",
       "    <tr>\n",
       "      <th>262</th>\n",
       "      <td>2017-02-22</td>\n",
       "      <td>수</td>\n",
       "      <td>*</td>\n",
       "    </tr>\n",
       "    <tr>\n",
       "      <th>281</th>\n",
       "      <td>2017-03-22</td>\n",
       "      <td>수</td>\n",
       "      <td>*</td>\n",
       "    </tr>\n",
       "    <tr>\n",
       "      <th>306</th>\n",
       "      <td>2017-04-26</td>\n",
       "      <td>수</td>\n",
       "      <td>*</td>\n",
       "    </tr>\n",
       "    <tr>\n",
       "      <th>327</th>\n",
       "      <td>2017-05-31</td>\n",
       "      <td>수</td>\n",
       "      <td>자기계발의날</td>\n",
       "    </tr>\n",
       "    <tr>\n",
       "      <th>346</th>\n",
       "      <td>2017-06-28</td>\n",
       "      <td>수</td>\n",
       "      <td>*자기계발의날*</td>\n",
       "    </tr>\n",
       "    <tr>\n",
       "      <th>366</th>\n",
       "      <td>2017-07-26</td>\n",
       "      <td>수</td>\n",
       "      <td>가정의날</td>\n",
       "    </tr>\n",
       "    <tr>\n",
       "      <th>392</th>\n",
       "      <td>2017-09-01</td>\n",
       "      <td>금</td>\n",
       "      <td>*</td>\n",
       "    </tr>\n",
       "    <tr>\n",
       "      <th>410</th>\n",
       "      <td>2017-09-27</td>\n",
       "      <td>수</td>\n",
       "      <td>쌀밥/잡곡밥 (쌀:국내산) 된장찌개  미니함박조림  계란말이  비름나물  포기김치 ...</td>\n",
       "    </tr>\n",
       "    <tr>\n",
       "      <th>412</th>\n",
       "      <td>2017-09-29</td>\n",
       "      <td>금</td>\n",
       "      <td>*</td>\n",
       "    </tr>\n",
       "    <tr>\n",
       "      <th>424</th>\n",
       "      <td>2017-10-25</td>\n",
       "      <td>수</td>\n",
       "      <td>*</td>\n",
       "    </tr>\n",
       "    <tr>\n",
       "      <th>449</th>\n",
       "      <td>2017-11-29</td>\n",
       "      <td>수</td>\n",
       "      <td>*</td>\n",
       "    </tr>\n",
       "    <tr>\n",
       "      <th>468</th>\n",
       "      <td>2017-12-27</td>\n",
       "      <td>수</td>\n",
       "      <td>*</td>\n",
       "    </tr>\n",
       "    <tr>\n",
       "      <th>492</th>\n",
       "      <td>2018-01-31</td>\n",
       "      <td>수</td>\n",
       "      <td>*</td>\n",
       "    </tr>\n",
       "    <tr>\n",
       "      <th>502</th>\n",
       "      <td>2018-02-14</td>\n",
       "      <td>수</td>\n",
       "      <td>쌀밥/잡곡밥 (쌀:국내산) 쇠고기무국  고추잡채*꽃빵  계란찜  오이무침  포기김치...</td>\n",
       "    </tr>\n",
       "    <tr>\n",
       "      <th>510</th>\n",
       "      <td>2018-02-28</td>\n",
       "      <td>수</td>\n",
       "      <td>*</td>\n",
       "    </tr>\n",
       "    <tr>\n",
       "      <th>529</th>\n",
       "      <td>2018-03-28</td>\n",
       "      <td>수</td>\n",
       "      <td>*</td>\n",
       "    </tr>\n",
       "    <tr>\n",
       "      <th>549</th>\n",
       "      <td>2018-04-25</td>\n",
       "      <td>수</td>\n",
       "      <td></td>\n",
       "    </tr>\n",
       "    <tr>\n",
       "      <th>571</th>\n",
       "      <td>2018-05-30</td>\n",
       "      <td>수</td>\n",
       "      <td></td>\n",
       "    </tr>\n",
       "    <tr>\n",
       "      <th>589</th>\n",
       "      <td>2018-06-27</td>\n",
       "      <td>수</td>\n",
       "      <td>*</td>\n",
       "    </tr>\n",
       "    <tr>\n",
       "      <th>609</th>\n",
       "      <td>2018-07-25</td>\n",
       "      <td>수</td>\n",
       "      <td></td>\n",
       "    </tr>\n",
       "    <tr>\n",
       "      <th>633</th>\n",
       "      <td>2018-08-29</td>\n",
       "      <td>수</td>\n",
       "      <td>*</td>\n",
       "    </tr>\n",
       "    <tr>\n",
       "      <th>648</th>\n",
       "      <td>2018-09-19</td>\n",
       "      <td>수</td>\n",
       "      <td></td>\n",
       "    </tr>\n",
       "    <tr>\n",
       "      <th>667</th>\n",
       "      <td>2018-10-31</td>\n",
       "      <td>수</td>\n",
       "      <td>자기계발의날</td>\n",
       "    </tr>\n",
       "    <tr>\n",
       "      <th>687</th>\n",
       "      <td>2018-11-28</td>\n",
       "      <td>수</td>\n",
       "      <td>*</td>\n",
       "    </tr>\n",
       "    <tr>\n",
       "      <th>706</th>\n",
       "      <td>2018-12-26</td>\n",
       "      <td>수</td>\n",
       "      <td>자기계발의날</td>\n",
       "    </tr>\n",
       "    <tr>\n",
       "      <th>730</th>\n",
       "      <td>2019-01-30</td>\n",
       "      <td>수</td>\n",
       "      <td>자기개발의날</td>\n",
       "    </tr>\n",
       "    <tr>\n",
       "      <th>747</th>\n",
       "      <td>2019-02-27</td>\n",
       "      <td>수</td>\n",
       "      <td>*  자기계발의날  *</td>\n",
       "    </tr>\n",
       "    <tr>\n",
       "      <th>766</th>\n",
       "      <td>2019-03-27</td>\n",
       "      <td>수</td>\n",
       "      <td>*  자기개발의날  *</td>\n",
       "    </tr>\n",
       "    <tr>\n",
       "      <th>786</th>\n",
       "      <td>2019-04-24</td>\n",
       "      <td>수</td>\n",
       "      <td>*  자기계발의날  *</td>\n",
       "    </tr>\n",
       "    <tr>\n",
       "      <th>809</th>\n",
       "      <td>2019-05-29</td>\n",
       "      <td>수</td>\n",
       "      <td>*  자기개발의날  *</td>\n",
       "    </tr>\n",
       "    <tr>\n",
       "      <th>828</th>\n",
       "      <td>2019-06-26</td>\n",
       "      <td>수</td>\n",
       "      <td>*  자기개발의날  *</td>\n",
       "    </tr>\n",
       "    <tr>\n",
       "      <th>853</th>\n",
       "      <td>2019-07-31</td>\n",
       "      <td>수</td>\n",
       "      <td>자기계발의날</td>\n",
       "    </tr>\n",
       "    <tr>\n",
       "      <th>872</th>\n",
       "      <td>2019-08-28</td>\n",
       "      <td>수</td>\n",
       "      <td>*</td>\n",
       "    </tr>\n",
       "    <tr>\n",
       "      <th>890</th>\n",
       "      <td>2019-09-25</td>\n",
       "      <td>수</td>\n",
       "      <td>*</td>\n",
       "    </tr>\n",
       "    <tr>\n",
       "      <th>912</th>\n",
       "      <td>2019-10-30</td>\n",
       "      <td>수</td>\n",
       "      <td>*</td>\n",
       "    </tr>\n",
       "    <tr>\n",
       "      <th>932</th>\n",
       "      <td>2019-11-27</td>\n",
       "      <td>수</td>\n",
       "      <td>*</td>\n",
       "    </tr>\n",
       "    <tr>\n",
       "      <th>955</th>\n",
       "      <td>2019-12-31</td>\n",
       "      <td>화</td>\n",
       "      <td>*</td>\n",
       "    </tr>\n",
       "    <tr>\n",
       "      <th>973</th>\n",
       "      <td>2020-01-29</td>\n",
       "      <td>수</td>\n",
       "      <td>자기개발의날</td>\n",
       "    </tr>\n",
       "    <tr>\n",
       "      <th>993</th>\n",
       "      <td>2020-02-26</td>\n",
       "      <td>수</td>\n",
       "      <td>자기개발의날</td>\n",
       "    </tr>\n",
       "    <tr>\n",
       "      <th>1166</th>\n",
       "      <td>2020-11-25</td>\n",
       "      <td>수</td>\n",
       "      <td>＜자기 계발의 날＞</td>\n",
       "    </tr>\n",
       "  </tbody>\n",
       "</table>\n",
       "</div>"
      ],
      "text/plain": [
       "             일자 요일                                               석식메뉴\n",
       "204  2016-11-30  수                                          *        \n",
       "224  2016-12-28  수                                          *        \n",
       "244  2017-01-25  수                                           *       \n",
       "262  2017-02-22  수                                          *        \n",
       "281  2017-03-22  수                                          *        \n",
       "306  2017-04-26  수                                          *        \n",
       "327  2017-05-31  수                                       자기계발의날      \n",
       "346  2017-06-28  수                                     *자기계발의날*      \n",
       "366  2017-07-26  수                                         가정의날      \n",
       "392  2017-09-01  금                                          *        \n",
       "410  2017-09-27  수  쌀밥/잡곡밥 (쌀:국내산) 된장찌개  미니함박조림  계란말이  비름나물  포기김치 ...\n",
       "412  2017-09-29  금                                          *        \n",
       "424  2017-10-25  수                                          *        \n",
       "449  2017-11-29  수                                          *        \n",
       "468  2017-12-27  수                                          *        \n",
       "492  2018-01-31  수                                          *        \n",
       "502  2018-02-14  수  쌀밥/잡곡밥 (쌀:국내산) 쇠고기무국  고추잡채*꽃빵  계란찜  오이무침  포기김치...\n",
       "510  2018-02-28  수                                          *        \n",
       "529  2018-03-28  수                                            *      \n",
       "549  2018-04-25  수                                                   \n",
       "571  2018-05-30  수                                                   \n",
       "589  2018-06-27  수                                           *       \n",
       "609  2018-07-25  수                                                   \n",
       "633  2018-08-29  수                                          *        \n",
       "648  2018-09-19  수                                                   \n",
       "667  2018-10-31  수                                     자기계발의날        \n",
       "687  2018-11-28  수                                          *        \n",
       "706  2018-12-26  수                                     자기계발의날        \n",
       "730  2019-01-30  수                                     자기개발의날        \n",
       "747  2019-02-27  수                                   *  자기계발의날  *    \n",
       "766  2019-03-27  수                                   *  자기개발의날  *    \n",
       "786  2019-04-24  수                                   *  자기계발의날  *    \n",
       "809  2019-05-29  수                                   *  자기개발의날  *    \n",
       "828  2019-06-26  수                                  *  자기개발의날  *     \n",
       "853  2019-07-31  수                                     자기계발의날        \n",
       "872  2019-08-28  수                                          *        \n",
       "890  2019-09-25  수                                          *        \n",
       "912  2019-10-30  수                                          *        \n",
       "932  2019-11-27  수                                          *        \n",
       "955  2019-12-31  화                                          *        \n",
       "973  2020-01-29  수                                     자기개발의날        \n",
       "993  2020-02-26  수                                     자기개발의날        \n",
       "1166 2020-11-25  수                                   ＜자기 계발의 날＞      "
      ]
     },
     "execution_count": 487,
     "metadata": {},
     "output_type": "execute_result"
    }
   ],
   "source": [
    "train.loc[train.석식계==0,['일자','요일','석식메뉴']]\n",
    "# 마지막주(4주차도 있고 5주차도 있는거보면 애매) 수요일\n",
    "# 17-9-29: 추석 전 금요일\n",
    "# 18-2-14: 설날 전 수요일\n",
    "#18-9-19: 다음주 수요일이 추석이라서 마지막주 수요일이긴 함\n",
    "#19-12-31: 마지막주 수요일이 성탄절, 다음날이 설날이라서 이때 안하는듯"
   ]
  },
  {
   "cell_type": "code",
   "execution_count": 488,
   "metadata": {},
   "outputs": [],
   "source": [
    "train['석식메뉴'][204]=\"없음 없음 없음 없음\"\n",
    "train['석식메뉴'][224]=\"없음 없음 없음 없음\"\n",
    "train['석식메뉴'][244]=\"없음 없음 없음 없음\"\n",
    "train['석식메뉴'][262]=\"없음 없음 없음 없음\"\n",
    "train['석식메뉴'][281]=\"없음 없음 없음 없음\"\n",
    "train['석식메뉴'][306]=\"없음 없음 없음 없음\"\n",
    "train['석식메뉴'][327]=\"없음 없음 없음 없음\"\n",
    "train['석식메뉴'][346]=\"없음 없음 없음 없음\"\n",
    "train['석식메뉴'][366]=\"없음 없음 없음 없음\"\n",
    "train['석식메뉴'][392]=\"없음 없음 없음 없음\"\n",
    "train['석식메뉴'][410]=\"없음 없음 없음 없음\"\n",
    "train['석식메뉴'][412]=\"없음 없음 없음 없음\"\n",
    "train['석식메뉴'][424]=\"없음 없음 없음 없음\"\n",
    "train['석식메뉴'][449]=\"없음 없음 없음 없음\"\n",
    "train['석식메뉴'][468]=\"없음 없음 없음 없음\"\n",
    "train['석식메뉴'][492]=\"없음 없음 없음 없음\"\n",
    "train['석식메뉴'][502]=\"없음 없음 없음 없음\"\n",
    "train['석식메뉴'][510]=\"없음 없음 없음 없음\"\n",
    "train['석식메뉴'][529]=\"없음 없음 없음 없음\"\n",
    "train['석식메뉴'][549]=\"없음 없음 없음 없음\"\n",
    "train['석식메뉴'][571]=\"없음 없음 없음 없음\"\n",
    "train['석식메뉴'][589]=\"없음 없음 없음 없음\"\n",
    "train['석식메뉴'][609]=\"없음 없음 없음 없음\"\n",
    "train['석식메뉴'][633]=\"없음 없음 없음 없음\"\n",
    "train['석식메뉴'][648]=\"없음 없음 없음 없음\"\n",
    "train['석식메뉴'][667]=\"없음 없음 없음 없음\"\n",
    "train['석식메뉴'][687]=\"없음 없음 없음 없음\"\n",
    "train['석식메뉴'][706]=\"없음 없음 없음 없음\"\n",
    "train['석식메뉴'][730]=\"없음 없음 없음 없음\"\n",
    "train['석식메뉴'][747]=\"없음 없음 없음 없음\"\n",
    "train['석식메뉴'][766]=\"없음 없음 없음 없음\"\n",
    "train['석식메뉴'][786]=\"없음 없음 없음 없음\"\n",
    "train['석식메뉴'][809]=\"없음 없음 없음 없음\"\n",
    "train['석식메뉴'][828]=\"없음 없음 없음 없음\"\n",
    "train['석식메뉴'][853]=\"없음 없음 없음 없음\"\n",
    "train['석식메뉴'][872]=\"없음 없음 없음 없음\"\n",
    "train['석식메뉴'][890]=\"없음 없음 없음 없음\"\n",
    "train['석식메뉴'][912]=\"없음 없음 없음 없음\"\n",
    "train['석식메뉴'][932]=\"없음 없음 없음 없음\"\n",
    "train['석식메뉴'][955]=\"없음 없음 없음 없음\"\n",
    "train['석식메뉴'][973]=\"없음 없음 없음 없음\"\n",
    "train['석식메뉴'][993]=\"없음 없음 없음 없음\"\n",
    "train['석식메뉴'][1166]=\"없음 없음 없음 없음\"\n",
    "train['석식메뉴'][586]=\"없음 없음 없음 없음\""
   ]
  },
  {
   "cell_type": "markdown",
   "metadata": {},
   "source": [
    "## 메뉴정리(중식)"
   ]
  },
  {
   "cell_type": "code",
   "execution_count": 489,
   "metadata": {},
   "outputs": [],
   "source": [
    "lunch = []\n",
    "for day in range(len(train)):\n",
    "    tmp = train.iloc[day, 8].split(' ') # 공백으로 문자열 구분 \n",
    "    tmp = ' '.join(tmp).split()    # 빈 원소 삭제\n",
    "\n",
    "    search = '('   # 원산지 정보는 삭제\n",
    "    for menu in tmp:\n",
    "        if search in menu:\n",
    "            tmp.remove(menu)\n",
    "    \n",
    "    lunch.append(tmp) "
   ]
  },
  {
   "cell_type": "code",
   "execution_count": 490,
   "metadata": {},
   "outputs": [],
   "source": [
    "bob=[]\n",
    "guk=[]\n",
    "banchan1=[]\n",
    "\n",
    "for i in range(len(train)):\n",
    "    if lunch[i][0]:\n",
    "        bob.append(lunch[i][0])\n",
    "    if lunch[i][1]:\n",
    "        guk.append(lunch[i][1])\n",
    "    if lunch[i][2]:\n",
    "        banchan1.append(lunch[i][2])"
   ]
  },
  {
   "cell_type": "code",
   "execution_count": 491,
   "metadata": {},
   "outputs": [],
   "source": [
    "train['밥_중식'] = bob\n",
    "train['국_중식'] = guk\n",
    "train['반찬_중식'] = banchan1"
   ]
  },
  {
   "cell_type": "code",
   "execution_count": 451,
   "metadata": {},
   "outputs": [],
   "source": [
    "def bob_handle(x):\n",
    "    if '쌀밥' in x:\n",
    "        return \"밥\"\n",
    "    elif \"카레\" in x:\n",
    "        return '카레'\n",
    "    elif \"비빔\" in x:\n",
    "        return '비빔밥'\n",
    "    elif (\"볶음\" in x) or (\"필라프\" in x) or (\"오므라이스\" in x):\n",
    "        return '볶음밥'    \n",
    "    elif \"곤드레\" in x:\n",
    "        return '곤드레밥' \n",
    "    elif \"콩나물\" in x:\n",
    "        return '콩나물밥' \n",
    "    elif \"영양밥\" in x:\n",
    "        return '영양밥'\n",
    "    elif \"오곡밥\" in x:\n",
    "        return '밥'\n",
    "    elif \"덮밥\" in x:\n",
    "        return '덮밥'\n",
    "    elif \"짜장\" in x:\n",
    "        return '짜장밥'\n",
    "    else:\n",
    "        return x\n",
    "\n",
    "train.밥_중식 = train.밥_중식.apply(bob_handle)"
   ]
  },
  {
   "cell_type": "code",
   "execution_count": 452,
   "metadata": {},
   "outputs": [],
   "source": [
    "def guk_handle(x):\n",
    "    if ('된장' in x) or ('냉이' in x) or ('배추' in x) or ('쑥' in x) or (\"아욱\" in x) or (\"근대\" in x):\n",
    "        return \"된장국\"  \n",
    "    elif (\"김치\" in x) or (\"김칫\" in x):\n",
    "        return '김치국'  \n",
    "    elif \"찌개\" in x:\n",
    "        return '찌개'\n",
    "    elif \"맑은\" in x:\n",
    "        return '맑은국'\n",
    "    elif \"해장\" in x:\n",
    "        return '해장국' \n",
    "    elif (\"장국\" in x) or (\"미소\" in x):\n",
    "        return '미소국'\n",
    "    elif \"스프\" in x:\n",
    "        return '스프'    \n",
    "    elif (\"만두\" in x) or (\"만둣\" in x):\n",
    "        return '만두국' \n",
    "    elif (\"소고기\" in x) or (\"쇠고기\" in x):\n",
    "        return '고깃국'\n",
    "    elif \"떡국\" in x:\n",
    "        return '떡국'\n",
    "    elif \"냉국\" in x:\n",
    "        return '냉국'\n",
    "    elif (\"북어\" in x) or ('북엇' in x) or ('황태' in x):\n",
    "        return '북어국' \n",
    "    elif \"미역\" in x:\n",
    "        return '미역국' \n",
    "    elif \"계란\" in x:\n",
    "        return '계란국' \n",
    "    elif \"들깨국\" in x:\n",
    "        return '들깨국'\n",
    "    elif \"두부국\" in x:\n",
    "        return '두부국' \n",
    "    elif \"버섯\" in x:\n",
    "        return '버섯국'\n",
    "    elif \"어묵\" in x:\n",
    "        return '어묵국'\n",
    "    elif \"육개장\" in x:\n",
    "        return '육개장' \n",
    "    elif \"콩나물\" in x:\n",
    "        return '콩나물국'\n",
    "    elif (\"국수\" in x) or (\"우동\" in x) :\n",
    "        return '면'\n",
    "    elif \"갈비탕\" in x:\n",
    "        return '갈비탕'  \n",
    "    elif \"국밥\" in x:\n",
    "        return '국밥'\n",
    "    elif (\"닭\" in x) or (\"삼계탕\" in x) or (\"백숙\" in x):\n",
    "        return '닭국'\n",
    "    elif \"탕\" in x:\n",
    "        return '탕'\n",
    "    elif \"국\" in x:\n",
    "        return '국'\n",
    "    else:\n",
    "        return x\n",
    "\n",
    "train.국_중식 = train.국_중식.apply(guk_handle)"
   ]
  },
  {
   "cell_type": "code",
   "execution_count": 453,
   "metadata": {},
   "outputs": [],
   "source": [
    "def banchan1_handle(x):\n",
    "    if '오징어' in x:\n",
    "        return \"오징어\"  \n",
    "    elif \"닭\" in x:\n",
    "        return '닭고기'\n",
    "    elif \"오리\" in x:\n",
    "        return '오리고기'\n",
    "    elif \"불고기\" in x:\n",
    "        return '불고기' \n",
    "    elif \"까스\" in x:\n",
    "        return '돈가스'\n",
    "    elif \"가스\" in x:\n",
    "        return '돈가스'    \n",
    "    elif \"치킨\" in x:\n",
    "        return '치킨' \n",
    "    elif \"장조림\" in x:\n",
    "        return '장조림'   \n",
    "    elif \"강정\" in x:\n",
    "        return '강정' \n",
    "    elif (\"고등어\" in x) or (\"삼치\" in x) or (\"갈치\" in x) or (\"굴비\" in x) or (\"가자미\" in x):\n",
    "        return '생선'\n",
    "    elif \"낙지\" in x:\n",
    "        return '낙지'  \n",
    "    elif \"주꾸미\" in x:\n",
    "        return '주꾸미' \n",
    "    elif (\"돼지갈비\" in x) or (\"소갈비\" in x):\n",
    "        return '갈비'\n",
    "    elif \"스테이크\" in x:\n",
    "        if \"함박\" in x:\n",
    "            return '함박스테이크'\n",
    "        else:\n",
    "            return '스테이크'\n",
    "    elif \"함박\" in x:\n",
    "        return '함박스테이크'\n",
    "    elif (\"돈육\" in x) or (\"육\" in x) or (\"삼겹살\" in x) or (\"돼지\" in x) or (\"보쌈\" in x):\n",
    "        return '돼지고기'\n",
    "    elif \"순대\" in x:\n",
    "        return '순대'\n",
    "    elif \"탕수\" in x:\n",
    "        return '탕수'\n",
    "    elif \"새우\" in x:\n",
    "        return '새우'\n",
    "    else:\n",
    "        return x\n",
    "\n",
    "train. 반찬_중식 = train.반찬_중식.apply(banchan1_handle)"
   ]
  },
  {
   "cell_type": "code",
   "execution_count": 492,
   "metadata": {},
   "outputs": [],
   "source": [
    "lunch_test = []\n",
    "for day in range(len(test)):\n",
    "    tmp = test.iloc[day, 8].split(' ') # 공백으로 문자열 구분 \n",
    "    tmp = ' '.join(tmp).split()    # 빈 원소 삭제\n",
    "\n",
    "    search = '('   # 원산지 정보는 삭제\n",
    "    for menu in tmp:\n",
    "        if search in menu:\n",
    "            tmp.remove(menu)\n",
    "    \n",
    "    lunch_test.append(tmp) \n",
    "\n",
    "bob_test=[]\n",
    "guk_test=[]\n",
    "banchan1_test=[]\n",
    "\n",
    "for i in range(len(test)):\n",
    "    if lunch_test[i][0]:\n",
    "        bob_test.append(lunch_test[i][0])\n",
    "    if lunch_test[i][1]:\n",
    "        guk_test.append(lunch_test[i][1])\n",
    "    if lunch_test[i][2]:\n",
    "        banchan1_test.append(lunch_test[i][2])\n",
    "\n",
    "test['밥_중식'] = bob_test\n",
    "test['국_중식'] = guk_test\n",
    "test['반찬_중식'] = banchan1_test"
   ]
  },
  {
   "cell_type": "code",
   "execution_count": 455,
   "metadata": {},
   "outputs": [],
   "source": [
    "test.밥_중식 = test.밥_중식.apply(bob_handle)\n",
    "test.국_중식 = test.국_중식.apply(guk_handle)\n",
    "test. 반찬_중식 = test.반찬_중식.apply(banchan1_handle)"
   ]
  },
  {
   "cell_type": "markdown",
   "metadata": {},
   "source": [
    "## 메뉴정리(저녁)"
   ]
  },
  {
   "cell_type": "code",
   "execution_count": 493,
   "metadata": {},
   "outputs": [],
   "source": [
    "dinner = []\n",
    "for day in range(len(train)):\n",
    "    tmp = train.iloc[day, 9].split(' ') # 공백으로 문자열 구분 \n",
    "    tmp = ' '.join(tmp).split()    # 빈 원소 삭제\n",
    "\n",
    "    search = '('   # 원산지 정보는 삭제\n",
    "    for menu in tmp:\n",
    "        if search in menu:\n",
    "            tmp.remove(menu)\n",
    "    \n",
    "    dinner.append(tmp) "
   ]
  },
  {
   "cell_type": "code",
   "execution_count": 494,
   "metadata": {},
   "outputs": [],
   "source": [
    "bob=[]\n",
    "guk=[]\n",
    "banchan=[]\n",
    "\n",
    "for i in range(len(train)):\n",
    "    if dinner[i][0]:\n",
    "        bob.append(dinner[i][0])\n",
    "    if dinner[i][1]:\n",
    "        guk.append(dinner[i][1])\n",
    "    if dinner[i][2]:\n",
    "        banchan.append(dinner[i][2])"
   ]
  },
  {
   "cell_type": "code",
   "execution_count": 495,
   "metadata": {},
   "outputs": [],
   "source": [
    "train['밥_석식'] = bob\n",
    "train['국_석식'] = guk\n",
    "train['반찬_석식'] = banchan"
   ]
  },
  {
   "cell_type": "code",
   "execution_count": 459,
   "metadata": {},
   "outputs": [],
   "source": [
    "train.밥_석식 = train.밥_석식.apply(bob_handle)\n",
    "train.국_석식 = train.국_석식.apply(guk_handle)\n",
    "train. 반찬_석식 = train.반찬_석식.apply(banchan1_handle)"
   ]
  },
  {
   "cell_type": "code",
   "execution_count": 496,
   "metadata": {},
   "outputs": [],
   "source": [
    "dinner_test = []\n",
    "for day in range(len(test)):\n",
    "    tmp = test.iloc[day, 9].split(' ') # 공백으로 문자열 구분 \n",
    "    tmp = ' '.join(tmp).split()    # 빈 원소 삭제\n",
    "\n",
    "    search = '('   # 원산지 정보는 삭제\n",
    "    for menu in tmp:\n",
    "        if search in menu:\n",
    "            tmp.remove(menu)\n",
    "    \n",
    "    dinner_test.append(tmp) \n",
    "\n",
    "bob_test=[]\n",
    "guk_test=[]\n",
    "banchan1_test=[]\n",
    "\n",
    "for i in range(len(test)):\n",
    "    if dinner_test[i][0]:\n",
    "        bob_test.append(dinner_test[i][0])\n",
    "    if dinner_test[i][1]:\n",
    "        guk_test.append(dinner_test[i][1])\n",
    "    if dinner_test[i][2]:\n",
    "        banchan1_test.append(dinner_test[i][2])\n",
    "\n",
    "test['밥_석식'] = bob_test\n",
    "test['국_석식'] = guk_test\n",
    "test['반찬_석식'] = banchan1_test"
   ]
  },
  {
   "cell_type": "code",
   "execution_count": 461,
   "metadata": {},
   "outputs": [],
   "source": [
    "test.밥_석식 = test.밥_석식.apply(bob_handle)\n",
    "test.국_석식 = test.국_석식.apply(guk_handle)\n",
    "test. 반찬_석식 = test.반찬_석식.apply(banchan1_handle)"
   ]
  },
  {
   "cell_type": "code",
   "execution_count": null,
   "metadata": {},
   "outputs": [],
   "source": []
  },
  {
   "cell_type": "markdown",
   "metadata": {},
   "source": [
    "## 모델링 준비"
   ]
  },
  {
   "cell_type": "code",
   "execution_count": 497,
   "metadata": {
    "executionInfo": {
     "elapsed": 6,
     "status": "ok",
     "timestamp": 1644765640323,
     "user": {
      "displayName": "김재민",
      "photoUrl": "https://lh3.googleusercontent.com/a/default-user=s64",
      "userId": "14133616262020169823"
     },
     "user_tz": -540
    },
    "id": "H9foIvmTu7iK"
   },
   "outputs": [],
   "source": [
    "X1_train = train.drop(['일자','요일', '본사정원수', '본사휴가자수', '본사출장자수',\n",
    "                       '본사시간외근무명령서승인건수', '현본사소속재택근무자수',\n",
    "                       '년','조식메뉴','중식메뉴',\n",
    "                       '석식메뉴','중식계','석식계','요일_석식',\n",
    "                      '밥_석식','국_석식','반찬_석식'], axis=1)\n",
    "X2_train = train.drop(['일자','요일', '본사정원수', '본사휴가자수', '본사출장자수',\n",
    "                       '본사시간외근무명령서승인건수', '현본사소속재택근무자수',\n",
    "                       '년','조식메뉴','중식메뉴',\n",
    "                       '석식메뉴','중식계','석식계','요일_중식',\n",
    "                      '밥_중식','국_중식','반찬_중식'], axis=1)\n",
    "y1_train = train.중식계\n",
    "y2_train = train.석식계\n",
    "\n",
    "X1_test = test.drop(['일자','요일', '본사정원수', '본사휴가자수', '본사출장자수',\n",
    "                    '본사시간외근무명령서승인건수', '현본사소속재택근무자수',\n",
    "                    '년','조식메뉴','중식메뉴','석식메뉴', '요일_석식',\n",
    "                    '밥_석식','국_석식','반찬_석식'],axis=1)\n",
    "X2_test = test.drop(['일자','요일', '본사정원수', '본사휴가자수', '본사출장자수',\n",
    "                    '본사시간외근무명령서승인건수', '현본사소속재택근무자수',\n",
    "                    '년','조식메뉴','중식메뉴','석식메뉴','요일_중식',\n",
    "                    '밥_중식','국_중식','반찬_중식'],axis=1)"
   ]
  },
  {
   "cell_type": "code",
   "execution_count": 498,
   "metadata": {},
   "outputs": [],
   "source": [
    "#index_0 = train[train['석식계']==0].index\n",
    "#X2_train = X2_train.drop(index_0)\n",
    "#y2_train = y2_train.drop(index_0)\n",
    "\n",
    "## 석식계가 0인 행을 지우면 점수가 더 떨어진다. 내가한거 기준"
   ]
  },
  {
   "cell_type": "code",
   "execution_count": 499,
   "metadata": {},
   "outputs": [],
   "source": [
    "#print(X2_train.shape,y2_train.shape)"
   ]
  },
  {
   "cell_type": "code",
   "execution_count": 500,
   "metadata": {},
   "outputs": [],
   "source": [
    "cat_features=['밥_중식','국_중식','반찬_중식']\n",
    "features = pd.concat([X1_train, X1_test]).reset_index(drop=True)\n",
    "\n",
    "for i in cat_features:\n",
    "    features[i] = LabelEncoder().fit_transform(features[i])\n",
    "    \n",
    "X1_train = features[:X1_train.shape[0]]\n",
    "X1_test = features[X1_train.shape[0]:]"
   ]
  },
  {
   "cell_type": "code",
   "execution_count": 501,
   "metadata": {},
   "outputs": [],
   "source": [
    "cat_features2=['밥_석식','국_석식','반찬_석식']\n",
    "features2 = pd.concat([X2_train, X2_test]).reset_index(drop=True)\n",
    "\n",
    "for i in cat_features2:\n",
    "    features2[i] = LabelEncoder().fit_transform(features2[i])\n",
    "    \n",
    "X2_train = features2[:X2_train.shape[0]]\n",
    "X2_test = features2[X2_train.shape[0]:]"
   ]
  },
  {
   "cell_type": "code",
   "execution_count": 502,
   "metadata": {
    "executionInfo": {
     "elapsed": 4,
     "status": "ok",
     "timestamp": 1644765643822,
     "user": {
      "displayName": "김재민",
      "photoUrl": "https://lh3.googleusercontent.com/a/default-user=s64",
      "userId": "14133616262020169823"
     },
     "user_tz": -540
    },
    "id": "VuXkwzGksJOc"
   },
   "outputs": [],
   "source": [
    "model1 = LGBMRegressor(random_state=42)\n",
    "model2 = LGBMRegressor(random_state=42)"
   ]
  },
  {
   "cell_type": "code",
   "execution_count": 503,
   "metadata": {
    "colab": {
     "base_uri": "https://localhost:8080/"
    },
    "executionInfo": {
     "elapsed": 457,
     "status": "ok",
     "timestamp": 1644765645361,
     "user": {
      "displayName": "김재민",
      "photoUrl": "https://lh3.googleusercontent.com/a/default-user=s64",
      "userId": "14133616262020169823"
     },
     "user_tz": -540
    },
    "id": "40UAakJ1sJOk",
    "outputId": "0940f38a-d95b-4969-b57f-cf35a75146b2"
   },
   "outputs": [
    {
     "data": {
      "text/plain": [
       "LGBMRegressor(random_state=42)"
      ]
     },
     "execution_count": 503,
     "metadata": {},
     "output_type": "execute_result"
    }
   ],
   "source": [
    "model1.fit(X1_train, y1_train)"
   ]
  },
  {
   "cell_type": "code",
   "execution_count": 504,
   "metadata": {},
   "outputs": [
    {
     "data": {
      "text/plain": [
       "LGBMRegressor(random_state=42)"
      ]
     },
     "execution_count": 504,
     "metadata": {},
     "output_type": "execute_result"
    }
   ],
   "source": [
    "model2.fit(X2_train, y2_train)"
   ]
  },
  {
   "cell_type": "code",
   "execution_count": 505,
   "metadata": {
    "executionInfo": {
     "elapsed": 8,
     "status": "ok",
     "timestamp": 1644765646414,
     "user": {
      "displayName": "김재민",
      "photoUrl": "https://lh3.googleusercontent.com/a/default-user=s64",
      "userId": "14133616262020169823"
     },
     "user_tz": -540
    },
    "id": "HaYyBR8tGoSo"
   },
   "outputs": [],
   "source": [
    "pred1 = model1.predict(X1_test)\n",
    "pred2 = model2.predict(X2_test)"
   ]
  },
  {
   "cell_type": "code",
   "execution_count": 506,
   "metadata": {
    "executionInfo": {
     "elapsed": 9,
     "status": "ok",
     "timestamp": 1644765647570,
     "user": {
      "displayName": "김재민",
      "photoUrl": "https://lh3.googleusercontent.com/a/default-user=s64",
      "userId": "14133616262020169823"
     },
     "user_tz": -540
    },
    "id": "iGqjswmSsJOk"
   },
   "outputs": [],
   "source": [
    "sample['중식계'] = pred1\n",
    "sample['석식계'] = pred2\n",
    "\n",
    "sample.to_csv('test1.csv', index=False)"
   ]
  },
  {
   "cell_type": "code",
   "execution_count": null,
   "metadata": {
    "id": "ABKWZAUIw06x"
   },
   "outputs": [],
   "source": [
    "# 퍼블릭: 77.0141411973\n",
    "# 프라이빗: 117.3859862906\n"
   ]
  }
 ],
 "metadata": {
  "colab": {
   "collapsed_sections": [],
   "name": "1.ipynb",
   "provenance": []
  },
  "kernelspec": {
   "display_name": "Python 3",
   "language": "python",
   "name": "python3"
  },
  "language_info": {
   "codemirror_mode": {
    "name": "ipython",
    "version": 3
   },
   "file_extension": ".py",
   "mimetype": "text/x-python",
   "name": "python",
   "nbconvert_exporter": "python",
   "pygments_lexer": "ipython3",
   "version": "3.8.5"
  }
 },
 "nbformat": 4,
 "nbformat_minor": 1
}
