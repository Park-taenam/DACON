{
 "cells": [
  {
   "cell_type": "markdown",
   "metadata": {},
   "source": [
    "# EDA"
   ]
  },
  {
   "cell_type": "code",
   "execution_count": 40,
   "metadata": {
    "ExecuteTime": {
     "end_time": "2021-12-29T14:45:27.094116Z",
     "start_time": "2021-12-29T14:45:27.086145Z"
    }
   },
   "outputs": [],
   "source": [
    "import pandas as pd\n",
    "import numpy as np\n",
    "import matplotlib.pyplot as plt\n",
    "import seaborn as sns\n",
    "from sklearn.preprocessing import LabelEncoder\n",
    "\n",
    "%matplotlib inline\n",
    "plt.style.use(\"ggplot\")"
   ]
  },
  {
   "cell_type": "code",
   "execution_count": 41,
   "metadata": {
    "ExecuteTime": {
     "end_time": "2021-12-29T14:45:27.135201Z",
     "start_time": "2021-12-29T14:45:27.096116Z"
    },
    "scrolled": true
   },
   "outputs": [
    {
     "data": {
      "text/html": [
       "<div>\n",
       "<style scoped>\n",
       "    .dataframe tbody tr th:only-of-type {\n",
       "        vertical-align: middle;\n",
       "    }\n",
       "\n",
       "    .dataframe tbody tr th {\n",
       "        vertical-align: top;\n",
       "    }\n",
       "\n",
       "    .dataframe thead th {\n",
       "        text-align: right;\n",
       "    }\n",
       "</style>\n",
       "<table border=\"1\" class=\"dataframe\">\n",
       "  <thead>\n",
       "    <tr style=\"text-align: right;\">\n",
       "      <th></th>\n",
       "      <th>Species</th>\n",
       "      <th>Island</th>\n",
       "      <th>Clutch Completion</th>\n",
       "      <th>Culmen Length (mm)</th>\n",
       "      <th>Culmen Depth (mm)</th>\n",
       "      <th>Flipper Length (mm)</th>\n",
       "      <th>Sex</th>\n",
       "      <th>Delta 15 N (o/oo)</th>\n",
       "      <th>Delta 13 C (o/oo)</th>\n",
       "      <th>Body Mass (g)</th>\n",
       "    </tr>\n",
       "  </thead>\n",
       "  <tbody>\n",
       "    <tr>\n",
       "      <th>0</th>\n",
       "      <td>Gentoo penguin (Pygoscelis papua)</td>\n",
       "      <td>Biscoe</td>\n",
       "      <td>Yes</td>\n",
       "      <td>50.0</td>\n",
       "      <td>15.3</td>\n",
       "      <td>220</td>\n",
       "      <td>MALE</td>\n",
       "      <td>8.30515</td>\n",
       "      <td>-25.19017</td>\n",
       "      <td>5550</td>\n",
       "    </tr>\n",
       "    <tr>\n",
       "      <th>1</th>\n",
       "      <td>Chinstrap penguin (Pygoscelis antarctica)</td>\n",
       "      <td>Dream</td>\n",
       "      <td>No</td>\n",
       "      <td>49.5</td>\n",
       "      <td>19.0</td>\n",
       "      <td>200</td>\n",
       "      <td>MALE</td>\n",
       "      <td>9.63074</td>\n",
       "      <td>-24.34684</td>\n",
       "      <td>3800</td>\n",
       "    </tr>\n",
       "    <tr>\n",
       "      <th>2</th>\n",
       "      <td>Gentoo penguin (Pygoscelis papua)</td>\n",
       "      <td>Biscoe</td>\n",
       "      <td>Yes</td>\n",
       "      <td>45.1</td>\n",
       "      <td>14.4</td>\n",
       "      <td>210</td>\n",
       "      <td>FEMALE</td>\n",
       "      <td>8.51951</td>\n",
       "      <td>-27.01854</td>\n",
       "      <td>4400</td>\n",
       "    </tr>\n",
       "    <tr>\n",
       "      <th>3</th>\n",
       "      <td>Gentoo penguin (Pygoscelis papua)</td>\n",
       "      <td>Biscoe</td>\n",
       "      <td>Yes</td>\n",
       "      <td>44.5</td>\n",
       "      <td>14.7</td>\n",
       "      <td>214</td>\n",
       "      <td>FEMALE</td>\n",
       "      <td>8.20106</td>\n",
       "      <td>-26.16524</td>\n",
       "      <td>4850</td>\n",
       "    </tr>\n",
       "    <tr>\n",
       "      <th>4</th>\n",
       "      <td>Gentoo penguin (Pygoscelis papua)</td>\n",
       "      <td>Biscoe</td>\n",
       "      <td>No</td>\n",
       "      <td>49.6</td>\n",
       "      <td>16.0</td>\n",
       "      <td>225</td>\n",
       "      <td>MALE</td>\n",
       "      <td>8.38324</td>\n",
       "      <td>-26.84272</td>\n",
       "      <td>5700</td>\n",
       "    </tr>\n",
       "    <tr>\n",
       "      <th>...</th>\n",
       "      <td>...</td>\n",
       "      <td>...</td>\n",
       "      <td>...</td>\n",
       "      <td>...</td>\n",
       "      <td>...</td>\n",
       "      <td>...</td>\n",
       "      <td>...</td>\n",
       "      <td>...</td>\n",
       "      <td>...</td>\n",
       "      <td>...</td>\n",
       "    </tr>\n",
       "    <tr>\n",
       "      <th>109</th>\n",
       "      <td>Adelie Penguin (Pygoscelis adeliae)</td>\n",
       "      <td>Torgersen</td>\n",
       "      <td>Yes</td>\n",
       "      <td>36.6</td>\n",
       "      <td>17.8</td>\n",
       "      <td>185</td>\n",
       "      <td>FEMALE</td>\n",
       "      <td>NaN</td>\n",
       "      <td>NaN</td>\n",
       "      <td>3700</td>\n",
       "    </tr>\n",
       "    <tr>\n",
       "      <th>110</th>\n",
       "      <td>Adelie Penguin (Pygoscelis adeliae)</td>\n",
       "      <td>Dream</td>\n",
       "      <td>Yes</td>\n",
       "      <td>39.2</td>\n",
       "      <td>18.6</td>\n",
       "      <td>190</td>\n",
       "      <td>MALE</td>\n",
       "      <td>9.11006</td>\n",
       "      <td>-25.79549</td>\n",
       "      <td>4250</td>\n",
       "    </tr>\n",
       "    <tr>\n",
       "      <th>111</th>\n",
       "      <td>Adelie Penguin (Pygoscelis adeliae)</td>\n",
       "      <td>Dream</td>\n",
       "      <td>Yes</td>\n",
       "      <td>43.2</td>\n",
       "      <td>18.5</td>\n",
       "      <td>192</td>\n",
       "      <td>MALE</td>\n",
       "      <td>8.97025</td>\n",
       "      <td>-26.03679</td>\n",
       "      <td>4100</td>\n",
       "    </tr>\n",
       "    <tr>\n",
       "      <th>112</th>\n",
       "      <td>Chinstrap penguin (Pygoscelis antarctica)</td>\n",
       "      <td>Dream</td>\n",
       "      <td>No</td>\n",
       "      <td>46.9</td>\n",
       "      <td>16.6</td>\n",
       "      <td>192</td>\n",
       "      <td>FEMALE</td>\n",
       "      <td>9.80589</td>\n",
       "      <td>-24.73735</td>\n",
       "      <td>2700</td>\n",
       "    </tr>\n",
       "    <tr>\n",
       "      <th>113</th>\n",
       "      <td>Gentoo penguin (Pygoscelis papua)</td>\n",
       "      <td>Biscoe</td>\n",
       "      <td>Yes</td>\n",
       "      <td>50.8</td>\n",
       "      <td>17.3</td>\n",
       "      <td>228</td>\n",
       "      <td>MALE</td>\n",
       "      <td>8.27428</td>\n",
       "      <td>-26.30019</td>\n",
       "      <td>5600</td>\n",
       "    </tr>\n",
       "  </tbody>\n",
       "</table>\n",
       "<p>114 rows × 10 columns</p>\n",
       "</div>"
      ],
      "text/plain": [
       "                                       Species     Island Clutch Completion  \\\n",
       "0            Gentoo penguin (Pygoscelis papua)     Biscoe               Yes   \n",
       "1    Chinstrap penguin (Pygoscelis antarctica)      Dream                No   \n",
       "2            Gentoo penguin (Pygoscelis papua)     Biscoe               Yes   \n",
       "3            Gentoo penguin (Pygoscelis papua)     Biscoe               Yes   \n",
       "4            Gentoo penguin (Pygoscelis papua)     Biscoe                No   \n",
       "..                                         ...        ...               ...   \n",
       "109        Adelie Penguin (Pygoscelis adeliae)  Torgersen               Yes   \n",
       "110        Adelie Penguin (Pygoscelis adeliae)      Dream               Yes   \n",
       "111        Adelie Penguin (Pygoscelis adeliae)      Dream               Yes   \n",
       "112  Chinstrap penguin (Pygoscelis antarctica)      Dream                No   \n",
       "113          Gentoo penguin (Pygoscelis papua)     Biscoe               Yes   \n",
       "\n",
       "     Culmen Length (mm)  Culmen Depth (mm)  Flipper Length (mm)     Sex  \\\n",
       "0                  50.0               15.3                  220    MALE   \n",
       "1                  49.5               19.0                  200    MALE   \n",
       "2                  45.1               14.4                  210  FEMALE   \n",
       "3                  44.5               14.7                  214  FEMALE   \n",
       "4                  49.6               16.0                  225    MALE   \n",
       "..                  ...                ...                  ...     ...   \n",
       "109                36.6               17.8                  185  FEMALE   \n",
       "110                39.2               18.6                  190    MALE   \n",
       "111                43.2               18.5                  192    MALE   \n",
       "112                46.9               16.6                  192  FEMALE   \n",
       "113                50.8               17.3                  228    MALE   \n",
       "\n",
       "     Delta 15 N (o/oo)  Delta 13 C (o/oo)  Body Mass (g)  \n",
       "0              8.30515          -25.19017           5550  \n",
       "1              9.63074          -24.34684           3800  \n",
       "2              8.51951          -27.01854           4400  \n",
       "3              8.20106          -26.16524           4850  \n",
       "4              8.38324          -26.84272           5700  \n",
       "..                 ...                ...            ...  \n",
       "109                NaN                NaN           3700  \n",
       "110            9.11006          -25.79549           4250  \n",
       "111            8.97025          -26.03679           4100  \n",
       "112            9.80589          -24.73735           2700  \n",
       "113            8.27428          -26.30019           5600  \n",
       "\n",
       "[114 rows x 10 columns]"
      ]
     },
     "execution_count": 41,
     "metadata": {},
     "output_type": "execute_result"
    }
   ],
   "source": [
    "data = pd.read_csv('data/train.csv')\n",
    "data = data.drop('id', axis=1)\n",
    "data"
   ]
  },
  {
   "cell_type": "markdown",
   "metadata": {},
   "source": [
    "## basic"
   ]
  },
  {
   "cell_type": "code",
   "execution_count": 42,
   "metadata": {
    "ExecuteTime": {
     "end_time": "2021-12-29T14:45:27.144227Z",
     "start_time": "2021-12-29T14:45:27.138207Z"
    }
   },
   "outputs": [
    {
     "data": {
      "text/plain": [
       "(114, 10)"
      ]
     },
     "execution_count": 42,
     "metadata": {},
     "output_type": "execute_result"
    }
   ],
   "source": [
    "data.shape"
   ]
  },
  {
   "cell_type": "code",
   "execution_count": 43,
   "metadata": {
    "ExecuteTime": {
     "end_time": "2021-12-29T14:45:27.161210Z",
     "start_time": "2021-12-29T14:45:27.147209Z"
    }
   },
   "outputs": [
    {
     "name": "stdout",
     "output_type": "stream",
     "text": [
      "<class 'pandas.core.frame.DataFrame'>\n",
      "RangeIndex: 114 entries, 0 to 113\n",
      "Data columns (total 10 columns):\n",
      " #   Column               Non-Null Count  Dtype  \n",
      "---  ------               --------------  -----  \n",
      " 0   Species              114 non-null    object \n",
      " 1   Island               114 non-null    object \n",
      " 2   Clutch Completion    114 non-null    object \n",
      " 3   Culmen Length (mm)   114 non-null    float64\n",
      " 4   Culmen Depth (mm)    114 non-null    float64\n",
      " 5   Flipper Length (mm)  114 non-null    int64  \n",
      " 6   Sex                  111 non-null    object \n",
      " 7   Delta 15 N (o/oo)    111 non-null    float64\n",
      " 8   Delta 13 C (o/oo)    111 non-null    float64\n",
      " 9   Body Mass (g)        114 non-null    int64  \n",
      "dtypes: float64(4), int64(2), object(4)\n",
      "memory usage: 9.0+ KB\n"
     ]
    }
   ],
   "source": [
    "data.info()"
   ]
  },
  {
   "cell_type": "markdown",
   "metadata": {},
   "source": [
    "## null"
   ]
  },
  {
   "cell_type": "code",
   "execution_count": 44,
   "metadata": {
    "ExecuteTime": {
     "end_time": "2021-12-29T14:45:27.172216Z",
     "start_time": "2021-12-29T14:45:27.163208Z"
    }
   },
   "outputs": [
    {
     "data": {
      "text/plain": [
       "Species                0\n",
       "Island                 0\n",
       "Clutch Completion      0\n",
       "Culmen Length (mm)     0\n",
       "Culmen Depth (mm)      0\n",
       "Flipper Length (mm)    0\n",
       "Sex                    3\n",
       "Delta 15 N (o/oo)      3\n",
       "Delta 13 C (o/oo)      3\n",
       "Body Mass (g)          0\n",
       "dtype: int64"
      ]
     },
     "execution_count": 44,
     "metadata": {},
     "output_type": "execute_result"
    }
   ],
   "source": [
    "data.isnull().sum()"
   ]
  },
  {
   "cell_type": "code",
   "execution_count": 45,
   "metadata": {
    "ExecuteTime": {
     "end_time": "2021-12-29T14:45:27.185202Z",
     "start_time": "2021-12-29T14:45:27.176208Z"
    }
   },
   "outputs": [
    {
     "name": "stdout",
     "output_type": "stream",
     "text": [
      "결측치가 있는 컬럼은: Sex입니다\n",
      "해당 컬럼에 총 3개의 결측치가 존재합니다.\n",
      "결측치가 있는 컬럼은: Delta 15 N (o/oo)입니다\n",
      "해당 컬럼에 총 3개의 결측치가 존재합니다.\n",
      "결측치가 있는 컬럼은: Delta 13 C (o/oo)입니다\n",
      "해당 컬럼에 총 3개의 결측치가 존재합니다.\n"
     ]
    }
   ],
   "source": [
    "def check_missing_col(dataframe):\n",
    "    missing_col = []\n",
    "    counted_missing_col = 0\n",
    "    for i, col in enumerate(dataframe.columns):\n",
    "        missing_values = sum(dataframe[col].isna())\n",
    "        is_missing = True if missing_values >= 1 else False\n",
    "        if is_missing:\n",
    "            counted_missing_col += 1\n",
    "            print(f'결측치가 있는 컬럼은: {col}입니다')\n",
    "            print(f'해당 컬럼에 총 {missing_values}개의 결측치가 존재합니다.')\n",
    "            missing_col.append([col, dataframe[col].dtype])\n",
    "    if counted_missing_col == 0:\n",
    "        print('결측치가 존재하지 않습니다')\n",
    "    return missing_col\n",
    "\n",
    "missing_col = check_missing_col(data)"
   ]
  },
  {
   "cell_type": "code",
   "execution_count": 46,
   "metadata": {
    "ExecuteTime": {
     "end_time": "2021-12-29T14:45:27.214213Z",
     "start_time": "2021-12-29T14:45:27.188200Z"
    }
   },
   "outputs": [
    {
     "data": {
      "text/html": [
       "<div>\n",
       "<style scoped>\n",
       "    .dataframe tbody tr th:only-of-type {\n",
       "        vertical-align: middle;\n",
       "    }\n",
       "\n",
       "    .dataframe tbody tr th {\n",
       "        vertical-align: top;\n",
       "    }\n",
       "\n",
       "    .dataframe thead th {\n",
       "        text-align: right;\n",
       "    }\n",
       "</style>\n",
       "<table border=\"1\" class=\"dataframe\">\n",
       "  <thead>\n",
       "    <tr style=\"text-align: right;\">\n",
       "      <th></th>\n",
       "      <th>Species</th>\n",
       "      <th>Island</th>\n",
       "      <th>Clutch Completion</th>\n",
       "      <th>Culmen Length (mm)</th>\n",
       "      <th>Culmen Depth (mm)</th>\n",
       "      <th>Flipper Length (mm)</th>\n",
       "      <th>Sex</th>\n",
       "      <th>Delta 15 N (o/oo)</th>\n",
       "      <th>Delta 13 C (o/oo)</th>\n",
       "      <th>Body Mass (g)</th>\n",
       "    </tr>\n",
       "  </thead>\n",
       "  <tbody>\n",
       "    <tr>\n",
       "      <th>6</th>\n",
       "      <td>Adelie Penguin (Pygoscelis adeliae)</td>\n",
       "      <td>Torgersen</td>\n",
       "      <td>Yes</td>\n",
       "      <td>42.0</td>\n",
       "      <td>20.2</td>\n",
       "      <td>190</td>\n",
       "      <td>NaN</td>\n",
       "      <td>9.13362</td>\n",
       "      <td>-25.09368</td>\n",
       "      <td>4250</td>\n",
       "    </tr>\n",
       "    <tr>\n",
       "      <th>8</th>\n",
       "      <td>Adelie Penguin (Pygoscelis adeliae)</td>\n",
       "      <td>Torgersen</td>\n",
       "      <td>Yes</td>\n",
       "      <td>34.1</td>\n",
       "      <td>18.1</td>\n",
       "      <td>193</td>\n",
       "      <td>NaN</td>\n",
       "      <td>NaN</td>\n",
       "      <td>NaN</td>\n",
       "      <td>3475</td>\n",
       "    </tr>\n",
       "    <tr>\n",
       "      <th>18</th>\n",
       "      <td>Adelie Penguin (Pygoscelis adeliae)</td>\n",
       "      <td>Dream</td>\n",
       "      <td>No</td>\n",
       "      <td>39.8</td>\n",
       "      <td>19.1</td>\n",
       "      <td>184</td>\n",
       "      <td>MALE</td>\n",
       "      <td>NaN</td>\n",
       "      <td>NaN</td>\n",
       "      <td>4650</td>\n",
       "    </tr>\n",
       "    <tr>\n",
       "      <th>70</th>\n",
       "      <td>Gentoo penguin (Pygoscelis papua)</td>\n",
       "      <td>Biscoe</td>\n",
       "      <td>Yes</td>\n",
       "      <td>46.2</td>\n",
       "      <td>14.4</td>\n",
       "      <td>214</td>\n",
       "      <td>NaN</td>\n",
       "      <td>8.24253</td>\n",
       "      <td>-26.81540</td>\n",
       "      <td>4650</td>\n",
       "    </tr>\n",
       "    <tr>\n",
       "      <th>109</th>\n",
       "      <td>Adelie Penguin (Pygoscelis adeliae)</td>\n",
       "      <td>Torgersen</td>\n",
       "      <td>Yes</td>\n",
       "      <td>36.6</td>\n",
       "      <td>17.8</td>\n",
       "      <td>185</td>\n",
       "      <td>FEMALE</td>\n",
       "      <td>NaN</td>\n",
       "      <td>NaN</td>\n",
       "      <td>3700</td>\n",
       "    </tr>\n",
       "  </tbody>\n",
       "</table>\n",
       "</div>"
      ],
      "text/plain": [
       "                                 Species     Island Clutch Completion  \\\n",
       "6    Adelie Penguin (Pygoscelis adeliae)  Torgersen               Yes   \n",
       "8    Adelie Penguin (Pygoscelis adeliae)  Torgersen               Yes   \n",
       "18   Adelie Penguin (Pygoscelis adeliae)      Dream                No   \n",
       "70     Gentoo penguin (Pygoscelis papua)     Biscoe               Yes   \n",
       "109  Adelie Penguin (Pygoscelis adeliae)  Torgersen               Yes   \n",
       "\n",
       "     Culmen Length (mm)  Culmen Depth (mm)  Flipper Length (mm)     Sex  \\\n",
       "6                  42.0               20.2                  190     NaN   \n",
       "8                  34.1               18.1                  193     NaN   \n",
       "18                 39.8               19.1                  184    MALE   \n",
       "70                 46.2               14.4                  214     NaN   \n",
       "109                36.6               17.8                  185  FEMALE   \n",
       "\n",
       "     Delta 15 N (o/oo)  Delta 13 C (o/oo)  Body Mass (g)  \n",
       "6              9.13362          -25.09368           4250  \n",
       "8                  NaN                NaN           3475  \n",
       "18                 NaN                NaN           4650  \n",
       "70             8.24253          -26.81540           4650  \n",
       "109                NaN                NaN           3700  "
      ]
     },
     "execution_count": 46,
     "metadata": {},
     "output_type": "execute_result"
    }
   ],
   "source": [
    "data[data.isnull().sum(axis=1) > 0]"
   ]
  },
  {
   "cell_type": "code",
   "execution_count": 47,
   "metadata": {
    "ExecuteTime": {
     "end_time": "2021-12-29T14:45:27.238201Z",
     "start_time": "2021-12-29T14:45:27.222204Z"
    }
   },
   "outputs": [
    {
     "name": "stdout",
     "output_type": "stream",
     "text": [
      "결측치가 존재하지 않습니다\n"
     ]
    }
   ],
   "source": [
    "# 결측치들에 대해서 어떤 특별한 패턴은 보이지 않음\n",
    "# 카테고리형 데이터에 대해서는 행을 삭제하고\n",
    "# 수치형 데이터에 대해서는 평균값 채우기\n",
    "\n",
    "# 결측치를 처리하는 함수\n",
    "def handle_na(data, missing_col):\n",
    "    temp = data.copy()\n",
    "    for col, dtype in missing_col:\n",
    "        if dtype == 'O':\n",
    "            # 카테고리형 feature가 결측치인 경우 해당 행들을 삭제\n",
    "            temp = temp.dropna(subset=[col])\n",
    "        elif dtype == int or dtype == float:\n",
    "            # 수치형 feature가 결측치인 경우 평균값\n",
    "            temp.loc[:,col] = temp[col].fillna(temp[col].mean())\n",
    "    return temp\n",
    "\n",
    "data = handle_na(data, missing_col)\n",
    "\n",
    "# 결측치 처리가 잘 되었는지 확인\n",
    "missing_col = check_missing_col(data) "
   ]
  },
  {
   "cell_type": "markdown",
   "metadata": {},
   "source": [
    "## basic too"
   ]
  },
  {
   "cell_type": "code",
   "execution_count": 48,
   "metadata": {
    "ExecuteTime": {
     "end_time": "2021-12-29T14:45:27.248202Z",
     "start_time": "2021-12-29T14:45:27.242205Z"
    }
   },
   "outputs": [
    {
     "data": {
      "text/plain": [
       "(111, 10)"
      ]
     },
     "execution_count": 48,
     "metadata": {},
     "output_type": "execute_result"
    }
   ],
   "source": [
    "data.shape"
   ]
  },
  {
   "cell_type": "code",
   "execution_count": 49,
   "metadata": {
    "ExecuteTime": {
     "end_time": "2021-12-29T14:45:27.280207Z",
     "start_time": "2021-12-29T14:45:27.250205Z"
    }
   },
   "outputs": [
    {
     "data": {
      "text/html": [
       "<div>\n",
       "<style scoped>\n",
       "    .dataframe tbody tr th:only-of-type {\n",
       "        vertical-align: middle;\n",
       "    }\n",
       "\n",
       "    .dataframe tbody tr th {\n",
       "        vertical-align: top;\n",
       "    }\n",
       "\n",
       "    .dataframe thead th {\n",
       "        text-align: right;\n",
       "    }\n",
       "</style>\n",
       "<table border=\"1\" class=\"dataframe\">\n",
       "  <thead>\n",
       "    <tr style=\"text-align: right;\">\n",
       "      <th></th>\n",
       "      <th>Culmen Length (mm)</th>\n",
       "      <th>Culmen Depth (mm)</th>\n",
       "      <th>Flipper Length (mm)</th>\n",
       "      <th>Delta 15 N (o/oo)</th>\n",
       "      <th>Delta 13 C (o/oo)</th>\n",
       "      <th>Body Mass (g)</th>\n",
       "    </tr>\n",
       "  </thead>\n",
       "  <tbody>\n",
       "    <tr>\n",
       "      <th>count</th>\n",
       "      <td>111.000000</td>\n",
       "      <td>111.000000</td>\n",
       "      <td>111.000000</td>\n",
       "      <td>111.000000</td>\n",
       "      <td>111.000000</td>\n",
       "      <td>111.000000</td>\n",
       "    </tr>\n",
       "    <tr>\n",
       "      <th>mean</th>\n",
       "      <td>44.717117</td>\n",
       "      <td>17.000000</td>\n",
       "      <td>203.162162</td>\n",
       "      <td>8.738543</td>\n",
       "      <td>-25.718804</td>\n",
       "      <td>4333.333333</td>\n",
       "    </tr>\n",
       "    <tr>\n",
       "      <th>std</th>\n",
       "      <td>5.290899</td>\n",
       "      <td>1.925192</td>\n",
       "      <td>14.731253</td>\n",
       "      <td>0.564470</td>\n",
       "      <td>0.851332</td>\n",
       "      <td>787.518639</td>\n",
       "    </tr>\n",
       "    <tr>\n",
       "      <th>min</th>\n",
       "      <td>33.500000</td>\n",
       "      <td>13.200000</td>\n",
       "      <td>174.000000</td>\n",
       "      <td>7.632200</td>\n",
       "      <td>-27.018540</td>\n",
       "      <td>2700.000000</td>\n",
       "    </tr>\n",
       "    <tr>\n",
       "      <th>25%</th>\n",
       "      <td>40.450000</td>\n",
       "      <td>15.250000</td>\n",
       "      <td>190.000000</td>\n",
       "      <td>8.274020</td>\n",
       "      <td>-26.408475</td>\n",
       "      <td>3675.000000</td>\n",
       "    </tr>\n",
       "    <tr>\n",
       "      <th>50%</th>\n",
       "      <td>45.200000</td>\n",
       "      <td>17.200000</td>\n",
       "      <td>199.000000</td>\n",
       "      <td>8.634880</td>\n",
       "      <td>-25.898340</td>\n",
       "      <td>4250.000000</td>\n",
       "    </tr>\n",
       "    <tr>\n",
       "      <th>75%</th>\n",
       "      <td>49.150000</td>\n",
       "      <td>18.600000</td>\n",
       "      <td>216.000000</td>\n",
       "      <td>9.264635</td>\n",
       "      <td>-25.005945</td>\n",
       "      <td>4875.000000</td>\n",
       "    </tr>\n",
       "    <tr>\n",
       "      <th>max</th>\n",
       "      <td>55.100000</td>\n",
       "      <td>21.100000</td>\n",
       "      <td>231.000000</td>\n",
       "      <td>10.025440</td>\n",
       "      <td>-24.102550</td>\n",
       "      <td>6300.000000</td>\n",
       "    </tr>\n",
       "  </tbody>\n",
       "</table>\n",
       "</div>"
      ],
      "text/plain": [
       "       Culmen Length (mm)  Culmen Depth (mm)  Flipper Length (mm)  \\\n",
       "count          111.000000         111.000000           111.000000   \n",
       "mean            44.717117          17.000000           203.162162   \n",
       "std              5.290899           1.925192            14.731253   \n",
       "min             33.500000          13.200000           174.000000   \n",
       "25%             40.450000          15.250000           190.000000   \n",
       "50%             45.200000          17.200000           199.000000   \n",
       "75%             49.150000          18.600000           216.000000   \n",
       "max             55.100000          21.100000           231.000000   \n",
       "\n",
       "       Delta 15 N (o/oo)  Delta 13 C (o/oo)  Body Mass (g)  \n",
       "count         111.000000         111.000000     111.000000  \n",
       "mean            8.738543         -25.718804    4333.333333  \n",
       "std             0.564470           0.851332     787.518639  \n",
       "min             7.632200         -27.018540    2700.000000  \n",
       "25%             8.274020         -26.408475    3675.000000  \n",
       "50%             8.634880         -25.898340    4250.000000  \n",
       "75%             9.264635         -25.005945    4875.000000  \n",
       "max            10.025440         -24.102550    6300.000000  "
      ]
     },
     "execution_count": 49,
     "metadata": {},
     "output_type": "execute_result"
    }
   ],
   "source": [
    "data.describe()"
   ]
  },
  {
   "cell_type": "code",
   "execution_count": 50,
   "metadata": {
    "ExecuteTime": {
     "end_time": "2021-12-29T14:45:27.294205Z",
     "start_time": "2021-12-29T14:45:27.285217Z"
    }
   },
   "outputs": [
    {
     "data": {
      "text/plain": [
       "Species                 object\n",
       "Island                  object\n",
       "Clutch Completion       object\n",
       "Culmen Length (mm)     float64\n",
       "Culmen Depth (mm)      float64\n",
       "Flipper Length (mm)      int64\n",
       "Sex                     object\n",
       "Delta 15 N (o/oo)      float64\n",
       "Delta 13 C (o/oo)      float64\n",
       "Body Mass (g)            int64\n",
       "dtype: object"
      ]
     },
     "execution_count": 50,
     "metadata": {},
     "output_type": "execute_result"
    }
   ],
   "source": [
    "data.dtypes"
   ]
  },
  {
   "cell_type": "code",
   "execution_count": 51,
   "metadata": {
    "ExecuteTime": {
     "end_time": "2021-12-29T14:45:27.309204Z",
     "start_time": "2021-12-29T14:45:27.298201Z"
    }
   },
   "outputs": [
    {
     "data": {
      "text/plain": [
       "Index(['Species', 'Island', 'Clutch Completion', 'Culmen Length (mm)',\n",
       "       'Culmen Depth (mm)', 'Flipper Length (mm)', 'Sex', 'Delta 15 N (o/oo)',\n",
       "       'Delta 13 C (o/oo)', 'Body Mass (g)'],\n",
       "      dtype='object')"
      ]
     },
     "execution_count": 51,
     "metadata": {},
     "output_type": "execute_result"
    }
   ],
   "source": [
    "data.columns"
   ]
  },
  {
   "cell_type": "code",
   "execution_count": 57,
   "metadata": {
    "ExecuteTime": {
     "end_time": "2021-12-29T14:47:03.796684Z",
     "start_time": "2021-12-29T14:47:03.787683Z"
    }
   },
   "outputs": [
    {
     "name": "stdout",
     "output_type": "stream",
     "text": [
      "수치형 데이터 : ['Culmen Length (mm)', 'Culmen Depth (mm)', 'Flipper Length (mm)', 'Delta 15 N (o/oo)', 'Delta 13 C (o/oo)', 'Body Mass (g)']\n",
      "카테고리형 데이터 : ['Species', 'Island', 'Clutch Completion', 'Sex']\n"
     ]
    }
   ],
   "source": [
    "numeric_feature =  data.columns[(data.dtypes==float)|(data.dtypes==int)|(data.dtypes!=object)]\n",
    "categorical_feature = data.columns[data.dtypes==object]\n",
    "\n",
    "print('수치형 데이터 : {}'.format(list(numeric_feature)))\n",
    "print('카테고리형 데이터 : {}'.format(list(categorical_feature)))"
   ]
  },
  {
   "cell_type": "markdown",
   "metadata": {},
   "source": [
    "## visualization"
   ]
  },
  {
   "cell_type": "markdown",
   "metadata": {},
   "source": [
    "### numerical"
   ]
  },
  {
   "cell_type": "code",
   "execution_count": 58,
   "metadata": {
    "ExecuteTime": {
     "end_time": "2021-12-29T14:47:07.602198Z",
     "start_time": "2021-12-29T14:47:07.118467Z"
    }
   },
   "outputs": [
    {
     "data": {
      "image/png": "[encoded data removed]",
      "text/plain": [
       "<Figure size 1440x1080 with 6 Axes>"
      ]
     },
     "metadata": {},
     "output_type": "display_data"
    }
   ],
   "source": [
    "# boxplot\n",
    "\n",
    "feature = numeric_feature\n",
    "\n",
    "plt.figure(figsize=(20,15))\n",
    "plt.suptitle(\"Boxplots\", fontsize=40)\n",
    "\n",
    "for i in range(len(feature)):\n",
    "    plt.subplot(2,3,i+1)\n",
    "    plt.title(feature[i])\n",
    "    plt.boxplot(data[feature[i]])\n",
    "plt.show()"
   ]
  },
  {
   "cell_type": "code",
   "execution_count": 75,
   "metadata": {
    "ExecuteTime": {
     "end_time": "2021-12-29T14:53:03.890232Z",
     "start_time": "2021-12-29T14:53:03.118270Z"
    },
    "scrolled": true
   },
   "outputs": [
    {
     "data": {
      "image/png": "[encoded data removed]",
      "text/plain": [
       "<Figure size 1440x1080 with 6 Axes>"
      ]
     },
     "metadata": {},
     "output_type": "display_data"
    }
   ],
   "source": [
    "# barplot\n",
    "\n",
    "feature = numeric_feature\n",
    "\n",
    "plt.figure(figsize=(20,15))\n",
    "plt.suptitle(\"histplots\", fontsize=40)\n",
    "\n",
    "for i in range(len(feature)):\n",
    "    plt.subplot(2,3,i+1)\n",
    "    plt.title(feature[i])\n",
    "    plt.hist(data[feature[i]])\n",
    "plt.show()"
   ]
  },
  {
   "cell_type": "markdown",
   "metadata": {},
   "source": [
    "### categorical"
   ]
  },
  {
   "cell_type": "code",
   "execution_count": null,
   "metadata": {},
   "outputs": [],
   "source": []
  }
 ],
 "metadata": {
  "hide_input": false,
  "kernelspec": {
   "display_name": "Python 3",
   "language": "python",
   "name": "python3"
  },
  "language_info": {
   "codemirror_mode": {
    "name": "ipython",
    "version": 3
   },
   "file_extension": ".py",
   "mimetype": "text/x-python",
   "name": "python",
   "nbconvert_exporter": "python",
   "pygments_lexer": "ipython3",
   "version": "3.8.3"
  },
  "toc": {
   "base_numbering": 1,
   "nav_menu": {},
   "number_sections": true,
   "sideBar": true,
   "skip_h1_title": false,
   "title_cell": "Table of Contents",
   "title_sidebar": "Contents",
   "toc_cell": false,
   "toc_position": {
    "height": "calc(100% - 180px)",
    "left": "10px",
    "top": "150px",
    "width": "165px"
   },
   "toc_section_display": true,
   "toc_window_display": true
  },
  "varInspector": {
   "cols": {
    "lenName": 16,
    "lenType": 16,
    "lenVar": 40
   },
   "kernels_config": {
    "python": {
     "delete_cmd_postfix": "",
     "delete_cmd_prefix": "del ",
     "library": "var_list.py",
     "varRefreshCmd": "print(var_dic_list())"
    },
    "r": {
     "delete_cmd_postfix": ") ",
     "delete_cmd_prefix": "rm(",
     "library": "var_list.r",
     "varRefreshCmd": "cat(var_dic_list()) "
    }
   },
   "types_to_exclude": [
    "module",
    "function",
    "builtin_function_or_method",
    "instance",
    "_Feature"
   ],
   "window_display": false
  }
 },
 "nbformat": 4,
 "nbformat_minor": 4
}
